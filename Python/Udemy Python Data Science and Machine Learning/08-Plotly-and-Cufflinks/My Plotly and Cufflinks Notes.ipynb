{
 "cells": [
  {
   "cell_type": "markdown",
   "metadata": {},
   "source": [
    "# Plotly and Cufflinks"
   ]
  },
  {
   "cell_type": "code",
   "execution_count": 5,
   "metadata": {},
   "outputs": [],
   "source": [
    "import pandas as pd\n",
    "import numpy as np\n",
    "from plotly import __version__\n",
    "import cufflinks as cs\n",
    "from plotly.offline import download_plotlyjs, init_notebook_mode, plot, iplot"
   ]
  },
  {
   "cell_type": "code",
   "execution_count": 13,
   "metadata": {},
   "outputs": [
    {
     "data": {
      "text/html": [
       "        <script type=\"text/javascript\">\n",
       "        window.PlotlyConfig = {MathJaxConfig: 'local'};\n",
       "        if (window.MathJax) {MathJax.Hub.Config({SVG: {font: \"STIX-Web\"}});}\n",
       "        if (typeof require !== 'undefined') {\n",
       "        require.undef(\"plotly\");\n",
       "        requirejs.config({\n",
       "            paths: {\n",
       "                'plotly': ['https://cdn.plot.ly/plotly-latest.min']\n",
       "            }\n",
       "        });\n",
       "        require(['plotly'], function(Plotly) {\n",
       "            window._Plotly = Plotly;\n",
       "        });\n",
       "        }\n",
       "        </script>\n",
       "        "
      ]
     },
     "metadata": {},
     "output_type": "display_data"
    }
   ],
   "source": [
    "init_notebook_mode(connected=True)"
   ]
  },
  {
   "cell_type": "code",
   "execution_count": 15,
   "metadata": {},
   "outputs": [],
   "source": [
    "%matplotlib inline"
   ]
  },
  {
   "cell_type": "code",
   "execution_count": 8,
   "metadata": {},
   "outputs": [
    {
     "data": {
      "text/html": [
       "        <script type=\"text/javascript\">\n",
       "        window.PlotlyConfig = {MathJaxConfig: 'local'};\n",
       "        if (window.MathJax) {MathJax.Hub.Config({SVG: {font: \"STIX-Web\"}});}\n",
       "        if (typeof require !== 'undefined') {\n",
       "        require.undef(\"plotly\");\n",
       "        requirejs.config({\n",
       "            paths: {\n",
       "                'plotly': ['https://cdn.plot.ly/plotly-latest.min']\n",
       "            }\n",
       "        });\n",
       "        require(['plotly'], function(Plotly) {\n",
       "            window._Plotly = Plotly;\n",
       "        });\n",
       "        }\n",
       "        </script>\n",
       "        "
      ]
     },
     "metadata": {},
     "output_type": "display_data"
    }
   ],
   "source": [
    "cs.go_offline()"
   ]
  },
  {
   "cell_type": "code",
   "execution_count": 10,
   "metadata": {},
   "outputs": [],
   "source": [
    "# Data\n",
    "df = pd.DataFrame(np.random.randn(100,4),columns='A B C D'.split())"
   ]
  },
  {
   "cell_type": "code",
   "execution_count": 11,
   "metadata": {},
   "outputs": [
    {
     "data": {
      "text/html": [
       "<div>\n",
       "<style scoped>\n",
       "    .dataframe tbody tr th:only-of-type {\n",
       "        vertical-align: middle;\n",
       "    }\n",
       "\n",
       "    .dataframe tbody tr th {\n",
       "        vertical-align: top;\n",
       "    }\n",
       "\n",
       "    .dataframe thead th {\n",
       "        text-align: right;\n",
       "    }\n",
       "</style>\n",
       "<table border=\"1\" class=\"dataframe\">\n",
       "  <thead>\n",
       "    <tr style=\"text-align: right;\">\n",
       "      <th></th>\n",
       "      <th>A</th>\n",
       "      <th>B</th>\n",
       "      <th>C</th>\n",
       "      <th>D</th>\n",
       "    </tr>\n",
       "  </thead>\n",
       "  <tbody>\n",
       "    <tr>\n",
       "      <td>0</td>\n",
       "      <td>-1.022707</td>\n",
       "      <td>-0.730563</td>\n",
       "      <td>-2.080195</td>\n",
       "      <td>-1.688994</td>\n",
       "    </tr>\n",
       "    <tr>\n",
       "      <td>1</td>\n",
       "      <td>1.109170</td>\n",
       "      <td>0.783363</td>\n",
       "      <td>-1.012249</td>\n",
       "      <td>-2.160653</td>\n",
       "    </tr>\n",
       "    <tr>\n",
       "      <td>2</td>\n",
       "      <td>-1.499397</td>\n",
       "      <td>-0.648817</td>\n",
       "      <td>1.323265</td>\n",
       "      <td>0.796917</td>\n",
       "    </tr>\n",
       "    <tr>\n",
       "      <td>3</td>\n",
       "      <td>1.876891</td>\n",
       "      <td>-1.379009</td>\n",
       "      <td>1.068653</td>\n",
       "      <td>-0.406892</td>\n",
       "    </tr>\n",
       "    <tr>\n",
       "      <td>4</td>\n",
       "      <td>-0.158407</td>\n",
       "      <td>0.831062</td>\n",
       "      <td>0.447343</td>\n",
       "      <td>1.106386</td>\n",
       "    </tr>\n",
       "  </tbody>\n",
       "</table>\n",
       "</div>"
      ],
      "text/plain": [
       "          A         B         C         D\n",
       "0 -1.022707 -0.730563 -2.080195 -1.688994\n",
       "1  1.109170  0.783363 -1.012249 -2.160653\n",
       "2 -1.499397 -0.648817  1.323265  0.796917\n",
       "3  1.876891 -1.379009  1.068653 -0.406892\n",
       "4 -0.158407  0.831062  0.447343  1.106386"
      ]
     },
     "execution_count": 11,
     "metadata": {},
     "output_type": "execute_result"
    }
   ],
   "source": [
    "df.head()"
   ]
  },
  {
   "cell_type": "code",
   "execution_count": 12,
   "metadata": {},
   "outputs": [
    {
     "data": {
      "text/html": [
       "<div>\n",
       "<style scoped>\n",
       "    .dataframe tbody tr th:only-of-type {\n",
       "        vertical-align: middle;\n",
       "    }\n",
       "\n",
       "    .dataframe tbody tr th {\n",
       "        vertical-align: top;\n",
       "    }\n",
       "\n",
       "    .dataframe thead th {\n",
       "        text-align: right;\n",
       "    }\n",
       "</style>\n",
       "<table border=\"1\" class=\"dataframe\">\n",
       "  <thead>\n",
       "    <tr style=\"text-align: right;\">\n",
       "      <th></th>\n",
       "      <th>Category</th>\n",
       "      <th>Values</th>\n",
       "    </tr>\n",
       "  </thead>\n",
       "  <tbody>\n",
       "    <tr>\n",
       "      <td>0</td>\n",
       "      <td>A</td>\n",
       "      <td>32</td>\n",
       "    </tr>\n",
       "    <tr>\n",
       "      <td>1</td>\n",
       "      <td>B</td>\n",
       "      <td>43</td>\n",
       "    </tr>\n",
       "    <tr>\n",
       "      <td>2</td>\n",
       "      <td>C</td>\n",
       "      <td>50</td>\n",
       "    </tr>\n",
       "  </tbody>\n",
       "</table>\n",
       "</div>"
      ],
      "text/plain": [
       "  Category  Values\n",
       "0        A      32\n",
       "1        B      43\n",
       "2        C      50"
      ]
     },
     "execution_count": 12,
     "metadata": {},
     "output_type": "execute_result"
    }
   ],
   "source": [
    "df2 = pd.DataFrame({'Category':'A B C'.split(), 'Values':[32,43,50]})\n",
    "df2"
   ]
  },
  {
   "cell_type": "code",
   "execution_count": 16,
   "metadata": {},
   "outputs": [
    {
     "data": {
      "text/plain": [
       "<matplotlib.axes._subplots.AxesSubplot at 0xf6d2e48>"
      ]
     },
     "execution_count": 16,
     "metadata": {},
     "output_type": "execute_result"
    },
    {
     "data": {
      "image/png": "[encoded data removed]",
      "text/plain": [
       "<Figure size 432x288 with 1 Axes>"
      ]
     },
     "metadata": {
      "needs_background": "light"
     },
     "output_type": "display_data"
    }
   ],
   "source": [
    "df.plot()"
   ]
  },
  {
   "cell_type": "code",
   "execution_count": 18,
   "metadata": {},
   "outputs": [
    {
     "data": {
      "application/vnd.plotly.v1+json": {
       "config": {
        "linkText": "Export to plot.ly",
        "plotlyServerURL": "https://plot.ly",
        "showLink": true
       },
       "data": [
        {
         "line": {
          "color": "rgba(255, 153, 51, 1.0)",
          "dash": "solid",
          "shape": "linear",
          "width": 1.3
         },
         "mode": "lines",
         "name": "A",
         "text": "",
         "type": "scatter",
         "x": [
          0,
          1,
          2,
          3,
          4,
          5,
          6,
          7,
          8,
          9,
          10,
          11,
          12,
          13,
          14,
          15,
          16,
          17,
          18,
          19,
          20,
          21,
          22,
          23,
          24,
          25,
          26,
          27,
          28,
          29,
          30,
          31,
          32,
          33,
          34,
          35,
          36,
          37,
          38,
          39,
          40,
          41,
          42,
          43,
          44,
          45,
          46,
          47,
          48,
          49,
          50,
          51,
          52,
          53,
          54,
          55,
          56,
          57,
          58,
          59,
          60,
          61,
          62,
          63,
          64,
          65,
          66,
          67,
          68,
          69,
          70,
          71,
          72,
          73,
          74,
          75,
          76,
          77,
          78,
          79,
          80,
          81,
          82,
          83,
          84,
          85,
          86,
          87,
          88,
          89,
          90,
          91,
          92,
          93,
          94,
          95,
          96,
          97,
          98,
          99
         ],
         "y": [
          -1.0227072602404605,
          1.1091700991385929,
          -1.4993969726670624,
          1.8768911811202638,
          -0.1584068038282462,
          0.5636778234135267,
          1.1643293657731082,
          -2.5453901249124367,
          -2.6995540910248312,
          0.830994313571333,
          -1.468665893590867,
          2.4870167762098214,
          0.5278277847426068,
          -2.2474017579936096,
          0.9392149363934074,
          0.333173802178018,
          -0.2518400271011279,
          0.5699429582714065,
          -0.9394005219839601,
          -0.5798540158672266,
          -1.1122285231351523,
          -0.5505823743314988,
          0.8431979643718024,
          -0.6698833258259573,
          1.4971121025574492,
          0.8110972529880883,
          -1.420772301496858,
          -1.238688195272796,
          0.738641139209335,
          0.30015097358503756,
          0.3857414137896417,
          0.7981149360380709,
          -1.09216358333296,
          -0.09947700731426419,
          -0.9575398718705561,
          -0.7941309017001477,
          0.5013365071315352,
          0.24182198672120908,
          -1.279837031259551,
          0.3465677983280072,
          2.0684845009039283,
          -0.2675234143132672,
          -0.5863391539096587,
          -2.4969552041074654,
          0.2470986876555305,
          1.5518128255305705,
          -0.781453918744178,
          -0.4864350671756053,
          1.7838960390576342,
          1.376521799342055,
          -0.02897847559348279,
          0.48547086276997553,
          1.3450898442841346,
          0.9888210486728403,
          -0.05411332033261771,
          -0.8641544902907613,
          -0.2756638826219286,
          1.5285699283236265,
          1.3448113873888643,
          -1.8769444454648108,
          -0.6671405401337398,
          -0.2922400814776645,
          0.080522552719805,
          -0.2655153357214515,
          0.17443548857794025,
          -0.20220757214113935,
          0.6085444227049939,
          -0.5398965196930543,
          -0.6486043699179436,
          0.07622659494578123,
          -1.1432441394493909,
          0.5117491223277846,
          0.5670963420711427,
          -1.556235182008322,
          2.2459400794950364,
          -0.2604219941766891,
          -1.6823252830735502,
          -2.493101370763733,
          -0.0863347511312303,
          1.443794649564759,
          -0.2011444145719318,
          0.3438950305951134,
          0.2607245037792382,
          0.792122700578744,
          1.7786098266291699,
          0.5352909661118613,
          -0.12294442612489852,
          1.1978976876974878,
          -0.3173406496272341,
          1.0472990438814478,
          0.3146805337346373,
          -0.607084650338605,
          -0.7359566251717335,
          0.4007922748288922,
          1.279517538903847,
          -0.22936483222501214,
          -0.5182994714755288,
          -0.848876107050886,
          -1.3865228467599007,
          0.18180007447279647
         ]
        },
        {
         "line": {
          "color": "rgba(55, 128, 191, 1.0)",
          "dash": "solid",
          "shape": "linear",
          "width": 1.3
         },
         "mode": "lines",
         "name": "B",
         "text": "",
         "type": "scatter",
         "x": [
          0,
          1,
          2,
          3,
          4,
          5,
          6,
          7,
          8,
          9,
          10,
          11,
          12,
          13,
          14,
          15,
          16,
          17,
          18,
          19,
          20,
          21,
          22,
          23,
          24,
          25,
          26,
          27,
          28,
          29,
          30,
          31,
          32,
          33,
          34,
          35,
          36,
          37,
          38,
          39,
          40,
          41,
          42,
          43,
          44,
          45,
          46,
          47,
          48,
          49,
          50,
          51,
          52,
          53,
          54,
          55,
          56,
          57,
          58,
          59,
          60,
          61,
          62,
          63,
          64,
          65,
          66,
          67,
          68,
          69,
          70,
          71,
          72,
          73,
          74,
          75,
          76,
          77,
          78,
          79,
          80,
          81,
          82,
          83,
          84,
          85,
          86,
          87,
          88,
          89,
          90,
          91,
          92,
          93,
          94,
          95,
          96,
          97,
          98,
          99
         ],
         "y": [
          -0.7305625969818371,
          0.783362976846267,
          -0.6488174141162153,
          -1.379008968011247,
          0.8310618838938229,
          1.1778421647831814,
          0.3084172494654089,
          1.8990195971023394,
          0.10340485577957621,
          0.059026265280790365,
          0.510536253894352,
          -2.1538459076845924,
          0.3174261488262944,
          0.049624395432911424,
          -2.128017053722008,
          0.15190610867356308,
          0.649293489777525,
          0.45449245140423905,
          -0.39329927875529924,
          -0.06602567256010221,
          0.4511054143988493,
          0.5433725229594577,
          0.4233946966960372,
          -2.1635183337437978,
          -0.7067255386231072,
          -0.6177904210856345,
          -0.6595067079822083,
          1.5510904520567041,
          0.9018668632766085,
          0.09947906700423,
          -0.15621592041765242,
          -0.33499138194246636,
          -0.5163408026271186,
          -0.8489613479258857,
          -0.730817422127436,
          -0.4181302913241633,
          0.845253121042682,
          -0.43732468963958265,
          0.8297545496830605,
          0.4800210848145044,
          1.4312458795497929,
          1.4057658280072,
          -0.13507354273338432,
          0.004364059665748205,
          0.4583635381265657,
          -2.765109052598902,
          0.5553148910686933,
          0.8156121041694133,
          -0.8534912680359814,
          -0.3247281718808031,
          -0.914863311548679,
          1.2885918351941394,
          0.1286872852343092,
          0.6769192164148923,
          -1.8215241353716114,
          -0.5550326638024027,
          0.7312939772654433,
          -1.5930312249930805,
          0.5839395041961499,
          1.0132188209501904,
          0.09522232856181102,
          0.2918764830701547,
          -2.078395139709775,
          -0.38883386936591163,
          1.1290584477657903,
          0.22100222469686198,
          -0.5834017170642858,
          -1.021387557059779,
          -0.48027663208344595,
          -1.8273357277855076,
          1.3498770608938466,
          0.40782060463651854,
          0.2042791561113294,
          -0.7512961007936723,
          0.22849117191956678,
          -0.12738404595625513,
          0.14113705734866797,
          -1.530891509798966,
          0.30243572472487723,
          -0.6496718912655635,
          1.4761457105113132,
          -0.07187302243193486,
          0.3426537813081174,
          -1.4463894894521407,
          -1.2550872424839516,
          0.5376639737146628,
          -0.46650538869834624,
          -0.23539958762750904,
          1.3502628301865927,
          1.4552023830979153,
          -0.9402921461767356,
          0.8169931580844604,
          0.17573258156189311,
          1.0799719743407135,
          -0.6885727540285529,
          -0.09289774706664905,
          1.2460258532059068,
          0.9281312404691667,
          0.4666096361580586,
          1.3531035312894115
         ]
        },
        {
         "line": {
          "color": "rgba(50, 171, 96, 1.0)",
          "dash": "solid",
          "shape": "linear",
          "width": 1.3
         },
         "mode": "lines",
         "name": "C",
         "text": "",
         "type": "scatter",
         "x": [
          0,
          1,
          2,
          3,
          4,
          5,
          6,
          7,
          8,
          9,
          10,
          11,
          12,
          13,
          14,
          15,
          16,
          17,
          18,
          19,
          20,
          21,
          22,
          23,
          24,
          25,
          26,
          27,
          28,
          29,
          30,
          31,
          32,
          33,
          34,
          35,
          36,
          37,
          38,
          39,
          40,
          41,
          42,
          43,
          44,
          45,
          46,
          47,
          48,
          49,
          50,
          51,
          52,
          53,
          54,
          55,
          56,
          57,
          58,
          59,
          60,
          61,
          62,
          63,
          64,
          65,
          66,
          67,
          68,
          69,
          70,
          71,
          72,
          73,
          74,
          75,
          76,
          77,
          78,
          79,
          80,
          81,
          82,
          83,
          84,
          85,
          86,
          87,
          88,
          89,
          90,
          91,
          92,
          93,
          94,
          95,
          96,
          97,
          98,
          99
         ],
         "y": [
          -2.0801954842530854,
          -1.012248646419635,
          1.3232652327046397,
          1.068653245193722,
          0.4473431505109954,
          -0.09759555331261434,
          0.4913939361288406,
          1.0907412801736536,
          -0.3952692084028424,
          0.9258753944397978,
          -0.7384413445378213,
          -0.31787180989326863,
          0.41700428379960064,
          0.6169563874809506,
          -0.5533118212780033,
          0.10214386353408453,
          -0.3296850142235436,
          1.0750401394967823,
          -0.45381682549475283,
          -0.16858566107054548,
          -1.85526676351296,
          1.0634692881601842,
          1.329723268726233,
          -0.09004064719788596,
          -0.5232441532800234,
          -0.5286476623586482,
          1.56954133362809,
          -0.25445912663840253,
          -0.24977001376546662,
          -0.7070986715272332,
          0.3857937791543105,
          -0.6013806674566733,
          -0.4453684923951969,
          1.1182233093725122,
          -1.2769659479554023,
          -0.5445238324820918,
          0.9990525554096598,
          0.5251609315298159,
          1.5392912526018883,
          -0.971095200299162,
          0.3675167346099236,
          0.16138437344170045,
          0.09746166488436017,
          0.22518220572810532,
          -1.1198076099048129,
          0.005111309652542074,
          0.39279883028651513,
          0.23399425783113573,
          0.11523169380654982,
          -0.12559021266810222,
          -1.0594698680160406,
          -0.7858237911363148,
          0.20117084772193605,
          -1.3251754450583033,
          0.34701632792761405,
          0.3326465503694515,
          1.3194715224871045,
          -0.9469273892058584,
          -1.4525211649807754,
          -0.7930788404805282,
          -0.5487878796047415,
          -0.8338095747373878,
          -0.18458116778035052,
          -1.8898177562650742,
          -0.9305403598408326,
          0.9600402473315202,
          0.5013522684531851,
          0.6964764986781917,
          1.1172290369042306,
          0.7992185353945016,
          -2.2048184120024428,
          -1.2889597505573922,
          0.2505191621450121,
          -1.6319268531335172,
          1.1817131103582106,
          -0.8990547247662171,
          -0.575832744607948,
          0.046390907870445426,
          -0.6227126274050468,
          0.7883913157586375,
          -0.5097836918707317,
          -0.4840801161815726,
          0.13436275960287455,
          -1.2197724595704293,
          0.2081925040015876,
          0.34192791684551804,
          0.49291742382682135,
          0.09201977043119879,
          1.3005200974593913,
          -0.3522452500997659,
          -0.3704964131275352,
          -0.0445344240652476,
          -0.5743768403100804,
          0.057713728297095264,
          -0.12423810305203296,
          -1.161102229440341,
          -0.5857461058902402,
          1.0327550810089714,
          0.5732034677469589,
          -0.66672263760295
         ]
        },
        {
         "line": {
          "color": "rgba(128, 0, 128, 1.0)",
          "dash": "solid",
          "shape": "linear",
          "width": 1.3
         },
         "mode": "lines",
         "name": "D",
         "text": "",
         "type": "scatter",
         "x": [
          0,
          1,
          2,
          3,
          4,
          5,
          6,
          7,
          8,
          9,
          10,
          11,
          12,
          13,
          14,
          15,
          16,
          17,
          18,
          19,
          20,
          21,
          22,
          23,
          24,
          25,
          26,
          27,
          28,
          29,
          30,
          31,
          32,
          33,
          34,
          35,
          36,
          37,
          38,
          39,
          40,
          41,
          42,
          43,
          44,
          45,
          46,
          47,
          48,
          49,
          50,
          51,
          52,
          53,
          54,
          55,
          56,
          57,
          58,
          59,
          60,
          61,
          62,
          63,
          64,
          65,
          66,
          67,
          68,
          69,
          70,
          71,
          72,
          73,
          74,
          75,
          76,
          77,
          78,
          79,
          80,
          81,
          82,
          83,
          84,
          85,
          86,
          87,
          88,
          89,
          90,
          91,
          92,
          93,
          94,
          95,
          96,
          97,
          98,
          99
         ],
         "y": [
          -1.6889943276061983,
          -2.160652881430035,
          0.7969173286751591,
          -0.40689200535211484,
          1.1063863317023126,
          0.32587136889469626,
          1.4251924446590751,
          -0.049343482341913554,
          0.9785306319828516,
          0.3771094275577349,
          -0.6853301746631065,
          -0.2914417143453693,
          1.8567027535640652,
          0.38481773482027093,
          -1.167859631205922,
          0.9758959747850864,
          0.8006123176344719,
          -1.5947409809288808,
          -1.6116749594079887,
          1.727215606605738,
          0.4793062714084753,
          0.23227696562282796,
          -0.8111699652442527,
          0.8580603006263023,
          -2.110505442185867,
          -0.7575236466560565,
          0.8171669972107859,
          -0.013421757194777166,
          1.7662025857914379,
          -0.35261289515712557,
          1.079640561165116,
          -0.7445062704238944,
          -0.46963426145434883,
          -1.2359576841608122,
          -1.4618667743241767,
          -0.780915455602358,
          -0.3075388802068042,
          0.5997702843507153,
          0.024773052053056865,
          1.4751266506815628,
          0.6467806287776092,
          -0.3001218548271014,
          1.1870186479845986,
          -0.09868874741332945,
          0.37117461726540174,
          -0.632524468294907,
          0.6582455184587414,
          0.5883642323078896,
          0.6166385866073346,
          -1.0086365117714602,
          0.7209498010512816,
          1.8518676997876742,
          -0.5380555147800582,
          1.4353050142899981,
          -1.6633010766887348,
          -0.06638139914457122,
          0.6647926633745758,
          0.6873425170813442,
          -1.797936163991116,
          -1.4036787270915132,
          0.26853914745105245,
          0.15194493204514142,
          1.0789440777405943,
          0.5615595901447917,
          -0.05027937318893131,
          1.1120240717042713,
          1.0122585162490714,
          -1.832084962805,
          0.1709252479939976,
          0.5953036195998925,
          0.44461255626940366,
          -0.6291055204481256,
          0.44505919105353736,
          -0.43976931296823996,
          2.6300756410925628,
          -0.5501876400864705,
          0.1944042534603992,
          -1.838459404771273,
          1.0424085057541956,
          -1.0683697407131716,
          -0.004356231692863964,
          -1.1667907859048228,
          -1.4777276088855544,
          -0.38077165182966055,
          -0.969872397000942,
          -1.6980841916299279,
          -0.9914198284593434,
          -0.07812601974476405,
          -0.018228681633305915,
          -0.8582119807432321,
          -1.1741105724168293,
          0.7246595371727618,
          -0.10326535703384612,
          -1.4573605358758739,
          -1.6148284344017703,
          -2.7529826573775713,
          -0.9974075876858838,
          -0.5177700007047001,
          -0.21831560048830448,
          -2.1412511489272905
         ]
        }
       ],
       "layout": {
        "legend": {
         "bgcolor": "#F5F6F9",
         "font": {
          "color": "#4D5663"
         }
        },
        "paper_bgcolor": "#F5F6F9",
        "plot_bgcolor": "#F5F6F9",
        "template": {
         "data": {
          "bar": [
           {
            "error_x": {
             "color": "#2a3f5f"
            },
            "error_y": {
             "color": "#2a3f5f"
            },
            "marker": {
             "line": {
              "color": "#E5ECF6",
              "width": 0.5
             }
            },
            "type": "bar"
           }
          ],
          "barpolar": [
           {
            "marker": {
             "line": {
              "color": "#E5ECF6",
              "width": 0.5
             }
            },
            "type": "barpolar"
           }
          ],
          "carpet": [
           {
            "aaxis": {
             "endlinecolor": "#2a3f5f",
             "gridcolor": "white",
             "linecolor": "white",
             "minorgridcolor": "white",
             "startlinecolor": "#2a3f5f"
            },
            "baxis": {
             "endlinecolor": "#2a3f5f",
             "gridcolor": "white",
             "linecolor": "white",
             "minorgridcolor": "white",
             "startlinecolor": "#2a3f5f"
            },
            "type": "carpet"
           }
          ],
          "choropleth": [
           {
            "colorbar": {
             "outlinewidth": 0,
             "ticks": ""
            },
            "type": "choropleth"
           }
          ],
          "contour": [
           {
            "colorbar": {
             "outlinewidth": 0,
             "ticks": ""
            },
            "colorscale": [
             [
              0,
              "#0d0887"
             ],
             [
              0.1111111111111111,
              "#46039f"
             ],
             [
              0.2222222222222222,
              "#7201a8"
             ],
             [
              0.3333333333333333,
              "#9c179e"
             ],
             [
              0.4444444444444444,
              "#bd3786"
             ],
             [
              0.5555555555555556,
              "#d8576b"
             ],
             [
              0.6666666666666666,
              "#ed7953"
             ],
             [
              0.7777777777777778,
              "#fb9f3a"
             ],
             [
              0.8888888888888888,
              "#fdca26"
             ],
             [
              1,
              "#f0f921"
             ]
            ],
            "type": "contour"
           }
          ],
          "contourcarpet": [
           {
            "colorbar": {
             "outlinewidth": 0,
             "ticks": ""
            },
            "type": "contourcarpet"
           }
          ],
          "heatmap": [
           {
            "colorbar": {
             "outlinewidth": 0,
             "ticks": ""
            },
            "colorscale": [
             [
              0,
              "#0d0887"
             ],
             [
              0.1111111111111111,
              "#46039f"
             ],
             [
              0.2222222222222222,
              "#7201a8"
             ],
             [
              0.3333333333333333,
              "#9c179e"
             ],
             [
              0.4444444444444444,
              "#bd3786"
             ],
             [
              0.5555555555555556,
              "#d8576b"
             ],
             [
              0.6666666666666666,
              "#ed7953"
             ],
             [
              0.7777777777777778,
              "#fb9f3a"
             ],
             [
              0.8888888888888888,
              "#fdca26"
             ],
             [
              1,
              "#f0f921"
             ]
            ],
            "type": "heatmap"
           }
          ],
          "heatmapgl": [
           {
            "colorbar": {
             "outlinewidth": 0,
             "ticks": ""
            },
            "colorscale": [
             [
              0,
              "#0d0887"
             ],
             [
              0.1111111111111111,
              "#46039f"
             ],
             [
              0.2222222222222222,
              "#7201a8"
             ],
             [
              0.3333333333333333,
              "#9c179e"
             ],
             [
              0.4444444444444444,
              "#bd3786"
             ],
             [
              0.5555555555555556,
              "#d8576b"
             ],
             [
              0.6666666666666666,
              "#ed7953"
             ],
             [
              0.7777777777777778,
              "#fb9f3a"
             ],
             [
              0.8888888888888888,
              "#fdca26"
             ],
             [
              1,
              "#f0f921"
             ]
            ],
            "type": "heatmapgl"
           }
          ],
          "histogram": [
           {
            "marker": {
             "colorbar": {
              "outlinewidth": 0,
              "ticks": ""
             }
            },
            "type": "histogram"
           }
          ],
          "histogram2d": [
           {
            "colorbar": {
             "outlinewidth": 0,
             "ticks": ""
            },
            "colorscale": [
             [
              0,
              "#0d0887"
             ],
             [
              0.1111111111111111,
              "#46039f"
             ],
             [
              0.2222222222222222,
              "#7201a8"
             ],
             [
              0.3333333333333333,
              "#9c179e"
             ],
             [
              0.4444444444444444,
              "#bd3786"
             ],
             [
              0.5555555555555556,
              "#d8576b"
             ],
             [
              0.6666666666666666,
              "#ed7953"
             ],
             [
              0.7777777777777778,
              "#fb9f3a"
             ],
             [
              0.8888888888888888,
              "#fdca26"
             ],
             [
              1,
              "#f0f921"
             ]
            ],
            "type": "histogram2d"
           }
          ],
          "histogram2dcontour": [
           {
            "colorbar": {
             "outlinewidth": 0,
             "ticks": ""
            },
            "colorscale": [
             [
              0,
              "#0d0887"
             ],
             [
              0.1111111111111111,
              "#46039f"
             ],
             [
              0.2222222222222222,
              "#7201a8"
             ],
             [
              0.3333333333333333,
              "#9c179e"
             ],
             [
              0.4444444444444444,
              "#bd3786"
             ],
             [
              0.5555555555555556,
              "#d8576b"
             ],
             [
              0.6666666666666666,
              "#ed7953"
             ],
             [
              0.7777777777777778,
              "#fb9f3a"
             ],
             [
              0.8888888888888888,
              "#fdca26"
             ],
             [
              1,
              "#f0f921"
             ]
            ],
            "type": "histogram2dcontour"
           }
          ],
          "mesh3d": [
           {
            "colorbar": {
             "outlinewidth": 0,
             "ticks": ""
            },
            "type": "mesh3d"
           }
          ],
          "parcoords": [
           {
            "line": {
             "colorbar": {
              "outlinewidth": 0,
              "ticks": ""
             }
            },
            "type": "parcoords"
           }
          ],
          "pie": [
           {
            "automargin": true,
            "type": "pie"
           }
          ],
          "scatter": [
           {
            "marker": {
             "colorbar": {
              "outlinewidth": 0,
              "ticks": ""
             }
            },
            "type": "scatter"
           }
          ],
          "scatter3d": [
           {
            "line": {
             "colorbar": {
              "outlinewidth": 0,
              "ticks": ""
             }
            },
            "marker": {
             "colorbar": {
              "outlinewidth": 0,
              "ticks": ""
             }
            },
            "type": "scatter3d"
           }
          ],
          "scattercarpet": [
           {
            "marker": {
             "colorbar": {
              "outlinewidth": 0,
              "ticks": ""
             }
            },
            "type": "scattercarpet"
           }
          ],
          "scattergeo": [
           {
            "marker": {
             "colorbar": {
              "outlinewidth": 0,
              "ticks": ""
             }
            },
            "type": "scattergeo"
           }
          ],
          "scattergl": [
           {
            "marker": {
             "colorbar": {
              "outlinewidth": 0,
              "ticks": ""
             }
            },
            "type": "scattergl"
           }
          ],
          "scattermapbox": [
           {
            "marker": {
             "colorbar": {
              "outlinewidth": 0,
              "ticks": ""
             }
            },
            "type": "scattermapbox"
           }
          ],
          "scatterpolar": [
           {
            "marker": {
             "colorbar": {
              "outlinewidth": 0,
              "ticks": ""
             }
            },
            "type": "scatterpolar"
           }
          ],
          "scatterpolargl": [
           {
            "marker": {
             "colorbar": {
              "outlinewidth": 0,
              "ticks": ""
             }
            },
            "type": "scatterpolargl"
           }
          ],
          "scatterternary": [
           {
            "marker": {
             "colorbar": {
              "outlinewidth": 0,
              "ticks": ""
             }
            },
            "type": "scatterternary"
           }
          ],
          "surface": [
           {
            "colorbar": {
             "outlinewidth": 0,
             "ticks": ""
            },
            "colorscale": [
             [
              0,
              "#0d0887"
             ],
             [
              0.1111111111111111,
              "#46039f"
             ],
             [
              0.2222222222222222,
              "#7201a8"
             ],
             [
              0.3333333333333333,
              "#9c179e"
             ],
             [
              0.4444444444444444,
              "#bd3786"
             ],
             [
              0.5555555555555556,
              "#d8576b"
             ],
             [
              0.6666666666666666,
              "#ed7953"
             ],
             [
              0.7777777777777778,
              "#fb9f3a"
             ],
             [
              0.8888888888888888,
              "#fdca26"
             ],
             [
              1,
              "#f0f921"
             ]
            ],
            "type": "surface"
           }
          ],
          "table": [
           {
            "cells": {
             "fill": {
              "color": "#EBF0F8"
             },
             "line": {
              "color": "white"
             }
            },
            "header": {
             "fill": {
              "color": "#C8D4E3"
             },
             "line": {
              "color": "white"
             }
            },
            "type": "table"
           }
          ]
         },
         "layout": {
          "annotationdefaults": {
           "arrowcolor": "#2a3f5f",
           "arrowhead": 0,
           "arrowwidth": 1
          },
          "coloraxis": {
           "colorbar": {
            "outlinewidth": 0,
            "ticks": ""
           }
          },
          "colorscale": {
           "diverging": [
            [
             0,
             "#8e0152"
            ],
            [
             0.1,
             "#c51b7d"
            ],
            [
             0.2,
             "#de77ae"
            ],
            [
             0.3,
             "#f1b6da"
            ],
            [
             0.4,
             "#fde0ef"
            ],
            [
             0.5,
             "#f7f7f7"
            ],
            [
             0.6,
             "#e6f5d0"
            ],
            [
             0.7,
             "#b8e186"
            ],
            [
             0.8,
             "#7fbc41"
            ],
            [
             0.9,
             "#4d9221"
            ],
            [
             1,
             "#276419"
            ]
           ],
           "sequential": [
            [
             0,
             "#0d0887"
            ],
            [
             0.1111111111111111,
             "#46039f"
            ],
            [
             0.2222222222222222,
             "#7201a8"
            ],
            [
             0.3333333333333333,
             "#9c179e"
            ],
            [
             0.4444444444444444,
             "#bd3786"
            ],
            [
             0.5555555555555556,
             "#d8576b"
            ],
            [
             0.6666666666666666,
             "#ed7953"
            ],
            [
             0.7777777777777778,
             "#fb9f3a"
            ],
            [
             0.8888888888888888,
             "#fdca26"
            ],
            [
             1,
             "#f0f921"
            ]
           ],
           "sequentialminus": [
            [
             0,
             "#0d0887"
            ],
            [
             0.1111111111111111,
             "#46039f"
            ],
            [
             0.2222222222222222,
             "#7201a8"
            ],
            [
             0.3333333333333333,
             "#9c179e"
            ],
            [
             0.4444444444444444,
             "#bd3786"
            ],
            [
             0.5555555555555556,
             "#d8576b"
            ],
            [
             0.6666666666666666,
             "#ed7953"
            ],
            [
             0.7777777777777778,
             "#fb9f3a"
            ],
            [
             0.8888888888888888,
             "#fdca26"
            ],
            [
             1,
             "#f0f921"
            ]
           ]
          },
          "colorway": [
           "#636efa",
           "#EF553B",
           "#00cc96",
           "#ab63fa",
           "#FFA15A",
           "#19d3f3",
           "#FF6692",
           "#B6E880",
           "#FF97FF",
           "#FECB52"
          ],
          "font": {
           "color": "#2a3f5f"
          },
          "geo": {
           "bgcolor": "white",
           "lakecolor": "white",
           "landcolor": "#E5ECF6",
           "showlakes": true,
           "showland": true,
           "subunitcolor": "white"
          },
          "hoverlabel": {
           "align": "left"
          },
          "hovermode": "closest",
          "mapbox": {
           "style": "light"
          },
          "paper_bgcolor": "white",
          "plot_bgcolor": "#E5ECF6",
          "polar": {
           "angularaxis": {
            "gridcolor": "white",
            "linecolor": "white",
            "ticks": ""
           },
           "bgcolor": "#E5ECF6",
           "radialaxis": {
            "gridcolor": "white",
            "linecolor": "white",
            "ticks": ""
           }
          },
          "scene": {
           "xaxis": {
            "backgroundcolor": "#E5ECF6",
            "gridcolor": "white",
            "gridwidth": 2,
            "linecolor": "white",
            "showbackground": true,
            "ticks": "",
            "zerolinecolor": "white"
           },
           "yaxis": {
            "backgroundcolor": "#E5ECF6",
            "gridcolor": "white",
            "gridwidth": 2,
            "linecolor": "white",
            "showbackground": true,
            "ticks": "",
            "zerolinecolor": "white"
           },
           "zaxis": {
            "backgroundcolor": "#E5ECF6",
            "gridcolor": "white",
            "gridwidth": 2,
            "linecolor": "white",
            "showbackground": true,
            "ticks": "",
            "zerolinecolor": "white"
           }
          },
          "shapedefaults": {
           "line": {
            "color": "#2a3f5f"
           }
          },
          "ternary": {
           "aaxis": {
            "gridcolor": "white",
            "linecolor": "white",
            "ticks": ""
           },
           "baxis": {
            "gridcolor": "white",
            "linecolor": "white",
            "ticks": ""
           },
           "bgcolor": "#E5ECF6",
           "caxis": {
            "gridcolor": "white",
            "linecolor": "white",
            "ticks": ""
           }
          },
          "title": {
           "x": 0.05
          },
          "xaxis": {
           "automargin": true,
           "gridcolor": "white",
           "linecolor": "white",
           "ticks": "",
           "title": {
            "standoff": 15
           },
           "zerolinecolor": "white",
           "zerolinewidth": 2
          },
          "yaxis": {
           "automargin": true,
           "gridcolor": "white",
           "linecolor": "white",
           "ticks": "",
           "title": {
            "standoff": 15
           },
           "zerolinecolor": "white",
           "zerolinewidth": 2
          }
         }
        },
        "title": {
         "font": {
          "color": "#4D5663"
         }
        },
        "xaxis": {
         "gridcolor": "#E1E5ED",
         "showgrid": true,
         "tickfont": {
          "color": "#4D5663"
         },
         "title": {
          "font": {
           "color": "#4D5663"
          },
          "text": ""
         },
         "zerolinecolor": "#E1E5ED"
        },
        "yaxis": {
         "gridcolor": "#E1E5ED",
         "showgrid": true,
         "tickfont": {
          "color": "#4D5663"
         },
         "title": {
          "font": {
           "color": "#4D5663"
          },
          "text": ""
         },
         "zerolinecolor": "#E1E5ED"
        }
       }
      },
      "text/html": [
       "<div>\n",
       "        \n",
       "        \n",
       "            <div id=\"d46d62c2-771d-4c30-99c6-071841c9e53c\" class=\"plotly-graph-div\" style=\"height:525px; width:100%;\"></div>\n",
       "            <script type=\"text/javascript\">\n",
       "                require([\"plotly\"], function(Plotly) {\n",
       "                    window.PLOTLYENV=window.PLOTLYENV || {};\n",
       "                    window.PLOTLYENV.BASE_URL='https://plot.ly';\n",
       "                    \n",
       "                if (document.getElementById(\"d46d62c2-771d-4c30-99c6-071841c9e53c\")) {\n",
       "                    Plotly.newPlot(\n",
       "                        'd46d62c2-771d-4c30-99c6-071841c9e53c',\n",
       "                        [{\"line\": {\"color\": \"rgba(255, 153, 51, 1.0)\", \"dash\": \"solid\", \"shape\": \"linear\", \"width\": 1.3}, \"mode\": \"lines\", \"name\": \"A\", \"text\": \"\", \"type\": \"scatter\", \"x\": [0, 1, 2, 3, 4, 5, 6, 7, 8, 9, 10, 11, 12, 13, 14, 15, 16, 17, 18, 19, 20, 21, 22, 23, 24, 25, 26, 27, 28, 29, 30, 31, 32, 33, 34, 35, 36, 37, 38, 39, 40, 41, 42, 43, 44, 45, 46, 47, 48, 49, 50, 51, 52, 53, 54, 55, 56, 57, 58, 59, 60, 61, 62, 63, 64, 65, 66, 67, 68, 69, 70, 71, 72, 73, 74, 75, 76, 77, 78, 79, 80, 81, 82, 83, 84, 85, 86, 87, 88, 89, 90, 91, 92, 93, 94, 95, 96, 97, 98, 99], \"y\": [-1.0227072602404605, 1.1091700991385929, -1.4993969726670624, 1.8768911811202638, -0.1584068038282462, 0.5636778234135267, 1.1643293657731082, -2.5453901249124367, -2.6995540910248312, 0.830994313571333, -1.468665893590867, 2.4870167762098214, 0.5278277847426068, -2.2474017579936096, 0.9392149363934074, 0.333173802178018, -0.2518400271011279, 0.5699429582714065, -0.9394005219839601, -0.5798540158672266, -1.1122285231351523, -0.5505823743314988, 0.8431979643718024, -0.6698833258259573, 1.4971121025574492, 0.8110972529880883, -1.420772301496858, -1.238688195272796, 0.738641139209335, 0.30015097358503756, 0.3857414137896417, 0.7981149360380709, -1.09216358333296, -0.09947700731426419, -0.9575398718705561, -0.7941309017001477, 0.5013365071315352, 0.24182198672120908, -1.279837031259551, 0.3465677983280072, 2.0684845009039283, -0.2675234143132672, -0.5863391539096587, -2.4969552041074654, 0.2470986876555305, 1.5518128255305705, -0.781453918744178, -0.4864350671756053, 1.7838960390576342, 1.376521799342055, -0.02897847559348279, 0.48547086276997553, 1.3450898442841346, 0.9888210486728403, -0.05411332033261771, -0.8641544902907613, -0.2756638826219286, 1.5285699283236265, 1.3448113873888643, -1.8769444454648108, -0.6671405401337398, -0.2922400814776645, 0.080522552719805, -0.2655153357214515, 0.17443548857794025, -0.20220757214113935, 0.6085444227049939, -0.5398965196930543, -0.6486043699179436, 0.07622659494578123, -1.1432441394493909, 0.5117491223277846, 0.5670963420711427, -1.556235182008322, 2.2459400794950364, -0.2604219941766891, -1.6823252830735502, -2.493101370763733, -0.0863347511312303, 1.443794649564759, -0.2011444145719318, 0.3438950305951134, 0.2607245037792382, 0.792122700578744, 1.7786098266291699, 0.5352909661118613, -0.12294442612489852, 1.1978976876974878, -0.3173406496272341, 1.0472990438814478, 0.3146805337346373, -0.607084650338605, -0.7359566251717335, 0.4007922748288922, 1.279517538903847, -0.22936483222501214, -0.5182994714755288, -0.848876107050886, -1.3865228467599007, 0.18180007447279647]}, {\"line\": {\"color\": \"rgba(55, 128, 191, 1.0)\", \"dash\": \"solid\", \"shape\": \"linear\", \"width\": 1.3}, \"mode\": \"lines\", \"name\": \"B\", \"text\": \"\", \"type\": \"scatter\", \"x\": [0, 1, 2, 3, 4, 5, 6, 7, 8, 9, 10, 11, 12, 13, 14, 15, 16, 17, 18, 19, 20, 21, 22, 23, 24, 25, 26, 27, 28, 29, 30, 31, 32, 33, 34, 35, 36, 37, 38, 39, 40, 41, 42, 43, 44, 45, 46, 47, 48, 49, 50, 51, 52, 53, 54, 55, 56, 57, 58, 59, 60, 61, 62, 63, 64, 65, 66, 67, 68, 69, 70, 71, 72, 73, 74, 75, 76, 77, 78, 79, 80, 81, 82, 83, 84, 85, 86, 87, 88, 89, 90, 91, 92, 93, 94, 95, 96, 97, 98, 99], \"y\": [-0.7305625969818371, 0.783362976846267, -0.6488174141162153, -1.379008968011247, 0.8310618838938229, 1.1778421647831814, 0.3084172494654089, 1.8990195971023394, 0.10340485577957621, 0.059026265280790365, 0.510536253894352, -2.1538459076845924, 0.3174261488262944, 0.049624395432911424, -2.128017053722008, 0.15190610867356308, 0.649293489777525, 0.45449245140423905, -0.39329927875529924, -0.06602567256010221, 0.4511054143988493, 0.5433725229594577, 0.4233946966960372, -2.1635183337437978, -0.7067255386231072, -0.6177904210856345, -0.6595067079822083, 1.5510904520567041, 0.9018668632766085, 0.09947906700423, -0.15621592041765242, -0.33499138194246636, -0.5163408026271186, -0.8489613479258857, -0.730817422127436, -0.4181302913241633, 0.845253121042682, -0.43732468963958265, 0.8297545496830605, 0.4800210848145044, 1.4312458795497929, 1.4057658280072, -0.13507354273338432, 0.004364059665748205, 0.4583635381265657, -2.765109052598902, 0.5553148910686933, 0.8156121041694133, -0.8534912680359814, -0.3247281718808031, -0.914863311548679, 1.2885918351941394, 0.1286872852343092, 0.6769192164148923, -1.8215241353716114, -0.5550326638024027, 0.7312939772654433, -1.5930312249930805, 0.5839395041961499, 1.0132188209501904, 0.09522232856181102, 0.2918764830701547, -2.078395139709775, -0.38883386936591163, 1.1290584477657903, 0.22100222469686198, -0.5834017170642858, -1.021387557059779, -0.48027663208344595, -1.8273357277855076, 1.3498770608938466, 0.40782060463651854, 0.2042791561113294, -0.7512961007936723, 0.22849117191956678, -0.12738404595625513, 0.14113705734866797, -1.530891509798966, 0.30243572472487723, -0.6496718912655635, 1.4761457105113132, -0.07187302243193486, 0.3426537813081174, -1.4463894894521407, -1.2550872424839516, 0.5376639737146628, -0.46650538869834624, -0.23539958762750904, 1.3502628301865927, 1.4552023830979153, -0.9402921461767356, 0.8169931580844604, 0.17573258156189311, 1.0799719743407135, -0.6885727540285529, -0.09289774706664905, 1.2460258532059068, 0.9281312404691667, 0.4666096361580586, 1.3531035312894115]}, {\"line\": {\"color\": \"rgba(50, 171, 96, 1.0)\", \"dash\": \"solid\", \"shape\": \"linear\", \"width\": 1.3}, \"mode\": \"lines\", \"name\": \"C\", \"text\": \"\", \"type\": \"scatter\", \"x\": [0, 1, 2, 3, 4, 5, 6, 7, 8, 9, 10, 11, 12, 13, 14, 15, 16, 17, 18, 19, 20, 21, 22, 23, 24, 25, 26, 27, 28, 29, 30, 31, 32, 33, 34, 35, 36, 37, 38, 39, 40, 41, 42, 43, 44, 45, 46, 47, 48, 49, 50, 51, 52, 53, 54, 55, 56, 57, 58, 59, 60, 61, 62, 63, 64, 65, 66, 67, 68, 69, 70, 71, 72, 73, 74, 75, 76, 77, 78, 79, 80, 81, 82, 83, 84, 85, 86, 87, 88, 89, 90, 91, 92, 93, 94, 95, 96, 97, 98, 99], \"y\": [-2.0801954842530854, -1.012248646419635, 1.3232652327046397, 1.068653245193722, 0.4473431505109954, -0.09759555331261434, 0.4913939361288406, 1.0907412801736536, -0.3952692084028424, 0.9258753944397978, -0.7384413445378213, -0.31787180989326863, 0.41700428379960064, 0.6169563874809506, -0.5533118212780033, 0.10214386353408453, -0.3296850142235436, 1.0750401394967823, -0.45381682549475283, -0.16858566107054548, -1.85526676351296, 1.0634692881601842, 1.329723268726233, -0.09004064719788596, -0.5232441532800234, -0.5286476623586482, 1.56954133362809, -0.25445912663840253, -0.24977001376546662, -0.7070986715272332, 0.3857937791543105, -0.6013806674566733, -0.4453684923951969, 1.1182233093725122, -1.2769659479554023, -0.5445238324820918, 0.9990525554096598, 0.5251609315298159, 1.5392912526018883, -0.971095200299162, 0.3675167346099236, 0.16138437344170045, 0.09746166488436017, 0.22518220572810532, -1.1198076099048129, 0.005111309652542074, 0.39279883028651513, 0.23399425783113573, 0.11523169380654982, -0.12559021266810222, -1.0594698680160406, -0.7858237911363148, 0.20117084772193605, -1.3251754450583033, 0.34701632792761405, 0.3326465503694515, 1.3194715224871045, -0.9469273892058584, -1.4525211649807754, -0.7930788404805282, -0.5487878796047415, -0.8338095747373878, -0.18458116778035052, -1.8898177562650742, -0.9305403598408326, 0.9600402473315202, 0.5013522684531851, 0.6964764986781917, 1.1172290369042306, 0.7992185353945016, -2.2048184120024428, -1.2889597505573922, 0.2505191621450121, -1.6319268531335172, 1.1817131103582106, -0.8990547247662171, -0.575832744607948, 0.046390907870445426, -0.6227126274050468, 0.7883913157586375, -0.5097836918707317, -0.4840801161815726, 0.13436275960287455, -1.2197724595704293, 0.2081925040015876, 0.34192791684551804, 0.49291742382682135, 0.09201977043119879, 1.3005200974593913, -0.3522452500997659, -0.3704964131275352, -0.0445344240652476, -0.5743768403100804, 0.057713728297095264, -0.12423810305203296, -1.161102229440341, -0.5857461058902402, 1.0327550810089714, 0.5732034677469589, -0.66672263760295]}, {\"line\": {\"color\": \"rgba(128, 0, 128, 1.0)\", \"dash\": \"solid\", \"shape\": \"linear\", \"width\": 1.3}, \"mode\": \"lines\", \"name\": \"D\", \"text\": \"\", \"type\": \"scatter\", \"x\": [0, 1, 2, 3, 4, 5, 6, 7, 8, 9, 10, 11, 12, 13, 14, 15, 16, 17, 18, 19, 20, 21, 22, 23, 24, 25, 26, 27, 28, 29, 30, 31, 32, 33, 34, 35, 36, 37, 38, 39, 40, 41, 42, 43, 44, 45, 46, 47, 48, 49, 50, 51, 52, 53, 54, 55, 56, 57, 58, 59, 60, 61, 62, 63, 64, 65, 66, 67, 68, 69, 70, 71, 72, 73, 74, 75, 76, 77, 78, 79, 80, 81, 82, 83, 84, 85, 86, 87, 88, 89, 90, 91, 92, 93, 94, 95, 96, 97, 98, 99], \"y\": [-1.6889943276061983, -2.160652881430035, 0.7969173286751591, -0.40689200535211484, 1.1063863317023126, 0.32587136889469626, 1.4251924446590751, -0.049343482341913554, 0.9785306319828516, 0.3771094275577349, -0.6853301746631065, -0.2914417143453693, 1.8567027535640652, 0.38481773482027093, -1.167859631205922, 0.9758959747850864, 0.8006123176344719, -1.5947409809288808, -1.6116749594079887, 1.727215606605738, 0.4793062714084753, 0.23227696562282796, -0.8111699652442527, 0.8580603006263023, -2.110505442185867, -0.7575236466560565, 0.8171669972107859, -0.013421757194777166, 1.7662025857914379, -0.35261289515712557, 1.079640561165116, -0.7445062704238944, -0.46963426145434883, -1.2359576841608122, -1.4618667743241767, -0.780915455602358, -0.3075388802068042, 0.5997702843507153, 0.024773052053056865, 1.4751266506815628, 0.6467806287776092, -0.3001218548271014, 1.1870186479845986, -0.09868874741332945, 0.37117461726540174, -0.632524468294907, 0.6582455184587414, 0.5883642323078896, 0.6166385866073346, -1.0086365117714602, 0.7209498010512816, 1.8518676997876742, -0.5380555147800582, 1.4353050142899981, -1.6633010766887348, -0.06638139914457122, 0.6647926633745758, 0.6873425170813442, -1.797936163991116, -1.4036787270915132, 0.26853914745105245, 0.15194493204514142, 1.0789440777405943, 0.5615595901447917, -0.05027937318893131, 1.1120240717042713, 1.0122585162490714, -1.832084962805, 0.1709252479939976, 0.5953036195998925, 0.44461255626940366, -0.6291055204481256, 0.44505919105353736, -0.43976931296823996, 2.6300756410925628, -0.5501876400864705, 0.1944042534603992, -1.838459404771273, 1.0424085057541956, -1.0683697407131716, -0.004356231692863964, -1.1667907859048228, -1.4777276088855544, -0.38077165182966055, -0.969872397000942, -1.6980841916299279, -0.9914198284593434, -0.07812601974476405, -0.018228681633305915, -0.8582119807432321, -1.1741105724168293, 0.7246595371727618, -0.10326535703384612, -1.4573605358758739, -1.6148284344017703, -2.7529826573775713, -0.9974075876858838, -0.5177700007047001, -0.21831560048830448, -2.1412511489272905]}],\n",
       "                        {\"legend\": {\"bgcolor\": \"#F5F6F9\", \"font\": {\"color\": \"#4D5663\"}}, \"paper_bgcolor\": \"#F5F6F9\", \"plot_bgcolor\": \"#F5F6F9\", \"template\": {\"data\": {\"bar\": [{\"error_x\": {\"color\": \"#2a3f5f\"}, \"error_y\": {\"color\": \"#2a3f5f\"}, \"marker\": {\"line\": {\"color\": \"#E5ECF6\", \"width\": 0.5}}, \"type\": \"bar\"}], \"barpolar\": [{\"marker\": {\"line\": {\"color\": \"#E5ECF6\", \"width\": 0.5}}, \"type\": \"barpolar\"}], \"carpet\": [{\"aaxis\": {\"endlinecolor\": \"#2a3f5f\", \"gridcolor\": \"white\", \"linecolor\": \"white\", \"minorgridcolor\": \"white\", \"startlinecolor\": \"#2a3f5f\"}, \"baxis\": {\"endlinecolor\": \"#2a3f5f\", \"gridcolor\": \"white\", \"linecolor\": \"white\", \"minorgridcolor\": \"white\", \"startlinecolor\": \"#2a3f5f\"}, \"type\": \"carpet\"}], \"choropleth\": [{\"colorbar\": {\"outlinewidth\": 0, \"ticks\": \"\"}, \"type\": \"choropleth\"}], \"contour\": [{\"colorbar\": {\"outlinewidth\": 0, \"ticks\": \"\"}, \"colorscale\": [[0.0, \"#0d0887\"], [0.1111111111111111, \"#46039f\"], [0.2222222222222222, \"#7201a8\"], [0.3333333333333333, \"#9c179e\"], [0.4444444444444444, \"#bd3786\"], [0.5555555555555556, \"#d8576b\"], [0.6666666666666666, \"#ed7953\"], [0.7777777777777778, \"#fb9f3a\"], [0.8888888888888888, \"#fdca26\"], [1.0, \"#f0f921\"]], \"type\": \"contour\"}], \"contourcarpet\": [{\"colorbar\": {\"outlinewidth\": 0, \"ticks\": \"\"}, \"type\": \"contourcarpet\"}], \"heatmap\": [{\"colorbar\": {\"outlinewidth\": 0, \"ticks\": \"\"}, \"colorscale\": [[0.0, \"#0d0887\"], [0.1111111111111111, \"#46039f\"], [0.2222222222222222, \"#7201a8\"], [0.3333333333333333, \"#9c179e\"], [0.4444444444444444, \"#bd3786\"], [0.5555555555555556, \"#d8576b\"], [0.6666666666666666, \"#ed7953\"], [0.7777777777777778, \"#fb9f3a\"], [0.8888888888888888, \"#fdca26\"], [1.0, \"#f0f921\"]], \"type\": \"heatmap\"}], \"heatmapgl\": [{\"colorbar\": {\"outlinewidth\": 0, \"ticks\": \"\"}, \"colorscale\": [[0.0, \"#0d0887\"], [0.1111111111111111, \"#46039f\"], [0.2222222222222222, \"#7201a8\"], [0.3333333333333333, \"#9c179e\"], [0.4444444444444444, \"#bd3786\"], [0.5555555555555556, \"#d8576b\"], [0.6666666666666666, \"#ed7953\"], [0.7777777777777778, \"#fb9f3a\"], [0.8888888888888888, \"#fdca26\"], [1.0, \"#f0f921\"]], \"type\": \"heatmapgl\"}], \"histogram\": [{\"marker\": {\"colorbar\": {\"outlinewidth\": 0, \"ticks\": \"\"}}, \"type\": \"histogram\"}], \"histogram2d\": [{\"colorbar\": {\"outlinewidth\": 0, \"ticks\": \"\"}, \"colorscale\": [[0.0, \"#0d0887\"], [0.1111111111111111, \"#46039f\"], [0.2222222222222222, \"#7201a8\"], [0.3333333333333333, \"#9c179e\"], [0.4444444444444444, \"#bd3786\"], [0.5555555555555556, \"#d8576b\"], [0.6666666666666666, \"#ed7953\"], [0.7777777777777778, \"#fb9f3a\"], [0.8888888888888888, \"#fdca26\"], [1.0, \"#f0f921\"]], \"type\": \"histogram2d\"}], \"histogram2dcontour\": [{\"colorbar\": {\"outlinewidth\": 0, \"ticks\": \"\"}, \"colorscale\": [[0.0, \"#0d0887\"], [0.1111111111111111, \"#46039f\"], [0.2222222222222222, \"#7201a8\"], [0.3333333333333333, \"#9c179e\"], [0.4444444444444444, \"#bd3786\"], [0.5555555555555556, \"#d8576b\"], [0.6666666666666666, \"#ed7953\"], [0.7777777777777778, \"#fb9f3a\"], [0.8888888888888888, \"#fdca26\"], [1.0, \"#f0f921\"]], \"type\": \"histogram2dcontour\"}], \"mesh3d\": [{\"colorbar\": {\"outlinewidth\": 0, \"ticks\": \"\"}, \"type\": \"mesh3d\"}], \"parcoords\": [{\"line\": {\"colorbar\": {\"outlinewidth\": 0, \"ticks\": \"\"}}, \"type\": \"parcoords\"}], \"pie\": [{\"automargin\": true, \"type\": \"pie\"}], \"scatter\": [{\"marker\": {\"colorbar\": {\"outlinewidth\": 0, \"ticks\": \"\"}}, \"type\": \"scatter\"}], \"scatter3d\": [{\"line\": {\"colorbar\": {\"outlinewidth\": 0, \"ticks\": \"\"}}, \"marker\": {\"colorbar\": {\"outlinewidth\": 0, \"ticks\": \"\"}}, \"type\": \"scatter3d\"}], \"scattercarpet\": [{\"marker\": {\"colorbar\": {\"outlinewidth\": 0, \"ticks\": \"\"}}, \"type\": \"scattercarpet\"}], \"scattergeo\": [{\"marker\": {\"colorbar\": {\"outlinewidth\": 0, \"ticks\": \"\"}}, \"type\": \"scattergeo\"}], \"scattergl\": [{\"marker\": {\"colorbar\": {\"outlinewidth\": 0, \"ticks\": \"\"}}, \"type\": \"scattergl\"}], \"scattermapbox\": [{\"marker\": {\"colorbar\": {\"outlinewidth\": 0, \"ticks\": \"\"}}, \"type\": \"scattermapbox\"}], \"scatterpolar\": [{\"marker\": {\"colorbar\": {\"outlinewidth\": 0, \"ticks\": \"\"}}, \"type\": \"scatterpolar\"}], \"scatterpolargl\": [{\"marker\": {\"colorbar\": {\"outlinewidth\": 0, \"ticks\": \"\"}}, \"type\": \"scatterpolargl\"}], \"scatterternary\": [{\"marker\": {\"colorbar\": {\"outlinewidth\": 0, \"ticks\": \"\"}}, \"type\": \"scatterternary\"}], \"surface\": [{\"colorbar\": {\"outlinewidth\": 0, \"ticks\": \"\"}, \"colorscale\": [[0.0, \"#0d0887\"], [0.1111111111111111, \"#46039f\"], [0.2222222222222222, \"#7201a8\"], [0.3333333333333333, \"#9c179e\"], [0.4444444444444444, \"#bd3786\"], [0.5555555555555556, \"#d8576b\"], [0.6666666666666666, \"#ed7953\"], [0.7777777777777778, \"#fb9f3a\"], [0.8888888888888888, \"#fdca26\"], [1.0, \"#f0f921\"]], \"type\": \"surface\"}], \"table\": [{\"cells\": {\"fill\": {\"color\": \"#EBF0F8\"}, \"line\": {\"color\": \"white\"}}, \"header\": {\"fill\": {\"color\": \"#C8D4E3\"}, \"line\": {\"color\": \"white\"}}, \"type\": \"table\"}]}, \"layout\": {\"annotationdefaults\": {\"arrowcolor\": \"#2a3f5f\", \"arrowhead\": 0, \"arrowwidth\": 1}, \"coloraxis\": {\"colorbar\": {\"outlinewidth\": 0, \"ticks\": \"\"}}, \"colorscale\": {\"diverging\": [[0, \"#8e0152\"], [0.1, \"#c51b7d\"], [0.2, \"#de77ae\"], [0.3, \"#f1b6da\"], [0.4, \"#fde0ef\"], [0.5, \"#f7f7f7\"], [0.6, \"#e6f5d0\"], [0.7, \"#b8e186\"], [0.8, \"#7fbc41\"], [0.9, \"#4d9221\"], [1, \"#276419\"]], \"sequential\": [[0.0, \"#0d0887\"], [0.1111111111111111, \"#46039f\"], [0.2222222222222222, \"#7201a8\"], [0.3333333333333333, \"#9c179e\"], [0.4444444444444444, \"#bd3786\"], [0.5555555555555556, \"#d8576b\"], [0.6666666666666666, \"#ed7953\"], [0.7777777777777778, \"#fb9f3a\"], [0.8888888888888888, \"#fdca26\"], [1.0, \"#f0f921\"]], \"sequentialminus\": [[0.0, \"#0d0887\"], [0.1111111111111111, \"#46039f\"], [0.2222222222222222, \"#7201a8\"], [0.3333333333333333, \"#9c179e\"], [0.4444444444444444, \"#bd3786\"], [0.5555555555555556, \"#d8576b\"], [0.6666666666666666, \"#ed7953\"], [0.7777777777777778, \"#fb9f3a\"], [0.8888888888888888, \"#fdca26\"], [1.0, \"#f0f921\"]]}, \"colorway\": [\"#636efa\", \"#EF553B\", \"#00cc96\", \"#ab63fa\", \"#FFA15A\", \"#19d3f3\", \"#FF6692\", \"#B6E880\", \"#FF97FF\", \"#FECB52\"], \"font\": {\"color\": \"#2a3f5f\"}, \"geo\": {\"bgcolor\": \"white\", \"lakecolor\": \"white\", \"landcolor\": \"#E5ECF6\", \"showlakes\": true, \"showland\": true, \"subunitcolor\": \"white\"}, \"hoverlabel\": {\"align\": \"left\"}, \"hovermode\": \"closest\", \"mapbox\": {\"style\": \"light\"}, \"paper_bgcolor\": \"white\", \"plot_bgcolor\": \"#E5ECF6\", \"polar\": {\"angularaxis\": {\"gridcolor\": \"white\", \"linecolor\": \"white\", \"ticks\": \"\"}, \"bgcolor\": \"#E5ECF6\", \"radialaxis\": {\"gridcolor\": \"white\", \"linecolor\": \"white\", \"ticks\": \"\"}}, \"scene\": {\"xaxis\": {\"backgroundcolor\": \"#E5ECF6\", \"gridcolor\": \"white\", \"gridwidth\": 2, \"linecolor\": \"white\", \"showbackground\": true, \"ticks\": \"\", \"zerolinecolor\": \"white\"}, \"yaxis\": {\"backgroundcolor\": \"#E5ECF6\", \"gridcolor\": \"white\", \"gridwidth\": 2, \"linecolor\": \"white\", \"showbackground\": true, \"ticks\": \"\", \"zerolinecolor\": \"white\"}, \"zaxis\": {\"backgroundcolor\": \"#E5ECF6\", \"gridcolor\": \"white\", \"gridwidth\": 2, \"linecolor\": \"white\", \"showbackground\": true, \"ticks\": \"\", \"zerolinecolor\": \"white\"}}, \"shapedefaults\": {\"line\": {\"color\": \"#2a3f5f\"}}, \"ternary\": {\"aaxis\": {\"gridcolor\": \"white\", \"linecolor\": \"white\", \"ticks\": \"\"}, \"baxis\": {\"gridcolor\": \"white\", \"linecolor\": \"white\", \"ticks\": \"\"}, \"bgcolor\": \"#E5ECF6\", \"caxis\": {\"gridcolor\": \"white\", \"linecolor\": \"white\", \"ticks\": \"\"}}, \"title\": {\"x\": 0.05}, \"xaxis\": {\"automargin\": true, \"gridcolor\": \"white\", \"linecolor\": \"white\", \"ticks\": \"\", \"title\": {\"standoff\": 15}, \"zerolinecolor\": \"white\", \"zerolinewidth\": 2}, \"yaxis\": {\"automargin\": true, \"gridcolor\": \"white\", \"linecolor\": \"white\", \"ticks\": \"\", \"title\": {\"standoff\": 15}, \"zerolinecolor\": \"white\", \"zerolinewidth\": 2}}}, \"title\": {\"font\": {\"color\": \"#4D5663\"}}, \"xaxis\": {\"gridcolor\": \"#E1E5ED\", \"showgrid\": true, \"tickfont\": {\"color\": \"#4D5663\"}, \"title\": {\"font\": {\"color\": \"#4D5663\"}, \"text\": \"\"}, \"zerolinecolor\": \"#E1E5ED\"}, \"yaxis\": {\"gridcolor\": \"#E1E5ED\", \"showgrid\": true, \"tickfont\": {\"color\": \"#4D5663\"}, \"title\": {\"font\": {\"color\": \"#4D5663\"}, \"text\": \"\"}, \"zerolinecolor\": \"#E1E5ED\"}},\n",
       "                        {\"showLink\": true, \"linkText\": \"Export to plot.ly\", \"plotlyServerURL\": \"https://plot.ly\", \"responsive\": true}\n",
       "                    ).then(function(){\n",
       "                            \n",
       "var gd = document.getElementById('d46d62c2-771d-4c30-99c6-071841c9e53c');\n",
       "var x = new MutationObserver(function (mutations, observer) {{\n",
       "        var display = window.getComputedStyle(gd).display;\n",
       "        if (!display || display === 'none') {{\n",
       "            console.log([gd, 'removed!']);\n",
       "            Plotly.purge(gd);\n",
       "            observer.disconnect();\n",
       "        }}\n",
       "}});\n",
       "\n",
       "// Listen for the removal of the full notebook cells\n",
       "var notebookContainer = gd.closest('#notebook-container');\n",
       "if (notebookContainer) {{\n",
       "    x.observe(notebookContainer, {childList: true});\n",
       "}}\n",
       "\n",
       "// Listen for the clearing of the current output cell\n",
       "var outputEl = gd.closest('.output');\n",
       "if (outputEl) {{\n",
       "    x.observe(outputEl, {childList: true});\n",
       "}}\n",
       "\n",
       "                        })\n",
       "                };\n",
       "                });\n",
       "            </script>\n",
       "        </div>"
      ]
     },
     "metadata": {},
     "output_type": "display_data"
    }
   ],
   "source": [
    "df.iplot()"
   ]
  },
  {
   "cell_type": "code",
   "execution_count": 22,
   "metadata": {},
   "outputs": [
    {
     "data": {
      "application/vnd.plotly.v1+json": {
       "config": {
        "linkText": "Export to plot.ly",
        "plotlyServerURL": "https://plot.ly",
        "showLink": true
       },
       "data": [
        {
         "line": {
          "color": "rgba(255, 153, 51, 1.0)",
          "dash": "solid",
          "shape": "linear",
          "width": 1.3
         },
         "marker": {
          "size": 20,
          "symbol": "circle"
         },
         "mode": "markers",
         "name": "B",
         "text": "",
         "type": "scatter",
         "x": [
          -1.0227072602404605,
          1.1091700991385929,
          -1.4993969726670624,
          1.8768911811202638,
          -0.1584068038282462,
          0.5636778234135267,
          1.1643293657731082,
          -2.5453901249124367,
          -2.6995540910248312,
          0.830994313571333,
          -1.468665893590867,
          2.4870167762098214,
          0.5278277847426068,
          -2.2474017579936096,
          0.9392149363934074,
          0.333173802178018,
          -0.2518400271011279,
          0.5699429582714065,
          -0.9394005219839601,
          -0.5798540158672266,
          -1.1122285231351523,
          -0.5505823743314988,
          0.8431979643718024,
          -0.6698833258259573,
          1.4971121025574492,
          0.8110972529880883,
          -1.420772301496858,
          -1.238688195272796,
          0.738641139209335,
          0.30015097358503756,
          0.3857414137896417,
          0.7981149360380709,
          -1.09216358333296,
          -0.09947700731426419,
          -0.9575398718705561,
          -0.7941309017001477,
          0.5013365071315352,
          0.24182198672120908,
          -1.279837031259551,
          0.3465677983280072,
          2.0684845009039283,
          -0.2675234143132672,
          -0.5863391539096587,
          -2.4969552041074654,
          0.2470986876555305,
          1.5518128255305705,
          -0.781453918744178,
          -0.4864350671756053,
          1.7838960390576342,
          1.376521799342055,
          -0.02897847559348279,
          0.48547086276997553,
          1.3450898442841346,
          0.9888210486728403,
          -0.05411332033261771,
          -0.8641544902907613,
          -0.2756638826219286,
          1.5285699283236265,
          1.3448113873888643,
          -1.8769444454648108,
          -0.6671405401337398,
          -0.2922400814776645,
          0.080522552719805,
          -0.2655153357214515,
          0.17443548857794025,
          -0.20220757214113935,
          0.6085444227049939,
          -0.5398965196930543,
          -0.6486043699179436,
          0.07622659494578123,
          -1.1432441394493909,
          0.5117491223277846,
          0.5670963420711427,
          -1.556235182008322,
          2.2459400794950364,
          -0.2604219941766891,
          -1.6823252830735502,
          -2.493101370763733,
          -0.0863347511312303,
          1.443794649564759,
          -0.2011444145719318,
          0.3438950305951134,
          0.2607245037792382,
          0.792122700578744,
          1.7786098266291699,
          0.5352909661118613,
          -0.12294442612489852,
          1.1978976876974878,
          -0.3173406496272341,
          1.0472990438814478,
          0.3146805337346373,
          -0.607084650338605,
          -0.7359566251717335,
          0.4007922748288922,
          1.279517538903847,
          -0.22936483222501214,
          -0.5182994714755288,
          -0.848876107050886,
          -1.3865228467599007,
          0.18180007447279647
         ],
         "y": [
          -0.7305625969818371,
          0.783362976846267,
          -0.6488174141162153,
          -1.379008968011247,
          0.8310618838938229,
          1.1778421647831814,
          0.3084172494654089,
          1.8990195971023394,
          0.10340485577957621,
          0.059026265280790365,
          0.510536253894352,
          -2.1538459076845924,
          0.3174261488262944,
          0.049624395432911424,
          -2.128017053722008,
          0.15190610867356308,
          0.649293489777525,
          0.45449245140423905,
          -0.39329927875529924,
          -0.06602567256010221,
          0.4511054143988493,
          0.5433725229594577,
          0.4233946966960372,
          -2.1635183337437978,
          -0.7067255386231072,
          -0.6177904210856345,
          -0.6595067079822083,
          1.5510904520567041,
          0.9018668632766085,
          0.09947906700423,
          -0.15621592041765242,
          -0.33499138194246636,
          -0.5163408026271186,
          -0.8489613479258857,
          -0.730817422127436,
          -0.4181302913241633,
          0.845253121042682,
          -0.43732468963958265,
          0.8297545496830605,
          0.4800210848145044,
          1.4312458795497929,
          1.4057658280072,
          -0.13507354273338432,
          0.004364059665748205,
          0.4583635381265657,
          -2.765109052598902,
          0.5553148910686933,
          0.8156121041694133,
          -0.8534912680359814,
          -0.3247281718808031,
          -0.914863311548679,
          1.2885918351941394,
          0.1286872852343092,
          0.6769192164148923,
          -1.8215241353716114,
          -0.5550326638024027,
          0.7312939772654433,
          -1.5930312249930805,
          0.5839395041961499,
          1.0132188209501904,
          0.09522232856181102,
          0.2918764830701547,
          -2.078395139709775,
          -0.38883386936591163,
          1.1290584477657903,
          0.22100222469686198,
          -0.5834017170642858,
          -1.021387557059779,
          -0.48027663208344595,
          -1.8273357277855076,
          1.3498770608938466,
          0.40782060463651854,
          0.2042791561113294,
          -0.7512961007936723,
          0.22849117191956678,
          -0.12738404595625513,
          0.14113705734866797,
          -1.530891509798966,
          0.30243572472487723,
          -0.6496718912655635,
          1.4761457105113132,
          -0.07187302243193486,
          0.3426537813081174,
          -1.4463894894521407,
          -1.2550872424839516,
          0.5376639737146628,
          -0.46650538869834624,
          -0.23539958762750904,
          1.3502628301865927,
          1.4552023830979153,
          -0.9402921461767356,
          0.8169931580844604,
          0.17573258156189311,
          1.0799719743407135,
          -0.6885727540285529,
          -0.09289774706664905,
          1.2460258532059068,
          0.9281312404691667,
          0.4666096361580586,
          1.3531035312894115
         ]
        }
       ],
       "layout": {
        "legend": {
         "bgcolor": "#F5F6F9",
         "font": {
          "color": "#4D5663"
         }
        },
        "paper_bgcolor": "#F5F6F9",
        "plot_bgcolor": "#F5F6F9",
        "template": {
         "data": {
          "bar": [
           {
            "error_x": {
             "color": "#2a3f5f"
            },
            "error_y": {
             "color": "#2a3f5f"
            },
            "marker": {
             "line": {
              "color": "#E5ECF6",
              "width": 0.5
             }
            },
            "type": "bar"
           }
          ],
          "barpolar": [
           {
            "marker": {
             "line": {
              "color": "#E5ECF6",
              "width": 0.5
             }
            },
            "type": "barpolar"
           }
          ],
          "carpet": [
           {
            "aaxis": {
             "endlinecolor": "#2a3f5f",
             "gridcolor": "white",
             "linecolor": "white",
             "minorgridcolor": "white",
             "startlinecolor": "#2a3f5f"
            },
            "baxis": {
             "endlinecolor": "#2a3f5f",
             "gridcolor": "white",
             "linecolor": "white",
             "minorgridcolor": "white",
             "startlinecolor": "#2a3f5f"
            },
            "type": "carpet"
           }
          ],
          "choropleth": [
           {
            "colorbar": {
             "outlinewidth": 0,
             "ticks": ""
            },
            "type": "choropleth"
           }
          ],
          "contour": [
           {
            "colorbar": {
             "outlinewidth": 0,
             "ticks": ""
            },
            "colorscale": [
             [
              0,
              "#0d0887"
             ],
             [
              0.1111111111111111,
              "#46039f"
             ],
             [
              0.2222222222222222,
              "#7201a8"
             ],
             [
              0.3333333333333333,
              "#9c179e"
             ],
             [
              0.4444444444444444,
              "#bd3786"
             ],
             [
              0.5555555555555556,
              "#d8576b"
             ],
             [
              0.6666666666666666,
              "#ed7953"
             ],
             [
              0.7777777777777778,
              "#fb9f3a"
             ],
             [
              0.8888888888888888,
              "#fdca26"
             ],
             [
              1,
              "#f0f921"
             ]
            ],
            "type": "contour"
           }
          ],
          "contourcarpet": [
           {
            "colorbar": {
             "outlinewidth": 0,
             "ticks": ""
            },
            "type": "contourcarpet"
           }
          ],
          "heatmap": [
           {
            "colorbar": {
             "outlinewidth": 0,
             "ticks": ""
            },
            "colorscale": [
             [
              0,
              "#0d0887"
             ],
             [
              0.1111111111111111,
              "#46039f"
             ],
             [
              0.2222222222222222,
              "#7201a8"
             ],
             [
              0.3333333333333333,
              "#9c179e"
             ],
             [
              0.4444444444444444,
              "#bd3786"
             ],
             [
              0.5555555555555556,
              "#d8576b"
             ],
             [
              0.6666666666666666,
              "#ed7953"
             ],
             [
              0.7777777777777778,
              "#fb9f3a"
             ],
             [
              0.8888888888888888,
              "#fdca26"
             ],
             [
              1,
              "#f0f921"
             ]
            ],
            "type": "heatmap"
           }
          ],
          "heatmapgl": [
           {
            "colorbar": {
             "outlinewidth": 0,
             "ticks": ""
            },
            "colorscale": [
             [
              0,
              "#0d0887"
             ],
             [
              0.1111111111111111,
              "#46039f"
             ],
             [
              0.2222222222222222,
              "#7201a8"
             ],
             [
              0.3333333333333333,
              "#9c179e"
             ],
             [
              0.4444444444444444,
              "#bd3786"
             ],
             [
              0.5555555555555556,
              "#d8576b"
             ],
             [
              0.6666666666666666,
              "#ed7953"
             ],
             [
              0.7777777777777778,
              "#fb9f3a"
             ],
             [
              0.8888888888888888,
              "#fdca26"
             ],
             [
              1,
              "#f0f921"
             ]
            ],
            "type": "heatmapgl"
           }
          ],
          "histogram": [
           {
            "marker": {
             "colorbar": {
              "outlinewidth": 0,
              "ticks": ""
             }
            },
            "type": "histogram"
           }
          ],
          "histogram2d": [
           {
            "colorbar": {
             "outlinewidth": 0,
             "ticks": ""
            },
            "colorscale": [
             [
              0,
              "#0d0887"
             ],
             [
              0.1111111111111111,
              "#46039f"
             ],
             [
              0.2222222222222222,
              "#7201a8"
             ],
             [
              0.3333333333333333,
              "#9c179e"
             ],
             [
              0.4444444444444444,
              "#bd3786"
             ],
             [
              0.5555555555555556,
              "#d8576b"
             ],
             [
              0.6666666666666666,
              "#ed7953"
             ],
             [
              0.7777777777777778,
              "#fb9f3a"
             ],
             [
              0.8888888888888888,
              "#fdca26"
             ],
             [
              1,
              "#f0f921"
             ]
            ],
            "type": "histogram2d"
           }
          ],
          "histogram2dcontour": [
           {
            "colorbar": {
             "outlinewidth": 0,
             "ticks": ""
            },
            "colorscale": [
             [
              0,
              "#0d0887"
             ],
             [
              0.1111111111111111,
              "#46039f"
             ],
             [
              0.2222222222222222,
              "#7201a8"
             ],
             [
              0.3333333333333333,
              "#9c179e"
             ],
             [
              0.4444444444444444,
              "#bd3786"
             ],
             [
              0.5555555555555556,
              "#d8576b"
             ],
             [
              0.6666666666666666,
              "#ed7953"
             ],
             [
              0.7777777777777778,
              "#fb9f3a"
             ],
             [
              0.8888888888888888,
              "#fdca26"
             ],
             [
              1,
              "#f0f921"
             ]
            ],
            "type": "histogram2dcontour"
           }
          ],
          "mesh3d": [
           {
            "colorbar": {
             "outlinewidth": 0,
             "ticks": ""
            },
            "type": "mesh3d"
           }
          ],
          "parcoords": [
           {
            "line": {
             "colorbar": {
              "outlinewidth": 0,
              "ticks": ""
             }
            },
            "type": "parcoords"
           }
          ],
          "pie": [
           {
            "automargin": true,
            "type": "pie"
           }
          ],
          "scatter": [
           {
            "marker": {
             "colorbar": {
              "outlinewidth": 0,
              "ticks": ""
             }
            },
            "type": "scatter"
           }
          ],
          "scatter3d": [
           {
            "line": {
             "colorbar": {
              "outlinewidth": 0,
              "ticks": ""
             }
            },
            "marker": {
             "colorbar": {
              "outlinewidth": 0,
              "ticks": ""
             }
            },
            "type": "scatter3d"
           }
          ],
          "scattercarpet": [
           {
            "marker": {
             "colorbar": {
              "outlinewidth": 0,
              "ticks": ""
             }
            },
            "type": "scattercarpet"
           }
          ],
          "scattergeo": [
           {
            "marker": {
             "colorbar": {
              "outlinewidth": 0,
              "ticks": ""
             }
            },
            "type": "scattergeo"
           }
          ],
          "scattergl": [
           {
            "marker": {
             "colorbar": {
              "outlinewidth": 0,
              "ticks": ""
             }
            },
            "type": "scattergl"
           }
          ],
          "scattermapbox": [
           {
            "marker": {
             "colorbar": {
              "outlinewidth": 0,
              "ticks": ""
             }
            },
            "type": "scattermapbox"
           }
          ],
          "scatterpolar": [
           {
            "marker": {
             "colorbar": {
              "outlinewidth": 0,
              "ticks": ""
             }
            },
            "type": "scatterpolar"
           }
          ],
          "scatterpolargl": [
           {
            "marker": {
             "colorbar": {
              "outlinewidth": 0,
              "ticks": ""
             }
            },
            "type": "scatterpolargl"
           }
          ],
          "scatterternary": [
           {
            "marker": {
             "colorbar": {
              "outlinewidth": 0,
              "ticks": ""
             }
            },
            "type": "scatterternary"
           }
          ],
          "surface": [
           {
            "colorbar": {
             "outlinewidth": 0,
             "ticks": ""
            },
            "colorscale": [
             [
              0,
              "#0d0887"
             ],
             [
              0.1111111111111111,
              "#46039f"
             ],
             [
              0.2222222222222222,
              "#7201a8"
             ],
             [
              0.3333333333333333,
              "#9c179e"
             ],
             [
              0.4444444444444444,
              "#bd3786"
             ],
             [
              0.5555555555555556,
              "#d8576b"
             ],
             [
              0.6666666666666666,
              "#ed7953"
             ],
             [
              0.7777777777777778,
              "#fb9f3a"
             ],
             [
              0.8888888888888888,
              "#fdca26"
             ],
             [
              1,
              "#f0f921"
             ]
            ],
            "type": "surface"
           }
          ],
          "table": [
           {
            "cells": {
             "fill": {
              "color": "#EBF0F8"
             },
             "line": {
              "color": "white"
             }
            },
            "header": {
             "fill": {
              "color": "#C8D4E3"
             },
             "line": {
              "color": "white"
             }
            },
            "type": "table"
           }
          ]
         },
         "layout": {
          "annotationdefaults": {
           "arrowcolor": "#2a3f5f",
           "arrowhead": 0,
           "arrowwidth": 1
          },
          "coloraxis": {
           "colorbar": {
            "outlinewidth": 0,
            "ticks": ""
           }
          },
          "colorscale": {
           "diverging": [
            [
             0,
             "#8e0152"
            ],
            [
             0.1,
             "#c51b7d"
            ],
            [
             0.2,
             "#de77ae"
            ],
            [
             0.3,
             "#f1b6da"
            ],
            [
             0.4,
             "#fde0ef"
            ],
            [
             0.5,
             "#f7f7f7"
            ],
            [
             0.6,
             "#e6f5d0"
            ],
            [
             0.7,
             "#b8e186"
            ],
            [
             0.8,
             "#7fbc41"
            ],
            [
             0.9,
             "#4d9221"
            ],
            [
             1,
             "#276419"
            ]
           ],
           "sequential": [
            [
             0,
             "#0d0887"
            ],
            [
             0.1111111111111111,
             "#46039f"
            ],
            [
             0.2222222222222222,
             "#7201a8"
            ],
            [
             0.3333333333333333,
             "#9c179e"
            ],
            [
             0.4444444444444444,
             "#bd3786"
            ],
            [
             0.5555555555555556,
             "#d8576b"
            ],
            [
             0.6666666666666666,
             "#ed7953"
            ],
            [
             0.7777777777777778,
             "#fb9f3a"
            ],
            [
             0.8888888888888888,
             "#fdca26"
            ],
            [
             1,
             "#f0f921"
            ]
           ],
           "sequentialminus": [
            [
             0,
             "#0d0887"
            ],
            [
             0.1111111111111111,
             "#46039f"
            ],
            [
             0.2222222222222222,
             "#7201a8"
            ],
            [
             0.3333333333333333,
             "#9c179e"
            ],
            [
             0.4444444444444444,
             "#bd3786"
            ],
            [
             0.5555555555555556,
             "#d8576b"
            ],
            [
             0.6666666666666666,
             "#ed7953"
            ],
            [
             0.7777777777777778,
             "#fb9f3a"
            ],
            [
             0.8888888888888888,
             "#fdca26"
            ],
            [
             1,
             "#f0f921"
            ]
           ]
          },
          "colorway": [
           "#636efa",
           "#EF553B",
           "#00cc96",
           "#ab63fa",
           "#FFA15A",
           "#19d3f3",
           "#FF6692",
           "#B6E880",
           "#FF97FF",
           "#FECB52"
          ],
          "font": {
           "color": "#2a3f5f"
          },
          "geo": {
           "bgcolor": "white",
           "lakecolor": "white",
           "landcolor": "#E5ECF6",
           "showlakes": true,
           "showland": true,
           "subunitcolor": "white"
          },
          "hoverlabel": {
           "align": "left"
          },
          "hovermode": "closest",
          "mapbox": {
           "style": "light"
          },
          "paper_bgcolor": "white",
          "plot_bgcolor": "#E5ECF6",
          "polar": {
           "angularaxis": {
            "gridcolor": "white",
            "linecolor": "white",
            "ticks": ""
           },
           "bgcolor": "#E5ECF6",
           "radialaxis": {
            "gridcolor": "white",
            "linecolor": "white",
            "ticks": ""
           }
          },
          "scene": {
           "xaxis": {
            "backgroundcolor": "#E5ECF6",
            "gridcolor": "white",
            "gridwidth": 2,
            "linecolor": "white",
            "showbackground": true,
            "ticks": "",
            "zerolinecolor": "white"
           },
           "yaxis": {
            "backgroundcolor": "#E5ECF6",
            "gridcolor": "white",
            "gridwidth": 2,
            "linecolor": "white",
            "showbackground": true,
            "ticks": "",
            "zerolinecolor": "white"
           },
           "zaxis": {
            "backgroundcolor": "#E5ECF6",
            "gridcolor": "white",
            "gridwidth": 2,
            "linecolor": "white",
            "showbackground": true,
            "ticks": "",
            "zerolinecolor": "white"
           }
          },
          "shapedefaults": {
           "line": {
            "color": "#2a3f5f"
           }
          },
          "ternary": {
           "aaxis": {
            "gridcolor": "white",
            "linecolor": "white",
            "ticks": ""
           },
           "baxis": {
            "gridcolor": "white",
            "linecolor": "white",
            "ticks": ""
           },
           "bgcolor": "#E5ECF6",
           "caxis": {
            "gridcolor": "white",
            "linecolor": "white",
            "ticks": ""
           }
          },
          "title": {
           "x": 0.05
          },
          "xaxis": {
           "automargin": true,
           "gridcolor": "white",
           "linecolor": "white",
           "ticks": "",
           "title": {
            "standoff": 15
           },
           "zerolinecolor": "white",
           "zerolinewidth": 2
          },
          "yaxis": {
           "automargin": true,
           "gridcolor": "white",
           "linecolor": "white",
           "ticks": "",
           "title": {
            "standoff": 15
           },
           "zerolinecolor": "white",
           "zerolinewidth": 2
          }
         }
        },
        "title": {
         "font": {
          "color": "#4D5663"
         }
        },
        "xaxis": {
         "gridcolor": "#E1E5ED",
         "showgrid": true,
         "tickfont": {
          "color": "#4D5663"
         },
         "title": {
          "font": {
           "color": "#4D5663"
          },
          "text": ""
         },
         "zerolinecolor": "#E1E5ED"
        },
        "yaxis": {
         "gridcolor": "#E1E5ED",
         "showgrid": true,
         "tickfont": {
          "color": "#4D5663"
         },
         "title": {
          "font": {
           "color": "#4D5663"
          },
          "text": ""
         },
         "zerolinecolor": "#E1E5ED"
        }
       }
      },
      "text/html": [
       "<div>\n",
       "        \n",
       "        \n",
       "            <div id=\"27c6030b-5def-442f-b3ae-cd384253f3f3\" class=\"plotly-graph-div\" style=\"height:525px; width:100%;\"></div>\n",
       "            <script type=\"text/javascript\">\n",
       "                require([\"plotly\"], function(Plotly) {\n",
       "                    window.PLOTLYENV=window.PLOTLYENV || {};\n",
       "                    window.PLOTLYENV.BASE_URL='https://plot.ly';\n",
       "                    \n",
       "                if (document.getElementById(\"27c6030b-5def-442f-b3ae-cd384253f3f3\")) {\n",
       "                    Plotly.newPlot(\n",
       "                        '27c6030b-5def-442f-b3ae-cd384253f3f3',\n",
       "                        [{\"line\": {\"color\": \"rgba(255, 153, 51, 1.0)\", \"dash\": \"solid\", \"shape\": \"linear\", \"width\": 1.3}, \"marker\": {\"size\": 20, \"symbol\": \"circle\"}, \"mode\": \"markers\", \"name\": \"B\", \"text\": \"\", \"type\": \"scatter\", \"x\": [-1.0227072602404605, 1.1091700991385929, -1.4993969726670624, 1.8768911811202638, -0.1584068038282462, 0.5636778234135267, 1.1643293657731082, -2.5453901249124367, -2.6995540910248312, 0.830994313571333, -1.468665893590867, 2.4870167762098214, 0.5278277847426068, -2.2474017579936096, 0.9392149363934074, 0.333173802178018, -0.2518400271011279, 0.5699429582714065, -0.9394005219839601, -0.5798540158672266, -1.1122285231351523, -0.5505823743314988, 0.8431979643718024, -0.6698833258259573, 1.4971121025574492, 0.8110972529880883, -1.420772301496858, -1.238688195272796, 0.738641139209335, 0.30015097358503756, 0.3857414137896417, 0.7981149360380709, -1.09216358333296, -0.09947700731426419, -0.9575398718705561, -0.7941309017001477, 0.5013365071315352, 0.24182198672120908, -1.279837031259551, 0.3465677983280072, 2.0684845009039283, -0.2675234143132672, -0.5863391539096587, -2.4969552041074654, 0.2470986876555305, 1.5518128255305705, -0.781453918744178, -0.4864350671756053, 1.7838960390576342, 1.376521799342055, -0.02897847559348279, 0.48547086276997553, 1.3450898442841346, 0.9888210486728403, -0.05411332033261771, -0.8641544902907613, -0.2756638826219286, 1.5285699283236265, 1.3448113873888643, -1.8769444454648108, -0.6671405401337398, -0.2922400814776645, 0.080522552719805, -0.2655153357214515, 0.17443548857794025, -0.20220757214113935, 0.6085444227049939, -0.5398965196930543, -0.6486043699179436, 0.07622659494578123, -1.1432441394493909, 0.5117491223277846, 0.5670963420711427, -1.556235182008322, 2.2459400794950364, -0.2604219941766891, -1.6823252830735502, -2.493101370763733, -0.0863347511312303, 1.443794649564759, -0.2011444145719318, 0.3438950305951134, 0.2607245037792382, 0.792122700578744, 1.7786098266291699, 0.5352909661118613, -0.12294442612489852, 1.1978976876974878, -0.3173406496272341, 1.0472990438814478, 0.3146805337346373, -0.607084650338605, -0.7359566251717335, 0.4007922748288922, 1.279517538903847, -0.22936483222501214, -0.5182994714755288, -0.848876107050886, -1.3865228467599007, 0.18180007447279647], \"y\": [-0.7305625969818371, 0.783362976846267, -0.6488174141162153, -1.379008968011247, 0.8310618838938229, 1.1778421647831814, 0.3084172494654089, 1.8990195971023394, 0.10340485577957621, 0.059026265280790365, 0.510536253894352, -2.1538459076845924, 0.3174261488262944, 0.049624395432911424, -2.128017053722008, 0.15190610867356308, 0.649293489777525, 0.45449245140423905, -0.39329927875529924, -0.06602567256010221, 0.4511054143988493, 0.5433725229594577, 0.4233946966960372, -2.1635183337437978, -0.7067255386231072, -0.6177904210856345, -0.6595067079822083, 1.5510904520567041, 0.9018668632766085, 0.09947906700423, -0.15621592041765242, -0.33499138194246636, -0.5163408026271186, -0.8489613479258857, -0.730817422127436, -0.4181302913241633, 0.845253121042682, -0.43732468963958265, 0.8297545496830605, 0.4800210848145044, 1.4312458795497929, 1.4057658280072, -0.13507354273338432, 0.004364059665748205, 0.4583635381265657, -2.765109052598902, 0.5553148910686933, 0.8156121041694133, -0.8534912680359814, -0.3247281718808031, -0.914863311548679, 1.2885918351941394, 0.1286872852343092, 0.6769192164148923, -1.8215241353716114, -0.5550326638024027, 0.7312939772654433, -1.5930312249930805, 0.5839395041961499, 1.0132188209501904, 0.09522232856181102, 0.2918764830701547, -2.078395139709775, -0.38883386936591163, 1.1290584477657903, 0.22100222469686198, -0.5834017170642858, -1.021387557059779, -0.48027663208344595, -1.8273357277855076, 1.3498770608938466, 0.40782060463651854, 0.2042791561113294, -0.7512961007936723, 0.22849117191956678, -0.12738404595625513, 0.14113705734866797, -1.530891509798966, 0.30243572472487723, -0.6496718912655635, 1.4761457105113132, -0.07187302243193486, 0.3426537813081174, -1.4463894894521407, -1.2550872424839516, 0.5376639737146628, -0.46650538869834624, -0.23539958762750904, 1.3502628301865927, 1.4552023830979153, -0.9402921461767356, 0.8169931580844604, 0.17573258156189311, 1.0799719743407135, -0.6885727540285529, -0.09289774706664905, 1.2460258532059068, 0.9281312404691667, 0.4666096361580586, 1.3531035312894115]}],\n",
       "                        {\"legend\": {\"bgcolor\": \"#F5F6F9\", \"font\": {\"color\": \"#4D5663\"}}, \"paper_bgcolor\": \"#F5F6F9\", \"plot_bgcolor\": \"#F5F6F9\", \"template\": {\"data\": {\"bar\": [{\"error_x\": {\"color\": \"#2a3f5f\"}, \"error_y\": {\"color\": \"#2a3f5f\"}, \"marker\": {\"line\": {\"color\": \"#E5ECF6\", \"width\": 0.5}}, \"type\": \"bar\"}], \"barpolar\": [{\"marker\": {\"line\": {\"color\": \"#E5ECF6\", \"width\": 0.5}}, \"type\": \"barpolar\"}], \"carpet\": [{\"aaxis\": {\"endlinecolor\": \"#2a3f5f\", \"gridcolor\": \"white\", \"linecolor\": \"white\", \"minorgridcolor\": \"white\", \"startlinecolor\": \"#2a3f5f\"}, \"baxis\": {\"endlinecolor\": \"#2a3f5f\", \"gridcolor\": \"white\", \"linecolor\": \"white\", \"minorgridcolor\": \"white\", \"startlinecolor\": \"#2a3f5f\"}, \"type\": \"carpet\"}], \"choropleth\": [{\"colorbar\": {\"outlinewidth\": 0, \"ticks\": \"\"}, \"type\": \"choropleth\"}], \"contour\": [{\"colorbar\": {\"outlinewidth\": 0, \"ticks\": \"\"}, \"colorscale\": [[0.0, \"#0d0887\"], [0.1111111111111111, \"#46039f\"], [0.2222222222222222, \"#7201a8\"], [0.3333333333333333, \"#9c179e\"], [0.4444444444444444, \"#bd3786\"], [0.5555555555555556, \"#d8576b\"], [0.6666666666666666, \"#ed7953\"], [0.7777777777777778, \"#fb9f3a\"], [0.8888888888888888, \"#fdca26\"], [1.0, \"#f0f921\"]], \"type\": \"contour\"}], \"contourcarpet\": [{\"colorbar\": {\"outlinewidth\": 0, \"ticks\": \"\"}, \"type\": \"contourcarpet\"}], \"heatmap\": [{\"colorbar\": {\"outlinewidth\": 0, \"ticks\": \"\"}, \"colorscale\": [[0.0, \"#0d0887\"], [0.1111111111111111, \"#46039f\"], [0.2222222222222222, \"#7201a8\"], [0.3333333333333333, \"#9c179e\"], [0.4444444444444444, \"#bd3786\"], [0.5555555555555556, \"#d8576b\"], [0.6666666666666666, \"#ed7953\"], [0.7777777777777778, \"#fb9f3a\"], [0.8888888888888888, \"#fdca26\"], [1.0, \"#f0f921\"]], \"type\": \"heatmap\"}], \"heatmapgl\": [{\"colorbar\": {\"outlinewidth\": 0, \"ticks\": \"\"}, \"colorscale\": [[0.0, \"#0d0887\"], [0.1111111111111111, \"#46039f\"], [0.2222222222222222, \"#7201a8\"], [0.3333333333333333, \"#9c179e\"], [0.4444444444444444, \"#bd3786\"], [0.5555555555555556, \"#d8576b\"], [0.6666666666666666, \"#ed7953\"], [0.7777777777777778, \"#fb9f3a\"], [0.8888888888888888, \"#fdca26\"], [1.0, \"#f0f921\"]], \"type\": \"heatmapgl\"}], \"histogram\": [{\"marker\": {\"colorbar\": {\"outlinewidth\": 0, \"ticks\": \"\"}}, \"type\": \"histogram\"}], \"histogram2d\": [{\"colorbar\": {\"outlinewidth\": 0, \"ticks\": \"\"}, \"colorscale\": [[0.0, \"#0d0887\"], [0.1111111111111111, \"#46039f\"], [0.2222222222222222, \"#7201a8\"], [0.3333333333333333, \"#9c179e\"], [0.4444444444444444, \"#bd3786\"], [0.5555555555555556, \"#d8576b\"], [0.6666666666666666, \"#ed7953\"], [0.7777777777777778, \"#fb9f3a\"], [0.8888888888888888, \"#fdca26\"], [1.0, \"#f0f921\"]], \"type\": \"histogram2d\"}], \"histogram2dcontour\": [{\"colorbar\": {\"outlinewidth\": 0, \"ticks\": \"\"}, \"colorscale\": [[0.0, \"#0d0887\"], [0.1111111111111111, \"#46039f\"], [0.2222222222222222, \"#7201a8\"], [0.3333333333333333, \"#9c179e\"], [0.4444444444444444, \"#bd3786\"], [0.5555555555555556, \"#d8576b\"], [0.6666666666666666, \"#ed7953\"], [0.7777777777777778, \"#fb9f3a\"], [0.8888888888888888, \"#fdca26\"], [1.0, \"#f0f921\"]], \"type\": \"histogram2dcontour\"}], \"mesh3d\": [{\"colorbar\": {\"outlinewidth\": 0, \"ticks\": \"\"}, \"type\": \"mesh3d\"}], \"parcoords\": [{\"line\": {\"colorbar\": {\"outlinewidth\": 0, \"ticks\": \"\"}}, \"type\": \"parcoords\"}], \"pie\": [{\"automargin\": true, \"type\": \"pie\"}], \"scatter\": [{\"marker\": {\"colorbar\": {\"outlinewidth\": 0, \"ticks\": \"\"}}, \"type\": \"scatter\"}], \"scatter3d\": [{\"line\": {\"colorbar\": {\"outlinewidth\": 0, \"ticks\": \"\"}}, \"marker\": {\"colorbar\": {\"outlinewidth\": 0, \"ticks\": \"\"}}, \"type\": \"scatter3d\"}], \"scattercarpet\": [{\"marker\": {\"colorbar\": {\"outlinewidth\": 0, \"ticks\": \"\"}}, \"type\": \"scattercarpet\"}], \"scattergeo\": [{\"marker\": {\"colorbar\": {\"outlinewidth\": 0, \"ticks\": \"\"}}, \"type\": \"scattergeo\"}], \"scattergl\": [{\"marker\": {\"colorbar\": {\"outlinewidth\": 0, \"ticks\": \"\"}}, \"type\": \"scattergl\"}], \"scattermapbox\": [{\"marker\": {\"colorbar\": {\"outlinewidth\": 0, \"ticks\": \"\"}}, \"type\": \"scattermapbox\"}], \"scatterpolar\": [{\"marker\": {\"colorbar\": {\"outlinewidth\": 0, \"ticks\": \"\"}}, \"type\": \"scatterpolar\"}], \"scatterpolargl\": [{\"marker\": {\"colorbar\": {\"outlinewidth\": 0, \"ticks\": \"\"}}, \"type\": \"scatterpolargl\"}], \"scatterternary\": [{\"marker\": {\"colorbar\": {\"outlinewidth\": 0, \"ticks\": \"\"}}, \"type\": \"scatterternary\"}], \"surface\": [{\"colorbar\": {\"outlinewidth\": 0, \"ticks\": \"\"}, \"colorscale\": [[0.0, \"#0d0887\"], [0.1111111111111111, \"#46039f\"], [0.2222222222222222, \"#7201a8\"], [0.3333333333333333, \"#9c179e\"], [0.4444444444444444, \"#bd3786\"], [0.5555555555555556, \"#d8576b\"], [0.6666666666666666, \"#ed7953\"], [0.7777777777777778, \"#fb9f3a\"], [0.8888888888888888, \"#fdca26\"], [1.0, \"#f0f921\"]], \"type\": \"surface\"}], \"table\": [{\"cells\": {\"fill\": {\"color\": \"#EBF0F8\"}, \"line\": {\"color\": \"white\"}}, \"header\": {\"fill\": {\"color\": \"#C8D4E3\"}, \"line\": {\"color\": \"white\"}}, \"type\": \"table\"}]}, \"layout\": {\"annotationdefaults\": {\"arrowcolor\": \"#2a3f5f\", \"arrowhead\": 0, \"arrowwidth\": 1}, \"coloraxis\": {\"colorbar\": {\"outlinewidth\": 0, \"ticks\": \"\"}}, \"colorscale\": {\"diverging\": [[0, \"#8e0152\"], [0.1, \"#c51b7d\"], [0.2, \"#de77ae\"], [0.3, \"#f1b6da\"], [0.4, \"#fde0ef\"], [0.5, \"#f7f7f7\"], [0.6, \"#e6f5d0\"], [0.7, \"#b8e186\"], [0.8, \"#7fbc41\"], [0.9, \"#4d9221\"], [1, \"#276419\"]], \"sequential\": [[0.0, \"#0d0887\"], [0.1111111111111111, \"#46039f\"], [0.2222222222222222, \"#7201a8\"], [0.3333333333333333, \"#9c179e\"], [0.4444444444444444, \"#bd3786\"], [0.5555555555555556, \"#d8576b\"], [0.6666666666666666, \"#ed7953\"], [0.7777777777777778, \"#fb9f3a\"], [0.8888888888888888, \"#fdca26\"], [1.0, \"#f0f921\"]], \"sequentialminus\": [[0.0, \"#0d0887\"], [0.1111111111111111, \"#46039f\"], [0.2222222222222222, \"#7201a8\"], [0.3333333333333333, \"#9c179e\"], [0.4444444444444444, \"#bd3786\"], [0.5555555555555556, \"#d8576b\"], [0.6666666666666666, \"#ed7953\"], [0.7777777777777778, \"#fb9f3a\"], [0.8888888888888888, \"#fdca26\"], [1.0, \"#f0f921\"]]}, \"colorway\": [\"#636efa\", \"#EF553B\", \"#00cc96\", \"#ab63fa\", \"#FFA15A\", \"#19d3f3\", \"#FF6692\", \"#B6E880\", \"#FF97FF\", \"#FECB52\"], \"font\": {\"color\": \"#2a3f5f\"}, \"geo\": {\"bgcolor\": \"white\", \"lakecolor\": \"white\", \"landcolor\": \"#E5ECF6\", \"showlakes\": true, \"showland\": true, \"subunitcolor\": \"white\"}, \"hoverlabel\": {\"align\": \"left\"}, \"hovermode\": \"closest\", \"mapbox\": {\"style\": \"light\"}, \"paper_bgcolor\": \"white\", \"plot_bgcolor\": \"#E5ECF6\", \"polar\": {\"angularaxis\": {\"gridcolor\": \"white\", \"linecolor\": \"white\", \"ticks\": \"\"}, \"bgcolor\": \"#E5ECF6\", \"radialaxis\": {\"gridcolor\": \"white\", \"linecolor\": \"white\", \"ticks\": \"\"}}, \"scene\": {\"xaxis\": {\"backgroundcolor\": \"#E5ECF6\", \"gridcolor\": \"white\", \"gridwidth\": 2, \"linecolor\": \"white\", \"showbackground\": true, \"ticks\": \"\", \"zerolinecolor\": \"white\"}, \"yaxis\": {\"backgroundcolor\": \"#E5ECF6\", \"gridcolor\": \"white\", \"gridwidth\": 2, \"linecolor\": \"white\", \"showbackground\": true, \"ticks\": \"\", \"zerolinecolor\": \"white\"}, \"zaxis\": {\"backgroundcolor\": \"#E5ECF6\", \"gridcolor\": \"white\", \"gridwidth\": 2, \"linecolor\": \"white\", \"showbackground\": true, \"ticks\": \"\", \"zerolinecolor\": \"white\"}}, \"shapedefaults\": {\"line\": {\"color\": \"#2a3f5f\"}}, \"ternary\": {\"aaxis\": {\"gridcolor\": \"white\", \"linecolor\": \"white\", \"ticks\": \"\"}, \"baxis\": {\"gridcolor\": \"white\", \"linecolor\": \"white\", \"ticks\": \"\"}, \"bgcolor\": \"#E5ECF6\", \"caxis\": {\"gridcolor\": \"white\", \"linecolor\": \"white\", \"ticks\": \"\"}}, \"title\": {\"x\": 0.05}, \"xaxis\": {\"automargin\": true, \"gridcolor\": \"white\", \"linecolor\": \"white\", \"ticks\": \"\", \"title\": {\"standoff\": 15}, \"zerolinecolor\": \"white\", \"zerolinewidth\": 2}, \"yaxis\": {\"automargin\": true, \"gridcolor\": \"white\", \"linecolor\": \"white\", \"ticks\": \"\", \"title\": {\"standoff\": 15}, \"zerolinecolor\": \"white\", \"zerolinewidth\": 2}}}, \"title\": {\"font\": {\"color\": \"#4D5663\"}}, \"xaxis\": {\"gridcolor\": \"#E1E5ED\", \"showgrid\": true, \"tickfont\": {\"color\": \"#4D5663\"}, \"title\": {\"font\": {\"color\": \"#4D5663\"}, \"text\": \"\"}, \"zerolinecolor\": \"#E1E5ED\"}, \"yaxis\": {\"gridcolor\": \"#E1E5ED\", \"showgrid\": true, \"tickfont\": {\"color\": \"#4D5663\"}, \"title\": {\"font\": {\"color\": \"#4D5663\"}, \"text\": \"\"}, \"zerolinecolor\": \"#E1E5ED\"}},\n",
       "                        {\"showLink\": true, \"linkText\": \"Export to plot.ly\", \"plotlyServerURL\": \"https://plot.ly\", \"responsive\": true}\n",
       "                    ).then(function(){\n",
       "                            \n",
       "var gd = document.getElementById('27c6030b-5def-442f-b3ae-cd384253f3f3');\n",
       "var x = new MutationObserver(function (mutations, observer) {{\n",
       "        var display = window.getComputedStyle(gd).display;\n",
       "        if (!display || display === 'none') {{\n",
       "            console.log([gd, 'removed!']);\n",
       "            Plotly.purge(gd);\n",
       "            observer.disconnect();\n",
       "        }}\n",
       "}});\n",
       "\n",
       "// Listen for the removal of the full notebook cells\n",
       "var notebookContainer = gd.closest('#notebook-container');\n",
       "if (notebookContainer) {{\n",
       "    x.observe(notebookContainer, {childList: true});\n",
       "}}\n",
       "\n",
       "// Listen for the clearing of the current output cell\n",
       "var outputEl = gd.closest('.output');\n",
       "if (outputEl) {{\n",
       "    x.observe(outputEl, {childList: true});\n",
       "}}\n",
       "\n",
       "                        })\n",
       "                };\n",
       "                });\n",
       "            </script>\n",
       "        </div>"
      ]
     },
     "metadata": {},
     "output_type": "display_data"
    }
   ],
   "source": [
    "df.iplot(kind='scatter', x='A',y='B',mode='markers',size=20)"
   ]
  },
  {
   "cell_type": "code",
   "execution_count": 23,
   "metadata": {},
   "outputs": [
    {
     "data": {
      "application/vnd.plotly.v1+json": {
       "config": {
        "linkText": "Export to plot.ly",
        "plotlyServerURL": "https://plot.ly",
        "showLink": true
       },
       "data": [
        {
         "marker": {
          "color": "rgba(255, 153, 51, 0.6)",
          "line": {
           "color": "rgba(255, 153, 51, 1.0)",
           "width": 1
          }
         },
         "name": "Values",
         "orientation": "v",
         "text": "",
         "type": "bar",
         "x": [
          "A",
          "B",
          "C"
         ],
         "y": [
          32,
          43,
          50
         ]
        }
       ],
       "layout": {
        "legend": {
         "bgcolor": "#F5F6F9",
         "font": {
          "color": "#4D5663"
         }
        },
        "paper_bgcolor": "#F5F6F9",
        "plot_bgcolor": "#F5F6F9",
        "template": {
         "data": {
          "bar": [
           {
            "error_x": {
             "color": "#2a3f5f"
            },
            "error_y": {
             "color": "#2a3f5f"
            },
            "marker": {
             "line": {
              "color": "#E5ECF6",
              "width": 0.5
             }
            },
            "type": "bar"
           }
          ],
          "barpolar": [
           {
            "marker": {
             "line": {
              "color": "#E5ECF6",
              "width": 0.5
             }
            },
            "type": "barpolar"
           }
          ],
          "carpet": [
           {
            "aaxis": {
             "endlinecolor": "#2a3f5f",
             "gridcolor": "white",
             "linecolor": "white",
             "minorgridcolor": "white",
             "startlinecolor": "#2a3f5f"
            },
            "baxis": {
             "endlinecolor": "#2a3f5f",
             "gridcolor": "white",
             "linecolor": "white",
             "minorgridcolor": "white",
             "startlinecolor": "#2a3f5f"
            },
            "type": "carpet"
           }
          ],
          "choropleth": [
           {
            "colorbar": {
             "outlinewidth": 0,
             "ticks": ""
            },
            "type": "choropleth"
           }
          ],
          "contour": [
           {
            "colorbar": {
             "outlinewidth": 0,
             "ticks": ""
            },
            "colorscale": [
             [
              0,
              "#0d0887"
             ],
             [
              0.1111111111111111,
              "#46039f"
             ],
             [
              0.2222222222222222,
              "#7201a8"
             ],
             [
              0.3333333333333333,
              "#9c179e"
             ],
             [
              0.4444444444444444,
              "#bd3786"
             ],
             [
              0.5555555555555556,
              "#d8576b"
             ],
             [
              0.6666666666666666,
              "#ed7953"
             ],
             [
              0.7777777777777778,
              "#fb9f3a"
             ],
             [
              0.8888888888888888,
              "#fdca26"
             ],
             [
              1,
              "#f0f921"
             ]
            ],
            "type": "contour"
           }
          ],
          "contourcarpet": [
           {
            "colorbar": {
             "outlinewidth": 0,
             "ticks": ""
            },
            "type": "contourcarpet"
           }
          ],
          "heatmap": [
           {
            "colorbar": {
             "outlinewidth": 0,
             "ticks": ""
            },
            "colorscale": [
             [
              0,
              "#0d0887"
             ],
             [
              0.1111111111111111,
              "#46039f"
             ],
             [
              0.2222222222222222,
              "#7201a8"
             ],
             [
              0.3333333333333333,
              "#9c179e"
             ],
             [
              0.4444444444444444,
              "#bd3786"
             ],
             [
              0.5555555555555556,
              "#d8576b"
             ],
             [
              0.6666666666666666,
              "#ed7953"
             ],
             [
              0.7777777777777778,
              "#fb9f3a"
             ],
             [
              0.8888888888888888,
              "#fdca26"
             ],
             [
              1,
              "#f0f921"
             ]
            ],
            "type": "heatmap"
           }
          ],
          "heatmapgl": [
           {
            "colorbar": {
             "outlinewidth": 0,
             "ticks": ""
            },
            "colorscale": [
             [
              0,
              "#0d0887"
             ],
             [
              0.1111111111111111,
              "#46039f"
             ],
             [
              0.2222222222222222,
              "#7201a8"
             ],
             [
              0.3333333333333333,
              "#9c179e"
             ],
             [
              0.4444444444444444,
              "#bd3786"
             ],
             [
              0.5555555555555556,
              "#d8576b"
             ],
             [
              0.6666666666666666,
              "#ed7953"
             ],
             [
              0.7777777777777778,
              "#fb9f3a"
             ],
             [
              0.8888888888888888,
              "#fdca26"
             ],
             [
              1,
              "#f0f921"
             ]
            ],
            "type": "heatmapgl"
           }
          ],
          "histogram": [
           {
            "marker": {
             "colorbar": {
              "outlinewidth": 0,
              "ticks": ""
             }
            },
            "type": "histogram"
           }
          ],
          "histogram2d": [
           {
            "colorbar": {
             "outlinewidth": 0,
             "ticks": ""
            },
            "colorscale": [
             [
              0,
              "#0d0887"
             ],
             [
              0.1111111111111111,
              "#46039f"
             ],
             [
              0.2222222222222222,
              "#7201a8"
             ],
             [
              0.3333333333333333,
              "#9c179e"
             ],
             [
              0.4444444444444444,
              "#bd3786"
             ],
             [
              0.5555555555555556,
              "#d8576b"
             ],
             [
              0.6666666666666666,
              "#ed7953"
             ],
             [
              0.7777777777777778,
              "#fb9f3a"
             ],
             [
              0.8888888888888888,
              "#fdca26"
             ],
             [
              1,
              "#f0f921"
             ]
            ],
            "type": "histogram2d"
           }
          ],
          "histogram2dcontour": [
           {
            "colorbar": {
             "outlinewidth": 0,
             "ticks": ""
            },
            "colorscale": [
             [
              0,
              "#0d0887"
             ],
             [
              0.1111111111111111,
              "#46039f"
             ],
             [
              0.2222222222222222,
              "#7201a8"
             ],
             [
              0.3333333333333333,
              "#9c179e"
             ],
             [
              0.4444444444444444,
              "#bd3786"
             ],
             [
              0.5555555555555556,
              "#d8576b"
             ],
             [
              0.6666666666666666,
              "#ed7953"
             ],
             [
              0.7777777777777778,
              "#fb9f3a"
             ],
             [
              0.8888888888888888,
              "#fdca26"
             ],
             [
              1,
              "#f0f921"
             ]
            ],
            "type": "histogram2dcontour"
           }
          ],
          "mesh3d": [
           {
            "colorbar": {
             "outlinewidth": 0,
             "ticks": ""
            },
            "type": "mesh3d"
           }
          ],
          "parcoords": [
           {
            "line": {
             "colorbar": {
              "outlinewidth": 0,
              "ticks": ""
             }
            },
            "type": "parcoords"
           }
          ],
          "pie": [
           {
            "automargin": true,
            "type": "pie"
           }
          ],
          "scatter": [
           {
            "marker": {
             "colorbar": {
              "outlinewidth": 0,
              "ticks": ""
             }
            },
            "type": "scatter"
           }
          ],
          "scatter3d": [
           {
            "line": {
             "colorbar": {
              "outlinewidth": 0,
              "ticks": ""
             }
            },
            "marker": {
             "colorbar": {
              "outlinewidth": 0,
              "ticks": ""
             }
            },
            "type": "scatter3d"
           }
          ],
          "scattercarpet": [
           {
            "marker": {
             "colorbar": {
              "outlinewidth": 0,
              "ticks": ""
             }
            },
            "type": "scattercarpet"
           }
          ],
          "scattergeo": [
           {
            "marker": {
             "colorbar": {
              "outlinewidth": 0,
              "ticks": ""
             }
            },
            "type": "scattergeo"
           }
          ],
          "scattergl": [
           {
            "marker": {
             "colorbar": {
              "outlinewidth": 0,
              "ticks": ""
             }
            },
            "type": "scattergl"
           }
          ],
          "scattermapbox": [
           {
            "marker": {
             "colorbar": {
              "outlinewidth": 0,
              "ticks": ""
             }
            },
            "type": "scattermapbox"
           }
          ],
          "scatterpolar": [
           {
            "marker": {
             "colorbar": {
              "outlinewidth": 0,
              "ticks": ""
             }
            },
            "type": "scatterpolar"
           }
          ],
          "scatterpolargl": [
           {
            "marker": {
             "colorbar": {
              "outlinewidth": 0,
              "ticks": ""
             }
            },
            "type": "scatterpolargl"
           }
          ],
          "scatterternary": [
           {
            "marker": {
             "colorbar": {
              "outlinewidth": 0,
              "ticks": ""
             }
            },
            "type": "scatterternary"
           }
          ],
          "surface": [
           {
            "colorbar": {
             "outlinewidth": 0,
             "ticks": ""
            },
            "colorscale": [
             [
              0,
              "#0d0887"
             ],
             [
              0.1111111111111111,
              "#46039f"
             ],
             [
              0.2222222222222222,
              "#7201a8"
             ],
             [
              0.3333333333333333,
              "#9c179e"
             ],
             [
              0.4444444444444444,
              "#bd3786"
             ],
             [
              0.5555555555555556,
              "#d8576b"
             ],
             [
              0.6666666666666666,
              "#ed7953"
             ],
             [
              0.7777777777777778,
              "#fb9f3a"
             ],
             [
              0.8888888888888888,
              "#fdca26"
             ],
             [
              1,
              "#f0f921"
             ]
            ],
            "type": "surface"
           }
          ],
          "table": [
           {
            "cells": {
             "fill": {
              "color": "#EBF0F8"
             },
             "line": {
              "color": "white"
             }
            },
            "header": {
             "fill": {
              "color": "#C8D4E3"
             },
             "line": {
              "color": "white"
             }
            },
            "type": "table"
           }
          ]
         },
         "layout": {
          "annotationdefaults": {
           "arrowcolor": "#2a3f5f",
           "arrowhead": 0,
           "arrowwidth": 1
          },
          "coloraxis": {
           "colorbar": {
            "outlinewidth": 0,
            "ticks": ""
           }
          },
          "colorscale": {
           "diverging": [
            [
             0,
             "#8e0152"
            ],
            [
             0.1,
             "#c51b7d"
            ],
            [
             0.2,
             "#de77ae"
            ],
            [
             0.3,
             "#f1b6da"
            ],
            [
             0.4,
             "#fde0ef"
            ],
            [
             0.5,
             "#f7f7f7"
            ],
            [
             0.6,
             "#e6f5d0"
            ],
            [
             0.7,
             "#b8e186"
            ],
            [
             0.8,
             "#7fbc41"
            ],
            [
             0.9,
             "#4d9221"
            ],
            [
             1,
             "#276419"
            ]
           ],
           "sequential": [
            [
             0,
             "#0d0887"
            ],
            [
             0.1111111111111111,
             "#46039f"
            ],
            [
             0.2222222222222222,
             "#7201a8"
            ],
            [
             0.3333333333333333,
             "#9c179e"
            ],
            [
             0.4444444444444444,
             "#bd3786"
            ],
            [
             0.5555555555555556,
             "#d8576b"
            ],
            [
             0.6666666666666666,
             "#ed7953"
            ],
            [
             0.7777777777777778,
             "#fb9f3a"
            ],
            [
             0.8888888888888888,
             "#fdca26"
            ],
            [
             1,
             "#f0f921"
            ]
           ],
           "sequentialminus": [
            [
             0,
             "#0d0887"
            ],
            [
             0.1111111111111111,
             "#46039f"
            ],
            [
             0.2222222222222222,
             "#7201a8"
            ],
            [
             0.3333333333333333,
             "#9c179e"
            ],
            [
             0.4444444444444444,
             "#bd3786"
            ],
            [
             0.5555555555555556,
             "#d8576b"
            ],
            [
             0.6666666666666666,
             "#ed7953"
            ],
            [
             0.7777777777777778,
             "#fb9f3a"
            ],
            [
             0.8888888888888888,
             "#fdca26"
            ],
            [
             1,
             "#f0f921"
            ]
           ]
          },
          "colorway": [
           "#636efa",
           "#EF553B",
           "#00cc96",
           "#ab63fa",
           "#FFA15A",
           "#19d3f3",
           "#FF6692",
           "#B6E880",
           "#FF97FF",
           "#FECB52"
          ],
          "font": {
           "color": "#2a3f5f"
          },
          "geo": {
           "bgcolor": "white",
           "lakecolor": "white",
           "landcolor": "#E5ECF6",
           "showlakes": true,
           "showland": true,
           "subunitcolor": "white"
          },
          "hoverlabel": {
           "align": "left"
          },
          "hovermode": "closest",
          "mapbox": {
           "style": "light"
          },
          "paper_bgcolor": "white",
          "plot_bgcolor": "#E5ECF6",
          "polar": {
           "angularaxis": {
            "gridcolor": "white",
            "linecolor": "white",
            "ticks": ""
           },
           "bgcolor": "#E5ECF6",
           "radialaxis": {
            "gridcolor": "white",
            "linecolor": "white",
            "ticks": ""
           }
          },
          "scene": {
           "xaxis": {
            "backgroundcolor": "#E5ECF6",
            "gridcolor": "white",
            "gridwidth": 2,
            "linecolor": "white",
            "showbackground": true,
            "ticks": "",
            "zerolinecolor": "white"
           },
           "yaxis": {
            "backgroundcolor": "#E5ECF6",
            "gridcolor": "white",
            "gridwidth": 2,
            "linecolor": "white",
            "showbackground": true,
            "ticks": "",
            "zerolinecolor": "white"
           },
           "zaxis": {
            "backgroundcolor": "#E5ECF6",
            "gridcolor": "white",
            "gridwidth": 2,
            "linecolor": "white",
            "showbackground": true,
            "ticks": "",
            "zerolinecolor": "white"
           }
          },
          "shapedefaults": {
           "line": {
            "color": "#2a3f5f"
           }
          },
          "ternary": {
           "aaxis": {
            "gridcolor": "white",
            "linecolor": "white",
            "ticks": ""
           },
           "baxis": {
            "gridcolor": "white",
            "linecolor": "white",
            "ticks": ""
           },
           "bgcolor": "#E5ECF6",
           "caxis": {
            "gridcolor": "white",
            "linecolor": "white",
            "ticks": ""
           }
          },
          "title": {
           "x": 0.05
          },
          "xaxis": {
           "automargin": true,
           "gridcolor": "white",
           "linecolor": "white",
           "ticks": "",
           "title": {
            "standoff": 15
           },
           "zerolinecolor": "white",
           "zerolinewidth": 2
          },
          "yaxis": {
           "automargin": true,
           "gridcolor": "white",
           "linecolor": "white",
           "ticks": "",
           "title": {
            "standoff": 15
           },
           "zerolinecolor": "white",
           "zerolinewidth": 2
          }
         }
        },
        "title": {
         "font": {
          "color": "#4D5663"
         }
        },
        "xaxis": {
         "gridcolor": "#E1E5ED",
         "showgrid": true,
         "tickfont": {
          "color": "#4D5663"
         },
         "title": {
          "font": {
           "color": "#4D5663"
          },
          "text": ""
         },
         "zerolinecolor": "#E1E5ED"
        },
        "yaxis": {
         "gridcolor": "#E1E5ED",
         "showgrid": true,
         "tickfont": {
          "color": "#4D5663"
         },
         "title": {
          "font": {
           "color": "#4D5663"
          },
          "text": ""
         },
         "zerolinecolor": "#E1E5ED"
        }
       }
      },
      "text/html": [
       "<div>\n",
       "        \n",
       "        \n",
       "            <div id=\"8e34e5a4-dbaa-4204-9318-5455951649a8\" class=\"plotly-graph-div\" style=\"height:525px; width:100%;\"></div>\n",
       "            <script type=\"text/javascript\">\n",
       "                require([\"plotly\"], function(Plotly) {\n",
       "                    window.PLOTLYENV=window.PLOTLYENV || {};\n",
       "                    window.PLOTLYENV.BASE_URL='https://plot.ly';\n",
       "                    \n",
       "                if (document.getElementById(\"8e34e5a4-dbaa-4204-9318-5455951649a8\")) {\n",
       "                    Plotly.newPlot(\n",
       "                        '8e34e5a4-dbaa-4204-9318-5455951649a8',\n",
       "                        [{\"marker\": {\"color\": \"rgba(255, 153, 51, 0.6)\", \"line\": {\"color\": \"rgba(255, 153, 51, 1.0)\", \"width\": 1}}, \"name\": \"Values\", \"orientation\": \"v\", \"text\": \"\", \"type\": \"bar\", \"x\": [\"A\", \"B\", \"C\"], \"y\": [32, 43, 50]}],\n",
       "                        {\"legend\": {\"bgcolor\": \"#F5F6F9\", \"font\": {\"color\": \"#4D5663\"}}, \"paper_bgcolor\": \"#F5F6F9\", \"plot_bgcolor\": \"#F5F6F9\", \"template\": {\"data\": {\"bar\": [{\"error_x\": {\"color\": \"#2a3f5f\"}, \"error_y\": {\"color\": \"#2a3f5f\"}, \"marker\": {\"line\": {\"color\": \"#E5ECF6\", \"width\": 0.5}}, \"type\": \"bar\"}], \"barpolar\": [{\"marker\": {\"line\": {\"color\": \"#E5ECF6\", \"width\": 0.5}}, \"type\": \"barpolar\"}], \"carpet\": [{\"aaxis\": {\"endlinecolor\": \"#2a3f5f\", \"gridcolor\": \"white\", \"linecolor\": \"white\", \"minorgridcolor\": \"white\", \"startlinecolor\": \"#2a3f5f\"}, \"baxis\": {\"endlinecolor\": \"#2a3f5f\", \"gridcolor\": \"white\", \"linecolor\": \"white\", \"minorgridcolor\": \"white\", \"startlinecolor\": \"#2a3f5f\"}, \"type\": \"carpet\"}], \"choropleth\": [{\"colorbar\": {\"outlinewidth\": 0, \"ticks\": \"\"}, \"type\": \"choropleth\"}], \"contour\": [{\"colorbar\": {\"outlinewidth\": 0, \"ticks\": \"\"}, \"colorscale\": [[0.0, \"#0d0887\"], [0.1111111111111111, \"#46039f\"], [0.2222222222222222, \"#7201a8\"], [0.3333333333333333, \"#9c179e\"], [0.4444444444444444, \"#bd3786\"], [0.5555555555555556, \"#d8576b\"], [0.6666666666666666, \"#ed7953\"], [0.7777777777777778, \"#fb9f3a\"], [0.8888888888888888, \"#fdca26\"], [1.0, \"#f0f921\"]], \"type\": \"contour\"}], \"contourcarpet\": [{\"colorbar\": {\"outlinewidth\": 0, \"ticks\": \"\"}, \"type\": \"contourcarpet\"}], \"heatmap\": [{\"colorbar\": {\"outlinewidth\": 0, \"ticks\": \"\"}, \"colorscale\": [[0.0, \"#0d0887\"], [0.1111111111111111, \"#46039f\"], [0.2222222222222222, \"#7201a8\"], [0.3333333333333333, \"#9c179e\"], [0.4444444444444444, \"#bd3786\"], [0.5555555555555556, \"#d8576b\"], [0.6666666666666666, \"#ed7953\"], [0.7777777777777778, \"#fb9f3a\"], [0.8888888888888888, \"#fdca26\"], [1.0, \"#f0f921\"]], \"type\": \"heatmap\"}], \"heatmapgl\": [{\"colorbar\": {\"outlinewidth\": 0, \"ticks\": \"\"}, \"colorscale\": [[0.0, \"#0d0887\"], [0.1111111111111111, \"#46039f\"], [0.2222222222222222, \"#7201a8\"], [0.3333333333333333, \"#9c179e\"], [0.4444444444444444, \"#bd3786\"], [0.5555555555555556, \"#d8576b\"], [0.6666666666666666, \"#ed7953\"], [0.7777777777777778, \"#fb9f3a\"], [0.8888888888888888, \"#fdca26\"], [1.0, \"#f0f921\"]], \"type\": \"heatmapgl\"}], \"histogram\": [{\"marker\": {\"colorbar\": {\"outlinewidth\": 0, \"ticks\": \"\"}}, \"type\": \"histogram\"}], \"histogram2d\": [{\"colorbar\": {\"outlinewidth\": 0, \"ticks\": \"\"}, \"colorscale\": [[0.0, \"#0d0887\"], [0.1111111111111111, \"#46039f\"], [0.2222222222222222, \"#7201a8\"], [0.3333333333333333, \"#9c179e\"], [0.4444444444444444, \"#bd3786\"], [0.5555555555555556, \"#d8576b\"], [0.6666666666666666, \"#ed7953\"], [0.7777777777777778, \"#fb9f3a\"], [0.8888888888888888, \"#fdca26\"], [1.0, \"#f0f921\"]], \"type\": \"histogram2d\"}], \"histogram2dcontour\": [{\"colorbar\": {\"outlinewidth\": 0, \"ticks\": \"\"}, \"colorscale\": [[0.0, \"#0d0887\"], [0.1111111111111111, \"#46039f\"], [0.2222222222222222, \"#7201a8\"], [0.3333333333333333, \"#9c179e\"], [0.4444444444444444, \"#bd3786\"], [0.5555555555555556, \"#d8576b\"], [0.6666666666666666, \"#ed7953\"], [0.7777777777777778, \"#fb9f3a\"], [0.8888888888888888, \"#fdca26\"], [1.0, \"#f0f921\"]], \"type\": \"histogram2dcontour\"}], \"mesh3d\": [{\"colorbar\": {\"outlinewidth\": 0, \"ticks\": \"\"}, \"type\": \"mesh3d\"}], \"parcoords\": [{\"line\": {\"colorbar\": {\"outlinewidth\": 0, \"ticks\": \"\"}}, \"type\": \"parcoords\"}], \"pie\": [{\"automargin\": true, \"type\": \"pie\"}], \"scatter\": [{\"marker\": {\"colorbar\": {\"outlinewidth\": 0, \"ticks\": \"\"}}, \"type\": \"scatter\"}], \"scatter3d\": [{\"line\": {\"colorbar\": {\"outlinewidth\": 0, \"ticks\": \"\"}}, \"marker\": {\"colorbar\": {\"outlinewidth\": 0, \"ticks\": \"\"}}, \"type\": \"scatter3d\"}], \"scattercarpet\": [{\"marker\": {\"colorbar\": {\"outlinewidth\": 0, \"ticks\": \"\"}}, \"type\": \"scattercarpet\"}], \"scattergeo\": [{\"marker\": {\"colorbar\": {\"outlinewidth\": 0, \"ticks\": \"\"}}, \"type\": \"scattergeo\"}], \"scattergl\": [{\"marker\": {\"colorbar\": {\"outlinewidth\": 0, \"ticks\": \"\"}}, \"type\": \"scattergl\"}], \"scattermapbox\": [{\"marker\": {\"colorbar\": {\"outlinewidth\": 0, \"ticks\": \"\"}}, \"type\": \"scattermapbox\"}], \"scatterpolar\": [{\"marker\": {\"colorbar\": {\"outlinewidth\": 0, \"ticks\": \"\"}}, \"type\": \"scatterpolar\"}], \"scatterpolargl\": [{\"marker\": {\"colorbar\": {\"outlinewidth\": 0, \"ticks\": \"\"}}, \"type\": \"scatterpolargl\"}], \"scatterternary\": [{\"marker\": {\"colorbar\": {\"outlinewidth\": 0, \"ticks\": \"\"}}, \"type\": \"scatterternary\"}], \"surface\": [{\"colorbar\": {\"outlinewidth\": 0, \"ticks\": \"\"}, \"colorscale\": [[0.0, \"#0d0887\"], [0.1111111111111111, \"#46039f\"], [0.2222222222222222, \"#7201a8\"], [0.3333333333333333, \"#9c179e\"], [0.4444444444444444, \"#bd3786\"], [0.5555555555555556, \"#d8576b\"], [0.6666666666666666, \"#ed7953\"], [0.7777777777777778, \"#fb9f3a\"], [0.8888888888888888, \"#fdca26\"], [1.0, \"#f0f921\"]], \"type\": \"surface\"}], \"table\": [{\"cells\": {\"fill\": {\"color\": \"#EBF0F8\"}, \"line\": {\"color\": \"white\"}}, \"header\": {\"fill\": {\"color\": \"#C8D4E3\"}, \"line\": {\"color\": \"white\"}}, \"type\": \"table\"}]}, \"layout\": {\"annotationdefaults\": {\"arrowcolor\": \"#2a3f5f\", \"arrowhead\": 0, \"arrowwidth\": 1}, \"coloraxis\": {\"colorbar\": {\"outlinewidth\": 0, \"ticks\": \"\"}}, \"colorscale\": {\"diverging\": [[0, \"#8e0152\"], [0.1, \"#c51b7d\"], [0.2, \"#de77ae\"], [0.3, \"#f1b6da\"], [0.4, \"#fde0ef\"], [0.5, \"#f7f7f7\"], [0.6, \"#e6f5d0\"], [0.7, \"#b8e186\"], [0.8, \"#7fbc41\"], [0.9, \"#4d9221\"], [1, \"#276419\"]], \"sequential\": [[0.0, \"#0d0887\"], [0.1111111111111111, \"#46039f\"], [0.2222222222222222, \"#7201a8\"], [0.3333333333333333, \"#9c179e\"], [0.4444444444444444, \"#bd3786\"], [0.5555555555555556, \"#d8576b\"], [0.6666666666666666, \"#ed7953\"], [0.7777777777777778, \"#fb9f3a\"], [0.8888888888888888, \"#fdca26\"], [1.0, \"#f0f921\"]], \"sequentialminus\": [[0.0, \"#0d0887\"], [0.1111111111111111, \"#46039f\"], [0.2222222222222222, \"#7201a8\"], [0.3333333333333333, \"#9c179e\"], [0.4444444444444444, \"#bd3786\"], [0.5555555555555556, \"#d8576b\"], [0.6666666666666666, \"#ed7953\"], [0.7777777777777778, \"#fb9f3a\"], [0.8888888888888888, \"#fdca26\"], [1.0, \"#f0f921\"]]}, \"colorway\": [\"#636efa\", \"#EF553B\", \"#00cc96\", \"#ab63fa\", \"#FFA15A\", \"#19d3f3\", \"#FF6692\", \"#B6E880\", \"#FF97FF\", \"#FECB52\"], \"font\": {\"color\": \"#2a3f5f\"}, \"geo\": {\"bgcolor\": \"white\", \"lakecolor\": \"white\", \"landcolor\": \"#E5ECF6\", \"showlakes\": true, \"showland\": true, \"subunitcolor\": \"white\"}, \"hoverlabel\": {\"align\": \"left\"}, \"hovermode\": \"closest\", \"mapbox\": {\"style\": \"light\"}, \"paper_bgcolor\": \"white\", \"plot_bgcolor\": \"#E5ECF6\", \"polar\": {\"angularaxis\": {\"gridcolor\": \"white\", \"linecolor\": \"white\", \"ticks\": \"\"}, \"bgcolor\": \"#E5ECF6\", \"radialaxis\": {\"gridcolor\": \"white\", \"linecolor\": \"white\", \"ticks\": \"\"}}, \"scene\": {\"xaxis\": {\"backgroundcolor\": \"#E5ECF6\", \"gridcolor\": \"white\", \"gridwidth\": 2, \"linecolor\": \"white\", \"showbackground\": true, \"ticks\": \"\", \"zerolinecolor\": \"white\"}, \"yaxis\": {\"backgroundcolor\": \"#E5ECF6\", \"gridcolor\": \"white\", \"gridwidth\": 2, \"linecolor\": \"white\", \"showbackground\": true, \"ticks\": \"\", \"zerolinecolor\": \"white\"}, \"zaxis\": {\"backgroundcolor\": \"#E5ECF6\", \"gridcolor\": \"white\", \"gridwidth\": 2, \"linecolor\": \"white\", \"showbackground\": true, \"ticks\": \"\", \"zerolinecolor\": \"white\"}}, \"shapedefaults\": {\"line\": {\"color\": \"#2a3f5f\"}}, \"ternary\": {\"aaxis\": {\"gridcolor\": \"white\", \"linecolor\": \"white\", \"ticks\": \"\"}, \"baxis\": {\"gridcolor\": \"white\", \"linecolor\": \"white\", \"ticks\": \"\"}, \"bgcolor\": \"#E5ECF6\", \"caxis\": {\"gridcolor\": \"white\", \"linecolor\": \"white\", \"ticks\": \"\"}}, \"title\": {\"x\": 0.05}, \"xaxis\": {\"automargin\": true, \"gridcolor\": \"white\", \"linecolor\": \"white\", \"ticks\": \"\", \"title\": {\"standoff\": 15}, \"zerolinecolor\": \"white\", \"zerolinewidth\": 2}, \"yaxis\": {\"automargin\": true, \"gridcolor\": \"white\", \"linecolor\": \"white\", \"ticks\": \"\", \"title\": {\"standoff\": 15}, \"zerolinecolor\": \"white\", \"zerolinewidth\": 2}}}, \"title\": {\"font\": {\"color\": \"#4D5663\"}}, \"xaxis\": {\"gridcolor\": \"#E1E5ED\", \"showgrid\": true, \"tickfont\": {\"color\": \"#4D5663\"}, \"title\": {\"font\": {\"color\": \"#4D5663\"}, \"text\": \"\"}, \"zerolinecolor\": \"#E1E5ED\"}, \"yaxis\": {\"gridcolor\": \"#E1E5ED\", \"showgrid\": true, \"tickfont\": {\"color\": \"#4D5663\"}, \"title\": {\"font\": {\"color\": \"#4D5663\"}, \"text\": \"\"}, \"zerolinecolor\": \"#E1E5ED\"}},\n",
       "                        {\"showLink\": true, \"linkText\": \"Export to plot.ly\", \"plotlyServerURL\": \"https://plot.ly\", \"responsive\": true}\n",
       "                    ).then(function(){\n",
       "                            \n",
       "var gd = document.getElementById('8e34e5a4-dbaa-4204-9318-5455951649a8');\n",
       "var x = new MutationObserver(function (mutations, observer) {{\n",
       "        var display = window.getComputedStyle(gd).display;\n",
       "        if (!display || display === 'none') {{\n",
       "            console.log([gd, 'removed!']);\n",
       "            Plotly.purge(gd);\n",
       "            observer.disconnect();\n",
       "        }}\n",
       "}});\n",
       "\n",
       "// Listen for the removal of the full notebook cells\n",
       "var notebookContainer = gd.closest('#notebook-container');\n",
       "if (notebookContainer) {{\n",
       "    x.observe(notebookContainer, {childList: true});\n",
       "}}\n",
       "\n",
       "// Listen for the clearing of the current output cell\n",
       "var outputEl = gd.closest('.output');\n",
       "if (outputEl) {{\n",
       "    x.observe(outputEl, {childList: true});\n",
       "}}\n",
       "\n",
       "                        })\n",
       "                };\n",
       "                });\n",
       "            </script>\n",
       "        </div>"
      ]
     },
     "metadata": {},
     "output_type": "display_data"
    }
   ],
   "source": [
    "df2.iplot(kind='bar',x='Category',y='Values')"
   ]
  },
  {
   "cell_type": "code",
   "execution_count": 24,
   "metadata": {},
   "outputs": [
    {
     "data": {
      "text/html": [
       "<div>\n",
       "<style scoped>\n",
       "    .dataframe tbody tr th:only-of-type {\n",
       "        vertical-align: middle;\n",
       "    }\n",
       "\n",
       "    .dataframe tbody tr th {\n",
       "        vertical-align: top;\n",
       "    }\n",
       "\n",
       "    .dataframe thead th {\n",
       "        text-align: right;\n",
       "    }\n",
       "</style>\n",
       "<table border=\"1\" class=\"dataframe\">\n",
       "  <thead>\n",
       "    <tr style=\"text-align: right;\">\n",
       "      <th></th>\n",
       "      <th>A</th>\n",
       "      <th>B</th>\n",
       "      <th>C</th>\n",
       "      <th>D</th>\n",
       "    </tr>\n",
       "  </thead>\n",
       "  <tbody>\n",
       "    <tr>\n",
       "      <td>0</td>\n",
       "      <td>-1.022707</td>\n",
       "      <td>-0.730563</td>\n",
       "      <td>-2.080195</td>\n",
       "      <td>-1.688994</td>\n",
       "    </tr>\n",
       "    <tr>\n",
       "      <td>1</td>\n",
       "      <td>1.109170</td>\n",
       "      <td>0.783363</td>\n",
       "      <td>-1.012249</td>\n",
       "      <td>-2.160653</td>\n",
       "    </tr>\n",
       "    <tr>\n",
       "      <td>2</td>\n",
       "      <td>-1.499397</td>\n",
       "      <td>-0.648817</td>\n",
       "      <td>1.323265</td>\n",
       "      <td>0.796917</td>\n",
       "    </tr>\n",
       "    <tr>\n",
       "      <td>3</td>\n",
       "      <td>1.876891</td>\n",
       "      <td>-1.379009</td>\n",
       "      <td>1.068653</td>\n",
       "      <td>-0.406892</td>\n",
       "    </tr>\n",
       "    <tr>\n",
       "      <td>4</td>\n",
       "      <td>-0.158407</td>\n",
       "      <td>0.831062</td>\n",
       "      <td>0.447343</td>\n",
       "      <td>1.106386</td>\n",
       "    </tr>\n",
       "  </tbody>\n",
       "</table>\n",
       "</div>"
      ],
      "text/plain": [
       "          A         B         C         D\n",
       "0 -1.022707 -0.730563 -2.080195 -1.688994\n",
       "1  1.109170  0.783363 -1.012249 -2.160653\n",
       "2 -1.499397 -0.648817  1.323265  0.796917\n",
       "3  1.876891 -1.379009  1.068653 -0.406892\n",
       "4 -0.158407  0.831062  0.447343  1.106386"
      ]
     },
     "execution_count": 24,
     "metadata": {},
     "output_type": "execute_result"
    }
   ],
   "source": [
    "df.head()"
   ]
  },
  {
   "cell_type": "code",
   "execution_count": 25,
   "metadata": {},
   "outputs": [
    {
     "data": {
      "application/vnd.plotly.v1+json": {
       "config": {
        "linkText": "Export to plot.ly",
        "plotlyServerURL": "https://plot.ly",
        "showLink": true
       },
       "data": [
        {
         "marker": {
          "color": "rgba(255, 153, 51, 0.6)",
          "line": {
           "color": "rgba(255, 153, 51, 1.0)",
           "width": 1
          }
         },
         "name": "None",
         "orientation": "v",
         "text": "",
         "type": "bar",
         "x": [
          "A",
          "B",
          "C",
          "D"
         ],
         "y": [
          100,
          100,
          100,
          100
         ]
        }
       ],
       "layout": {
        "legend": {
         "bgcolor": "#F5F6F9",
         "font": {
          "color": "#4D5663"
         }
        },
        "paper_bgcolor": "#F5F6F9",
        "plot_bgcolor": "#F5F6F9",
        "template": {
         "data": {
          "bar": [
           {
            "error_x": {
             "color": "#2a3f5f"
            },
            "error_y": {
             "color": "#2a3f5f"
            },
            "marker": {
             "line": {
              "color": "#E5ECF6",
              "width": 0.5
             }
            },
            "type": "bar"
           }
          ],
          "barpolar": [
           {
            "marker": {
             "line": {
              "color": "#E5ECF6",
              "width": 0.5
             }
            },
            "type": "barpolar"
           }
          ],
          "carpet": [
           {
            "aaxis": {
             "endlinecolor": "#2a3f5f",
             "gridcolor": "white",
             "linecolor": "white",
             "minorgridcolor": "white",
             "startlinecolor": "#2a3f5f"
            },
            "baxis": {
             "endlinecolor": "#2a3f5f",
             "gridcolor": "white",
             "linecolor": "white",
             "minorgridcolor": "white",
             "startlinecolor": "#2a3f5f"
            },
            "type": "carpet"
           }
          ],
          "choropleth": [
           {
            "colorbar": {
             "outlinewidth": 0,
             "ticks": ""
            },
            "type": "choropleth"
           }
          ],
          "contour": [
           {
            "colorbar": {
             "outlinewidth": 0,
             "ticks": ""
            },
            "colorscale": [
             [
              0,
              "#0d0887"
             ],
             [
              0.1111111111111111,
              "#46039f"
             ],
             [
              0.2222222222222222,
              "#7201a8"
             ],
             [
              0.3333333333333333,
              "#9c179e"
             ],
             [
              0.4444444444444444,
              "#bd3786"
             ],
             [
              0.5555555555555556,
              "#d8576b"
             ],
             [
              0.6666666666666666,
              "#ed7953"
             ],
             [
              0.7777777777777778,
              "#fb9f3a"
             ],
             [
              0.8888888888888888,
              "#fdca26"
             ],
             [
              1,
              "#f0f921"
             ]
            ],
            "type": "contour"
           }
          ],
          "contourcarpet": [
           {
            "colorbar": {
             "outlinewidth": 0,
             "ticks": ""
            },
            "type": "contourcarpet"
           }
          ],
          "heatmap": [
           {
            "colorbar": {
             "outlinewidth": 0,
             "ticks": ""
            },
            "colorscale": [
             [
              0,
              "#0d0887"
             ],
             [
              0.1111111111111111,
              "#46039f"
             ],
             [
              0.2222222222222222,
              "#7201a8"
             ],
             [
              0.3333333333333333,
              "#9c179e"
             ],
             [
              0.4444444444444444,
              "#bd3786"
             ],
             [
              0.5555555555555556,
              "#d8576b"
             ],
             [
              0.6666666666666666,
              "#ed7953"
             ],
             [
              0.7777777777777778,
              "#fb9f3a"
             ],
             [
              0.8888888888888888,
              "#fdca26"
             ],
             [
              1,
              "#f0f921"
             ]
            ],
            "type": "heatmap"
           }
          ],
          "heatmapgl": [
           {
            "colorbar": {
             "outlinewidth": 0,
             "ticks": ""
            },
            "colorscale": [
             [
              0,
              "#0d0887"
             ],
             [
              0.1111111111111111,
              "#46039f"
             ],
             [
              0.2222222222222222,
              "#7201a8"
             ],
             [
              0.3333333333333333,
              "#9c179e"
             ],
             [
              0.4444444444444444,
              "#bd3786"
             ],
             [
              0.5555555555555556,
              "#d8576b"
             ],
             [
              0.6666666666666666,
              "#ed7953"
             ],
             [
              0.7777777777777778,
              "#fb9f3a"
             ],
             [
              0.8888888888888888,
              "#fdca26"
             ],
             [
              1,
              "#f0f921"
             ]
            ],
            "type": "heatmapgl"
           }
          ],
          "histogram": [
           {
            "marker": {
             "colorbar": {
              "outlinewidth": 0,
              "ticks": ""
             }
            },
            "type": "histogram"
           }
          ],
          "histogram2d": [
           {
            "colorbar": {
             "outlinewidth": 0,
             "ticks": ""
            },
            "colorscale": [
             [
              0,
              "#0d0887"
             ],
             [
              0.1111111111111111,
              "#46039f"
             ],
             [
              0.2222222222222222,
              "#7201a8"
             ],
             [
              0.3333333333333333,
              "#9c179e"
             ],
             [
              0.4444444444444444,
              "#bd3786"
             ],
             [
              0.5555555555555556,
              "#d8576b"
             ],
             [
              0.6666666666666666,
              "#ed7953"
             ],
             [
              0.7777777777777778,
              "#fb9f3a"
             ],
             [
              0.8888888888888888,
              "#fdca26"
             ],
             [
              1,
              "#f0f921"
             ]
            ],
            "type": "histogram2d"
           }
          ],
          "histogram2dcontour": [
           {
            "colorbar": {
             "outlinewidth": 0,
             "ticks": ""
            },
            "colorscale": [
             [
              0,
              "#0d0887"
             ],
             [
              0.1111111111111111,
              "#46039f"
             ],
             [
              0.2222222222222222,
              "#7201a8"
             ],
             [
              0.3333333333333333,
              "#9c179e"
             ],
             [
              0.4444444444444444,
              "#bd3786"
             ],
             [
              0.5555555555555556,
              "#d8576b"
             ],
             [
              0.6666666666666666,
              "#ed7953"
             ],
             [
              0.7777777777777778,
              "#fb9f3a"
             ],
             [
              0.8888888888888888,
              "#fdca26"
             ],
             [
              1,
              "#f0f921"
             ]
            ],
            "type": "histogram2dcontour"
           }
          ],
          "mesh3d": [
           {
            "colorbar": {
             "outlinewidth": 0,
             "ticks": ""
            },
            "type": "mesh3d"
           }
          ],
          "parcoords": [
           {
            "line": {
             "colorbar": {
              "outlinewidth": 0,
              "ticks": ""
             }
            },
            "type": "parcoords"
           }
          ],
          "pie": [
           {
            "automargin": true,
            "type": "pie"
           }
          ],
          "scatter": [
           {
            "marker": {
             "colorbar": {
              "outlinewidth": 0,
              "ticks": ""
             }
            },
            "type": "scatter"
           }
          ],
          "scatter3d": [
           {
            "line": {
             "colorbar": {
              "outlinewidth": 0,
              "ticks": ""
             }
            },
            "marker": {
             "colorbar": {
              "outlinewidth": 0,
              "ticks": ""
             }
            },
            "type": "scatter3d"
           }
          ],
          "scattercarpet": [
           {
            "marker": {
             "colorbar": {
              "outlinewidth": 0,
              "ticks": ""
             }
            },
            "type": "scattercarpet"
           }
          ],
          "scattergeo": [
           {
            "marker": {
             "colorbar": {
              "outlinewidth": 0,
              "ticks": ""
             }
            },
            "type": "scattergeo"
           }
          ],
          "scattergl": [
           {
            "marker": {
             "colorbar": {
              "outlinewidth": 0,
              "ticks": ""
             }
            },
            "type": "scattergl"
           }
          ],
          "scattermapbox": [
           {
            "marker": {
             "colorbar": {
              "outlinewidth": 0,
              "ticks": ""
             }
            },
            "type": "scattermapbox"
           }
          ],
          "scatterpolar": [
           {
            "marker": {
             "colorbar": {
              "outlinewidth": 0,
              "ticks": ""
             }
            },
            "type": "scatterpolar"
           }
          ],
          "scatterpolargl": [
           {
            "marker": {
             "colorbar": {
              "outlinewidth": 0,
              "ticks": ""
             }
            },
            "type": "scatterpolargl"
           }
          ],
          "scatterternary": [
           {
            "marker": {
             "colorbar": {
              "outlinewidth": 0,
              "ticks": ""
             }
            },
            "type": "scatterternary"
           }
          ],
          "surface": [
           {
            "colorbar": {
             "outlinewidth": 0,
             "ticks": ""
            },
            "colorscale": [
             [
              0,
              "#0d0887"
             ],
             [
              0.1111111111111111,
              "#46039f"
             ],
             [
              0.2222222222222222,
              "#7201a8"
             ],
             [
              0.3333333333333333,
              "#9c179e"
             ],
             [
              0.4444444444444444,
              "#bd3786"
             ],
             [
              0.5555555555555556,
              "#d8576b"
             ],
             [
              0.6666666666666666,
              "#ed7953"
             ],
             [
              0.7777777777777778,
              "#fb9f3a"
             ],
             [
              0.8888888888888888,
              "#fdca26"
             ],
             [
              1,
              "#f0f921"
             ]
            ],
            "type": "surface"
           }
          ],
          "table": [
           {
            "cells": {
             "fill": {
              "color": "#EBF0F8"
             },
             "line": {
              "color": "white"
             }
            },
            "header": {
             "fill": {
              "color": "#C8D4E3"
             },
             "line": {
              "color": "white"
             }
            },
            "type": "table"
           }
          ]
         },
         "layout": {
          "annotationdefaults": {
           "arrowcolor": "#2a3f5f",
           "arrowhead": 0,
           "arrowwidth": 1
          },
          "coloraxis": {
           "colorbar": {
            "outlinewidth": 0,
            "ticks": ""
           }
          },
          "colorscale": {
           "diverging": [
            [
             0,
             "#8e0152"
            ],
            [
             0.1,
             "#c51b7d"
            ],
            [
             0.2,
             "#de77ae"
            ],
            [
             0.3,
             "#f1b6da"
            ],
            [
             0.4,
             "#fde0ef"
            ],
            [
             0.5,
             "#f7f7f7"
            ],
            [
             0.6,
             "#e6f5d0"
            ],
            [
             0.7,
             "#b8e186"
            ],
            [
             0.8,
             "#7fbc41"
            ],
            [
             0.9,
             "#4d9221"
            ],
            [
             1,
             "#276419"
            ]
           ],
           "sequential": [
            [
             0,
             "#0d0887"
            ],
            [
             0.1111111111111111,
             "#46039f"
            ],
            [
             0.2222222222222222,
             "#7201a8"
            ],
            [
             0.3333333333333333,
             "#9c179e"
            ],
            [
             0.4444444444444444,
             "#bd3786"
            ],
            [
             0.5555555555555556,
             "#d8576b"
            ],
            [
             0.6666666666666666,
             "#ed7953"
            ],
            [
             0.7777777777777778,
             "#fb9f3a"
            ],
            [
             0.8888888888888888,
             "#fdca26"
            ],
            [
             1,
             "#f0f921"
            ]
           ],
           "sequentialminus": [
            [
             0,
             "#0d0887"
            ],
            [
             0.1111111111111111,
             "#46039f"
            ],
            [
             0.2222222222222222,
             "#7201a8"
            ],
            [
             0.3333333333333333,
             "#9c179e"
            ],
            [
             0.4444444444444444,
             "#bd3786"
            ],
            [
             0.5555555555555556,
             "#d8576b"
            ],
            [
             0.6666666666666666,
             "#ed7953"
            ],
            [
             0.7777777777777778,
             "#fb9f3a"
            ],
            [
             0.8888888888888888,
             "#fdca26"
            ],
            [
             1,
             "#f0f921"
            ]
           ]
          },
          "colorway": [
           "#636efa",
           "#EF553B",
           "#00cc96",
           "#ab63fa",
           "#FFA15A",
           "#19d3f3",
           "#FF6692",
           "#B6E880",
           "#FF97FF",
           "#FECB52"
          ],
          "font": {
           "color": "#2a3f5f"
          },
          "geo": {
           "bgcolor": "white",
           "lakecolor": "white",
           "landcolor": "#E5ECF6",
           "showlakes": true,
           "showland": true,
           "subunitcolor": "white"
          },
          "hoverlabel": {
           "align": "left"
          },
          "hovermode": "closest",
          "mapbox": {
           "style": "light"
          },
          "paper_bgcolor": "white",
          "plot_bgcolor": "#E5ECF6",
          "polar": {
           "angularaxis": {
            "gridcolor": "white",
            "linecolor": "white",
            "ticks": ""
           },
           "bgcolor": "#E5ECF6",
           "radialaxis": {
            "gridcolor": "white",
            "linecolor": "white",
            "ticks": ""
           }
          },
          "scene": {
           "xaxis": {
            "backgroundcolor": "#E5ECF6",
            "gridcolor": "white",
            "gridwidth": 2,
            "linecolor": "white",
            "showbackground": true,
            "ticks": "",
            "zerolinecolor": "white"
           },
           "yaxis": {
            "backgroundcolor": "#E5ECF6",
            "gridcolor": "white",
            "gridwidth": 2,
            "linecolor": "white",
            "showbackground": true,
            "ticks": "",
            "zerolinecolor": "white"
           },
           "zaxis": {
            "backgroundcolor": "#E5ECF6",
            "gridcolor": "white",
            "gridwidth": 2,
            "linecolor": "white",
            "showbackground": true,
            "ticks": "",
            "zerolinecolor": "white"
           }
          },
          "shapedefaults": {
           "line": {
            "color": "#2a3f5f"
           }
          },
          "ternary": {
           "aaxis": {
            "gridcolor": "white",
            "linecolor": "white",
            "ticks": ""
           },
           "baxis": {
            "gridcolor": "white",
            "linecolor": "white",
            "ticks": ""
           },
           "bgcolor": "#E5ECF6",
           "caxis": {
            "gridcolor": "white",
            "linecolor": "white",
            "ticks": ""
           }
          },
          "title": {
           "x": 0.05
          },
          "xaxis": {
           "automargin": true,
           "gridcolor": "white",
           "linecolor": "white",
           "ticks": "",
           "title": {
            "standoff": 15
           },
           "zerolinecolor": "white",
           "zerolinewidth": 2
          },
          "yaxis": {
           "automargin": true,
           "gridcolor": "white",
           "linecolor": "white",
           "ticks": "",
           "title": {
            "standoff": 15
           },
           "zerolinecolor": "white",
           "zerolinewidth": 2
          }
         }
        },
        "title": {
         "font": {
          "color": "#4D5663"
         }
        },
        "xaxis": {
         "gridcolor": "#E1E5ED",
         "showgrid": true,
         "tickfont": {
          "color": "#4D5663"
         },
         "title": {
          "font": {
           "color": "#4D5663"
          },
          "text": ""
         },
         "zerolinecolor": "#E1E5ED"
        },
        "yaxis": {
         "gridcolor": "#E1E5ED",
         "showgrid": true,
         "tickfont": {
          "color": "#4D5663"
         },
         "title": {
          "font": {
           "color": "#4D5663"
          },
          "text": ""
         },
         "zerolinecolor": "#E1E5ED"
        }
       }
      },
      "text/html": [
       "<div>\n",
       "        \n",
       "        \n",
       "            <div id=\"af40b0e7-e02e-4c2d-8344-705c1719353c\" class=\"plotly-graph-div\" style=\"height:525px; width:100%;\"></div>\n",
       "            <script type=\"text/javascript\">\n",
       "                require([\"plotly\"], function(Plotly) {\n",
       "                    window.PLOTLYENV=window.PLOTLYENV || {};\n",
       "                    window.PLOTLYENV.BASE_URL='https://plot.ly';\n",
       "                    \n",
       "                if (document.getElementById(\"af40b0e7-e02e-4c2d-8344-705c1719353c\")) {\n",
       "                    Plotly.newPlot(\n",
       "                        'af40b0e7-e02e-4c2d-8344-705c1719353c',\n",
       "                        [{\"marker\": {\"color\": \"rgba(255, 153, 51, 0.6)\", \"line\": {\"color\": \"rgba(255, 153, 51, 1.0)\", \"width\": 1}}, \"name\": \"None\", \"orientation\": \"v\", \"text\": \"\", \"type\": \"bar\", \"x\": [\"A\", \"B\", \"C\", \"D\"], \"y\": [100, 100, 100, 100]}],\n",
       "                        {\"legend\": {\"bgcolor\": \"#F5F6F9\", \"font\": {\"color\": \"#4D5663\"}}, \"paper_bgcolor\": \"#F5F6F9\", \"plot_bgcolor\": \"#F5F6F9\", \"template\": {\"data\": {\"bar\": [{\"error_x\": {\"color\": \"#2a3f5f\"}, \"error_y\": {\"color\": \"#2a3f5f\"}, \"marker\": {\"line\": {\"color\": \"#E5ECF6\", \"width\": 0.5}}, \"type\": \"bar\"}], \"barpolar\": [{\"marker\": {\"line\": {\"color\": \"#E5ECF6\", \"width\": 0.5}}, \"type\": \"barpolar\"}], \"carpet\": [{\"aaxis\": {\"endlinecolor\": \"#2a3f5f\", \"gridcolor\": \"white\", \"linecolor\": \"white\", \"minorgridcolor\": \"white\", \"startlinecolor\": \"#2a3f5f\"}, \"baxis\": {\"endlinecolor\": \"#2a3f5f\", \"gridcolor\": \"white\", \"linecolor\": \"white\", \"minorgridcolor\": \"white\", \"startlinecolor\": \"#2a3f5f\"}, \"type\": \"carpet\"}], \"choropleth\": [{\"colorbar\": {\"outlinewidth\": 0, \"ticks\": \"\"}, \"type\": \"choropleth\"}], \"contour\": [{\"colorbar\": {\"outlinewidth\": 0, \"ticks\": \"\"}, \"colorscale\": [[0.0, \"#0d0887\"], [0.1111111111111111, \"#46039f\"], [0.2222222222222222, \"#7201a8\"], [0.3333333333333333, \"#9c179e\"], [0.4444444444444444, \"#bd3786\"], [0.5555555555555556, \"#d8576b\"], [0.6666666666666666, \"#ed7953\"], [0.7777777777777778, \"#fb9f3a\"], [0.8888888888888888, \"#fdca26\"], [1.0, \"#f0f921\"]], \"type\": \"contour\"}], \"contourcarpet\": [{\"colorbar\": {\"outlinewidth\": 0, \"ticks\": \"\"}, \"type\": \"contourcarpet\"}], \"heatmap\": [{\"colorbar\": {\"outlinewidth\": 0, \"ticks\": \"\"}, \"colorscale\": [[0.0, \"#0d0887\"], [0.1111111111111111, \"#46039f\"], [0.2222222222222222, \"#7201a8\"], [0.3333333333333333, \"#9c179e\"], [0.4444444444444444, \"#bd3786\"], [0.5555555555555556, \"#d8576b\"], [0.6666666666666666, \"#ed7953\"], [0.7777777777777778, \"#fb9f3a\"], [0.8888888888888888, \"#fdca26\"], [1.0, \"#f0f921\"]], \"type\": \"heatmap\"}], \"heatmapgl\": [{\"colorbar\": {\"outlinewidth\": 0, \"ticks\": \"\"}, \"colorscale\": [[0.0, \"#0d0887\"], [0.1111111111111111, \"#46039f\"], [0.2222222222222222, \"#7201a8\"], [0.3333333333333333, \"#9c179e\"], [0.4444444444444444, \"#bd3786\"], [0.5555555555555556, \"#d8576b\"], [0.6666666666666666, \"#ed7953\"], [0.7777777777777778, \"#fb9f3a\"], [0.8888888888888888, \"#fdca26\"], [1.0, \"#f0f921\"]], \"type\": \"heatmapgl\"}], \"histogram\": [{\"marker\": {\"colorbar\": {\"outlinewidth\": 0, \"ticks\": \"\"}}, \"type\": \"histogram\"}], \"histogram2d\": [{\"colorbar\": {\"outlinewidth\": 0, \"ticks\": \"\"}, \"colorscale\": [[0.0, \"#0d0887\"], [0.1111111111111111, \"#46039f\"], [0.2222222222222222, \"#7201a8\"], [0.3333333333333333, \"#9c179e\"], [0.4444444444444444, \"#bd3786\"], [0.5555555555555556, \"#d8576b\"], [0.6666666666666666, \"#ed7953\"], [0.7777777777777778, \"#fb9f3a\"], [0.8888888888888888, \"#fdca26\"], [1.0, \"#f0f921\"]], \"type\": \"histogram2d\"}], \"histogram2dcontour\": [{\"colorbar\": {\"outlinewidth\": 0, \"ticks\": \"\"}, \"colorscale\": [[0.0, \"#0d0887\"], [0.1111111111111111, \"#46039f\"], [0.2222222222222222, \"#7201a8\"], [0.3333333333333333, \"#9c179e\"], [0.4444444444444444, \"#bd3786\"], [0.5555555555555556, \"#d8576b\"], [0.6666666666666666, \"#ed7953\"], [0.7777777777777778, \"#fb9f3a\"], [0.8888888888888888, \"#fdca26\"], [1.0, \"#f0f921\"]], \"type\": \"histogram2dcontour\"}], \"mesh3d\": [{\"colorbar\": {\"outlinewidth\": 0, \"ticks\": \"\"}, \"type\": \"mesh3d\"}], \"parcoords\": [{\"line\": {\"colorbar\": {\"outlinewidth\": 0, \"ticks\": \"\"}}, \"type\": \"parcoords\"}], \"pie\": [{\"automargin\": true, \"type\": \"pie\"}], \"scatter\": [{\"marker\": {\"colorbar\": {\"outlinewidth\": 0, \"ticks\": \"\"}}, \"type\": \"scatter\"}], \"scatter3d\": [{\"line\": {\"colorbar\": {\"outlinewidth\": 0, \"ticks\": \"\"}}, \"marker\": {\"colorbar\": {\"outlinewidth\": 0, \"ticks\": \"\"}}, \"type\": \"scatter3d\"}], \"scattercarpet\": [{\"marker\": {\"colorbar\": {\"outlinewidth\": 0, \"ticks\": \"\"}}, \"type\": \"scattercarpet\"}], \"scattergeo\": [{\"marker\": {\"colorbar\": {\"outlinewidth\": 0, \"ticks\": \"\"}}, \"type\": \"scattergeo\"}], \"scattergl\": [{\"marker\": {\"colorbar\": {\"outlinewidth\": 0, \"ticks\": \"\"}}, \"type\": \"scattergl\"}], \"scattermapbox\": [{\"marker\": {\"colorbar\": {\"outlinewidth\": 0, \"ticks\": \"\"}}, \"type\": \"scattermapbox\"}], \"scatterpolar\": [{\"marker\": {\"colorbar\": {\"outlinewidth\": 0, \"ticks\": \"\"}}, \"type\": \"scatterpolar\"}], \"scatterpolargl\": [{\"marker\": {\"colorbar\": {\"outlinewidth\": 0, \"ticks\": \"\"}}, \"type\": \"scatterpolargl\"}], \"scatterternary\": [{\"marker\": {\"colorbar\": {\"outlinewidth\": 0, \"ticks\": \"\"}}, \"type\": \"scatterternary\"}], \"surface\": [{\"colorbar\": {\"outlinewidth\": 0, \"ticks\": \"\"}, \"colorscale\": [[0.0, \"#0d0887\"], [0.1111111111111111, \"#46039f\"], [0.2222222222222222, \"#7201a8\"], [0.3333333333333333, \"#9c179e\"], [0.4444444444444444, \"#bd3786\"], [0.5555555555555556, \"#d8576b\"], [0.6666666666666666, \"#ed7953\"], [0.7777777777777778, \"#fb9f3a\"], [0.8888888888888888, \"#fdca26\"], [1.0, \"#f0f921\"]], \"type\": \"surface\"}], \"table\": [{\"cells\": {\"fill\": {\"color\": \"#EBF0F8\"}, \"line\": {\"color\": \"white\"}}, \"header\": {\"fill\": {\"color\": \"#C8D4E3\"}, \"line\": {\"color\": \"white\"}}, \"type\": \"table\"}]}, \"layout\": {\"annotationdefaults\": {\"arrowcolor\": \"#2a3f5f\", \"arrowhead\": 0, \"arrowwidth\": 1}, \"coloraxis\": {\"colorbar\": {\"outlinewidth\": 0, \"ticks\": \"\"}}, \"colorscale\": {\"diverging\": [[0, \"#8e0152\"], [0.1, \"#c51b7d\"], [0.2, \"#de77ae\"], [0.3, \"#f1b6da\"], [0.4, \"#fde0ef\"], [0.5, \"#f7f7f7\"], [0.6, \"#e6f5d0\"], [0.7, \"#b8e186\"], [0.8, \"#7fbc41\"], [0.9, \"#4d9221\"], [1, \"#276419\"]], \"sequential\": [[0.0, \"#0d0887\"], [0.1111111111111111, \"#46039f\"], [0.2222222222222222, \"#7201a8\"], [0.3333333333333333, \"#9c179e\"], [0.4444444444444444, \"#bd3786\"], [0.5555555555555556, \"#d8576b\"], [0.6666666666666666, \"#ed7953\"], [0.7777777777777778, \"#fb9f3a\"], [0.8888888888888888, \"#fdca26\"], [1.0, \"#f0f921\"]], \"sequentialminus\": [[0.0, \"#0d0887\"], [0.1111111111111111, \"#46039f\"], [0.2222222222222222, \"#7201a8\"], [0.3333333333333333, \"#9c179e\"], [0.4444444444444444, \"#bd3786\"], [0.5555555555555556, \"#d8576b\"], [0.6666666666666666, \"#ed7953\"], [0.7777777777777778, \"#fb9f3a\"], [0.8888888888888888, \"#fdca26\"], [1.0, \"#f0f921\"]]}, \"colorway\": [\"#636efa\", \"#EF553B\", \"#00cc96\", \"#ab63fa\", \"#FFA15A\", \"#19d3f3\", \"#FF6692\", \"#B6E880\", \"#FF97FF\", \"#FECB52\"], \"font\": {\"color\": \"#2a3f5f\"}, \"geo\": {\"bgcolor\": \"white\", \"lakecolor\": \"white\", \"landcolor\": \"#E5ECF6\", \"showlakes\": true, \"showland\": true, \"subunitcolor\": \"white\"}, \"hoverlabel\": {\"align\": \"left\"}, \"hovermode\": \"closest\", \"mapbox\": {\"style\": \"light\"}, \"paper_bgcolor\": \"white\", \"plot_bgcolor\": \"#E5ECF6\", \"polar\": {\"angularaxis\": {\"gridcolor\": \"white\", \"linecolor\": \"white\", \"ticks\": \"\"}, \"bgcolor\": \"#E5ECF6\", \"radialaxis\": {\"gridcolor\": \"white\", \"linecolor\": \"white\", \"ticks\": \"\"}}, \"scene\": {\"xaxis\": {\"backgroundcolor\": \"#E5ECF6\", \"gridcolor\": \"white\", \"gridwidth\": 2, \"linecolor\": \"white\", \"showbackground\": true, \"ticks\": \"\", \"zerolinecolor\": \"white\"}, \"yaxis\": {\"backgroundcolor\": \"#E5ECF6\", \"gridcolor\": \"white\", \"gridwidth\": 2, \"linecolor\": \"white\", \"showbackground\": true, \"ticks\": \"\", \"zerolinecolor\": \"white\"}, \"zaxis\": {\"backgroundcolor\": \"#E5ECF6\", \"gridcolor\": \"white\", \"gridwidth\": 2, \"linecolor\": \"white\", \"showbackground\": true, \"ticks\": \"\", \"zerolinecolor\": \"white\"}}, \"shapedefaults\": {\"line\": {\"color\": \"#2a3f5f\"}}, \"ternary\": {\"aaxis\": {\"gridcolor\": \"white\", \"linecolor\": \"white\", \"ticks\": \"\"}, \"baxis\": {\"gridcolor\": \"white\", \"linecolor\": \"white\", \"ticks\": \"\"}, \"bgcolor\": \"#E5ECF6\", \"caxis\": {\"gridcolor\": \"white\", \"linecolor\": \"white\", \"ticks\": \"\"}}, \"title\": {\"x\": 0.05}, \"xaxis\": {\"automargin\": true, \"gridcolor\": \"white\", \"linecolor\": \"white\", \"ticks\": \"\", \"title\": {\"standoff\": 15}, \"zerolinecolor\": \"white\", \"zerolinewidth\": 2}, \"yaxis\": {\"automargin\": true, \"gridcolor\": \"white\", \"linecolor\": \"white\", \"ticks\": \"\", \"title\": {\"standoff\": 15}, \"zerolinecolor\": \"white\", \"zerolinewidth\": 2}}}, \"title\": {\"font\": {\"color\": \"#4D5663\"}}, \"xaxis\": {\"gridcolor\": \"#E1E5ED\", \"showgrid\": true, \"tickfont\": {\"color\": \"#4D5663\"}, \"title\": {\"font\": {\"color\": \"#4D5663\"}, \"text\": \"\"}, \"zerolinecolor\": \"#E1E5ED\"}, \"yaxis\": {\"gridcolor\": \"#E1E5ED\", \"showgrid\": true, \"tickfont\": {\"color\": \"#4D5663\"}, \"title\": {\"font\": {\"color\": \"#4D5663\"}, \"text\": \"\"}, \"zerolinecolor\": \"#E1E5ED\"}},\n",
       "                        {\"showLink\": true, \"linkText\": \"Export to plot.ly\", \"plotlyServerURL\": \"https://plot.ly\", \"responsive\": true}\n",
       "                    ).then(function(){\n",
       "                            \n",
       "var gd = document.getElementById('af40b0e7-e02e-4c2d-8344-705c1719353c');\n",
       "var x = new MutationObserver(function (mutations, observer) {{\n",
       "        var display = window.getComputedStyle(gd).display;\n",
       "        if (!display || display === 'none') {{\n",
       "            console.log([gd, 'removed!']);\n",
       "            Plotly.purge(gd);\n",
       "            observer.disconnect();\n",
       "        }}\n",
       "}});\n",
       "\n",
       "// Listen for the removal of the full notebook cells\n",
       "var notebookContainer = gd.closest('#notebook-container');\n",
       "if (notebookContainer) {{\n",
       "    x.observe(notebookContainer, {childList: true});\n",
       "}}\n",
       "\n",
       "// Listen for the clearing of the current output cell\n",
       "var outputEl = gd.closest('.output');\n",
       "if (outputEl) {{\n",
       "    x.observe(outputEl, {childList: true});\n",
       "}}\n",
       "\n",
       "                        })\n",
       "                };\n",
       "                });\n",
       "            </script>\n",
       "        </div>"
      ]
     },
     "metadata": {},
     "output_type": "display_data"
    }
   ],
   "source": [
    "df.count().iplot(kind='bar')"
   ]
  },
  {
   "cell_type": "code",
   "execution_count": 26,
   "metadata": {},
   "outputs": [
    {
     "data": {
      "application/vnd.plotly.v1+json": {
       "config": {
        "linkText": "Export to plot.ly",
        "plotlyServerURL": "https://plot.ly",
        "showLink": true
       },
       "data": [
        {
         "marker": {
          "color": "rgba(255, 153, 51, 0.6)",
          "line": {
           "color": "rgba(255, 153, 51, 1.0)",
           "width": 1
          }
         },
         "name": "None",
         "orientation": "v",
         "text": "",
         "type": "bar",
         "x": [
          "A",
          "B",
          "C",
          "D"
         ],
         "y": [
          -1.723745647255086,
          -0.5748792224916008,
          -9.04461420821082,
          -13.29227047680263
         ]
        }
       ],
       "layout": {
        "legend": {
         "bgcolor": "#F5F6F9",
         "font": {
          "color": "#4D5663"
         }
        },
        "paper_bgcolor": "#F5F6F9",
        "plot_bgcolor": "#F5F6F9",
        "template": {
         "data": {
          "bar": [
           {
            "error_x": {
             "color": "#2a3f5f"
            },
            "error_y": {
             "color": "#2a3f5f"
            },
            "marker": {
             "line": {
              "color": "#E5ECF6",
              "width": 0.5
             }
            },
            "type": "bar"
           }
          ],
          "barpolar": [
           {
            "marker": {
             "line": {
              "color": "#E5ECF6",
              "width": 0.5
             }
            },
            "type": "barpolar"
           }
          ],
          "carpet": [
           {
            "aaxis": {
             "endlinecolor": "#2a3f5f",
             "gridcolor": "white",
             "linecolor": "white",
             "minorgridcolor": "white",
             "startlinecolor": "#2a3f5f"
            },
            "baxis": {
             "endlinecolor": "#2a3f5f",
             "gridcolor": "white",
             "linecolor": "white",
             "minorgridcolor": "white",
             "startlinecolor": "#2a3f5f"
            },
            "type": "carpet"
           }
          ],
          "choropleth": [
           {
            "colorbar": {
             "outlinewidth": 0,
             "ticks": ""
            },
            "type": "choropleth"
           }
          ],
          "contour": [
           {
            "colorbar": {
             "outlinewidth": 0,
             "ticks": ""
            },
            "colorscale": [
             [
              0,
              "#0d0887"
             ],
             [
              0.1111111111111111,
              "#46039f"
             ],
             [
              0.2222222222222222,
              "#7201a8"
             ],
             [
              0.3333333333333333,
              "#9c179e"
             ],
             [
              0.4444444444444444,
              "#bd3786"
             ],
             [
              0.5555555555555556,
              "#d8576b"
             ],
             [
              0.6666666666666666,
              "#ed7953"
             ],
             [
              0.7777777777777778,
              "#fb9f3a"
             ],
             [
              0.8888888888888888,
              "#fdca26"
             ],
             [
              1,
              "#f0f921"
             ]
            ],
            "type": "contour"
           }
          ],
          "contourcarpet": [
           {
            "colorbar": {
             "outlinewidth": 0,
             "ticks": ""
            },
            "type": "contourcarpet"
           }
          ],
          "heatmap": [
           {
            "colorbar": {
             "outlinewidth": 0,
             "ticks": ""
            },
            "colorscale": [
             [
              0,
              "#0d0887"
             ],
             [
              0.1111111111111111,
              "#46039f"
             ],
             [
              0.2222222222222222,
              "#7201a8"
             ],
             [
              0.3333333333333333,
              "#9c179e"
             ],
             [
              0.4444444444444444,
              "#bd3786"
             ],
             [
              0.5555555555555556,
              "#d8576b"
             ],
             [
              0.6666666666666666,
              "#ed7953"
             ],
             [
              0.7777777777777778,
              "#fb9f3a"
             ],
             [
              0.8888888888888888,
              "#fdca26"
             ],
             [
              1,
              "#f0f921"
             ]
            ],
            "type": "heatmap"
           }
          ],
          "heatmapgl": [
           {
            "colorbar": {
             "outlinewidth": 0,
             "ticks": ""
            },
            "colorscale": [
             [
              0,
              "#0d0887"
             ],
             [
              0.1111111111111111,
              "#46039f"
             ],
             [
              0.2222222222222222,
              "#7201a8"
             ],
             [
              0.3333333333333333,
              "#9c179e"
             ],
             [
              0.4444444444444444,
              "#bd3786"
             ],
             [
              0.5555555555555556,
              "#d8576b"
             ],
             [
              0.6666666666666666,
              "#ed7953"
             ],
             [
              0.7777777777777778,
              "#fb9f3a"
             ],
             [
              0.8888888888888888,
              "#fdca26"
             ],
             [
              1,
              "#f0f921"
             ]
            ],
            "type": "heatmapgl"
           }
          ],
          "histogram": [
           {
            "marker": {
             "colorbar": {
              "outlinewidth": 0,
              "ticks": ""
             }
            },
            "type": "histogram"
           }
          ],
          "histogram2d": [
           {
            "colorbar": {
             "outlinewidth": 0,
             "ticks": ""
            },
            "colorscale": [
             [
              0,
              "#0d0887"
             ],
             [
              0.1111111111111111,
              "#46039f"
             ],
             [
              0.2222222222222222,
              "#7201a8"
             ],
             [
              0.3333333333333333,
              "#9c179e"
             ],
             [
              0.4444444444444444,
              "#bd3786"
             ],
             [
              0.5555555555555556,
              "#d8576b"
             ],
             [
              0.6666666666666666,
              "#ed7953"
             ],
             [
              0.7777777777777778,
              "#fb9f3a"
             ],
             [
              0.8888888888888888,
              "#fdca26"
             ],
             [
              1,
              "#f0f921"
             ]
            ],
            "type": "histogram2d"
           }
          ],
          "histogram2dcontour": [
           {
            "colorbar": {
             "outlinewidth": 0,
             "ticks": ""
            },
            "colorscale": [
             [
              0,
              "#0d0887"
             ],
             [
              0.1111111111111111,
              "#46039f"
             ],
             [
              0.2222222222222222,
              "#7201a8"
             ],
             [
              0.3333333333333333,
              "#9c179e"
             ],
             [
              0.4444444444444444,
              "#bd3786"
             ],
             [
              0.5555555555555556,
              "#d8576b"
             ],
             [
              0.6666666666666666,
              "#ed7953"
             ],
             [
              0.7777777777777778,
              "#fb9f3a"
             ],
             [
              0.8888888888888888,
              "#fdca26"
             ],
             [
              1,
              "#f0f921"
             ]
            ],
            "type": "histogram2dcontour"
           }
          ],
          "mesh3d": [
           {
            "colorbar": {
             "outlinewidth": 0,
             "ticks": ""
            },
            "type": "mesh3d"
           }
          ],
          "parcoords": [
           {
            "line": {
             "colorbar": {
              "outlinewidth": 0,
              "ticks": ""
             }
            },
            "type": "parcoords"
           }
          ],
          "pie": [
           {
            "automargin": true,
            "type": "pie"
           }
          ],
          "scatter": [
           {
            "marker": {
             "colorbar": {
              "outlinewidth": 0,
              "ticks": ""
             }
            },
            "type": "scatter"
           }
          ],
          "scatter3d": [
           {
            "line": {
             "colorbar": {
              "outlinewidth": 0,
              "ticks": ""
             }
            },
            "marker": {
             "colorbar": {
              "outlinewidth": 0,
              "ticks": ""
             }
            },
            "type": "scatter3d"
           }
          ],
          "scattercarpet": [
           {
            "marker": {
             "colorbar": {
              "outlinewidth": 0,
              "ticks": ""
             }
            },
            "type": "scattercarpet"
           }
          ],
          "scattergeo": [
           {
            "marker": {
             "colorbar": {
              "outlinewidth": 0,
              "ticks": ""
             }
            },
            "type": "scattergeo"
           }
          ],
          "scattergl": [
           {
            "marker": {
             "colorbar": {
              "outlinewidth": 0,
              "ticks": ""
             }
            },
            "type": "scattergl"
           }
          ],
          "scattermapbox": [
           {
            "marker": {
             "colorbar": {
              "outlinewidth": 0,
              "ticks": ""
             }
            },
            "type": "scattermapbox"
           }
          ],
          "scatterpolar": [
           {
            "marker": {
             "colorbar": {
              "outlinewidth": 0,
              "ticks": ""
             }
            },
            "type": "scatterpolar"
           }
          ],
          "scatterpolargl": [
           {
            "marker": {
             "colorbar": {
              "outlinewidth": 0,
              "ticks": ""
             }
            },
            "type": "scatterpolargl"
           }
          ],
          "scatterternary": [
           {
            "marker": {
             "colorbar": {
              "outlinewidth": 0,
              "ticks": ""
             }
            },
            "type": "scatterternary"
           }
          ],
          "surface": [
           {
            "colorbar": {
             "outlinewidth": 0,
             "ticks": ""
            },
            "colorscale": [
             [
              0,
              "#0d0887"
             ],
             [
              0.1111111111111111,
              "#46039f"
             ],
             [
              0.2222222222222222,
              "#7201a8"
             ],
             [
              0.3333333333333333,
              "#9c179e"
             ],
             [
              0.4444444444444444,
              "#bd3786"
             ],
             [
              0.5555555555555556,
              "#d8576b"
             ],
             [
              0.6666666666666666,
              "#ed7953"
             ],
             [
              0.7777777777777778,
              "#fb9f3a"
             ],
             [
              0.8888888888888888,
              "#fdca26"
             ],
             [
              1,
              "#f0f921"
             ]
            ],
            "type": "surface"
           }
          ],
          "table": [
           {
            "cells": {
             "fill": {
              "color": "#EBF0F8"
             },
             "line": {
              "color": "white"
             }
            },
            "header": {
             "fill": {
              "color": "#C8D4E3"
             },
             "line": {
              "color": "white"
             }
            },
            "type": "table"
           }
          ]
         },
         "layout": {
          "annotationdefaults": {
           "arrowcolor": "#2a3f5f",
           "arrowhead": 0,
           "arrowwidth": 1
          },
          "coloraxis": {
           "colorbar": {
            "outlinewidth": 0,
            "ticks": ""
           }
          },
          "colorscale": {
           "diverging": [
            [
             0,
             "#8e0152"
            ],
            [
             0.1,
             "#c51b7d"
            ],
            [
             0.2,
             "#de77ae"
            ],
            [
             0.3,
             "#f1b6da"
            ],
            [
             0.4,
             "#fde0ef"
            ],
            [
             0.5,
             "#f7f7f7"
            ],
            [
             0.6,
             "#e6f5d0"
            ],
            [
             0.7,
             "#b8e186"
            ],
            [
             0.8,
             "#7fbc41"
            ],
            [
             0.9,
             "#4d9221"
            ],
            [
             1,
             "#276419"
            ]
           ],
           "sequential": [
            [
             0,
             "#0d0887"
            ],
            [
             0.1111111111111111,
             "#46039f"
            ],
            [
             0.2222222222222222,
             "#7201a8"
            ],
            [
             0.3333333333333333,
             "#9c179e"
            ],
            [
             0.4444444444444444,
             "#bd3786"
            ],
            [
             0.5555555555555556,
             "#d8576b"
            ],
            [
             0.6666666666666666,
             "#ed7953"
            ],
            [
             0.7777777777777778,
             "#fb9f3a"
            ],
            [
             0.8888888888888888,
             "#fdca26"
            ],
            [
             1,
             "#f0f921"
            ]
           ],
           "sequentialminus": [
            [
             0,
             "#0d0887"
            ],
            [
             0.1111111111111111,
             "#46039f"
            ],
            [
             0.2222222222222222,
             "#7201a8"
            ],
            [
             0.3333333333333333,
             "#9c179e"
            ],
            [
             0.4444444444444444,
             "#bd3786"
            ],
            [
             0.5555555555555556,
             "#d8576b"
            ],
            [
             0.6666666666666666,
             "#ed7953"
            ],
            [
             0.7777777777777778,
             "#fb9f3a"
            ],
            [
             0.8888888888888888,
             "#fdca26"
            ],
            [
             1,
             "#f0f921"
            ]
           ]
          },
          "colorway": [
           "#636efa",
           "#EF553B",
           "#00cc96",
           "#ab63fa",
           "#FFA15A",
           "#19d3f3",
           "#FF6692",
           "#B6E880",
           "#FF97FF",
           "#FECB52"
          ],
          "font": {
           "color": "#2a3f5f"
          },
          "geo": {
           "bgcolor": "white",
           "lakecolor": "white",
           "landcolor": "#E5ECF6",
           "showlakes": true,
           "showland": true,
           "subunitcolor": "white"
          },
          "hoverlabel": {
           "align": "left"
          },
          "hovermode": "closest",
          "mapbox": {
           "style": "light"
          },
          "paper_bgcolor": "white",
          "plot_bgcolor": "#E5ECF6",
          "polar": {
           "angularaxis": {
            "gridcolor": "white",
            "linecolor": "white",
            "ticks": ""
           },
           "bgcolor": "#E5ECF6",
           "radialaxis": {
            "gridcolor": "white",
            "linecolor": "white",
            "ticks": ""
           }
          },
          "scene": {
           "xaxis": {
            "backgroundcolor": "#E5ECF6",
            "gridcolor": "white",
            "gridwidth": 2,
            "linecolor": "white",
            "showbackground": true,
            "ticks": "",
            "zerolinecolor": "white"
           },
           "yaxis": {
            "backgroundcolor": "#E5ECF6",
            "gridcolor": "white",
            "gridwidth": 2,
            "linecolor": "white",
            "showbackground": true,
            "ticks": "",
            "zerolinecolor": "white"
           },
           "zaxis": {
            "backgroundcolor": "#E5ECF6",
            "gridcolor": "white",
            "gridwidth": 2,
            "linecolor": "white",
            "showbackground": true,
            "ticks": "",
            "zerolinecolor": "white"
           }
          },
          "shapedefaults": {
           "line": {
            "color": "#2a3f5f"
           }
          },
          "ternary": {
           "aaxis": {
            "gridcolor": "white",
            "linecolor": "white",
            "ticks": ""
           },
           "baxis": {
            "gridcolor": "white",
            "linecolor": "white",
            "ticks": ""
           },
           "bgcolor": "#E5ECF6",
           "caxis": {
            "gridcolor": "white",
            "linecolor": "white",
            "ticks": ""
           }
          },
          "title": {
           "x": 0.05
          },
          "xaxis": {
           "automargin": true,
           "gridcolor": "white",
           "linecolor": "white",
           "ticks": "",
           "title": {
            "standoff": 15
           },
           "zerolinecolor": "white",
           "zerolinewidth": 2
          },
          "yaxis": {
           "automargin": true,
           "gridcolor": "white",
           "linecolor": "white",
           "ticks": "",
           "title": {
            "standoff": 15
           },
           "zerolinecolor": "white",
           "zerolinewidth": 2
          }
         }
        },
        "title": {
         "font": {
          "color": "#4D5663"
         }
        },
        "xaxis": {
         "gridcolor": "#E1E5ED",
         "showgrid": true,
         "tickfont": {
          "color": "#4D5663"
         },
         "title": {
          "font": {
           "color": "#4D5663"
          },
          "text": ""
         },
         "zerolinecolor": "#E1E5ED"
        },
        "yaxis": {
         "gridcolor": "#E1E5ED",
         "showgrid": true,
         "tickfont": {
          "color": "#4D5663"
         },
         "title": {
          "font": {
           "color": "#4D5663"
          },
          "text": ""
         },
         "zerolinecolor": "#E1E5ED"
        }
       }
      },
      "text/html": [
       "<div>\n",
       "        \n",
       "        \n",
       "            <div id=\"4079ac8b-058b-4b29-a2e4-8399c4a98eb8\" class=\"plotly-graph-div\" style=\"height:525px; width:100%;\"></div>\n",
       "            <script type=\"text/javascript\">\n",
       "                require([\"plotly\"], function(Plotly) {\n",
       "                    window.PLOTLYENV=window.PLOTLYENV || {};\n",
       "                    window.PLOTLYENV.BASE_URL='https://plot.ly';\n",
       "                    \n",
       "                if (document.getElementById(\"4079ac8b-058b-4b29-a2e4-8399c4a98eb8\")) {\n",
       "                    Plotly.newPlot(\n",
       "                        '4079ac8b-058b-4b29-a2e4-8399c4a98eb8',\n",
       "                        [{\"marker\": {\"color\": \"rgba(255, 153, 51, 0.6)\", \"line\": {\"color\": \"rgba(255, 153, 51, 1.0)\", \"width\": 1}}, \"name\": \"None\", \"orientation\": \"v\", \"text\": \"\", \"type\": \"bar\", \"x\": [\"A\", \"B\", \"C\", \"D\"], \"y\": [-1.723745647255086, -0.5748792224916008, -9.04461420821082, -13.29227047680263]}],\n",
       "                        {\"legend\": {\"bgcolor\": \"#F5F6F9\", \"font\": {\"color\": \"#4D5663\"}}, \"paper_bgcolor\": \"#F5F6F9\", \"plot_bgcolor\": \"#F5F6F9\", \"template\": {\"data\": {\"bar\": [{\"error_x\": {\"color\": \"#2a3f5f\"}, \"error_y\": {\"color\": \"#2a3f5f\"}, \"marker\": {\"line\": {\"color\": \"#E5ECF6\", \"width\": 0.5}}, \"type\": \"bar\"}], \"barpolar\": [{\"marker\": {\"line\": {\"color\": \"#E5ECF6\", \"width\": 0.5}}, \"type\": \"barpolar\"}], \"carpet\": [{\"aaxis\": {\"endlinecolor\": \"#2a3f5f\", \"gridcolor\": \"white\", \"linecolor\": \"white\", \"minorgridcolor\": \"white\", \"startlinecolor\": \"#2a3f5f\"}, \"baxis\": {\"endlinecolor\": \"#2a3f5f\", \"gridcolor\": \"white\", \"linecolor\": \"white\", \"minorgridcolor\": \"white\", \"startlinecolor\": \"#2a3f5f\"}, \"type\": \"carpet\"}], \"choropleth\": [{\"colorbar\": {\"outlinewidth\": 0, \"ticks\": \"\"}, \"type\": \"choropleth\"}], \"contour\": [{\"colorbar\": {\"outlinewidth\": 0, \"ticks\": \"\"}, \"colorscale\": [[0.0, \"#0d0887\"], [0.1111111111111111, \"#46039f\"], [0.2222222222222222, \"#7201a8\"], [0.3333333333333333, \"#9c179e\"], [0.4444444444444444, \"#bd3786\"], [0.5555555555555556, \"#d8576b\"], [0.6666666666666666, \"#ed7953\"], [0.7777777777777778, \"#fb9f3a\"], [0.8888888888888888, \"#fdca26\"], [1.0, \"#f0f921\"]], \"type\": \"contour\"}], \"contourcarpet\": [{\"colorbar\": {\"outlinewidth\": 0, \"ticks\": \"\"}, \"type\": \"contourcarpet\"}], \"heatmap\": [{\"colorbar\": {\"outlinewidth\": 0, \"ticks\": \"\"}, \"colorscale\": [[0.0, \"#0d0887\"], [0.1111111111111111, \"#46039f\"], [0.2222222222222222, \"#7201a8\"], [0.3333333333333333, \"#9c179e\"], [0.4444444444444444, \"#bd3786\"], [0.5555555555555556, \"#d8576b\"], [0.6666666666666666, \"#ed7953\"], [0.7777777777777778, \"#fb9f3a\"], [0.8888888888888888, \"#fdca26\"], [1.0, \"#f0f921\"]], \"type\": \"heatmap\"}], \"heatmapgl\": [{\"colorbar\": {\"outlinewidth\": 0, \"ticks\": \"\"}, \"colorscale\": [[0.0, \"#0d0887\"], [0.1111111111111111, \"#46039f\"], [0.2222222222222222, \"#7201a8\"], [0.3333333333333333, \"#9c179e\"], [0.4444444444444444, \"#bd3786\"], [0.5555555555555556, \"#d8576b\"], [0.6666666666666666, \"#ed7953\"], [0.7777777777777778, \"#fb9f3a\"], [0.8888888888888888, \"#fdca26\"], [1.0, \"#f0f921\"]], \"type\": \"heatmapgl\"}], \"histogram\": [{\"marker\": {\"colorbar\": {\"outlinewidth\": 0, \"ticks\": \"\"}}, \"type\": \"histogram\"}], \"histogram2d\": [{\"colorbar\": {\"outlinewidth\": 0, \"ticks\": \"\"}, \"colorscale\": [[0.0, \"#0d0887\"], [0.1111111111111111, \"#46039f\"], [0.2222222222222222, \"#7201a8\"], [0.3333333333333333, \"#9c179e\"], [0.4444444444444444, \"#bd3786\"], [0.5555555555555556, \"#d8576b\"], [0.6666666666666666, \"#ed7953\"], [0.7777777777777778, \"#fb9f3a\"], [0.8888888888888888, \"#fdca26\"], [1.0, \"#f0f921\"]], \"type\": \"histogram2d\"}], \"histogram2dcontour\": [{\"colorbar\": {\"outlinewidth\": 0, \"ticks\": \"\"}, \"colorscale\": [[0.0, \"#0d0887\"], [0.1111111111111111, \"#46039f\"], [0.2222222222222222, \"#7201a8\"], [0.3333333333333333, \"#9c179e\"], [0.4444444444444444, \"#bd3786\"], [0.5555555555555556, \"#d8576b\"], [0.6666666666666666, \"#ed7953\"], [0.7777777777777778, \"#fb9f3a\"], [0.8888888888888888, \"#fdca26\"], [1.0, \"#f0f921\"]], \"type\": \"histogram2dcontour\"}], \"mesh3d\": [{\"colorbar\": {\"outlinewidth\": 0, \"ticks\": \"\"}, \"type\": \"mesh3d\"}], \"parcoords\": [{\"line\": {\"colorbar\": {\"outlinewidth\": 0, \"ticks\": \"\"}}, \"type\": \"parcoords\"}], \"pie\": [{\"automargin\": true, \"type\": \"pie\"}], \"scatter\": [{\"marker\": {\"colorbar\": {\"outlinewidth\": 0, \"ticks\": \"\"}}, \"type\": \"scatter\"}], \"scatter3d\": [{\"line\": {\"colorbar\": {\"outlinewidth\": 0, \"ticks\": \"\"}}, \"marker\": {\"colorbar\": {\"outlinewidth\": 0, \"ticks\": \"\"}}, \"type\": \"scatter3d\"}], \"scattercarpet\": [{\"marker\": {\"colorbar\": {\"outlinewidth\": 0, \"ticks\": \"\"}}, \"type\": \"scattercarpet\"}], \"scattergeo\": [{\"marker\": {\"colorbar\": {\"outlinewidth\": 0, \"ticks\": \"\"}}, \"type\": \"scattergeo\"}], \"scattergl\": [{\"marker\": {\"colorbar\": {\"outlinewidth\": 0, \"ticks\": \"\"}}, \"type\": \"scattergl\"}], \"scattermapbox\": [{\"marker\": {\"colorbar\": {\"outlinewidth\": 0, \"ticks\": \"\"}}, \"type\": \"scattermapbox\"}], \"scatterpolar\": [{\"marker\": {\"colorbar\": {\"outlinewidth\": 0, \"ticks\": \"\"}}, \"type\": \"scatterpolar\"}], \"scatterpolargl\": [{\"marker\": {\"colorbar\": {\"outlinewidth\": 0, \"ticks\": \"\"}}, \"type\": \"scatterpolargl\"}], \"scatterternary\": [{\"marker\": {\"colorbar\": {\"outlinewidth\": 0, \"ticks\": \"\"}}, \"type\": \"scatterternary\"}], \"surface\": [{\"colorbar\": {\"outlinewidth\": 0, \"ticks\": \"\"}, \"colorscale\": [[0.0, \"#0d0887\"], [0.1111111111111111, \"#46039f\"], [0.2222222222222222, \"#7201a8\"], [0.3333333333333333, \"#9c179e\"], [0.4444444444444444, \"#bd3786\"], [0.5555555555555556, \"#d8576b\"], [0.6666666666666666, \"#ed7953\"], [0.7777777777777778, \"#fb9f3a\"], [0.8888888888888888, \"#fdca26\"], [1.0, \"#f0f921\"]], \"type\": \"surface\"}], \"table\": [{\"cells\": {\"fill\": {\"color\": \"#EBF0F8\"}, \"line\": {\"color\": \"white\"}}, \"header\": {\"fill\": {\"color\": \"#C8D4E3\"}, \"line\": {\"color\": \"white\"}}, \"type\": \"table\"}]}, \"layout\": {\"annotationdefaults\": {\"arrowcolor\": \"#2a3f5f\", \"arrowhead\": 0, \"arrowwidth\": 1}, \"coloraxis\": {\"colorbar\": {\"outlinewidth\": 0, \"ticks\": \"\"}}, \"colorscale\": {\"diverging\": [[0, \"#8e0152\"], [0.1, \"#c51b7d\"], [0.2, \"#de77ae\"], [0.3, \"#f1b6da\"], [0.4, \"#fde0ef\"], [0.5, \"#f7f7f7\"], [0.6, \"#e6f5d0\"], [0.7, \"#b8e186\"], [0.8, \"#7fbc41\"], [0.9, \"#4d9221\"], [1, \"#276419\"]], \"sequential\": [[0.0, \"#0d0887\"], [0.1111111111111111, \"#46039f\"], [0.2222222222222222, \"#7201a8\"], [0.3333333333333333, \"#9c179e\"], [0.4444444444444444, \"#bd3786\"], [0.5555555555555556, \"#d8576b\"], [0.6666666666666666, \"#ed7953\"], [0.7777777777777778, \"#fb9f3a\"], [0.8888888888888888, \"#fdca26\"], [1.0, \"#f0f921\"]], \"sequentialminus\": [[0.0, \"#0d0887\"], [0.1111111111111111, \"#46039f\"], [0.2222222222222222, \"#7201a8\"], [0.3333333333333333, \"#9c179e\"], [0.4444444444444444, \"#bd3786\"], [0.5555555555555556, \"#d8576b\"], [0.6666666666666666, \"#ed7953\"], [0.7777777777777778, \"#fb9f3a\"], [0.8888888888888888, \"#fdca26\"], [1.0, \"#f0f921\"]]}, \"colorway\": [\"#636efa\", \"#EF553B\", \"#00cc96\", \"#ab63fa\", \"#FFA15A\", \"#19d3f3\", \"#FF6692\", \"#B6E880\", \"#FF97FF\", \"#FECB52\"], \"font\": {\"color\": \"#2a3f5f\"}, \"geo\": {\"bgcolor\": \"white\", \"lakecolor\": \"white\", \"landcolor\": \"#E5ECF6\", \"showlakes\": true, \"showland\": true, \"subunitcolor\": \"white\"}, \"hoverlabel\": {\"align\": \"left\"}, \"hovermode\": \"closest\", \"mapbox\": {\"style\": \"light\"}, \"paper_bgcolor\": \"white\", \"plot_bgcolor\": \"#E5ECF6\", \"polar\": {\"angularaxis\": {\"gridcolor\": \"white\", \"linecolor\": \"white\", \"ticks\": \"\"}, \"bgcolor\": \"#E5ECF6\", \"radialaxis\": {\"gridcolor\": \"white\", \"linecolor\": \"white\", \"ticks\": \"\"}}, \"scene\": {\"xaxis\": {\"backgroundcolor\": \"#E5ECF6\", \"gridcolor\": \"white\", \"gridwidth\": 2, \"linecolor\": \"white\", \"showbackground\": true, \"ticks\": \"\", \"zerolinecolor\": \"white\"}, \"yaxis\": {\"backgroundcolor\": \"#E5ECF6\", \"gridcolor\": \"white\", \"gridwidth\": 2, \"linecolor\": \"white\", \"showbackground\": true, \"ticks\": \"\", \"zerolinecolor\": \"white\"}, \"zaxis\": {\"backgroundcolor\": \"#E5ECF6\", \"gridcolor\": \"white\", \"gridwidth\": 2, \"linecolor\": \"white\", \"showbackground\": true, \"ticks\": \"\", \"zerolinecolor\": \"white\"}}, \"shapedefaults\": {\"line\": {\"color\": \"#2a3f5f\"}}, \"ternary\": {\"aaxis\": {\"gridcolor\": \"white\", \"linecolor\": \"white\", \"ticks\": \"\"}, \"baxis\": {\"gridcolor\": \"white\", \"linecolor\": \"white\", \"ticks\": \"\"}, \"bgcolor\": \"#E5ECF6\", \"caxis\": {\"gridcolor\": \"white\", \"linecolor\": \"white\", \"ticks\": \"\"}}, \"title\": {\"x\": 0.05}, \"xaxis\": {\"automargin\": true, \"gridcolor\": \"white\", \"linecolor\": \"white\", \"ticks\": \"\", \"title\": {\"standoff\": 15}, \"zerolinecolor\": \"white\", \"zerolinewidth\": 2}, \"yaxis\": {\"automargin\": true, \"gridcolor\": \"white\", \"linecolor\": \"white\", \"ticks\": \"\", \"title\": {\"standoff\": 15}, \"zerolinecolor\": \"white\", \"zerolinewidth\": 2}}}, \"title\": {\"font\": {\"color\": \"#4D5663\"}}, \"xaxis\": {\"gridcolor\": \"#E1E5ED\", \"showgrid\": true, \"tickfont\": {\"color\": \"#4D5663\"}, \"title\": {\"font\": {\"color\": \"#4D5663\"}, \"text\": \"\"}, \"zerolinecolor\": \"#E1E5ED\"}, \"yaxis\": {\"gridcolor\": \"#E1E5ED\", \"showgrid\": true, \"tickfont\": {\"color\": \"#4D5663\"}, \"title\": {\"font\": {\"color\": \"#4D5663\"}, \"text\": \"\"}, \"zerolinecolor\": \"#E1E5ED\"}},\n",
       "                        {\"showLink\": true, \"linkText\": \"Export to plot.ly\", \"plotlyServerURL\": \"https://plot.ly\", \"responsive\": true}\n",
       "                    ).then(function(){\n",
       "                            \n",
       "var gd = document.getElementById('4079ac8b-058b-4b29-a2e4-8399c4a98eb8');\n",
       "var x = new MutationObserver(function (mutations, observer) {{\n",
       "        var display = window.getComputedStyle(gd).display;\n",
       "        if (!display || display === 'none') {{\n",
       "            console.log([gd, 'removed!']);\n",
       "            Plotly.purge(gd);\n",
       "            observer.disconnect();\n",
       "        }}\n",
       "}});\n",
       "\n",
       "// Listen for the removal of the full notebook cells\n",
       "var notebookContainer = gd.closest('#notebook-container');\n",
       "if (notebookContainer) {{\n",
       "    x.observe(notebookContainer, {childList: true});\n",
       "}}\n",
       "\n",
       "// Listen for the clearing of the current output cell\n",
       "var outputEl = gd.closest('.output');\n",
       "if (outputEl) {{\n",
       "    x.observe(outputEl, {childList: true});\n",
       "}}\n",
       "\n",
       "                        })\n",
       "                };\n",
       "                });\n",
       "            </script>\n",
       "        </div>"
      ]
     },
     "metadata": {},
     "output_type": "display_data"
    }
   ],
   "source": [
    "df.sum().iplot(kind='bar')"
   ]
  },
  {
   "cell_type": "code",
   "execution_count": 28,
   "metadata": {},
   "outputs": [
    {
     "data": {
      "application/vnd.plotly.v1+json": {
       "config": {
        "linkText": "Export to plot.ly",
        "plotlyServerURL": "https://plot.ly",
        "showLink": true
       },
       "data": [
        {
         "boxpoints": false,
         "line": {
          "width": 1.3
         },
         "marker": {
          "color": "rgba(255, 153, 51, 1.0)"
         },
         "name": "A",
         "orientation": "v",
         "type": "box",
         "y": [
          -1.0227072602404605,
          1.1091700991385929,
          -1.4993969726670624,
          1.8768911811202638,
          -0.1584068038282462,
          0.5636778234135267,
          1.1643293657731082,
          -2.5453901249124367,
          -2.6995540910248312,
          0.830994313571333,
          -1.468665893590867,
          2.4870167762098214,
          0.5278277847426068,
          -2.2474017579936096,
          0.9392149363934074,
          0.333173802178018,
          -0.2518400271011279,
          0.5699429582714065,
          -0.9394005219839601,
          -0.5798540158672266,
          -1.1122285231351523,
          -0.5505823743314988,
          0.8431979643718024,
          -0.6698833258259573,
          1.4971121025574492,
          0.8110972529880883,
          -1.420772301496858,
          -1.238688195272796,
          0.738641139209335,
          0.30015097358503756,
          0.3857414137896417,
          0.7981149360380709,
          -1.09216358333296,
          -0.09947700731426419,
          -0.9575398718705561,
          -0.7941309017001477,
          0.5013365071315352,
          0.24182198672120908,
          -1.279837031259551,
          0.3465677983280072,
          2.0684845009039283,
          -0.2675234143132672,
          -0.5863391539096587,
          -2.4969552041074654,
          0.2470986876555305,
          1.5518128255305705,
          -0.781453918744178,
          -0.4864350671756053,
          1.7838960390576342,
          1.376521799342055,
          -0.02897847559348279,
          0.48547086276997553,
          1.3450898442841346,
          0.9888210486728403,
          -0.05411332033261771,
          -0.8641544902907613,
          -0.2756638826219286,
          1.5285699283236265,
          1.3448113873888643,
          -1.8769444454648108,
          -0.6671405401337398,
          -0.2922400814776645,
          0.080522552719805,
          -0.2655153357214515,
          0.17443548857794025,
          -0.20220757214113935,
          0.6085444227049939,
          -0.5398965196930543,
          -0.6486043699179436,
          0.07622659494578123,
          -1.1432441394493909,
          0.5117491223277846,
          0.5670963420711427,
          -1.556235182008322,
          2.2459400794950364,
          -0.2604219941766891,
          -1.6823252830735502,
          -2.493101370763733,
          -0.0863347511312303,
          1.443794649564759,
          -0.2011444145719318,
          0.3438950305951134,
          0.2607245037792382,
          0.792122700578744,
          1.7786098266291699,
          0.5352909661118613,
          -0.12294442612489852,
          1.1978976876974878,
          -0.3173406496272341,
          1.0472990438814478,
          0.3146805337346373,
          -0.607084650338605,
          -0.7359566251717335,
          0.4007922748288922,
          1.279517538903847,
          -0.22936483222501214,
          -0.5182994714755288,
          -0.848876107050886,
          -1.3865228467599007,
          0.18180007447279647
         ]
        },
        {
         "boxpoints": false,
         "line": {
          "width": 1.3
         },
         "marker": {
          "color": "rgba(55, 128, 191, 1.0)"
         },
         "name": "B",
         "orientation": "v",
         "type": "box",
         "y": [
          -0.7305625969818371,
          0.783362976846267,
          -0.6488174141162153,
          -1.379008968011247,
          0.8310618838938229,
          1.1778421647831814,
          0.3084172494654089,
          1.8990195971023394,
          0.10340485577957621,
          0.059026265280790365,
          0.510536253894352,
          -2.1538459076845924,
          0.3174261488262944,
          0.049624395432911424,
          -2.128017053722008,
          0.15190610867356308,
          0.649293489777525,
          0.45449245140423905,
          -0.39329927875529924,
          -0.06602567256010221,
          0.4511054143988493,
          0.5433725229594577,
          0.4233946966960372,
          -2.1635183337437978,
          -0.7067255386231072,
          -0.6177904210856345,
          -0.6595067079822083,
          1.5510904520567041,
          0.9018668632766085,
          0.09947906700423,
          -0.15621592041765242,
          -0.33499138194246636,
          -0.5163408026271186,
          -0.8489613479258857,
          -0.730817422127436,
          -0.4181302913241633,
          0.845253121042682,
          -0.43732468963958265,
          0.8297545496830605,
          0.4800210848145044,
          1.4312458795497929,
          1.4057658280072,
          -0.13507354273338432,
          0.004364059665748205,
          0.4583635381265657,
          -2.765109052598902,
          0.5553148910686933,
          0.8156121041694133,
          -0.8534912680359814,
          -0.3247281718808031,
          -0.914863311548679,
          1.2885918351941394,
          0.1286872852343092,
          0.6769192164148923,
          -1.8215241353716114,
          -0.5550326638024027,
          0.7312939772654433,
          -1.5930312249930805,
          0.5839395041961499,
          1.0132188209501904,
          0.09522232856181102,
          0.2918764830701547,
          -2.078395139709775,
          -0.38883386936591163,
          1.1290584477657903,
          0.22100222469686198,
          -0.5834017170642858,
          -1.021387557059779,
          -0.48027663208344595,
          -1.8273357277855076,
          1.3498770608938466,
          0.40782060463651854,
          0.2042791561113294,
          -0.7512961007936723,
          0.22849117191956678,
          -0.12738404595625513,
          0.14113705734866797,
          -1.530891509798966,
          0.30243572472487723,
          -0.6496718912655635,
          1.4761457105113132,
          -0.07187302243193486,
          0.3426537813081174,
          -1.4463894894521407,
          -1.2550872424839516,
          0.5376639737146628,
          -0.46650538869834624,
          -0.23539958762750904,
          1.3502628301865927,
          1.4552023830979153,
          -0.9402921461767356,
          0.8169931580844604,
          0.17573258156189311,
          1.0799719743407135,
          -0.6885727540285529,
          -0.09289774706664905,
          1.2460258532059068,
          0.9281312404691667,
          0.4666096361580586,
          1.3531035312894115
         ]
        },
        {
         "boxpoints": false,
         "line": {
          "width": 1.3
         },
         "marker": {
          "color": "rgba(50, 171, 96, 1.0)"
         },
         "name": "C",
         "orientation": "v",
         "type": "box",
         "y": [
          -2.0801954842530854,
          -1.012248646419635,
          1.3232652327046397,
          1.068653245193722,
          0.4473431505109954,
          -0.09759555331261434,
          0.4913939361288406,
          1.0907412801736536,
          -0.3952692084028424,
          0.9258753944397978,
          -0.7384413445378213,
          -0.31787180989326863,
          0.41700428379960064,
          0.6169563874809506,
          -0.5533118212780033,
          0.10214386353408453,
          -0.3296850142235436,
          1.0750401394967823,
          -0.45381682549475283,
          -0.16858566107054548,
          -1.85526676351296,
          1.0634692881601842,
          1.329723268726233,
          -0.09004064719788596,
          -0.5232441532800234,
          -0.5286476623586482,
          1.56954133362809,
          -0.25445912663840253,
          -0.24977001376546662,
          -0.7070986715272332,
          0.3857937791543105,
          -0.6013806674566733,
          -0.4453684923951969,
          1.1182233093725122,
          -1.2769659479554023,
          -0.5445238324820918,
          0.9990525554096598,
          0.5251609315298159,
          1.5392912526018883,
          -0.971095200299162,
          0.3675167346099236,
          0.16138437344170045,
          0.09746166488436017,
          0.22518220572810532,
          -1.1198076099048129,
          0.005111309652542074,
          0.39279883028651513,
          0.23399425783113573,
          0.11523169380654982,
          -0.12559021266810222,
          -1.0594698680160406,
          -0.7858237911363148,
          0.20117084772193605,
          -1.3251754450583033,
          0.34701632792761405,
          0.3326465503694515,
          1.3194715224871045,
          -0.9469273892058584,
          -1.4525211649807754,
          -0.7930788404805282,
          -0.5487878796047415,
          -0.8338095747373878,
          -0.18458116778035052,
          -1.8898177562650742,
          -0.9305403598408326,
          0.9600402473315202,
          0.5013522684531851,
          0.6964764986781917,
          1.1172290369042306,
          0.7992185353945016,
          -2.2048184120024428,
          -1.2889597505573922,
          0.2505191621450121,
          -1.6319268531335172,
          1.1817131103582106,
          -0.8990547247662171,
          -0.575832744607948,
          0.046390907870445426,
          -0.6227126274050468,
          0.7883913157586375,
          -0.5097836918707317,
          -0.4840801161815726,
          0.13436275960287455,
          -1.2197724595704293,
          0.2081925040015876,
          0.34192791684551804,
          0.49291742382682135,
          0.09201977043119879,
          1.3005200974593913,
          -0.3522452500997659,
          -0.3704964131275352,
          -0.0445344240652476,
          -0.5743768403100804,
          0.057713728297095264,
          -0.12423810305203296,
          -1.161102229440341,
          -0.5857461058902402,
          1.0327550810089714,
          0.5732034677469589,
          -0.66672263760295
         ]
        },
        {
         "boxpoints": false,
         "line": {
          "width": 1.3
         },
         "marker": {
          "color": "rgba(128, 0, 128, 1.0)"
         },
         "name": "D",
         "orientation": "v",
         "type": "box",
         "y": [
          -1.6889943276061983,
          -2.160652881430035,
          0.7969173286751591,
          -0.40689200535211484,
          1.1063863317023126,
          0.32587136889469626,
          1.4251924446590751,
          -0.049343482341913554,
          0.9785306319828516,
          0.3771094275577349,
          -0.6853301746631065,
          -0.2914417143453693,
          1.8567027535640652,
          0.38481773482027093,
          -1.167859631205922,
          0.9758959747850864,
          0.8006123176344719,
          -1.5947409809288808,
          -1.6116749594079887,
          1.727215606605738,
          0.4793062714084753,
          0.23227696562282796,
          -0.8111699652442527,
          0.8580603006263023,
          -2.110505442185867,
          -0.7575236466560565,
          0.8171669972107859,
          -0.013421757194777166,
          1.7662025857914379,
          -0.35261289515712557,
          1.079640561165116,
          -0.7445062704238944,
          -0.46963426145434883,
          -1.2359576841608122,
          -1.4618667743241767,
          -0.780915455602358,
          -0.3075388802068042,
          0.5997702843507153,
          0.024773052053056865,
          1.4751266506815628,
          0.6467806287776092,
          -0.3001218548271014,
          1.1870186479845986,
          -0.09868874741332945,
          0.37117461726540174,
          -0.632524468294907,
          0.6582455184587414,
          0.5883642323078896,
          0.6166385866073346,
          -1.0086365117714602,
          0.7209498010512816,
          1.8518676997876742,
          -0.5380555147800582,
          1.4353050142899981,
          -1.6633010766887348,
          -0.06638139914457122,
          0.6647926633745758,
          0.6873425170813442,
          -1.797936163991116,
          -1.4036787270915132,
          0.26853914745105245,
          0.15194493204514142,
          1.0789440777405943,
          0.5615595901447917,
          -0.05027937318893131,
          1.1120240717042713,
          1.0122585162490714,
          -1.832084962805,
          0.1709252479939976,
          0.5953036195998925,
          0.44461255626940366,
          -0.6291055204481256,
          0.44505919105353736,
          -0.43976931296823996,
          2.6300756410925628,
          -0.5501876400864705,
          0.1944042534603992,
          -1.838459404771273,
          1.0424085057541956,
          -1.0683697407131716,
          -0.004356231692863964,
          -1.1667907859048228,
          -1.4777276088855544,
          -0.38077165182966055,
          -0.969872397000942,
          -1.6980841916299279,
          -0.9914198284593434,
          -0.07812601974476405,
          -0.018228681633305915,
          -0.8582119807432321,
          -1.1741105724168293,
          0.7246595371727618,
          -0.10326535703384612,
          -1.4573605358758739,
          -1.6148284344017703,
          -2.7529826573775713,
          -0.9974075876858838,
          -0.5177700007047001,
          -0.21831560048830448,
          -2.1412511489272905
         ]
        }
       ],
       "layout": {
        "legend": {
         "bgcolor": "#F5F6F9",
         "font": {
          "color": "#4D5663"
         }
        },
        "paper_bgcolor": "#F5F6F9",
        "plot_bgcolor": "#F5F6F9",
        "template": {
         "data": {
          "bar": [
           {
            "error_x": {
             "color": "#2a3f5f"
            },
            "error_y": {
             "color": "#2a3f5f"
            },
            "marker": {
             "line": {
              "color": "#E5ECF6",
              "width": 0.5
             }
            },
            "type": "bar"
           }
          ],
          "barpolar": [
           {
            "marker": {
             "line": {
              "color": "#E5ECF6",
              "width": 0.5
             }
            },
            "type": "barpolar"
           }
          ],
          "carpet": [
           {
            "aaxis": {
             "endlinecolor": "#2a3f5f",
             "gridcolor": "white",
             "linecolor": "white",
             "minorgridcolor": "white",
             "startlinecolor": "#2a3f5f"
            },
            "baxis": {
             "endlinecolor": "#2a3f5f",
             "gridcolor": "white",
             "linecolor": "white",
             "minorgridcolor": "white",
             "startlinecolor": "#2a3f5f"
            },
            "type": "carpet"
           }
          ],
          "choropleth": [
           {
            "colorbar": {
             "outlinewidth": 0,
             "ticks": ""
            },
            "type": "choropleth"
           }
          ],
          "contour": [
           {
            "colorbar": {
             "outlinewidth": 0,
             "ticks": ""
            },
            "colorscale": [
             [
              0,
              "#0d0887"
             ],
             [
              0.1111111111111111,
              "#46039f"
             ],
             [
              0.2222222222222222,
              "#7201a8"
             ],
             [
              0.3333333333333333,
              "#9c179e"
             ],
             [
              0.4444444444444444,
              "#bd3786"
             ],
             [
              0.5555555555555556,
              "#d8576b"
             ],
             [
              0.6666666666666666,
              "#ed7953"
             ],
             [
              0.7777777777777778,
              "#fb9f3a"
             ],
             [
              0.8888888888888888,
              "#fdca26"
             ],
             [
              1,
              "#f0f921"
             ]
            ],
            "type": "contour"
           }
          ],
          "contourcarpet": [
           {
            "colorbar": {
             "outlinewidth": 0,
             "ticks": ""
            },
            "type": "contourcarpet"
           }
          ],
          "heatmap": [
           {
            "colorbar": {
             "outlinewidth": 0,
             "ticks": ""
            },
            "colorscale": [
             [
              0,
              "#0d0887"
             ],
             [
              0.1111111111111111,
              "#46039f"
             ],
             [
              0.2222222222222222,
              "#7201a8"
             ],
             [
              0.3333333333333333,
              "#9c179e"
             ],
             [
              0.4444444444444444,
              "#bd3786"
             ],
             [
              0.5555555555555556,
              "#d8576b"
             ],
             [
              0.6666666666666666,
              "#ed7953"
             ],
             [
              0.7777777777777778,
              "#fb9f3a"
             ],
             [
              0.8888888888888888,
              "#fdca26"
             ],
             [
              1,
              "#f0f921"
             ]
            ],
            "type": "heatmap"
           }
          ],
          "heatmapgl": [
           {
            "colorbar": {
             "outlinewidth": 0,
             "ticks": ""
            },
            "colorscale": [
             [
              0,
              "#0d0887"
             ],
             [
              0.1111111111111111,
              "#46039f"
             ],
             [
              0.2222222222222222,
              "#7201a8"
             ],
             [
              0.3333333333333333,
              "#9c179e"
             ],
             [
              0.4444444444444444,
              "#bd3786"
             ],
             [
              0.5555555555555556,
              "#d8576b"
             ],
             [
              0.6666666666666666,
              "#ed7953"
             ],
             [
              0.7777777777777778,
              "#fb9f3a"
             ],
             [
              0.8888888888888888,
              "#fdca26"
             ],
             [
              1,
              "#f0f921"
             ]
            ],
            "type": "heatmapgl"
           }
          ],
          "histogram": [
           {
            "marker": {
             "colorbar": {
              "outlinewidth": 0,
              "ticks": ""
             }
            },
            "type": "histogram"
           }
          ],
          "histogram2d": [
           {
            "colorbar": {
             "outlinewidth": 0,
             "ticks": ""
            },
            "colorscale": [
             [
              0,
              "#0d0887"
             ],
             [
              0.1111111111111111,
              "#46039f"
             ],
             [
              0.2222222222222222,
              "#7201a8"
             ],
             [
              0.3333333333333333,
              "#9c179e"
             ],
             [
              0.4444444444444444,
              "#bd3786"
             ],
             [
              0.5555555555555556,
              "#d8576b"
             ],
             [
              0.6666666666666666,
              "#ed7953"
             ],
             [
              0.7777777777777778,
              "#fb9f3a"
             ],
             [
              0.8888888888888888,
              "#fdca26"
             ],
             [
              1,
              "#f0f921"
             ]
            ],
            "type": "histogram2d"
           }
          ],
          "histogram2dcontour": [
           {
            "colorbar": {
             "outlinewidth": 0,
             "ticks": ""
            },
            "colorscale": [
             [
              0,
              "#0d0887"
             ],
             [
              0.1111111111111111,
              "#46039f"
             ],
             [
              0.2222222222222222,
              "#7201a8"
             ],
             [
              0.3333333333333333,
              "#9c179e"
             ],
             [
              0.4444444444444444,
              "#bd3786"
             ],
             [
              0.5555555555555556,
              "#d8576b"
             ],
             [
              0.6666666666666666,
              "#ed7953"
             ],
             [
              0.7777777777777778,
              "#fb9f3a"
             ],
             [
              0.8888888888888888,
              "#fdca26"
             ],
             [
              1,
              "#f0f921"
             ]
            ],
            "type": "histogram2dcontour"
           }
          ],
          "mesh3d": [
           {
            "colorbar": {
             "outlinewidth": 0,
             "ticks": ""
            },
            "type": "mesh3d"
           }
          ],
          "parcoords": [
           {
            "line": {
             "colorbar": {
              "outlinewidth": 0,
              "ticks": ""
             }
            },
            "type": "parcoords"
           }
          ],
          "pie": [
           {
            "automargin": true,
            "type": "pie"
           }
          ],
          "scatter": [
           {
            "marker": {
             "colorbar": {
              "outlinewidth": 0,
              "ticks": ""
             }
            },
            "type": "scatter"
           }
          ],
          "scatter3d": [
           {
            "line": {
             "colorbar": {
              "outlinewidth": 0,
              "ticks": ""
             }
            },
            "marker": {
             "colorbar": {
              "outlinewidth": 0,
              "ticks": ""
             }
            },
            "type": "scatter3d"
           }
          ],
          "scattercarpet": [
           {
            "marker": {
             "colorbar": {
              "outlinewidth": 0,
              "ticks": ""
             }
            },
            "type": "scattercarpet"
           }
          ],
          "scattergeo": [
           {
            "marker": {
             "colorbar": {
              "outlinewidth": 0,
              "ticks": ""
             }
            },
            "type": "scattergeo"
           }
          ],
          "scattergl": [
           {
            "marker": {
             "colorbar": {
              "outlinewidth": 0,
              "ticks": ""
             }
            },
            "type": "scattergl"
           }
          ],
          "scattermapbox": [
           {
            "marker": {
             "colorbar": {
              "outlinewidth": 0,
              "ticks": ""
             }
            },
            "type": "scattermapbox"
           }
          ],
          "scatterpolar": [
           {
            "marker": {
             "colorbar": {
              "outlinewidth": 0,
              "ticks": ""
             }
            },
            "type": "scatterpolar"
           }
          ],
          "scatterpolargl": [
           {
            "marker": {
             "colorbar": {
              "outlinewidth": 0,
              "ticks": ""
             }
            },
            "type": "scatterpolargl"
           }
          ],
          "scatterternary": [
           {
            "marker": {
             "colorbar": {
              "outlinewidth": 0,
              "ticks": ""
             }
            },
            "type": "scatterternary"
           }
          ],
          "surface": [
           {
            "colorbar": {
             "outlinewidth": 0,
             "ticks": ""
            },
            "colorscale": [
             [
              0,
              "#0d0887"
             ],
             [
              0.1111111111111111,
              "#46039f"
             ],
             [
              0.2222222222222222,
              "#7201a8"
             ],
             [
              0.3333333333333333,
              "#9c179e"
             ],
             [
              0.4444444444444444,
              "#bd3786"
             ],
             [
              0.5555555555555556,
              "#d8576b"
             ],
             [
              0.6666666666666666,
              "#ed7953"
             ],
             [
              0.7777777777777778,
              "#fb9f3a"
             ],
             [
              0.8888888888888888,
              "#fdca26"
             ],
             [
              1,
              "#f0f921"
             ]
            ],
            "type": "surface"
           }
          ],
          "table": [
           {
            "cells": {
             "fill": {
              "color": "#EBF0F8"
             },
             "line": {
              "color": "white"
             }
            },
            "header": {
             "fill": {
              "color": "#C8D4E3"
             },
             "line": {
              "color": "white"
             }
            },
            "type": "table"
           }
          ]
         },
         "layout": {
          "annotationdefaults": {
           "arrowcolor": "#2a3f5f",
           "arrowhead": 0,
           "arrowwidth": 1
          },
          "coloraxis": {
           "colorbar": {
            "outlinewidth": 0,
            "ticks": ""
           }
          },
          "colorscale": {
           "diverging": [
            [
             0,
             "#8e0152"
            ],
            [
             0.1,
             "#c51b7d"
            ],
            [
             0.2,
             "#de77ae"
            ],
            [
             0.3,
             "#f1b6da"
            ],
            [
             0.4,
             "#fde0ef"
            ],
            [
             0.5,
             "#f7f7f7"
            ],
            [
             0.6,
             "#e6f5d0"
            ],
            [
             0.7,
             "#b8e186"
            ],
            [
             0.8,
             "#7fbc41"
            ],
            [
             0.9,
             "#4d9221"
            ],
            [
             1,
             "#276419"
            ]
           ],
           "sequential": [
            [
             0,
             "#0d0887"
            ],
            [
             0.1111111111111111,
             "#46039f"
            ],
            [
             0.2222222222222222,
             "#7201a8"
            ],
            [
             0.3333333333333333,
             "#9c179e"
            ],
            [
             0.4444444444444444,
             "#bd3786"
            ],
            [
             0.5555555555555556,
             "#d8576b"
            ],
            [
             0.6666666666666666,
             "#ed7953"
            ],
            [
             0.7777777777777778,
             "#fb9f3a"
            ],
            [
             0.8888888888888888,
             "#fdca26"
            ],
            [
             1,
             "#f0f921"
            ]
           ],
           "sequentialminus": [
            [
             0,
             "#0d0887"
            ],
            [
             0.1111111111111111,
             "#46039f"
            ],
            [
             0.2222222222222222,
             "#7201a8"
            ],
            [
             0.3333333333333333,
             "#9c179e"
            ],
            [
             0.4444444444444444,
             "#bd3786"
            ],
            [
             0.5555555555555556,
             "#d8576b"
            ],
            [
             0.6666666666666666,
             "#ed7953"
            ],
            [
             0.7777777777777778,
             "#fb9f3a"
            ],
            [
             0.8888888888888888,
             "#fdca26"
            ],
            [
             1,
             "#f0f921"
            ]
           ]
          },
          "colorway": [
           "#636efa",
           "#EF553B",
           "#00cc96",
           "#ab63fa",
           "#FFA15A",
           "#19d3f3",
           "#FF6692",
           "#B6E880",
           "#FF97FF",
           "#FECB52"
          ],
          "font": {
           "color": "#2a3f5f"
          },
          "geo": {
           "bgcolor": "white",
           "lakecolor": "white",
           "landcolor": "#E5ECF6",
           "showlakes": true,
           "showland": true,
           "subunitcolor": "white"
          },
          "hoverlabel": {
           "align": "left"
          },
          "hovermode": "closest",
          "mapbox": {
           "style": "light"
          },
          "paper_bgcolor": "white",
          "plot_bgcolor": "#E5ECF6",
          "polar": {
           "angularaxis": {
            "gridcolor": "white",
            "linecolor": "white",
            "ticks": ""
           },
           "bgcolor": "#E5ECF6",
           "radialaxis": {
            "gridcolor": "white",
            "linecolor": "white",
            "ticks": ""
           }
          },
          "scene": {
           "xaxis": {
            "backgroundcolor": "#E5ECF6",
            "gridcolor": "white",
            "gridwidth": 2,
            "linecolor": "white",
            "showbackground": true,
            "ticks": "",
            "zerolinecolor": "white"
           },
           "yaxis": {
            "backgroundcolor": "#E5ECF6",
            "gridcolor": "white",
            "gridwidth": 2,
            "linecolor": "white",
            "showbackground": true,
            "ticks": "",
            "zerolinecolor": "white"
           },
           "zaxis": {
            "backgroundcolor": "#E5ECF6",
            "gridcolor": "white",
            "gridwidth": 2,
            "linecolor": "white",
            "showbackground": true,
            "ticks": "",
            "zerolinecolor": "white"
           }
          },
          "shapedefaults": {
           "line": {
            "color": "#2a3f5f"
           }
          },
          "ternary": {
           "aaxis": {
            "gridcolor": "white",
            "linecolor": "white",
            "ticks": ""
           },
           "baxis": {
            "gridcolor": "white",
            "linecolor": "white",
            "ticks": ""
           },
           "bgcolor": "#E5ECF6",
           "caxis": {
            "gridcolor": "white",
            "linecolor": "white",
            "ticks": ""
           }
          },
          "title": {
           "x": 0.05
          },
          "xaxis": {
           "automargin": true,
           "gridcolor": "white",
           "linecolor": "white",
           "ticks": "",
           "title": {
            "standoff": 15
           },
           "zerolinecolor": "white",
           "zerolinewidth": 2
          },
          "yaxis": {
           "automargin": true,
           "gridcolor": "white",
           "linecolor": "white",
           "ticks": "",
           "title": {
            "standoff": 15
           },
           "zerolinecolor": "white",
           "zerolinewidth": 2
          }
         }
        },
        "title": {
         "font": {
          "color": "#4D5663"
         }
        },
        "xaxis": {
         "gridcolor": "#E1E5ED",
         "showgrid": true,
         "tickfont": {
          "color": "#4D5663"
         },
         "title": {
          "font": {
           "color": "#4D5663"
          },
          "text": ""
         },
         "zerolinecolor": "#E1E5ED"
        },
        "yaxis": {
         "gridcolor": "#E1E5ED",
         "showgrid": true,
         "tickfont": {
          "color": "#4D5663"
         },
         "title": {
          "font": {
           "color": "#4D5663"
          },
          "text": ""
         },
         "zerolinecolor": "#E1E5ED"
        }
       }
      },
      "text/html": [
       "<div>\n",
       "        \n",
       "        \n",
       "            <div id=\"caf10b0f-86b8-4fc1-8529-120792dd68cf\" class=\"plotly-graph-div\" style=\"height:525px; width:100%;\"></div>\n",
       "            <script type=\"text/javascript\">\n",
       "                require([\"plotly\"], function(Plotly) {\n",
       "                    window.PLOTLYENV=window.PLOTLYENV || {};\n",
       "                    window.PLOTLYENV.BASE_URL='https://plot.ly';\n",
       "                    \n",
       "                if (document.getElementById(\"caf10b0f-86b8-4fc1-8529-120792dd68cf\")) {\n",
       "                    Plotly.newPlot(\n",
       "                        'caf10b0f-86b8-4fc1-8529-120792dd68cf',\n",
       "                        [{\"boxpoints\": false, \"line\": {\"width\": 1.3}, \"marker\": {\"color\": \"rgba(255, 153, 51, 1.0)\"}, \"name\": \"A\", \"orientation\": \"v\", \"type\": \"box\", \"y\": [-1.0227072602404605, 1.1091700991385929, -1.4993969726670624, 1.8768911811202638, -0.1584068038282462, 0.5636778234135267, 1.1643293657731082, -2.5453901249124367, -2.6995540910248312, 0.830994313571333, -1.468665893590867, 2.4870167762098214, 0.5278277847426068, -2.2474017579936096, 0.9392149363934074, 0.333173802178018, -0.2518400271011279, 0.5699429582714065, -0.9394005219839601, -0.5798540158672266, -1.1122285231351523, -0.5505823743314988, 0.8431979643718024, -0.6698833258259573, 1.4971121025574492, 0.8110972529880883, -1.420772301496858, -1.238688195272796, 0.738641139209335, 0.30015097358503756, 0.3857414137896417, 0.7981149360380709, -1.09216358333296, -0.09947700731426419, -0.9575398718705561, -0.7941309017001477, 0.5013365071315352, 0.24182198672120908, -1.279837031259551, 0.3465677983280072, 2.0684845009039283, -0.2675234143132672, -0.5863391539096587, -2.4969552041074654, 0.2470986876555305, 1.5518128255305705, -0.781453918744178, -0.4864350671756053, 1.7838960390576342, 1.376521799342055, -0.02897847559348279, 0.48547086276997553, 1.3450898442841346, 0.9888210486728403, -0.05411332033261771, -0.8641544902907613, -0.2756638826219286, 1.5285699283236265, 1.3448113873888643, -1.8769444454648108, -0.6671405401337398, -0.2922400814776645, 0.080522552719805, -0.2655153357214515, 0.17443548857794025, -0.20220757214113935, 0.6085444227049939, -0.5398965196930543, -0.6486043699179436, 0.07622659494578123, -1.1432441394493909, 0.5117491223277846, 0.5670963420711427, -1.556235182008322, 2.2459400794950364, -0.2604219941766891, -1.6823252830735502, -2.493101370763733, -0.0863347511312303, 1.443794649564759, -0.2011444145719318, 0.3438950305951134, 0.2607245037792382, 0.792122700578744, 1.7786098266291699, 0.5352909661118613, -0.12294442612489852, 1.1978976876974878, -0.3173406496272341, 1.0472990438814478, 0.3146805337346373, -0.607084650338605, -0.7359566251717335, 0.4007922748288922, 1.279517538903847, -0.22936483222501214, -0.5182994714755288, -0.848876107050886, -1.3865228467599007, 0.18180007447279647]}, {\"boxpoints\": false, \"line\": {\"width\": 1.3}, \"marker\": {\"color\": \"rgba(55, 128, 191, 1.0)\"}, \"name\": \"B\", \"orientation\": \"v\", \"type\": \"box\", \"y\": [-0.7305625969818371, 0.783362976846267, -0.6488174141162153, -1.379008968011247, 0.8310618838938229, 1.1778421647831814, 0.3084172494654089, 1.8990195971023394, 0.10340485577957621, 0.059026265280790365, 0.510536253894352, -2.1538459076845924, 0.3174261488262944, 0.049624395432911424, -2.128017053722008, 0.15190610867356308, 0.649293489777525, 0.45449245140423905, -0.39329927875529924, -0.06602567256010221, 0.4511054143988493, 0.5433725229594577, 0.4233946966960372, -2.1635183337437978, -0.7067255386231072, -0.6177904210856345, -0.6595067079822083, 1.5510904520567041, 0.9018668632766085, 0.09947906700423, -0.15621592041765242, -0.33499138194246636, -0.5163408026271186, -0.8489613479258857, -0.730817422127436, -0.4181302913241633, 0.845253121042682, -0.43732468963958265, 0.8297545496830605, 0.4800210848145044, 1.4312458795497929, 1.4057658280072, -0.13507354273338432, 0.004364059665748205, 0.4583635381265657, -2.765109052598902, 0.5553148910686933, 0.8156121041694133, -0.8534912680359814, -0.3247281718808031, -0.914863311548679, 1.2885918351941394, 0.1286872852343092, 0.6769192164148923, -1.8215241353716114, -0.5550326638024027, 0.7312939772654433, -1.5930312249930805, 0.5839395041961499, 1.0132188209501904, 0.09522232856181102, 0.2918764830701547, -2.078395139709775, -0.38883386936591163, 1.1290584477657903, 0.22100222469686198, -0.5834017170642858, -1.021387557059779, -0.48027663208344595, -1.8273357277855076, 1.3498770608938466, 0.40782060463651854, 0.2042791561113294, -0.7512961007936723, 0.22849117191956678, -0.12738404595625513, 0.14113705734866797, -1.530891509798966, 0.30243572472487723, -0.6496718912655635, 1.4761457105113132, -0.07187302243193486, 0.3426537813081174, -1.4463894894521407, -1.2550872424839516, 0.5376639737146628, -0.46650538869834624, -0.23539958762750904, 1.3502628301865927, 1.4552023830979153, -0.9402921461767356, 0.8169931580844604, 0.17573258156189311, 1.0799719743407135, -0.6885727540285529, -0.09289774706664905, 1.2460258532059068, 0.9281312404691667, 0.4666096361580586, 1.3531035312894115]}, {\"boxpoints\": false, \"line\": {\"width\": 1.3}, \"marker\": {\"color\": \"rgba(50, 171, 96, 1.0)\"}, \"name\": \"C\", \"orientation\": \"v\", \"type\": \"box\", \"y\": [-2.0801954842530854, -1.012248646419635, 1.3232652327046397, 1.068653245193722, 0.4473431505109954, -0.09759555331261434, 0.4913939361288406, 1.0907412801736536, -0.3952692084028424, 0.9258753944397978, -0.7384413445378213, -0.31787180989326863, 0.41700428379960064, 0.6169563874809506, -0.5533118212780033, 0.10214386353408453, -0.3296850142235436, 1.0750401394967823, -0.45381682549475283, -0.16858566107054548, -1.85526676351296, 1.0634692881601842, 1.329723268726233, -0.09004064719788596, -0.5232441532800234, -0.5286476623586482, 1.56954133362809, -0.25445912663840253, -0.24977001376546662, -0.7070986715272332, 0.3857937791543105, -0.6013806674566733, -0.4453684923951969, 1.1182233093725122, -1.2769659479554023, -0.5445238324820918, 0.9990525554096598, 0.5251609315298159, 1.5392912526018883, -0.971095200299162, 0.3675167346099236, 0.16138437344170045, 0.09746166488436017, 0.22518220572810532, -1.1198076099048129, 0.005111309652542074, 0.39279883028651513, 0.23399425783113573, 0.11523169380654982, -0.12559021266810222, -1.0594698680160406, -0.7858237911363148, 0.20117084772193605, -1.3251754450583033, 0.34701632792761405, 0.3326465503694515, 1.3194715224871045, -0.9469273892058584, -1.4525211649807754, -0.7930788404805282, -0.5487878796047415, -0.8338095747373878, -0.18458116778035052, -1.8898177562650742, -0.9305403598408326, 0.9600402473315202, 0.5013522684531851, 0.6964764986781917, 1.1172290369042306, 0.7992185353945016, -2.2048184120024428, -1.2889597505573922, 0.2505191621450121, -1.6319268531335172, 1.1817131103582106, -0.8990547247662171, -0.575832744607948, 0.046390907870445426, -0.6227126274050468, 0.7883913157586375, -0.5097836918707317, -0.4840801161815726, 0.13436275960287455, -1.2197724595704293, 0.2081925040015876, 0.34192791684551804, 0.49291742382682135, 0.09201977043119879, 1.3005200974593913, -0.3522452500997659, -0.3704964131275352, -0.0445344240652476, -0.5743768403100804, 0.057713728297095264, -0.12423810305203296, -1.161102229440341, -0.5857461058902402, 1.0327550810089714, 0.5732034677469589, -0.66672263760295]}, {\"boxpoints\": false, \"line\": {\"width\": 1.3}, \"marker\": {\"color\": \"rgba(128, 0, 128, 1.0)\"}, \"name\": \"D\", \"orientation\": \"v\", \"type\": \"box\", \"y\": [-1.6889943276061983, -2.160652881430035, 0.7969173286751591, -0.40689200535211484, 1.1063863317023126, 0.32587136889469626, 1.4251924446590751, -0.049343482341913554, 0.9785306319828516, 0.3771094275577349, -0.6853301746631065, -0.2914417143453693, 1.8567027535640652, 0.38481773482027093, -1.167859631205922, 0.9758959747850864, 0.8006123176344719, -1.5947409809288808, -1.6116749594079887, 1.727215606605738, 0.4793062714084753, 0.23227696562282796, -0.8111699652442527, 0.8580603006263023, -2.110505442185867, -0.7575236466560565, 0.8171669972107859, -0.013421757194777166, 1.7662025857914379, -0.35261289515712557, 1.079640561165116, -0.7445062704238944, -0.46963426145434883, -1.2359576841608122, -1.4618667743241767, -0.780915455602358, -0.3075388802068042, 0.5997702843507153, 0.024773052053056865, 1.4751266506815628, 0.6467806287776092, -0.3001218548271014, 1.1870186479845986, -0.09868874741332945, 0.37117461726540174, -0.632524468294907, 0.6582455184587414, 0.5883642323078896, 0.6166385866073346, -1.0086365117714602, 0.7209498010512816, 1.8518676997876742, -0.5380555147800582, 1.4353050142899981, -1.6633010766887348, -0.06638139914457122, 0.6647926633745758, 0.6873425170813442, -1.797936163991116, -1.4036787270915132, 0.26853914745105245, 0.15194493204514142, 1.0789440777405943, 0.5615595901447917, -0.05027937318893131, 1.1120240717042713, 1.0122585162490714, -1.832084962805, 0.1709252479939976, 0.5953036195998925, 0.44461255626940366, -0.6291055204481256, 0.44505919105353736, -0.43976931296823996, 2.6300756410925628, -0.5501876400864705, 0.1944042534603992, -1.838459404771273, 1.0424085057541956, -1.0683697407131716, -0.004356231692863964, -1.1667907859048228, -1.4777276088855544, -0.38077165182966055, -0.969872397000942, -1.6980841916299279, -0.9914198284593434, -0.07812601974476405, -0.018228681633305915, -0.8582119807432321, -1.1741105724168293, 0.7246595371727618, -0.10326535703384612, -1.4573605358758739, -1.6148284344017703, -2.7529826573775713, -0.9974075876858838, -0.5177700007047001, -0.21831560048830448, -2.1412511489272905]}],\n",
       "                        {\"legend\": {\"bgcolor\": \"#F5F6F9\", \"font\": {\"color\": \"#4D5663\"}}, \"paper_bgcolor\": \"#F5F6F9\", \"plot_bgcolor\": \"#F5F6F9\", \"template\": {\"data\": {\"bar\": [{\"error_x\": {\"color\": \"#2a3f5f\"}, \"error_y\": {\"color\": \"#2a3f5f\"}, \"marker\": {\"line\": {\"color\": \"#E5ECF6\", \"width\": 0.5}}, \"type\": \"bar\"}], \"barpolar\": [{\"marker\": {\"line\": {\"color\": \"#E5ECF6\", \"width\": 0.5}}, \"type\": \"barpolar\"}], \"carpet\": [{\"aaxis\": {\"endlinecolor\": \"#2a3f5f\", \"gridcolor\": \"white\", \"linecolor\": \"white\", \"minorgridcolor\": \"white\", \"startlinecolor\": \"#2a3f5f\"}, \"baxis\": {\"endlinecolor\": \"#2a3f5f\", \"gridcolor\": \"white\", \"linecolor\": \"white\", \"minorgridcolor\": \"white\", \"startlinecolor\": \"#2a3f5f\"}, \"type\": \"carpet\"}], \"choropleth\": [{\"colorbar\": {\"outlinewidth\": 0, \"ticks\": \"\"}, \"type\": \"choropleth\"}], \"contour\": [{\"colorbar\": {\"outlinewidth\": 0, \"ticks\": \"\"}, \"colorscale\": [[0.0, \"#0d0887\"], [0.1111111111111111, \"#46039f\"], [0.2222222222222222, \"#7201a8\"], [0.3333333333333333, \"#9c179e\"], [0.4444444444444444, \"#bd3786\"], [0.5555555555555556, \"#d8576b\"], [0.6666666666666666, \"#ed7953\"], [0.7777777777777778, \"#fb9f3a\"], [0.8888888888888888, \"#fdca26\"], [1.0, \"#f0f921\"]], \"type\": \"contour\"}], \"contourcarpet\": [{\"colorbar\": {\"outlinewidth\": 0, \"ticks\": \"\"}, \"type\": \"contourcarpet\"}], \"heatmap\": [{\"colorbar\": {\"outlinewidth\": 0, \"ticks\": \"\"}, \"colorscale\": [[0.0, \"#0d0887\"], [0.1111111111111111, \"#46039f\"], [0.2222222222222222, \"#7201a8\"], [0.3333333333333333, \"#9c179e\"], [0.4444444444444444, \"#bd3786\"], [0.5555555555555556, \"#d8576b\"], [0.6666666666666666, \"#ed7953\"], [0.7777777777777778, \"#fb9f3a\"], [0.8888888888888888, \"#fdca26\"], [1.0, \"#f0f921\"]], \"type\": \"heatmap\"}], \"heatmapgl\": [{\"colorbar\": {\"outlinewidth\": 0, \"ticks\": \"\"}, \"colorscale\": [[0.0, \"#0d0887\"], [0.1111111111111111, \"#46039f\"], [0.2222222222222222, \"#7201a8\"], [0.3333333333333333, \"#9c179e\"], [0.4444444444444444, \"#bd3786\"], [0.5555555555555556, \"#d8576b\"], [0.6666666666666666, \"#ed7953\"], [0.7777777777777778, \"#fb9f3a\"], [0.8888888888888888, \"#fdca26\"], [1.0, \"#f0f921\"]], \"type\": \"heatmapgl\"}], \"histogram\": [{\"marker\": {\"colorbar\": {\"outlinewidth\": 0, \"ticks\": \"\"}}, \"type\": \"histogram\"}], \"histogram2d\": [{\"colorbar\": {\"outlinewidth\": 0, \"ticks\": \"\"}, \"colorscale\": [[0.0, \"#0d0887\"], [0.1111111111111111, \"#46039f\"], [0.2222222222222222, \"#7201a8\"], [0.3333333333333333, \"#9c179e\"], [0.4444444444444444, \"#bd3786\"], [0.5555555555555556, \"#d8576b\"], [0.6666666666666666, \"#ed7953\"], [0.7777777777777778, \"#fb9f3a\"], [0.8888888888888888, \"#fdca26\"], [1.0, \"#f0f921\"]], \"type\": \"histogram2d\"}], \"histogram2dcontour\": [{\"colorbar\": {\"outlinewidth\": 0, \"ticks\": \"\"}, \"colorscale\": [[0.0, \"#0d0887\"], [0.1111111111111111, \"#46039f\"], [0.2222222222222222, \"#7201a8\"], [0.3333333333333333, \"#9c179e\"], [0.4444444444444444, \"#bd3786\"], [0.5555555555555556, \"#d8576b\"], [0.6666666666666666, \"#ed7953\"], [0.7777777777777778, \"#fb9f3a\"], [0.8888888888888888, \"#fdca26\"], [1.0, \"#f0f921\"]], \"type\": \"histogram2dcontour\"}], \"mesh3d\": [{\"colorbar\": {\"outlinewidth\": 0, \"ticks\": \"\"}, \"type\": \"mesh3d\"}], \"parcoords\": [{\"line\": {\"colorbar\": {\"outlinewidth\": 0, \"ticks\": \"\"}}, \"type\": \"parcoords\"}], \"pie\": [{\"automargin\": true, \"type\": \"pie\"}], \"scatter\": [{\"marker\": {\"colorbar\": {\"outlinewidth\": 0, \"ticks\": \"\"}}, \"type\": \"scatter\"}], \"scatter3d\": [{\"line\": {\"colorbar\": {\"outlinewidth\": 0, \"ticks\": \"\"}}, \"marker\": {\"colorbar\": {\"outlinewidth\": 0, \"ticks\": \"\"}}, \"type\": \"scatter3d\"}], \"scattercarpet\": [{\"marker\": {\"colorbar\": {\"outlinewidth\": 0, \"ticks\": \"\"}}, \"type\": \"scattercarpet\"}], \"scattergeo\": [{\"marker\": {\"colorbar\": {\"outlinewidth\": 0, \"ticks\": \"\"}}, \"type\": \"scattergeo\"}], \"scattergl\": [{\"marker\": {\"colorbar\": {\"outlinewidth\": 0, \"ticks\": \"\"}}, \"type\": \"scattergl\"}], \"scattermapbox\": [{\"marker\": {\"colorbar\": {\"outlinewidth\": 0, \"ticks\": \"\"}}, \"type\": \"scattermapbox\"}], \"scatterpolar\": [{\"marker\": {\"colorbar\": {\"outlinewidth\": 0, \"ticks\": \"\"}}, \"type\": \"scatterpolar\"}], \"scatterpolargl\": [{\"marker\": {\"colorbar\": {\"outlinewidth\": 0, \"ticks\": \"\"}}, \"type\": \"scatterpolargl\"}], \"scatterternary\": [{\"marker\": {\"colorbar\": {\"outlinewidth\": 0, \"ticks\": \"\"}}, \"type\": \"scatterternary\"}], \"surface\": [{\"colorbar\": {\"outlinewidth\": 0, \"ticks\": \"\"}, \"colorscale\": [[0.0, \"#0d0887\"], [0.1111111111111111, \"#46039f\"], [0.2222222222222222, \"#7201a8\"], [0.3333333333333333, \"#9c179e\"], [0.4444444444444444, \"#bd3786\"], [0.5555555555555556, \"#d8576b\"], [0.6666666666666666, \"#ed7953\"], [0.7777777777777778, \"#fb9f3a\"], [0.8888888888888888, \"#fdca26\"], [1.0, \"#f0f921\"]], \"type\": \"surface\"}], \"table\": [{\"cells\": {\"fill\": {\"color\": \"#EBF0F8\"}, \"line\": {\"color\": \"white\"}}, \"header\": {\"fill\": {\"color\": \"#C8D4E3\"}, \"line\": {\"color\": \"white\"}}, \"type\": \"table\"}]}, \"layout\": {\"annotationdefaults\": {\"arrowcolor\": \"#2a3f5f\", \"arrowhead\": 0, \"arrowwidth\": 1}, \"coloraxis\": {\"colorbar\": {\"outlinewidth\": 0, \"ticks\": \"\"}}, \"colorscale\": {\"diverging\": [[0, \"#8e0152\"], [0.1, \"#c51b7d\"], [0.2, \"#de77ae\"], [0.3, \"#f1b6da\"], [0.4, \"#fde0ef\"], [0.5, \"#f7f7f7\"], [0.6, \"#e6f5d0\"], [0.7, \"#b8e186\"], [0.8, \"#7fbc41\"], [0.9, \"#4d9221\"], [1, \"#276419\"]], \"sequential\": [[0.0, \"#0d0887\"], [0.1111111111111111, \"#46039f\"], [0.2222222222222222, \"#7201a8\"], [0.3333333333333333, \"#9c179e\"], [0.4444444444444444, \"#bd3786\"], [0.5555555555555556, \"#d8576b\"], [0.6666666666666666, \"#ed7953\"], [0.7777777777777778, \"#fb9f3a\"], [0.8888888888888888, \"#fdca26\"], [1.0, \"#f0f921\"]], \"sequentialminus\": [[0.0, \"#0d0887\"], [0.1111111111111111, \"#46039f\"], [0.2222222222222222, \"#7201a8\"], [0.3333333333333333, \"#9c179e\"], [0.4444444444444444, \"#bd3786\"], [0.5555555555555556, \"#d8576b\"], [0.6666666666666666, \"#ed7953\"], [0.7777777777777778, \"#fb9f3a\"], [0.8888888888888888, \"#fdca26\"], [1.0, \"#f0f921\"]]}, \"colorway\": [\"#636efa\", \"#EF553B\", \"#00cc96\", \"#ab63fa\", \"#FFA15A\", \"#19d3f3\", \"#FF6692\", \"#B6E880\", \"#FF97FF\", \"#FECB52\"], \"font\": {\"color\": \"#2a3f5f\"}, \"geo\": {\"bgcolor\": \"white\", \"lakecolor\": \"white\", \"landcolor\": \"#E5ECF6\", \"showlakes\": true, \"showland\": true, \"subunitcolor\": \"white\"}, \"hoverlabel\": {\"align\": \"left\"}, \"hovermode\": \"closest\", \"mapbox\": {\"style\": \"light\"}, \"paper_bgcolor\": \"white\", \"plot_bgcolor\": \"#E5ECF6\", \"polar\": {\"angularaxis\": {\"gridcolor\": \"white\", \"linecolor\": \"white\", \"ticks\": \"\"}, \"bgcolor\": \"#E5ECF6\", \"radialaxis\": {\"gridcolor\": \"white\", \"linecolor\": \"white\", \"ticks\": \"\"}}, \"scene\": {\"xaxis\": {\"backgroundcolor\": \"#E5ECF6\", \"gridcolor\": \"white\", \"gridwidth\": 2, \"linecolor\": \"white\", \"showbackground\": true, \"ticks\": \"\", \"zerolinecolor\": \"white\"}, \"yaxis\": {\"backgroundcolor\": \"#E5ECF6\", \"gridcolor\": \"white\", \"gridwidth\": 2, \"linecolor\": \"white\", \"showbackground\": true, \"ticks\": \"\", \"zerolinecolor\": \"white\"}, \"zaxis\": {\"backgroundcolor\": \"#E5ECF6\", \"gridcolor\": \"white\", \"gridwidth\": 2, \"linecolor\": \"white\", \"showbackground\": true, \"ticks\": \"\", \"zerolinecolor\": \"white\"}}, \"shapedefaults\": {\"line\": {\"color\": \"#2a3f5f\"}}, \"ternary\": {\"aaxis\": {\"gridcolor\": \"white\", \"linecolor\": \"white\", \"ticks\": \"\"}, \"baxis\": {\"gridcolor\": \"white\", \"linecolor\": \"white\", \"ticks\": \"\"}, \"bgcolor\": \"#E5ECF6\", \"caxis\": {\"gridcolor\": \"white\", \"linecolor\": \"white\", \"ticks\": \"\"}}, \"title\": {\"x\": 0.05}, \"xaxis\": {\"automargin\": true, \"gridcolor\": \"white\", \"linecolor\": \"white\", \"ticks\": \"\", \"title\": {\"standoff\": 15}, \"zerolinecolor\": \"white\", \"zerolinewidth\": 2}, \"yaxis\": {\"automargin\": true, \"gridcolor\": \"white\", \"linecolor\": \"white\", \"ticks\": \"\", \"title\": {\"standoff\": 15}, \"zerolinecolor\": \"white\", \"zerolinewidth\": 2}}}, \"title\": {\"font\": {\"color\": \"#4D5663\"}}, \"xaxis\": {\"gridcolor\": \"#E1E5ED\", \"showgrid\": true, \"tickfont\": {\"color\": \"#4D5663\"}, \"title\": {\"font\": {\"color\": \"#4D5663\"}, \"text\": \"\"}, \"zerolinecolor\": \"#E1E5ED\"}, \"yaxis\": {\"gridcolor\": \"#E1E5ED\", \"showgrid\": true, \"tickfont\": {\"color\": \"#4D5663\"}, \"title\": {\"font\": {\"color\": \"#4D5663\"}, \"text\": \"\"}, \"zerolinecolor\": \"#E1E5ED\"}},\n",
       "                        {\"showLink\": true, \"linkText\": \"Export to plot.ly\", \"plotlyServerURL\": \"https://plot.ly\", \"responsive\": true}\n",
       "                    ).then(function(){\n",
       "                            \n",
       "var gd = document.getElementById('caf10b0f-86b8-4fc1-8529-120792dd68cf');\n",
       "var x = new MutationObserver(function (mutations, observer) {{\n",
       "        var display = window.getComputedStyle(gd).display;\n",
       "        if (!display || display === 'none') {{\n",
       "            console.log([gd, 'removed!']);\n",
       "            Plotly.purge(gd);\n",
       "            observer.disconnect();\n",
       "        }}\n",
       "}});\n",
       "\n",
       "// Listen for the removal of the full notebook cells\n",
       "var notebookContainer = gd.closest('#notebook-container');\n",
       "if (notebookContainer) {{\n",
       "    x.observe(notebookContainer, {childList: true});\n",
       "}}\n",
       "\n",
       "// Listen for the clearing of the current output cell\n",
       "var outputEl = gd.closest('.output');\n",
       "if (outputEl) {{\n",
       "    x.observe(outputEl, {childList: true});\n",
       "}}\n",
       "\n",
       "                        })\n",
       "                };\n",
       "                });\n",
       "            </script>\n",
       "        </div>"
      ]
     },
     "metadata": {},
     "output_type": "display_data"
    }
   ],
   "source": [
    "df.iplot(kind='box')"
   ]
  },
  {
   "cell_type": "code",
   "execution_count": 32,
   "metadata": {},
   "outputs": [],
   "source": [
    "df3 = pd.DataFrame({'x':[1,2,3,4,5],'y':[10,20,30,20,10],'z':[5,4,3,2,1]})"
   ]
  },
  {
   "cell_type": "code",
   "execution_count": 34,
   "metadata": {},
   "outputs": [
    {
     "data": {
      "application/vnd.plotly.v1+json": {
       "config": {
        "linkText": "Export to plot.ly",
        "plotlyServerURL": "https://plot.ly",
        "showLink": true
       },
       "data": [
        {
         "colorscale": [
          [
           0,
           "rgb(165,0,38)"
          ],
          [
           0.1,
           "rgb(215,48,39)"
          ],
          [
           0.2,
           "rgb(244,109,67)"
          ],
          [
           0.3,
           "rgb(253,174,97)"
          ],
          [
           0.4,
           "rgb(254,224,144)"
          ],
          [
           0.5,
           "rgb(255,255,191)"
          ],
          [
           0.6,
           "rgb(224,243,248)"
          ],
          [
           0.7,
           "rgb(171,217,233)"
          ],
          [
           0.8,
           "rgb(116,173,209)"
          ],
          [
           0.9,
           "rgb(69,117,180)"
          ],
          [
           1,
           "rgb(49,54,149)"
          ]
         ],
         "type": "surface",
         "x": [
          0,
          1,
          2,
          3,
          4
         ],
         "y": [
          "x",
          "y",
          "z"
         ],
         "z": [
          [
           1,
           2,
           3,
           4,
           5
          ],
          [
           10,
           20,
           30,
           20,
           10
          ],
          [
           5,
           4,
           3,
           2,
           1
          ]
         ]
        }
       ],
       "layout": {
        "legend": {
         "bgcolor": "#F5F6F9",
         "font": {
          "color": "#4D5663"
         }
        },
        "paper_bgcolor": "#F5F6F9",
        "plot_bgcolor": "#F5F6F9",
        "template": {
         "data": {
          "bar": [
           {
            "error_x": {
             "color": "#2a3f5f"
            },
            "error_y": {
             "color": "#2a3f5f"
            },
            "marker": {
             "line": {
              "color": "#E5ECF6",
              "width": 0.5
             }
            },
            "type": "bar"
           }
          ],
          "barpolar": [
           {
            "marker": {
             "line": {
              "color": "#E5ECF6",
              "width": 0.5
             }
            },
            "type": "barpolar"
           }
          ],
          "carpet": [
           {
            "aaxis": {
             "endlinecolor": "#2a3f5f",
             "gridcolor": "white",
             "linecolor": "white",
             "minorgridcolor": "white",
             "startlinecolor": "#2a3f5f"
            },
            "baxis": {
             "endlinecolor": "#2a3f5f",
             "gridcolor": "white",
             "linecolor": "white",
             "minorgridcolor": "white",
             "startlinecolor": "#2a3f5f"
            },
            "type": "carpet"
           }
          ],
          "choropleth": [
           {
            "colorbar": {
             "outlinewidth": 0,
             "ticks": ""
            },
            "type": "choropleth"
           }
          ],
          "contour": [
           {
            "colorbar": {
             "outlinewidth": 0,
             "ticks": ""
            },
            "colorscale": [
             [
              0,
              "#0d0887"
             ],
             [
              0.1111111111111111,
              "#46039f"
             ],
             [
              0.2222222222222222,
              "#7201a8"
             ],
             [
              0.3333333333333333,
              "#9c179e"
             ],
             [
              0.4444444444444444,
              "#bd3786"
             ],
             [
              0.5555555555555556,
              "#d8576b"
             ],
             [
              0.6666666666666666,
              "#ed7953"
             ],
             [
              0.7777777777777778,
              "#fb9f3a"
             ],
             [
              0.8888888888888888,
              "#fdca26"
             ],
             [
              1,
              "#f0f921"
             ]
            ],
            "type": "contour"
           }
          ],
          "contourcarpet": [
           {
            "colorbar": {
             "outlinewidth": 0,
             "ticks": ""
            },
            "type": "contourcarpet"
           }
          ],
          "heatmap": [
           {
            "colorbar": {
             "outlinewidth": 0,
             "ticks": ""
            },
            "colorscale": [
             [
              0,
              "#0d0887"
             ],
             [
              0.1111111111111111,
              "#46039f"
             ],
             [
              0.2222222222222222,
              "#7201a8"
             ],
             [
              0.3333333333333333,
              "#9c179e"
             ],
             [
              0.4444444444444444,
              "#bd3786"
             ],
             [
              0.5555555555555556,
              "#d8576b"
             ],
             [
              0.6666666666666666,
              "#ed7953"
             ],
             [
              0.7777777777777778,
              "#fb9f3a"
             ],
             [
              0.8888888888888888,
              "#fdca26"
             ],
             [
              1,
              "#f0f921"
             ]
            ],
            "type": "heatmap"
           }
          ],
          "heatmapgl": [
           {
            "colorbar": {
             "outlinewidth": 0,
             "ticks": ""
            },
            "colorscale": [
             [
              0,
              "#0d0887"
             ],
             [
              0.1111111111111111,
              "#46039f"
             ],
             [
              0.2222222222222222,
              "#7201a8"
             ],
             [
              0.3333333333333333,
              "#9c179e"
             ],
             [
              0.4444444444444444,
              "#bd3786"
             ],
             [
              0.5555555555555556,
              "#d8576b"
             ],
             [
              0.6666666666666666,
              "#ed7953"
             ],
             [
              0.7777777777777778,
              "#fb9f3a"
             ],
             [
              0.8888888888888888,
              "#fdca26"
             ],
             [
              1,
              "#f0f921"
             ]
            ],
            "type": "heatmapgl"
           }
          ],
          "histogram": [
           {
            "marker": {
             "colorbar": {
              "outlinewidth": 0,
              "ticks": ""
             }
            },
            "type": "histogram"
           }
          ],
          "histogram2d": [
           {
            "colorbar": {
             "outlinewidth": 0,
             "ticks": ""
            },
            "colorscale": [
             [
              0,
              "#0d0887"
             ],
             [
              0.1111111111111111,
              "#46039f"
             ],
             [
              0.2222222222222222,
              "#7201a8"
             ],
             [
              0.3333333333333333,
              "#9c179e"
             ],
             [
              0.4444444444444444,
              "#bd3786"
             ],
             [
              0.5555555555555556,
              "#d8576b"
             ],
             [
              0.6666666666666666,
              "#ed7953"
             ],
             [
              0.7777777777777778,
              "#fb9f3a"
             ],
             [
              0.8888888888888888,
              "#fdca26"
             ],
             [
              1,
              "#f0f921"
             ]
            ],
            "type": "histogram2d"
           }
          ],
          "histogram2dcontour": [
           {
            "colorbar": {
             "outlinewidth": 0,
             "ticks": ""
            },
            "colorscale": [
             [
              0,
              "#0d0887"
             ],
             [
              0.1111111111111111,
              "#46039f"
             ],
             [
              0.2222222222222222,
              "#7201a8"
             ],
             [
              0.3333333333333333,
              "#9c179e"
             ],
             [
              0.4444444444444444,
              "#bd3786"
             ],
             [
              0.5555555555555556,
              "#d8576b"
             ],
             [
              0.6666666666666666,
              "#ed7953"
             ],
             [
              0.7777777777777778,
              "#fb9f3a"
             ],
             [
              0.8888888888888888,
              "#fdca26"
             ],
             [
              1,
              "#f0f921"
             ]
            ],
            "type": "histogram2dcontour"
           }
          ],
          "mesh3d": [
           {
            "colorbar": {
             "outlinewidth": 0,
             "ticks": ""
            },
            "type": "mesh3d"
           }
          ],
          "parcoords": [
           {
            "line": {
             "colorbar": {
              "outlinewidth": 0,
              "ticks": ""
             }
            },
            "type": "parcoords"
           }
          ],
          "pie": [
           {
            "automargin": true,
            "type": "pie"
           }
          ],
          "scatter": [
           {
            "marker": {
             "colorbar": {
              "outlinewidth": 0,
              "ticks": ""
             }
            },
            "type": "scatter"
           }
          ],
          "scatter3d": [
           {
            "line": {
             "colorbar": {
              "outlinewidth": 0,
              "ticks": ""
             }
            },
            "marker": {
             "colorbar": {
              "outlinewidth": 0,
              "ticks": ""
             }
            },
            "type": "scatter3d"
           }
          ],
          "scattercarpet": [
           {
            "marker": {
             "colorbar": {
              "outlinewidth": 0,
              "ticks": ""
             }
            },
            "type": "scattercarpet"
           }
          ],
          "scattergeo": [
           {
            "marker": {
             "colorbar": {
              "outlinewidth": 0,
              "ticks": ""
             }
            },
            "type": "scattergeo"
           }
          ],
          "scattergl": [
           {
            "marker": {
             "colorbar": {
              "outlinewidth": 0,
              "ticks": ""
             }
            },
            "type": "scattergl"
           }
          ],
          "scattermapbox": [
           {
            "marker": {
             "colorbar": {
              "outlinewidth": 0,
              "ticks": ""
             }
            },
            "type": "scattermapbox"
           }
          ],
          "scatterpolar": [
           {
            "marker": {
             "colorbar": {
              "outlinewidth": 0,
              "ticks": ""
             }
            },
            "type": "scatterpolar"
           }
          ],
          "scatterpolargl": [
           {
            "marker": {
             "colorbar": {
              "outlinewidth": 0,
              "ticks": ""
             }
            },
            "type": "scatterpolargl"
           }
          ],
          "scatterternary": [
           {
            "marker": {
             "colorbar": {
              "outlinewidth": 0,
              "ticks": ""
             }
            },
            "type": "scatterternary"
           }
          ],
          "surface": [
           {
            "colorbar": {
             "outlinewidth": 0,
             "ticks": ""
            },
            "colorscale": [
             [
              0,
              "#0d0887"
             ],
             [
              0.1111111111111111,
              "#46039f"
             ],
             [
              0.2222222222222222,
              "#7201a8"
             ],
             [
              0.3333333333333333,
              "#9c179e"
             ],
             [
              0.4444444444444444,
              "#bd3786"
             ],
             [
              0.5555555555555556,
              "#d8576b"
             ],
             [
              0.6666666666666666,
              "#ed7953"
             ],
             [
              0.7777777777777778,
              "#fb9f3a"
             ],
             [
              0.8888888888888888,
              "#fdca26"
             ],
             [
              1,
              "#f0f921"
             ]
            ],
            "type": "surface"
           }
          ],
          "table": [
           {
            "cells": {
             "fill": {
              "color": "#EBF0F8"
             },
             "line": {
              "color": "white"
             }
            },
            "header": {
             "fill": {
              "color": "#C8D4E3"
             },
             "line": {
              "color": "white"
             }
            },
            "type": "table"
           }
          ]
         },
         "layout": {
          "annotationdefaults": {
           "arrowcolor": "#2a3f5f",
           "arrowhead": 0,
           "arrowwidth": 1
          },
          "coloraxis": {
           "colorbar": {
            "outlinewidth": 0,
            "ticks": ""
           }
          },
          "colorscale": {
           "diverging": [
            [
             0,
             "#8e0152"
            ],
            [
             0.1,
             "#c51b7d"
            ],
            [
             0.2,
             "#de77ae"
            ],
            [
             0.3,
             "#f1b6da"
            ],
            [
             0.4,
             "#fde0ef"
            ],
            [
             0.5,
             "#f7f7f7"
            ],
            [
             0.6,
             "#e6f5d0"
            ],
            [
             0.7,
             "#b8e186"
            ],
            [
             0.8,
             "#7fbc41"
            ],
            [
             0.9,
             "#4d9221"
            ],
            [
             1,
             "#276419"
            ]
           ],
           "sequential": [
            [
             0,
             "#0d0887"
            ],
            [
             0.1111111111111111,
             "#46039f"
            ],
            [
             0.2222222222222222,
             "#7201a8"
            ],
            [
             0.3333333333333333,
             "#9c179e"
            ],
            [
             0.4444444444444444,
             "#bd3786"
            ],
            [
             0.5555555555555556,
             "#d8576b"
            ],
            [
             0.6666666666666666,
             "#ed7953"
            ],
            [
             0.7777777777777778,
             "#fb9f3a"
            ],
            [
             0.8888888888888888,
             "#fdca26"
            ],
            [
             1,
             "#f0f921"
            ]
           ],
           "sequentialminus": [
            [
             0,
             "#0d0887"
            ],
            [
             0.1111111111111111,
             "#46039f"
            ],
            [
             0.2222222222222222,
             "#7201a8"
            ],
            [
             0.3333333333333333,
             "#9c179e"
            ],
            [
             0.4444444444444444,
             "#bd3786"
            ],
            [
             0.5555555555555556,
             "#d8576b"
            ],
            [
             0.6666666666666666,
             "#ed7953"
            ],
            [
             0.7777777777777778,
             "#fb9f3a"
            ],
            [
             0.8888888888888888,
             "#fdca26"
            ],
            [
             1,
             "#f0f921"
            ]
           ]
          },
          "colorway": [
           "#636efa",
           "#EF553B",
           "#00cc96",
           "#ab63fa",
           "#FFA15A",
           "#19d3f3",
           "#FF6692",
           "#B6E880",
           "#FF97FF",
           "#FECB52"
          ],
          "font": {
           "color": "#2a3f5f"
          },
          "geo": {
           "bgcolor": "white",
           "lakecolor": "white",
           "landcolor": "#E5ECF6",
           "showlakes": true,
           "showland": true,
           "subunitcolor": "white"
          },
          "hoverlabel": {
           "align": "left"
          },
          "hovermode": "closest",
          "mapbox": {
           "style": "light"
          },
          "paper_bgcolor": "white",
          "plot_bgcolor": "#E5ECF6",
          "polar": {
           "angularaxis": {
            "gridcolor": "white",
            "linecolor": "white",
            "ticks": ""
           },
           "bgcolor": "#E5ECF6",
           "radialaxis": {
            "gridcolor": "white",
            "linecolor": "white",
            "ticks": ""
           }
          },
          "scene": {
           "xaxis": {
            "backgroundcolor": "#E5ECF6",
            "gridcolor": "white",
            "gridwidth": 2,
            "linecolor": "white",
            "showbackground": true,
            "ticks": "",
            "zerolinecolor": "white"
           },
           "yaxis": {
            "backgroundcolor": "#E5ECF6",
            "gridcolor": "white",
            "gridwidth": 2,
            "linecolor": "white",
            "showbackground": true,
            "ticks": "",
            "zerolinecolor": "white"
           },
           "zaxis": {
            "backgroundcolor": "#E5ECF6",
            "gridcolor": "white",
            "gridwidth": 2,
            "linecolor": "white",
            "showbackground": true,
            "ticks": "",
            "zerolinecolor": "white"
           }
          },
          "shapedefaults": {
           "line": {
            "color": "#2a3f5f"
           }
          },
          "ternary": {
           "aaxis": {
            "gridcolor": "white",
            "linecolor": "white",
            "ticks": ""
           },
           "baxis": {
            "gridcolor": "white",
            "linecolor": "white",
            "ticks": ""
           },
           "bgcolor": "#E5ECF6",
           "caxis": {
            "gridcolor": "white",
            "linecolor": "white",
            "ticks": ""
           }
          },
          "title": {
           "x": 0.05
          },
          "xaxis": {
           "automargin": true,
           "gridcolor": "white",
           "linecolor": "white",
           "ticks": "",
           "title": {
            "standoff": 15
           },
           "zerolinecolor": "white",
           "zerolinewidth": 2
          },
          "yaxis": {
           "automargin": true,
           "gridcolor": "white",
           "linecolor": "white",
           "ticks": "",
           "title": {
            "standoff": 15
           },
           "zerolinecolor": "white",
           "zerolinewidth": 2
          }
         }
        },
        "title": {
         "font": {
          "color": "#4D5663"
         }
        },
        "xaxis": {
         "gridcolor": "#E1E5ED",
         "showgrid": true,
         "tickfont": {
          "color": "#4D5663"
         },
         "title": {
          "font": {
           "color": "#4D5663"
          },
          "text": ""
         },
         "zerolinecolor": "#E1E5ED"
        },
        "yaxis": {
         "gridcolor": "#E1E5ED",
         "showgrid": true,
         "tickfont": {
          "color": "#4D5663"
         },
         "title": {
          "font": {
           "color": "#4D5663"
          },
          "text": ""
         },
         "zerolinecolor": "#E1E5ED"
        }
       }
      },
      "text/html": [
       "<div>\n",
       "        \n",
       "        \n",
       "            <div id=\"0dba88b5-5572-4530-8720-832ac4ff5a3f\" class=\"plotly-graph-div\" style=\"height:525px; width:100%;\"></div>\n",
       "            <script type=\"text/javascript\">\n",
       "                require([\"plotly\"], function(Plotly) {\n",
       "                    window.PLOTLYENV=window.PLOTLYENV || {};\n",
       "                    window.PLOTLYENV.BASE_URL='https://plot.ly';\n",
       "                    \n",
       "                if (document.getElementById(\"0dba88b5-5572-4530-8720-832ac4ff5a3f\")) {\n",
       "                    Plotly.newPlot(\n",
       "                        '0dba88b5-5572-4530-8720-832ac4ff5a3f',\n",
       "                        [{\"colorscale\": [[0.0, \"rgb(165,0,38)\"], [0.1, \"rgb(215,48,39)\"], [0.2, \"rgb(244,109,67)\"], [0.3, \"rgb(253,174,97)\"], [0.4, \"rgb(254,224,144)\"], [0.5, \"rgb(255,255,191)\"], [0.6, \"rgb(224,243,248)\"], [0.7, \"rgb(171,217,233)\"], [0.8, \"rgb(116,173,209)\"], [0.9, \"rgb(69,117,180)\"], [1.0, \"rgb(49,54,149)\"]], \"type\": \"surface\", \"x\": [0, 1, 2, 3, 4], \"y\": [\"x\", \"y\", \"z\"], \"z\": [[1, 2, 3, 4, 5], [10, 20, 30, 20, 10], [5, 4, 3, 2, 1]]}],\n",
       "                        {\"legend\": {\"bgcolor\": \"#F5F6F9\", \"font\": {\"color\": \"#4D5663\"}}, \"paper_bgcolor\": \"#F5F6F9\", \"plot_bgcolor\": \"#F5F6F9\", \"template\": {\"data\": {\"bar\": [{\"error_x\": {\"color\": \"#2a3f5f\"}, \"error_y\": {\"color\": \"#2a3f5f\"}, \"marker\": {\"line\": {\"color\": \"#E5ECF6\", \"width\": 0.5}}, \"type\": \"bar\"}], \"barpolar\": [{\"marker\": {\"line\": {\"color\": \"#E5ECF6\", \"width\": 0.5}}, \"type\": \"barpolar\"}], \"carpet\": [{\"aaxis\": {\"endlinecolor\": \"#2a3f5f\", \"gridcolor\": \"white\", \"linecolor\": \"white\", \"minorgridcolor\": \"white\", \"startlinecolor\": \"#2a3f5f\"}, \"baxis\": {\"endlinecolor\": \"#2a3f5f\", \"gridcolor\": \"white\", \"linecolor\": \"white\", \"minorgridcolor\": \"white\", \"startlinecolor\": \"#2a3f5f\"}, \"type\": \"carpet\"}], \"choropleth\": [{\"colorbar\": {\"outlinewidth\": 0, \"ticks\": \"\"}, \"type\": \"choropleth\"}], \"contour\": [{\"colorbar\": {\"outlinewidth\": 0, \"ticks\": \"\"}, \"colorscale\": [[0.0, \"#0d0887\"], [0.1111111111111111, \"#46039f\"], [0.2222222222222222, \"#7201a8\"], [0.3333333333333333, \"#9c179e\"], [0.4444444444444444, \"#bd3786\"], [0.5555555555555556, \"#d8576b\"], [0.6666666666666666, \"#ed7953\"], [0.7777777777777778, \"#fb9f3a\"], [0.8888888888888888, \"#fdca26\"], [1.0, \"#f0f921\"]], \"type\": \"contour\"}], \"contourcarpet\": [{\"colorbar\": {\"outlinewidth\": 0, \"ticks\": \"\"}, \"type\": \"contourcarpet\"}], \"heatmap\": [{\"colorbar\": {\"outlinewidth\": 0, \"ticks\": \"\"}, \"colorscale\": [[0.0, \"#0d0887\"], [0.1111111111111111, \"#46039f\"], [0.2222222222222222, \"#7201a8\"], [0.3333333333333333, \"#9c179e\"], [0.4444444444444444, \"#bd3786\"], [0.5555555555555556, \"#d8576b\"], [0.6666666666666666, \"#ed7953\"], [0.7777777777777778, \"#fb9f3a\"], [0.8888888888888888, \"#fdca26\"], [1.0, \"#f0f921\"]], \"type\": \"heatmap\"}], \"heatmapgl\": [{\"colorbar\": {\"outlinewidth\": 0, \"ticks\": \"\"}, \"colorscale\": [[0.0, \"#0d0887\"], [0.1111111111111111, \"#46039f\"], [0.2222222222222222, \"#7201a8\"], [0.3333333333333333, \"#9c179e\"], [0.4444444444444444, \"#bd3786\"], [0.5555555555555556, \"#d8576b\"], [0.6666666666666666, \"#ed7953\"], [0.7777777777777778, \"#fb9f3a\"], [0.8888888888888888, \"#fdca26\"], [1.0, \"#f0f921\"]], \"type\": \"heatmapgl\"}], \"histogram\": [{\"marker\": {\"colorbar\": {\"outlinewidth\": 0, \"ticks\": \"\"}}, \"type\": \"histogram\"}], \"histogram2d\": [{\"colorbar\": {\"outlinewidth\": 0, \"ticks\": \"\"}, \"colorscale\": [[0.0, \"#0d0887\"], [0.1111111111111111, \"#46039f\"], [0.2222222222222222, \"#7201a8\"], [0.3333333333333333, \"#9c179e\"], [0.4444444444444444, \"#bd3786\"], [0.5555555555555556, \"#d8576b\"], [0.6666666666666666, \"#ed7953\"], [0.7777777777777778, \"#fb9f3a\"], [0.8888888888888888, \"#fdca26\"], [1.0, \"#f0f921\"]], \"type\": \"histogram2d\"}], \"histogram2dcontour\": [{\"colorbar\": {\"outlinewidth\": 0, \"ticks\": \"\"}, \"colorscale\": [[0.0, \"#0d0887\"], [0.1111111111111111, \"#46039f\"], [0.2222222222222222, \"#7201a8\"], [0.3333333333333333, \"#9c179e\"], [0.4444444444444444, \"#bd3786\"], [0.5555555555555556, \"#d8576b\"], [0.6666666666666666, \"#ed7953\"], [0.7777777777777778, \"#fb9f3a\"], [0.8888888888888888, \"#fdca26\"], [1.0, \"#f0f921\"]], \"type\": \"histogram2dcontour\"}], \"mesh3d\": [{\"colorbar\": {\"outlinewidth\": 0, \"ticks\": \"\"}, \"type\": \"mesh3d\"}], \"parcoords\": [{\"line\": {\"colorbar\": {\"outlinewidth\": 0, \"ticks\": \"\"}}, \"type\": \"parcoords\"}], \"pie\": [{\"automargin\": true, \"type\": \"pie\"}], \"scatter\": [{\"marker\": {\"colorbar\": {\"outlinewidth\": 0, \"ticks\": \"\"}}, \"type\": \"scatter\"}], \"scatter3d\": [{\"line\": {\"colorbar\": {\"outlinewidth\": 0, \"ticks\": \"\"}}, \"marker\": {\"colorbar\": {\"outlinewidth\": 0, \"ticks\": \"\"}}, \"type\": \"scatter3d\"}], \"scattercarpet\": [{\"marker\": {\"colorbar\": {\"outlinewidth\": 0, \"ticks\": \"\"}}, \"type\": \"scattercarpet\"}], \"scattergeo\": [{\"marker\": {\"colorbar\": {\"outlinewidth\": 0, \"ticks\": \"\"}}, \"type\": \"scattergeo\"}], \"scattergl\": [{\"marker\": {\"colorbar\": {\"outlinewidth\": 0, \"ticks\": \"\"}}, \"type\": \"scattergl\"}], \"scattermapbox\": [{\"marker\": {\"colorbar\": {\"outlinewidth\": 0, \"ticks\": \"\"}}, \"type\": \"scattermapbox\"}], \"scatterpolar\": [{\"marker\": {\"colorbar\": {\"outlinewidth\": 0, \"ticks\": \"\"}}, \"type\": \"scatterpolar\"}], \"scatterpolargl\": [{\"marker\": {\"colorbar\": {\"outlinewidth\": 0, \"ticks\": \"\"}}, \"type\": \"scatterpolargl\"}], \"scatterternary\": [{\"marker\": {\"colorbar\": {\"outlinewidth\": 0, \"ticks\": \"\"}}, \"type\": \"scatterternary\"}], \"surface\": [{\"colorbar\": {\"outlinewidth\": 0, \"ticks\": \"\"}, \"colorscale\": [[0.0, \"#0d0887\"], [0.1111111111111111, \"#46039f\"], [0.2222222222222222, \"#7201a8\"], [0.3333333333333333, \"#9c179e\"], [0.4444444444444444, \"#bd3786\"], [0.5555555555555556, \"#d8576b\"], [0.6666666666666666, \"#ed7953\"], [0.7777777777777778, \"#fb9f3a\"], [0.8888888888888888, \"#fdca26\"], [1.0, \"#f0f921\"]], \"type\": \"surface\"}], \"table\": [{\"cells\": {\"fill\": {\"color\": \"#EBF0F8\"}, \"line\": {\"color\": \"white\"}}, \"header\": {\"fill\": {\"color\": \"#C8D4E3\"}, \"line\": {\"color\": \"white\"}}, \"type\": \"table\"}]}, \"layout\": {\"annotationdefaults\": {\"arrowcolor\": \"#2a3f5f\", \"arrowhead\": 0, \"arrowwidth\": 1}, \"coloraxis\": {\"colorbar\": {\"outlinewidth\": 0, \"ticks\": \"\"}}, \"colorscale\": {\"diverging\": [[0, \"#8e0152\"], [0.1, \"#c51b7d\"], [0.2, \"#de77ae\"], [0.3, \"#f1b6da\"], [0.4, \"#fde0ef\"], [0.5, \"#f7f7f7\"], [0.6, \"#e6f5d0\"], [0.7, \"#b8e186\"], [0.8, \"#7fbc41\"], [0.9, \"#4d9221\"], [1, \"#276419\"]], \"sequential\": [[0.0, \"#0d0887\"], [0.1111111111111111, \"#46039f\"], [0.2222222222222222, \"#7201a8\"], [0.3333333333333333, \"#9c179e\"], [0.4444444444444444, \"#bd3786\"], [0.5555555555555556, \"#d8576b\"], [0.6666666666666666, \"#ed7953\"], [0.7777777777777778, \"#fb9f3a\"], [0.8888888888888888, \"#fdca26\"], [1.0, \"#f0f921\"]], \"sequentialminus\": [[0.0, \"#0d0887\"], [0.1111111111111111, \"#46039f\"], [0.2222222222222222, \"#7201a8\"], [0.3333333333333333, \"#9c179e\"], [0.4444444444444444, \"#bd3786\"], [0.5555555555555556, \"#d8576b\"], [0.6666666666666666, \"#ed7953\"], [0.7777777777777778, \"#fb9f3a\"], [0.8888888888888888, \"#fdca26\"], [1.0, \"#f0f921\"]]}, \"colorway\": [\"#636efa\", \"#EF553B\", \"#00cc96\", \"#ab63fa\", \"#FFA15A\", \"#19d3f3\", \"#FF6692\", \"#B6E880\", \"#FF97FF\", \"#FECB52\"], \"font\": {\"color\": \"#2a3f5f\"}, \"geo\": {\"bgcolor\": \"white\", \"lakecolor\": \"white\", \"landcolor\": \"#E5ECF6\", \"showlakes\": true, \"showland\": true, \"subunitcolor\": \"white\"}, \"hoverlabel\": {\"align\": \"left\"}, \"hovermode\": \"closest\", \"mapbox\": {\"style\": \"light\"}, \"paper_bgcolor\": \"white\", \"plot_bgcolor\": \"#E5ECF6\", \"polar\": {\"angularaxis\": {\"gridcolor\": \"white\", \"linecolor\": \"white\", \"ticks\": \"\"}, \"bgcolor\": \"#E5ECF6\", \"radialaxis\": {\"gridcolor\": \"white\", \"linecolor\": \"white\", \"ticks\": \"\"}}, \"scene\": {\"xaxis\": {\"backgroundcolor\": \"#E5ECF6\", \"gridcolor\": \"white\", \"gridwidth\": 2, \"linecolor\": \"white\", \"showbackground\": true, \"ticks\": \"\", \"zerolinecolor\": \"white\"}, \"yaxis\": {\"backgroundcolor\": \"#E5ECF6\", \"gridcolor\": \"white\", \"gridwidth\": 2, \"linecolor\": \"white\", \"showbackground\": true, \"ticks\": \"\", \"zerolinecolor\": \"white\"}, \"zaxis\": {\"backgroundcolor\": \"#E5ECF6\", \"gridcolor\": \"white\", \"gridwidth\": 2, \"linecolor\": \"white\", \"showbackground\": true, \"ticks\": \"\", \"zerolinecolor\": \"white\"}}, \"shapedefaults\": {\"line\": {\"color\": \"#2a3f5f\"}}, \"ternary\": {\"aaxis\": {\"gridcolor\": \"white\", \"linecolor\": \"white\", \"ticks\": \"\"}, \"baxis\": {\"gridcolor\": \"white\", \"linecolor\": \"white\", \"ticks\": \"\"}, \"bgcolor\": \"#E5ECF6\", \"caxis\": {\"gridcolor\": \"white\", \"linecolor\": \"white\", \"ticks\": \"\"}}, \"title\": {\"x\": 0.05}, \"xaxis\": {\"automargin\": true, \"gridcolor\": \"white\", \"linecolor\": \"white\", \"ticks\": \"\", \"title\": {\"standoff\": 15}, \"zerolinecolor\": \"white\", \"zerolinewidth\": 2}, \"yaxis\": {\"automargin\": true, \"gridcolor\": \"white\", \"linecolor\": \"white\", \"ticks\": \"\", \"title\": {\"standoff\": 15}, \"zerolinecolor\": \"white\", \"zerolinewidth\": 2}}}, \"title\": {\"font\": {\"color\": \"#4D5663\"}}, \"xaxis\": {\"gridcolor\": \"#E1E5ED\", \"showgrid\": true, \"tickfont\": {\"color\": \"#4D5663\"}, \"title\": {\"font\": {\"color\": \"#4D5663\"}, \"text\": \"\"}, \"zerolinecolor\": \"#E1E5ED\"}, \"yaxis\": {\"gridcolor\": \"#E1E5ED\", \"showgrid\": true, \"tickfont\": {\"color\": \"#4D5663\"}, \"title\": {\"font\": {\"color\": \"#4D5663\"}, \"text\": \"\"}, \"zerolinecolor\": \"#E1E5ED\"}},\n",
       "                        {\"showLink\": true, \"linkText\": \"Export to plot.ly\", \"plotlyServerURL\": \"https://plot.ly\", \"responsive\": true}\n",
       "                    ).then(function(){\n",
       "                            \n",
       "var gd = document.getElementById('0dba88b5-5572-4530-8720-832ac4ff5a3f');\n",
       "var x = new MutationObserver(function (mutations, observer) {{\n",
       "        var display = window.getComputedStyle(gd).display;\n",
       "        if (!display || display === 'none') {{\n",
       "            console.log([gd, 'removed!']);\n",
       "            Plotly.purge(gd);\n",
       "            observer.disconnect();\n",
       "        }}\n",
       "}});\n",
       "\n",
       "// Listen for the removal of the full notebook cells\n",
       "var notebookContainer = gd.closest('#notebook-container');\n",
       "if (notebookContainer) {{\n",
       "    x.observe(notebookContainer, {childList: true});\n",
       "}}\n",
       "\n",
       "// Listen for the clearing of the current output cell\n",
       "var outputEl = gd.closest('.output');\n",
       "if (outputEl) {{\n",
       "    x.observe(outputEl, {childList: true});\n",
       "}}\n",
       "\n",
       "                        })\n",
       "                };\n",
       "                });\n",
       "            </script>\n",
       "        </div>"
      ]
     },
     "metadata": {},
     "output_type": "display_data"
    }
   ],
   "source": [
    "df3.iplot(kind='surface',colorscale='rdylbu')"
   ]
  },
  {
   "cell_type": "code",
   "execution_count": 38,
   "metadata": {},
   "outputs": [
    {
     "data": {
      "application/vnd.plotly.v1+json": {
       "config": {
        "linkText": "Export to plot.ly",
        "plotlyServerURL": "https://plot.ly",
        "showLink": true
       },
       "data": [
        {
         "histfunc": "count",
         "histnorm": "",
         "marker": {
          "color": "rgba(255, 153, 51, 1.0)",
          "line": {
           "color": "#4D5663",
           "width": 1.3
          }
         },
         "name": "A",
         "nbinsx": 50,
         "opacity": 0.8,
         "orientation": "v",
         "type": "histogram",
         "x": [
          -1.0227072602404605,
          1.1091700991385929,
          -1.4993969726670624,
          1.8768911811202638,
          -0.1584068038282462,
          0.5636778234135267,
          1.1643293657731082,
          -2.5453901249124367,
          -2.6995540910248312,
          0.830994313571333,
          -1.468665893590867,
          2.4870167762098214,
          0.5278277847426068,
          -2.2474017579936096,
          0.9392149363934074,
          0.333173802178018,
          -0.2518400271011279,
          0.5699429582714065,
          -0.9394005219839601,
          -0.5798540158672266,
          -1.1122285231351523,
          -0.5505823743314988,
          0.8431979643718024,
          -0.6698833258259573,
          1.4971121025574492,
          0.8110972529880883,
          -1.420772301496858,
          -1.238688195272796,
          0.738641139209335,
          0.30015097358503756,
          0.3857414137896417,
          0.7981149360380709,
          -1.09216358333296,
          -0.09947700731426419,
          -0.9575398718705561,
          -0.7941309017001477,
          0.5013365071315352,
          0.24182198672120908,
          -1.279837031259551,
          0.3465677983280072,
          2.0684845009039283,
          -0.2675234143132672,
          -0.5863391539096587,
          -2.4969552041074654,
          0.2470986876555305,
          1.5518128255305705,
          -0.781453918744178,
          -0.4864350671756053,
          1.7838960390576342,
          1.376521799342055,
          -0.02897847559348279,
          0.48547086276997553,
          1.3450898442841346,
          0.9888210486728403,
          -0.05411332033261771,
          -0.8641544902907613,
          -0.2756638826219286,
          1.5285699283236265,
          1.3448113873888643,
          -1.8769444454648108,
          -0.6671405401337398,
          -0.2922400814776645,
          0.080522552719805,
          -0.2655153357214515,
          0.17443548857794025,
          -0.20220757214113935,
          0.6085444227049939,
          -0.5398965196930543,
          -0.6486043699179436,
          0.07622659494578123,
          -1.1432441394493909,
          0.5117491223277846,
          0.5670963420711427,
          -1.556235182008322,
          2.2459400794950364,
          -0.2604219941766891,
          -1.6823252830735502,
          -2.493101370763733,
          -0.0863347511312303,
          1.443794649564759,
          -0.2011444145719318,
          0.3438950305951134,
          0.2607245037792382,
          0.792122700578744,
          1.7786098266291699,
          0.5352909661118613,
          -0.12294442612489852,
          1.1978976876974878,
          -0.3173406496272341,
          1.0472990438814478,
          0.3146805337346373,
          -0.607084650338605,
          -0.7359566251717335,
          0.4007922748288922,
          1.279517538903847,
          -0.22936483222501214,
          -0.5182994714755288,
          -0.848876107050886,
          -1.3865228467599007,
          0.18180007447279647
         ]
        }
       ],
       "layout": {
        "barmode": "overlay",
        "legend": {
         "bgcolor": "#F5F6F9",
         "font": {
          "color": "#4D5663"
         }
        },
        "paper_bgcolor": "#F5F6F9",
        "plot_bgcolor": "#F5F6F9",
        "template": {
         "data": {
          "bar": [
           {
            "error_x": {
             "color": "#2a3f5f"
            },
            "error_y": {
             "color": "#2a3f5f"
            },
            "marker": {
             "line": {
              "color": "#E5ECF6",
              "width": 0.5
             }
            },
            "type": "bar"
           }
          ],
          "barpolar": [
           {
            "marker": {
             "line": {
              "color": "#E5ECF6",
              "width": 0.5
             }
            },
            "type": "barpolar"
           }
          ],
          "carpet": [
           {
            "aaxis": {
             "endlinecolor": "#2a3f5f",
             "gridcolor": "white",
             "linecolor": "white",
             "minorgridcolor": "white",
             "startlinecolor": "#2a3f5f"
            },
            "baxis": {
             "endlinecolor": "#2a3f5f",
             "gridcolor": "white",
             "linecolor": "white",
             "minorgridcolor": "white",
             "startlinecolor": "#2a3f5f"
            },
            "type": "carpet"
           }
          ],
          "choropleth": [
           {
            "colorbar": {
             "outlinewidth": 0,
             "ticks": ""
            },
            "type": "choropleth"
           }
          ],
          "contour": [
           {
            "colorbar": {
             "outlinewidth": 0,
             "ticks": ""
            },
            "colorscale": [
             [
              0,
              "#0d0887"
             ],
             [
              0.1111111111111111,
              "#46039f"
             ],
             [
              0.2222222222222222,
              "#7201a8"
             ],
             [
              0.3333333333333333,
              "#9c179e"
             ],
             [
              0.4444444444444444,
              "#bd3786"
             ],
             [
              0.5555555555555556,
              "#d8576b"
             ],
             [
              0.6666666666666666,
              "#ed7953"
             ],
             [
              0.7777777777777778,
              "#fb9f3a"
             ],
             [
              0.8888888888888888,
              "#fdca26"
             ],
             [
              1,
              "#f0f921"
             ]
            ],
            "type": "contour"
           }
          ],
          "contourcarpet": [
           {
            "colorbar": {
             "outlinewidth": 0,
             "ticks": ""
            },
            "type": "contourcarpet"
           }
          ],
          "heatmap": [
           {
            "colorbar": {
             "outlinewidth": 0,
             "ticks": ""
            },
            "colorscale": [
             [
              0,
              "#0d0887"
             ],
             [
              0.1111111111111111,
              "#46039f"
             ],
             [
              0.2222222222222222,
              "#7201a8"
             ],
             [
              0.3333333333333333,
              "#9c179e"
             ],
             [
              0.4444444444444444,
              "#bd3786"
             ],
             [
              0.5555555555555556,
              "#d8576b"
             ],
             [
              0.6666666666666666,
              "#ed7953"
             ],
             [
              0.7777777777777778,
              "#fb9f3a"
             ],
             [
              0.8888888888888888,
              "#fdca26"
             ],
             [
              1,
              "#f0f921"
             ]
            ],
            "type": "heatmap"
           }
          ],
          "heatmapgl": [
           {
            "colorbar": {
             "outlinewidth": 0,
             "ticks": ""
            },
            "colorscale": [
             [
              0,
              "#0d0887"
             ],
             [
              0.1111111111111111,
              "#46039f"
             ],
             [
              0.2222222222222222,
              "#7201a8"
             ],
             [
              0.3333333333333333,
              "#9c179e"
             ],
             [
              0.4444444444444444,
              "#bd3786"
             ],
             [
              0.5555555555555556,
              "#d8576b"
             ],
             [
              0.6666666666666666,
              "#ed7953"
             ],
             [
              0.7777777777777778,
              "#fb9f3a"
             ],
             [
              0.8888888888888888,
              "#fdca26"
             ],
             [
              1,
              "#f0f921"
             ]
            ],
            "type": "heatmapgl"
           }
          ],
          "histogram": [
           {
            "marker": {
             "colorbar": {
              "outlinewidth": 0,
              "ticks": ""
             }
            },
            "type": "histogram"
           }
          ],
          "histogram2d": [
           {
            "colorbar": {
             "outlinewidth": 0,
             "ticks": ""
            },
            "colorscale": [
             [
              0,
              "#0d0887"
             ],
             [
              0.1111111111111111,
              "#46039f"
             ],
             [
              0.2222222222222222,
              "#7201a8"
             ],
             [
              0.3333333333333333,
              "#9c179e"
             ],
             [
              0.4444444444444444,
              "#bd3786"
             ],
             [
              0.5555555555555556,
              "#d8576b"
             ],
             [
              0.6666666666666666,
              "#ed7953"
             ],
             [
              0.7777777777777778,
              "#fb9f3a"
             ],
             [
              0.8888888888888888,
              "#fdca26"
             ],
             [
              1,
              "#f0f921"
             ]
            ],
            "type": "histogram2d"
           }
          ],
          "histogram2dcontour": [
           {
            "colorbar": {
             "outlinewidth": 0,
             "ticks": ""
            },
            "colorscale": [
             [
              0,
              "#0d0887"
             ],
             [
              0.1111111111111111,
              "#46039f"
             ],
             [
              0.2222222222222222,
              "#7201a8"
             ],
             [
              0.3333333333333333,
              "#9c179e"
             ],
             [
              0.4444444444444444,
              "#bd3786"
             ],
             [
              0.5555555555555556,
              "#d8576b"
             ],
             [
              0.6666666666666666,
              "#ed7953"
             ],
             [
              0.7777777777777778,
              "#fb9f3a"
             ],
             [
              0.8888888888888888,
              "#fdca26"
             ],
             [
              1,
              "#f0f921"
             ]
            ],
            "type": "histogram2dcontour"
           }
          ],
          "mesh3d": [
           {
            "colorbar": {
             "outlinewidth": 0,
             "ticks": ""
            },
            "type": "mesh3d"
           }
          ],
          "parcoords": [
           {
            "line": {
             "colorbar": {
              "outlinewidth": 0,
              "ticks": ""
             }
            },
            "type": "parcoords"
           }
          ],
          "pie": [
           {
            "automargin": true,
            "type": "pie"
           }
          ],
          "scatter": [
           {
            "marker": {
             "colorbar": {
              "outlinewidth": 0,
              "ticks": ""
             }
            },
            "type": "scatter"
           }
          ],
          "scatter3d": [
           {
            "line": {
             "colorbar": {
              "outlinewidth": 0,
              "ticks": ""
             }
            },
            "marker": {
             "colorbar": {
              "outlinewidth": 0,
              "ticks": ""
             }
            },
            "type": "scatter3d"
           }
          ],
          "scattercarpet": [
           {
            "marker": {
             "colorbar": {
              "outlinewidth": 0,
              "ticks": ""
             }
            },
            "type": "scattercarpet"
           }
          ],
          "scattergeo": [
           {
            "marker": {
             "colorbar": {
              "outlinewidth": 0,
              "ticks": ""
             }
            },
            "type": "scattergeo"
           }
          ],
          "scattergl": [
           {
            "marker": {
             "colorbar": {
              "outlinewidth": 0,
              "ticks": ""
             }
            },
            "type": "scattergl"
           }
          ],
          "scattermapbox": [
           {
            "marker": {
             "colorbar": {
              "outlinewidth": 0,
              "ticks": ""
             }
            },
            "type": "scattermapbox"
           }
          ],
          "scatterpolar": [
           {
            "marker": {
             "colorbar": {
              "outlinewidth": 0,
              "ticks": ""
             }
            },
            "type": "scatterpolar"
           }
          ],
          "scatterpolargl": [
           {
            "marker": {
             "colorbar": {
              "outlinewidth": 0,
              "ticks": ""
             }
            },
            "type": "scatterpolargl"
           }
          ],
          "scatterternary": [
           {
            "marker": {
             "colorbar": {
              "outlinewidth": 0,
              "ticks": ""
             }
            },
            "type": "scatterternary"
           }
          ],
          "surface": [
           {
            "colorbar": {
             "outlinewidth": 0,
             "ticks": ""
            },
            "colorscale": [
             [
              0,
              "#0d0887"
             ],
             [
              0.1111111111111111,
              "#46039f"
             ],
             [
              0.2222222222222222,
              "#7201a8"
             ],
             [
              0.3333333333333333,
              "#9c179e"
             ],
             [
              0.4444444444444444,
              "#bd3786"
             ],
             [
              0.5555555555555556,
              "#d8576b"
             ],
             [
              0.6666666666666666,
              "#ed7953"
             ],
             [
              0.7777777777777778,
              "#fb9f3a"
             ],
             [
              0.8888888888888888,
              "#fdca26"
             ],
             [
              1,
              "#f0f921"
             ]
            ],
            "type": "surface"
           }
          ],
          "table": [
           {
            "cells": {
             "fill": {
              "color": "#EBF0F8"
             },
             "line": {
              "color": "white"
             }
            },
            "header": {
             "fill": {
              "color": "#C8D4E3"
             },
             "line": {
              "color": "white"
             }
            },
            "type": "table"
           }
          ]
         },
         "layout": {
          "annotationdefaults": {
           "arrowcolor": "#2a3f5f",
           "arrowhead": 0,
           "arrowwidth": 1
          },
          "coloraxis": {
           "colorbar": {
            "outlinewidth": 0,
            "ticks": ""
           }
          },
          "colorscale": {
           "diverging": [
            [
             0,
             "#8e0152"
            ],
            [
             0.1,
             "#c51b7d"
            ],
            [
             0.2,
             "#de77ae"
            ],
            [
             0.3,
             "#f1b6da"
            ],
            [
             0.4,
             "#fde0ef"
            ],
            [
             0.5,
             "#f7f7f7"
            ],
            [
             0.6,
             "#e6f5d0"
            ],
            [
             0.7,
             "#b8e186"
            ],
            [
             0.8,
             "#7fbc41"
            ],
            [
             0.9,
             "#4d9221"
            ],
            [
             1,
             "#276419"
            ]
           ],
           "sequential": [
            [
             0,
             "#0d0887"
            ],
            [
             0.1111111111111111,
             "#46039f"
            ],
            [
             0.2222222222222222,
             "#7201a8"
            ],
            [
             0.3333333333333333,
             "#9c179e"
            ],
            [
             0.4444444444444444,
             "#bd3786"
            ],
            [
             0.5555555555555556,
             "#d8576b"
            ],
            [
             0.6666666666666666,
             "#ed7953"
            ],
            [
             0.7777777777777778,
             "#fb9f3a"
            ],
            [
             0.8888888888888888,
             "#fdca26"
            ],
            [
             1,
             "#f0f921"
            ]
           ],
           "sequentialminus": [
            [
             0,
             "#0d0887"
            ],
            [
             0.1111111111111111,
             "#46039f"
            ],
            [
             0.2222222222222222,
             "#7201a8"
            ],
            [
             0.3333333333333333,
             "#9c179e"
            ],
            [
             0.4444444444444444,
             "#bd3786"
            ],
            [
             0.5555555555555556,
             "#d8576b"
            ],
            [
             0.6666666666666666,
             "#ed7953"
            ],
            [
             0.7777777777777778,
             "#fb9f3a"
            ],
            [
             0.8888888888888888,
             "#fdca26"
            ],
            [
             1,
             "#f0f921"
            ]
           ]
          },
          "colorway": [
           "#636efa",
           "#EF553B",
           "#00cc96",
           "#ab63fa",
           "#FFA15A",
           "#19d3f3",
           "#FF6692",
           "#B6E880",
           "#FF97FF",
           "#FECB52"
          ],
          "font": {
           "color": "#2a3f5f"
          },
          "geo": {
           "bgcolor": "white",
           "lakecolor": "white",
           "landcolor": "#E5ECF6",
           "showlakes": true,
           "showland": true,
           "subunitcolor": "white"
          },
          "hoverlabel": {
           "align": "left"
          },
          "hovermode": "closest",
          "mapbox": {
           "style": "light"
          },
          "paper_bgcolor": "white",
          "plot_bgcolor": "#E5ECF6",
          "polar": {
           "angularaxis": {
            "gridcolor": "white",
            "linecolor": "white",
            "ticks": ""
           },
           "bgcolor": "#E5ECF6",
           "radialaxis": {
            "gridcolor": "white",
            "linecolor": "white",
            "ticks": ""
           }
          },
          "scene": {
           "xaxis": {
            "backgroundcolor": "#E5ECF6",
            "gridcolor": "white",
            "gridwidth": 2,
            "linecolor": "white",
            "showbackground": true,
            "ticks": "",
            "zerolinecolor": "white"
           },
           "yaxis": {
            "backgroundcolor": "#E5ECF6",
            "gridcolor": "white",
            "gridwidth": 2,
            "linecolor": "white",
            "showbackground": true,
            "ticks": "",
            "zerolinecolor": "white"
           },
           "zaxis": {
            "backgroundcolor": "#E5ECF6",
            "gridcolor": "white",
            "gridwidth": 2,
            "linecolor": "white",
            "showbackground": true,
            "ticks": "",
            "zerolinecolor": "white"
           }
          },
          "shapedefaults": {
           "line": {
            "color": "#2a3f5f"
           }
          },
          "ternary": {
           "aaxis": {
            "gridcolor": "white",
            "linecolor": "white",
            "ticks": ""
           },
           "baxis": {
            "gridcolor": "white",
            "linecolor": "white",
            "ticks": ""
           },
           "bgcolor": "#E5ECF6",
           "caxis": {
            "gridcolor": "white",
            "linecolor": "white",
            "ticks": ""
           }
          },
          "title": {
           "x": 0.05
          },
          "xaxis": {
           "automargin": true,
           "gridcolor": "white",
           "linecolor": "white",
           "ticks": "",
           "title": {
            "standoff": 15
           },
           "zerolinecolor": "white",
           "zerolinewidth": 2
          },
          "yaxis": {
           "automargin": true,
           "gridcolor": "white",
           "linecolor": "white",
           "ticks": "",
           "title": {
            "standoff": 15
           },
           "zerolinecolor": "white",
           "zerolinewidth": 2
          }
         }
        },
        "title": {
         "font": {
          "color": "#4D5663"
         }
        },
        "xaxis": {
         "gridcolor": "#E1E5ED",
         "showgrid": true,
         "tickfont": {
          "color": "#4D5663"
         },
         "title": {
          "font": {
           "color": "#4D5663"
          },
          "text": ""
         },
         "zerolinecolor": "#E1E5ED"
        },
        "yaxis": {
         "gridcolor": "#E1E5ED",
         "showgrid": true,
         "tickfont": {
          "color": "#4D5663"
         },
         "title": {
          "font": {
           "color": "#4D5663"
          },
          "text": ""
         },
         "zerolinecolor": "#E1E5ED"
        }
       }
      },
      "text/html": [
       "<div>\n",
       "        \n",
       "        \n",
       "            <div id=\"43a5b66b-3f8e-423a-b9ef-b620475a3f93\" class=\"plotly-graph-div\" style=\"height:525px; width:100%;\"></div>\n",
       "            <script type=\"text/javascript\">\n",
       "                require([\"plotly\"], function(Plotly) {\n",
       "                    window.PLOTLYENV=window.PLOTLYENV || {};\n",
       "                    window.PLOTLYENV.BASE_URL='https://plot.ly';\n",
       "                    \n",
       "                if (document.getElementById(\"43a5b66b-3f8e-423a-b9ef-b620475a3f93\")) {\n",
       "                    Plotly.newPlot(\n",
       "                        '43a5b66b-3f8e-423a-b9ef-b620475a3f93',\n",
       "                        [{\"histfunc\": \"count\", \"histnorm\": \"\", \"marker\": {\"color\": \"rgba(255, 153, 51, 1.0)\", \"line\": {\"color\": \"#4D5663\", \"width\": 1.3}}, \"name\": \"A\", \"nbinsx\": 50, \"opacity\": 0.8, \"orientation\": \"v\", \"type\": \"histogram\", \"x\": [-1.0227072602404605, 1.1091700991385929, -1.4993969726670624, 1.8768911811202638, -0.1584068038282462, 0.5636778234135267, 1.1643293657731082, -2.5453901249124367, -2.6995540910248312, 0.830994313571333, -1.468665893590867, 2.4870167762098214, 0.5278277847426068, -2.2474017579936096, 0.9392149363934074, 0.333173802178018, -0.2518400271011279, 0.5699429582714065, -0.9394005219839601, -0.5798540158672266, -1.1122285231351523, -0.5505823743314988, 0.8431979643718024, -0.6698833258259573, 1.4971121025574492, 0.8110972529880883, -1.420772301496858, -1.238688195272796, 0.738641139209335, 0.30015097358503756, 0.3857414137896417, 0.7981149360380709, -1.09216358333296, -0.09947700731426419, -0.9575398718705561, -0.7941309017001477, 0.5013365071315352, 0.24182198672120908, -1.279837031259551, 0.3465677983280072, 2.0684845009039283, -0.2675234143132672, -0.5863391539096587, -2.4969552041074654, 0.2470986876555305, 1.5518128255305705, -0.781453918744178, -0.4864350671756053, 1.7838960390576342, 1.376521799342055, -0.02897847559348279, 0.48547086276997553, 1.3450898442841346, 0.9888210486728403, -0.05411332033261771, -0.8641544902907613, -0.2756638826219286, 1.5285699283236265, 1.3448113873888643, -1.8769444454648108, -0.6671405401337398, -0.2922400814776645, 0.080522552719805, -0.2655153357214515, 0.17443548857794025, -0.20220757214113935, 0.6085444227049939, -0.5398965196930543, -0.6486043699179436, 0.07622659494578123, -1.1432441394493909, 0.5117491223277846, 0.5670963420711427, -1.556235182008322, 2.2459400794950364, -0.2604219941766891, -1.6823252830735502, -2.493101370763733, -0.0863347511312303, 1.443794649564759, -0.2011444145719318, 0.3438950305951134, 0.2607245037792382, 0.792122700578744, 1.7786098266291699, 0.5352909661118613, -0.12294442612489852, 1.1978976876974878, -0.3173406496272341, 1.0472990438814478, 0.3146805337346373, -0.607084650338605, -0.7359566251717335, 0.4007922748288922, 1.279517538903847, -0.22936483222501214, -0.5182994714755288, -0.848876107050886, -1.3865228467599007, 0.18180007447279647]}],\n",
       "                        {\"barmode\": \"overlay\", \"legend\": {\"bgcolor\": \"#F5F6F9\", \"font\": {\"color\": \"#4D5663\"}}, \"paper_bgcolor\": \"#F5F6F9\", \"plot_bgcolor\": \"#F5F6F9\", \"template\": {\"data\": {\"bar\": [{\"error_x\": {\"color\": \"#2a3f5f\"}, \"error_y\": {\"color\": \"#2a3f5f\"}, \"marker\": {\"line\": {\"color\": \"#E5ECF6\", \"width\": 0.5}}, \"type\": \"bar\"}], \"barpolar\": [{\"marker\": {\"line\": {\"color\": \"#E5ECF6\", \"width\": 0.5}}, \"type\": \"barpolar\"}], \"carpet\": [{\"aaxis\": {\"endlinecolor\": \"#2a3f5f\", \"gridcolor\": \"white\", \"linecolor\": \"white\", \"minorgridcolor\": \"white\", \"startlinecolor\": \"#2a3f5f\"}, \"baxis\": {\"endlinecolor\": \"#2a3f5f\", \"gridcolor\": \"white\", \"linecolor\": \"white\", \"minorgridcolor\": \"white\", \"startlinecolor\": \"#2a3f5f\"}, \"type\": \"carpet\"}], \"choropleth\": [{\"colorbar\": {\"outlinewidth\": 0, \"ticks\": \"\"}, \"type\": \"choropleth\"}], \"contour\": [{\"colorbar\": {\"outlinewidth\": 0, \"ticks\": \"\"}, \"colorscale\": [[0.0, \"#0d0887\"], [0.1111111111111111, \"#46039f\"], [0.2222222222222222, \"#7201a8\"], [0.3333333333333333, \"#9c179e\"], [0.4444444444444444, \"#bd3786\"], [0.5555555555555556, \"#d8576b\"], [0.6666666666666666, \"#ed7953\"], [0.7777777777777778, \"#fb9f3a\"], [0.8888888888888888, \"#fdca26\"], [1.0, \"#f0f921\"]], \"type\": \"contour\"}], \"contourcarpet\": [{\"colorbar\": {\"outlinewidth\": 0, \"ticks\": \"\"}, \"type\": \"contourcarpet\"}], \"heatmap\": [{\"colorbar\": {\"outlinewidth\": 0, \"ticks\": \"\"}, \"colorscale\": [[0.0, \"#0d0887\"], [0.1111111111111111, \"#46039f\"], [0.2222222222222222, \"#7201a8\"], [0.3333333333333333, \"#9c179e\"], [0.4444444444444444, \"#bd3786\"], [0.5555555555555556, \"#d8576b\"], [0.6666666666666666, \"#ed7953\"], [0.7777777777777778, \"#fb9f3a\"], [0.8888888888888888, \"#fdca26\"], [1.0, \"#f0f921\"]], \"type\": \"heatmap\"}], \"heatmapgl\": [{\"colorbar\": {\"outlinewidth\": 0, \"ticks\": \"\"}, \"colorscale\": [[0.0, \"#0d0887\"], [0.1111111111111111, \"#46039f\"], [0.2222222222222222, \"#7201a8\"], [0.3333333333333333, \"#9c179e\"], [0.4444444444444444, \"#bd3786\"], [0.5555555555555556, \"#d8576b\"], [0.6666666666666666, \"#ed7953\"], [0.7777777777777778, \"#fb9f3a\"], [0.8888888888888888, \"#fdca26\"], [1.0, \"#f0f921\"]], \"type\": \"heatmapgl\"}], \"histogram\": [{\"marker\": {\"colorbar\": {\"outlinewidth\": 0, \"ticks\": \"\"}}, \"type\": \"histogram\"}], \"histogram2d\": [{\"colorbar\": {\"outlinewidth\": 0, \"ticks\": \"\"}, \"colorscale\": [[0.0, \"#0d0887\"], [0.1111111111111111, \"#46039f\"], [0.2222222222222222, \"#7201a8\"], [0.3333333333333333, \"#9c179e\"], [0.4444444444444444, \"#bd3786\"], [0.5555555555555556, \"#d8576b\"], [0.6666666666666666, \"#ed7953\"], [0.7777777777777778, \"#fb9f3a\"], [0.8888888888888888, \"#fdca26\"], [1.0, \"#f0f921\"]], \"type\": \"histogram2d\"}], \"histogram2dcontour\": [{\"colorbar\": {\"outlinewidth\": 0, \"ticks\": \"\"}, \"colorscale\": [[0.0, \"#0d0887\"], [0.1111111111111111, \"#46039f\"], [0.2222222222222222, \"#7201a8\"], [0.3333333333333333, \"#9c179e\"], [0.4444444444444444, \"#bd3786\"], [0.5555555555555556, \"#d8576b\"], [0.6666666666666666, \"#ed7953\"], [0.7777777777777778, \"#fb9f3a\"], [0.8888888888888888, \"#fdca26\"], [1.0, \"#f0f921\"]], \"type\": \"histogram2dcontour\"}], \"mesh3d\": [{\"colorbar\": {\"outlinewidth\": 0, \"ticks\": \"\"}, \"type\": \"mesh3d\"}], \"parcoords\": [{\"line\": {\"colorbar\": {\"outlinewidth\": 0, \"ticks\": \"\"}}, \"type\": \"parcoords\"}], \"pie\": [{\"automargin\": true, \"type\": \"pie\"}], \"scatter\": [{\"marker\": {\"colorbar\": {\"outlinewidth\": 0, \"ticks\": \"\"}}, \"type\": \"scatter\"}], \"scatter3d\": [{\"line\": {\"colorbar\": {\"outlinewidth\": 0, \"ticks\": \"\"}}, \"marker\": {\"colorbar\": {\"outlinewidth\": 0, \"ticks\": \"\"}}, \"type\": \"scatter3d\"}], \"scattercarpet\": [{\"marker\": {\"colorbar\": {\"outlinewidth\": 0, \"ticks\": \"\"}}, \"type\": \"scattercarpet\"}], \"scattergeo\": [{\"marker\": {\"colorbar\": {\"outlinewidth\": 0, \"ticks\": \"\"}}, \"type\": \"scattergeo\"}], \"scattergl\": [{\"marker\": {\"colorbar\": {\"outlinewidth\": 0, \"ticks\": \"\"}}, \"type\": \"scattergl\"}], \"scattermapbox\": [{\"marker\": {\"colorbar\": {\"outlinewidth\": 0, \"ticks\": \"\"}}, \"type\": \"scattermapbox\"}], \"scatterpolar\": [{\"marker\": {\"colorbar\": {\"outlinewidth\": 0, \"ticks\": \"\"}}, \"type\": \"scatterpolar\"}], \"scatterpolargl\": [{\"marker\": {\"colorbar\": {\"outlinewidth\": 0, \"ticks\": \"\"}}, \"type\": \"scatterpolargl\"}], \"scatterternary\": [{\"marker\": {\"colorbar\": {\"outlinewidth\": 0, \"ticks\": \"\"}}, \"type\": \"scatterternary\"}], \"surface\": [{\"colorbar\": {\"outlinewidth\": 0, \"ticks\": \"\"}, \"colorscale\": [[0.0, \"#0d0887\"], [0.1111111111111111, \"#46039f\"], [0.2222222222222222, \"#7201a8\"], [0.3333333333333333, \"#9c179e\"], [0.4444444444444444, \"#bd3786\"], [0.5555555555555556, \"#d8576b\"], [0.6666666666666666, \"#ed7953\"], [0.7777777777777778, \"#fb9f3a\"], [0.8888888888888888, \"#fdca26\"], [1.0, \"#f0f921\"]], \"type\": \"surface\"}], \"table\": [{\"cells\": {\"fill\": {\"color\": \"#EBF0F8\"}, \"line\": {\"color\": \"white\"}}, \"header\": {\"fill\": {\"color\": \"#C8D4E3\"}, \"line\": {\"color\": \"white\"}}, \"type\": \"table\"}]}, \"layout\": {\"annotationdefaults\": {\"arrowcolor\": \"#2a3f5f\", \"arrowhead\": 0, \"arrowwidth\": 1}, \"coloraxis\": {\"colorbar\": {\"outlinewidth\": 0, \"ticks\": \"\"}}, \"colorscale\": {\"diverging\": [[0, \"#8e0152\"], [0.1, \"#c51b7d\"], [0.2, \"#de77ae\"], [0.3, \"#f1b6da\"], [0.4, \"#fde0ef\"], [0.5, \"#f7f7f7\"], [0.6, \"#e6f5d0\"], [0.7, \"#b8e186\"], [0.8, \"#7fbc41\"], [0.9, \"#4d9221\"], [1, \"#276419\"]], \"sequential\": [[0.0, \"#0d0887\"], [0.1111111111111111, \"#46039f\"], [0.2222222222222222, \"#7201a8\"], [0.3333333333333333, \"#9c179e\"], [0.4444444444444444, \"#bd3786\"], [0.5555555555555556, \"#d8576b\"], [0.6666666666666666, \"#ed7953\"], [0.7777777777777778, \"#fb9f3a\"], [0.8888888888888888, \"#fdca26\"], [1.0, \"#f0f921\"]], \"sequentialminus\": [[0.0, \"#0d0887\"], [0.1111111111111111, \"#46039f\"], [0.2222222222222222, \"#7201a8\"], [0.3333333333333333, \"#9c179e\"], [0.4444444444444444, \"#bd3786\"], [0.5555555555555556, \"#d8576b\"], [0.6666666666666666, \"#ed7953\"], [0.7777777777777778, \"#fb9f3a\"], [0.8888888888888888, \"#fdca26\"], [1.0, \"#f0f921\"]]}, \"colorway\": [\"#636efa\", \"#EF553B\", \"#00cc96\", \"#ab63fa\", \"#FFA15A\", \"#19d3f3\", \"#FF6692\", \"#B6E880\", \"#FF97FF\", \"#FECB52\"], \"font\": {\"color\": \"#2a3f5f\"}, \"geo\": {\"bgcolor\": \"white\", \"lakecolor\": \"white\", \"landcolor\": \"#E5ECF6\", \"showlakes\": true, \"showland\": true, \"subunitcolor\": \"white\"}, \"hoverlabel\": {\"align\": \"left\"}, \"hovermode\": \"closest\", \"mapbox\": {\"style\": \"light\"}, \"paper_bgcolor\": \"white\", \"plot_bgcolor\": \"#E5ECF6\", \"polar\": {\"angularaxis\": {\"gridcolor\": \"white\", \"linecolor\": \"white\", \"ticks\": \"\"}, \"bgcolor\": \"#E5ECF6\", \"radialaxis\": {\"gridcolor\": \"white\", \"linecolor\": \"white\", \"ticks\": \"\"}}, \"scene\": {\"xaxis\": {\"backgroundcolor\": \"#E5ECF6\", \"gridcolor\": \"white\", \"gridwidth\": 2, \"linecolor\": \"white\", \"showbackground\": true, \"ticks\": \"\", \"zerolinecolor\": \"white\"}, \"yaxis\": {\"backgroundcolor\": \"#E5ECF6\", \"gridcolor\": \"white\", \"gridwidth\": 2, \"linecolor\": \"white\", \"showbackground\": true, \"ticks\": \"\", \"zerolinecolor\": \"white\"}, \"zaxis\": {\"backgroundcolor\": \"#E5ECF6\", \"gridcolor\": \"white\", \"gridwidth\": 2, \"linecolor\": \"white\", \"showbackground\": true, \"ticks\": \"\", \"zerolinecolor\": \"white\"}}, \"shapedefaults\": {\"line\": {\"color\": \"#2a3f5f\"}}, \"ternary\": {\"aaxis\": {\"gridcolor\": \"white\", \"linecolor\": \"white\", \"ticks\": \"\"}, \"baxis\": {\"gridcolor\": \"white\", \"linecolor\": \"white\", \"ticks\": \"\"}, \"bgcolor\": \"#E5ECF6\", \"caxis\": {\"gridcolor\": \"white\", \"linecolor\": \"white\", \"ticks\": \"\"}}, \"title\": {\"x\": 0.05}, \"xaxis\": {\"automargin\": true, \"gridcolor\": \"white\", \"linecolor\": \"white\", \"ticks\": \"\", \"title\": {\"standoff\": 15}, \"zerolinecolor\": \"white\", \"zerolinewidth\": 2}, \"yaxis\": {\"automargin\": true, \"gridcolor\": \"white\", \"linecolor\": \"white\", \"ticks\": \"\", \"title\": {\"standoff\": 15}, \"zerolinecolor\": \"white\", \"zerolinewidth\": 2}}}, \"title\": {\"font\": {\"color\": \"#4D5663\"}}, \"xaxis\": {\"gridcolor\": \"#E1E5ED\", \"showgrid\": true, \"tickfont\": {\"color\": \"#4D5663\"}, \"title\": {\"font\": {\"color\": \"#4D5663\"}, \"text\": \"\"}, \"zerolinecolor\": \"#E1E5ED\"}, \"yaxis\": {\"gridcolor\": \"#E1E5ED\", \"showgrid\": true, \"tickfont\": {\"color\": \"#4D5663\"}, \"title\": {\"font\": {\"color\": \"#4D5663\"}, \"text\": \"\"}, \"zerolinecolor\": \"#E1E5ED\"}},\n",
       "                        {\"showLink\": true, \"linkText\": \"Export to plot.ly\", \"plotlyServerURL\": \"https://plot.ly\", \"responsive\": true}\n",
       "                    ).then(function(){\n",
       "                            \n",
       "var gd = document.getElementById('43a5b66b-3f8e-423a-b9ef-b620475a3f93');\n",
       "var x = new MutationObserver(function (mutations, observer) {{\n",
       "        var display = window.getComputedStyle(gd).display;\n",
       "        if (!display || display === 'none') {{\n",
       "            console.log([gd, 'removed!']);\n",
       "            Plotly.purge(gd);\n",
       "            observer.disconnect();\n",
       "        }}\n",
       "}});\n",
       "\n",
       "// Listen for the removal of the full notebook cells\n",
       "var notebookContainer = gd.closest('#notebook-container');\n",
       "if (notebookContainer) {{\n",
       "    x.observe(notebookContainer, {childList: true});\n",
       "}}\n",
       "\n",
       "// Listen for the clearing of the current output cell\n",
       "var outputEl = gd.closest('.output');\n",
       "if (outputEl) {{\n",
       "    x.observe(outputEl, {childList: true});\n",
       "}}\n",
       "\n",
       "                        })\n",
       "                };\n",
       "                });\n",
       "            </script>\n",
       "        </div>"
      ]
     },
     "metadata": {},
     "output_type": "display_data"
    }
   ],
   "source": [
    "df['A'].iplot(kind='hist', bins=50)"
   ]
  },
  {
   "cell_type": "code",
   "execution_count": 39,
   "metadata": {},
   "outputs": [
    {
     "data": {
      "application/vnd.plotly.v1+json": {
       "config": {
        "linkText": "Export to plot.ly",
        "plotlyServerURL": "https://plot.ly",
        "showLink": true
       },
       "data": [
        {
         "histfunc": "count",
         "histnorm": "",
         "marker": {
          "color": "rgba(255, 153, 51, 1.0)",
          "line": {
           "color": "#4D5663",
           "width": 1.3
          }
         },
         "name": "A",
         "opacity": 0.8,
         "orientation": "v",
         "type": "histogram",
         "x": [
          -1.0227072602404605,
          1.1091700991385929,
          -1.4993969726670624,
          1.8768911811202638,
          -0.1584068038282462,
          0.5636778234135267,
          1.1643293657731082,
          -2.5453901249124367,
          -2.6995540910248312,
          0.830994313571333,
          -1.468665893590867,
          2.4870167762098214,
          0.5278277847426068,
          -2.2474017579936096,
          0.9392149363934074,
          0.333173802178018,
          -0.2518400271011279,
          0.5699429582714065,
          -0.9394005219839601,
          -0.5798540158672266,
          -1.1122285231351523,
          -0.5505823743314988,
          0.8431979643718024,
          -0.6698833258259573,
          1.4971121025574492,
          0.8110972529880883,
          -1.420772301496858,
          -1.238688195272796,
          0.738641139209335,
          0.30015097358503756,
          0.3857414137896417,
          0.7981149360380709,
          -1.09216358333296,
          -0.09947700731426419,
          -0.9575398718705561,
          -0.7941309017001477,
          0.5013365071315352,
          0.24182198672120908,
          -1.279837031259551,
          0.3465677983280072,
          2.0684845009039283,
          -0.2675234143132672,
          -0.5863391539096587,
          -2.4969552041074654,
          0.2470986876555305,
          1.5518128255305705,
          -0.781453918744178,
          -0.4864350671756053,
          1.7838960390576342,
          1.376521799342055,
          -0.02897847559348279,
          0.48547086276997553,
          1.3450898442841346,
          0.9888210486728403,
          -0.05411332033261771,
          -0.8641544902907613,
          -0.2756638826219286,
          1.5285699283236265,
          1.3448113873888643,
          -1.8769444454648108,
          -0.6671405401337398,
          -0.2922400814776645,
          0.080522552719805,
          -0.2655153357214515,
          0.17443548857794025,
          -0.20220757214113935,
          0.6085444227049939,
          -0.5398965196930543,
          -0.6486043699179436,
          0.07622659494578123,
          -1.1432441394493909,
          0.5117491223277846,
          0.5670963420711427,
          -1.556235182008322,
          2.2459400794950364,
          -0.2604219941766891,
          -1.6823252830735502,
          -2.493101370763733,
          -0.0863347511312303,
          1.443794649564759,
          -0.2011444145719318,
          0.3438950305951134,
          0.2607245037792382,
          0.792122700578744,
          1.7786098266291699,
          0.5352909661118613,
          -0.12294442612489852,
          1.1978976876974878,
          -0.3173406496272341,
          1.0472990438814478,
          0.3146805337346373,
          -0.607084650338605,
          -0.7359566251717335,
          0.4007922748288922,
          1.279517538903847,
          -0.22936483222501214,
          -0.5182994714755288,
          -0.848876107050886,
          -1.3865228467599007,
          0.18180007447279647
         ]
        },
        {
         "histfunc": "count",
         "histnorm": "",
         "marker": {
          "color": "rgba(55, 128, 191, 1.0)",
          "line": {
           "color": "#4D5663",
           "width": 1.3
          }
         },
         "name": "B",
         "opacity": 0.8,
         "orientation": "v",
         "type": "histogram",
         "x": [
          -0.7305625969818371,
          0.783362976846267,
          -0.6488174141162153,
          -1.379008968011247,
          0.8310618838938229,
          1.1778421647831814,
          0.3084172494654089,
          1.8990195971023394,
          0.10340485577957621,
          0.059026265280790365,
          0.510536253894352,
          -2.1538459076845924,
          0.3174261488262944,
          0.049624395432911424,
          -2.128017053722008,
          0.15190610867356308,
          0.649293489777525,
          0.45449245140423905,
          -0.39329927875529924,
          -0.06602567256010221,
          0.4511054143988493,
          0.5433725229594577,
          0.4233946966960372,
          -2.1635183337437978,
          -0.7067255386231072,
          -0.6177904210856345,
          -0.6595067079822083,
          1.5510904520567041,
          0.9018668632766085,
          0.09947906700423,
          -0.15621592041765242,
          -0.33499138194246636,
          -0.5163408026271186,
          -0.8489613479258857,
          -0.730817422127436,
          -0.4181302913241633,
          0.845253121042682,
          -0.43732468963958265,
          0.8297545496830605,
          0.4800210848145044,
          1.4312458795497929,
          1.4057658280072,
          -0.13507354273338432,
          0.004364059665748205,
          0.4583635381265657,
          -2.765109052598902,
          0.5553148910686933,
          0.8156121041694133,
          -0.8534912680359814,
          -0.3247281718808031,
          -0.914863311548679,
          1.2885918351941394,
          0.1286872852343092,
          0.6769192164148923,
          -1.8215241353716114,
          -0.5550326638024027,
          0.7312939772654433,
          -1.5930312249930805,
          0.5839395041961499,
          1.0132188209501904,
          0.09522232856181102,
          0.2918764830701547,
          -2.078395139709775,
          -0.38883386936591163,
          1.1290584477657903,
          0.22100222469686198,
          -0.5834017170642858,
          -1.021387557059779,
          -0.48027663208344595,
          -1.8273357277855076,
          1.3498770608938466,
          0.40782060463651854,
          0.2042791561113294,
          -0.7512961007936723,
          0.22849117191956678,
          -0.12738404595625513,
          0.14113705734866797,
          -1.530891509798966,
          0.30243572472487723,
          -0.6496718912655635,
          1.4761457105113132,
          -0.07187302243193486,
          0.3426537813081174,
          -1.4463894894521407,
          -1.2550872424839516,
          0.5376639737146628,
          -0.46650538869834624,
          -0.23539958762750904,
          1.3502628301865927,
          1.4552023830979153,
          -0.9402921461767356,
          0.8169931580844604,
          0.17573258156189311,
          1.0799719743407135,
          -0.6885727540285529,
          -0.09289774706664905,
          1.2460258532059068,
          0.9281312404691667,
          0.4666096361580586,
          1.3531035312894115
         ]
        },
        {
         "histfunc": "count",
         "histnorm": "",
         "marker": {
          "color": "rgba(50, 171, 96, 1.0)",
          "line": {
           "color": "#4D5663",
           "width": 1.3
          }
         },
         "name": "C",
         "opacity": 0.8,
         "orientation": "v",
         "type": "histogram",
         "x": [
          -2.0801954842530854,
          -1.012248646419635,
          1.3232652327046397,
          1.068653245193722,
          0.4473431505109954,
          -0.09759555331261434,
          0.4913939361288406,
          1.0907412801736536,
          -0.3952692084028424,
          0.9258753944397978,
          -0.7384413445378213,
          -0.31787180989326863,
          0.41700428379960064,
          0.6169563874809506,
          -0.5533118212780033,
          0.10214386353408453,
          -0.3296850142235436,
          1.0750401394967823,
          -0.45381682549475283,
          -0.16858566107054548,
          -1.85526676351296,
          1.0634692881601842,
          1.329723268726233,
          -0.09004064719788596,
          -0.5232441532800234,
          -0.5286476623586482,
          1.56954133362809,
          -0.25445912663840253,
          -0.24977001376546662,
          -0.7070986715272332,
          0.3857937791543105,
          -0.6013806674566733,
          -0.4453684923951969,
          1.1182233093725122,
          -1.2769659479554023,
          -0.5445238324820918,
          0.9990525554096598,
          0.5251609315298159,
          1.5392912526018883,
          -0.971095200299162,
          0.3675167346099236,
          0.16138437344170045,
          0.09746166488436017,
          0.22518220572810532,
          -1.1198076099048129,
          0.005111309652542074,
          0.39279883028651513,
          0.23399425783113573,
          0.11523169380654982,
          -0.12559021266810222,
          -1.0594698680160406,
          -0.7858237911363148,
          0.20117084772193605,
          -1.3251754450583033,
          0.34701632792761405,
          0.3326465503694515,
          1.3194715224871045,
          -0.9469273892058584,
          -1.4525211649807754,
          -0.7930788404805282,
          -0.5487878796047415,
          -0.8338095747373878,
          -0.18458116778035052,
          -1.8898177562650742,
          -0.9305403598408326,
          0.9600402473315202,
          0.5013522684531851,
          0.6964764986781917,
          1.1172290369042306,
          0.7992185353945016,
          -2.2048184120024428,
          -1.2889597505573922,
          0.2505191621450121,
          -1.6319268531335172,
          1.1817131103582106,
          -0.8990547247662171,
          -0.575832744607948,
          0.046390907870445426,
          -0.6227126274050468,
          0.7883913157586375,
          -0.5097836918707317,
          -0.4840801161815726,
          0.13436275960287455,
          -1.2197724595704293,
          0.2081925040015876,
          0.34192791684551804,
          0.49291742382682135,
          0.09201977043119879,
          1.3005200974593913,
          -0.3522452500997659,
          -0.3704964131275352,
          -0.0445344240652476,
          -0.5743768403100804,
          0.057713728297095264,
          -0.12423810305203296,
          -1.161102229440341,
          -0.5857461058902402,
          1.0327550810089714,
          0.5732034677469589,
          -0.66672263760295
         ]
        },
        {
         "histfunc": "count",
         "histnorm": "",
         "marker": {
          "color": "rgba(128, 0, 128, 1.0)",
          "line": {
           "color": "#4D5663",
           "width": 1.3
          }
         },
         "name": "D",
         "opacity": 0.8,
         "orientation": "v",
         "type": "histogram",
         "x": [
          -1.6889943276061983,
          -2.160652881430035,
          0.7969173286751591,
          -0.40689200535211484,
          1.1063863317023126,
          0.32587136889469626,
          1.4251924446590751,
          -0.049343482341913554,
          0.9785306319828516,
          0.3771094275577349,
          -0.6853301746631065,
          -0.2914417143453693,
          1.8567027535640652,
          0.38481773482027093,
          -1.167859631205922,
          0.9758959747850864,
          0.8006123176344719,
          -1.5947409809288808,
          -1.6116749594079887,
          1.727215606605738,
          0.4793062714084753,
          0.23227696562282796,
          -0.8111699652442527,
          0.8580603006263023,
          -2.110505442185867,
          -0.7575236466560565,
          0.8171669972107859,
          -0.013421757194777166,
          1.7662025857914379,
          -0.35261289515712557,
          1.079640561165116,
          -0.7445062704238944,
          -0.46963426145434883,
          -1.2359576841608122,
          -1.4618667743241767,
          -0.780915455602358,
          -0.3075388802068042,
          0.5997702843507153,
          0.024773052053056865,
          1.4751266506815628,
          0.6467806287776092,
          -0.3001218548271014,
          1.1870186479845986,
          -0.09868874741332945,
          0.37117461726540174,
          -0.632524468294907,
          0.6582455184587414,
          0.5883642323078896,
          0.6166385866073346,
          -1.0086365117714602,
          0.7209498010512816,
          1.8518676997876742,
          -0.5380555147800582,
          1.4353050142899981,
          -1.6633010766887348,
          -0.06638139914457122,
          0.6647926633745758,
          0.6873425170813442,
          -1.797936163991116,
          -1.4036787270915132,
          0.26853914745105245,
          0.15194493204514142,
          1.0789440777405943,
          0.5615595901447917,
          -0.05027937318893131,
          1.1120240717042713,
          1.0122585162490714,
          -1.832084962805,
          0.1709252479939976,
          0.5953036195998925,
          0.44461255626940366,
          -0.6291055204481256,
          0.44505919105353736,
          -0.43976931296823996,
          2.6300756410925628,
          -0.5501876400864705,
          0.1944042534603992,
          -1.838459404771273,
          1.0424085057541956,
          -1.0683697407131716,
          -0.004356231692863964,
          -1.1667907859048228,
          -1.4777276088855544,
          -0.38077165182966055,
          -0.969872397000942,
          -1.6980841916299279,
          -0.9914198284593434,
          -0.07812601974476405,
          -0.018228681633305915,
          -0.8582119807432321,
          -1.1741105724168293,
          0.7246595371727618,
          -0.10326535703384612,
          -1.4573605358758739,
          -1.6148284344017703,
          -2.7529826573775713,
          -0.9974075876858838,
          -0.5177700007047001,
          -0.21831560048830448,
          -2.1412511489272905
         ]
        }
       ],
       "layout": {
        "barmode": "overlay",
        "legend": {
         "bgcolor": "#F5F6F9",
         "font": {
          "color": "#4D5663"
         }
        },
        "paper_bgcolor": "#F5F6F9",
        "plot_bgcolor": "#F5F6F9",
        "template": {
         "data": {
          "bar": [
           {
            "error_x": {
             "color": "#2a3f5f"
            },
            "error_y": {
             "color": "#2a3f5f"
            },
            "marker": {
             "line": {
              "color": "#E5ECF6",
              "width": 0.5
             }
            },
            "type": "bar"
           }
          ],
          "barpolar": [
           {
            "marker": {
             "line": {
              "color": "#E5ECF6",
              "width": 0.5
             }
            },
            "type": "barpolar"
           }
          ],
          "carpet": [
           {
            "aaxis": {
             "endlinecolor": "#2a3f5f",
             "gridcolor": "white",
             "linecolor": "white",
             "minorgridcolor": "white",
             "startlinecolor": "#2a3f5f"
            },
            "baxis": {
             "endlinecolor": "#2a3f5f",
             "gridcolor": "white",
             "linecolor": "white",
             "minorgridcolor": "white",
             "startlinecolor": "#2a3f5f"
            },
            "type": "carpet"
           }
          ],
          "choropleth": [
           {
            "colorbar": {
             "outlinewidth": 0,
             "ticks": ""
            },
            "type": "choropleth"
           }
          ],
          "contour": [
           {
            "colorbar": {
             "outlinewidth": 0,
             "ticks": ""
            },
            "colorscale": [
             [
              0,
              "#0d0887"
             ],
             [
              0.1111111111111111,
              "#46039f"
             ],
             [
              0.2222222222222222,
              "#7201a8"
             ],
             [
              0.3333333333333333,
              "#9c179e"
             ],
             [
              0.4444444444444444,
              "#bd3786"
             ],
             [
              0.5555555555555556,
              "#d8576b"
             ],
             [
              0.6666666666666666,
              "#ed7953"
             ],
             [
              0.7777777777777778,
              "#fb9f3a"
             ],
             [
              0.8888888888888888,
              "#fdca26"
             ],
             [
              1,
              "#f0f921"
             ]
            ],
            "type": "contour"
           }
          ],
          "contourcarpet": [
           {
            "colorbar": {
             "outlinewidth": 0,
             "ticks": ""
            },
            "type": "contourcarpet"
           }
          ],
          "heatmap": [
           {
            "colorbar": {
             "outlinewidth": 0,
             "ticks": ""
            },
            "colorscale": [
             [
              0,
              "#0d0887"
             ],
             [
              0.1111111111111111,
              "#46039f"
             ],
             [
              0.2222222222222222,
              "#7201a8"
             ],
             [
              0.3333333333333333,
              "#9c179e"
             ],
             [
              0.4444444444444444,
              "#bd3786"
             ],
             [
              0.5555555555555556,
              "#d8576b"
             ],
             [
              0.6666666666666666,
              "#ed7953"
             ],
             [
              0.7777777777777778,
              "#fb9f3a"
             ],
             [
              0.8888888888888888,
              "#fdca26"
             ],
             [
              1,
              "#f0f921"
             ]
            ],
            "type": "heatmap"
           }
          ],
          "heatmapgl": [
           {
            "colorbar": {
             "outlinewidth": 0,
             "ticks": ""
            },
            "colorscale": [
             [
              0,
              "#0d0887"
             ],
             [
              0.1111111111111111,
              "#46039f"
             ],
             [
              0.2222222222222222,
              "#7201a8"
             ],
             [
              0.3333333333333333,
              "#9c179e"
             ],
             [
              0.4444444444444444,
              "#bd3786"
             ],
             [
              0.5555555555555556,
              "#d8576b"
             ],
             [
              0.6666666666666666,
              "#ed7953"
             ],
             [
              0.7777777777777778,
              "#fb9f3a"
             ],
             [
              0.8888888888888888,
              "#fdca26"
             ],
             [
              1,
              "#f0f921"
             ]
            ],
            "type": "heatmapgl"
           }
          ],
          "histogram": [
           {
            "marker": {
             "colorbar": {
              "outlinewidth": 0,
              "ticks": ""
             }
            },
            "type": "histogram"
           }
          ],
          "histogram2d": [
           {
            "colorbar": {
             "outlinewidth": 0,
             "ticks": ""
            },
            "colorscale": [
             [
              0,
              "#0d0887"
             ],
             [
              0.1111111111111111,
              "#46039f"
             ],
             [
              0.2222222222222222,
              "#7201a8"
             ],
             [
              0.3333333333333333,
              "#9c179e"
             ],
             [
              0.4444444444444444,
              "#bd3786"
             ],
             [
              0.5555555555555556,
              "#d8576b"
             ],
             [
              0.6666666666666666,
              "#ed7953"
             ],
             [
              0.7777777777777778,
              "#fb9f3a"
             ],
             [
              0.8888888888888888,
              "#fdca26"
             ],
             [
              1,
              "#f0f921"
             ]
            ],
            "type": "histogram2d"
           }
          ],
          "histogram2dcontour": [
           {
            "colorbar": {
             "outlinewidth": 0,
             "ticks": ""
            },
            "colorscale": [
             [
              0,
              "#0d0887"
             ],
             [
              0.1111111111111111,
              "#46039f"
             ],
             [
              0.2222222222222222,
              "#7201a8"
             ],
             [
              0.3333333333333333,
              "#9c179e"
             ],
             [
              0.4444444444444444,
              "#bd3786"
             ],
             [
              0.5555555555555556,
              "#d8576b"
             ],
             [
              0.6666666666666666,
              "#ed7953"
             ],
             [
              0.7777777777777778,
              "#fb9f3a"
             ],
             [
              0.8888888888888888,
              "#fdca26"
             ],
             [
              1,
              "#f0f921"
             ]
            ],
            "type": "histogram2dcontour"
           }
          ],
          "mesh3d": [
           {
            "colorbar": {
             "outlinewidth": 0,
             "ticks": ""
            },
            "type": "mesh3d"
           }
          ],
          "parcoords": [
           {
            "line": {
             "colorbar": {
              "outlinewidth": 0,
              "ticks": ""
             }
            },
            "type": "parcoords"
           }
          ],
          "pie": [
           {
            "automargin": true,
            "type": "pie"
           }
          ],
          "scatter": [
           {
            "marker": {
             "colorbar": {
              "outlinewidth": 0,
              "ticks": ""
             }
            },
            "type": "scatter"
           }
          ],
          "scatter3d": [
           {
            "line": {
             "colorbar": {
              "outlinewidth": 0,
              "ticks": ""
             }
            },
            "marker": {
             "colorbar": {
              "outlinewidth": 0,
              "ticks": ""
             }
            },
            "type": "scatter3d"
           }
          ],
          "scattercarpet": [
           {
            "marker": {
             "colorbar": {
              "outlinewidth": 0,
              "ticks": ""
             }
            },
            "type": "scattercarpet"
           }
          ],
          "scattergeo": [
           {
            "marker": {
             "colorbar": {
              "outlinewidth": 0,
              "ticks": ""
             }
            },
            "type": "scattergeo"
           }
          ],
          "scattergl": [
           {
            "marker": {
             "colorbar": {
              "outlinewidth": 0,
              "ticks": ""
             }
            },
            "type": "scattergl"
           }
          ],
          "scattermapbox": [
           {
            "marker": {
             "colorbar": {
              "outlinewidth": 0,
              "ticks": ""
             }
            },
            "type": "scattermapbox"
           }
          ],
          "scatterpolar": [
           {
            "marker": {
             "colorbar": {
              "outlinewidth": 0,
              "ticks": ""
             }
            },
            "type": "scatterpolar"
           }
          ],
          "scatterpolargl": [
           {
            "marker": {
             "colorbar": {
              "outlinewidth": 0,
              "ticks": ""
             }
            },
            "type": "scatterpolargl"
           }
          ],
          "scatterternary": [
           {
            "marker": {
             "colorbar": {
              "outlinewidth": 0,
              "ticks": ""
             }
            },
            "type": "scatterternary"
           }
          ],
          "surface": [
           {
            "colorbar": {
             "outlinewidth": 0,
             "ticks": ""
            },
            "colorscale": [
             [
              0,
              "#0d0887"
             ],
             [
              0.1111111111111111,
              "#46039f"
             ],
             [
              0.2222222222222222,
              "#7201a8"
             ],
             [
              0.3333333333333333,
              "#9c179e"
             ],
             [
              0.4444444444444444,
              "#bd3786"
             ],
             [
              0.5555555555555556,
              "#d8576b"
             ],
             [
              0.6666666666666666,
              "#ed7953"
             ],
             [
              0.7777777777777778,
              "#fb9f3a"
             ],
             [
              0.8888888888888888,
              "#fdca26"
             ],
             [
              1,
              "#f0f921"
             ]
            ],
            "type": "surface"
           }
          ],
          "table": [
           {
            "cells": {
             "fill": {
              "color": "#EBF0F8"
             },
             "line": {
              "color": "white"
             }
            },
            "header": {
             "fill": {
              "color": "#C8D4E3"
             },
             "line": {
              "color": "white"
             }
            },
            "type": "table"
           }
          ]
         },
         "layout": {
          "annotationdefaults": {
           "arrowcolor": "#2a3f5f",
           "arrowhead": 0,
           "arrowwidth": 1
          },
          "coloraxis": {
           "colorbar": {
            "outlinewidth": 0,
            "ticks": ""
           }
          },
          "colorscale": {
           "diverging": [
            [
             0,
             "#8e0152"
            ],
            [
             0.1,
             "#c51b7d"
            ],
            [
             0.2,
             "#de77ae"
            ],
            [
             0.3,
             "#f1b6da"
            ],
            [
             0.4,
             "#fde0ef"
            ],
            [
             0.5,
             "#f7f7f7"
            ],
            [
             0.6,
             "#e6f5d0"
            ],
            [
             0.7,
             "#b8e186"
            ],
            [
             0.8,
             "#7fbc41"
            ],
            [
             0.9,
             "#4d9221"
            ],
            [
             1,
             "#276419"
            ]
           ],
           "sequential": [
            [
             0,
             "#0d0887"
            ],
            [
             0.1111111111111111,
             "#46039f"
            ],
            [
             0.2222222222222222,
             "#7201a8"
            ],
            [
             0.3333333333333333,
             "#9c179e"
            ],
            [
             0.4444444444444444,
             "#bd3786"
            ],
            [
             0.5555555555555556,
             "#d8576b"
            ],
            [
             0.6666666666666666,
             "#ed7953"
            ],
            [
             0.7777777777777778,
             "#fb9f3a"
            ],
            [
             0.8888888888888888,
             "#fdca26"
            ],
            [
             1,
             "#f0f921"
            ]
           ],
           "sequentialminus": [
            [
             0,
             "#0d0887"
            ],
            [
             0.1111111111111111,
             "#46039f"
            ],
            [
             0.2222222222222222,
             "#7201a8"
            ],
            [
             0.3333333333333333,
             "#9c179e"
            ],
            [
             0.4444444444444444,
             "#bd3786"
            ],
            [
             0.5555555555555556,
             "#d8576b"
            ],
            [
             0.6666666666666666,
             "#ed7953"
            ],
            [
             0.7777777777777778,
             "#fb9f3a"
            ],
            [
             0.8888888888888888,
             "#fdca26"
            ],
            [
             1,
             "#f0f921"
            ]
           ]
          },
          "colorway": [
           "#636efa",
           "#EF553B",
           "#00cc96",
           "#ab63fa",
           "#FFA15A",
           "#19d3f3",
           "#FF6692",
           "#B6E880",
           "#FF97FF",
           "#FECB52"
          ],
          "font": {
           "color": "#2a3f5f"
          },
          "geo": {
           "bgcolor": "white",
           "lakecolor": "white",
           "landcolor": "#E5ECF6",
           "showlakes": true,
           "showland": true,
           "subunitcolor": "white"
          },
          "hoverlabel": {
           "align": "left"
          },
          "hovermode": "closest",
          "mapbox": {
           "style": "light"
          },
          "paper_bgcolor": "white",
          "plot_bgcolor": "#E5ECF6",
          "polar": {
           "angularaxis": {
            "gridcolor": "white",
            "linecolor": "white",
            "ticks": ""
           },
           "bgcolor": "#E5ECF6",
           "radialaxis": {
            "gridcolor": "white",
            "linecolor": "white",
            "ticks": ""
           }
          },
          "scene": {
           "xaxis": {
            "backgroundcolor": "#E5ECF6",
            "gridcolor": "white",
            "gridwidth": 2,
            "linecolor": "white",
            "showbackground": true,
            "ticks": "",
            "zerolinecolor": "white"
           },
           "yaxis": {
            "backgroundcolor": "#E5ECF6",
            "gridcolor": "white",
            "gridwidth": 2,
            "linecolor": "white",
            "showbackground": true,
            "ticks": "",
            "zerolinecolor": "white"
           },
           "zaxis": {
            "backgroundcolor": "#E5ECF6",
            "gridcolor": "white",
            "gridwidth": 2,
            "linecolor": "white",
            "showbackground": true,
            "ticks": "",
            "zerolinecolor": "white"
           }
          },
          "shapedefaults": {
           "line": {
            "color": "#2a3f5f"
           }
          },
          "ternary": {
           "aaxis": {
            "gridcolor": "white",
            "linecolor": "white",
            "ticks": ""
           },
           "baxis": {
            "gridcolor": "white",
            "linecolor": "white",
            "ticks": ""
           },
           "bgcolor": "#E5ECF6",
           "caxis": {
            "gridcolor": "white",
            "linecolor": "white",
            "ticks": ""
           }
          },
          "title": {
           "x": 0.05
          },
          "xaxis": {
           "automargin": true,
           "gridcolor": "white",
           "linecolor": "white",
           "ticks": "",
           "title": {
            "standoff": 15
           },
           "zerolinecolor": "white",
           "zerolinewidth": 2
          },
          "yaxis": {
           "automargin": true,
           "gridcolor": "white",
           "linecolor": "white",
           "ticks": "",
           "title": {
            "standoff": 15
           },
           "zerolinecolor": "white",
           "zerolinewidth": 2
          }
         }
        },
        "title": {
         "font": {
          "color": "#4D5663"
         }
        },
        "xaxis": {
         "gridcolor": "#E1E5ED",
         "showgrid": true,
         "tickfont": {
          "color": "#4D5663"
         },
         "title": {
          "font": {
           "color": "#4D5663"
          },
          "text": ""
         },
         "zerolinecolor": "#E1E5ED"
        },
        "yaxis": {
         "gridcolor": "#E1E5ED",
         "showgrid": true,
         "tickfont": {
          "color": "#4D5663"
         },
         "title": {
          "font": {
           "color": "#4D5663"
          },
          "text": ""
         },
         "zerolinecolor": "#E1E5ED"
        }
       }
      },
      "text/html": [
       "<div>\n",
       "        \n",
       "        \n",
       "            <div id=\"09bded12-2242-48d4-9d74-05ca850e0dfe\" class=\"plotly-graph-div\" style=\"height:525px; width:100%;\"></div>\n",
       "            <script type=\"text/javascript\">\n",
       "                require([\"plotly\"], function(Plotly) {\n",
       "                    window.PLOTLYENV=window.PLOTLYENV || {};\n",
       "                    window.PLOTLYENV.BASE_URL='https://plot.ly';\n",
       "                    \n",
       "                if (document.getElementById(\"09bded12-2242-48d4-9d74-05ca850e0dfe\")) {\n",
       "                    Plotly.newPlot(\n",
       "                        '09bded12-2242-48d4-9d74-05ca850e0dfe',\n",
       "                        [{\"histfunc\": \"count\", \"histnorm\": \"\", \"marker\": {\"color\": \"rgba(255, 153, 51, 1.0)\", \"line\": {\"color\": \"#4D5663\", \"width\": 1.3}}, \"name\": \"A\", \"opacity\": 0.8, \"orientation\": \"v\", \"type\": \"histogram\", \"x\": [-1.0227072602404605, 1.1091700991385929, -1.4993969726670624, 1.8768911811202638, -0.1584068038282462, 0.5636778234135267, 1.1643293657731082, -2.5453901249124367, -2.6995540910248312, 0.830994313571333, -1.468665893590867, 2.4870167762098214, 0.5278277847426068, -2.2474017579936096, 0.9392149363934074, 0.333173802178018, -0.2518400271011279, 0.5699429582714065, -0.9394005219839601, -0.5798540158672266, -1.1122285231351523, -0.5505823743314988, 0.8431979643718024, -0.6698833258259573, 1.4971121025574492, 0.8110972529880883, -1.420772301496858, -1.238688195272796, 0.738641139209335, 0.30015097358503756, 0.3857414137896417, 0.7981149360380709, -1.09216358333296, -0.09947700731426419, -0.9575398718705561, -0.7941309017001477, 0.5013365071315352, 0.24182198672120908, -1.279837031259551, 0.3465677983280072, 2.0684845009039283, -0.2675234143132672, -0.5863391539096587, -2.4969552041074654, 0.2470986876555305, 1.5518128255305705, -0.781453918744178, -0.4864350671756053, 1.7838960390576342, 1.376521799342055, -0.02897847559348279, 0.48547086276997553, 1.3450898442841346, 0.9888210486728403, -0.05411332033261771, -0.8641544902907613, -0.2756638826219286, 1.5285699283236265, 1.3448113873888643, -1.8769444454648108, -0.6671405401337398, -0.2922400814776645, 0.080522552719805, -0.2655153357214515, 0.17443548857794025, -0.20220757214113935, 0.6085444227049939, -0.5398965196930543, -0.6486043699179436, 0.07622659494578123, -1.1432441394493909, 0.5117491223277846, 0.5670963420711427, -1.556235182008322, 2.2459400794950364, -0.2604219941766891, -1.6823252830735502, -2.493101370763733, -0.0863347511312303, 1.443794649564759, -0.2011444145719318, 0.3438950305951134, 0.2607245037792382, 0.792122700578744, 1.7786098266291699, 0.5352909661118613, -0.12294442612489852, 1.1978976876974878, -0.3173406496272341, 1.0472990438814478, 0.3146805337346373, -0.607084650338605, -0.7359566251717335, 0.4007922748288922, 1.279517538903847, -0.22936483222501214, -0.5182994714755288, -0.848876107050886, -1.3865228467599007, 0.18180007447279647]}, {\"histfunc\": \"count\", \"histnorm\": \"\", \"marker\": {\"color\": \"rgba(55, 128, 191, 1.0)\", \"line\": {\"color\": \"#4D5663\", \"width\": 1.3}}, \"name\": \"B\", \"opacity\": 0.8, \"orientation\": \"v\", \"type\": \"histogram\", \"x\": [-0.7305625969818371, 0.783362976846267, -0.6488174141162153, -1.379008968011247, 0.8310618838938229, 1.1778421647831814, 0.3084172494654089, 1.8990195971023394, 0.10340485577957621, 0.059026265280790365, 0.510536253894352, -2.1538459076845924, 0.3174261488262944, 0.049624395432911424, -2.128017053722008, 0.15190610867356308, 0.649293489777525, 0.45449245140423905, -0.39329927875529924, -0.06602567256010221, 0.4511054143988493, 0.5433725229594577, 0.4233946966960372, -2.1635183337437978, -0.7067255386231072, -0.6177904210856345, -0.6595067079822083, 1.5510904520567041, 0.9018668632766085, 0.09947906700423, -0.15621592041765242, -0.33499138194246636, -0.5163408026271186, -0.8489613479258857, -0.730817422127436, -0.4181302913241633, 0.845253121042682, -0.43732468963958265, 0.8297545496830605, 0.4800210848145044, 1.4312458795497929, 1.4057658280072, -0.13507354273338432, 0.004364059665748205, 0.4583635381265657, -2.765109052598902, 0.5553148910686933, 0.8156121041694133, -0.8534912680359814, -0.3247281718808031, -0.914863311548679, 1.2885918351941394, 0.1286872852343092, 0.6769192164148923, -1.8215241353716114, -0.5550326638024027, 0.7312939772654433, -1.5930312249930805, 0.5839395041961499, 1.0132188209501904, 0.09522232856181102, 0.2918764830701547, -2.078395139709775, -0.38883386936591163, 1.1290584477657903, 0.22100222469686198, -0.5834017170642858, -1.021387557059779, -0.48027663208344595, -1.8273357277855076, 1.3498770608938466, 0.40782060463651854, 0.2042791561113294, -0.7512961007936723, 0.22849117191956678, -0.12738404595625513, 0.14113705734866797, -1.530891509798966, 0.30243572472487723, -0.6496718912655635, 1.4761457105113132, -0.07187302243193486, 0.3426537813081174, -1.4463894894521407, -1.2550872424839516, 0.5376639737146628, -0.46650538869834624, -0.23539958762750904, 1.3502628301865927, 1.4552023830979153, -0.9402921461767356, 0.8169931580844604, 0.17573258156189311, 1.0799719743407135, -0.6885727540285529, -0.09289774706664905, 1.2460258532059068, 0.9281312404691667, 0.4666096361580586, 1.3531035312894115]}, {\"histfunc\": \"count\", \"histnorm\": \"\", \"marker\": {\"color\": \"rgba(50, 171, 96, 1.0)\", \"line\": {\"color\": \"#4D5663\", \"width\": 1.3}}, \"name\": \"C\", \"opacity\": 0.8, \"orientation\": \"v\", \"type\": \"histogram\", \"x\": [-2.0801954842530854, -1.012248646419635, 1.3232652327046397, 1.068653245193722, 0.4473431505109954, -0.09759555331261434, 0.4913939361288406, 1.0907412801736536, -0.3952692084028424, 0.9258753944397978, -0.7384413445378213, -0.31787180989326863, 0.41700428379960064, 0.6169563874809506, -0.5533118212780033, 0.10214386353408453, -0.3296850142235436, 1.0750401394967823, -0.45381682549475283, -0.16858566107054548, -1.85526676351296, 1.0634692881601842, 1.329723268726233, -0.09004064719788596, -0.5232441532800234, -0.5286476623586482, 1.56954133362809, -0.25445912663840253, -0.24977001376546662, -0.7070986715272332, 0.3857937791543105, -0.6013806674566733, -0.4453684923951969, 1.1182233093725122, -1.2769659479554023, -0.5445238324820918, 0.9990525554096598, 0.5251609315298159, 1.5392912526018883, -0.971095200299162, 0.3675167346099236, 0.16138437344170045, 0.09746166488436017, 0.22518220572810532, -1.1198076099048129, 0.005111309652542074, 0.39279883028651513, 0.23399425783113573, 0.11523169380654982, -0.12559021266810222, -1.0594698680160406, -0.7858237911363148, 0.20117084772193605, -1.3251754450583033, 0.34701632792761405, 0.3326465503694515, 1.3194715224871045, -0.9469273892058584, -1.4525211649807754, -0.7930788404805282, -0.5487878796047415, -0.8338095747373878, -0.18458116778035052, -1.8898177562650742, -0.9305403598408326, 0.9600402473315202, 0.5013522684531851, 0.6964764986781917, 1.1172290369042306, 0.7992185353945016, -2.2048184120024428, -1.2889597505573922, 0.2505191621450121, -1.6319268531335172, 1.1817131103582106, -0.8990547247662171, -0.575832744607948, 0.046390907870445426, -0.6227126274050468, 0.7883913157586375, -0.5097836918707317, -0.4840801161815726, 0.13436275960287455, -1.2197724595704293, 0.2081925040015876, 0.34192791684551804, 0.49291742382682135, 0.09201977043119879, 1.3005200974593913, -0.3522452500997659, -0.3704964131275352, -0.0445344240652476, -0.5743768403100804, 0.057713728297095264, -0.12423810305203296, -1.161102229440341, -0.5857461058902402, 1.0327550810089714, 0.5732034677469589, -0.66672263760295]}, {\"histfunc\": \"count\", \"histnorm\": \"\", \"marker\": {\"color\": \"rgba(128, 0, 128, 1.0)\", \"line\": {\"color\": \"#4D5663\", \"width\": 1.3}}, \"name\": \"D\", \"opacity\": 0.8, \"orientation\": \"v\", \"type\": \"histogram\", \"x\": [-1.6889943276061983, -2.160652881430035, 0.7969173286751591, -0.40689200535211484, 1.1063863317023126, 0.32587136889469626, 1.4251924446590751, -0.049343482341913554, 0.9785306319828516, 0.3771094275577349, -0.6853301746631065, -0.2914417143453693, 1.8567027535640652, 0.38481773482027093, -1.167859631205922, 0.9758959747850864, 0.8006123176344719, -1.5947409809288808, -1.6116749594079887, 1.727215606605738, 0.4793062714084753, 0.23227696562282796, -0.8111699652442527, 0.8580603006263023, -2.110505442185867, -0.7575236466560565, 0.8171669972107859, -0.013421757194777166, 1.7662025857914379, -0.35261289515712557, 1.079640561165116, -0.7445062704238944, -0.46963426145434883, -1.2359576841608122, -1.4618667743241767, -0.780915455602358, -0.3075388802068042, 0.5997702843507153, 0.024773052053056865, 1.4751266506815628, 0.6467806287776092, -0.3001218548271014, 1.1870186479845986, -0.09868874741332945, 0.37117461726540174, -0.632524468294907, 0.6582455184587414, 0.5883642323078896, 0.6166385866073346, -1.0086365117714602, 0.7209498010512816, 1.8518676997876742, -0.5380555147800582, 1.4353050142899981, -1.6633010766887348, -0.06638139914457122, 0.6647926633745758, 0.6873425170813442, -1.797936163991116, -1.4036787270915132, 0.26853914745105245, 0.15194493204514142, 1.0789440777405943, 0.5615595901447917, -0.05027937318893131, 1.1120240717042713, 1.0122585162490714, -1.832084962805, 0.1709252479939976, 0.5953036195998925, 0.44461255626940366, -0.6291055204481256, 0.44505919105353736, -0.43976931296823996, 2.6300756410925628, -0.5501876400864705, 0.1944042534603992, -1.838459404771273, 1.0424085057541956, -1.0683697407131716, -0.004356231692863964, -1.1667907859048228, -1.4777276088855544, -0.38077165182966055, -0.969872397000942, -1.6980841916299279, -0.9914198284593434, -0.07812601974476405, -0.018228681633305915, -0.8582119807432321, -1.1741105724168293, 0.7246595371727618, -0.10326535703384612, -1.4573605358758739, -1.6148284344017703, -2.7529826573775713, -0.9974075876858838, -0.5177700007047001, -0.21831560048830448, -2.1412511489272905]}],\n",
       "                        {\"barmode\": \"overlay\", \"legend\": {\"bgcolor\": \"#F5F6F9\", \"font\": {\"color\": \"#4D5663\"}}, \"paper_bgcolor\": \"#F5F6F9\", \"plot_bgcolor\": \"#F5F6F9\", \"template\": {\"data\": {\"bar\": [{\"error_x\": {\"color\": \"#2a3f5f\"}, \"error_y\": {\"color\": \"#2a3f5f\"}, \"marker\": {\"line\": {\"color\": \"#E5ECF6\", \"width\": 0.5}}, \"type\": \"bar\"}], \"barpolar\": [{\"marker\": {\"line\": {\"color\": \"#E5ECF6\", \"width\": 0.5}}, \"type\": \"barpolar\"}], \"carpet\": [{\"aaxis\": {\"endlinecolor\": \"#2a3f5f\", \"gridcolor\": \"white\", \"linecolor\": \"white\", \"minorgridcolor\": \"white\", \"startlinecolor\": \"#2a3f5f\"}, \"baxis\": {\"endlinecolor\": \"#2a3f5f\", \"gridcolor\": \"white\", \"linecolor\": \"white\", \"minorgridcolor\": \"white\", \"startlinecolor\": \"#2a3f5f\"}, \"type\": \"carpet\"}], \"choropleth\": [{\"colorbar\": {\"outlinewidth\": 0, \"ticks\": \"\"}, \"type\": \"choropleth\"}], \"contour\": [{\"colorbar\": {\"outlinewidth\": 0, \"ticks\": \"\"}, \"colorscale\": [[0.0, \"#0d0887\"], [0.1111111111111111, \"#46039f\"], [0.2222222222222222, \"#7201a8\"], [0.3333333333333333, \"#9c179e\"], [0.4444444444444444, \"#bd3786\"], [0.5555555555555556, \"#d8576b\"], [0.6666666666666666, \"#ed7953\"], [0.7777777777777778, \"#fb9f3a\"], [0.8888888888888888, \"#fdca26\"], [1.0, \"#f0f921\"]], \"type\": \"contour\"}], \"contourcarpet\": [{\"colorbar\": {\"outlinewidth\": 0, \"ticks\": \"\"}, \"type\": \"contourcarpet\"}], \"heatmap\": [{\"colorbar\": {\"outlinewidth\": 0, \"ticks\": \"\"}, \"colorscale\": [[0.0, \"#0d0887\"], [0.1111111111111111, \"#46039f\"], [0.2222222222222222, \"#7201a8\"], [0.3333333333333333, \"#9c179e\"], [0.4444444444444444, \"#bd3786\"], [0.5555555555555556, \"#d8576b\"], [0.6666666666666666, \"#ed7953\"], [0.7777777777777778, \"#fb9f3a\"], [0.8888888888888888, \"#fdca26\"], [1.0, \"#f0f921\"]], \"type\": \"heatmap\"}], \"heatmapgl\": [{\"colorbar\": {\"outlinewidth\": 0, \"ticks\": \"\"}, \"colorscale\": [[0.0, \"#0d0887\"], [0.1111111111111111, \"#46039f\"], [0.2222222222222222, \"#7201a8\"], [0.3333333333333333, \"#9c179e\"], [0.4444444444444444, \"#bd3786\"], [0.5555555555555556, \"#d8576b\"], [0.6666666666666666, \"#ed7953\"], [0.7777777777777778, \"#fb9f3a\"], [0.8888888888888888, \"#fdca26\"], [1.0, \"#f0f921\"]], \"type\": \"heatmapgl\"}], \"histogram\": [{\"marker\": {\"colorbar\": {\"outlinewidth\": 0, \"ticks\": \"\"}}, \"type\": \"histogram\"}], \"histogram2d\": [{\"colorbar\": {\"outlinewidth\": 0, \"ticks\": \"\"}, \"colorscale\": [[0.0, \"#0d0887\"], [0.1111111111111111, \"#46039f\"], [0.2222222222222222, \"#7201a8\"], [0.3333333333333333, \"#9c179e\"], [0.4444444444444444, \"#bd3786\"], [0.5555555555555556, \"#d8576b\"], [0.6666666666666666, \"#ed7953\"], [0.7777777777777778, \"#fb9f3a\"], [0.8888888888888888, \"#fdca26\"], [1.0, \"#f0f921\"]], \"type\": \"histogram2d\"}], \"histogram2dcontour\": [{\"colorbar\": {\"outlinewidth\": 0, \"ticks\": \"\"}, \"colorscale\": [[0.0, \"#0d0887\"], [0.1111111111111111, \"#46039f\"], [0.2222222222222222, \"#7201a8\"], [0.3333333333333333, \"#9c179e\"], [0.4444444444444444, \"#bd3786\"], [0.5555555555555556, \"#d8576b\"], [0.6666666666666666, \"#ed7953\"], [0.7777777777777778, \"#fb9f3a\"], [0.8888888888888888, \"#fdca26\"], [1.0, \"#f0f921\"]], \"type\": \"histogram2dcontour\"}], \"mesh3d\": [{\"colorbar\": {\"outlinewidth\": 0, \"ticks\": \"\"}, \"type\": \"mesh3d\"}], \"parcoords\": [{\"line\": {\"colorbar\": {\"outlinewidth\": 0, \"ticks\": \"\"}}, \"type\": \"parcoords\"}], \"pie\": [{\"automargin\": true, \"type\": \"pie\"}], \"scatter\": [{\"marker\": {\"colorbar\": {\"outlinewidth\": 0, \"ticks\": \"\"}}, \"type\": \"scatter\"}], \"scatter3d\": [{\"line\": {\"colorbar\": {\"outlinewidth\": 0, \"ticks\": \"\"}}, \"marker\": {\"colorbar\": {\"outlinewidth\": 0, \"ticks\": \"\"}}, \"type\": \"scatter3d\"}], \"scattercarpet\": [{\"marker\": {\"colorbar\": {\"outlinewidth\": 0, \"ticks\": \"\"}}, \"type\": \"scattercarpet\"}], \"scattergeo\": [{\"marker\": {\"colorbar\": {\"outlinewidth\": 0, \"ticks\": \"\"}}, \"type\": \"scattergeo\"}], \"scattergl\": [{\"marker\": {\"colorbar\": {\"outlinewidth\": 0, \"ticks\": \"\"}}, \"type\": \"scattergl\"}], \"scattermapbox\": [{\"marker\": {\"colorbar\": {\"outlinewidth\": 0, \"ticks\": \"\"}}, \"type\": \"scattermapbox\"}], \"scatterpolar\": [{\"marker\": {\"colorbar\": {\"outlinewidth\": 0, \"ticks\": \"\"}}, \"type\": \"scatterpolar\"}], \"scatterpolargl\": [{\"marker\": {\"colorbar\": {\"outlinewidth\": 0, \"ticks\": \"\"}}, \"type\": \"scatterpolargl\"}], \"scatterternary\": [{\"marker\": {\"colorbar\": {\"outlinewidth\": 0, \"ticks\": \"\"}}, \"type\": \"scatterternary\"}], \"surface\": [{\"colorbar\": {\"outlinewidth\": 0, \"ticks\": \"\"}, \"colorscale\": [[0.0, \"#0d0887\"], [0.1111111111111111, \"#46039f\"], [0.2222222222222222, \"#7201a8\"], [0.3333333333333333, \"#9c179e\"], [0.4444444444444444, \"#bd3786\"], [0.5555555555555556, \"#d8576b\"], [0.6666666666666666, \"#ed7953\"], [0.7777777777777778, \"#fb9f3a\"], [0.8888888888888888, \"#fdca26\"], [1.0, \"#f0f921\"]], \"type\": \"surface\"}], \"table\": [{\"cells\": {\"fill\": {\"color\": \"#EBF0F8\"}, \"line\": {\"color\": \"white\"}}, \"header\": {\"fill\": {\"color\": \"#C8D4E3\"}, \"line\": {\"color\": \"white\"}}, \"type\": \"table\"}]}, \"layout\": {\"annotationdefaults\": {\"arrowcolor\": \"#2a3f5f\", \"arrowhead\": 0, \"arrowwidth\": 1}, \"coloraxis\": {\"colorbar\": {\"outlinewidth\": 0, \"ticks\": \"\"}}, \"colorscale\": {\"diverging\": [[0, \"#8e0152\"], [0.1, \"#c51b7d\"], [0.2, \"#de77ae\"], [0.3, \"#f1b6da\"], [0.4, \"#fde0ef\"], [0.5, \"#f7f7f7\"], [0.6, \"#e6f5d0\"], [0.7, \"#b8e186\"], [0.8, \"#7fbc41\"], [0.9, \"#4d9221\"], [1, \"#276419\"]], \"sequential\": [[0.0, \"#0d0887\"], [0.1111111111111111, \"#46039f\"], [0.2222222222222222, \"#7201a8\"], [0.3333333333333333, \"#9c179e\"], [0.4444444444444444, \"#bd3786\"], [0.5555555555555556, \"#d8576b\"], [0.6666666666666666, \"#ed7953\"], [0.7777777777777778, \"#fb9f3a\"], [0.8888888888888888, \"#fdca26\"], [1.0, \"#f0f921\"]], \"sequentialminus\": [[0.0, \"#0d0887\"], [0.1111111111111111, \"#46039f\"], [0.2222222222222222, \"#7201a8\"], [0.3333333333333333, \"#9c179e\"], [0.4444444444444444, \"#bd3786\"], [0.5555555555555556, \"#d8576b\"], [0.6666666666666666, \"#ed7953\"], [0.7777777777777778, \"#fb9f3a\"], [0.8888888888888888, \"#fdca26\"], [1.0, \"#f0f921\"]]}, \"colorway\": [\"#636efa\", \"#EF553B\", \"#00cc96\", \"#ab63fa\", \"#FFA15A\", \"#19d3f3\", \"#FF6692\", \"#B6E880\", \"#FF97FF\", \"#FECB52\"], \"font\": {\"color\": \"#2a3f5f\"}, \"geo\": {\"bgcolor\": \"white\", \"lakecolor\": \"white\", \"landcolor\": \"#E5ECF6\", \"showlakes\": true, \"showland\": true, \"subunitcolor\": \"white\"}, \"hoverlabel\": {\"align\": \"left\"}, \"hovermode\": \"closest\", \"mapbox\": {\"style\": \"light\"}, \"paper_bgcolor\": \"white\", \"plot_bgcolor\": \"#E5ECF6\", \"polar\": {\"angularaxis\": {\"gridcolor\": \"white\", \"linecolor\": \"white\", \"ticks\": \"\"}, \"bgcolor\": \"#E5ECF6\", \"radialaxis\": {\"gridcolor\": \"white\", \"linecolor\": \"white\", \"ticks\": \"\"}}, \"scene\": {\"xaxis\": {\"backgroundcolor\": \"#E5ECF6\", \"gridcolor\": \"white\", \"gridwidth\": 2, \"linecolor\": \"white\", \"showbackground\": true, \"ticks\": \"\", \"zerolinecolor\": \"white\"}, \"yaxis\": {\"backgroundcolor\": \"#E5ECF6\", \"gridcolor\": \"white\", \"gridwidth\": 2, \"linecolor\": \"white\", \"showbackground\": true, \"ticks\": \"\", \"zerolinecolor\": \"white\"}, \"zaxis\": {\"backgroundcolor\": \"#E5ECF6\", \"gridcolor\": \"white\", \"gridwidth\": 2, \"linecolor\": \"white\", \"showbackground\": true, \"ticks\": \"\", \"zerolinecolor\": \"white\"}}, \"shapedefaults\": {\"line\": {\"color\": \"#2a3f5f\"}}, \"ternary\": {\"aaxis\": {\"gridcolor\": \"white\", \"linecolor\": \"white\", \"ticks\": \"\"}, \"baxis\": {\"gridcolor\": \"white\", \"linecolor\": \"white\", \"ticks\": \"\"}, \"bgcolor\": \"#E5ECF6\", \"caxis\": {\"gridcolor\": \"white\", \"linecolor\": \"white\", \"ticks\": \"\"}}, \"title\": {\"x\": 0.05}, \"xaxis\": {\"automargin\": true, \"gridcolor\": \"white\", \"linecolor\": \"white\", \"ticks\": \"\", \"title\": {\"standoff\": 15}, \"zerolinecolor\": \"white\", \"zerolinewidth\": 2}, \"yaxis\": {\"automargin\": true, \"gridcolor\": \"white\", \"linecolor\": \"white\", \"ticks\": \"\", \"title\": {\"standoff\": 15}, \"zerolinecolor\": \"white\", \"zerolinewidth\": 2}}}, \"title\": {\"font\": {\"color\": \"#4D5663\"}}, \"xaxis\": {\"gridcolor\": \"#E1E5ED\", \"showgrid\": true, \"tickfont\": {\"color\": \"#4D5663\"}, \"title\": {\"font\": {\"color\": \"#4D5663\"}, \"text\": \"\"}, \"zerolinecolor\": \"#E1E5ED\"}, \"yaxis\": {\"gridcolor\": \"#E1E5ED\", \"showgrid\": true, \"tickfont\": {\"color\": \"#4D5663\"}, \"title\": {\"font\": {\"color\": \"#4D5663\"}, \"text\": \"\"}, \"zerolinecolor\": \"#E1E5ED\"}},\n",
       "                        {\"showLink\": true, \"linkText\": \"Export to plot.ly\", \"plotlyServerURL\": \"https://plot.ly\", \"responsive\": true}\n",
       "                    ).then(function(){\n",
       "                            \n",
       "var gd = document.getElementById('09bded12-2242-48d4-9d74-05ca850e0dfe');\n",
       "var x = new MutationObserver(function (mutations, observer) {{\n",
       "        var display = window.getComputedStyle(gd).display;\n",
       "        if (!display || display === 'none') {{\n",
       "            console.log([gd, 'removed!']);\n",
       "            Plotly.purge(gd);\n",
       "            observer.disconnect();\n",
       "        }}\n",
       "}});\n",
       "\n",
       "// Listen for the removal of the full notebook cells\n",
       "var notebookContainer = gd.closest('#notebook-container');\n",
       "if (notebookContainer) {{\n",
       "    x.observe(notebookContainer, {childList: true});\n",
       "}}\n",
       "\n",
       "// Listen for the clearing of the current output cell\n",
       "var outputEl = gd.closest('.output');\n",
       "if (outputEl) {{\n",
       "    x.observe(outputEl, {childList: true});\n",
       "}}\n",
       "\n",
       "                        })\n",
       "                };\n",
       "                });\n",
       "            </script>\n",
       "        </div>"
      ]
     },
     "metadata": {},
     "output_type": "display_data"
    }
   ],
   "source": [
    "df.iplot(kind='hist')"
   ]
  },
  {
   "cell_type": "code",
   "execution_count": 40,
   "metadata": {},
   "outputs": [
    {
     "data": {
      "application/vnd.plotly.v1+json": {
       "config": {
        "linkText": "Export to plot.ly",
        "plotlyServerURL": "https://plot.ly",
        "showLink": true
       },
       "data": [
        {
         "line": {
          "color": "rgba(255, 153, 51, 1.0)",
          "dash": "solid",
          "shape": "linear",
          "width": 1.3
         },
         "mode": "lines",
         "name": "A",
         "text": "",
         "type": "scatter",
         "x": [
          0,
          1,
          2,
          3,
          4,
          5,
          6,
          7,
          8,
          9,
          10,
          11,
          12,
          13,
          14,
          15,
          16,
          17,
          18,
          19,
          20,
          21,
          22,
          23,
          24,
          25,
          26,
          27,
          28,
          29,
          30,
          31,
          32,
          33,
          34,
          35,
          36,
          37,
          38,
          39,
          40,
          41,
          42,
          43,
          44,
          45,
          46,
          47,
          48,
          49,
          50,
          51,
          52,
          53,
          54,
          55,
          56,
          57,
          58,
          59,
          60,
          61,
          62,
          63,
          64,
          65,
          66,
          67,
          68,
          69,
          70,
          71,
          72,
          73,
          74,
          75,
          76,
          77,
          78,
          79,
          80,
          81,
          82,
          83,
          84,
          85,
          86,
          87,
          88,
          89,
          90,
          91,
          92,
          93,
          94,
          95,
          96,
          97,
          98,
          99
         ],
         "y": [
          -1.0227072602404605,
          1.1091700991385929,
          -1.4993969726670624,
          1.8768911811202638,
          -0.1584068038282462,
          0.5636778234135267,
          1.1643293657731082,
          -2.5453901249124367,
          -2.6995540910248312,
          0.830994313571333,
          -1.468665893590867,
          2.4870167762098214,
          0.5278277847426068,
          -2.2474017579936096,
          0.9392149363934074,
          0.333173802178018,
          -0.2518400271011279,
          0.5699429582714065,
          -0.9394005219839601,
          -0.5798540158672266,
          -1.1122285231351523,
          -0.5505823743314988,
          0.8431979643718024,
          -0.6698833258259573,
          1.4971121025574492,
          0.8110972529880883,
          -1.420772301496858,
          -1.238688195272796,
          0.738641139209335,
          0.30015097358503756,
          0.3857414137896417,
          0.7981149360380709,
          -1.09216358333296,
          -0.09947700731426419,
          -0.9575398718705561,
          -0.7941309017001477,
          0.5013365071315352,
          0.24182198672120908,
          -1.279837031259551,
          0.3465677983280072,
          2.0684845009039283,
          -0.2675234143132672,
          -0.5863391539096587,
          -2.4969552041074654,
          0.2470986876555305,
          1.5518128255305705,
          -0.781453918744178,
          -0.4864350671756053,
          1.7838960390576342,
          1.376521799342055,
          -0.02897847559348279,
          0.48547086276997553,
          1.3450898442841346,
          0.9888210486728403,
          -0.05411332033261771,
          -0.8641544902907613,
          -0.2756638826219286,
          1.5285699283236265,
          1.3448113873888643,
          -1.8769444454648108,
          -0.6671405401337398,
          -0.2922400814776645,
          0.080522552719805,
          -0.2655153357214515,
          0.17443548857794025,
          -0.20220757214113935,
          0.6085444227049939,
          -0.5398965196930543,
          -0.6486043699179436,
          0.07622659494578123,
          -1.1432441394493909,
          0.5117491223277846,
          0.5670963420711427,
          -1.556235182008322,
          2.2459400794950364,
          -0.2604219941766891,
          -1.6823252830735502,
          -2.493101370763733,
          -0.0863347511312303,
          1.443794649564759,
          -0.2011444145719318,
          0.3438950305951134,
          0.2607245037792382,
          0.792122700578744,
          1.7786098266291699,
          0.5352909661118613,
          -0.12294442612489852,
          1.1978976876974878,
          -0.3173406496272341,
          1.0472990438814478,
          0.3146805337346373,
          -0.607084650338605,
          -0.7359566251717335,
          0.4007922748288922,
          1.279517538903847,
          -0.22936483222501214,
          -0.5182994714755288,
          -0.848876107050886,
          -1.3865228467599007,
          0.18180007447279647
         ]
        },
        {
         "line": {
          "color": "rgba(55, 128, 191, 1.0)",
          "dash": "solid",
          "shape": "linear",
          "width": 1.3
         },
         "mode": "lines",
         "name": "B",
         "text": "",
         "type": "scatter",
         "x": [
          0,
          1,
          2,
          3,
          4,
          5,
          6,
          7,
          8,
          9,
          10,
          11,
          12,
          13,
          14,
          15,
          16,
          17,
          18,
          19,
          20,
          21,
          22,
          23,
          24,
          25,
          26,
          27,
          28,
          29,
          30,
          31,
          32,
          33,
          34,
          35,
          36,
          37,
          38,
          39,
          40,
          41,
          42,
          43,
          44,
          45,
          46,
          47,
          48,
          49,
          50,
          51,
          52,
          53,
          54,
          55,
          56,
          57,
          58,
          59,
          60,
          61,
          62,
          63,
          64,
          65,
          66,
          67,
          68,
          69,
          70,
          71,
          72,
          73,
          74,
          75,
          76,
          77,
          78,
          79,
          80,
          81,
          82,
          83,
          84,
          85,
          86,
          87,
          88,
          89,
          90,
          91,
          92,
          93,
          94,
          95,
          96,
          97,
          98,
          99
         ],
         "y": [
          -0.7305625969818371,
          0.783362976846267,
          -0.6488174141162153,
          -1.379008968011247,
          0.8310618838938229,
          1.1778421647831814,
          0.3084172494654089,
          1.8990195971023394,
          0.10340485577957621,
          0.059026265280790365,
          0.510536253894352,
          -2.1538459076845924,
          0.3174261488262944,
          0.049624395432911424,
          -2.128017053722008,
          0.15190610867356308,
          0.649293489777525,
          0.45449245140423905,
          -0.39329927875529924,
          -0.06602567256010221,
          0.4511054143988493,
          0.5433725229594577,
          0.4233946966960372,
          -2.1635183337437978,
          -0.7067255386231072,
          -0.6177904210856345,
          -0.6595067079822083,
          1.5510904520567041,
          0.9018668632766085,
          0.09947906700423,
          -0.15621592041765242,
          -0.33499138194246636,
          -0.5163408026271186,
          -0.8489613479258857,
          -0.730817422127436,
          -0.4181302913241633,
          0.845253121042682,
          -0.43732468963958265,
          0.8297545496830605,
          0.4800210848145044,
          1.4312458795497929,
          1.4057658280072,
          -0.13507354273338432,
          0.004364059665748205,
          0.4583635381265657,
          -2.765109052598902,
          0.5553148910686933,
          0.8156121041694133,
          -0.8534912680359814,
          -0.3247281718808031,
          -0.914863311548679,
          1.2885918351941394,
          0.1286872852343092,
          0.6769192164148923,
          -1.8215241353716114,
          -0.5550326638024027,
          0.7312939772654433,
          -1.5930312249930805,
          0.5839395041961499,
          1.0132188209501904,
          0.09522232856181102,
          0.2918764830701547,
          -2.078395139709775,
          -0.38883386936591163,
          1.1290584477657903,
          0.22100222469686198,
          -0.5834017170642858,
          -1.021387557059779,
          -0.48027663208344595,
          -1.8273357277855076,
          1.3498770608938466,
          0.40782060463651854,
          0.2042791561113294,
          -0.7512961007936723,
          0.22849117191956678,
          -0.12738404595625513,
          0.14113705734866797,
          -1.530891509798966,
          0.30243572472487723,
          -0.6496718912655635,
          1.4761457105113132,
          -0.07187302243193486,
          0.3426537813081174,
          -1.4463894894521407,
          -1.2550872424839516,
          0.5376639737146628,
          -0.46650538869834624,
          -0.23539958762750904,
          1.3502628301865927,
          1.4552023830979153,
          -0.9402921461767356,
          0.8169931580844604,
          0.17573258156189311,
          1.0799719743407135,
          -0.6885727540285529,
          -0.09289774706664905,
          1.2460258532059068,
          0.9281312404691667,
          0.4666096361580586,
          1.3531035312894115
         ]
        },
        {
         "connectgaps": false,
         "fill": "tozeroy",
         "line": {
          "color": "green",
          "dash": "solid",
          "shape": "linear",
          "width": 0.5
         },
         "mode": "lines",
         "name": "Spread",
         "showlegend": false,
         "type": "scatter",
         "x": [
          0,
          1,
          2,
          3,
          4,
          5,
          6,
          7,
          8,
          9,
          10,
          11,
          12,
          13,
          14,
          15,
          16,
          17,
          18,
          19,
          20,
          21,
          22,
          23,
          24,
          25,
          26,
          27,
          28,
          29,
          30,
          31,
          32,
          33,
          34,
          35,
          36,
          37,
          38,
          39,
          40,
          41,
          42,
          43,
          44,
          45,
          46,
          47,
          48,
          49,
          50,
          51,
          52,
          53,
          54,
          55,
          56,
          57,
          58,
          59,
          60,
          61,
          62,
          63,
          64,
          65,
          66,
          67,
          68,
          69,
          70,
          71,
          72,
          73,
          74,
          75,
          76,
          77,
          78,
          79,
          80,
          81,
          82,
          83,
          84,
          85,
          86,
          87,
          88,
          89,
          90,
          91,
          92,
          93,
          94,
          95,
          96,
          97,
          98,
          99
         ],
         "xaxis": "x2",
         "y": [
          "",
          0.3258071222923259,
          "",
          3.2559001491315107,
          "",
          "",
          0.8559121163076993,
          "",
          "",
          0.7719680482905427,
          "",
          4.640862683894413,
          0.21040163591631245,
          "",
          3.0672319901154155,
          0.18126769350445493,
          "",
          0.11545050686716746,
          "",
          "",
          "",
          "",
          0.4198032676757652,
          1.4936350079178404,
          2.2038376411805563,
          1.4288876740737229,
          "",
          "",
          "",
          0.20067190658080758,
          0.5419573342072941,
          1.1331063179805372,
          "",
          0.7494843406116215,
          "",
          "",
          "",
          0.6791466763607917,
          "",
          "",
          0.6372386213541354,
          "",
          "",
          "",
          "",
          4.316921878129472,
          "",
          "",
          2.637387307093616,
          1.7012499712228581,
          0.8858848359551962,
          "",
          1.2164025590498253,
          0.311901832257948,
          1.7674108150389938,
          "",
          "",
          3.121601153316707,
          0.7608718831927144,
          "",
          "",
          "",
          2.1589176924295796,
          0.12331853364446016,
          "",
          "",
          1.1919461397692797,
          0.4814910373667247,
          "",
          1.9035623227312888,
          "",
          0.10392851769126604,
          0.36281718595981327,
          "",
          2.01744890757547,
          "",
          "",
          "",
          "",
          2.093466540830322,
          "",
          0.4157680530270482,
          "",
          2.238512190030885,
          3.0336970691131215,
          "",
          0.3435609625734477,
          1.4332972753249968,
          "",
          "",
          1.254972679911373,
          "",
          "",
          "",
          1.9680902929323998,
          "",
          "",
          "",
          "",
          ""
         ],
         "yaxis": "y2"
        },
        {
         "connectgaps": false,
         "fill": "tozeroy",
         "line": {
          "color": "red",
          "dash": "solid",
          "shape": "linear",
          "width": 0.5
         },
         "mode": "lines",
         "name": "Spread",
         "showlegend": false,
         "type": "scatter",
         "x": [
          0,
          1,
          2,
          3,
          4,
          5,
          6,
          7,
          8,
          9,
          10,
          11,
          12,
          13,
          14,
          15,
          16,
          17,
          18,
          19,
          20,
          21,
          22,
          23,
          24,
          25,
          26,
          27,
          28,
          29,
          30,
          31,
          32,
          33,
          34,
          35,
          36,
          37,
          38,
          39,
          40,
          41,
          42,
          43,
          44,
          45,
          46,
          47,
          48,
          49,
          50,
          51,
          52,
          53,
          54,
          55,
          56,
          57,
          58,
          59,
          60,
          61,
          62,
          63,
          64,
          65,
          66,
          67,
          68,
          69,
          70,
          71,
          72,
          73,
          74,
          75,
          76,
          77,
          78,
          79,
          80,
          81,
          82,
          83,
          84,
          85,
          86,
          87,
          88,
          89,
          90,
          91,
          92,
          93,
          94,
          95,
          96,
          97,
          98,
          99
         ],
         "xaxis": "x2",
         "y": [
          -0.2921446632586234,
          "",
          -0.8505795585508471,
          "",
          -0.9894686877220691,
          -0.6141643413696547,
          "",
          -4.444409722014776,
          -2.8029589468044076,
          "",
          -1.979202147485219,
          "",
          "",
          -2.297026153426521,
          "",
          "",
          -0.901133516878653,
          "",
          -0.5461012432286608,
          -0.5138283433071245,
          -1.5633339375340016,
          -1.0939548972909565,
          "",
          "",
          "",
          "",
          -0.7612655935146497,
          -2.7897786473295003,
          -0.16322572406727343,
          "",
          "",
          "",
          -0.5758227807058414,
          "",
          -0.22672244974312017,
          -0.37600061037598437,
          -0.3439166139111468,
          "",
          -2.1095915809426113,
          -0.13345328648649718,
          "",
          -1.6732892423204673,
          -0.4512656111762744,
          -2.5013192637732136,
          -0.21126485047103521,
          "",
          -1.3367688098128712,
          -1.3020471713450186,
          "",
          "",
          "",
          -0.8031209724241639,
          "",
          "",
          "",
          -0.3091218264883586,
          -1.0069578598873719,
          "",
          "",
          -2.8901632664150014,
          -0.7623628686955508,
          -0.5841165645478192,
          "",
          "",
          -0.9546229591878501,
          -0.4232097968380013,
          "",
          "",
          -0.16832773783449761,
          "",
          -2.4931212003432375,
          "",
          "",
          -0.8049390812146497,
          "",
          -0.13303794822043397,
          -1.823462340422218,
          -0.9622098609647669,
          -0.3887704758561075,
          "",
          -1.677290125083245,
          "",
          -0.08192927752887919,
          "",
          "",
          -0.002373007602801458,
          "",
          "",
          -1.6676034798138266,
          -0.4079033392164675,
          "",
          -1.4240778084230654,
          -0.9116892067336266,
          -0.6791796995118213,
          "",
          -0.1364670851583631,
          -1.7643253246814354,
          -1.7770073475200527,
          -1.8531324829179594,
          -1.171303456816615
         ],
         "yaxis": "y2"
        }
       ],
       "layout": {
        "hovermode": "x",
        "legend": {
         "bgcolor": "#F5F6F9",
         "font": {
          "color": "#4D5663"
         }
        },
        "paper_bgcolor": "#F5F6F9",
        "plot_bgcolor": "#F5F6F9",
        "template": {
         "data": {
          "bar": [
           {
            "error_x": {
             "color": "#2a3f5f"
            },
            "error_y": {
             "color": "#2a3f5f"
            },
            "marker": {
             "line": {
              "color": "#E5ECF6",
              "width": 0.5
             }
            },
            "type": "bar"
           }
          ],
          "barpolar": [
           {
            "marker": {
             "line": {
              "color": "#E5ECF6",
              "width": 0.5
             }
            },
            "type": "barpolar"
           }
          ],
          "carpet": [
           {
            "aaxis": {
             "endlinecolor": "#2a3f5f",
             "gridcolor": "white",
             "linecolor": "white",
             "minorgridcolor": "white",
             "startlinecolor": "#2a3f5f"
            },
            "baxis": {
             "endlinecolor": "#2a3f5f",
             "gridcolor": "white",
             "linecolor": "white",
             "minorgridcolor": "white",
             "startlinecolor": "#2a3f5f"
            },
            "type": "carpet"
           }
          ],
          "choropleth": [
           {
            "colorbar": {
             "outlinewidth": 0,
             "ticks": ""
            },
            "type": "choropleth"
           }
          ],
          "contour": [
           {
            "colorbar": {
             "outlinewidth": 0,
             "ticks": ""
            },
            "colorscale": [
             [
              0,
              "#0d0887"
             ],
             [
              0.1111111111111111,
              "#46039f"
             ],
             [
              0.2222222222222222,
              "#7201a8"
             ],
             [
              0.3333333333333333,
              "#9c179e"
             ],
             [
              0.4444444444444444,
              "#bd3786"
             ],
             [
              0.5555555555555556,
              "#d8576b"
             ],
             [
              0.6666666666666666,
              "#ed7953"
             ],
             [
              0.7777777777777778,
              "#fb9f3a"
             ],
             [
              0.8888888888888888,
              "#fdca26"
             ],
             [
              1,
              "#f0f921"
             ]
            ],
            "type": "contour"
           }
          ],
          "contourcarpet": [
           {
            "colorbar": {
             "outlinewidth": 0,
             "ticks": ""
            },
            "type": "contourcarpet"
           }
          ],
          "heatmap": [
           {
            "colorbar": {
             "outlinewidth": 0,
             "ticks": ""
            },
            "colorscale": [
             [
              0,
              "#0d0887"
             ],
             [
              0.1111111111111111,
              "#46039f"
             ],
             [
              0.2222222222222222,
              "#7201a8"
             ],
             [
              0.3333333333333333,
              "#9c179e"
             ],
             [
              0.4444444444444444,
              "#bd3786"
             ],
             [
              0.5555555555555556,
              "#d8576b"
             ],
             [
              0.6666666666666666,
              "#ed7953"
             ],
             [
              0.7777777777777778,
              "#fb9f3a"
             ],
             [
              0.8888888888888888,
              "#fdca26"
             ],
             [
              1,
              "#f0f921"
             ]
            ],
            "type": "heatmap"
           }
          ],
          "heatmapgl": [
           {
            "colorbar": {
             "outlinewidth": 0,
             "ticks": ""
            },
            "colorscale": [
             [
              0,
              "#0d0887"
             ],
             [
              0.1111111111111111,
              "#46039f"
             ],
             [
              0.2222222222222222,
              "#7201a8"
             ],
             [
              0.3333333333333333,
              "#9c179e"
             ],
             [
              0.4444444444444444,
              "#bd3786"
             ],
             [
              0.5555555555555556,
              "#d8576b"
             ],
             [
              0.6666666666666666,
              "#ed7953"
             ],
             [
              0.7777777777777778,
              "#fb9f3a"
             ],
             [
              0.8888888888888888,
              "#fdca26"
             ],
             [
              1,
              "#f0f921"
             ]
            ],
            "type": "heatmapgl"
           }
          ],
          "histogram": [
           {
            "marker": {
             "colorbar": {
              "outlinewidth": 0,
              "ticks": ""
             }
            },
            "type": "histogram"
           }
          ],
          "histogram2d": [
           {
            "colorbar": {
             "outlinewidth": 0,
             "ticks": ""
            },
            "colorscale": [
             [
              0,
              "#0d0887"
             ],
             [
              0.1111111111111111,
              "#46039f"
             ],
             [
              0.2222222222222222,
              "#7201a8"
             ],
             [
              0.3333333333333333,
              "#9c179e"
             ],
             [
              0.4444444444444444,
              "#bd3786"
             ],
             [
              0.5555555555555556,
              "#d8576b"
             ],
             [
              0.6666666666666666,
              "#ed7953"
             ],
             [
              0.7777777777777778,
              "#fb9f3a"
             ],
             [
              0.8888888888888888,
              "#fdca26"
             ],
             [
              1,
              "#f0f921"
             ]
            ],
            "type": "histogram2d"
           }
          ],
          "histogram2dcontour": [
           {
            "colorbar": {
             "outlinewidth": 0,
             "ticks": ""
            },
            "colorscale": [
             [
              0,
              "#0d0887"
             ],
             [
              0.1111111111111111,
              "#46039f"
             ],
             [
              0.2222222222222222,
              "#7201a8"
             ],
             [
              0.3333333333333333,
              "#9c179e"
             ],
             [
              0.4444444444444444,
              "#bd3786"
             ],
             [
              0.5555555555555556,
              "#d8576b"
             ],
             [
              0.6666666666666666,
              "#ed7953"
             ],
             [
              0.7777777777777778,
              "#fb9f3a"
             ],
             [
              0.8888888888888888,
              "#fdca26"
             ],
             [
              1,
              "#f0f921"
             ]
            ],
            "type": "histogram2dcontour"
           }
          ],
          "mesh3d": [
           {
            "colorbar": {
             "outlinewidth": 0,
             "ticks": ""
            },
            "type": "mesh3d"
           }
          ],
          "parcoords": [
           {
            "line": {
             "colorbar": {
              "outlinewidth": 0,
              "ticks": ""
             }
            },
            "type": "parcoords"
           }
          ],
          "pie": [
           {
            "automargin": true,
            "type": "pie"
           }
          ],
          "scatter": [
           {
            "marker": {
             "colorbar": {
              "outlinewidth": 0,
              "ticks": ""
             }
            },
            "type": "scatter"
           }
          ],
          "scatter3d": [
           {
            "line": {
             "colorbar": {
              "outlinewidth": 0,
              "ticks": ""
             }
            },
            "marker": {
             "colorbar": {
              "outlinewidth": 0,
              "ticks": ""
             }
            },
            "type": "scatter3d"
           }
          ],
          "scattercarpet": [
           {
            "marker": {
             "colorbar": {
              "outlinewidth": 0,
              "ticks": ""
             }
            },
            "type": "scattercarpet"
           }
          ],
          "scattergeo": [
           {
            "marker": {
             "colorbar": {
              "outlinewidth": 0,
              "ticks": ""
             }
            },
            "type": "scattergeo"
           }
          ],
          "scattergl": [
           {
            "marker": {
             "colorbar": {
              "outlinewidth": 0,
              "ticks": ""
             }
            },
            "type": "scattergl"
           }
          ],
          "scattermapbox": [
           {
            "marker": {
             "colorbar": {
              "outlinewidth": 0,
              "ticks": ""
             }
            },
            "type": "scattermapbox"
           }
          ],
          "scatterpolar": [
           {
            "marker": {
             "colorbar": {
              "outlinewidth": 0,
              "ticks": ""
             }
            },
            "type": "scatterpolar"
           }
          ],
          "scatterpolargl": [
           {
            "marker": {
             "colorbar": {
              "outlinewidth": 0,
              "ticks": ""
             }
            },
            "type": "scatterpolargl"
           }
          ],
          "scatterternary": [
           {
            "marker": {
             "colorbar": {
              "outlinewidth": 0,
              "ticks": ""
             }
            },
            "type": "scatterternary"
           }
          ],
          "surface": [
           {
            "colorbar": {
             "outlinewidth": 0,
             "ticks": ""
            },
            "colorscale": [
             [
              0,
              "#0d0887"
             ],
             [
              0.1111111111111111,
              "#46039f"
             ],
             [
              0.2222222222222222,
              "#7201a8"
             ],
             [
              0.3333333333333333,
              "#9c179e"
             ],
             [
              0.4444444444444444,
              "#bd3786"
             ],
             [
              0.5555555555555556,
              "#d8576b"
             ],
             [
              0.6666666666666666,
              "#ed7953"
             ],
             [
              0.7777777777777778,
              "#fb9f3a"
             ],
             [
              0.8888888888888888,
              "#fdca26"
             ],
             [
              1,
              "#f0f921"
             ]
            ],
            "type": "surface"
           }
          ],
          "table": [
           {
            "cells": {
             "fill": {
              "color": "#EBF0F8"
             },
             "line": {
              "color": "white"
             }
            },
            "header": {
             "fill": {
              "color": "#C8D4E3"
             },
             "line": {
              "color": "white"
             }
            },
            "type": "table"
           }
          ]
         },
         "layout": {
          "annotationdefaults": {
           "arrowcolor": "#2a3f5f",
           "arrowhead": 0,
           "arrowwidth": 1
          },
          "coloraxis": {
           "colorbar": {
            "outlinewidth": 0,
            "ticks": ""
           }
          },
          "colorscale": {
           "diverging": [
            [
             0,
             "#8e0152"
            ],
            [
             0.1,
             "#c51b7d"
            ],
            [
             0.2,
             "#de77ae"
            ],
            [
             0.3,
             "#f1b6da"
            ],
            [
             0.4,
             "#fde0ef"
            ],
            [
             0.5,
             "#f7f7f7"
            ],
            [
             0.6,
             "#e6f5d0"
            ],
            [
             0.7,
             "#b8e186"
            ],
            [
             0.8,
             "#7fbc41"
            ],
            [
             0.9,
             "#4d9221"
            ],
            [
             1,
             "#276419"
            ]
           ],
           "sequential": [
            [
             0,
             "#0d0887"
            ],
            [
             0.1111111111111111,
             "#46039f"
            ],
            [
             0.2222222222222222,
             "#7201a8"
            ],
            [
             0.3333333333333333,
             "#9c179e"
            ],
            [
             0.4444444444444444,
             "#bd3786"
            ],
            [
             0.5555555555555556,
             "#d8576b"
            ],
            [
             0.6666666666666666,
             "#ed7953"
            ],
            [
             0.7777777777777778,
             "#fb9f3a"
            ],
            [
             0.8888888888888888,
             "#fdca26"
            ],
            [
             1,
             "#f0f921"
            ]
           ],
           "sequentialminus": [
            [
             0,
             "#0d0887"
            ],
            [
             0.1111111111111111,
             "#46039f"
            ],
            [
             0.2222222222222222,
             "#7201a8"
            ],
            [
             0.3333333333333333,
             "#9c179e"
            ],
            [
             0.4444444444444444,
             "#bd3786"
            ],
            [
             0.5555555555555556,
             "#d8576b"
            ],
            [
             0.6666666666666666,
             "#ed7953"
            ],
            [
             0.7777777777777778,
             "#fb9f3a"
            ],
            [
             0.8888888888888888,
             "#fdca26"
            ],
            [
             1,
             "#f0f921"
            ]
           ]
          },
          "colorway": [
           "#636efa",
           "#EF553B",
           "#00cc96",
           "#ab63fa",
           "#FFA15A",
           "#19d3f3",
           "#FF6692",
           "#B6E880",
           "#FF97FF",
           "#FECB52"
          ],
          "font": {
           "color": "#2a3f5f"
          },
          "geo": {
           "bgcolor": "white",
           "lakecolor": "white",
           "landcolor": "#E5ECF6",
           "showlakes": true,
           "showland": true,
           "subunitcolor": "white"
          },
          "hoverlabel": {
           "align": "left"
          },
          "hovermode": "closest",
          "mapbox": {
           "style": "light"
          },
          "paper_bgcolor": "white",
          "plot_bgcolor": "#E5ECF6",
          "polar": {
           "angularaxis": {
            "gridcolor": "white",
            "linecolor": "white",
            "ticks": ""
           },
           "bgcolor": "#E5ECF6",
           "radialaxis": {
            "gridcolor": "white",
            "linecolor": "white",
            "ticks": ""
           }
          },
          "scene": {
           "xaxis": {
            "backgroundcolor": "#E5ECF6",
            "gridcolor": "white",
            "gridwidth": 2,
            "linecolor": "white",
            "showbackground": true,
            "ticks": "",
            "zerolinecolor": "white"
           },
           "yaxis": {
            "backgroundcolor": "#E5ECF6",
            "gridcolor": "white",
            "gridwidth": 2,
            "linecolor": "white",
            "showbackground": true,
            "ticks": "",
            "zerolinecolor": "white"
           },
           "zaxis": {
            "backgroundcolor": "#E5ECF6",
            "gridcolor": "white",
            "gridwidth": 2,
            "linecolor": "white",
            "showbackground": true,
            "ticks": "",
            "zerolinecolor": "white"
           }
          },
          "shapedefaults": {
           "line": {
            "color": "#2a3f5f"
           }
          },
          "ternary": {
           "aaxis": {
            "gridcolor": "white",
            "linecolor": "white",
            "ticks": ""
           },
           "baxis": {
            "gridcolor": "white",
            "linecolor": "white",
            "ticks": ""
           },
           "bgcolor": "#E5ECF6",
           "caxis": {
            "gridcolor": "white",
            "linecolor": "white",
            "ticks": ""
           }
          },
          "title": {
           "x": 0.05
          },
          "xaxis": {
           "automargin": true,
           "gridcolor": "white",
           "linecolor": "white",
           "ticks": "",
           "title": {
            "standoff": 15
           },
           "zerolinecolor": "white",
           "zerolinewidth": 2
          },
          "yaxis": {
           "automargin": true,
           "gridcolor": "white",
           "linecolor": "white",
           "ticks": "",
           "title": {
            "standoff": 15
           },
           "zerolinecolor": "white",
           "zerolinewidth": 2
          }
         }
        },
        "title": {
         "font": {
          "color": "#4D5663"
         }
        },
        "xaxis": {
         "gridcolor": "#E1E5ED",
         "showgrid": true,
         "tickfont": {
          "color": "#4D5663"
         },
         "title": {
          "font": {
           "color": "#4D5663"
          },
          "text": ""
         },
         "zerolinecolor": "#E1E5ED"
        },
        "xaxis2": {
         "anchor": "y2",
         "gridcolor": "#E1E5ED",
         "showgrid": true,
         "showticklabels": false,
         "tickfont": {
          "color": "#4D5663"
         },
         "title": {
          "font": {
           "color": "#4D5663"
          },
          "text": ""
         },
         "zerolinecolor": "#E1E5ED"
        },
        "yaxis": {
         "domain": [
          0.3,
          1
         ],
         "gridcolor": "#E1E5ED",
         "showgrid": true,
         "tickfont": {
          "color": "#4D5663"
         },
         "title": {
          "font": {
           "color": "#4D5663"
          },
          "text": ""
         },
         "zerolinecolor": "#E1E5ED"
        },
        "yaxis2": {
         "domain": [
          0,
          0.25
         ],
         "gridcolor": "#E1E5ED",
         "showgrid": true,
         "tickfont": {
          "color": "#4D5663"
         },
         "title": {
          "font": {
           "color": "#4D5663"
          },
          "text": "Spread"
         },
         "zerolinecolor": "#E1E5ED"
        }
       }
      },
      "text/html": [
       "<div>\n",
       "        \n",
       "        \n",
       "            <div id=\"2b905773-1593-47a7-8479-b44874ec391f\" class=\"plotly-graph-div\" style=\"height:525px; width:100%;\"></div>\n",
       "            <script type=\"text/javascript\">\n",
       "                require([\"plotly\"], function(Plotly) {\n",
       "                    window.PLOTLYENV=window.PLOTLYENV || {};\n",
       "                    window.PLOTLYENV.BASE_URL='https://plot.ly';\n",
       "                    \n",
       "                if (document.getElementById(\"2b905773-1593-47a7-8479-b44874ec391f\")) {\n",
       "                    Plotly.newPlot(\n",
       "                        '2b905773-1593-47a7-8479-b44874ec391f',\n",
       "                        [{\"line\": {\"color\": \"rgba(255, 153, 51, 1.0)\", \"dash\": \"solid\", \"shape\": \"linear\", \"width\": 1.3}, \"mode\": \"lines\", \"name\": \"A\", \"text\": \"\", \"type\": \"scatter\", \"x\": [0, 1, 2, 3, 4, 5, 6, 7, 8, 9, 10, 11, 12, 13, 14, 15, 16, 17, 18, 19, 20, 21, 22, 23, 24, 25, 26, 27, 28, 29, 30, 31, 32, 33, 34, 35, 36, 37, 38, 39, 40, 41, 42, 43, 44, 45, 46, 47, 48, 49, 50, 51, 52, 53, 54, 55, 56, 57, 58, 59, 60, 61, 62, 63, 64, 65, 66, 67, 68, 69, 70, 71, 72, 73, 74, 75, 76, 77, 78, 79, 80, 81, 82, 83, 84, 85, 86, 87, 88, 89, 90, 91, 92, 93, 94, 95, 96, 97, 98, 99], \"y\": [-1.0227072602404605, 1.1091700991385929, -1.4993969726670624, 1.8768911811202638, -0.1584068038282462, 0.5636778234135267, 1.1643293657731082, -2.5453901249124367, -2.6995540910248312, 0.830994313571333, -1.468665893590867, 2.4870167762098214, 0.5278277847426068, -2.2474017579936096, 0.9392149363934074, 0.333173802178018, -0.2518400271011279, 0.5699429582714065, -0.9394005219839601, -0.5798540158672266, -1.1122285231351523, -0.5505823743314988, 0.8431979643718024, -0.6698833258259573, 1.4971121025574492, 0.8110972529880883, -1.420772301496858, -1.238688195272796, 0.738641139209335, 0.30015097358503756, 0.3857414137896417, 0.7981149360380709, -1.09216358333296, -0.09947700731426419, -0.9575398718705561, -0.7941309017001477, 0.5013365071315352, 0.24182198672120908, -1.279837031259551, 0.3465677983280072, 2.0684845009039283, -0.2675234143132672, -0.5863391539096587, -2.4969552041074654, 0.2470986876555305, 1.5518128255305705, -0.781453918744178, -0.4864350671756053, 1.7838960390576342, 1.376521799342055, -0.02897847559348279, 0.48547086276997553, 1.3450898442841346, 0.9888210486728403, -0.05411332033261771, -0.8641544902907613, -0.2756638826219286, 1.5285699283236265, 1.3448113873888643, -1.8769444454648108, -0.6671405401337398, -0.2922400814776645, 0.080522552719805, -0.2655153357214515, 0.17443548857794025, -0.20220757214113935, 0.6085444227049939, -0.5398965196930543, -0.6486043699179436, 0.07622659494578123, -1.1432441394493909, 0.5117491223277846, 0.5670963420711427, -1.556235182008322, 2.2459400794950364, -0.2604219941766891, -1.6823252830735502, -2.493101370763733, -0.0863347511312303, 1.443794649564759, -0.2011444145719318, 0.3438950305951134, 0.2607245037792382, 0.792122700578744, 1.7786098266291699, 0.5352909661118613, -0.12294442612489852, 1.1978976876974878, -0.3173406496272341, 1.0472990438814478, 0.3146805337346373, -0.607084650338605, -0.7359566251717335, 0.4007922748288922, 1.279517538903847, -0.22936483222501214, -0.5182994714755288, -0.848876107050886, -1.3865228467599007, 0.18180007447279647]}, {\"line\": {\"color\": \"rgba(55, 128, 191, 1.0)\", \"dash\": \"solid\", \"shape\": \"linear\", \"width\": 1.3}, \"mode\": \"lines\", \"name\": \"B\", \"text\": \"\", \"type\": \"scatter\", \"x\": [0, 1, 2, 3, 4, 5, 6, 7, 8, 9, 10, 11, 12, 13, 14, 15, 16, 17, 18, 19, 20, 21, 22, 23, 24, 25, 26, 27, 28, 29, 30, 31, 32, 33, 34, 35, 36, 37, 38, 39, 40, 41, 42, 43, 44, 45, 46, 47, 48, 49, 50, 51, 52, 53, 54, 55, 56, 57, 58, 59, 60, 61, 62, 63, 64, 65, 66, 67, 68, 69, 70, 71, 72, 73, 74, 75, 76, 77, 78, 79, 80, 81, 82, 83, 84, 85, 86, 87, 88, 89, 90, 91, 92, 93, 94, 95, 96, 97, 98, 99], \"y\": [-0.7305625969818371, 0.783362976846267, -0.6488174141162153, -1.379008968011247, 0.8310618838938229, 1.1778421647831814, 0.3084172494654089, 1.8990195971023394, 0.10340485577957621, 0.059026265280790365, 0.510536253894352, -2.1538459076845924, 0.3174261488262944, 0.049624395432911424, -2.128017053722008, 0.15190610867356308, 0.649293489777525, 0.45449245140423905, -0.39329927875529924, -0.06602567256010221, 0.4511054143988493, 0.5433725229594577, 0.4233946966960372, -2.1635183337437978, -0.7067255386231072, -0.6177904210856345, -0.6595067079822083, 1.5510904520567041, 0.9018668632766085, 0.09947906700423, -0.15621592041765242, -0.33499138194246636, -0.5163408026271186, -0.8489613479258857, -0.730817422127436, -0.4181302913241633, 0.845253121042682, -0.43732468963958265, 0.8297545496830605, 0.4800210848145044, 1.4312458795497929, 1.4057658280072, -0.13507354273338432, 0.004364059665748205, 0.4583635381265657, -2.765109052598902, 0.5553148910686933, 0.8156121041694133, -0.8534912680359814, -0.3247281718808031, -0.914863311548679, 1.2885918351941394, 0.1286872852343092, 0.6769192164148923, -1.8215241353716114, -0.5550326638024027, 0.7312939772654433, -1.5930312249930805, 0.5839395041961499, 1.0132188209501904, 0.09522232856181102, 0.2918764830701547, -2.078395139709775, -0.38883386936591163, 1.1290584477657903, 0.22100222469686198, -0.5834017170642858, -1.021387557059779, -0.48027663208344595, -1.8273357277855076, 1.3498770608938466, 0.40782060463651854, 0.2042791561113294, -0.7512961007936723, 0.22849117191956678, -0.12738404595625513, 0.14113705734866797, -1.530891509798966, 0.30243572472487723, -0.6496718912655635, 1.4761457105113132, -0.07187302243193486, 0.3426537813081174, -1.4463894894521407, -1.2550872424839516, 0.5376639737146628, -0.46650538869834624, -0.23539958762750904, 1.3502628301865927, 1.4552023830979153, -0.9402921461767356, 0.8169931580844604, 0.17573258156189311, 1.0799719743407135, -0.6885727540285529, -0.09289774706664905, 1.2460258532059068, 0.9281312404691667, 0.4666096361580586, 1.3531035312894115]}, {\"connectgaps\": false, \"fill\": \"tozeroy\", \"line\": {\"color\": \"green\", \"dash\": \"solid\", \"shape\": \"linear\", \"width\": 0.5}, \"mode\": \"lines\", \"name\": \"Spread\", \"showlegend\": false, \"type\": \"scatter\", \"x\": [0, 1, 2, 3, 4, 5, 6, 7, 8, 9, 10, 11, 12, 13, 14, 15, 16, 17, 18, 19, 20, 21, 22, 23, 24, 25, 26, 27, 28, 29, 30, 31, 32, 33, 34, 35, 36, 37, 38, 39, 40, 41, 42, 43, 44, 45, 46, 47, 48, 49, 50, 51, 52, 53, 54, 55, 56, 57, 58, 59, 60, 61, 62, 63, 64, 65, 66, 67, 68, 69, 70, 71, 72, 73, 74, 75, 76, 77, 78, 79, 80, 81, 82, 83, 84, 85, 86, 87, 88, 89, 90, 91, 92, 93, 94, 95, 96, 97, 98, 99], \"xaxis\": \"x2\", \"y\": [\"\", 0.3258071222923259, \"\", 3.2559001491315107, \"\", \"\", 0.8559121163076993, \"\", \"\", 0.7719680482905427, \"\", 4.640862683894413, 0.21040163591631245, \"\", 3.0672319901154155, 0.18126769350445493, \"\", 0.11545050686716746, \"\", \"\", \"\", \"\", 0.4198032676757652, 1.4936350079178404, 2.2038376411805563, 1.4288876740737229, \"\", \"\", \"\", 0.20067190658080758, 0.5419573342072941, 1.1331063179805372, \"\", 0.7494843406116215, \"\", \"\", \"\", 0.6791466763607917, \"\", \"\", 0.6372386213541354, \"\", \"\", \"\", \"\", 4.316921878129472, \"\", \"\", 2.637387307093616, 1.7012499712228581, 0.8858848359551962, \"\", 1.2164025590498253, 0.311901832257948, 1.7674108150389938, \"\", \"\", 3.121601153316707, 0.7608718831927144, \"\", \"\", \"\", 2.1589176924295796, 0.12331853364446016, \"\", \"\", 1.1919461397692797, 0.4814910373667247, \"\", 1.9035623227312888, \"\", 0.10392851769126604, 0.36281718595981327, \"\", 2.01744890757547, \"\", \"\", \"\", \"\", 2.093466540830322, \"\", 0.4157680530270482, \"\", 2.238512190030885, 3.0336970691131215, \"\", 0.3435609625734477, 1.4332972753249968, \"\", \"\", 1.254972679911373, \"\", \"\", \"\", 1.9680902929323998, \"\", \"\", \"\", \"\", \"\"], \"yaxis\": \"y2\"}, {\"connectgaps\": false, \"fill\": \"tozeroy\", \"line\": {\"color\": \"red\", \"dash\": \"solid\", \"shape\": \"linear\", \"width\": 0.5}, \"mode\": \"lines\", \"name\": \"Spread\", \"showlegend\": false, \"type\": \"scatter\", \"x\": [0, 1, 2, 3, 4, 5, 6, 7, 8, 9, 10, 11, 12, 13, 14, 15, 16, 17, 18, 19, 20, 21, 22, 23, 24, 25, 26, 27, 28, 29, 30, 31, 32, 33, 34, 35, 36, 37, 38, 39, 40, 41, 42, 43, 44, 45, 46, 47, 48, 49, 50, 51, 52, 53, 54, 55, 56, 57, 58, 59, 60, 61, 62, 63, 64, 65, 66, 67, 68, 69, 70, 71, 72, 73, 74, 75, 76, 77, 78, 79, 80, 81, 82, 83, 84, 85, 86, 87, 88, 89, 90, 91, 92, 93, 94, 95, 96, 97, 98, 99], \"xaxis\": \"x2\", \"y\": [-0.2921446632586234, \"\", -0.8505795585508471, \"\", -0.9894686877220691, -0.6141643413696547, \"\", -4.444409722014776, -2.8029589468044076, \"\", -1.979202147485219, \"\", \"\", -2.297026153426521, \"\", \"\", -0.901133516878653, \"\", -0.5461012432286608, -0.5138283433071245, -1.5633339375340016, -1.0939548972909565, \"\", \"\", \"\", \"\", -0.7612655935146497, -2.7897786473295003, -0.16322572406727343, \"\", \"\", \"\", -0.5758227807058414, \"\", -0.22672244974312017, -0.37600061037598437, -0.3439166139111468, \"\", -2.1095915809426113, -0.13345328648649718, \"\", -1.6732892423204673, -0.4512656111762744, -2.5013192637732136, -0.21126485047103521, \"\", -1.3367688098128712, -1.3020471713450186, \"\", \"\", \"\", -0.8031209724241639, \"\", \"\", \"\", -0.3091218264883586, -1.0069578598873719, \"\", \"\", -2.8901632664150014, -0.7623628686955508, -0.5841165645478192, \"\", \"\", -0.9546229591878501, -0.4232097968380013, \"\", \"\", -0.16832773783449761, \"\", -2.4931212003432375, \"\", \"\", -0.8049390812146497, \"\", -0.13303794822043397, -1.823462340422218, -0.9622098609647669, -0.3887704758561075, \"\", -1.677290125083245, \"\", -0.08192927752887919, \"\", \"\", -0.002373007602801458, \"\", \"\", -1.6676034798138266, -0.4079033392164675, \"\", -1.4240778084230654, -0.9116892067336266, -0.6791796995118213, \"\", -0.1364670851583631, -1.7643253246814354, -1.7770073475200527, -1.8531324829179594, -1.171303456816615], \"yaxis\": \"y2\"}],\n",
       "                        {\"hovermode\": \"x\", \"legend\": {\"bgcolor\": \"#F5F6F9\", \"font\": {\"color\": \"#4D5663\"}}, \"paper_bgcolor\": \"#F5F6F9\", \"plot_bgcolor\": \"#F5F6F9\", \"template\": {\"data\": {\"bar\": [{\"error_x\": {\"color\": \"#2a3f5f\"}, \"error_y\": {\"color\": \"#2a3f5f\"}, \"marker\": {\"line\": {\"color\": \"#E5ECF6\", \"width\": 0.5}}, \"type\": \"bar\"}], \"barpolar\": [{\"marker\": {\"line\": {\"color\": \"#E5ECF6\", \"width\": 0.5}}, \"type\": \"barpolar\"}], \"carpet\": [{\"aaxis\": {\"endlinecolor\": \"#2a3f5f\", \"gridcolor\": \"white\", \"linecolor\": \"white\", \"minorgridcolor\": \"white\", \"startlinecolor\": \"#2a3f5f\"}, \"baxis\": {\"endlinecolor\": \"#2a3f5f\", \"gridcolor\": \"white\", \"linecolor\": \"white\", \"minorgridcolor\": \"white\", \"startlinecolor\": \"#2a3f5f\"}, \"type\": \"carpet\"}], \"choropleth\": [{\"colorbar\": {\"outlinewidth\": 0, \"ticks\": \"\"}, \"type\": \"choropleth\"}], \"contour\": [{\"colorbar\": {\"outlinewidth\": 0, \"ticks\": \"\"}, \"colorscale\": [[0.0, \"#0d0887\"], [0.1111111111111111, \"#46039f\"], [0.2222222222222222, \"#7201a8\"], [0.3333333333333333, \"#9c179e\"], [0.4444444444444444, \"#bd3786\"], [0.5555555555555556, \"#d8576b\"], [0.6666666666666666, \"#ed7953\"], [0.7777777777777778, \"#fb9f3a\"], [0.8888888888888888, \"#fdca26\"], [1.0, \"#f0f921\"]], \"type\": \"contour\"}], \"contourcarpet\": [{\"colorbar\": {\"outlinewidth\": 0, \"ticks\": \"\"}, \"type\": \"contourcarpet\"}], \"heatmap\": [{\"colorbar\": {\"outlinewidth\": 0, \"ticks\": \"\"}, \"colorscale\": [[0.0, \"#0d0887\"], [0.1111111111111111, \"#46039f\"], [0.2222222222222222, \"#7201a8\"], [0.3333333333333333, \"#9c179e\"], [0.4444444444444444, \"#bd3786\"], [0.5555555555555556, \"#d8576b\"], [0.6666666666666666, \"#ed7953\"], [0.7777777777777778, \"#fb9f3a\"], [0.8888888888888888, \"#fdca26\"], [1.0, \"#f0f921\"]], \"type\": \"heatmap\"}], \"heatmapgl\": [{\"colorbar\": {\"outlinewidth\": 0, \"ticks\": \"\"}, \"colorscale\": [[0.0, \"#0d0887\"], [0.1111111111111111, \"#46039f\"], [0.2222222222222222, \"#7201a8\"], [0.3333333333333333, \"#9c179e\"], [0.4444444444444444, \"#bd3786\"], [0.5555555555555556, \"#d8576b\"], [0.6666666666666666, \"#ed7953\"], [0.7777777777777778, \"#fb9f3a\"], [0.8888888888888888, \"#fdca26\"], [1.0, \"#f0f921\"]], \"type\": \"heatmapgl\"}], \"histogram\": [{\"marker\": {\"colorbar\": {\"outlinewidth\": 0, \"ticks\": \"\"}}, \"type\": \"histogram\"}], \"histogram2d\": [{\"colorbar\": {\"outlinewidth\": 0, \"ticks\": \"\"}, \"colorscale\": [[0.0, \"#0d0887\"], [0.1111111111111111, \"#46039f\"], [0.2222222222222222, \"#7201a8\"], [0.3333333333333333, \"#9c179e\"], [0.4444444444444444, \"#bd3786\"], [0.5555555555555556, \"#d8576b\"], [0.6666666666666666, \"#ed7953\"], [0.7777777777777778, \"#fb9f3a\"], [0.8888888888888888, \"#fdca26\"], [1.0, \"#f0f921\"]], \"type\": \"histogram2d\"}], \"histogram2dcontour\": [{\"colorbar\": {\"outlinewidth\": 0, \"ticks\": \"\"}, \"colorscale\": [[0.0, \"#0d0887\"], [0.1111111111111111, \"#46039f\"], [0.2222222222222222, \"#7201a8\"], [0.3333333333333333, \"#9c179e\"], [0.4444444444444444, \"#bd3786\"], [0.5555555555555556, \"#d8576b\"], [0.6666666666666666, \"#ed7953\"], [0.7777777777777778, \"#fb9f3a\"], [0.8888888888888888, \"#fdca26\"], [1.0, \"#f0f921\"]], \"type\": \"histogram2dcontour\"}], \"mesh3d\": [{\"colorbar\": {\"outlinewidth\": 0, \"ticks\": \"\"}, \"type\": \"mesh3d\"}], \"parcoords\": [{\"line\": {\"colorbar\": {\"outlinewidth\": 0, \"ticks\": \"\"}}, \"type\": \"parcoords\"}], \"pie\": [{\"automargin\": true, \"type\": \"pie\"}], \"scatter\": [{\"marker\": {\"colorbar\": {\"outlinewidth\": 0, \"ticks\": \"\"}}, \"type\": \"scatter\"}], \"scatter3d\": [{\"line\": {\"colorbar\": {\"outlinewidth\": 0, \"ticks\": \"\"}}, \"marker\": {\"colorbar\": {\"outlinewidth\": 0, \"ticks\": \"\"}}, \"type\": \"scatter3d\"}], \"scattercarpet\": [{\"marker\": {\"colorbar\": {\"outlinewidth\": 0, \"ticks\": \"\"}}, \"type\": \"scattercarpet\"}], \"scattergeo\": [{\"marker\": {\"colorbar\": {\"outlinewidth\": 0, \"ticks\": \"\"}}, \"type\": \"scattergeo\"}], \"scattergl\": [{\"marker\": {\"colorbar\": {\"outlinewidth\": 0, \"ticks\": \"\"}}, \"type\": \"scattergl\"}], \"scattermapbox\": [{\"marker\": {\"colorbar\": {\"outlinewidth\": 0, \"ticks\": \"\"}}, \"type\": \"scattermapbox\"}], \"scatterpolar\": [{\"marker\": {\"colorbar\": {\"outlinewidth\": 0, \"ticks\": \"\"}}, \"type\": \"scatterpolar\"}], \"scatterpolargl\": [{\"marker\": {\"colorbar\": {\"outlinewidth\": 0, \"ticks\": \"\"}}, \"type\": \"scatterpolargl\"}], \"scatterternary\": [{\"marker\": {\"colorbar\": {\"outlinewidth\": 0, \"ticks\": \"\"}}, \"type\": \"scatterternary\"}], \"surface\": [{\"colorbar\": {\"outlinewidth\": 0, \"ticks\": \"\"}, \"colorscale\": [[0.0, \"#0d0887\"], [0.1111111111111111, \"#46039f\"], [0.2222222222222222, \"#7201a8\"], [0.3333333333333333, \"#9c179e\"], [0.4444444444444444, \"#bd3786\"], [0.5555555555555556, \"#d8576b\"], [0.6666666666666666, \"#ed7953\"], [0.7777777777777778, \"#fb9f3a\"], [0.8888888888888888, \"#fdca26\"], [1.0, \"#f0f921\"]], \"type\": \"surface\"}], \"table\": [{\"cells\": {\"fill\": {\"color\": \"#EBF0F8\"}, \"line\": {\"color\": \"white\"}}, \"header\": {\"fill\": {\"color\": \"#C8D4E3\"}, \"line\": {\"color\": \"white\"}}, \"type\": \"table\"}]}, \"layout\": {\"annotationdefaults\": {\"arrowcolor\": \"#2a3f5f\", \"arrowhead\": 0, \"arrowwidth\": 1}, \"coloraxis\": {\"colorbar\": {\"outlinewidth\": 0, \"ticks\": \"\"}}, \"colorscale\": {\"diverging\": [[0, \"#8e0152\"], [0.1, \"#c51b7d\"], [0.2, \"#de77ae\"], [0.3, \"#f1b6da\"], [0.4, \"#fde0ef\"], [0.5, \"#f7f7f7\"], [0.6, \"#e6f5d0\"], [0.7, \"#b8e186\"], [0.8, \"#7fbc41\"], [0.9, \"#4d9221\"], [1, \"#276419\"]], \"sequential\": [[0.0, \"#0d0887\"], [0.1111111111111111, \"#46039f\"], [0.2222222222222222, \"#7201a8\"], [0.3333333333333333, \"#9c179e\"], [0.4444444444444444, \"#bd3786\"], [0.5555555555555556, \"#d8576b\"], [0.6666666666666666, \"#ed7953\"], [0.7777777777777778, \"#fb9f3a\"], [0.8888888888888888, \"#fdca26\"], [1.0, \"#f0f921\"]], \"sequentialminus\": [[0.0, \"#0d0887\"], [0.1111111111111111, \"#46039f\"], [0.2222222222222222, \"#7201a8\"], [0.3333333333333333, \"#9c179e\"], [0.4444444444444444, \"#bd3786\"], [0.5555555555555556, \"#d8576b\"], [0.6666666666666666, \"#ed7953\"], [0.7777777777777778, \"#fb9f3a\"], [0.8888888888888888, \"#fdca26\"], [1.0, \"#f0f921\"]]}, \"colorway\": [\"#636efa\", \"#EF553B\", \"#00cc96\", \"#ab63fa\", \"#FFA15A\", \"#19d3f3\", \"#FF6692\", \"#B6E880\", \"#FF97FF\", \"#FECB52\"], \"font\": {\"color\": \"#2a3f5f\"}, \"geo\": {\"bgcolor\": \"white\", \"lakecolor\": \"white\", \"landcolor\": \"#E5ECF6\", \"showlakes\": true, \"showland\": true, \"subunitcolor\": \"white\"}, \"hoverlabel\": {\"align\": \"left\"}, \"hovermode\": \"closest\", \"mapbox\": {\"style\": \"light\"}, \"paper_bgcolor\": \"white\", \"plot_bgcolor\": \"#E5ECF6\", \"polar\": {\"angularaxis\": {\"gridcolor\": \"white\", \"linecolor\": \"white\", \"ticks\": \"\"}, \"bgcolor\": \"#E5ECF6\", \"radialaxis\": {\"gridcolor\": \"white\", \"linecolor\": \"white\", \"ticks\": \"\"}}, \"scene\": {\"xaxis\": {\"backgroundcolor\": \"#E5ECF6\", \"gridcolor\": \"white\", \"gridwidth\": 2, \"linecolor\": \"white\", \"showbackground\": true, \"ticks\": \"\", \"zerolinecolor\": \"white\"}, \"yaxis\": {\"backgroundcolor\": \"#E5ECF6\", \"gridcolor\": \"white\", \"gridwidth\": 2, \"linecolor\": \"white\", \"showbackground\": true, \"ticks\": \"\", \"zerolinecolor\": \"white\"}, \"zaxis\": {\"backgroundcolor\": \"#E5ECF6\", \"gridcolor\": \"white\", \"gridwidth\": 2, \"linecolor\": \"white\", \"showbackground\": true, \"ticks\": \"\", \"zerolinecolor\": \"white\"}}, \"shapedefaults\": {\"line\": {\"color\": \"#2a3f5f\"}}, \"ternary\": {\"aaxis\": {\"gridcolor\": \"white\", \"linecolor\": \"white\", \"ticks\": \"\"}, \"baxis\": {\"gridcolor\": \"white\", \"linecolor\": \"white\", \"ticks\": \"\"}, \"bgcolor\": \"#E5ECF6\", \"caxis\": {\"gridcolor\": \"white\", \"linecolor\": \"white\", \"ticks\": \"\"}}, \"title\": {\"x\": 0.05}, \"xaxis\": {\"automargin\": true, \"gridcolor\": \"white\", \"linecolor\": \"white\", \"ticks\": \"\", \"title\": {\"standoff\": 15}, \"zerolinecolor\": \"white\", \"zerolinewidth\": 2}, \"yaxis\": {\"automargin\": true, \"gridcolor\": \"white\", \"linecolor\": \"white\", \"ticks\": \"\", \"title\": {\"standoff\": 15}, \"zerolinecolor\": \"white\", \"zerolinewidth\": 2}}}, \"title\": {\"font\": {\"color\": \"#4D5663\"}}, \"xaxis\": {\"gridcolor\": \"#E1E5ED\", \"showgrid\": true, \"tickfont\": {\"color\": \"#4D5663\"}, \"title\": {\"font\": {\"color\": \"#4D5663\"}, \"text\": \"\"}, \"zerolinecolor\": \"#E1E5ED\"}, \"xaxis2\": {\"anchor\": \"y2\", \"gridcolor\": \"#E1E5ED\", \"showgrid\": true, \"showticklabels\": false, \"tickfont\": {\"color\": \"#4D5663\"}, \"title\": {\"font\": {\"color\": \"#4D5663\"}, \"text\": \"\"}, \"zerolinecolor\": \"#E1E5ED\"}, \"yaxis\": {\"domain\": [0.3, 1], \"gridcolor\": \"#E1E5ED\", \"showgrid\": true, \"tickfont\": {\"color\": \"#4D5663\"}, \"title\": {\"font\": {\"color\": \"#4D5663\"}, \"text\": \"\"}, \"zerolinecolor\": \"#E1E5ED\"}, \"yaxis2\": {\"domain\": [0, 0.25], \"gridcolor\": \"#E1E5ED\", \"showgrid\": true, \"tickfont\": {\"color\": \"#4D5663\"}, \"title\": {\"font\": {\"color\": \"#4D5663\"}, \"text\": \"Spread\"}, \"zerolinecolor\": \"#E1E5ED\"}},\n",
       "                        {\"showLink\": true, \"linkText\": \"Export to plot.ly\", \"plotlyServerURL\": \"https://plot.ly\", \"responsive\": true}\n",
       "                    ).then(function(){\n",
       "                            \n",
       "var gd = document.getElementById('2b905773-1593-47a7-8479-b44874ec391f');\n",
       "var x = new MutationObserver(function (mutations, observer) {{\n",
       "        var display = window.getComputedStyle(gd).display;\n",
       "        if (!display || display === 'none') {{\n",
       "            console.log([gd, 'removed!']);\n",
       "            Plotly.purge(gd);\n",
       "            observer.disconnect();\n",
       "        }}\n",
       "}});\n",
       "\n",
       "// Listen for the removal of the full notebook cells\n",
       "var notebookContainer = gd.closest('#notebook-container');\n",
       "if (notebookContainer) {{\n",
       "    x.observe(notebookContainer, {childList: true});\n",
       "}}\n",
       "\n",
       "// Listen for the clearing of the current output cell\n",
       "var outputEl = gd.closest('.output');\n",
       "if (outputEl) {{\n",
       "    x.observe(outputEl, {childList: true});\n",
       "}}\n",
       "\n",
       "                        })\n",
       "                };\n",
       "                });\n",
       "            </script>\n",
       "        </div>"
      ]
     },
     "metadata": {},
     "output_type": "display_data"
    }
   ],
   "source": [
    "df[['A','B']].iplot(kind='spread')"
   ]
  },
  {
   "cell_type": "code",
   "execution_count": 41,
   "metadata": {},
   "outputs": [
    {
     "data": {
      "application/vnd.plotly.v1+json": {
       "config": {
        "linkText": "Export to plot.ly",
        "plotlyServerURL": "https://plot.ly",
        "showLink": true
       },
       "data": [
        {
         "marker": {
          "color": [
           "rgb(255, 153, 51)",
           "rgb(55, 128, 191)",
           "rgb(50, 171, 96)",
           "rgb(128, 0, 128)",
           "rgb(219, 64, 82)",
           "rgb(0, 128, 128)",
           "rgb(255, 255, 51)",
           "rgb(128, 128, 0)",
           "rgb(251, 128, 114)",
           "rgb(128, 177, 211)"
          ],
          "line": {
           "width": 1.3
          },
          "size": [
           15,
           43,
           105,
           98,
           82,
           67,
           83,
           99,
           59,
           94,
           50,
           61,
           81,
           86,
           55,
           73,
           61,
           98,
           58,
           65,
           21,
           98,
           105,
           68,
           56,
           56,
           112,
           63,
           63,
           51,
           80,
           54,
           58,
           100,
           36,
           55,
           96,
           84,
           111,
           44,
           80,
           74,
           72,
           76,
           40,
           70,
           80,
           76,
           73,
           67,
           42,
           49,
           75,
           35,
           79,
           79,
           105,
           45,
           31,
           49,
           55,
           48,
           65,
           20,
           45,
           95,
           83,
           88,
           100,
           91,
           12,
           36,
           77,
           27,
           101,
           46,
           55,
           71,
           53,
           91,
           56,
           57,
           73,
           38,
           75,
           79,
           83,
           72,
           104,
           61,
           60,
           69,
           55,
           71,
           67,
           39,
           54,
           97,
           85,
           52
          ],
          "symbol": "circle"
         },
         "mode": "markers",
         "text": "",
         "type": "scatter",
         "x": [
          -1.0227072602404605,
          1.1091700991385929,
          -1.4993969726670624,
          1.8768911811202638,
          -0.1584068038282462,
          0.5636778234135267,
          1.1643293657731082,
          -2.5453901249124367,
          -2.6995540910248312,
          0.830994313571333,
          -1.468665893590867,
          2.4870167762098214,
          0.5278277847426068,
          -2.2474017579936096,
          0.9392149363934074,
          0.333173802178018,
          -0.2518400271011279,
          0.5699429582714065,
          -0.9394005219839601,
          -0.5798540158672266,
          -1.1122285231351523,
          -0.5505823743314988,
          0.8431979643718024,
          -0.6698833258259573,
          1.4971121025574492,
          0.8110972529880883,
          -1.420772301496858,
          -1.238688195272796,
          0.738641139209335,
          0.30015097358503756,
          0.3857414137896417,
          0.7981149360380709,
          -1.09216358333296,
          -0.09947700731426419,
          -0.9575398718705561,
          -0.7941309017001477,
          0.5013365071315352,
          0.24182198672120908,
          -1.279837031259551,
          0.3465677983280072,
          2.0684845009039283,
          -0.2675234143132672,
          -0.5863391539096587,
          -2.4969552041074654,
          0.2470986876555305,
          1.5518128255305705,
          -0.781453918744178,
          -0.4864350671756053,
          1.7838960390576342,
          1.376521799342055,
          -0.02897847559348279,
          0.48547086276997553,
          1.3450898442841346,
          0.9888210486728403,
          -0.05411332033261771,
          -0.8641544902907613,
          -0.2756638826219286,
          1.5285699283236265,
          1.3448113873888643,
          -1.8769444454648108,
          -0.6671405401337398,
          -0.2922400814776645,
          0.080522552719805,
          -0.2655153357214515,
          0.17443548857794025,
          -0.20220757214113935,
          0.6085444227049939,
          -0.5398965196930543,
          -0.6486043699179436,
          0.07622659494578123,
          -1.1432441394493909,
          0.5117491223277846,
          0.5670963420711427,
          -1.556235182008322,
          2.2459400794950364,
          -0.2604219941766891,
          -1.6823252830735502,
          -2.493101370763733,
          -0.0863347511312303,
          1.443794649564759,
          -0.2011444145719318,
          0.3438950305951134,
          0.2607245037792382,
          0.792122700578744,
          1.7786098266291699,
          0.5352909661118613,
          -0.12294442612489852,
          1.1978976876974878,
          -0.3173406496272341,
          1.0472990438814478,
          0.3146805337346373,
          -0.607084650338605,
          -0.7359566251717335,
          0.4007922748288922,
          1.279517538903847,
          -0.22936483222501214,
          -0.5182994714755288,
          -0.848876107050886,
          -1.3865228467599007,
          0.18180007447279647
         ],
         "y": [
          -0.7305625969818371,
          0.783362976846267,
          -0.6488174141162153,
          -1.379008968011247,
          0.8310618838938229,
          1.1778421647831814,
          0.3084172494654089,
          1.8990195971023394,
          0.10340485577957621,
          0.059026265280790365,
          0.510536253894352,
          -2.1538459076845924,
          0.3174261488262944,
          0.049624395432911424,
          -2.128017053722008,
          0.15190610867356308,
          0.649293489777525,
          0.45449245140423905,
          -0.39329927875529924,
          -0.06602567256010221,
          0.4511054143988493,
          0.5433725229594577,
          0.4233946966960372,
          -2.1635183337437978,
          -0.7067255386231072,
          -0.6177904210856345,
          -0.6595067079822083,
          1.5510904520567041,
          0.9018668632766085,
          0.09947906700423,
          -0.15621592041765242,
          -0.33499138194246636,
          -0.5163408026271186,
          -0.8489613479258857,
          -0.730817422127436,
          -0.4181302913241633,
          0.845253121042682,
          -0.43732468963958265,
          0.8297545496830605,
          0.4800210848145044,
          1.4312458795497929,
          1.4057658280072,
          -0.13507354273338432,
          0.004364059665748205,
          0.4583635381265657,
          -2.765109052598902,
          0.5553148910686933,
          0.8156121041694133,
          -0.8534912680359814,
          -0.3247281718808031,
          -0.914863311548679,
          1.2885918351941394,
          0.1286872852343092,
          0.6769192164148923,
          -1.8215241353716114,
          -0.5550326638024027,
          0.7312939772654433,
          -1.5930312249930805,
          0.5839395041961499,
          1.0132188209501904,
          0.09522232856181102,
          0.2918764830701547,
          -2.078395139709775,
          -0.38883386936591163,
          1.1290584477657903,
          0.22100222469686198,
          -0.5834017170642858,
          -1.021387557059779,
          -0.48027663208344595,
          -1.8273357277855076,
          1.3498770608938466,
          0.40782060463651854,
          0.2042791561113294,
          -0.7512961007936723,
          0.22849117191956678,
          -0.12738404595625513,
          0.14113705734866797,
          -1.530891509798966,
          0.30243572472487723,
          -0.6496718912655635,
          1.4761457105113132,
          -0.07187302243193486,
          0.3426537813081174,
          -1.4463894894521407,
          -1.2550872424839516,
          0.5376639737146628,
          -0.46650538869834624,
          -0.23539958762750904,
          1.3502628301865927,
          1.4552023830979153,
          -0.9402921461767356,
          0.8169931580844604,
          0.17573258156189311,
          1.0799719743407135,
          -0.6885727540285529,
          -0.09289774706664905,
          1.2460258532059068,
          0.9281312404691667,
          0.4666096361580586,
          1.3531035312894115
         ]
        }
       ],
       "layout": {
        "legend": {
         "bgcolor": "#F5F6F9",
         "font": {
          "color": "#4D5663"
         }
        },
        "paper_bgcolor": "#F5F6F9",
        "plot_bgcolor": "#F5F6F9",
        "template": {
         "data": {
          "bar": [
           {
            "error_x": {
             "color": "#2a3f5f"
            },
            "error_y": {
             "color": "#2a3f5f"
            },
            "marker": {
             "line": {
              "color": "#E5ECF6",
              "width": 0.5
             }
            },
            "type": "bar"
           }
          ],
          "barpolar": [
           {
            "marker": {
             "line": {
              "color": "#E5ECF6",
              "width": 0.5
             }
            },
            "type": "barpolar"
           }
          ],
          "carpet": [
           {
            "aaxis": {
             "endlinecolor": "#2a3f5f",
             "gridcolor": "white",
             "linecolor": "white",
             "minorgridcolor": "white",
             "startlinecolor": "#2a3f5f"
            },
            "baxis": {
             "endlinecolor": "#2a3f5f",
             "gridcolor": "white",
             "linecolor": "white",
             "minorgridcolor": "white",
             "startlinecolor": "#2a3f5f"
            },
            "type": "carpet"
           }
          ],
          "choropleth": [
           {
            "colorbar": {
             "outlinewidth": 0,
             "ticks": ""
            },
            "type": "choropleth"
           }
          ],
          "contour": [
           {
            "colorbar": {
             "outlinewidth": 0,
             "ticks": ""
            },
            "colorscale": [
             [
              0,
              "#0d0887"
             ],
             [
              0.1111111111111111,
              "#46039f"
             ],
             [
              0.2222222222222222,
              "#7201a8"
             ],
             [
              0.3333333333333333,
              "#9c179e"
             ],
             [
              0.4444444444444444,
              "#bd3786"
             ],
             [
              0.5555555555555556,
              "#d8576b"
             ],
             [
              0.6666666666666666,
              "#ed7953"
             ],
             [
              0.7777777777777778,
              "#fb9f3a"
             ],
             [
              0.8888888888888888,
              "#fdca26"
             ],
             [
              1,
              "#f0f921"
             ]
            ],
            "type": "contour"
           }
          ],
          "contourcarpet": [
           {
            "colorbar": {
             "outlinewidth": 0,
             "ticks": ""
            },
            "type": "contourcarpet"
           }
          ],
          "heatmap": [
           {
            "colorbar": {
             "outlinewidth": 0,
             "ticks": ""
            },
            "colorscale": [
             [
              0,
              "#0d0887"
             ],
             [
              0.1111111111111111,
              "#46039f"
             ],
             [
              0.2222222222222222,
              "#7201a8"
             ],
             [
              0.3333333333333333,
              "#9c179e"
             ],
             [
              0.4444444444444444,
              "#bd3786"
             ],
             [
              0.5555555555555556,
              "#d8576b"
             ],
             [
              0.6666666666666666,
              "#ed7953"
             ],
             [
              0.7777777777777778,
              "#fb9f3a"
             ],
             [
              0.8888888888888888,
              "#fdca26"
             ],
             [
              1,
              "#f0f921"
             ]
            ],
            "type": "heatmap"
           }
          ],
          "heatmapgl": [
           {
            "colorbar": {
             "outlinewidth": 0,
             "ticks": ""
            },
            "colorscale": [
             [
              0,
              "#0d0887"
             ],
             [
              0.1111111111111111,
              "#46039f"
             ],
             [
              0.2222222222222222,
              "#7201a8"
             ],
             [
              0.3333333333333333,
              "#9c179e"
             ],
             [
              0.4444444444444444,
              "#bd3786"
             ],
             [
              0.5555555555555556,
              "#d8576b"
             ],
             [
              0.6666666666666666,
              "#ed7953"
             ],
             [
              0.7777777777777778,
              "#fb9f3a"
             ],
             [
              0.8888888888888888,
              "#fdca26"
             ],
             [
              1,
              "#f0f921"
             ]
            ],
            "type": "heatmapgl"
           }
          ],
          "histogram": [
           {
            "marker": {
             "colorbar": {
              "outlinewidth": 0,
              "ticks": ""
             }
            },
            "type": "histogram"
           }
          ],
          "histogram2d": [
           {
            "colorbar": {
             "outlinewidth": 0,
             "ticks": ""
            },
            "colorscale": [
             [
              0,
              "#0d0887"
             ],
             [
              0.1111111111111111,
              "#46039f"
             ],
             [
              0.2222222222222222,
              "#7201a8"
             ],
             [
              0.3333333333333333,
              "#9c179e"
             ],
             [
              0.4444444444444444,
              "#bd3786"
             ],
             [
              0.5555555555555556,
              "#d8576b"
             ],
             [
              0.6666666666666666,
              "#ed7953"
             ],
             [
              0.7777777777777778,
              "#fb9f3a"
             ],
             [
              0.8888888888888888,
              "#fdca26"
             ],
             [
              1,
              "#f0f921"
             ]
            ],
            "type": "histogram2d"
           }
          ],
          "histogram2dcontour": [
           {
            "colorbar": {
             "outlinewidth": 0,
             "ticks": ""
            },
            "colorscale": [
             [
              0,
              "#0d0887"
             ],
             [
              0.1111111111111111,
              "#46039f"
             ],
             [
              0.2222222222222222,
              "#7201a8"
             ],
             [
              0.3333333333333333,
              "#9c179e"
             ],
             [
              0.4444444444444444,
              "#bd3786"
             ],
             [
              0.5555555555555556,
              "#d8576b"
             ],
             [
              0.6666666666666666,
              "#ed7953"
             ],
             [
              0.7777777777777778,
              "#fb9f3a"
             ],
             [
              0.8888888888888888,
              "#fdca26"
             ],
             [
              1,
              "#f0f921"
             ]
            ],
            "type": "histogram2dcontour"
           }
          ],
          "mesh3d": [
           {
            "colorbar": {
             "outlinewidth": 0,
             "ticks": ""
            },
            "type": "mesh3d"
           }
          ],
          "parcoords": [
           {
            "line": {
             "colorbar": {
              "outlinewidth": 0,
              "ticks": ""
             }
            },
            "type": "parcoords"
           }
          ],
          "pie": [
           {
            "automargin": true,
            "type": "pie"
           }
          ],
          "scatter": [
           {
            "marker": {
             "colorbar": {
              "outlinewidth": 0,
              "ticks": ""
             }
            },
            "type": "scatter"
           }
          ],
          "scatter3d": [
           {
            "line": {
             "colorbar": {
              "outlinewidth": 0,
              "ticks": ""
             }
            },
            "marker": {
             "colorbar": {
              "outlinewidth": 0,
              "ticks": ""
             }
            },
            "type": "scatter3d"
           }
          ],
          "scattercarpet": [
           {
            "marker": {
             "colorbar": {
              "outlinewidth": 0,
              "ticks": ""
             }
            },
            "type": "scattercarpet"
           }
          ],
          "scattergeo": [
           {
            "marker": {
             "colorbar": {
              "outlinewidth": 0,
              "ticks": ""
             }
            },
            "type": "scattergeo"
           }
          ],
          "scattergl": [
           {
            "marker": {
             "colorbar": {
              "outlinewidth": 0,
              "ticks": ""
             }
            },
            "type": "scattergl"
           }
          ],
          "scattermapbox": [
           {
            "marker": {
             "colorbar": {
              "outlinewidth": 0,
              "ticks": ""
             }
            },
            "type": "scattermapbox"
           }
          ],
          "scatterpolar": [
           {
            "marker": {
             "colorbar": {
              "outlinewidth": 0,
              "ticks": ""
             }
            },
            "type": "scatterpolar"
           }
          ],
          "scatterpolargl": [
           {
            "marker": {
             "colorbar": {
              "outlinewidth": 0,
              "ticks": ""
             }
            },
            "type": "scatterpolargl"
           }
          ],
          "scatterternary": [
           {
            "marker": {
             "colorbar": {
              "outlinewidth": 0,
              "ticks": ""
             }
            },
            "type": "scatterternary"
           }
          ],
          "surface": [
           {
            "colorbar": {
             "outlinewidth": 0,
             "ticks": ""
            },
            "colorscale": [
             [
              0,
              "#0d0887"
             ],
             [
              0.1111111111111111,
              "#46039f"
             ],
             [
              0.2222222222222222,
              "#7201a8"
             ],
             [
              0.3333333333333333,
              "#9c179e"
             ],
             [
              0.4444444444444444,
              "#bd3786"
             ],
             [
              0.5555555555555556,
              "#d8576b"
             ],
             [
              0.6666666666666666,
              "#ed7953"
             ],
             [
              0.7777777777777778,
              "#fb9f3a"
             ],
             [
              0.8888888888888888,
              "#fdca26"
             ],
             [
              1,
              "#f0f921"
             ]
            ],
            "type": "surface"
           }
          ],
          "table": [
           {
            "cells": {
             "fill": {
              "color": "#EBF0F8"
             },
             "line": {
              "color": "white"
             }
            },
            "header": {
             "fill": {
              "color": "#C8D4E3"
             },
             "line": {
              "color": "white"
             }
            },
            "type": "table"
           }
          ]
         },
         "layout": {
          "annotationdefaults": {
           "arrowcolor": "#2a3f5f",
           "arrowhead": 0,
           "arrowwidth": 1
          },
          "coloraxis": {
           "colorbar": {
            "outlinewidth": 0,
            "ticks": ""
           }
          },
          "colorscale": {
           "diverging": [
            [
             0,
             "#8e0152"
            ],
            [
             0.1,
             "#c51b7d"
            ],
            [
             0.2,
             "#de77ae"
            ],
            [
             0.3,
             "#f1b6da"
            ],
            [
             0.4,
             "#fde0ef"
            ],
            [
             0.5,
             "#f7f7f7"
            ],
            [
             0.6,
             "#e6f5d0"
            ],
            [
             0.7,
             "#b8e186"
            ],
            [
             0.8,
             "#7fbc41"
            ],
            [
             0.9,
             "#4d9221"
            ],
            [
             1,
             "#276419"
            ]
           ],
           "sequential": [
            [
             0,
             "#0d0887"
            ],
            [
             0.1111111111111111,
             "#46039f"
            ],
            [
             0.2222222222222222,
             "#7201a8"
            ],
            [
             0.3333333333333333,
             "#9c179e"
            ],
            [
             0.4444444444444444,
             "#bd3786"
            ],
            [
             0.5555555555555556,
             "#d8576b"
            ],
            [
             0.6666666666666666,
             "#ed7953"
            ],
            [
             0.7777777777777778,
             "#fb9f3a"
            ],
            [
             0.8888888888888888,
             "#fdca26"
            ],
            [
             1,
             "#f0f921"
            ]
           ],
           "sequentialminus": [
            [
             0,
             "#0d0887"
            ],
            [
             0.1111111111111111,
             "#46039f"
            ],
            [
             0.2222222222222222,
             "#7201a8"
            ],
            [
             0.3333333333333333,
             "#9c179e"
            ],
            [
             0.4444444444444444,
             "#bd3786"
            ],
            [
             0.5555555555555556,
             "#d8576b"
            ],
            [
             0.6666666666666666,
             "#ed7953"
            ],
            [
             0.7777777777777778,
             "#fb9f3a"
            ],
            [
             0.8888888888888888,
             "#fdca26"
            ],
            [
             1,
             "#f0f921"
            ]
           ]
          },
          "colorway": [
           "#636efa",
           "#EF553B",
           "#00cc96",
           "#ab63fa",
           "#FFA15A",
           "#19d3f3",
           "#FF6692",
           "#B6E880",
           "#FF97FF",
           "#FECB52"
          ],
          "font": {
           "color": "#2a3f5f"
          },
          "geo": {
           "bgcolor": "white",
           "lakecolor": "white",
           "landcolor": "#E5ECF6",
           "showlakes": true,
           "showland": true,
           "subunitcolor": "white"
          },
          "hoverlabel": {
           "align": "left"
          },
          "hovermode": "closest",
          "mapbox": {
           "style": "light"
          },
          "paper_bgcolor": "white",
          "plot_bgcolor": "#E5ECF6",
          "polar": {
           "angularaxis": {
            "gridcolor": "white",
            "linecolor": "white",
            "ticks": ""
           },
           "bgcolor": "#E5ECF6",
           "radialaxis": {
            "gridcolor": "white",
            "linecolor": "white",
            "ticks": ""
           }
          },
          "scene": {
           "xaxis": {
            "backgroundcolor": "#E5ECF6",
            "gridcolor": "white",
            "gridwidth": 2,
            "linecolor": "white",
            "showbackground": true,
            "ticks": "",
            "zerolinecolor": "white"
           },
           "yaxis": {
            "backgroundcolor": "#E5ECF6",
            "gridcolor": "white",
            "gridwidth": 2,
            "linecolor": "white",
            "showbackground": true,
            "ticks": "",
            "zerolinecolor": "white"
           },
           "zaxis": {
            "backgroundcolor": "#E5ECF6",
            "gridcolor": "white",
            "gridwidth": 2,
            "linecolor": "white",
            "showbackground": true,
            "ticks": "",
            "zerolinecolor": "white"
           }
          },
          "shapedefaults": {
           "line": {
            "color": "#2a3f5f"
           }
          },
          "ternary": {
           "aaxis": {
            "gridcolor": "white",
            "linecolor": "white",
            "ticks": ""
           },
           "baxis": {
            "gridcolor": "white",
            "linecolor": "white",
            "ticks": ""
           },
           "bgcolor": "#E5ECF6",
           "caxis": {
            "gridcolor": "white",
            "linecolor": "white",
            "ticks": ""
           }
          },
          "title": {
           "x": 0.05
          },
          "xaxis": {
           "automargin": true,
           "gridcolor": "white",
           "linecolor": "white",
           "ticks": "",
           "title": {
            "standoff": 15
           },
           "zerolinecolor": "white",
           "zerolinewidth": 2
          },
          "yaxis": {
           "automargin": true,
           "gridcolor": "white",
           "linecolor": "white",
           "ticks": "",
           "title": {
            "standoff": 15
           },
           "zerolinecolor": "white",
           "zerolinewidth": 2
          }
         }
        },
        "title": {
         "font": {
          "color": "#4D5663"
         }
        },
        "xaxis": {
         "gridcolor": "#E1E5ED",
         "showgrid": true,
         "tickfont": {
          "color": "#4D5663"
         },
         "title": {
          "font": {
           "color": "#4D5663"
          },
          "text": ""
         },
         "zerolinecolor": "#E1E5ED"
        },
        "yaxis": {
         "gridcolor": "#E1E5ED",
         "showgrid": true,
         "tickfont": {
          "color": "#4D5663"
         },
         "title": {
          "font": {
           "color": "#4D5663"
          },
          "text": ""
         },
         "zerolinecolor": "#E1E5ED"
        }
       }
      },
      "text/html": [
       "<div>\n",
       "        \n",
       "        \n",
       "            <div id=\"9e0acced-c9db-4447-93e8-52153563dfc0\" class=\"plotly-graph-div\" style=\"height:525px; width:100%;\"></div>\n",
       "            <script type=\"text/javascript\">\n",
       "                require([\"plotly\"], function(Plotly) {\n",
       "                    window.PLOTLYENV=window.PLOTLYENV || {};\n",
       "                    window.PLOTLYENV.BASE_URL='https://plot.ly';\n",
       "                    \n",
       "                if (document.getElementById(\"9e0acced-c9db-4447-93e8-52153563dfc0\")) {\n",
       "                    Plotly.newPlot(\n",
       "                        '9e0acced-c9db-4447-93e8-52153563dfc0',\n",
       "                        [{\"marker\": {\"color\": [\"rgb(255, 153, 51)\", \"rgb(55, 128, 191)\", \"rgb(50, 171, 96)\", \"rgb(128, 0, 128)\", \"rgb(219, 64, 82)\", \"rgb(0, 128, 128)\", \"rgb(255, 255, 51)\", \"rgb(128, 128, 0)\", \"rgb(251, 128, 114)\", \"rgb(128, 177, 211)\"], \"line\": {\"width\": 1.3}, \"size\": [15, 43, 105, 98, 82, 67, 83, 99, 59, 94, 50, 61, 81, 86, 55, 73, 61, 98, 58, 65, 21, 98, 105, 68, 56, 56, 112, 63, 63, 51, 80, 54, 58, 100, 36, 55, 96, 84, 111, 44, 80, 74, 72, 76, 40, 70, 80, 76, 73, 67, 42, 49, 75, 35, 79, 79, 105, 45, 31, 49, 55, 48, 65, 20, 45, 95, 83, 88, 100, 91, 12, 36, 77, 27, 101, 46, 55, 71, 53, 91, 56, 57, 73, 38, 75, 79, 83, 72, 104, 61, 60, 69, 55, 71, 67, 39, 54, 97, 85, 52], \"symbol\": \"circle\"}, \"mode\": \"markers\", \"text\": \"\", \"type\": \"scatter\", \"x\": [-1.0227072602404605, 1.1091700991385929, -1.4993969726670624, 1.8768911811202638, -0.1584068038282462, 0.5636778234135267, 1.1643293657731082, -2.5453901249124367, -2.6995540910248312, 0.830994313571333, -1.468665893590867, 2.4870167762098214, 0.5278277847426068, -2.2474017579936096, 0.9392149363934074, 0.333173802178018, -0.2518400271011279, 0.5699429582714065, -0.9394005219839601, -0.5798540158672266, -1.1122285231351523, -0.5505823743314988, 0.8431979643718024, -0.6698833258259573, 1.4971121025574492, 0.8110972529880883, -1.420772301496858, -1.238688195272796, 0.738641139209335, 0.30015097358503756, 0.3857414137896417, 0.7981149360380709, -1.09216358333296, -0.09947700731426419, -0.9575398718705561, -0.7941309017001477, 0.5013365071315352, 0.24182198672120908, -1.279837031259551, 0.3465677983280072, 2.0684845009039283, -0.2675234143132672, -0.5863391539096587, -2.4969552041074654, 0.2470986876555305, 1.5518128255305705, -0.781453918744178, -0.4864350671756053, 1.7838960390576342, 1.376521799342055, -0.02897847559348279, 0.48547086276997553, 1.3450898442841346, 0.9888210486728403, -0.05411332033261771, -0.8641544902907613, -0.2756638826219286, 1.5285699283236265, 1.3448113873888643, -1.8769444454648108, -0.6671405401337398, -0.2922400814776645, 0.080522552719805, -0.2655153357214515, 0.17443548857794025, -0.20220757214113935, 0.6085444227049939, -0.5398965196930543, -0.6486043699179436, 0.07622659494578123, -1.1432441394493909, 0.5117491223277846, 0.5670963420711427, -1.556235182008322, 2.2459400794950364, -0.2604219941766891, -1.6823252830735502, -2.493101370763733, -0.0863347511312303, 1.443794649564759, -0.2011444145719318, 0.3438950305951134, 0.2607245037792382, 0.792122700578744, 1.7786098266291699, 0.5352909661118613, -0.12294442612489852, 1.1978976876974878, -0.3173406496272341, 1.0472990438814478, 0.3146805337346373, -0.607084650338605, -0.7359566251717335, 0.4007922748288922, 1.279517538903847, -0.22936483222501214, -0.5182994714755288, -0.848876107050886, -1.3865228467599007, 0.18180007447279647], \"y\": [-0.7305625969818371, 0.783362976846267, -0.6488174141162153, -1.379008968011247, 0.8310618838938229, 1.1778421647831814, 0.3084172494654089, 1.8990195971023394, 0.10340485577957621, 0.059026265280790365, 0.510536253894352, -2.1538459076845924, 0.3174261488262944, 0.049624395432911424, -2.128017053722008, 0.15190610867356308, 0.649293489777525, 0.45449245140423905, -0.39329927875529924, -0.06602567256010221, 0.4511054143988493, 0.5433725229594577, 0.4233946966960372, -2.1635183337437978, -0.7067255386231072, -0.6177904210856345, -0.6595067079822083, 1.5510904520567041, 0.9018668632766085, 0.09947906700423, -0.15621592041765242, -0.33499138194246636, -0.5163408026271186, -0.8489613479258857, -0.730817422127436, -0.4181302913241633, 0.845253121042682, -0.43732468963958265, 0.8297545496830605, 0.4800210848145044, 1.4312458795497929, 1.4057658280072, -0.13507354273338432, 0.004364059665748205, 0.4583635381265657, -2.765109052598902, 0.5553148910686933, 0.8156121041694133, -0.8534912680359814, -0.3247281718808031, -0.914863311548679, 1.2885918351941394, 0.1286872852343092, 0.6769192164148923, -1.8215241353716114, -0.5550326638024027, 0.7312939772654433, -1.5930312249930805, 0.5839395041961499, 1.0132188209501904, 0.09522232856181102, 0.2918764830701547, -2.078395139709775, -0.38883386936591163, 1.1290584477657903, 0.22100222469686198, -0.5834017170642858, -1.021387557059779, -0.48027663208344595, -1.8273357277855076, 1.3498770608938466, 0.40782060463651854, 0.2042791561113294, -0.7512961007936723, 0.22849117191956678, -0.12738404595625513, 0.14113705734866797, -1.530891509798966, 0.30243572472487723, -0.6496718912655635, 1.4761457105113132, -0.07187302243193486, 0.3426537813081174, -1.4463894894521407, -1.2550872424839516, 0.5376639737146628, -0.46650538869834624, -0.23539958762750904, 1.3502628301865927, 1.4552023830979153, -0.9402921461767356, 0.8169931580844604, 0.17573258156189311, 1.0799719743407135, -0.6885727540285529, -0.09289774706664905, 1.2460258532059068, 0.9281312404691667, 0.4666096361580586, 1.3531035312894115]}],\n",
       "                        {\"legend\": {\"bgcolor\": \"#F5F6F9\", \"font\": {\"color\": \"#4D5663\"}}, \"paper_bgcolor\": \"#F5F6F9\", \"plot_bgcolor\": \"#F5F6F9\", \"template\": {\"data\": {\"bar\": [{\"error_x\": {\"color\": \"#2a3f5f\"}, \"error_y\": {\"color\": \"#2a3f5f\"}, \"marker\": {\"line\": {\"color\": \"#E5ECF6\", \"width\": 0.5}}, \"type\": \"bar\"}], \"barpolar\": [{\"marker\": {\"line\": {\"color\": \"#E5ECF6\", \"width\": 0.5}}, \"type\": \"barpolar\"}], \"carpet\": [{\"aaxis\": {\"endlinecolor\": \"#2a3f5f\", \"gridcolor\": \"white\", \"linecolor\": \"white\", \"minorgridcolor\": \"white\", \"startlinecolor\": \"#2a3f5f\"}, \"baxis\": {\"endlinecolor\": \"#2a3f5f\", \"gridcolor\": \"white\", \"linecolor\": \"white\", \"minorgridcolor\": \"white\", \"startlinecolor\": \"#2a3f5f\"}, \"type\": \"carpet\"}], \"choropleth\": [{\"colorbar\": {\"outlinewidth\": 0, \"ticks\": \"\"}, \"type\": \"choropleth\"}], \"contour\": [{\"colorbar\": {\"outlinewidth\": 0, \"ticks\": \"\"}, \"colorscale\": [[0.0, \"#0d0887\"], [0.1111111111111111, \"#46039f\"], [0.2222222222222222, \"#7201a8\"], [0.3333333333333333, \"#9c179e\"], [0.4444444444444444, \"#bd3786\"], [0.5555555555555556, \"#d8576b\"], [0.6666666666666666, \"#ed7953\"], [0.7777777777777778, \"#fb9f3a\"], [0.8888888888888888, \"#fdca26\"], [1.0, \"#f0f921\"]], \"type\": \"contour\"}], \"contourcarpet\": [{\"colorbar\": {\"outlinewidth\": 0, \"ticks\": \"\"}, \"type\": \"contourcarpet\"}], \"heatmap\": [{\"colorbar\": {\"outlinewidth\": 0, \"ticks\": \"\"}, \"colorscale\": [[0.0, \"#0d0887\"], [0.1111111111111111, \"#46039f\"], [0.2222222222222222, \"#7201a8\"], [0.3333333333333333, \"#9c179e\"], [0.4444444444444444, \"#bd3786\"], [0.5555555555555556, \"#d8576b\"], [0.6666666666666666, \"#ed7953\"], [0.7777777777777778, \"#fb9f3a\"], [0.8888888888888888, \"#fdca26\"], [1.0, \"#f0f921\"]], \"type\": \"heatmap\"}], \"heatmapgl\": [{\"colorbar\": {\"outlinewidth\": 0, \"ticks\": \"\"}, \"colorscale\": [[0.0, \"#0d0887\"], [0.1111111111111111, \"#46039f\"], [0.2222222222222222, \"#7201a8\"], [0.3333333333333333, \"#9c179e\"], [0.4444444444444444, \"#bd3786\"], [0.5555555555555556, \"#d8576b\"], [0.6666666666666666, \"#ed7953\"], [0.7777777777777778, \"#fb9f3a\"], [0.8888888888888888, \"#fdca26\"], [1.0, \"#f0f921\"]], \"type\": \"heatmapgl\"}], \"histogram\": [{\"marker\": {\"colorbar\": {\"outlinewidth\": 0, \"ticks\": \"\"}}, \"type\": \"histogram\"}], \"histogram2d\": [{\"colorbar\": {\"outlinewidth\": 0, \"ticks\": \"\"}, \"colorscale\": [[0.0, \"#0d0887\"], [0.1111111111111111, \"#46039f\"], [0.2222222222222222, \"#7201a8\"], [0.3333333333333333, \"#9c179e\"], [0.4444444444444444, \"#bd3786\"], [0.5555555555555556, \"#d8576b\"], [0.6666666666666666, \"#ed7953\"], [0.7777777777777778, \"#fb9f3a\"], [0.8888888888888888, \"#fdca26\"], [1.0, \"#f0f921\"]], \"type\": \"histogram2d\"}], \"histogram2dcontour\": [{\"colorbar\": {\"outlinewidth\": 0, \"ticks\": \"\"}, \"colorscale\": [[0.0, \"#0d0887\"], [0.1111111111111111, \"#46039f\"], [0.2222222222222222, \"#7201a8\"], [0.3333333333333333, \"#9c179e\"], [0.4444444444444444, \"#bd3786\"], [0.5555555555555556, \"#d8576b\"], [0.6666666666666666, \"#ed7953\"], [0.7777777777777778, \"#fb9f3a\"], [0.8888888888888888, \"#fdca26\"], [1.0, \"#f0f921\"]], \"type\": \"histogram2dcontour\"}], \"mesh3d\": [{\"colorbar\": {\"outlinewidth\": 0, \"ticks\": \"\"}, \"type\": \"mesh3d\"}], \"parcoords\": [{\"line\": {\"colorbar\": {\"outlinewidth\": 0, \"ticks\": \"\"}}, \"type\": \"parcoords\"}], \"pie\": [{\"automargin\": true, \"type\": \"pie\"}], \"scatter\": [{\"marker\": {\"colorbar\": {\"outlinewidth\": 0, \"ticks\": \"\"}}, \"type\": \"scatter\"}], \"scatter3d\": [{\"line\": {\"colorbar\": {\"outlinewidth\": 0, \"ticks\": \"\"}}, \"marker\": {\"colorbar\": {\"outlinewidth\": 0, \"ticks\": \"\"}}, \"type\": \"scatter3d\"}], \"scattercarpet\": [{\"marker\": {\"colorbar\": {\"outlinewidth\": 0, \"ticks\": \"\"}}, \"type\": \"scattercarpet\"}], \"scattergeo\": [{\"marker\": {\"colorbar\": {\"outlinewidth\": 0, \"ticks\": \"\"}}, \"type\": \"scattergeo\"}], \"scattergl\": [{\"marker\": {\"colorbar\": {\"outlinewidth\": 0, \"ticks\": \"\"}}, \"type\": \"scattergl\"}], \"scattermapbox\": [{\"marker\": {\"colorbar\": {\"outlinewidth\": 0, \"ticks\": \"\"}}, \"type\": \"scattermapbox\"}], \"scatterpolar\": [{\"marker\": {\"colorbar\": {\"outlinewidth\": 0, \"ticks\": \"\"}}, \"type\": \"scatterpolar\"}], \"scatterpolargl\": [{\"marker\": {\"colorbar\": {\"outlinewidth\": 0, \"ticks\": \"\"}}, \"type\": \"scatterpolargl\"}], \"scatterternary\": [{\"marker\": {\"colorbar\": {\"outlinewidth\": 0, \"ticks\": \"\"}}, \"type\": \"scatterternary\"}], \"surface\": [{\"colorbar\": {\"outlinewidth\": 0, \"ticks\": \"\"}, \"colorscale\": [[0.0, \"#0d0887\"], [0.1111111111111111, \"#46039f\"], [0.2222222222222222, \"#7201a8\"], [0.3333333333333333, \"#9c179e\"], [0.4444444444444444, \"#bd3786\"], [0.5555555555555556, \"#d8576b\"], [0.6666666666666666, \"#ed7953\"], [0.7777777777777778, \"#fb9f3a\"], [0.8888888888888888, \"#fdca26\"], [1.0, \"#f0f921\"]], \"type\": \"surface\"}], \"table\": [{\"cells\": {\"fill\": {\"color\": \"#EBF0F8\"}, \"line\": {\"color\": \"white\"}}, \"header\": {\"fill\": {\"color\": \"#C8D4E3\"}, \"line\": {\"color\": \"white\"}}, \"type\": \"table\"}]}, \"layout\": {\"annotationdefaults\": {\"arrowcolor\": \"#2a3f5f\", \"arrowhead\": 0, \"arrowwidth\": 1}, \"coloraxis\": {\"colorbar\": {\"outlinewidth\": 0, \"ticks\": \"\"}}, \"colorscale\": {\"diverging\": [[0, \"#8e0152\"], [0.1, \"#c51b7d\"], [0.2, \"#de77ae\"], [0.3, \"#f1b6da\"], [0.4, \"#fde0ef\"], [0.5, \"#f7f7f7\"], [0.6, \"#e6f5d0\"], [0.7, \"#b8e186\"], [0.8, \"#7fbc41\"], [0.9, \"#4d9221\"], [1, \"#276419\"]], \"sequential\": [[0.0, \"#0d0887\"], [0.1111111111111111, \"#46039f\"], [0.2222222222222222, \"#7201a8\"], [0.3333333333333333, \"#9c179e\"], [0.4444444444444444, \"#bd3786\"], [0.5555555555555556, \"#d8576b\"], [0.6666666666666666, \"#ed7953\"], [0.7777777777777778, \"#fb9f3a\"], [0.8888888888888888, \"#fdca26\"], [1.0, \"#f0f921\"]], \"sequentialminus\": [[0.0, \"#0d0887\"], [0.1111111111111111, \"#46039f\"], [0.2222222222222222, \"#7201a8\"], [0.3333333333333333, \"#9c179e\"], [0.4444444444444444, \"#bd3786\"], [0.5555555555555556, \"#d8576b\"], [0.6666666666666666, \"#ed7953\"], [0.7777777777777778, \"#fb9f3a\"], [0.8888888888888888, \"#fdca26\"], [1.0, \"#f0f921\"]]}, \"colorway\": [\"#636efa\", \"#EF553B\", \"#00cc96\", \"#ab63fa\", \"#FFA15A\", \"#19d3f3\", \"#FF6692\", \"#B6E880\", \"#FF97FF\", \"#FECB52\"], \"font\": {\"color\": \"#2a3f5f\"}, \"geo\": {\"bgcolor\": \"white\", \"lakecolor\": \"white\", \"landcolor\": \"#E5ECF6\", \"showlakes\": true, \"showland\": true, \"subunitcolor\": \"white\"}, \"hoverlabel\": {\"align\": \"left\"}, \"hovermode\": \"closest\", \"mapbox\": {\"style\": \"light\"}, \"paper_bgcolor\": \"white\", \"plot_bgcolor\": \"#E5ECF6\", \"polar\": {\"angularaxis\": {\"gridcolor\": \"white\", \"linecolor\": \"white\", \"ticks\": \"\"}, \"bgcolor\": \"#E5ECF6\", \"radialaxis\": {\"gridcolor\": \"white\", \"linecolor\": \"white\", \"ticks\": \"\"}}, \"scene\": {\"xaxis\": {\"backgroundcolor\": \"#E5ECF6\", \"gridcolor\": \"white\", \"gridwidth\": 2, \"linecolor\": \"white\", \"showbackground\": true, \"ticks\": \"\", \"zerolinecolor\": \"white\"}, \"yaxis\": {\"backgroundcolor\": \"#E5ECF6\", \"gridcolor\": \"white\", \"gridwidth\": 2, \"linecolor\": \"white\", \"showbackground\": true, \"ticks\": \"\", \"zerolinecolor\": \"white\"}, \"zaxis\": {\"backgroundcolor\": \"#E5ECF6\", \"gridcolor\": \"white\", \"gridwidth\": 2, \"linecolor\": \"white\", \"showbackground\": true, \"ticks\": \"\", \"zerolinecolor\": \"white\"}}, \"shapedefaults\": {\"line\": {\"color\": \"#2a3f5f\"}}, \"ternary\": {\"aaxis\": {\"gridcolor\": \"white\", \"linecolor\": \"white\", \"ticks\": \"\"}, \"baxis\": {\"gridcolor\": \"white\", \"linecolor\": \"white\", \"ticks\": \"\"}, \"bgcolor\": \"#E5ECF6\", \"caxis\": {\"gridcolor\": \"white\", \"linecolor\": \"white\", \"ticks\": \"\"}}, \"title\": {\"x\": 0.05}, \"xaxis\": {\"automargin\": true, \"gridcolor\": \"white\", \"linecolor\": \"white\", \"ticks\": \"\", \"title\": {\"standoff\": 15}, \"zerolinecolor\": \"white\", \"zerolinewidth\": 2}, \"yaxis\": {\"automargin\": true, \"gridcolor\": \"white\", \"linecolor\": \"white\", \"ticks\": \"\", \"title\": {\"standoff\": 15}, \"zerolinecolor\": \"white\", \"zerolinewidth\": 2}}}, \"title\": {\"font\": {\"color\": \"#4D5663\"}}, \"xaxis\": {\"gridcolor\": \"#E1E5ED\", \"showgrid\": true, \"tickfont\": {\"color\": \"#4D5663\"}, \"title\": {\"font\": {\"color\": \"#4D5663\"}, \"text\": \"\"}, \"zerolinecolor\": \"#E1E5ED\"}, \"yaxis\": {\"gridcolor\": \"#E1E5ED\", \"showgrid\": true, \"tickfont\": {\"color\": \"#4D5663\"}, \"title\": {\"font\": {\"color\": \"#4D5663\"}, \"text\": \"\"}, \"zerolinecolor\": \"#E1E5ED\"}},\n",
       "                        {\"showLink\": true, \"linkText\": \"Export to plot.ly\", \"plotlyServerURL\": \"https://plot.ly\", \"responsive\": true}\n",
       "                    ).then(function(){\n",
       "                            \n",
       "var gd = document.getElementById('9e0acced-c9db-4447-93e8-52153563dfc0');\n",
       "var x = new MutationObserver(function (mutations, observer) {{\n",
       "        var display = window.getComputedStyle(gd).display;\n",
       "        if (!display || display === 'none') {{\n",
       "            console.log([gd, 'removed!']);\n",
       "            Plotly.purge(gd);\n",
       "            observer.disconnect();\n",
       "        }}\n",
       "}});\n",
       "\n",
       "// Listen for the removal of the full notebook cells\n",
       "var notebookContainer = gd.closest('#notebook-container');\n",
       "if (notebookContainer) {{\n",
       "    x.observe(notebookContainer, {childList: true});\n",
       "}}\n",
       "\n",
       "// Listen for the clearing of the current output cell\n",
       "var outputEl = gd.closest('.output');\n",
       "if (outputEl) {{\n",
       "    x.observe(outputEl, {childList: true});\n",
       "}}\n",
       "\n",
       "                        })\n",
       "                };\n",
       "                });\n",
       "            </script>\n",
       "        </div>"
      ]
     },
     "metadata": {},
     "output_type": "display_data"
    }
   ],
   "source": [
    "df.iplot(kind='bubble',x='A',y='B',size='C')"
   ]
  },
  {
   "cell_type": "code",
   "execution_count": 42,
   "metadata": {},
   "outputs": [
    {
     "data": {
      "application/vnd.plotly.v1+json": {
       "config": {
        "linkText": "Export to plot.ly",
        "plotlyServerURL": "https://plot.ly",
        "showLink": true
       },
       "data": [
        {
         "histfunc": "count",
         "histnorm": "",
         "marker": {
          "color": "rgba(255, 153, 51, 1.0)",
          "line": {
           "color": "#4D5663",
           "width": 1.3
          }
         },
         "name": "A",
         "nbinsx": 10,
         "opacity": 0.8,
         "orientation": "v",
         "type": "histogram",
         "x": [
          -1.0227072602404605,
          1.1091700991385929,
          -1.4993969726670624,
          1.8768911811202638,
          -0.1584068038282462,
          0.5636778234135267,
          1.1643293657731082,
          -2.5453901249124367,
          -2.6995540910248312,
          0.830994313571333,
          -1.468665893590867,
          2.4870167762098214,
          0.5278277847426068,
          -2.2474017579936096,
          0.9392149363934074,
          0.333173802178018,
          -0.2518400271011279,
          0.5699429582714065,
          -0.9394005219839601,
          -0.5798540158672266,
          -1.1122285231351523,
          -0.5505823743314988,
          0.8431979643718024,
          -0.6698833258259573,
          1.4971121025574492,
          0.8110972529880883,
          -1.420772301496858,
          -1.238688195272796,
          0.738641139209335,
          0.30015097358503756,
          0.3857414137896417,
          0.7981149360380709,
          -1.09216358333296,
          -0.09947700731426419,
          -0.9575398718705561,
          -0.7941309017001477,
          0.5013365071315352,
          0.24182198672120908,
          -1.279837031259551,
          0.3465677983280072,
          2.0684845009039283,
          -0.2675234143132672,
          -0.5863391539096587,
          -2.4969552041074654,
          0.2470986876555305,
          1.5518128255305705,
          -0.781453918744178,
          -0.4864350671756053,
          1.7838960390576342,
          1.376521799342055,
          -0.02897847559348279,
          0.48547086276997553,
          1.3450898442841346,
          0.9888210486728403,
          -0.05411332033261771,
          -0.8641544902907613,
          -0.2756638826219286,
          1.5285699283236265,
          1.3448113873888643,
          -1.8769444454648108,
          -0.6671405401337398,
          -0.2922400814776645,
          0.080522552719805,
          -0.2655153357214515,
          0.17443548857794025,
          -0.20220757214113935,
          0.6085444227049939,
          -0.5398965196930543,
          -0.6486043699179436,
          0.07622659494578123,
          -1.1432441394493909,
          0.5117491223277846,
          0.5670963420711427,
          -1.556235182008322,
          2.2459400794950364,
          -0.2604219941766891,
          -1.6823252830735502,
          -2.493101370763733,
          -0.0863347511312303,
          1.443794649564759,
          -0.2011444145719318,
          0.3438950305951134,
          0.2607245037792382,
          0.792122700578744,
          1.7786098266291699,
          0.5352909661118613,
          -0.12294442612489852,
          1.1978976876974878,
          -0.3173406496272341,
          1.0472990438814478,
          0.3146805337346373,
          -0.607084650338605,
          -0.7359566251717335,
          0.4007922748288922,
          1.279517538903847,
          -0.22936483222501214,
          -0.5182994714755288,
          -0.848876107050886,
          -1.3865228467599007,
          0.18180007447279647
         ],
         "xaxis": "x",
         "yaxis": "y"
        },
        {
         "line": {
          "color": "rgba(128, 128, 128, 1.0)",
          "dash": "solid",
          "shape": "linear",
          "width": 1.3
         },
         "marker": {
          "size": 2,
          "symbol": "circle"
         },
         "mode": "markers",
         "name": "A",
         "text": "",
         "type": "scatter",
         "x": [
          -0.7305625969818371,
          0.783362976846267,
          -0.6488174141162153,
          -1.379008968011247,
          0.8310618838938229,
          1.1778421647831814,
          0.3084172494654089,
          1.8990195971023394,
          0.10340485577957621,
          0.059026265280790365,
          0.510536253894352,
          -2.1538459076845924,
          0.3174261488262944,
          0.049624395432911424,
          -2.128017053722008,
          0.15190610867356308,
          0.649293489777525,
          0.45449245140423905,
          -0.39329927875529924,
          -0.06602567256010221,
          0.4511054143988493,
          0.5433725229594577,
          0.4233946966960372,
          -2.1635183337437978,
          -0.7067255386231072,
          -0.6177904210856345,
          -0.6595067079822083,
          1.5510904520567041,
          0.9018668632766085,
          0.09947906700423,
          -0.15621592041765242,
          -0.33499138194246636,
          -0.5163408026271186,
          -0.8489613479258857,
          -0.730817422127436,
          -0.4181302913241633,
          0.845253121042682,
          -0.43732468963958265,
          0.8297545496830605,
          0.4800210848145044,
          1.4312458795497929,
          1.4057658280072,
          -0.13507354273338432,
          0.004364059665748205,
          0.4583635381265657,
          -2.765109052598902,
          0.5553148910686933,
          0.8156121041694133,
          -0.8534912680359814,
          -0.3247281718808031,
          -0.914863311548679,
          1.2885918351941394,
          0.1286872852343092,
          0.6769192164148923,
          -1.8215241353716114,
          -0.5550326638024027,
          0.7312939772654433,
          -1.5930312249930805,
          0.5839395041961499,
          1.0132188209501904,
          0.09522232856181102,
          0.2918764830701547,
          -2.078395139709775,
          -0.38883386936591163,
          1.1290584477657903,
          0.22100222469686198,
          -0.5834017170642858,
          -1.021387557059779,
          -0.48027663208344595,
          -1.8273357277855076,
          1.3498770608938466,
          0.40782060463651854,
          0.2042791561113294,
          -0.7512961007936723,
          0.22849117191956678,
          -0.12738404595625513,
          0.14113705734866797,
          -1.530891509798966,
          0.30243572472487723,
          -0.6496718912655635,
          1.4761457105113132,
          -0.07187302243193486,
          0.3426537813081174,
          -1.4463894894521407,
          -1.2550872424839516,
          0.5376639737146628,
          -0.46650538869834624,
          -0.23539958762750904,
          1.3502628301865927,
          1.4552023830979153,
          -0.9402921461767356,
          0.8169931580844604,
          0.17573258156189311,
          1.0799719743407135,
          -0.6885727540285529,
          -0.09289774706664905,
          1.2460258532059068,
          0.9281312404691667,
          0.4666096361580586,
          1.3531035312894115
         ],
         "xaxis": "x2",
         "y": [
          -1.0227072602404605,
          1.1091700991385929,
          -1.4993969726670624,
          1.8768911811202638,
          -0.1584068038282462,
          0.5636778234135267,
          1.1643293657731082,
          -2.5453901249124367,
          -2.6995540910248312,
          0.830994313571333,
          -1.468665893590867,
          2.4870167762098214,
          0.5278277847426068,
          -2.2474017579936096,
          0.9392149363934074,
          0.333173802178018,
          -0.2518400271011279,
          0.5699429582714065,
          -0.9394005219839601,
          -0.5798540158672266,
          -1.1122285231351523,
          -0.5505823743314988,
          0.8431979643718024,
          -0.6698833258259573,
          1.4971121025574492,
          0.8110972529880883,
          -1.420772301496858,
          -1.238688195272796,
          0.738641139209335,
          0.30015097358503756,
          0.3857414137896417,
          0.7981149360380709,
          -1.09216358333296,
          -0.09947700731426419,
          -0.9575398718705561,
          -0.7941309017001477,
          0.5013365071315352,
          0.24182198672120908,
          -1.279837031259551,
          0.3465677983280072,
          2.0684845009039283,
          -0.2675234143132672,
          -0.5863391539096587,
          -2.4969552041074654,
          0.2470986876555305,
          1.5518128255305705,
          -0.781453918744178,
          -0.4864350671756053,
          1.7838960390576342,
          1.376521799342055,
          -0.02897847559348279,
          0.48547086276997553,
          1.3450898442841346,
          0.9888210486728403,
          -0.05411332033261771,
          -0.8641544902907613,
          -0.2756638826219286,
          1.5285699283236265,
          1.3448113873888643,
          -1.8769444454648108,
          -0.6671405401337398,
          -0.2922400814776645,
          0.080522552719805,
          -0.2655153357214515,
          0.17443548857794025,
          -0.20220757214113935,
          0.6085444227049939,
          -0.5398965196930543,
          -0.6486043699179436,
          0.07622659494578123,
          -1.1432441394493909,
          0.5117491223277846,
          0.5670963420711427,
          -1.556235182008322,
          2.2459400794950364,
          -0.2604219941766891,
          -1.6823252830735502,
          -2.493101370763733,
          -0.0863347511312303,
          1.443794649564759,
          -0.2011444145719318,
          0.3438950305951134,
          0.2607245037792382,
          0.792122700578744,
          1.7786098266291699,
          0.5352909661118613,
          -0.12294442612489852,
          1.1978976876974878,
          -0.3173406496272341,
          1.0472990438814478,
          0.3146805337346373,
          -0.607084650338605,
          -0.7359566251717335,
          0.4007922748288922,
          1.279517538903847,
          -0.22936483222501214,
          -0.5182994714755288,
          -0.848876107050886,
          -1.3865228467599007,
          0.18180007447279647
         ],
         "yaxis": "y2"
        },
        {
         "line": {
          "color": "rgba(128, 128, 128, 1.0)",
          "dash": "solid",
          "shape": "linear",
          "width": 1.3
         },
         "marker": {
          "size": 2,
          "symbol": "circle"
         },
         "mode": "markers",
         "name": "A",
         "text": "",
         "type": "scatter",
         "x": [
          -2.0801954842530854,
          -1.012248646419635,
          1.3232652327046397,
          1.068653245193722,
          0.4473431505109954,
          -0.09759555331261434,
          0.4913939361288406,
          1.0907412801736536,
          -0.3952692084028424,
          0.9258753944397978,
          -0.7384413445378213,
          -0.31787180989326863,
          0.41700428379960064,
          0.6169563874809506,
          -0.5533118212780033,
          0.10214386353408453,
          -0.3296850142235436,
          1.0750401394967823,
          -0.45381682549475283,
          -0.16858566107054548,
          -1.85526676351296,
          1.0634692881601842,
          1.329723268726233,
          -0.09004064719788596,
          -0.5232441532800234,
          -0.5286476623586482,
          1.56954133362809,
          -0.25445912663840253,
          -0.24977001376546662,
          -0.7070986715272332,
          0.3857937791543105,
          -0.6013806674566733,
          -0.4453684923951969,
          1.1182233093725122,
          -1.2769659479554023,
          -0.5445238324820918,
          0.9990525554096598,
          0.5251609315298159,
          1.5392912526018883,
          -0.971095200299162,
          0.3675167346099236,
          0.16138437344170045,
          0.09746166488436017,
          0.22518220572810532,
          -1.1198076099048129,
          0.005111309652542074,
          0.39279883028651513,
          0.23399425783113573,
          0.11523169380654982,
          -0.12559021266810222,
          -1.0594698680160406,
          -0.7858237911363148,
          0.20117084772193605,
          -1.3251754450583033,
          0.34701632792761405,
          0.3326465503694515,
          1.3194715224871045,
          -0.9469273892058584,
          -1.4525211649807754,
          -0.7930788404805282,
          -0.5487878796047415,
          -0.8338095747373878,
          -0.18458116778035052,
          -1.8898177562650742,
          -0.9305403598408326,
          0.9600402473315202,
          0.5013522684531851,
          0.6964764986781917,
          1.1172290369042306,
          0.7992185353945016,
          -2.2048184120024428,
          -1.2889597505573922,
          0.2505191621450121,
          -1.6319268531335172,
          1.1817131103582106,
          -0.8990547247662171,
          -0.575832744607948,
          0.046390907870445426,
          -0.6227126274050468,
          0.7883913157586375,
          -0.5097836918707317,
          -0.4840801161815726,
          0.13436275960287455,
          -1.2197724595704293,
          0.2081925040015876,
          0.34192791684551804,
          0.49291742382682135,
          0.09201977043119879,
          1.3005200974593913,
          -0.3522452500997659,
          -0.3704964131275352,
          -0.0445344240652476,
          -0.5743768403100804,
          0.057713728297095264,
          -0.12423810305203296,
          -1.161102229440341,
          -0.5857461058902402,
          1.0327550810089714,
          0.5732034677469589,
          -0.66672263760295
         ],
         "xaxis": "x3",
         "y": [
          -1.0227072602404605,
          1.1091700991385929,
          -1.4993969726670624,
          1.8768911811202638,
          -0.1584068038282462,
          0.5636778234135267,
          1.1643293657731082,
          -2.5453901249124367,
          -2.6995540910248312,
          0.830994313571333,
          -1.468665893590867,
          2.4870167762098214,
          0.5278277847426068,
          -2.2474017579936096,
          0.9392149363934074,
          0.333173802178018,
          -0.2518400271011279,
          0.5699429582714065,
          -0.9394005219839601,
          -0.5798540158672266,
          -1.1122285231351523,
          -0.5505823743314988,
          0.8431979643718024,
          -0.6698833258259573,
          1.4971121025574492,
          0.8110972529880883,
          -1.420772301496858,
          -1.238688195272796,
          0.738641139209335,
          0.30015097358503756,
          0.3857414137896417,
          0.7981149360380709,
          -1.09216358333296,
          -0.09947700731426419,
          -0.9575398718705561,
          -0.7941309017001477,
          0.5013365071315352,
          0.24182198672120908,
          -1.279837031259551,
          0.3465677983280072,
          2.0684845009039283,
          -0.2675234143132672,
          -0.5863391539096587,
          -2.4969552041074654,
          0.2470986876555305,
          1.5518128255305705,
          -0.781453918744178,
          -0.4864350671756053,
          1.7838960390576342,
          1.376521799342055,
          -0.02897847559348279,
          0.48547086276997553,
          1.3450898442841346,
          0.9888210486728403,
          -0.05411332033261771,
          -0.8641544902907613,
          -0.2756638826219286,
          1.5285699283236265,
          1.3448113873888643,
          -1.8769444454648108,
          -0.6671405401337398,
          -0.2922400814776645,
          0.080522552719805,
          -0.2655153357214515,
          0.17443548857794025,
          -0.20220757214113935,
          0.6085444227049939,
          -0.5398965196930543,
          -0.6486043699179436,
          0.07622659494578123,
          -1.1432441394493909,
          0.5117491223277846,
          0.5670963420711427,
          -1.556235182008322,
          2.2459400794950364,
          -0.2604219941766891,
          -1.6823252830735502,
          -2.493101370763733,
          -0.0863347511312303,
          1.443794649564759,
          -0.2011444145719318,
          0.3438950305951134,
          0.2607245037792382,
          0.792122700578744,
          1.7786098266291699,
          0.5352909661118613,
          -0.12294442612489852,
          1.1978976876974878,
          -0.3173406496272341,
          1.0472990438814478,
          0.3146805337346373,
          -0.607084650338605,
          -0.7359566251717335,
          0.4007922748288922,
          1.279517538903847,
          -0.22936483222501214,
          -0.5182994714755288,
          -0.848876107050886,
          -1.3865228467599007,
          0.18180007447279647
         ],
         "yaxis": "y3"
        },
        {
         "line": {
          "color": "rgba(128, 128, 128, 1.0)",
          "dash": "solid",
          "shape": "linear",
          "width": 1.3
         },
         "marker": {
          "size": 2,
          "symbol": "circle"
         },
         "mode": "markers",
         "name": "A",
         "text": "",
         "type": "scatter",
         "x": [
          -1.6889943276061983,
          -2.160652881430035,
          0.7969173286751591,
          -0.40689200535211484,
          1.1063863317023126,
          0.32587136889469626,
          1.4251924446590751,
          -0.049343482341913554,
          0.9785306319828516,
          0.3771094275577349,
          -0.6853301746631065,
          -0.2914417143453693,
          1.8567027535640652,
          0.38481773482027093,
          -1.167859631205922,
          0.9758959747850864,
          0.8006123176344719,
          -1.5947409809288808,
          -1.6116749594079887,
          1.727215606605738,
          0.4793062714084753,
          0.23227696562282796,
          -0.8111699652442527,
          0.8580603006263023,
          -2.110505442185867,
          -0.7575236466560565,
          0.8171669972107859,
          -0.013421757194777166,
          1.7662025857914379,
          -0.35261289515712557,
          1.079640561165116,
          -0.7445062704238944,
          -0.46963426145434883,
          -1.2359576841608122,
          -1.4618667743241767,
          -0.780915455602358,
          -0.3075388802068042,
          0.5997702843507153,
          0.024773052053056865,
          1.4751266506815628,
          0.6467806287776092,
          -0.3001218548271014,
          1.1870186479845986,
          -0.09868874741332945,
          0.37117461726540174,
          -0.632524468294907,
          0.6582455184587414,
          0.5883642323078896,
          0.6166385866073346,
          -1.0086365117714602,
          0.7209498010512816,
          1.8518676997876742,
          -0.5380555147800582,
          1.4353050142899981,
          -1.6633010766887348,
          -0.06638139914457122,
          0.6647926633745758,
          0.6873425170813442,
          -1.797936163991116,
          -1.4036787270915132,
          0.26853914745105245,
          0.15194493204514142,
          1.0789440777405943,
          0.5615595901447917,
          -0.05027937318893131,
          1.1120240717042713,
          1.0122585162490714,
          -1.832084962805,
          0.1709252479939976,
          0.5953036195998925,
          0.44461255626940366,
          -0.6291055204481256,
          0.44505919105353736,
          -0.43976931296823996,
          2.6300756410925628,
          -0.5501876400864705,
          0.1944042534603992,
          -1.838459404771273,
          1.0424085057541956,
          -1.0683697407131716,
          -0.004356231692863964,
          -1.1667907859048228,
          -1.4777276088855544,
          -0.38077165182966055,
          -0.969872397000942,
          -1.6980841916299279,
          -0.9914198284593434,
          -0.07812601974476405,
          -0.018228681633305915,
          -0.8582119807432321,
          -1.1741105724168293,
          0.7246595371727618,
          -0.10326535703384612,
          -1.4573605358758739,
          -1.6148284344017703,
          -2.7529826573775713,
          -0.9974075876858838,
          -0.5177700007047001,
          -0.21831560048830448,
          -2.1412511489272905
         ],
         "xaxis": "x4",
         "y": [
          -1.0227072602404605,
          1.1091700991385929,
          -1.4993969726670624,
          1.8768911811202638,
          -0.1584068038282462,
          0.5636778234135267,
          1.1643293657731082,
          -2.5453901249124367,
          -2.6995540910248312,
          0.830994313571333,
          -1.468665893590867,
          2.4870167762098214,
          0.5278277847426068,
          -2.2474017579936096,
          0.9392149363934074,
          0.333173802178018,
          -0.2518400271011279,
          0.5699429582714065,
          -0.9394005219839601,
          -0.5798540158672266,
          -1.1122285231351523,
          -0.5505823743314988,
          0.8431979643718024,
          -0.6698833258259573,
          1.4971121025574492,
          0.8110972529880883,
          -1.420772301496858,
          -1.238688195272796,
          0.738641139209335,
          0.30015097358503756,
          0.3857414137896417,
          0.7981149360380709,
          -1.09216358333296,
          -0.09947700731426419,
          -0.9575398718705561,
          -0.7941309017001477,
          0.5013365071315352,
          0.24182198672120908,
          -1.279837031259551,
          0.3465677983280072,
          2.0684845009039283,
          -0.2675234143132672,
          -0.5863391539096587,
          -2.4969552041074654,
          0.2470986876555305,
          1.5518128255305705,
          -0.781453918744178,
          -0.4864350671756053,
          1.7838960390576342,
          1.376521799342055,
          -0.02897847559348279,
          0.48547086276997553,
          1.3450898442841346,
          0.9888210486728403,
          -0.05411332033261771,
          -0.8641544902907613,
          -0.2756638826219286,
          1.5285699283236265,
          1.3448113873888643,
          -1.8769444454648108,
          -0.6671405401337398,
          -0.2922400814776645,
          0.080522552719805,
          -0.2655153357214515,
          0.17443548857794025,
          -0.20220757214113935,
          0.6085444227049939,
          -0.5398965196930543,
          -0.6486043699179436,
          0.07622659494578123,
          -1.1432441394493909,
          0.5117491223277846,
          0.5670963420711427,
          -1.556235182008322,
          2.2459400794950364,
          -0.2604219941766891,
          -1.6823252830735502,
          -2.493101370763733,
          -0.0863347511312303,
          1.443794649564759,
          -0.2011444145719318,
          0.3438950305951134,
          0.2607245037792382,
          0.792122700578744,
          1.7786098266291699,
          0.5352909661118613,
          -0.12294442612489852,
          1.1978976876974878,
          -0.3173406496272341,
          1.0472990438814478,
          0.3146805337346373,
          -0.607084650338605,
          -0.7359566251717335,
          0.4007922748288922,
          1.279517538903847,
          -0.22936483222501214,
          -0.5182994714755288,
          -0.848876107050886,
          -1.3865228467599007,
          0.18180007447279647
         ],
         "yaxis": "y4"
        },
        {
         "line": {
          "color": "rgba(128, 128, 128, 1.0)",
          "dash": "solid",
          "shape": "linear",
          "width": 1.3
         },
         "marker": {
          "size": 2,
          "symbol": "circle"
         },
         "mode": "markers",
         "name": "B",
         "text": "",
         "type": "scatter",
         "x": [
          -1.0227072602404605,
          1.1091700991385929,
          -1.4993969726670624,
          1.8768911811202638,
          -0.1584068038282462,
          0.5636778234135267,
          1.1643293657731082,
          -2.5453901249124367,
          -2.6995540910248312,
          0.830994313571333,
          -1.468665893590867,
          2.4870167762098214,
          0.5278277847426068,
          -2.2474017579936096,
          0.9392149363934074,
          0.333173802178018,
          -0.2518400271011279,
          0.5699429582714065,
          -0.9394005219839601,
          -0.5798540158672266,
          -1.1122285231351523,
          -0.5505823743314988,
          0.8431979643718024,
          -0.6698833258259573,
          1.4971121025574492,
          0.8110972529880883,
          -1.420772301496858,
          -1.238688195272796,
          0.738641139209335,
          0.30015097358503756,
          0.3857414137896417,
          0.7981149360380709,
          -1.09216358333296,
          -0.09947700731426419,
          -0.9575398718705561,
          -0.7941309017001477,
          0.5013365071315352,
          0.24182198672120908,
          -1.279837031259551,
          0.3465677983280072,
          2.0684845009039283,
          -0.2675234143132672,
          -0.5863391539096587,
          -2.4969552041074654,
          0.2470986876555305,
          1.5518128255305705,
          -0.781453918744178,
          -0.4864350671756053,
          1.7838960390576342,
          1.376521799342055,
          -0.02897847559348279,
          0.48547086276997553,
          1.3450898442841346,
          0.9888210486728403,
          -0.05411332033261771,
          -0.8641544902907613,
          -0.2756638826219286,
          1.5285699283236265,
          1.3448113873888643,
          -1.8769444454648108,
          -0.6671405401337398,
          -0.2922400814776645,
          0.080522552719805,
          -0.2655153357214515,
          0.17443548857794025,
          -0.20220757214113935,
          0.6085444227049939,
          -0.5398965196930543,
          -0.6486043699179436,
          0.07622659494578123,
          -1.1432441394493909,
          0.5117491223277846,
          0.5670963420711427,
          -1.556235182008322,
          2.2459400794950364,
          -0.2604219941766891,
          -1.6823252830735502,
          -2.493101370763733,
          -0.0863347511312303,
          1.443794649564759,
          -0.2011444145719318,
          0.3438950305951134,
          0.2607245037792382,
          0.792122700578744,
          1.7786098266291699,
          0.5352909661118613,
          -0.12294442612489852,
          1.1978976876974878,
          -0.3173406496272341,
          1.0472990438814478,
          0.3146805337346373,
          -0.607084650338605,
          -0.7359566251717335,
          0.4007922748288922,
          1.279517538903847,
          -0.22936483222501214,
          -0.5182994714755288,
          -0.848876107050886,
          -1.3865228467599007,
          0.18180007447279647
         ],
         "xaxis": "x5",
         "y": [
          -0.7305625969818371,
          0.783362976846267,
          -0.6488174141162153,
          -1.379008968011247,
          0.8310618838938229,
          1.1778421647831814,
          0.3084172494654089,
          1.8990195971023394,
          0.10340485577957621,
          0.059026265280790365,
          0.510536253894352,
          -2.1538459076845924,
          0.3174261488262944,
          0.049624395432911424,
          -2.128017053722008,
          0.15190610867356308,
          0.649293489777525,
          0.45449245140423905,
          -0.39329927875529924,
          -0.06602567256010221,
          0.4511054143988493,
          0.5433725229594577,
          0.4233946966960372,
          -2.1635183337437978,
          -0.7067255386231072,
          -0.6177904210856345,
          -0.6595067079822083,
          1.5510904520567041,
          0.9018668632766085,
          0.09947906700423,
          -0.15621592041765242,
          -0.33499138194246636,
          -0.5163408026271186,
          -0.8489613479258857,
          -0.730817422127436,
          -0.4181302913241633,
          0.845253121042682,
          -0.43732468963958265,
          0.8297545496830605,
          0.4800210848145044,
          1.4312458795497929,
          1.4057658280072,
          -0.13507354273338432,
          0.004364059665748205,
          0.4583635381265657,
          -2.765109052598902,
          0.5553148910686933,
          0.8156121041694133,
          -0.8534912680359814,
          -0.3247281718808031,
          -0.914863311548679,
          1.2885918351941394,
          0.1286872852343092,
          0.6769192164148923,
          -1.8215241353716114,
          -0.5550326638024027,
          0.7312939772654433,
          -1.5930312249930805,
          0.5839395041961499,
          1.0132188209501904,
          0.09522232856181102,
          0.2918764830701547,
          -2.078395139709775,
          -0.38883386936591163,
          1.1290584477657903,
          0.22100222469686198,
          -0.5834017170642858,
          -1.021387557059779,
          -0.48027663208344595,
          -1.8273357277855076,
          1.3498770608938466,
          0.40782060463651854,
          0.2042791561113294,
          -0.7512961007936723,
          0.22849117191956678,
          -0.12738404595625513,
          0.14113705734866797,
          -1.530891509798966,
          0.30243572472487723,
          -0.6496718912655635,
          1.4761457105113132,
          -0.07187302243193486,
          0.3426537813081174,
          -1.4463894894521407,
          -1.2550872424839516,
          0.5376639737146628,
          -0.46650538869834624,
          -0.23539958762750904,
          1.3502628301865927,
          1.4552023830979153,
          -0.9402921461767356,
          0.8169931580844604,
          0.17573258156189311,
          1.0799719743407135,
          -0.6885727540285529,
          -0.09289774706664905,
          1.2460258532059068,
          0.9281312404691667,
          0.4666096361580586,
          1.3531035312894115
         ],
         "yaxis": "y5"
        },
        {
         "histfunc": "count",
         "histnorm": "",
         "marker": {
          "color": "rgba(55, 128, 191, 1.0)",
          "line": {
           "color": "#4D5663",
           "width": 1.3
          }
         },
         "name": "B",
         "nbinsx": 10,
         "opacity": 0.8,
         "orientation": "v",
         "type": "histogram",
         "x": [
          -0.7305625969818371,
          0.783362976846267,
          -0.6488174141162153,
          -1.379008968011247,
          0.8310618838938229,
          1.1778421647831814,
          0.3084172494654089,
          1.8990195971023394,
          0.10340485577957621,
          0.059026265280790365,
          0.510536253894352,
          -2.1538459076845924,
          0.3174261488262944,
          0.049624395432911424,
          -2.128017053722008,
          0.15190610867356308,
          0.649293489777525,
          0.45449245140423905,
          -0.39329927875529924,
          -0.06602567256010221,
          0.4511054143988493,
          0.5433725229594577,
          0.4233946966960372,
          -2.1635183337437978,
          -0.7067255386231072,
          -0.6177904210856345,
          -0.6595067079822083,
          1.5510904520567041,
          0.9018668632766085,
          0.09947906700423,
          -0.15621592041765242,
          -0.33499138194246636,
          -0.5163408026271186,
          -0.8489613479258857,
          -0.730817422127436,
          -0.4181302913241633,
          0.845253121042682,
          -0.43732468963958265,
          0.8297545496830605,
          0.4800210848145044,
          1.4312458795497929,
          1.4057658280072,
          -0.13507354273338432,
          0.004364059665748205,
          0.4583635381265657,
          -2.765109052598902,
          0.5553148910686933,
          0.8156121041694133,
          -0.8534912680359814,
          -0.3247281718808031,
          -0.914863311548679,
          1.2885918351941394,
          0.1286872852343092,
          0.6769192164148923,
          -1.8215241353716114,
          -0.5550326638024027,
          0.7312939772654433,
          -1.5930312249930805,
          0.5839395041961499,
          1.0132188209501904,
          0.09522232856181102,
          0.2918764830701547,
          -2.078395139709775,
          -0.38883386936591163,
          1.1290584477657903,
          0.22100222469686198,
          -0.5834017170642858,
          -1.021387557059779,
          -0.48027663208344595,
          -1.8273357277855076,
          1.3498770608938466,
          0.40782060463651854,
          0.2042791561113294,
          -0.7512961007936723,
          0.22849117191956678,
          -0.12738404595625513,
          0.14113705734866797,
          -1.530891509798966,
          0.30243572472487723,
          -0.6496718912655635,
          1.4761457105113132,
          -0.07187302243193486,
          0.3426537813081174,
          -1.4463894894521407,
          -1.2550872424839516,
          0.5376639737146628,
          -0.46650538869834624,
          -0.23539958762750904,
          1.3502628301865927,
          1.4552023830979153,
          -0.9402921461767356,
          0.8169931580844604,
          0.17573258156189311,
          1.0799719743407135,
          -0.6885727540285529,
          -0.09289774706664905,
          1.2460258532059068,
          0.9281312404691667,
          0.4666096361580586,
          1.3531035312894115
         ],
         "xaxis": "x6",
         "yaxis": "y6"
        },
        {
         "line": {
          "color": "rgba(128, 128, 128, 1.0)",
          "dash": "solid",
          "shape": "linear",
          "width": 1.3
         },
         "marker": {
          "size": 2,
          "symbol": "circle"
         },
         "mode": "markers",
         "name": "B",
         "text": "",
         "type": "scatter",
         "x": [
          -2.0801954842530854,
          -1.012248646419635,
          1.3232652327046397,
          1.068653245193722,
          0.4473431505109954,
          -0.09759555331261434,
          0.4913939361288406,
          1.0907412801736536,
          -0.3952692084028424,
          0.9258753944397978,
          -0.7384413445378213,
          -0.31787180989326863,
          0.41700428379960064,
          0.6169563874809506,
          -0.5533118212780033,
          0.10214386353408453,
          -0.3296850142235436,
          1.0750401394967823,
          -0.45381682549475283,
          -0.16858566107054548,
          -1.85526676351296,
          1.0634692881601842,
          1.329723268726233,
          -0.09004064719788596,
          -0.5232441532800234,
          -0.5286476623586482,
          1.56954133362809,
          -0.25445912663840253,
          -0.24977001376546662,
          -0.7070986715272332,
          0.3857937791543105,
          -0.6013806674566733,
          -0.4453684923951969,
          1.1182233093725122,
          -1.2769659479554023,
          -0.5445238324820918,
          0.9990525554096598,
          0.5251609315298159,
          1.5392912526018883,
          -0.971095200299162,
          0.3675167346099236,
          0.16138437344170045,
          0.09746166488436017,
          0.22518220572810532,
          -1.1198076099048129,
          0.005111309652542074,
          0.39279883028651513,
          0.23399425783113573,
          0.11523169380654982,
          -0.12559021266810222,
          -1.0594698680160406,
          -0.7858237911363148,
          0.20117084772193605,
          -1.3251754450583033,
          0.34701632792761405,
          0.3326465503694515,
          1.3194715224871045,
          -0.9469273892058584,
          -1.4525211649807754,
          -0.7930788404805282,
          -0.5487878796047415,
          -0.8338095747373878,
          -0.18458116778035052,
          -1.8898177562650742,
          -0.9305403598408326,
          0.9600402473315202,
          0.5013522684531851,
          0.6964764986781917,
          1.1172290369042306,
          0.7992185353945016,
          -2.2048184120024428,
          -1.2889597505573922,
          0.2505191621450121,
          -1.6319268531335172,
          1.1817131103582106,
          -0.8990547247662171,
          -0.575832744607948,
          0.046390907870445426,
          -0.6227126274050468,
          0.7883913157586375,
          -0.5097836918707317,
          -0.4840801161815726,
          0.13436275960287455,
          -1.2197724595704293,
          0.2081925040015876,
          0.34192791684551804,
          0.49291742382682135,
          0.09201977043119879,
          1.3005200974593913,
          -0.3522452500997659,
          -0.3704964131275352,
          -0.0445344240652476,
          -0.5743768403100804,
          0.057713728297095264,
          -0.12423810305203296,
          -1.161102229440341,
          -0.5857461058902402,
          1.0327550810089714,
          0.5732034677469589,
          -0.66672263760295
         ],
         "xaxis": "x7",
         "y": [
          -0.7305625969818371,
          0.783362976846267,
          -0.6488174141162153,
          -1.379008968011247,
          0.8310618838938229,
          1.1778421647831814,
          0.3084172494654089,
          1.8990195971023394,
          0.10340485577957621,
          0.059026265280790365,
          0.510536253894352,
          -2.1538459076845924,
          0.3174261488262944,
          0.049624395432911424,
          -2.128017053722008,
          0.15190610867356308,
          0.649293489777525,
          0.45449245140423905,
          -0.39329927875529924,
          -0.06602567256010221,
          0.4511054143988493,
          0.5433725229594577,
          0.4233946966960372,
          -2.1635183337437978,
          -0.7067255386231072,
          -0.6177904210856345,
          -0.6595067079822083,
          1.5510904520567041,
          0.9018668632766085,
          0.09947906700423,
          -0.15621592041765242,
          -0.33499138194246636,
          -0.5163408026271186,
          -0.8489613479258857,
          -0.730817422127436,
          -0.4181302913241633,
          0.845253121042682,
          -0.43732468963958265,
          0.8297545496830605,
          0.4800210848145044,
          1.4312458795497929,
          1.4057658280072,
          -0.13507354273338432,
          0.004364059665748205,
          0.4583635381265657,
          -2.765109052598902,
          0.5553148910686933,
          0.8156121041694133,
          -0.8534912680359814,
          -0.3247281718808031,
          -0.914863311548679,
          1.2885918351941394,
          0.1286872852343092,
          0.6769192164148923,
          -1.8215241353716114,
          -0.5550326638024027,
          0.7312939772654433,
          -1.5930312249930805,
          0.5839395041961499,
          1.0132188209501904,
          0.09522232856181102,
          0.2918764830701547,
          -2.078395139709775,
          -0.38883386936591163,
          1.1290584477657903,
          0.22100222469686198,
          -0.5834017170642858,
          -1.021387557059779,
          -0.48027663208344595,
          -1.8273357277855076,
          1.3498770608938466,
          0.40782060463651854,
          0.2042791561113294,
          -0.7512961007936723,
          0.22849117191956678,
          -0.12738404595625513,
          0.14113705734866797,
          -1.530891509798966,
          0.30243572472487723,
          -0.6496718912655635,
          1.4761457105113132,
          -0.07187302243193486,
          0.3426537813081174,
          -1.4463894894521407,
          -1.2550872424839516,
          0.5376639737146628,
          -0.46650538869834624,
          -0.23539958762750904,
          1.3502628301865927,
          1.4552023830979153,
          -0.9402921461767356,
          0.8169931580844604,
          0.17573258156189311,
          1.0799719743407135,
          -0.6885727540285529,
          -0.09289774706664905,
          1.2460258532059068,
          0.9281312404691667,
          0.4666096361580586,
          1.3531035312894115
         ],
         "yaxis": "y7"
        },
        {
         "line": {
          "color": "rgba(128, 128, 128, 1.0)",
          "dash": "solid",
          "shape": "linear",
          "width": 1.3
         },
         "marker": {
          "size": 2,
          "symbol": "circle"
         },
         "mode": "markers",
         "name": "B",
         "text": "",
         "type": "scatter",
         "x": [
          -1.6889943276061983,
          -2.160652881430035,
          0.7969173286751591,
          -0.40689200535211484,
          1.1063863317023126,
          0.32587136889469626,
          1.4251924446590751,
          -0.049343482341913554,
          0.9785306319828516,
          0.3771094275577349,
          -0.6853301746631065,
          -0.2914417143453693,
          1.8567027535640652,
          0.38481773482027093,
          -1.167859631205922,
          0.9758959747850864,
          0.8006123176344719,
          -1.5947409809288808,
          -1.6116749594079887,
          1.727215606605738,
          0.4793062714084753,
          0.23227696562282796,
          -0.8111699652442527,
          0.8580603006263023,
          -2.110505442185867,
          -0.7575236466560565,
          0.8171669972107859,
          -0.013421757194777166,
          1.7662025857914379,
          -0.35261289515712557,
          1.079640561165116,
          -0.7445062704238944,
          -0.46963426145434883,
          -1.2359576841608122,
          -1.4618667743241767,
          -0.780915455602358,
          -0.3075388802068042,
          0.5997702843507153,
          0.024773052053056865,
          1.4751266506815628,
          0.6467806287776092,
          -0.3001218548271014,
          1.1870186479845986,
          -0.09868874741332945,
          0.37117461726540174,
          -0.632524468294907,
          0.6582455184587414,
          0.5883642323078896,
          0.6166385866073346,
          -1.0086365117714602,
          0.7209498010512816,
          1.8518676997876742,
          -0.5380555147800582,
          1.4353050142899981,
          -1.6633010766887348,
          -0.06638139914457122,
          0.6647926633745758,
          0.6873425170813442,
          -1.797936163991116,
          -1.4036787270915132,
          0.26853914745105245,
          0.15194493204514142,
          1.0789440777405943,
          0.5615595901447917,
          -0.05027937318893131,
          1.1120240717042713,
          1.0122585162490714,
          -1.832084962805,
          0.1709252479939976,
          0.5953036195998925,
          0.44461255626940366,
          -0.6291055204481256,
          0.44505919105353736,
          -0.43976931296823996,
          2.6300756410925628,
          -0.5501876400864705,
          0.1944042534603992,
          -1.838459404771273,
          1.0424085057541956,
          -1.0683697407131716,
          -0.004356231692863964,
          -1.1667907859048228,
          -1.4777276088855544,
          -0.38077165182966055,
          -0.969872397000942,
          -1.6980841916299279,
          -0.9914198284593434,
          -0.07812601974476405,
          -0.018228681633305915,
          -0.8582119807432321,
          -1.1741105724168293,
          0.7246595371727618,
          -0.10326535703384612,
          -1.4573605358758739,
          -1.6148284344017703,
          -2.7529826573775713,
          -0.9974075876858838,
          -0.5177700007047001,
          -0.21831560048830448,
          -2.1412511489272905
         ],
         "xaxis": "x8",
         "y": [
          -0.7305625969818371,
          0.783362976846267,
          -0.6488174141162153,
          -1.379008968011247,
          0.8310618838938229,
          1.1778421647831814,
          0.3084172494654089,
          1.8990195971023394,
          0.10340485577957621,
          0.059026265280790365,
          0.510536253894352,
          -2.1538459076845924,
          0.3174261488262944,
          0.049624395432911424,
          -2.128017053722008,
          0.15190610867356308,
          0.649293489777525,
          0.45449245140423905,
          -0.39329927875529924,
          -0.06602567256010221,
          0.4511054143988493,
          0.5433725229594577,
          0.4233946966960372,
          -2.1635183337437978,
          -0.7067255386231072,
          -0.6177904210856345,
          -0.6595067079822083,
          1.5510904520567041,
          0.9018668632766085,
          0.09947906700423,
          -0.15621592041765242,
          -0.33499138194246636,
          -0.5163408026271186,
          -0.8489613479258857,
          -0.730817422127436,
          -0.4181302913241633,
          0.845253121042682,
          -0.43732468963958265,
          0.8297545496830605,
          0.4800210848145044,
          1.4312458795497929,
          1.4057658280072,
          -0.13507354273338432,
          0.004364059665748205,
          0.4583635381265657,
          -2.765109052598902,
          0.5553148910686933,
          0.8156121041694133,
          -0.8534912680359814,
          -0.3247281718808031,
          -0.914863311548679,
          1.2885918351941394,
          0.1286872852343092,
          0.6769192164148923,
          -1.8215241353716114,
          -0.5550326638024027,
          0.7312939772654433,
          -1.5930312249930805,
          0.5839395041961499,
          1.0132188209501904,
          0.09522232856181102,
          0.2918764830701547,
          -2.078395139709775,
          -0.38883386936591163,
          1.1290584477657903,
          0.22100222469686198,
          -0.5834017170642858,
          -1.021387557059779,
          -0.48027663208344595,
          -1.8273357277855076,
          1.3498770608938466,
          0.40782060463651854,
          0.2042791561113294,
          -0.7512961007936723,
          0.22849117191956678,
          -0.12738404595625513,
          0.14113705734866797,
          -1.530891509798966,
          0.30243572472487723,
          -0.6496718912655635,
          1.4761457105113132,
          -0.07187302243193486,
          0.3426537813081174,
          -1.4463894894521407,
          -1.2550872424839516,
          0.5376639737146628,
          -0.46650538869834624,
          -0.23539958762750904,
          1.3502628301865927,
          1.4552023830979153,
          -0.9402921461767356,
          0.8169931580844604,
          0.17573258156189311,
          1.0799719743407135,
          -0.6885727540285529,
          -0.09289774706664905,
          1.2460258532059068,
          0.9281312404691667,
          0.4666096361580586,
          1.3531035312894115
         ],
         "yaxis": "y8"
        },
        {
         "line": {
          "color": "rgba(128, 128, 128, 1.0)",
          "dash": "solid",
          "shape": "linear",
          "width": 1.3
         },
         "marker": {
          "size": 2,
          "symbol": "circle"
         },
         "mode": "markers",
         "name": "C",
         "text": "",
         "type": "scatter",
         "x": [
          -1.0227072602404605,
          1.1091700991385929,
          -1.4993969726670624,
          1.8768911811202638,
          -0.1584068038282462,
          0.5636778234135267,
          1.1643293657731082,
          -2.5453901249124367,
          -2.6995540910248312,
          0.830994313571333,
          -1.468665893590867,
          2.4870167762098214,
          0.5278277847426068,
          -2.2474017579936096,
          0.9392149363934074,
          0.333173802178018,
          -0.2518400271011279,
          0.5699429582714065,
          -0.9394005219839601,
          -0.5798540158672266,
          -1.1122285231351523,
          -0.5505823743314988,
          0.8431979643718024,
          -0.6698833258259573,
          1.4971121025574492,
          0.8110972529880883,
          -1.420772301496858,
          -1.238688195272796,
          0.738641139209335,
          0.30015097358503756,
          0.3857414137896417,
          0.7981149360380709,
          -1.09216358333296,
          -0.09947700731426419,
          -0.9575398718705561,
          -0.7941309017001477,
          0.5013365071315352,
          0.24182198672120908,
          -1.279837031259551,
          0.3465677983280072,
          2.0684845009039283,
          -0.2675234143132672,
          -0.5863391539096587,
          -2.4969552041074654,
          0.2470986876555305,
          1.5518128255305705,
          -0.781453918744178,
          -0.4864350671756053,
          1.7838960390576342,
          1.376521799342055,
          -0.02897847559348279,
          0.48547086276997553,
          1.3450898442841346,
          0.9888210486728403,
          -0.05411332033261771,
          -0.8641544902907613,
          -0.2756638826219286,
          1.5285699283236265,
          1.3448113873888643,
          -1.8769444454648108,
          -0.6671405401337398,
          -0.2922400814776645,
          0.080522552719805,
          -0.2655153357214515,
          0.17443548857794025,
          -0.20220757214113935,
          0.6085444227049939,
          -0.5398965196930543,
          -0.6486043699179436,
          0.07622659494578123,
          -1.1432441394493909,
          0.5117491223277846,
          0.5670963420711427,
          -1.556235182008322,
          2.2459400794950364,
          -0.2604219941766891,
          -1.6823252830735502,
          -2.493101370763733,
          -0.0863347511312303,
          1.443794649564759,
          -0.2011444145719318,
          0.3438950305951134,
          0.2607245037792382,
          0.792122700578744,
          1.7786098266291699,
          0.5352909661118613,
          -0.12294442612489852,
          1.1978976876974878,
          -0.3173406496272341,
          1.0472990438814478,
          0.3146805337346373,
          -0.607084650338605,
          -0.7359566251717335,
          0.4007922748288922,
          1.279517538903847,
          -0.22936483222501214,
          -0.5182994714755288,
          -0.848876107050886,
          -1.3865228467599007,
          0.18180007447279647
         ],
         "xaxis": "x9",
         "y": [
          -2.0801954842530854,
          -1.012248646419635,
          1.3232652327046397,
          1.068653245193722,
          0.4473431505109954,
          -0.09759555331261434,
          0.4913939361288406,
          1.0907412801736536,
          -0.3952692084028424,
          0.9258753944397978,
          -0.7384413445378213,
          -0.31787180989326863,
          0.41700428379960064,
          0.6169563874809506,
          -0.5533118212780033,
          0.10214386353408453,
          -0.3296850142235436,
          1.0750401394967823,
          -0.45381682549475283,
          -0.16858566107054548,
          -1.85526676351296,
          1.0634692881601842,
          1.329723268726233,
          -0.09004064719788596,
          -0.5232441532800234,
          -0.5286476623586482,
          1.56954133362809,
          -0.25445912663840253,
          -0.24977001376546662,
          -0.7070986715272332,
          0.3857937791543105,
          -0.6013806674566733,
          -0.4453684923951969,
          1.1182233093725122,
          -1.2769659479554023,
          -0.5445238324820918,
          0.9990525554096598,
          0.5251609315298159,
          1.5392912526018883,
          -0.971095200299162,
          0.3675167346099236,
          0.16138437344170045,
          0.09746166488436017,
          0.22518220572810532,
          -1.1198076099048129,
          0.005111309652542074,
          0.39279883028651513,
          0.23399425783113573,
          0.11523169380654982,
          -0.12559021266810222,
          -1.0594698680160406,
          -0.7858237911363148,
          0.20117084772193605,
          -1.3251754450583033,
          0.34701632792761405,
          0.3326465503694515,
          1.3194715224871045,
          -0.9469273892058584,
          -1.4525211649807754,
          -0.7930788404805282,
          -0.5487878796047415,
          -0.8338095747373878,
          -0.18458116778035052,
          -1.8898177562650742,
          -0.9305403598408326,
          0.9600402473315202,
          0.5013522684531851,
          0.6964764986781917,
          1.1172290369042306,
          0.7992185353945016,
          -2.2048184120024428,
          -1.2889597505573922,
          0.2505191621450121,
          -1.6319268531335172,
          1.1817131103582106,
          -0.8990547247662171,
          -0.575832744607948,
          0.046390907870445426,
          -0.6227126274050468,
          0.7883913157586375,
          -0.5097836918707317,
          -0.4840801161815726,
          0.13436275960287455,
          -1.2197724595704293,
          0.2081925040015876,
          0.34192791684551804,
          0.49291742382682135,
          0.09201977043119879,
          1.3005200974593913,
          -0.3522452500997659,
          -0.3704964131275352,
          -0.0445344240652476,
          -0.5743768403100804,
          0.057713728297095264,
          -0.12423810305203296,
          -1.161102229440341,
          -0.5857461058902402,
          1.0327550810089714,
          0.5732034677469589,
          -0.66672263760295
         ],
         "yaxis": "y9"
        },
        {
         "line": {
          "color": "rgba(128, 128, 128, 1.0)",
          "dash": "solid",
          "shape": "linear",
          "width": 1.3
         },
         "marker": {
          "size": 2,
          "symbol": "circle"
         },
         "mode": "markers",
         "name": "C",
         "text": "",
         "type": "scatter",
         "x": [
          -0.7305625969818371,
          0.783362976846267,
          -0.6488174141162153,
          -1.379008968011247,
          0.8310618838938229,
          1.1778421647831814,
          0.3084172494654089,
          1.8990195971023394,
          0.10340485577957621,
          0.059026265280790365,
          0.510536253894352,
          -2.1538459076845924,
          0.3174261488262944,
          0.049624395432911424,
          -2.128017053722008,
          0.15190610867356308,
          0.649293489777525,
          0.45449245140423905,
          -0.39329927875529924,
          -0.06602567256010221,
          0.4511054143988493,
          0.5433725229594577,
          0.4233946966960372,
          -2.1635183337437978,
          -0.7067255386231072,
          -0.6177904210856345,
          -0.6595067079822083,
          1.5510904520567041,
          0.9018668632766085,
          0.09947906700423,
          -0.15621592041765242,
          -0.33499138194246636,
          -0.5163408026271186,
          -0.8489613479258857,
          -0.730817422127436,
          -0.4181302913241633,
          0.845253121042682,
          -0.43732468963958265,
          0.8297545496830605,
          0.4800210848145044,
          1.4312458795497929,
          1.4057658280072,
          -0.13507354273338432,
          0.004364059665748205,
          0.4583635381265657,
          -2.765109052598902,
          0.5553148910686933,
          0.8156121041694133,
          -0.8534912680359814,
          -0.3247281718808031,
          -0.914863311548679,
          1.2885918351941394,
          0.1286872852343092,
          0.6769192164148923,
          -1.8215241353716114,
          -0.5550326638024027,
          0.7312939772654433,
          -1.5930312249930805,
          0.5839395041961499,
          1.0132188209501904,
          0.09522232856181102,
          0.2918764830701547,
          -2.078395139709775,
          -0.38883386936591163,
          1.1290584477657903,
          0.22100222469686198,
          -0.5834017170642858,
          -1.021387557059779,
          -0.48027663208344595,
          -1.8273357277855076,
          1.3498770608938466,
          0.40782060463651854,
          0.2042791561113294,
          -0.7512961007936723,
          0.22849117191956678,
          -0.12738404595625513,
          0.14113705734866797,
          -1.530891509798966,
          0.30243572472487723,
          -0.6496718912655635,
          1.4761457105113132,
          -0.07187302243193486,
          0.3426537813081174,
          -1.4463894894521407,
          -1.2550872424839516,
          0.5376639737146628,
          -0.46650538869834624,
          -0.23539958762750904,
          1.3502628301865927,
          1.4552023830979153,
          -0.9402921461767356,
          0.8169931580844604,
          0.17573258156189311,
          1.0799719743407135,
          -0.6885727540285529,
          -0.09289774706664905,
          1.2460258532059068,
          0.9281312404691667,
          0.4666096361580586,
          1.3531035312894115
         ],
         "xaxis": "x10",
         "y": [
          -2.0801954842530854,
          -1.012248646419635,
          1.3232652327046397,
          1.068653245193722,
          0.4473431505109954,
          -0.09759555331261434,
          0.4913939361288406,
          1.0907412801736536,
          -0.3952692084028424,
          0.9258753944397978,
          -0.7384413445378213,
          -0.31787180989326863,
          0.41700428379960064,
          0.6169563874809506,
          -0.5533118212780033,
          0.10214386353408453,
          -0.3296850142235436,
          1.0750401394967823,
          -0.45381682549475283,
          -0.16858566107054548,
          -1.85526676351296,
          1.0634692881601842,
          1.329723268726233,
          -0.09004064719788596,
          -0.5232441532800234,
          -0.5286476623586482,
          1.56954133362809,
          -0.25445912663840253,
          -0.24977001376546662,
          -0.7070986715272332,
          0.3857937791543105,
          -0.6013806674566733,
          -0.4453684923951969,
          1.1182233093725122,
          -1.2769659479554023,
          -0.5445238324820918,
          0.9990525554096598,
          0.5251609315298159,
          1.5392912526018883,
          -0.971095200299162,
          0.3675167346099236,
          0.16138437344170045,
          0.09746166488436017,
          0.22518220572810532,
          -1.1198076099048129,
          0.005111309652542074,
          0.39279883028651513,
          0.23399425783113573,
          0.11523169380654982,
          -0.12559021266810222,
          -1.0594698680160406,
          -0.7858237911363148,
          0.20117084772193605,
          -1.3251754450583033,
          0.34701632792761405,
          0.3326465503694515,
          1.3194715224871045,
          -0.9469273892058584,
          -1.4525211649807754,
          -0.7930788404805282,
          -0.5487878796047415,
          -0.8338095747373878,
          -0.18458116778035052,
          -1.8898177562650742,
          -0.9305403598408326,
          0.9600402473315202,
          0.5013522684531851,
          0.6964764986781917,
          1.1172290369042306,
          0.7992185353945016,
          -2.2048184120024428,
          -1.2889597505573922,
          0.2505191621450121,
          -1.6319268531335172,
          1.1817131103582106,
          -0.8990547247662171,
          -0.575832744607948,
          0.046390907870445426,
          -0.6227126274050468,
          0.7883913157586375,
          -0.5097836918707317,
          -0.4840801161815726,
          0.13436275960287455,
          -1.2197724595704293,
          0.2081925040015876,
          0.34192791684551804,
          0.49291742382682135,
          0.09201977043119879,
          1.3005200974593913,
          -0.3522452500997659,
          -0.3704964131275352,
          -0.0445344240652476,
          -0.5743768403100804,
          0.057713728297095264,
          -0.12423810305203296,
          -1.161102229440341,
          -0.5857461058902402,
          1.0327550810089714,
          0.5732034677469589,
          -0.66672263760295
         ],
         "yaxis": "y10"
        },
        {
         "histfunc": "count",
         "histnorm": "",
         "marker": {
          "color": "rgba(50, 171, 96, 1.0)",
          "line": {
           "color": "#4D5663",
           "width": 1.3
          }
         },
         "name": "C",
         "nbinsx": 10,
         "opacity": 0.8,
         "orientation": "v",
         "type": "histogram",
         "x": [
          -2.0801954842530854,
          -1.012248646419635,
          1.3232652327046397,
          1.068653245193722,
          0.4473431505109954,
          -0.09759555331261434,
          0.4913939361288406,
          1.0907412801736536,
          -0.3952692084028424,
          0.9258753944397978,
          -0.7384413445378213,
          -0.31787180989326863,
          0.41700428379960064,
          0.6169563874809506,
          -0.5533118212780033,
          0.10214386353408453,
          -0.3296850142235436,
          1.0750401394967823,
          -0.45381682549475283,
          -0.16858566107054548,
          -1.85526676351296,
          1.0634692881601842,
          1.329723268726233,
          -0.09004064719788596,
          -0.5232441532800234,
          -0.5286476623586482,
          1.56954133362809,
          -0.25445912663840253,
          -0.24977001376546662,
          -0.7070986715272332,
          0.3857937791543105,
          -0.6013806674566733,
          -0.4453684923951969,
          1.1182233093725122,
          -1.2769659479554023,
          -0.5445238324820918,
          0.9990525554096598,
          0.5251609315298159,
          1.5392912526018883,
          -0.971095200299162,
          0.3675167346099236,
          0.16138437344170045,
          0.09746166488436017,
          0.22518220572810532,
          -1.1198076099048129,
          0.005111309652542074,
          0.39279883028651513,
          0.23399425783113573,
          0.11523169380654982,
          -0.12559021266810222,
          -1.0594698680160406,
          -0.7858237911363148,
          0.20117084772193605,
          -1.3251754450583033,
          0.34701632792761405,
          0.3326465503694515,
          1.3194715224871045,
          -0.9469273892058584,
          -1.4525211649807754,
          -0.7930788404805282,
          -0.5487878796047415,
          -0.8338095747373878,
          -0.18458116778035052,
          -1.8898177562650742,
          -0.9305403598408326,
          0.9600402473315202,
          0.5013522684531851,
          0.6964764986781917,
          1.1172290369042306,
          0.7992185353945016,
          -2.2048184120024428,
          -1.2889597505573922,
          0.2505191621450121,
          -1.6319268531335172,
          1.1817131103582106,
          -0.8990547247662171,
          -0.575832744607948,
          0.046390907870445426,
          -0.6227126274050468,
          0.7883913157586375,
          -0.5097836918707317,
          -0.4840801161815726,
          0.13436275960287455,
          -1.2197724595704293,
          0.2081925040015876,
          0.34192791684551804,
          0.49291742382682135,
          0.09201977043119879,
          1.3005200974593913,
          -0.3522452500997659,
          -0.3704964131275352,
          -0.0445344240652476,
          -0.5743768403100804,
          0.057713728297095264,
          -0.12423810305203296,
          -1.161102229440341,
          -0.5857461058902402,
          1.0327550810089714,
          0.5732034677469589,
          -0.66672263760295
         ],
         "xaxis": "x11",
         "yaxis": "y11"
        },
        {
         "line": {
          "color": "rgba(128, 128, 128, 1.0)",
          "dash": "solid",
          "shape": "linear",
          "width": 1.3
         },
         "marker": {
          "size": 2,
          "symbol": "circle"
         },
         "mode": "markers",
         "name": "C",
         "text": "",
         "type": "scatter",
         "x": [
          -1.6889943276061983,
          -2.160652881430035,
          0.7969173286751591,
          -0.40689200535211484,
          1.1063863317023126,
          0.32587136889469626,
          1.4251924446590751,
          -0.049343482341913554,
          0.9785306319828516,
          0.3771094275577349,
          -0.6853301746631065,
          -0.2914417143453693,
          1.8567027535640652,
          0.38481773482027093,
          -1.167859631205922,
          0.9758959747850864,
          0.8006123176344719,
          -1.5947409809288808,
          -1.6116749594079887,
          1.727215606605738,
          0.4793062714084753,
          0.23227696562282796,
          -0.8111699652442527,
          0.8580603006263023,
          -2.110505442185867,
          -0.7575236466560565,
          0.8171669972107859,
          -0.013421757194777166,
          1.7662025857914379,
          -0.35261289515712557,
          1.079640561165116,
          -0.7445062704238944,
          -0.46963426145434883,
          -1.2359576841608122,
          -1.4618667743241767,
          -0.780915455602358,
          -0.3075388802068042,
          0.5997702843507153,
          0.024773052053056865,
          1.4751266506815628,
          0.6467806287776092,
          -0.3001218548271014,
          1.1870186479845986,
          -0.09868874741332945,
          0.37117461726540174,
          -0.632524468294907,
          0.6582455184587414,
          0.5883642323078896,
          0.6166385866073346,
          -1.0086365117714602,
          0.7209498010512816,
          1.8518676997876742,
          -0.5380555147800582,
          1.4353050142899981,
          -1.6633010766887348,
          -0.06638139914457122,
          0.6647926633745758,
          0.6873425170813442,
          -1.797936163991116,
          -1.4036787270915132,
          0.26853914745105245,
          0.15194493204514142,
          1.0789440777405943,
          0.5615595901447917,
          -0.05027937318893131,
          1.1120240717042713,
          1.0122585162490714,
          -1.832084962805,
          0.1709252479939976,
          0.5953036195998925,
          0.44461255626940366,
          -0.6291055204481256,
          0.44505919105353736,
          -0.43976931296823996,
          2.6300756410925628,
          -0.5501876400864705,
          0.1944042534603992,
          -1.838459404771273,
          1.0424085057541956,
          -1.0683697407131716,
          -0.004356231692863964,
          -1.1667907859048228,
          -1.4777276088855544,
          -0.38077165182966055,
          -0.969872397000942,
          -1.6980841916299279,
          -0.9914198284593434,
          -0.07812601974476405,
          -0.018228681633305915,
          -0.8582119807432321,
          -1.1741105724168293,
          0.7246595371727618,
          -0.10326535703384612,
          -1.4573605358758739,
          -1.6148284344017703,
          -2.7529826573775713,
          -0.9974075876858838,
          -0.5177700007047001,
          -0.21831560048830448,
          -2.1412511489272905
         ],
         "xaxis": "x12",
         "y": [
          -2.0801954842530854,
          -1.012248646419635,
          1.3232652327046397,
          1.068653245193722,
          0.4473431505109954,
          -0.09759555331261434,
          0.4913939361288406,
          1.0907412801736536,
          -0.3952692084028424,
          0.9258753944397978,
          -0.7384413445378213,
          -0.31787180989326863,
          0.41700428379960064,
          0.6169563874809506,
          -0.5533118212780033,
          0.10214386353408453,
          -0.3296850142235436,
          1.0750401394967823,
          -0.45381682549475283,
          -0.16858566107054548,
          -1.85526676351296,
          1.0634692881601842,
          1.329723268726233,
          -0.09004064719788596,
          -0.5232441532800234,
          -0.5286476623586482,
          1.56954133362809,
          -0.25445912663840253,
          -0.24977001376546662,
          -0.7070986715272332,
          0.3857937791543105,
          -0.6013806674566733,
          -0.4453684923951969,
          1.1182233093725122,
          -1.2769659479554023,
          -0.5445238324820918,
          0.9990525554096598,
          0.5251609315298159,
          1.5392912526018883,
          -0.971095200299162,
          0.3675167346099236,
          0.16138437344170045,
          0.09746166488436017,
          0.22518220572810532,
          -1.1198076099048129,
          0.005111309652542074,
          0.39279883028651513,
          0.23399425783113573,
          0.11523169380654982,
          -0.12559021266810222,
          -1.0594698680160406,
          -0.7858237911363148,
          0.20117084772193605,
          -1.3251754450583033,
          0.34701632792761405,
          0.3326465503694515,
          1.3194715224871045,
          -0.9469273892058584,
          -1.4525211649807754,
          -0.7930788404805282,
          -0.5487878796047415,
          -0.8338095747373878,
          -0.18458116778035052,
          -1.8898177562650742,
          -0.9305403598408326,
          0.9600402473315202,
          0.5013522684531851,
          0.6964764986781917,
          1.1172290369042306,
          0.7992185353945016,
          -2.2048184120024428,
          -1.2889597505573922,
          0.2505191621450121,
          -1.6319268531335172,
          1.1817131103582106,
          -0.8990547247662171,
          -0.575832744607948,
          0.046390907870445426,
          -0.6227126274050468,
          0.7883913157586375,
          -0.5097836918707317,
          -0.4840801161815726,
          0.13436275960287455,
          -1.2197724595704293,
          0.2081925040015876,
          0.34192791684551804,
          0.49291742382682135,
          0.09201977043119879,
          1.3005200974593913,
          -0.3522452500997659,
          -0.3704964131275352,
          -0.0445344240652476,
          -0.5743768403100804,
          0.057713728297095264,
          -0.12423810305203296,
          -1.161102229440341,
          -0.5857461058902402,
          1.0327550810089714,
          0.5732034677469589,
          -0.66672263760295
         ],
         "yaxis": "y12"
        },
        {
         "line": {
          "color": "rgba(128, 128, 128, 1.0)",
          "dash": "solid",
          "shape": "linear",
          "width": 1.3
         },
         "marker": {
          "size": 2,
          "symbol": "circle"
         },
         "mode": "markers",
         "name": "D",
         "text": "",
         "type": "scatter",
         "x": [
          -1.0227072602404605,
          1.1091700991385929,
          -1.4993969726670624,
          1.8768911811202638,
          -0.1584068038282462,
          0.5636778234135267,
          1.1643293657731082,
          -2.5453901249124367,
          -2.6995540910248312,
          0.830994313571333,
          -1.468665893590867,
          2.4870167762098214,
          0.5278277847426068,
          -2.2474017579936096,
          0.9392149363934074,
          0.333173802178018,
          -0.2518400271011279,
          0.5699429582714065,
          -0.9394005219839601,
          -0.5798540158672266,
          -1.1122285231351523,
          -0.5505823743314988,
          0.8431979643718024,
          -0.6698833258259573,
          1.4971121025574492,
          0.8110972529880883,
          -1.420772301496858,
          -1.238688195272796,
          0.738641139209335,
          0.30015097358503756,
          0.3857414137896417,
          0.7981149360380709,
          -1.09216358333296,
          -0.09947700731426419,
          -0.9575398718705561,
          -0.7941309017001477,
          0.5013365071315352,
          0.24182198672120908,
          -1.279837031259551,
          0.3465677983280072,
          2.0684845009039283,
          -0.2675234143132672,
          -0.5863391539096587,
          -2.4969552041074654,
          0.2470986876555305,
          1.5518128255305705,
          -0.781453918744178,
          -0.4864350671756053,
          1.7838960390576342,
          1.376521799342055,
          -0.02897847559348279,
          0.48547086276997553,
          1.3450898442841346,
          0.9888210486728403,
          -0.05411332033261771,
          -0.8641544902907613,
          -0.2756638826219286,
          1.5285699283236265,
          1.3448113873888643,
          -1.8769444454648108,
          -0.6671405401337398,
          -0.2922400814776645,
          0.080522552719805,
          -0.2655153357214515,
          0.17443548857794025,
          -0.20220757214113935,
          0.6085444227049939,
          -0.5398965196930543,
          -0.6486043699179436,
          0.07622659494578123,
          -1.1432441394493909,
          0.5117491223277846,
          0.5670963420711427,
          -1.556235182008322,
          2.2459400794950364,
          -0.2604219941766891,
          -1.6823252830735502,
          -2.493101370763733,
          -0.0863347511312303,
          1.443794649564759,
          -0.2011444145719318,
          0.3438950305951134,
          0.2607245037792382,
          0.792122700578744,
          1.7786098266291699,
          0.5352909661118613,
          -0.12294442612489852,
          1.1978976876974878,
          -0.3173406496272341,
          1.0472990438814478,
          0.3146805337346373,
          -0.607084650338605,
          -0.7359566251717335,
          0.4007922748288922,
          1.279517538903847,
          -0.22936483222501214,
          -0.5182994714755288,
          -0.848876107050886,
          -1.3865228467599007,
          0.18180007447279647
         ],
         "xaxis": "x13",
         "y": [
          -1.6889943276061983,
          -2.160652881430035,
          0.7969173286751591,
          -0.40689200535211484,
          1.1063863317023126,
          0.32587136889469626,
          1.4251924446590751,
          -0.049343482341913554,
          0.9785306319828516,
          0.3771094275577349,
          -0.6853301746631065,
          -0.2914417143453693,
          1.8567027535640652,
          0.38481773482027093,
          -1.167859631205922,
          0.9758959747850864,
          0.8006123176344719,
          -1.5947409809288808,
          -1.6116749594079887,
          1.727215606605738,
          0.4793062714084753,
          0.23227696562282796,
          -0.8111699652442527,
          0.8580603006263023,
          -2.110505442185867,
          -0.7575236466560565,
          0.8171669972107859,
          -0.013421757194777166,
          1.7662025857914379,
          -0.35261289515712557,
          1.079640561165116,
          -0.7445062704238944,
          -0.46963426145434883,
          -1.2359576841608122,
          -1.4618667743241767,
          -0.780915455602358,
          -0.3075388802068042,
          0.5997702843507153,
          0.024773052053056865,
          1.4751266506815628,
          0.6467806287776092,
          -0.3001218548271014,
          1.1870186479845986,
          -0.09868874741332945,
          0.37117461726540174,
          -0.632524468294907,
          0.6582455184587414,
          0.5883642323078896,
          0.6166385866073346,
          -1.0086365117714602,
          0.7209498010512816,
          1.8518676997876742,
          -0.5380555147800582,
          1.4353050142899981,
          -1.6633010766887348,
          -0.06638139914457122,
          0.6647926633745758,
          0.6873425170813442,
          -1.797936163991116,
          -1.4036787270915132,
          0.26853914745105245,
          0.15194493204514142,
          1.0789440777405943,
          0.5615595901447917,
          -0.05027937318893131,
          1.1120240717042713,
          1.0122585162490714,
          -1.832084962805,
          0.1709252479939976,
          0.5953036195998925,
          0.44461255626940366,
          -0.6291055204481256,
          0.44505919105353736,
          -0.43976931296823996,
          2.6300756410925628,
          -0.5501876400864705,
          0.1944042534603992,
          -1.838459404771273,
          1.0424085057541956,
          -1.0683697407131716,
          -0.004356231692863964,
          -1.1667907859048228,
          -1.4777276088855544,
          -0.38077165182966055,
          -0.969872397000942,
          -1.6980841916299279,
          -0.9914198284593434,
          -0.07812601974476405,
          -0.018228681633305915,
          -0.8582119807432321,
          -1.1741105724168293,
          0.7246595371727618,
          -0.10326535703384612,
          -1.4573605358758739,
          -1.6148284344017703,
          -2.7529826573775713,
          -0.9974075876858838,
          -0.5177700007047001,
          -0.21831560048830448,
          -2.1412511489272905
         ],
         "yaxis": "y13"
        },
        {
         "line": {
          "color": "rgba(128, 128, 128, 1.0)",
          "dash": "solid",
          "shape": "linear",
          "width": 1.3
         },
         "marker": {
          "size": 2,
          "symbol": "circle"
         },
         "mode": "markers",
         "name": "D",
         "text": "",
         "type": "scatter",
         "x": [
          -0.7305625969818371,
          0.783362976846267,
          -0.6488174141162153,
          -1.379008968011247,
          0.8310618838938229,
          1.1778421647831814,
          0.3084172494654089,
          1.8990195971023394,
          0.10340485577957621,
          0.059026265280790365,
          0.510536253894352,
          -2.1538459076845924,
          0.3174261488262944,
          0.049624395432911424,
          -2.128017053722008,
          0.15190610867356308,
          0.649293489777525,
          0.45449245140423905,
          -0.39329927875529924,
          -0.06602567256010221,
          0.4511054143988493,
          0.5433725229594577,
          0.4233946966960372,
          -2.1635183337437978,
          -0.7067255386231072,
          -0.6177904210856345,
          -0.6595067079822083,
          1.5510904520567041,
          0.9018668632766085,
          0.09947906700423,
          -0.15621592041765242,
          -0.33499138194246636,
          -0.5163408026271186,
          -0.8489613479258857,
          -0.730817422127436,
          -0.4181302913241633,
          0.845253121042682,
          -0.43732468963958265,
          0.8297545496830605,
          0.4800210848145044,
          1.4312458795497929,
          1.4057658280072,
          -0.13507354273338432,
          0.004364059665748205,
          0.4583635381265657,
          -2.765109052598902,
          0.5553148910686933,
          0.8156121041694133,
          -0.8534912680359814,
          -0.3247281718808031,
          -0.914863311548679,
          1.2885918351941394,
          0.1286872852343092,
          0.6769192164148923,
          -1.8215241353716114,
          -0.5550326638024027,
          0.7312939772654433,
          -1.5930312249930805,
          0.5839395041961499,
          1.0132188209501904,
          0.09522232856181102,
          0.2918764830701547,
          -2.078395139709775,
          -0.38883386936591163,
          1.1290584477657903,
          0.22100222469686198,
          -0.5834017170642858,
          -1.021387557059779,
          -0.48027663208344595,
          -1.8273357277855076,
          1.3498770608938466,
          0.40782060463651854,
          0.2042791561113294,
          -0.7512961007936723,
          0.22849117191956678,
          -0.12738404595625513,
          0.14113705734866797,
          -1.530891509798966,
          0.30243572472487723,
          -0.6496718912655635,
          1.4761457105113132,
          -0.07187302243193486,
          0.3426537813081174,
          -1.4463894894521407,
          -1.2550872424839516,
          0.5376639737146628,
          -0.46650538869834624,
          -0.23539958762750904,
          1.3502628301865927,
          1.4552023830979153,
          -0.9402921461767356,
          0.8169931580844604,
          0.17573258156189311,
          1.0799719743407135,
          -0.6885727540285529,
          -0.09289774706664905,
          1.2460258532059068,
          0.9281312404691667,
          0.4666096361580586,
          1.3531035312894115
         ],
         "xaxis": "x14",
         "y": [
          -1.6889943276061983,
          -2.160652881430035,
          0.7969173286751591,
          -0.40689200535211484,
          1.1063863317023126,
          0.32587136889469626,
          1.4251924446590751,
          -0.049343482341913554,
          0.9785306319828516,
          0.3771094275577349,
          -0.6853301746631065,
          -0.2914417143453693,
          1.8567027535640652,
          0.38481773482027093,
          -1.167859631205922,
          0.9758959747850864,
          0.8006123176344719,
          -1.5947409809288808,
          -1.6116749594079887,
          1.727215606605738,
          0.4793062714084753,
          0.23227696562282796,
          -0.8111699652442527,
          0.8580603006263023,
          -2.110505442185867,
          -0.7575236466560565,
          0.8171669972107859,
          -0.013421757194777166,
          1.7662025857914379,
          -0.35261289515712557,
          1.079640561165116,
          -0.7445062704238944,
          -0.46963426145434883,
          -1.2359576841608122,
          -1.4618667743241767,
          -0.780915455602358,
          -0.3075388802068042,
          0.5997702843507153,
          0.024773052053056865,
          1.4751266506815628,
          0.6467806287776092,
          -0.3001218548271014,
          1.1870186479845986,
          -0.09868874741332945,
          0.37117461726540174,
          -0.632524468294907,
          0.6582455184587414,
          0.5883642323078896,
          0.6166385866073346,
          -1.0086365117714602,
          0.7209498010512816,
          1.8518676997876742,
          -0.5380555147800582,
          1.4353050142899981,
          -1.6633010766887348,
          -0.06638139914457122,
          0.6647926633745758,
          0.6873425170813442,
          -1.797936163991116,
          -1.4036787270915132,
          0.26853914745105245,
          0.15194493204514142,
          1.0789440777405943,
          0.5615595901447917,
          -0.05027937318893131,
          1.1120240717042713,
          1.0122585162490714,
          -1.832084962805,
          0.1709252479939976,
          0.5953036195998925,
          0.44461255626940366,
          -0.6291055204481256,
          0.44505919105353736,
          -0.43976931296823996,
          2.6300756410925628,
          -0.5501876400864705,
          0.1944042534603992,
          -1.838459404771273,
          1.0424085057541956,
          -1.0683697407131716,
          -0.004356231692863964,
          -1.1667907859048228,
          -1.4777276088855544,
          -0.38077165182966055,
          -0.969872397000942,
          -1.6980841916299279,
          -0.9914198284593434,
          -0.07812601974476405,
          -0.018228681633305915,
          -0.8582119807432321,
          -1.1741105724168293,
          0.7246595371727618,
          -0.10326535703384612,
          -1.4573605358758739,
          -1.6148284344017703,
          -2.7529826573775713,
          -0.9974075876858838,
          -0.5177700007047001,
          -0.21831560048830448,
          -2.1412511489272905
         ],
         "yaxis": "y14"
        },
        {
         "line": {
          "color": "rgba(128, 128, 128, 1.0)",
          "dash": "solid",
          "shape": "linear",
          "width": 1.3
         },
         "marker": {
          "size": 2,
          "symbol": "circle"
         },
         "mode": "markers",
         "name": "D",
         "text": "",
         "type": "scatter",
         "x": [
          -2.0801954842530854,
          -1.012248646419635,
          1.3232652327046397,
          1.068653245193722,
          0.4473431505109954,
          -0.09759555331261434,
          0.4913939361288406,
          1.0907412801736536,
          -0.3952692084028424,
          0.9258753944397978,
          -0.7384413445378213,
          -0.31787180989326863,
          0.41700428379960064,
          0.6169563874809506,
          -0.5533118212780033,
          0.10214386353408453,
          -0.3296850142235436,
          1.0750401394967823,
          -0.45381682549475283,
          -0.16858566107054548,
          -1.85526676351296,
          1.0634692881601842,
          1.329723268726233,
          -0.09004064719788596,
          -0.5232441532800234,
          -0.5286476623586482,
          1.56954133362809,
          -0.25445912663840253,
          -0.24977001376546662,
          -0.7070986715272332,
          0.3857937791543105,
          -0.6013806674566733,
          -0.4453684923951969,
          1.1182233093725122,
          -1.2769659479554023,
          -0.5445238324820918,
          0.9990525554096598,
          0.5251609315298159,
          1.5392912526018883,
          -0.971095200299162,
          0.3675167346099236,
          0.16138437344170045,
          0.09746166488436017,
          0.22518220572810532,
          -1.1198076099048129,
          0.005111309652542074,
          0.39279883028651513,
          0.23399425783113573,
          0.11523169380654982,
          -0.12559021266810222,
          -1.0594698680160406,
          -0.7858237911363148,
          0.20117084772193605,
          -1.3251754450583033,
          0.34701632792761405,
          0.3326465503694515,
          1.3194715224871045,
          -0.9469273892058584,
          -1.4525211649807754,
          -0.7930788404805282,
          -0.5487878796047415,
          -0.8338095747373878,
          -0.18458116778035052,
          -1.8898177562650742,
          -0.9305403598408326,
          0.9600402473315202,
          0.5013522684531851,
          0.6964764986781917,
          1.1172290369042306,
          0.7992185353945016,
          -2.2048184120024428,
          -1.2889597505573922,
          0.2505191621450121,
          -1.6319268531335172,
          1.1817131103582106,
          -0.8990547247662171,
          -0.575832744607948,
          0.046390907870445426,
          -0.6227126274050468,
          0.7883913157586375,
          -0.5097836918707317,
          -0.4840801161815726,
          0.13436275960287455,
          -1.2197724595704293,
          0.2081925040015876,
          0.34192791684551804,
          0.49291742382682135,
          0.09201977043119879,
          1.3005200974593913,
          -0.3522452500997659,
          -0.3704964131275352,
          -0.0445344240652476,
          -0.5743768403100804,
          0.057713728297095264,
          -0.12423810305203296,
          -1.161102229440341,
          -0.5857461058902402,
          1.0327550810089714,
          0.5732034677469589,
          -0.66672263760295
         ],
         "xaxis": "x15",
         "y": [
          -1.6889943276061983,
          -2.160652881430035,
          0.7969173286751591,
          -0.40689200535211484,
          1.1063863317023126,
          0.32587136889469626,
          1.4251924446590751,
          -0.049343482341913554,
          0.9785306319828516,
          0.3771094275577349,
          -0.6853301746631065,
          -0.2914417143453693,
          1.8567027535640652,
          0.38481773482027093,
          -1.167859631205922,
          0.9758959747850864,
          0.8006123176344719,
          -1.5947409809288808,
          -1.6116749594079887,
          1.727215606605738,
          0.4793062714084753,
          0.23227696562282796,
          -0.8111699652442527,
          0.8580603006263023,
          -2.110505442185867,
          -0.7575236466560565,
          0.8171669972107859,
          -0.013421757194777166,
          1.7662025857914379,
          -0.35261289515712557,
          1.079640561165116,
          -0.7445062704238944,
          -0.46963426145434883,
          -1.2359576841608122,
          -1.4618667743241767,
          -0.780915455602358,
          -0.3075388802068042,
          0.5997702843507153,
          0.024773052053056865,
          1.4751266506815628,
          0.6467806287776092,
          -0.3001218548271014,
          1.1870186479845986,
          -0.09868874741332945,
          0.37117461726540174,
          -0.632524468294907,
          0.6582455184587414,
          0.5883642323078896,
          0.6166385866073346,
          -1.0086365117714602,
          0.7209498010512816,
          1.8518676997876742,
          -0.5380555147800582,
          1.4353050142899981,
          -1.6633010766887348,
          -0.06638139914457122,
          0.6647926633745758,
          0.6873425170813442,
          -1.797936163991116,
          -1.4036787270915132,
          0.26853914745105245,
          0.15194493204514142,
          1.0789440777405943,
          0.5615595901447917,
          -0.05027937318893131,
          1.1120240717042713,
          1.0122585162490714,
          -1.832084962805,
          0.1709252479939976,
          0.5953036195998925,
          0.44461255626940366,
          -0.6291055204481256,
          0.44505919105353736,
          -0.43976931296823996,
          2.6300756410925628,
          -0.5501876400864705,
          0.1944042534603992,
          -1.838459404771273,
          1.0424085057541956,
          -1.0683697407131716,
          -0.004356231692863964,
          -1.1667907859048228,
          -1.4777276088855544,
          -0.38077165182966055,
          -0.969872397000942,
          -1.6980841916299279,
          -0.9914198284593434,
          -0.07812601974476405,
          -0.018228681633305915,
          -0.8582119807432321,
          -1.1741105724168293,
          0.7246595371727618,
          -0.10326535703384612,
          -1.4573605358758739,
          -1.6148284344017703,
          -2.7529826573775713,
          -0.9974075876858838,
          -0.5177700007047001,
          -0.21831560048830448,
          -2.1412511489272905
         ],
         "yaxis": "y15"
        },
        {
         "histfunc": "count",
         "histnorm": "",
         "marker": {
          "color": "rgba(128, 0, 128, 1.0)",
          "line": {
           "color": "#4D5663",
           "width": 1.3
          }
         },
         "name": "D",
         "nbinsx": 10,
         "opacity": 0.8,
         "orientation": "v",
         "type": "histogram",
         "x": [
          -1.6889943276061983,
          -2.160652881430035,
          0.7969173286751591,
          -0.40689200535211484,
          1.1063863317023126,
          0.32587136889469626,
          1.4251924446590751,
          -0.049343482341913554,
          0.9785306319828516,
          0.3771094275577349,
          -0.6853301746631065,
          -0.2914417143453693,
          1.8567027535640652,
          0.38481773482027093,
          -1.167859631205922,
          0.9758959747850864,
          0.8006123176344719,
          -1.5947409809288808,
          -1.6116749594079887,
          1.727215606605738,
          0.4793062714084753,
          0.23227696562282796,
          -0.8111699652442527,
          0.8580603006263023,
          -2.110505442185867,
          -0.7575236466560565,
          0.8171669972107859,
          -0.013421757194777166,
          1.7662025857914379,
          -0.35261289515712557,
          1.079640561165116,
          -0.7445062704238944,
          -0.46963426145434883,
          -1.2359576841608122,
          -1.4618667743241767,
          -0.780915455602358,
          -0.3075388802068042,
          0.5997702843507153,
          0.024773052053056865,
          1.4751266506815628,
          0.6467806287776092,
          -0.3001218548271014,
          1.1870186479845986,
          -0.09868874741332945,
          0.37117461726540174,
          -0.632524468294907,
          0.6582455184587414,
          0.5883642323078896,
          0.6166385866073346,
          -1.0086365117714602,
          0.7209498010512816,
          1.8518676997876742,
          -0.5380555147800582,
          1.4353050142899981,
          -1.6633010766887348,
          -0.06638139914457122,
          0.6647926633745758,
          0.6873425170813442,
          -1.797936163991116,
          -1.4036787270915132,
          0.26853914745105245,
          0.15194493204514142,
          1.0789440777405943,
          0.5615595901447917,
          -0.05027937318893131,
          1.1120240717042713,
          1.0122585162490714,
          -1.832084962805,
          0.1709252479939976,
          0.5953036195998925,
          0.44461255626940366,
          -0.6291055204481256,
          0.44505919105353736,
          -0.43976931296823996,
          2.6300756410925628,
          -0.5501876400864705,
          0.1944042534603992,
          -1.838459404771273,
          1.0424085057541956,
          -1.0683697407131716,
          -0.004356231692863964,
          -1.1667907859048228,
          -1.4777276088855544,
          -0.38077165182966055,
          -0.969872397000942,
          -1.6980841916299279,
          -0.9914198284593434,
          -0.07812601974476405,
          -0.018228681633305915,
          -0.8582119807432321,
          -1.1741105724168293,
          0.7246595371727618,
          -0.10326535703384612,
          -1.4573605358758739,
          -1.6148284344017703,
          -2.7529826573775713,
          -0.9974075876858838,
          -0.5177700007047001,
          -0.21831560048830448,
          -2.1412511489272905
         ],
         "xaxis": "x16",
         "yaxis": "y16"
        }
       ],
       "layout": {
        "bargap": 0.02,
        "legend": {
         "bgcolor": "#F5F6F9",
         "font": {
          "color": "#4D5663"
         }
        },
        "paper_bgcolor": "#F5F6F9",
        "plot_bgcolor": "#F5F6F9",
        "showlegend": false,
        "template": {
         "data": {
          "bar": [
           {
            "error_x": {
             "color": "#2a3f5f"
            },
            "error_y": {
             "color": "#2a3f5f"
            },
            "marker": {
             "line": {
              "color": "#E5ECF6",
              "width": 0.5
             }
            },
            "type": "bar"
           }
          ],
          "barpolar": [
           {
            "marker": {
             "line": {
              "color": "#E5ECF6",
              "width": 0.5
             }
            },
            "type": "barpolar"
           }
          ],
          "carpet": [
           {
            "aaxis": {
             "endlinecolor": "#2a3f5f",
             "gridcolor": "white",
             "linecolor": "white",
             "minorgridcolor": "white",
             "startlinecolor": "#2a3f5f"
            },
            "baxis": {
             "endlinecolor": "#2a3f5f",
             "gridcolor": "white",
             "linecolor": "white",
             "minorgridcolor": "white",
             "startlinecolor": "#2a3f5f"
            },
            "type": "carpet"
           }
          ],
          "choropleth": [
           {
            "colorbar": {
             "outlinewidth": 0,
             "ticks": ""
            },
            "type": "choropleth"
           }
          ],
          "contour": [
           {
            "colorbar": {
             "outlinewidth": 0,
             "ticks": ""
            },
            "colorscale": [
             [
              0,
              "#0d0887"
             ],
             [
              0.1111111111111111,
              "#46039f"
             ],
             [
              0.2222222222222222,
              "#7201a8"
             ],
             [
              0.3333333333333333,
              "#9c179e"
             ],
             [
              0.4444444444444444,
              "#bd3786"
             ],
             [
              0.5555555555555556,
              "#d8576b"
             ],
             [
              0.6666666666666666,
              "#ed7953"
             ],
             [
              0.7777777777777778,
              "#fb9f3a"
             ],
             [
              0.8888888888888888,
              "#fdca26"
             ],
             [
              1,
              "#f0f921"
             ]
            ],
            "type": "contour"
           }
          ],
          "contourcarpet": [
           {
            "colorbar": {
             "outlinewidth": 0,
             "ticks": ""
            },
            "type": "contourcarpet"
           }
          ],
          "heatmap": [
           {
            "colorbar": {
             "outlinewidth": 0,
             "ticks": ""
            },
            "colorscale": [
             [
              0,
              "#0d0887"
             ],
             [
              0.1111111111111111,
              "#46039f"
             ],
             [
              0.2222222222222222,
              "#7201a8"
             ],
             [
              0.3333333333333333,
              "#9c179e"
             ],
             [
              0.4444444444444444,
              "#bd3786"
             ],
             [
              0.5555555555555556,
              "#d8576b"
             ],
             [
              0.6666666666666666,
              "#ed7953"
             ],
             [
              0.7777777777777778,
              "#fb9f3a"
             ],
             [
              0.8888888888888888,
              "#fdca26"
             ],
             [
              1,
              "#f0f921"
             ]
            ],
            "type": "heatmap"
           }
          ],
          "heatmapgl": [
           {
            "colorbar": {
             "outlinewidth": 0,
             "ticks": ""
            },
            "colorscale": [
             [
              0,
              "#0d0887"
             ],
             [
              0.1111111111111111,
              "#46039f"
             ],
             [
              0.2222222222222222,
              "#7201a8"
             ],
             [
              0.3333333333333333,
              "#9c179e"
             ],
             [
              0.4444444444444444,
              "#bd3786"
             ],
             [
              0.5555555555555556,
              "#d8576b"
             ],
             [
              0.6666666666666666,
              "#ed7953"
             ],
             [
              0.7777777777777778,
              "#fb9f3a"
             ],
             [
              0.8888888888888888,
              "#fdca26"
             ],
             [
              1,
              "#f0f921"
             ]
            ],
            "type": "heatmapgl"
           }
          ],
          "histogram": [
           {
            "marker": {
             "colorbar": {
              "outlinewidth": 0,
              "ticks": ""
             }
            },
            "type": "histogram"
           }
          ],
          "histogram2d": [
           {
            "colorbar": {
             "outlinewidth": 0,
             "ticks": ""
            },
            "colorscale": [
             [
              0,
              "#0d0887"
             ],
             [
              0.1111111111111111,
              "#46039f"
             ],
             [
              0.2222222222222222,
              "#7201a8"
             ],
             [
              0.3333333333333333,
              "#9c179e"
             ],
             [
              0.4444444444444444,
              "#bd3786"
             ],
             [
              0.5555555555555556,
              "#d8576b"
             ],
             [
              0.6666666666666666,
              "#ed7953"
             ],
             [
              0.7777777777777778,
              "#fb9f3a"
             ],
             [
              0.8888888888888888,
              "#fdca26"
             ],
             [
              1,
              "#f0f921"
             ]
            ],
            "type": "histogram2d"
           }
          ],
          "histogram2dcontour": [
           {
            "colorbar": {
             "outlinewidth": 0,
             "ticks": ""
            },
            "colorscale": [
             [
              0,
              "#0d0887"
             ],
             [
              0.1111111111111111,
              "#46039f"
             ],
             [
              0.2222222222222222,
              "#7201a8"
             ],
             [
              0.3333333333333333,
              "#9c179e"
             ],
             [
              0.4444444444444444,
              "#bd3786"
             ],
             [
              0.5555555555555556,
              "#d8576b"
             ],
             [
              0.6666666666666666,
              "#ed7953"
             ],
             [
              0.7777777777777778,
              "#fb9f3a"
             ],
             [
              0.8888888888888888,
              "#fdca26"
             ],
             [
              1,
              "#f0f921"
             ]
            ],
            "type": "histogram2dcontour"
           }
          ],
          "mesh3d": [
           {
            "colorbar": {
             "outlinewidth": 0,
             "ticks": ""
            },
            "type": "mesh3d"
           }
          ],
          "parcoords": [
           {
            "line": {
             "colorbar": {
              "outlinewidth": 0,
              "ticks": ""
             }
            },
            "type": "parcoords"
           }
          ],
          "pie": [
           {
            "automargin": true,
            "type": "pie"
           }
          ],
          "scatter": [
           {
            "marker": {
             "colorbar": {
              "outlinewidth": 0,
              "ticks": ""
             }
            },
            "type": "scatter"
           }
          ],
          "scatter3d": [
           {
            "line": {
             "colorbar": {
              "outlinewidth": 0,
              "ticks": ""
             }
            },
            "marker": {
             "colorbar": {
              "outlinewidth": 0,
              "ticks": ""
             }
            },
            "type": "scatter3d"
           }
          ],
          "scattercarpet": [
           {
            "marker": {
             "colorbar": {
              "outlinewidth": 0,
              "ticks": ""
             }
            },
            "type": "scattercarpet"
           }
          ],
          "scattergeo": [
           {
            "marker": {
             "colorbar": {
              "outlinewidth": 0,
              "ticks": ""
             }
            },
            "type": "scattergeo"
           }
          ],
          "scattergl": [
           {
            "marker": {
             "colorbar": {
              "outlinewidth": 0,
              "ticks": ""
             }
            },
            "type": "scattergl"
           }
          ],
          "scattermapbox": [
           {
            "marker": {
             "colorbar": {
              "outlinewidth": 0,
              "ticks": ""
             }
            },
            "type": "scattermapbox"
           }
          ],
          "scatterpolar": [
           {
            "marker": {
             "colorbar": {
              "outlinewidth": 0,
              "ticks": ""
             }
            },
            "type": "scatterpolar"
           }
          ],
          "scatterpolargl": [
           {
            "marker": {
             "colorbar": {
              "outlinewidth": 0,
              "ticks": ""
             }
            },
            "type": "scatterpolargl"
           }
          ],
          "scatterternary": [
           {
            "marker": {
             "colorbar": {
              "outlinewidth": 0,
              "ticks": ""
             }
            },
            "type": "scatterternary"
           }
          ],
          "surface": [
           {
            "colorbar": {
             "outlinewidth": 0,
             "ticks": ""
            },
            "colorscale": [
             [
              0,
              "#0d0887"
             ],
             [
              0.1111111111111111,
              "#46039f"
             ],
             [
              0.2222222222222222,
              "#7201a8"
             ],
             [
              0.3333333333333333,
              "#9c179e"
             ],
             [
              0.4444444444444444,
              "#bd3786"
             ],
             [
              0.5555555555555556,
              "#d8576b"
             ],
             [
              0.6666666666666666,
              "#ed7953"
             ],
             [
              0.7777777777777778,
              "#fb9f3a"
             ],
             [
              0.8888888888888888,
              "#fdca26"
             ],
             [
              1,
              "#f0f921"
             ]
            ],
            "type": "surface"
           }
          ],
          "table": [
           {
            "cells": {
             "fill": {
              "color": "#EBF0F8"
             },
             "line": {
              "color": "white"
             }
            },
            "header": {
             "fill": {
              "color": "#C8D4E3"
             },
             "line": {
              "color": "white"
             }
            },
            "type": "table"
           }
          ]
         },
         "layout": {
          "annotationdefaults": {
           "arrowcolor": "#2a3f5f",
           "arrowhead": 0,
           "arrowwidth": 1
          },
          "coloraxis": {
           "colorbar": {
            "outlinewidth": 0,
            "ticks": ""
           }
          },
          "colorscale": {
           "diverging": [
            [
             0,
             "#8e0152"
            ],
            [
             0.1,
             "#c51b7d"
            ],
            [
             0.2,
             "#de77ae"
            ],
            [
             0.3,
             "#f1b6da"
            ],
            [
             0.4,
             "#fde0ef"
            ],
            [
             0.5,
             "#f7f7f7"
            ],
            [
             0.6,
             "#e6f5d0"
            ],
            [
             0.7,
             "#b8e186"
            ],
            [
             0.8,
             "#7fbc41"
            ],
            [
             0.9,
             "#4d9221"
            ],
            [
             1,
             "#276419"
            ]
           ],
           "sequential": [
            [
             0,
             "#0d0887"
            ],
            [
             0.1111111111111111,
             "#46039f"
            ],
            [
             0.2222222222222222,
             "#7201a8"
            ],
            [
             0.3333333333333333,
             "#9c179e"
            ],
            [
             0.4444444444444444,
             "#bd3786"
            ],
            [
             0.5555555555555556,
             "#d8576b"
            ],
            [
             0.6666666666666666,
             "#ed7953"
            ],
            [
             0.7777777777777778,
             "#fb9f3a"
            ],
            [
             0.8888888888888888,
             "#fdca26"
            ],
            [
             1,
             "#f0f921"
            ]
           ],
           "sequentialminus": [
            [
             0,
             "#0d0887"
            ],
            [
             0.1111111111111111,
             "#46039f"
            ],
            [
             0.2222222222222222,
             "#7201a8"
            ],
            [
             0.3333333333333333,
             "#9c179e"
            ],
            [
             0.4444444444444444,
             "#bd3786"
            ],
            [
             0.5555555555555556,
             "#d8576b"
            ],
            [
             0.6666666666666666,
             "#ed7953"
            ],
            [
             0.7777777777777778,
             "#fb9f3a"
            ],
            [
             0.8888888888888888,
             "#fdca26"
            ],
            [
             1,
             "#f0f921"
            ]
           ]
          },
          "colorway": [
           "#636efa",
           "#EF553B",
           "#00cc96",
           "#ab63fa",
           "#FFA15A",
           "#19d3f3",
           "#FF6692",
           "#B6E880",
           "#FF97FF",
           "#FECB52"
          ],
          "font": {
           "color": "#2a3f5f"
          },
          "geo": {
           "bgcolor": "white",
           "lakecolor": "white",
           "landcolor": "#E5ECF6",
           "showlakes": true,
           "showland": true,
           "subunitcolor": "white"
          },
          "hoverlabel": {
           "align": "left"
          },
          "hovermode": "closest",
          "mapbox": {
           "style": "light"
          },
          "paper_bgcolor": "white",
          "plot_bgcolor": "#E5ECF6",
          "polar": {
           "angularaxis": {
            "gridcolor": "white",
            "linecolor": "white",
            "ticks": ""
           },
           "bgcolor": "#E5ECF6",
           "radialaxis": {
            "gridcolor": "white",
            "linecolor": "white",
            "ticks": ""
           }
          },
          "scene": {
           "xaxis": {
            "backgroundcolor": "#E5ECF6",
            "gridcolor": "white",
            "gridwidth": 2,
            "linecolor": "white",
            "showbackground": true,
            "ticks": "",
            "zerolinecolor": "white"
           },
           "yaxis": {
            "backgroundcolor": "#E5ECF6",
            "gridcolor": "white",
            "gridwidth": 2,
            "linecolor": "white",
            "showbackground": true,
            "ticks": "",
            "zerolinecolor": "white"
           },
           "zaxis": {
            "backgroundcolor": "#E5ECF6",
            "gridcolor": "white",
            "gridwidth": 2,
            "linecolor": "white",
            "showbackground": true,
            "ticks": "",
            "zerolinecolor": "white"
           }
          },
          "shapedefaults": {
           "line": {
            "color": "#2a3f5f"
           }
          },
          "ternary": {
           "aaxis": {
            "gridcolor": "white",
            "linecolor": "white",
            "ticks": ""
           },
           "baxis": {
            "gridcolor": "white",
            "linecolor": "white",
            "ticks": ""
           },
           "bgcolor": "#E5ECF6",
           "caxis": {
            "gridcolor": "white",
            "linecolor": "white",
            "ticks": ""
           }
          },
          "title": {
           "x": 0.05
          },
          "xaxis": {
           "automargin": true,
           "gridcolor": "white",
           "linecolor": "white",
           "ticks": "",
           "title": {
            "standoff": 15
           },
           "zerolinecolor": "white",
           "zerolinewidth": 2
          },
          "yaxis": {
           "automargin": true,
           "gridcolor": "white",
           "linecolor": "white",
           "ticks": "",
           "title": {
            "standoff": 15
           },
           "zerolinecolor": "white",
           "zerolinewidth": 2
          }
         }
        },
        "title": {
         "font": {
          "color": "#4D5663"
         }
        },
        "xaxis": {
         "anchor": "y",
         "domain": [
          0,
          0.2125
         ],
         "gridcolor": "#E1E5ED",
         "showgrid": false,
         "tickfont": {
          "color": "#4D5663"
         },
         "title": {
          "font": {
           "color": "#4D5663"
          },
          "text": ""
         },
         "zerolinecolor": "#E1E5ED"
        },
        "xaxis10": {
         "anchor": "y10",
         "domain": [
          0.2625,
          0.475
         ],
         "gridcolor": "#E1E5ED",
         "showgrid": false,
         "tickfont": {
          "color": "#4D5663"
         },
         "title": {
          "font": {
           "color": "#4D5663"
          },
          "text": ""
         },
         "zerolinecolor": "#E1E5ED"
        },
        "xaxis11": {
         "anchor": "y11",
         "domain": [
          0.525,
          0.7375
         ],
         "gridcolor": "#E1E5ED",
         "showgrid": false,
         "tickfont": {
          "color": "#4D5663"
         },
         "title": {
          "font": {
           "color": "#4D5663"
          },
          "text": ""
         },
         "zerolinecolor": "#E1E5ED"
        },
        "xaxis12": {
         "anchor": "y12",
         "domain": [
          0.7875,
          1
         ],
         "gridcolor": "#E1E5ED",
         "showgrid": false,
         "tickfont": {
          "color": "#4D5663"
         },
         "title": {
          "font": {
           "color": "#4D5663"
          },
          "text": ""
         },
         "zerolinecolor": "#E1E5ED"
        },
        "xaxis13": {
         "anchor": "y13",
         "domain": [
          0,
          0.2125
         ],
         "gridcolor": "#E1E5ED",
         "showgrid": false,
         "tickfont": {
          "color": "#4D5663"
         },
         "title": {
          "font": {
           "color": "#4D5663"
          },
          "text": ""
         },
         "zerolinecolor": "#E1E5ED"
        },
        "xaxis14": {
         "anchor": "y14",
         "domain": [
          0.2625,
          0.475
         ],
         "gridcolor": "#E1E5ED",
         "showgrid": false,
         "tickfont": {
          "color": "#4D5663"
         },
         "title": {
          "font": {
           "color": "#4D5663"
          },
          "text": ""
         },
         "zerolinecolor": "#E1E5ED"
        },
        "xaxis15": {
         "anchor": "y15",
         "domain": [
          0.525,
          0.7375
         ],
         "gridcolor": "#E1E5ED",
         "showgrid": false,
         "tickfont": {
          "color": "#4D5663"
         },
         "title": {
          "font": {
           "color": "#4D5663"
          },
          "text": ""
         },
         "zerolinecolor": "#E1E5ED"
        },
        "xaxis16": {
         "anchor": "y16",
         "domain": [
          0.7875,
          1
         ],
         "gridcolor": "#E1E5ED",
         "showgrid": false,
         "tickfont": {
          "color": "#4D5663"
         },
         "title": {
          "font": {
           "color": "#4D5663"
          },
          "text": ""
         },
         "zerolinecolor": "#E1E5ED"
        },
        "xaxis2": {
         "anchor": "y2",
         "domain": [
          0.2625,
          0.475
         ],
         "gridcolor": "#E1E5ED",
         "showgrid": false,
         "tickfont": {
          "color": "#4D5663"
         },
         "title": {
          "font": {
           "color": "#4D5663"
          },
          "text": ""
         },
         "zerolinecolor": "#E1E5ED"
        },
        "xaxis3": {
         "anchor": "y3",
         "domain": [
          0.525,
          0.7375
         ],
         "gridcolor": "#E1E5ED",
         "showgrid": false,
         "tickfont": {
          "color": "#4D5663"
         },
         "title": {
          "font": {
           "color": "#4D5663"
          },
          "text": ""
         },
         "zerolinecolor": "#E1E5ED"
        },
        "xaxis4": {
         "anchor": "y4",
         "domain": [
          0.7875,
          1
         ],
         "gridcolor": "#E1E5ED",
         "showgrid": false,
         "tickfont": {
          "color": "#4D5663"
         },
         "title": {
          "font": {
           "color": "#4D5663"
          },
          "text": ""
         },
         "zerolinecolor": "#E1E5ED"
        },
        "xaxis5": {
         "anchor": "y5",
         "domain": [
          0,
          0.2125
         ],
         "gridcolor": "#E1E5ED",
         "showgrid": false,
         "tickfont": {
          "color": "#4D5663"
         },
         "title": {
          "font": {
           "color": "#4D5663"
          },
          "text": ""
         },
         "zerolinecolor": "#E1E5ED"
        },
        "xaxis6": {
         "anchor": "y6",
         "domain": [
          0.2625,
          0.475
         ],
         "gridcolor": "#E1E5ED",
         "showgrid": false,
         "tickfont": {
          "color": "#4D5663"
         },
         "title": {
          "font": {
           "color": "#4D5663"
          },
          "text": ""
         },
         "zerolinecolor": "#E1E5ED"
        },
        "xaxis7": {
         "anchor": "y7",
         "domain": [
          0.525,
          0.7375
         ],
         "gridcolor": "#E1E5ED",
         "showgrid": false,
         "tickfont": {
          "color": "#4D5663"
         },
         "title": {
          "font": {
           "color": "#4D5663"
          },
          "text": ""
         },
         "zerolinecolor": "#E1E5ED"
        },
        "xaxis8": {
         "anchor": "y8",
         "domain": [
          0.7875,
          1
         ],
         "gridcolor": "#E1E5ED",
         "showgrid": false,
         "tickfont": {
          "color": "#4D5663"
         },
         "title": {
          "font": {
           "color": "#4D5663"
          },
          "text": ""
         },
         "zerolinecolor": "#E1E5ED"
        },
        "xaxis9": {
         "anchor": "y9",
         "domain": [
          0,
          0.2125
         ],
         "gridcolor": "#E1E5ED",
         "showgrid": false,
         "tickfont": {
          "color": "#4D5663"
         },
         "title": {
          "font": {
           "color": "#4D5663"
          },
          "text": ""
         },
         "zerolinecolor": "#E1E5ED"
        },
        "yaxis": {
         "anchor": "x",
         "domain": [
          0.8025,
          1
         ],
         "gridcolor": "#E1E5ED",
         "showgrid": false,
         "tickfont": {
          "color": "#4D5663"
         },
         "title": {
          "font": {
           "color": "#4D5663"
          },
          "text": ""
         },
         "zerolinecolor": "#E1E5ED"
        },
        "yaxis10": {
         "anchor": "x10",
         "domain": [
          0.2675,
          0.465
         ],
         "gridcolor": "#E1E5ED",
         "showgrid": false,
         "tickfont": {
          "color": "#4D5663"
         },
         "title": {
          "font": {
           "color": "#4D5663"
          },
          "text": ""
         },
         "zerolinecolor": "#E1E5ED"
        },
        "yaxis11": {
         "anchor": "x11",
         "domain": [
          0.2675,
          0.465
         ],
         "gridcolor": "#E1E5ED",
         "showgrid": false,
         "tickfont": {
          "color": "#4D5663"
         },
         "title": {
          "font": {
           "color": "#4D5663"
          },
          "text": ""
         },
         "zerolinecolor": "#E1E5ED"
        },
        "yaxis12": {
         "anchor": "x12",
         "domain": [
          0.2675,
          0.465
         ],
         "gridcolor": "#E1E5ED",
         "showgrid": false,
         "tickfont": {
          "color": "#4D5663"
         },
         "title": {
          "font": {
           "color": "#4D5663"
          },
          "text": ""
         },
         "zerolinecolor": "#E1E5ED"
        },
        "yaxis13": {
         "anchor": "x13",
         "domain": [
          0,
          0.1975
         ],
         "gridcolor": "#E1E5ED",
         "showgrid": false,
         "tickfont": {
          "color": "#4D5663"
         },
         "title": {
          "font": {
           "color": "#4D5663"
          },
          "text": ""
         },
         "zerolinecolor": "#E1E5ED"
        },
        "yaxis14": {
         "anchor": "x14",
         "domain": [
          0,
          0.1975
         ],
         "gridcolor": "#E1E5ED",
         "showgrid": false,
         "tickfont": {
          "color": "#4D5663"
         },
         "title": {
          "font": {
           "color": "#4D5663"
          },
          "text": ""
         },
         "zerolinecolor": "#E1E5ED"
        },
        "yaxis15": {
         "anchor": "x15",
         "domain": [
          0,
          0.1975
         ],
         "gridcolor": "#E1E5ED",
         "showgrid": false,
         "tickfont": {
          "color": "#4D5663"
         },
         "title": {
          "font": {
           "color": "#4D5663"
          },
          "text": ""
         },
         "zerolinecolor": "#E1E5ED"
        },
        "yaxis16": {
         "anchor": "x16",
         "domain": [
          0,
          0.1975
         ],
         "gridcolor": "#E1E5ED",
         "showgrid": false,
         "tickfont": {
          "color": "#4D5663"
         },
         "title": {
          "font": {
           "color": "#4D5663"
          },
          "text": ""
         },
         "zerolinecolor": "#E1E5ED"
        },
        "yaxis2": {
         "anchor": "x2",
         "domain": [
          0.8025,
          1
         ],
         "gridcolor": "#E1E5ED",
         "showgrid": false,
         "tickfont": {
          "color": "#4D5663"
         },
         "title": {
          "font": {
           "color": "#4D5663"
          },
          "text": ""
         },
         "zerolinecolor": "#E1E5ED"
        },
        "yaxis3": {
         "anchor": "x3",
         "domain": [
          0.8025,
          1
         ],
         "gridcolor": "#E1E5ED",
         "showgrid": false,
         "tickfont": {
          "color": "#4D5663"
         },
         "title": {
          "font": {
           "color": "#4D5663"
          },
          "text": ""
         },
         "zerolinecolor": "#E1E5ED"
        },
        "yaxis4": {
         "anchor": "x4",
         "domain": [
          0.8025,
          1
         ],
         "gridcolor": "#E1E5ED",
         "showgrid": false,
         "tickfont": {
          "color": "#4D5663"
         },
         "title": {
          "font": {
           "color": "#4D5663"
          },
          "text": ""
         },
         "zerolinecolor": "#E1E5ED"
        },
        "yaxis5": {
         "anchor": "x5",
         "domain": [
          0.535,
          0.7325
         ],
         "gridcolor": "#E1E5ED",
         "showgrid": false,
         "tickfont": {
          "color": "#4D5663"
         },
         "title": {
          "font": {
           "color": "#4D5663"
          },
          "text": ""
         },
         "zerolinecolor": "#E1E5ED"
        },
        "yaxis6": {
         "anchor": "x6",
         "domain": [
          0.535,
          0.7325
         ],
         "gridcolor": "#E1E5ED",
         "showgrid": false,
         "tickfont": {
          "color": "#4D5663"
         },
         "title": {
          "font": {
           "color": "#4D5663"
          },
          "text": ""
         },
         "zerolinecolor": "#E1E5ED"
        },
        "yaxis7": {
         "anchor": "x7",
         "domain": [
          0.535,
          0.7325
         ],
         "gridcolor": "#E1E5ED",
         "showgrid": false,
         "tickfont": {
          "color": "#4D5663"
         },
         "title": {
          "font": {
           "color": "#4D5663"
          },
          "text": ""
         },
         "zerolinecolor": "#E1E5ED"
        },
        "yaxis8": {
         "anchor": "x8",
         "domain": [
          0.535,
          0.7325
         ],
         "gridcolor": "#E1E5ED",
         "showgrid": false,
         "tickfont": {
          "color": "#4D5663"
         },
         "title": {
          "font": {
           "color": "#4D5663"
          },
          "text": ""
         },
         "zerolinecolor": "#E1E5ED"
        },
        "yaxis9": {
         "anchor": "x9",
         "domain": [
          0.2675,
          0.465
         ],
         "gridcolor": "#E1E5ED",
         "showgrid": false,
         "tickfont": {
          "color": "#4D5663"
         },
         "title": {
          "font": {
           "color": "#4D5663"
          },
          "text": ""
         },
         "zerolinecolor": "#E1E5ED"
        }
       }
      },
      "text/html": [
       "<div>\n",
       "        \n",
       "        \n",
       "            <div id=\"4c5e5cc7-094f-44a5-ad07-095c817c77ea\" class=\"plotly-graph-div\" style=\"height:525px; width:100%;\"></div>\n",
       "            <script type=\"text/javascript\">\n",
       "                require([\"plotly\"], function(Plotly) {\n",
       "                    window.PLOTLYENV=window.PLOTLYENV || {};\n",
       "                    window.PLOTLYENV.BASE_URL='https://plot.ly';\n",
       "                    \n",
       "                if (document.getElementById(\"4c5e5cc7-094f-44a5-ad07-095c817c77ea\")) {\n",
       "                    Plotly.newPlot(\n",
       "                        '4c5e5cc7-094f-44a5-ad07-095c817c77ea',\n",
       "                        [{\"histfunc\": \"count\", \"histnorm\": \"\", \"marker\": {\"color\": \"rgba(255, 153, 51, 1.0)\", \"line\": {\"color\": \"#4D5663\", \"width\": 1.3}}, \"name\": \"A\", \"nbinsx\": 10, \"opacity\": 0.8, \"orientation\": \"v\", \"type\": \"histogram\", \"x\": [-1.0227072602404605, 1.1091700991385929, -1.4993969726670624, 1.8768911811202638, -0.1584068038282462, 0.5636778234135267, 1.1643293657731082, -2.5453901249124367, -2.6995540910248312, 0.830994313571333, -1.468665893590867, 2.4870167762098214, 0.5278277847426068, -2.2474017579936096, 0.9392149363934074, 0.333173802178018, -0.2518400271011279, 0.5699429582714065, -0.9394005219839601, -0.5798540158672266, -1.1122285231351523, -0.5505823743314988, 0.8431979643718024, -0.6698833258259573, 1.4971121025574492, 0.8110972529880883, -1.420772301496858, -1.238688195272796, 0.738641139209335, 0.30015097358503756, 0.3857414137896417, 0.7981149360380709, -1.09216358333296, -0.09947700731426419, -0.9575398718705561, -0.7941309017001477, 0.5013365071315352, 0.24182198672120908, -1.279837031259551, 0.3465677983280072, 2.0684845009039283, -0.2675234143132672, -0.5863391539096587, -2.4969552041074654, 0.2470986876555305, 1.5518128255305705, -0.781453918744178, -0.4864350671756053, 1.7838960390576342, 1.376521799342055, -0.02897847559348279, 0.48547086276997553, 1.3450898442841346, 0.9888210486728403, -0.05411332033261771, -0.8641544902907613, -0.2756638826219286, 1.5285699283236265, 1.3448113873888643, -1.8769444454648108, -0.6671405401337398, -0.2922400814776645, 0.080522552719805, -0.2655153357214515, 0.17443548857794025, -0.20220757214113935, 0.6085444227049939, -0.5398965196930543, -0.6486043699179436, 0.07622659494578123, -1.1432441394493909, 0.5117491223277846, 0.5670963420711427, -1.556235182008322, 2.2459400794950364, -0.2604219941766891, -1.6823252830735502, -2.493101370763733, -0.0863347511312303, 1.443794649564759, -0.2011444145719318, 0.3438950305951134, 0.2607245037792382, 0.792122700578744, 1.7786098266291699, 0.5352909661118613, -0.12294442612489852, 1.1978976876974878, -0.3173406496272341, 1.0472990438814478, 0.3146805337346373, -0.607084650338605, -0.7359566251717335, 0.4007922748288922, 1.279517538903847, -0.22936483222501214, -0.5182994714755288, -0.848876107050886, -1.3865228467599007, 0.18180007447279647], \"xaxis\": \"x\", \"yaxis\": \"y\"}, {\"line\": {\"color\": \"rgba(128, 128, 128, 1.0)\", \"dash\": \"solid\", \"shape\": \"linear\", \"width\": 1.3}, \"marker\": {\"size\": 2, \"symbol\": \"circle\"}, \"mode\": \"markers\", \"name\": \"A\", \"text\": \"\", \"type\": \"scatter\", \"x\": [-0.7305625969818371, 0.783362976846267, -0.6488174141162153, -1.379008968011247, 0.8310618838938229, 1.1778421647831814, 0.3084172494654089, 1.8990195971023394, 0.10340485577957621, 0.059026265280790365, 0.510536253894352, -2.1538459076845924, 0.3174261488262944, 0.049624395432911424, -2.128017053722008, 0.15190610867356308, 0.649293489777525, 0.45449245140423905, -0.39329927875529924, -0.06602567256010221, 0.4511054143988493, 0.5433725229594577, 0.4233946966960372, -2.1635183337437978, -0.7067255386231072, -0.6177904210856345, -0.6595067079822083, 1.5510904520567041, 0.9018668632766085, 0.09947906700423, -0.15621592041765242, -0.33499138194246636, -0.5163408026271186, -0.8489613479258857, -0.730817422127436, -0.4181302913241633, 0.845253121042682, -0.43732468963958265, 0.8297545496830605, 0.4800210848145044, 1.4312458795497929, 1.4057658280072, -0.13507354273338432, 0.004364059665748205, 0.4583635381265657, -2.765109052598902, 0.5553148910686933, 0.8156121041694133, -0.8534912680359814, -0.3247281718808031, -0.914863311548679, 1.2885918351941394, 0.1286872852343092, 0.6769192164148923, -1.8215241353716114, -0.5550326638024027, 0.7312939772654433, -1.5930312249930805, 0.5839395041961499, 1.0132188209501904, 0.09522232856181102, 0.2918764830701547, -2.078395139709775, -0.38883386936591163, 1.1290584477657903, 0.22100222469686198, -0.5834017170642858, -1.021387557059779, -0.48027663208344595, -1.8273357277855076, 1.3498770608938466, 0.40782060463651854, 0.2042791561113294, -0.7512961007936723, 0.22849117191956678, -0.12738404595625513, 0.14113705734866797, -1.530891509798966, 0.30243572472487723, -0.6496718912655635, 1.4761457105113132, -0.07187302243193486, 0.3426537813081174, -1.4463894894521407, -1.2550872424839516, 0.5376639737146628, -0.46650538869834624, -0.23539958762750904, 1.3502628301865927, 1.4552023830979153, -0.9402921461767356, 0.8169931580844604, 0.17573258156189311, 1.0799719743407135, -0.6885727540285529, -0.09289774706664905, 1.2460258532059068, 0.9281312404691667, 0.4666096361580586, 1.3531035312894115], \"xaxis\": \"x2\", \"y\": [-1.0227072602404605, 1.1091700991385929, -1.4993969726670624, 1.8768911811202638, -0.1584068038282462, 0.5636778234135267, 1.1643293657731082, -2.5453901249124367, -2.6995540910248312, 0.830994313571333, -1.468665893590867, 2.4870167762098214, 0.5278277847426068, -2.2474017579936096, 0.9392149363934074, 0.333173802178018, -0.2518400271011279, 0.5699429582714065, -0.9394005219839601, -0.5798540158672266, -1.1122285231351523, -0.5505823743314988, 0.8431979643718024, -0.6698833258259573, 1.4971121025574492, 0.8110972529880883, -1.420772301496858, -1.238688195272796, 0.738641139209335, 0.30015097358503756, 0.3857414137896417, 0.7981149360380709, -1.09216358333296, -0.09947700731426419, -0.9575398718705561, -0.7941309017001477, 0.5013365071315352, 0.24182198672120908, -1.279837031259551, 0.3465677983280072, 2.0684845009039283, -0.2675234143132672, -0.5863391539096587, -2.4969552041074654, 0.2470986876555305, 1.5518128255305705, -0.781453918744178, -0.4864350671756053, 1.7838960390576342, 1.376521799342055, -0.02897847559348279, 0.48547086276997553, 1.3450898442841346, 0.9888210486728403, -0.05411332033261771, -0.8641544902907613, -0.2756638826219286, 1.5285699283236265, 1.3448113873888643, -1.8769444454648108, -0.6671405401337398, -0.2922400814776645, 0.080522552719805, -0.2655153357214515, 0.17443548857794025, -0.20220757214113935, 0.6085444227049939, -0.5398965196930543, -0.6486043699179436, 0.07622659494578123, -1.1432441394493909, 0.5117491223277846, 0.5670963420711427, -1.556235182008322, 2.2459400794950364, -0.2604219941766891, -1.6823252830735502, -2.493101370763733, -0.0863347511312303, 1.443794649564759, -0.2011444145719318, 0.3438950305951134, 0.2607245037792382, 0.792122700578744, 1.7786098266291699, 0.5352909661118613, -0.12294442612489852, 1.1978976876974878, -0.3173406496272341, 1.0472990438814478, 0.3146805337346373, -0.607084650338605, -0.7359566251717335, 0.4007922748288922, 1.279517538903847, -0.22936483222501214, -0.5182994714755288, -0.848876107050886, -1.3865228467599007, 0.18180007447279647], \"yaxis\": \"y2\"}, {\"line\": {\"color\": \"rgba(128, 128, 128, 1.0)\", \"dash\": \"solid\", \"shape\": \"linear\", \"width\": 1.3}, \"marker\": {\"size\": 2, \"symbol\": \"circle\"}, \"mode\": \"markers\", \"name\": \"A\", \"text\": \"\", \"type\": \"scatter\", \"x\": [-2.0801954842530854, -1.012248646419635, 1.3232652327046397, 1.068653245193722, 0.4473431505109954, -0.09759555331261434, 0.4913939361288406, 1.0907412801736536, -0.3952692084028424, 0.9258753944397978, -0.7384413445378213, -0.31787180989326863, 0.41700428379960064, 0.6169563874809506, -0.5533118212780033, 0.10214386353408453, -0.3296850142235436, 1.0750401394967823, -0.45381682549475283, -0.16858566107054548, -1.85526676351296, 1.0634692881601842, 1.329723268726233, -0.09004064719788596, -0.5232441532800234, -0.5286476623586482, 1.56954133362809, -0.25445912663840253, -0.24977001376546662, -0.7070986715272332, 0.3857937791543105, -0.6013806674566733, -0.4453684923951969, 1.1182233093725122, -1.2769659479554023, -0.5445238324820918, 0.9990525554096598, 0.5251609315298159, 1.5392912526018883, -0.971095200299162, 0.3675167346099236, 0.16138437344170045, 0.09746166488436017, 0.22518220572810532, -1.1198076099048129, 0.005111309652542074, 0.39279883028651513, 0.23399425783113573, 0.11523169380654982, -0.12559021266810222, -1.0594698680160406, -0.7858237911363148, 0.20117084772193605, -1.3251754450583033, 0.34701632792761405, 0.3326465503694515, 1.3194715224871045, -0.9469273892058584, -1.4525211649807754, -0.7930788404805282, -0.5487878796047415, -0.8338095747373878, -0.18458116778035052, -1.8898177562650742, -0.9305403598408326, 0.9600402473315202, 0.5013522684531851, 0.6964764986781917, 1.1172290369042306, 0.7992185353945016, -2.2048184120024428, -1.2889597505573922, 0.2505191621450121, -1.6319268531335172, 1.1817131103582106, -0.8990547247662171, -0.575832744607948, 0.046390907870445426, -0.6227126274050468, 0.7883913157586375, -0.5097836918707317, -0.4840801161815726, 0.13436275960287455, -1.2197724595704293, 0.2081925040015876, 0.34192791684551804, 0.49291742382682135, 0.09201977043119879, 1.3005200974593913, -0.3522452500997659, -0.3704964131275352, -0.0445344240652476, -0.5743768403100804, 0.057713728297095264, -0.12423810305203296, -1.161102229440341, -0.5857461058902402, 1.0327550810089714, 0.5732034677469589, -0.66672263760295], \"xaxis\": \"x3\", \"y\": [-1.0227072602404605, 1.1091700991385929, -1.4993969726670624, 1.8768911811202638, -0.1584068038282462, 0.5636778234135267, 1.1643293657731082, -2.5453901249124367, -2.6995540910248312, 0.830994313571333, -1.468665893590867, 2.4870167762098214, 0.5278277847426068, -2.2474017579936096, 0.9392149363934074, 0.333173802178018, -0.2518400271011279, 0.5699429582714065, -0.9394005219839601, -0.5798540158672266, -1.1122285231351523, -0.5505823743314988, 0.8431979643718024, -0.6698833258259573, 1.4971121025574492, 0.8110972529880883, -1.420772301496858, -1.238688195272796, 0.738641139209335, 0.30015097358503756, 0.3857414137896417, 0.7981149360380709, -1.09216358333296, -0.09947700731426419, -0.9575398718705561, -0.7941309017001477, 0.5013365071315352, 0.24182198672120908, -1.279837031259551, 0.3465677983280072, 2.0684845009039283, -0.2675234143132672, -0.5863391539096587, -2.4969552041074654, 0.2470986876555305, 1.5518128255305705, -0.781453918744178, -0.4864350671756053, 1.7838960390576342, 1.376521799342055, -0.02897847559348279, 0.48547086276997553, 1.3450898442841346, 0.9888210486728403, -0.05411332033261771, -0.8641544902907613, -0.2756638826219286, 1.5285699283236265, 1.3448113873888643, -1.8769444454648108, -0.6671405401337398, -0.2922400814776645, 0.080522552719805, -0.2655153357214515, 0.17443548857794025, -0.20220757214113935, 0.6085444227049939, -0.5398965196930543, -0.6486043699179436, 0.07622659494578123, -1.1432441394493909, 0.5117491223277846, 0.5670963420711427, -1.556235182008322, 2.2459400794950364, -0.2604219941766891, -1.6823252830735502, -2.493101370763733, -0.0863347511312303, 1.443794649564759, -0.2011444145719318, 0.3438950305951134, 0.2607245037792382, 0.792122700578744, 1.7786098266291699, 0.5352909661118613, -0.12294442612489852, 1.1978976876974878, -0.3173406496272341, 1.0472990438814478, 0.3146805337346373, -0.607084650338605, -0.7359566251717335, 0.4007922748288922, 1.279517538903847, -0.22936483222501214, -0.5182994714755288, -0.848876107050886, -1.3865228467599007, 0.18180007447279647], \"yaxis\": \"y3\"}, {\"line\": {\"color\": \"rgba(128, 128, 128, 1.0)\", \"dash\": \"solid\", \"shape\": \"linear\", \"width\": 1.3}, \"marker\": {\"size\": 2, \"symbol\": \"circle\"}, \"mode\": \"markers\", \"name\": \"A\", \"text\": \"\", \"type\": \"scatter\", \"x\": [-1.6889943276061983, -2.160652881430035, 0.7969173286751591, -0.40689200535211484, 1.1063863317023126, 0.32587136889469626, 1.4251924446590751, -0.049343482341913554, 0.9785306319828516, 0.3771094275577349, -0.6853301746631065, -0.2914417143453693, 1.8567027535640652, 0.38481773482027093, -1.167859631205922, 0.9758959747850864, 0.8006123176344719, -1.5947409809288808, -1.6116749594079887, 1.727215606605738, 0.4793062714084753, 0.23227696562282796, -0.8111699652442527, 0.8580603006263023, -2.110505442185867, -0.7575236466560565, 0.8171669972107859, -0.013421757194777166, 1.7662025857914379, -0.35261289515712557, 1.079640561165116, -0.7445062704238944, -0.46963426145434883, -1.2359576841608122, -1.4618667743241767, -0.780915455602358, -0.3075388802068042, 0.5997702843507153, 0.024773052053056865, 1.4751266506815628, 0.6467806287776092, -0.3001218548271014, 1.1870186479845986, -0.09868874741332945, 0.37117461726540174, -0.632524468294907, 0.6582455184587414, 0.5883642323078896, 0.6166385866073346, -1.0086365117714602, 0.7209498010512816, 1.8518676997876742, -0.5380555147800582, 1.4353050142899981, -1.6633010766887348, -0.06638139914457122, 0.6647926633745758, 0.6873425170813442, -1.797936163991116, -1.4036787270915132, 0.26853914745105245, 0.15194493204514142, 1.0789440777405943, 0.5615595901447917, -0.05027937318893131, 1.1120240717042713, 1.0122585162490714, -1.832084962805, 0.1709252479939976, 0.5953036195998925, 0.44461255626940366, -0.6291055204481256, 0.44505919105353736, -0.43976931296823996, 2.6300756410925628, -0.5501876400864705, 0.1944042534603992, -1.838459404771273, 1.0424085057541956, -1.0683697407131716, -0.004356231692863964, -1.1667907859048228, -1.4777276088855544, -0.38077165182966055, -0.969872397000942, -1.6980841916299279, -0.9914198284593434, -0.07812601974476405, -0.018228681633305915, -0.8582119807432321, -1.1741105724168293, 0.7246595371727618, -0.10326535703384612, -1.4573605358758739, -1.6148284344017703, -2.7529826573775713, -0.9974075876858838, -0.5177700007047001, -0.21831560048830448, -2.1412511489272905], \"xaxis\": \"x4\", \"y\": [-1.0227072602404605, 1.1091700991385929, -1.4993969726670624, 1.8768911811202638, -0.1584068038282462, 0.5636778234135267, 1.1643293657731082, -2.5453901249124367, -2.6995540910248312, 0.830994313571333, -1.468665893590867, 2.4870167762098214, 0.5278277847426068, -2.2474017579936096, 0.9392149363934074, 0.333173802178018, -0.2518400271011279, 0.5699429582714065, -0.9394005219839601, -0.5798540158672266, -1.1122285231351523, -0.5505823743314988, 0.8431979643718024, -0.6698833258259573, 1.4971121025574492, 0.8110972529880883, -1.420772301496858, -1.238688195272796, 0.738641139209335, 0.30015097358503756, 0.3857414137896417, 0.7981149360380709, -1.09216358333296, -0.09947700731426419, -0.9575398718705561, -0.7941309017001477, 0.5013365071315352, 0.24182198672120908, -1.279837031259551, 0.3465677983280072, 2.0684845009039283, -0.2675234143132672, -0.5863391539096587, -2.4969552041074654, 0.2470986876555305, 1.5518128255305705, -0.781453918744178, -0.4864350671756053, 1.7838960390576342, 1.376521799342055, -0.02897847559348279, 0.48547086276997553, 1.3450898442841346, 0.9888210486728403, -0.05411332033261771, -0.8641544902907613, -0.2756638826219286, 1.5285699283236265, 1.3448113873888643, -1.8769444454648108, -0.6671405401337398, -0.2922400814776645, 0.080522552719805, -0.2655153357214515, 0.17443548857794025, -0.20220757214113935, 0.6085444227049939, -0.5398965196930543, -0.6486043699179436, 0.07622659494578123, -1.1432441394493909, 0.5117491223277846, 0.5670963420711427, -1.556235182008322, 2.2459400794950364, -0.2604219941766891, -1.6823252830735502, -2.493101370763733, -0.0863347511312303, 1.443794649564759, -0.2011444145719318, 0.3438950305951134, 0.2607245037792382, 0.792122700578744, 1.7786098266291699, 0.5352909661118613, -0.12294442612489852, 1.1978976876974878, -0.3173406496272341, 1.0472990438814478, 0.3146805337346373, -0.607084650338605, -0.7359566251717335, 0.4007922748288922, 1.279517538903847, -0.22936483222501214, -0.5182994714755288, -0.848876107050886, -1.3865228467599007, 0.18180007447279647], \"yaxis\": \"y4\"}, {\"line\": {\"color\": \"rgba(128, 128, 128, 1.0)\", \"dash\": \"solid\", \"shape\": \"linear\", \"width\": 1.3}, \"marker\": {\"size\": 2, \"symbol\": \"circle\"}, \"mode\": \"markers\", \"name\": \"B\", \"text\": \"\", \"type\": \"scatter\", \"x\": [-1.0227072602404605, 1.1091700991385929, -1.4993969726670624, 1.8768911811202638, -0.1584068038282462, 0.5636778234135267, 1.1643293657731082, -2.5453901249124367, -2.6995540910248312, 0.830994313571333, -1.468665893590867, 2.4870167762098214, 0.5278277847426068, -2.2474017579936096, 0.9392149363934074, 0.333173802178018, -0.2518400271011279, 0.5699429582714065, -0.9394005219839601, -0.5798540158672266, -1.1122285231351523, -0.5505823743314988, 0.8431979643718024, -0.6698833258259573, 1.4971121025574492, 0.8110972529880883, -1.420772301496858, -1.238688195272796, 0.738641139209335, 0.30015097358503756, 0.3857414137896417, 0.7981149360380709, -1.09216358333296, -0.09947700731426419, -0.9575398718705561, -0.7941309017001477, 0.5013365071315352, 0.24182198672120908, -1.279837031259551, 0.3465677983280072, 2.0684845009039283, -0.2675234143132672, -0.5863391539096587, -2.4969552041074654, 0.2470986876555305, 1.5518128255305705, -0.781453918744178, -0.4864350671756053, 1.7838960390576342, 1.376521799342055, -0.02897847559348279, 0.48547086276997553, 1.3450898442841346, 0.9888210486728403, -0.05411332033261771, -0.8641544902907613, -0.2756638826219286, 1.5285699283236265, 1.3448113873888643, -1.8769444454648108, -0.6671405401337398, -0.2922400814776645, 0.080522552719805, -0.2655153357214515, 0.17443548857794025, -0.20220757214113935, 0.6085444227049939, -0.5398965196930543, -0.6486043699179436, 0.07622659494578123, -1.1432441394493909, 0.5117491223277846, 0.5670963420711427, -1.556235182008322, 2.2459400794950364, -0.2604219941766891, -1.6823252830735502, -2.493101370763733, -0.0863347511312303, 1.443794649564759, -0.2011444145719318, 0.3438950305951134, 0.2607245037792382, 0.792122700578744, 1.7786098266291699, 0.5352909661118613, -0.12294442612489852, 1.1978976876974878, -0.3173406496272341, 1.0472990438814478, 0.3146805337346373, -0.607084650338605, -0.7359566251717335, 0.4007922748288922, 1.279517538903847, -0.22936483222501214, -0.5182994714755288, -0.848876107050886, -1.3865228467599007, 0.18180007447279647], \"xaxis\": \"x5\", \"y\": [-0.7305625969818371, 0.783362976846267, -0.6488174141162153, -1.379008968011247, 0.8310618838938229, 1.1778421647831814, 0.3084172494654089, 1.8990195971023394, 0.10340485577957621, 0.059026265280790365, 0.510536253894352, -2.1538459076845924, 0.3174261488262944, 0.049624395432911424, -2.128017053722008, 0.15190610867356308, 0.649293489777525, 0.45449245140423905, -0.39329927875529924, -0.06602567256010221, 0.4511054143988493, 0.5433725229594577, 0.4233946966960372, -2.1635183337437978, -0.7067255386231072, -0.6177904210856345, -0.6595067079822083, 1.5510904520567041, 0.9018668632766085, 0.09947906700423, -0.15621592041765242, -0.33499138194246636, -0.5163408026271186, -0.8489613479258857, -0.730817422127436, -0.4181302913241633, 0.845253121042682, -0.43732468963958265, 0.8297545496830605, 0.4800210848145044, 1.4312458795497929, 1.4057658280072, -0.13507354273338432, 0.004364059665748205, 0.4583635381265657, -2.765109052598902, 0.5553148910686933, 0.8156121041694133, -0.8534912680359814, -0.3247281718808031, -0.914863311548679, 1.2885918351941394, 0.1286872852343092, 0.6769192164148923, -1.8215241353716114, -0.5550326638024027, 0.7312939772654433, -1.5930312249930805, 0.5839395041961499, 1.0132188209501904, 0.09522232856181102, 0.2918764830701547, -2.078395139709775, -0.38883386936591163, 1.1290584477657903, 0.22100222469686198, -0.5834017170642858, -1.021387557059779, -0.48027663208344595, -1.8273357277855076, 1.3498770608938466, 0.40782060463651854, 0.2042791561113294, -0.7512961007936723, 0.22849117191956678, -0.12738404595625513, 0.14113705734866797, -1.530891509798966, 0.30243572472487723, -0.6496718912655635, 1.4761457105113132, -0.07187302243193486, 0.3426537813081174, -1.4463894894521407, -1.2550872424839516, 0.5376639737146628, -0.46650538869834624, -0.23539958762750904, 1.3502628301865927, 1.4552023830979153, -0.9402921461767356, 0.8169931580844604, 0.17573258156189311, 1.0799719743407135, -0.6885727540285529, -0.09289774706664905, 1.2460258532059068, 0.9281312404691667, 0.4666096361580586, 1.3531035312894115], \"yaxis\": \"y5\"}, {\"histfunc\": \"count\", \"histnorm\": \"\", \"marker\": {\"color\": \"rgba(55, 128, 191, 1.0)\", \"line\": {\"color\": \"#4D5663\", \"width\": 1.3}}, \"name\": \"B\", \"nbinsx\": 10, \"opacity\": 0.8, \"orientation\": \"v\", \"type\": \"histogram\", \"x\": [-0.7305625969818371, 0.783362976846267, -0.6488174141162153, -1.379008968011247, 0.8310618838938229, 1.1778421647831814, 0.3084172494654089, 1.8990195971023394, 0.10340485577957621, 0.059026265280790365, 0.510536253894352, -2.1538459076845924, 0.3174261488262944, 0.049624395432911424, -2.128017053722008, 0.15190610867356308, 0.649293489777525, 0.45449245140423905, -0.39329927875529924, -0.06602567256010221, 0.4511054143988493, 0.5433725229594577, 0.4233946966960372, -2.1635183337437978, -0.7067255386231072, -0.6177904210856345, -0.6595067079822083, 1.5510904520567041, 0.9018668632766085, 0.09947906700423, -0.15621592041765242, -0.33499138194246636, -0.5163408026271186, -0.8489613479258857, -0.730817422127436, -0.4181302913241633, 0.845253121042682, -0.43732468963958265, 0.8297545496830605, 0.4800210848145044, 1.4312458795497929, 1.4057658280072, -0.13507354273338432, 0.004364059665748205, 0.4583635381265657, -2.765109052598902, 0.5553148910686933, 0.8156121041694133, -0.8534912680359814, -0.3247281718808031, -0.914863311548679, 1.2885918351941394, 0.1286872852343092, 0.6769192164148923, -1.8215241353716114, -0.5550326638024027, 0.7312939772654433, -1.5930312249930805, 0.5839395041961499, 1.0132188209501904, 0.09522232856181102, 0.2918764830701547, -2.078395139709775, -0.38883386936591163, 1.1290584477657903, 0.22100222469686198, -0.5834017170642858, -1.021387557059779, -0.48027663208344595, -1.8273357277855076, 1.3498770608938466, 0.40782060463651854, 0.2042791561113294, -0.7512961007936723, 0.22849117191956678, -0.12738404595625513, 0.14113705734866797, -1.530891509798966, 0.30243572472487723, -0.6496718912655635, 1.4761457105113132, -0.07187302243193486, 0.3426537813081174, -1.4463894894521407, -1.2550872424839516, 0.5376639737146628, -0.46650538869834624, -0.23539958762750904, 1.3502628301865927, 1.4552023830979153, -0.9402921461767356, 0.8169931580844604, 0.17573258156189311, 1.0799719743407135, -0.6885727540285529, -0.09289774706664905, 1.2460258532059068, 0.9281312404691667, 0.4666096361580586, 1.3531035312894115], \"xaxis\": \"x6\", \"yaxis\": \"y6\"}, {\"line\": {\"color\": \"rgba(128, 128, 128, 1.0)\", \"dash\": \"solid\", \"shape\": \"linear\", \"width\": 1.3}, \"marker\": {\"size\": 2, \"symbol\": \"circle\"}, \"mode\": \"markers\", \"name\": \"B\", \"text\": \"\", \"type\": \"scatter\", \"x\": [-2.0801954842530854, -1.012248646419635, 1.3232652327046397, 1.068653245193722, 0.4473431505109954, -0.09759555331261434, 0.4913939361288406, 1.0907412801736536, -0.3952692084028424, 0.9258753944397978, -0.7384413445378213, -0.31787180989326863, 0.41700428379960064, 0.6169563874809506, -0.5533118212780033, 0.10214386353408453, -0.3296850142235436, 1.0750401394967823, -0.45381682549475283, -0.16858566107054548, -1.85526676351296, 1.0634692881601842, 1.329723268726233, -0.09004064719788596, -0.5232441532800234, -0.5286476623586482, 1.56954133362809, -0.25445912663840253, -0.24977001376546662, -0.7070986715272332, 0.3857937791543105, -0.6013806674566733, -0.4453684923951969, 1.1182233093725122, -1.2769659479554023, -0.5445238324820918, 0.9990525554096598, 0.5251609315298159, 1.5392912526018883, -0.971095200299162, 0.3675167346099236, 0.16138437344170045, 0.09746166488436017, 0.22518220572810532, -1.1198076099048129, 0.005111309652542074, 0.39279883028651513, 0.23399425783113573, 0.11523169380654982, -0.12559021266810222, -1.0594698680160406, -0.7858237911363148, 0.20117084772193605, -1.3251754450583033, 0.34701632792761405, 0.3326465503694515, 1.3194715224871045, -0.9469273892058584, -1.4525211649807754, -0.7930788404805282, -0.5487878796047415, -0.8338095747373878, -0.18458116778035052, -1.8898177562650742, -0.9305403598408326, 0.9600402473315202, 0.5013522684531851, 0.6964764986781917, 1.1172290369042306, 0.7992185353945016, -2.2048184120024428, -1.2889597505573922, 0.2505191621450121, -1.6319268531335172, 1.1817131103582106, -0.8990547247662171, -0.575832744607948, 0.046390907870445426, -0.6227126274050468, 0.7883913157586375, -0.5097836918707317, -0.4840801161815726, 0.13436275960287455, -1.2197724595704293, 0.2081925040015876, 0.34192791684551804, 0.49291742382682135, 0.09201977043119879, 1.3005200974593913, -0.3522452500997659, -0.3704964131275352, -0.0445344240652476, -0.5743768403100804, 0.057713728297095264, -0.12423810305203296, -1.161102229440341, -0.5857461058902402, 1.0327550810089714, 0.5732034677469589, -0.66672263760295], \"xaxis\": \"x7\", \"y\": [-0.7305625969818371, 0.783362976846267, -0.6488174141162153, -1.379008968011247, 0.8310618838938229, 1.1778421647831814, 0.3084172494654089, 1.8990195971023394, 0.10340485577957621, 0.059026265280790365, 0.510536253894352, -2.1538459076845924, 0.3174261488262944, 0.049624395432911424, -2.128017053722008, 0.15190610867356308, 0.649293489777525, 0.45449245140423905, -0.39329927875529924, -0.06602567256010221, 0.4511054143988493, 0.5433725229594577, 0.4233946966960372, -2.1635183337437978, -0.7067255386231072, -0.6177904210856345, -0.6595067079822083, 1.5510904520567041, 0.9018668632766085, 0.09947906700423, -0.15621592041765242, -0.33499138194246636, -0.5163408026271186, -0.8489613479258857, -0.730817422127436, -0.4181302913241633, 0.845253121042682, -0.43732468963958265, 0.8297545496830605, 0.4800210848145044, 1.4312458795497929, 1.4057658280072, -0.13507354273338432, 0.004364059665748205, 0.4583635381265657, -2.765109052598902, 0.5553148910686933, 0.8156121041694133, -0.8534912680359814, -0.3247281718808031, -0.914863311548679, 1.2885918351941394, 0.1286872852343092, 0.6769192164148923, -1.8215241353716114, -0.5550326638024027, 0.7312939772654433, -1.5930312249930805, 0.5839395041961499, 1.0132188209501904, 0.09522232856181102, 0.2918764830701547, -2.078395139709775, -0.38883386936591163, 1.1290584477657903, 0.22100222469686198, -0.5834017170642858, -1.021387557059779, -0.48027663208344595, -1.8273357277855076, 1.3498770608938466, 0.40782060463651854, 0.2042791561113294, -0.7512961007936723, 0.22849117191956678, -0.12738404595625513, 0.14113705734866797, -1.530891509798966, 0.30243572472487723, -0.6496718912655635, 1.4761457105113132, -0.07187302243193486, 0.3426537813081174, -1.4463894894521407, -1.2550872424839516, 0.5376639737146628, -0.46650538869834624, -0.23539958762750904, 1.3502628301865927, 1.4552023830979153, -0.9402921461767356, 0.8169931580844604, 0.17573258156189311, 1.0799719743407135, -0.6885727540285529, -0.09289774706664905, 1.2460258532059068, 0.9281312404691667, 0.4666096361580586, 1.3531035312894115], \"yaxis\": \"y7\"}, {\"line\": {\"color\": \"rgba(128, 128, 128, 1.0)\", \"dash\": \"solid\", \"shape\": \"linear\", \"width\": 1.3}, \"marker\": {\"size\": 2, \"symbol\": \"circle\"}, \"mode\": \"markers\", \"name\": \"B\", \"text\": \"\", \"type\": \"scatter\", \"x\": [-1.6889943276061983, -2.160652881430035, 0.7969173286751591, -0.40689200535211484, 1.1063863317023126, 0.32587136889469626, 1.4251924446590751, -0.049343482341913554, 0.9785306319828516, 0.3771094275577349, -0.6853301746631065, -0.2914417143453693, 1.8567027535640652, 0.38481773482027093, -1.167859631205922, 0.9758959747850864, 0.8006123176344719, -1.5947409809288808, -1.6116749594079887, 1.727215606605738, 0.4793062714084753, 0.23227696562282796, -0.8111699652442527, 0.8580603006263023, -2.110505442185867, -0.7575236466560565, 0.8171669972107859, -0.013421757194777166, 1.7662025857914379, -0.35261289515712557, 1.079640561165116, -0.7445062704238944, -0.46963426145434883, -1.2359576841608122, -1.4618667743241767, -0.780915455602358, -0.3075388802068042, 0.5997702843507153, 0.024773052053056865, 1.4751266506815628, 0.6467806287776092, -0.3001218548271014, 1.1870186479845986, -0.09868874741332945, 0.37117461726540174, -0.632524468294907, 0.6582455184587414, 0.5883642323078896, 0.6166385866073346, -1.0086365117714602, 0.7209498010512816, 1.8518676997876742, -0.5380555147800582, 1.4353050142899981, -1.6633010766887348, -0.06638139914457122, 0.6647926633745758, 0.6873425170813442, -1.797936163991116, -1.4036787270915132, 0.26853914745105245, 0.15194493204514142, 1.0789440777405943, 0.5615595901447917, -0.05027937318893131, 1.1120240717042713, 1.0122585162490714, -1.832084962805, 0.1709252479939976, 0.5953036195998925, 0.44461255626940366, -0.6291055204481256, 0.44505919105353736, -0.43976931296823996, 2.6300756410925628, -0.5501876400864705, 0.1944042534603992, -1.838459404771273, 1.0424085057541956, -1.0683697407131716, -0.004356231692863964, -1.1667907859048228, -1.4777276088855544, -0.38077165182966055, -0.969872397000942, -1.6980841916299279, -0.9914198284593434, -0.07812601974476405, -0.018228681633305915, -0.8582119807432321, -1.1741105724168293, 0.7246595371727618, -0.10326535703384612, -1.4573605358758739, -1.6148284344017703, -2.7529826573775713, -0.9974075876858838, -0.5177700007047001, -0.21831560048830448, -2.1412511489272905], \"xaxis\": \"x8\", \"y\": [-0.7305625969818371, 0.783362976846267, -0.6488174141162153, -1.379008968011247, 0.8310618838938229, 1.1778421647831814, 0.3084172494654089, 1.8990195971023394, 0.10340485577957621, 0.059026265280790365, 0.510536253894352, -2.1538459076845924, 0.3174261488262944, 0.049624395432911424, -2.128017053722008, 0.15190610867356308, 0.649293489777525, 0.45449245140423905, -0.39329927875529924, -0.06602567256010221, 0.4511054143988493, 0.5433725229594577, 0.4233946966960372, -2.1635183337437978, -0.7067255386231072, -0.6177904210856345, -0.6595067079822083, 1.5510904520567041, 0.9018668632766085, 0.09947906700423, -0.15621592041765242, -0.33499138194246636, -0.5163408026271186, -0.8489613479258857, -0.730817422127436, -0.4181302913241633, 0.845253121042682, -0.43732468963958265, 0.8297545496830605, 0.4800210848145044, 1.4312458795497929, 1.4057658280072, -0.13507354273338432, 0.004364059665748205, 0.4583635381265657, -2.765109052598902, 0.5553148910686933, 0.8156121041694133, -0.8534912680359814, -0.3247281718808031, -0.914863311548679, 1.2885918351941394, 0.1286872852343092, 0.6769192164148923, -1.8215241353716114, -0.5550326638024027, 0.7312939772654433, -1.5930312249930805, 0.5839395041961499, 1.0132188209501904, 0.09522232856181102, 0.2918764830701547, -2.078395139709775, -0.38883386936591163, 1.1290584477657903, 0.22100222469686198, -0.5834017170642858, -1.021387557059779, -0.48027663208344595, -1.8273357277855076, 1.3498770608938466, 0.40782060463651854, 0.2042791561113294, -0.7512961007936723, 0.22849117191956678, -0.12738404595625513, 0.14113705734866797, -1.530891509798966, 0.30243572472487723, -0.6496718912655635, 1.4761457105113132, -0.07187302243193486, 0.3426537813081174, -1.4463894894521407, -1.2550872424839516, 0.5376639737146628, -0.46650538869834624, -0.23539958762750904, 1.3502628301865927, 1.4552023830979153, -0.9402921461767356, 0.8169931580844604, 0.17573258156189311, 1.0799719743407135, -0.6885727540285529, -0.09289774706664905, 1.2460258532059068, 0.9281312404691667, 0.4666096361580586, 1.3531035312894115], \"yaxis\": \"y8\"}, {\"line\": {\"color\": \"rgba(128, 128, 128, 1.0)\", \"dash\": \"solid\", \"shape\": \"linear\", \"width\": 1.3}, \"marker\": {\"size\": 2, \"symbol\": \"circle\"}, \"mode\": \"markers\", \"name\": \"C\", \"text\": \"\", \"type\": \"scatter\", \"x\": [-1.0227072602404605, 1.1091700991385929, -1.4993969726670624, 1.8768911811202638, -0.1584068038282462, 0.5636778234135267, 1.1643293657731082, -2.5453901249124367, -2.6995540910248312, 0.830994313571333, -1.468665893590867, 2.4870167762098214, 0.5278277847426068, -2.2474017579936096, 0.9392149363934074, 0.333173802178018, -0.2518400271011279, 0.5699429582714065, -0.9394005219839601, -0.5798540158672266, -1.1122285231351523, -0.5505823743314988, 0.8431979643718024, -0.6698833258259573, 1.4971121025574492, 0.8110972529880883, -1.420772301496858, -1.238688195272796, 0.738641139209335, 0.30015097358503756, 0.3857414137896417, 0.7981149360380709, -1.09216358333296, -0.09947700731426419, -0.9575398718705561, -0.7941309017001477, 0.5013365071315352, 0.24182198672120908, -1.279837031259551, 0.3465677983280072, 2.0684845009039283, -0.2675234143132672, -0.5863391539096587, -2.4969552041074654, 0.2470986876555305, 1.5518128255305705, -0.781453918744178, -0.4864350671756053, 1.7838960390576342, 1.376521799342055, -0.02897847559348279, 0.48547086276997553, 1.3450898442841346, 0.9888210486728403, -0.05411332033261771, -0.8641544902907613, -0.2756638826219286, 1.5285699283236265, 1.3448113873888643, -1.8769444454648108, -0.6671405401337398, -0.2922400814776645, 0.080522552719805, -0.2655153357214515, 0.17443548857794025, -0.20220757214113935, 0.6085444227049939, -0.5398965196930543, -0.6486043699179436, 0.07622659494578123, -1.1432441394493909, 0.5117491223277846, 0.5670963420711427, -1.556235182008322, 2.2459400794950364, -0.2604219941766891, -1.6823252830735502, -2.493101370763733, -0.0863347511312303, 1.443794649564759, -0.2011444145719318, 0.3438950305951134, 0.2607245037792382, 0.792122700578744, 1.7786098266291699, 0.5352909661118613, -0.12294442612489852, 1.1978976876974878, -0.3173406496272341, 1.0472990438814478, 0.3146805337346373, -0.607084650338605, -0.7359566251717335, 0.4007922748288922, 1.279517538903847, -0.22936483222501214, -0.5182994714755288, -0.848876107050886, -1.3865228467599007, 0.18180007447279647], \"xaxis\": \"x9\", \"y\": [-2.0801954842530854, -1.012248646419635, 1.3232652327046397, 1.068653245193722, 0.4473431505109954, -0.09759555331261434, 0.4913939361288406, 1.0907412801736536, -0.3952692084028424, 0.9258753944397978, -0.7384413445378213, -0.31787180989326863, 0.41700428379960064, 0.6169563874809506, -0.5533118212780033, 0.10214386353408453, -0.3296850142235436, 1.0750401394967823, -0.45381682549475283, -0.16858566107054548, -1.85526676351296, 1.0634692881601842, 1.329723268726233, -0.09004064719788596, -0.5232441532800234, -0.5286476623586482, 1.56954133362809, -0.25445912663840253, -0.24977001376546662, -0.7070986715272332, 0.3857937791543105, -0.6013806674566733, -0.4453684923951969, 1.1182233093725122, -1.2769659479554023, -0.5445238324820918, 0.9990525554096598, 0.5251609315298159, 1.5392912526018883, -0.971095200299162, 0.3675167346099236, 0.16138437344170045, 0.09746166488436017, 0.22518220572810532, -1.1198076099048129, 0.005111309652542074, 0.39279883028651513, 0.23399425783113573, 0.11523169380654982, -0.12559021266810222, -1.0594698680160406, -0.7858237911363148, 0.20117084772193605, -1.3251754450583033, 0.34701632792761405, 0.3326465503694515, 1.3194715224871045, -0.9469273892058584, -1.4525211649807754, -0.7930788404805282, -0.5487878796047415, -0.8338095747373878, -0.18458116778035052, -1.8898177562650742, -0.9305403598408326, 0.9600402473315202, 0.5013522684531851, 0.6964764986781917, 1.1172290369042306, 0.7992185353945016, -2.2048184120024428, -1.2889597505573922, 0.2505191621450121, -1.6319268531335172, 1.1817131103582106, -0.8990547247662171, -0.575832744607948, 0.046390907870445426, -0.6227126274050468, 0.7883913157586375, -0.5097836918707317, -0.4840801161815726, 0.13436275960287455, -1.2197724595704293, 0.2081925040015876, 0.34192791684551804, 0.49291742382682135, 0.09201977043119879, 1.3005200974593913, -0.3522452500997659, -0.3704964131275352, -0.0445344240652476, -0.5743768403100804, 0.057713728297095264, -0.12423810305203296, -1.161102229440341, -0.5857461058902402, 1.0327550810089714, 0.5732034677469589, -0.66672263760295], \"yaxis\": \"y9\"}, {\"line\": {\"color\": \"rgba(128, 128, 128, 1.0)\", \"dash\": \"solid\", \"shape\": \"linear\", \"width\": 1.3}, \"marker\": {\"size\": 2, \"symbol\": \"circle\"}, \"mode\": \"markers\", \"name\": \"C\", \"text\": \"\", \"type\": \"scatter\", \"x\": [-0.7305625969818371, 0.783362976846267, -0.6488174141162153, -1.379008968011247, 0.8310618838938229, 1.1778421647831814, 0.3084172494654089, 1.8990195971023394, 0.10340485577957621, 0.059026265280790365, 0.510536253894352, -2.1538459076845924, 0.3174261488262944, 0.049624395432911424, -2.128017053722008, 0.15190610867356308, 0.649293489777525, 0.45449245140423905, -0.39329927875529924, -0.06602567256010221, 0.4511054143988493, 0.5433725229594577, 0.4233946966960372, -2.1635183337437978, -0.7067255386231072, -0.6177904210856345, -0.6595067079822083, 1.5510904520567041, 0.9018668632766085, 0.09947906700423, -0.15621592041765242, -0.33499138194246636, -0.5163408026271186, -0.8489613479258857, -0.730817422127436, -0.4181302913241633, 0.845253121042682, -0.43732468963958265, 0.8297545496830605, 0.4800210848145044, 1.4312458795497929, 1.4057658280072, -0.13507354273338432, 0.004364059665748205, 0.4583635381265657, -2.765109052598902, 0.5553148910686933, 0.8156121041694133, -0.8534912680359814, -0.3247281718808031, -0.914863311548679, 1.2885918351941394, 0.1286872852343092, 0.6769192164148923, -1.8215241353716114, -0.5550326638024027, 0.7312939772654433, -1.5930312249930805, 0.5839395041961499, 1.0132188209501904, 0.09522232856181102, 0.2918764830701547, -2.078395139709775, -0.38883386936591163, 1.1290584477657903, 0.22100222469686198, -0.5834017170642858, -1.021387557059779, -0.48027663208344595, -1.8273357277855076, 1.3498770608938466, 0.40782060463651854, 0.2042791561113294, -0.7512961007936723, 0.22849117191956678, -0.12738404595625513, 0.14113705734866797, -1.530891509798966, 0.30243572472487723, -0.6496718912655635, 1.4761457105113132, -0.07187302243193486, 0.3426537813081174, -1.4463894894521407, -1.2550872424839516, 0.5376639737146628, -0.46650538869834624, -0.23539958762750904, 1.3502628301865927, 1.4552023830979153, -0.9402921461767356, 0.8169931580844604, 0.17573258156189311, 1.0799719743407135, -0.6885727540285529, -0.09289774706664905, 1.2460258532059068, 0.9281312404691667, 0.4666096361580586, 1.3531035312894115], \"xaxis\": \"x10\", \"y\": [-2.0801954842530854, -1.012248646419635, 1.3232652327046397, 1.068653245193722, 0.4473431505109954, -0.09759555331261434, 0.4913939361288406, 1.0907412801736536, -0.3952692084028424, 0.9258753944397978, -0.7384413445378213, -0.31787180989326863, 0.41700428379960064, 0.6169563874809506, -0.5533118212780033, 0.10214386353408453, -0.3296850142235436, 1.0750401394967823, -0.45381682549475283, -0.16858566107054548, -1.85526676351296, 1.0634692881601842, 1.329723268726233, -0.09004064719788596, -0.5232441532800234, -0.5286476623586482, 1.56954133362809, -0.25445912663840253, -0.24977001376546662, -0.7070986715272332, 0.3857937791543105, -0.6013806674566733, -0.4453684923951969, 1.1182233093725122, -1.2769659479554023, -0.5445238324820918, 0.9990525554096598, 0.5251609315298159, 1.5392912526018883, -0.971095200299162, 0.3675167346099236, 0.16138437344170045, 0.09746166488436017, 0.22518220572810532, -1.1198076099048129, 0.005111309652542074, 0.39279883028651513, 0.23399425783113573, 0.11523169380654982, -0.12559021266810222, -1.0594698680160406, -0.7858237911363148, 0.20117084772193605, -1.3251754450583033, 0.34701632792761405, 0.3326465503694515, 1.3194715224871045, -0.9469273892058584, -1.4525211649807754, -0.7930788404805282, -0.5487878796047415, -0.8338095747373878, -0.18458116778035052, -1.8898177562650742, -0.9305403598408326, 0.9600402473315202, 0.5013522684531851, 0.6964764986781917, 1.1172290369042306, 0.7992185353945016, -2.2048184120024428, -1.2889597505573922, 0.2505191621450121, -1.6319268531335172, 1.1817131103582106, -0.8990547247662171, -0.575832744607948, 0.046390907870445426, -0.6227126274050468, 0.7883913157586375, -0.5097836918707317, -0.4840801161815726, 0.13436275960287455, -1.2197724595704293, 0.2081925040015876, 0.34192791684551804, 0.49291742382682135, 0.09201977043119879, 1.3005200974593913, -0.3522452500997659, -0.3704964131275352, -0.0445344240652476, -0.5743768403100804, 0.057713728297095264, -0.12423810305203296, -1.161102229440341, -0.5857461058902402, 1.0327550810089714, 0.5732034677469589, -0.66672263760295], \"yaxis\": \"y10\"}, {\"histfunc\": \"count\", \"histnorm\": \"\", \"marker\": {\"color\": \"rgba(50, 171, 96, 1.0)\", \"line\": {\"color\": \"#4D5663\", \"width\": 1.3}}, \"name\": \"C\", \"nbinsx\": 10, \"opacity\": 0.8, \"orientation\": \"v\", \"type\": \"histogram\", \"x\": [-2.0801954842530854, -1.012248646419635, 1.3232652327046397, 1.068653245193722, 0.4473431505109954, -0.09759555331261434, 0.4913939361288406, 1.0907412801736536, -0.3952692084028424, 0.9258753944397978, -0.7384413445378213, -0.31787180989326863, 0.41700428379960064, 0.6169563874809506, -0.5533118212780033, 0.10214386353408453, -0.3296850142235436, 1.0750401394967823, -0.45381682549475283, -0.16858566107054548, -1.85526676351296, 1.0634692881601842, 1.329723268726233, -0.09004064719788596, -0.5232441532800234, -0.5286476623586482, 1.56954133362809, -0.25445912663840253, -0.24977001376546662, -0.7070986715272332, 0.3857937791543105, -0.6013806674566733, -0.4453684923951969, 1.1182233093725122, -1.2769659479554023, -0.5445238324820918, 0.9990525554096598, 0.5251609315298159, 1.5392912526018883, -0.971095200299162, 0.3675167346099236, 0.16138437344170045, 0.09746166488436017, 0.22518220572810532, -1.1198076099048129, 0.005111309652542074, 0.39279883028651513, 0.23399425783113573, 0.11523169380654982, -0.12559021266810222, -1.0594698680160406, -0.7858237911363148, 0.20117084772193605, -1.3251754450583033, 0.34701632792761405, 0.3326465503694515, 1.3194715224871045, -0.9469273892058584, -1.4525211649807754, -0.7930788404805282, -0.5487878796047415, -0.8338095747373878, -0.18458116778035052, -1.8898177562650742, -0.9305403598408326, 0.9600402473315202, 0.5013522684531851, 0.6964764986781917, 1.1172290369042306, 0.7992185353945016, -2.2048184120024428, -1.2889597505573922, 0.2505191621450121, -1.6319268531335172, 1.1817131103582106, -0.8990547247662171, -0.575832744607948, 0.046390907870445426, -0.6227126274050468, 0.7883913157586375, -0.5097836918707317, -0.4840801161815726, 0.13436275960287455, -1.2197724595704293, 0.2081925040015876, 0.34192791684551804, 0.49291742382682135, 0.09201977043119879, 1.3005200974593913, -0.3522452500997659, -0.3704964131275352, -0.0445344240652476, -0.5743768403100804, 0.057713728297095264, -0.12423810305203296, -1.161102229440341, -0.5857461058902402, 1.0327550810089714, 0.5732034677469589, -0.66672263760295], \"xaxis\": \"x11\", \"yaxis\": \"y11\"}, {\"line\": {\"color\": \"rgba(128, 128, 128, 1.0)\", \"dash\": \"solid\", \"shape\": \"linear\", \"width\": 1.3}, \"marker\": {\"size\": 2, \"symbol\": \"circle\"}, \"mode\": \"markers\", \"name\": \"C\", \"text\": \"\", \"type\": \"scatter\", \"x\": [-1.6889943276061983, -2.160652881430035, 0.7969173286751591, -0.40689200535211484, 1.1063863317023126, 0.32587136889469626, 1.4251924446590751, -0.049343482341913554, 0.9785306319828516, 0.3771094275577349, -0.6853301746631065, -0.2914417143453693, 1.8567027535640652, 0.38481773482027093, -1.167859631205922, 0.9758959747850864, 0.8006123176344719, -1.5947409809288808, -1.6116749594079887, 1.727215606605738, 0.4793062714084753, 0.23227696562282796, -0.8111699652442527, 0.8580603006263023, -2.110505442185867, -0.7575236466560565, 0.8171669972107859, -0.013421757194777166, 1.7662025857914379, -0.35261289515712557, 1.079640561165116, -0.7445062704238944, -0.46963426145434883, -1.2359576841608122, -1.4618667743241767, -0.780915455602358, -0.3075388802068042, 0.5997702843507153, 0.024773052053056865, 1.4751266506815628, 0.6467806287776092, -0.3001218548271014, 1.1870186479845986, -0.09868874741332945, 0.37117461726540174, -0.632524468294907, 0.6582455184587414, 0.5883642323078896, 0.6166385866073346, -1.0086365117714602, 0.7209498010512816, 1.8518676997876742, -0.5380555147800582, 1.4353050142899981, -1.6633010766887348, -0.06638139914457122, 0.6647926633745758, 0.6873425170813442, -1.797936163991116, -1.4036787270915132, 0.26853914745105245, 0.15194493204514142, 1.0789440777405943, 0.5615595901447917, -0.05027937318893131, 1.1120240717042713, 1.0122585162490714, -1.832084962805, 0.1709252479939976, 0.5953036195998925, 0.44461255626940366, -0.6291055204481256, 0.44505919105353736, -0.43976931296823996, 2.6300756410925628, -0.5501876400864705, 0.1944042534603992, -1.838459404771273, 1.0424085057541956, -1.0683697407131716, -0.004356231692863964, -1.1667907859048228, -1.4777276088855544, -0.38077165182966055, -0.969872397000942, -1.6980841916299279, -0.9914198284593434, -0.07812601974476405, -0.018228681633305915, -0.8582119807432321, -1.1741105724168293, 0.7246595371727618, -0.10326535703384612, -1.4573605358758739, -1.6148284344017703, -2.7529826573775713, -0.9974075876858838, -0.5177700007047001, -0.21831560048830448, -2.1412511489272905], \"xaxis\": \"x12\", \"y\": [-2.0801954842530854, -1.012248646419635, 1.3232652327046397, 1.068653245193722, 0.4473431505109954, -0.09759555331261434, 0.4913939361288406, 1.0907412801736536, -0.3952692084028424, 0.9258753944397978, -0.7384413445378213, -0.31787180989326863, 0.41700428379960064, 0.6169563874809506, -0.5533118212780033, 0.10214386353408453, -0.3296850142235436, 1.0750401394967823, -0.45381682549475283, -0.16858566107054548, -1.85526676351296, 1.0634692881601842, 1.329723268726233, -0.09004064719788596, -0.5232441532800234, -0.5286476623586482, 1.56954133362809, -0.25445912663840253, -0.24977001376546662, -0.7070986715272332, 0.3857937791543105, -0.6013806674566733, -0.4453684923951969, 1.1182233093725122, -1.2769659479554023, -0.5445238324820918, 0.9990525554096598, 0.5251609315298159, 1.5392912526018883, -0.971095200299162, 0.3675167346099236, 0.16138437344170045, 0.09746166488436017, 0.22518220572810532, -1.1198076099048129, 0.005111309652542074, 0.39279883028651513, 0.23399425783113573, 0.11523169380654982, -0.12559021266810222, -1.0594698680160406, -0.7858237911363148, 0.20117084772193605, -1.3251754450583033, 0.34701632792761405, 0.3326465503694515, 1.3194715224871045, -0.9469273892058584, -1.4525211649807754, -0.7930788404805282, -0.5487878796047415, -0.8338095747373878, -0.18458116778035052, -1.8898177562650742, -0.9305403598408326, 0.9600402473315202, 0.5013522684531851, 0.6964764986781917, 1.1172290369042306, 0.7992185353945016, -2.2048184120024428, -1.2889597505573922, 0.2505191621450121, -1.6319268531335172, 1.1817131103582106, -0.8990547247662171, -0.575832744607948, 0.046390907870445426, -0.6227126274050468, 0.7883913157586375, -0.5097836918707317, -0.4840801161815726, 0.13436275960287455, -1.2197724595704293, 0.2081925040015876, 0.34192791684551804, 0.49291742382682135, 0.09201977043119879, 1.3005200974593913, -0.3522452500997659, -0.3704964131275352, -0.0445344240652476, -0.5743768403100804, 0.057713728297095264, -0.12423810305203296, -1.161102229440341, -0.5857461058902402, 1.0327550810089714, 0.5732034677469589, -0.66672263760295], \"yaxis\": \"y12\"}, {\"line\": {\"color\": \"rgba(128, 128, 128, 1.0)\", \"dash\": \"solid\", \"shape\": \"linear\", \"width\": 1.3}, \"marker\": {\"size\": 2, \"symbol\": \"circle\"}, \"mode\": \"markers\", \"name\": \"D\", \"text\": \"\", \"type\": \"scatter\", \"x\": [-1.0227072602404605, 1.1091700991385929, -1.4993969726670624, 1.8768911811202638, -0.1584068038282462, 0.5636778234135267, 1.1643293657731082, -2.5453901249124367, -2.6995540910248312, 0.830994313571333, -1.468665893590867, 2.4870167762098214, 0.5278277847426068, -2.2474017579936096, 0.9392149363934074, 0.333173802178018, -0.2518400271011279, 0.5699429582714065, -0.9394005219839601, -0.5798540158672266, -1.1122285231351523, -0.5505823743314988, 0.8431979643718024, -0.6698833258259573, 1.4971121025574492, 0.8110972529880883, -1.420772301496858, -1.238688195272796, 0.738641139209335, 0.30015097358503756, 0.3857414137896417, 0.7981149360380709, -1.09216358333296, -0.09947700731426419, -0.9575398718705561, -0.7941309017001477, 0.5013365071315352, 0.24182198672120908, -1.279837031259551, 0.3465677983280072, 2.0684845009039283, -0.2675234143132672, -0.5863391539096587, -2.4969552041074654, 0.2470986876555305, 1.5518128255305705, -0.781453918744178, -0.4864350671756053, 1.7838960390576342, 1.376521799342055, -0.02897847559348279, 0.48547086276997553, 1.3450898442841346, 0.9888210486728403, -0.05411332033261771, -0.8641544902907613, -0.2756638826219286, 1.5285699283236265, 1.3448113873888643, -1.8769444454648108, -0.6671405401337398, -0.2922400814776645, 0.080522552719805, -0.2655153357214515, 0.17443548857794025, -0.20220757214113935, 0.6085444227049939, -0.5398965196930543, -0.6486043699179436, 0.07622659494578123, -1.1432441394493909, 0.5117491223277846, 0.5670963420711427, -1.556235182008322, 2.2459400794950364, -0.2604219941766891, -1.6823252830735502, -2.493101370763733, -0.0863347511312303, 1.443794649564759, -0.2011444145719318, 0.3438950305951134, 0.2607245037792382, 0.792122700578744, 1.7786098266291699, 0.5352909661118613, -0.12294442612489852, 1.1978976876974878, -0.3173406496272341, 1.0472990438814478, 0.3146805337346373, -0.607084650338605, -0.7359566251717335, 0.4007922748288922, 1.279517538903847, -0.22936483222501214, -0.5182994714755288, -0.848876107050886, -1.3865228467599007, 0.18180007447279647], \"xaxis\": \"x13\", \"y\": [-1.6889943276061983, -2.160652881430035, 0.7969173286751591, -0.40689200535211484, 1.1063863317023126, 0.32587136889469626, 1.4251924446590751, -0.049343482341913554, 0.9785306319828516, 0.3771094275577349, -0.6853301746631065, -0.2914417143453693, 1.8567027535640652, 0.38481773482027093, -1.167859631205922, 0.9758959747850864, 0.8006123176344719, -1.5947409809288808, -1.6116749594079887, 1.727215606605738, 0.4793062714084753, 0.23227696562282796, -0.8111699652442527, 0.8580603006263023, -2.110505442185867, -0.7575236466560565, 0.8171669972107859, -0.013421757194777166, 1.7662025857914379, -0.35261289515712557, 1.079640561165116, -0.7445062704238944, -0.46963426145434883, -1.2359576841608122, -1.4618667743241767, -0.780915455602358, -0.3075388802068042, 0.5997702843507153, 0.024773052053056865, 1.4751266506815628, 0.6467806287776092, -0.3001218548271014, 1.1870186479845986, -0.09868874741332945, 0.37117461726540174, -0.632524468294907, 0.6582455184587414, 0.5883642323078896, 0.6166385866073346, -1.0086365117714602, 0.7209498010512816, 1.8518676997876742, -0.5380555147800582, 1.4353050142899981, -1.6633010766887348, -0.06638139914457122, 0.6647926633745758, 0.6873425170813442, -1.797936163991116, -1.4036787270915132, 0.26853914745105245, 0.15194493204514142, 1.0789440777405943, 0.5615595901447917, -0.05027937318893131, 1.1120240717042713, 1.0122585162490714, -1.832084962805, 0.1709252479939976, 0.5953036195998925, 0.44461255626940366, -0.6291055204481256, 0.44505919105353736, -0.43976931296823996, 2.6300756410925628, -0.5501876400864705, 0.1944042534603992, -1.838459404771273, 1.0424085057541956, -1.0683697407131716, -0.004356231692863964, -1.1667907859048228, -1.4777276088855544, -0.38077165182966055, -0.969872397000942, -1.6980841916299279, -0.9914198284593434, -0.07812601974476405, -0.018228681633305915, -0.8582119807432321, -1.1741105724168293, 0.7246595371727618, -0.10326535703384612, -1.4573605358758739, -1.6148284344017703, -2.7529826573775713, -0.9974075876858838, -0.5177700007047001, -0.21831560048830448, -2.1412511489272905], \"yaxis\": \"y13\"}, {\"line\": {\"color\": \"rgba(128, 128, 128, 1.0)\", \"dash\": \"solid\", \"shape\": \"linear\", \"width\": 1.3}, \"marker\": {\"size\": 2, \"symbol\": \"circle\"}, \"mode\": \"markers\", \"name\": \"D\", \"text\": \"\", \"type\": \"scatter\", \"x\": [-0.7305625969818371, 0.783362976846267, -0.6488174141162153, -1.379008968011247, 0.8310618838938229, 1.1778421647831814, 0.3084172494654089, 1.8990195971023394, 0.10340485577957621, 0.059026265280790365, 0.510536253894352, -2.1538459076845924, 0.3174261488262944, 0.049624395432911424, -2.128017053722008, 0.15190610867356308, 0.649293489777525, 0.45449245140423905, -0.39329927875529924, -0.06602567256010221, 0.4511054143988493, 0.5433725229594577, 0.4233946966960372, -2.1635183337437978, -0.7067255386231072, -0.6177904210856345, -0.6595067079822083, 1.5510904520567041, 0.9018668632766085, 0.09947906700423, -0.15621592041765242, -0.33499138194246636, -0.5163408026271186, -0.8489613479258857, -0.730817422127436, -0.4181302913241633, 0.845253121042682, -0.43732468963958265, 0.8297545496830605, 0.4800210848145044, 1.4312458795497929, 1.4057658280072, -0.13507354273338432, 0.004364059665748205, 0.4583635381265657, -2.765109052598902, 0.5553148910686933, 0.8156121041694133, -0.8534912680359814, -0.3247281718808031, -0.914863311548679, 1.2885918351941394, 0.1286872852343092, 0.6769192164148923, -1.8215241353716114, -0.5550326638024027, 0.7312939772654433, -1.5930312249930805, 0.5839395041961499, 1.0132188209501904, 0.09522232856181102, 0.2918764830701547, -2.078395139709775, -0.38883386936591163, 1.1290584477657903, 0.22100222469686198, -0.5834017170642858, -1.021387557059779, -0.48027663208344595, -1.8273357277855076, 1.3498770608938466, 0.40782060463651854, 0.2042791561113294, -0.7512961007936723, 0.22849117191956678, -0.12738404595625513, 0.14113705734866797, -1.530891509798966, 0.30243572472487723, -0.6496718912655635, 1.4761457105113132, -0.07187302243193486, 0.3426537813081174, -1.4463894894521407, -1.2550872424839516, 0.5376639737146628, -0.46650538869834624, -0.23539958762750904, 1.3502628301865927, 1.4552023830979153, -0.9402921461767356, 0.8169931580844604, 0.17573258156189311, 1.0799719743407135, -0.6885727540285529, -0.09289774706664905, 1.2460258532059068, 0.9281312404691667, 0.4666096361580586, 1.3531035312894115], \"xaxis\": \"x14\", \"y\": [-1.6889943276061983, -2.160652881430035, 0.7969173286751591, -0.40689200535211484, 1.1063863317023126, 0.32587136889469626, 1.4251924446590751, -0.049343482341913554, 0.9785306319828516, 0.3771094275577349, -0.6853301746631065, -0.2914417143453693, 1.8567027535640652, 0.38481773482027093, -1.167859631205922, 0.9758959747850864, 0.8006123176344719, -1.5947409809288808, -1.6116749594079887, 1.727215606605738, 0.4793062714084753, 0.23227696562282796, -0.8111699652442527, 0.8580603006263023, -2.110505442185867, -0.7575236466560565, 0.8171669972107859, -0.013421757194777166, 1.7662025857914379, -0.35261289515712557, 1.079640561165116, -0.7445062704238944, -0.46963426145434883, -1.2359576841608122, -1.4618667743241767, -0.780915455602358, -0.3075388802068042, 0.5997702843507153, 0.024773052053056865, 1.4751266506815628, 0.6467806287776092, -0.3001218548271014, 1.1870186479845986, -0.09868874741332945, 0.37117461726540174, -0.632524468294907, 0.6582455184587414, 0.5883642323078896, 0.6166385866073346, -1.0086365117714602, 0.7209498010512816, 1.8518676997876742, -0.5380555147800582, 1.4353050142899981, -1.6633010766887348, -0.06638139914457122, 0.6647926633745758, 0.6873425170813442, -1.797936163991116, -1.4036787270915132, 0.26853914745105245, 0.15194493204514142, 1.0789440777405943, 0.5615595901447917, -0.05027937318893131, 1.1120240717042713, 1.0122585162490714, -1.832084962805, 0.1709252479939976, 0.5953036195998925, 0.44461255626940366, -0.6291055204481256, 0.44505919105353736, -0.43976931296823996, 2.6300756410925628, -0.5501876400864705, 0.1944042534603992, -1.838459404771273, 1.0424085057541956, -1.0683697407131716, -0.004356231692863964, -1.1667907859048228, -1.4777276088855544, -0.38077165182966055, -0.969872397000942, -1.6980841916299279, -0.9914198284593434, -0.07812601974476405, -0.018228681633305915, -0.8582119807432321, -1.1741105724168293, 0.7246595371727618, -0.10326535703384612, -1.4573605358758739, -1.6148284344017703, -2.7529826573775713, -0.9974075876858838, -0.5177700007047001, -0.21831560048830448, -2.1412511489272905], \"yaxis\": \"y14\"}, {\"line\": {\"color\": \"rgba(128, 128, 128, 1.0)\", \"dash\": \"solid\", \"shape\": \"linear\", \"width\": 1.3}, \"marker\": {\"size\": 2, \"symbol\": \"circle\"}, \"mode\": \"markers\", \"name\": \"D\", \"text\": \"\", \"type\": \"scatter\", \"x\": [-2.0801954842530854, -1.012248646419635, 1.3232652327046397, 1.068653245193722, 0.4473431505109954, -0.09759555331261434, 0.4913939361288406, 1.0907412801736536, -0.3952692084028424, 0.9258753944397978, -0.7384413445378213, -0.31787180989326863, 0.41700428379960064, 0.6169563874809506, -0.5533118212780033, 0.10214386353408453, -0.3296850142235436, 1.0750401394967823, -0.45381682549475283, -0.16858566107054548, -1.85526676351296, 1.0634692881601842, 1.329723268726233, -0.09004064719788596, -0.5232441532800234, -0.5286476623586482, 1.56954133362809, -0.25445912663840253, -0.24977001376546662, -0.7070986715272332, 0.3857937791543105, -0.6013806674566733, -0.4453684923951969, 1.1182233093725122, -1.2769659479554023, -0.5445238324820918, 0.9990525554096598, 0.5251609315298159, 1.5392912526018883, -0.971095200299162, 0.3675167346099236, 0.16138437344170045, 0.09746166488436017, 0.22518220572810532, -1.1198076099048129, 0.005111309652542074, 0.39279883028651513, 0.23399425783113573, 0.11523169380654982, -0.12559021266810222, -1.0594698680160406, -0.7858237911363148, 0.20117084772193605, -1.3251754450583033, 0.34701632792761405, 0.3326465503694515, 1.3194715224871045, -0.9469273892058584, -1.4525211649807754, -0.7930788404805282, -0.5487878796047415, -0.8338095747373878, -0.18458116778035052, -1.8898177562650742, -0.9305403598408326, 0.9600402473315202, 0.5013522684531851, 0.6964764986781917, 1.1172290369042306, 0.7992185353945016, -2.2048184120024428, -1.2889597505573922, 0.2505191621450121, -1.6319268531335172, 1.1817131103582106, -0.8990547247662171, -0.575832744607948, 0.046390907870445426, -0.6227126274050468, 0.7883913157586375, -0.5097836918707317, -0.4840801161815726, 0.13436275960287455, -1.2197724595704293, 0.2081925040015876, 0.34192791684551804, 0.49291742382682135, 0.09201977043119879, 1.3005200974593913, -0.3522452500997659, -0.3704964131275352, -0.0445344240652476, -0.5743768403100804, 0.057713728297095264, -0.12423810305203296, -1.161102229440341, -0.5857461058902402, 1.0327550810089714, 0.5732034677469589, -0.66672263760295], \"xaxis\": \"x15\", \"y\": [-1.6889943276061983, -2.160652881430035, 0.7969173286751591, -0.40689200535211484, 1.1063863317023126, 0.32587136889469626, 1.4251924446590751, -0.049343482341913554, 0.9785306319828516, 0.3771094275577349, -0.6853301746631065, -0.2914417143453693, 1.8567027535640652, 0.38481773482027093, -1.167859631205922, 0.9758959747850864, 0.8006123176344719, -1.5947409809288808, -1.6116749594079887, 1.727215606605738, 0.4793062714084753, 0.23227696562282796, -0.8111699652442527, 0.8580603006263023, -2.110505442185867, -0.7575236466560565, 0.8171669972107859, -0.013421757194777166, 1.7662025857914379, -0.35261289515712557, 1.079640561165116, -0.7445062704238944, -0.46963426145434883, -1.2359576841608122, -1.4618667743241767, -0.780915455602358, -0.3075388802068042, 0.5997702843507153, 0.024773052053056865, 1.4751266506815628, 0.6467806287776092, -0.3001218548271014, 1.1870186479845986, -0.09868874741332945, 0.37117461726540174, -0.632524468294907, 0.6582455184587414, 0.5883642323078896, 0.6166385866073346, -1.0086365117714602, 0.7209498010512816, 1.8518676997876742, -0.5380555147800582, 1.4353050142899981, -1.6633010766887348, -0.06638139914457122, 0.6647926633745758, 0.6873425170813442, -1.797936163991116, -1.4036787270915132, 0.26853914745105245, 0.15194493204514142, 1.0789440777405943, 0.5615595901447917, -0.05027937318893131, 1.1120240717042713, 1.0122585162490714, -1.832084962805, 0.1709252479939976, 0.5953036195998925, 0.44461255626940366, -0.6291055204481256, 0.44505919105353736, -0.43976931296823996, 2.6300756410925628, -0.5501876400864705, 0.1944042534603992, -1.838459404771273, 1.0424085057541956, -1.0683697407131716, -0.004356231692863964, -1.1667907859048228, -1.4777276088855544, -0.38077165182966055, -0.969872397000942, -1.6980841916299279, -0.9914198284593434, -0.07812601974476405, -0.018228681633305915, -0.8582119807432321, -1.1741105724168293, 0.7246595371727618, -0.10326535703384612, -1.4573605358758739, -1.6148284344017703, -2.7529826573775713, -0.9974075876858838, -0.5177700007047001, -0.21831560048830448, -2.1412511489272905], \"yaxis\": \"y15\"}, {\"histfunc\": \"count\", \"histnorm\": \"\", \"marker\": {\"color\": \"rgba(128, 0, 128, 1.0)\", \"line\": {\"color\": \"#4D5663\", \"width\": 1.3}}, \"name\": \"D\", \"nbinsx\": 10, \"opacity\": 0.8, \"orientation\": \"v\", \"type\": \"histogram\", \"x\": [-1.6889943276061983, -2.160652881430035, 0.7969173286751591, -0.40689200535211484, 1.1063863317023126, 0.32587136889469626, 1.4251924446590751, -0.049343482341913554, 0.9785306319828516, 0.3771094275577349, -0.6853301746631065, -0.2914417143453693, 1.8567027535640652, 0.38481773482027093, -1.167859631205922, 0.9758959747850864, 0.8006123176344719, -1.5947409809288808, -1.6116749594079887, 1.727215606605738, 0.4793062714084753, 0.23227696562282796, -0.8111699652442527, 0.8580603006263023, -2.110505442185867, -0.7575236466560565, 0.8171669972107859, -0.013421757194777166, 1.7662025857914379, -0.35261289515712557, 1.079640561165116, -0.7445062704238944, -0.46963426145434883, -1.2359576841608122, -1.4618667743241767, -0.780915455602358, -0.3075388802068042, 0.5997702843507153, 0.024773052053056865, 1.4751266506815628, 0.6467806287776092, -0.3001218548271014, 1.1870186479845986, -0.09868874741332945, 0.37117461726540174, -0.632524468294907, 0.6582455184587414, 0.5883642323078896, 0.6166385866073346, -1.0086365117714602, 0.7209498010512816, 1.8518676997876742, -0.5380555147800582, 1.4353050142899981, -1.6633010766887348, -0.06638139914457122, 0.6647926633745758, 0.6873425170813442, -1.797936163991116, -1.4036787270915132, 0.26853914745105245, 0.15194493204514142, 1.0789440777405943, 0.5615595901447917, -0.05027937318893131, 1.1120240717042713, 1.0122585162490714, -1.832084962805, 0.1709252479939976, 0.5953036195998925, 0.44461255626940366, -0.6291055204481256, 0.44505919105353736, -0.43976931296823996, 2.6300756410925628, -0.5501876400864705, 0.1944042534603992, -1.838459404771273, 1.0424085057541956, -1.0683697407131716, -0.004356231692863964, -1.1667907859048228, -1.4777276088855544, -0.38077165182966055, -0.969872397000942, -1.6980841916299279, -0.9914198284593434, -0.07812601974476405, -0.018228681633305915, -0.8582119807432321, -1.1741105724168293, 0.7246595371727618, -0.10326535703384612, -1.4573605358758739, -1.6148284344017703, -2.7529826573775713, -0.9974075876858838, -0.5177700007047001, -0.21831560048830448, -2.1412511489272905], \"xaxis\": \"x16\", \"yaxis\": \"y16\"}],\n",
       "                        {\"bargap\": 0.02, \"legend\": {\"bgcolor\": \"#F5F6F9\", \"font\": {\"color\": \"#4D5663\"}}, \"paper_bgcolor\": \"#F5F6F9\", \"plot_bgcolor\": \"#F5F6F9\", \"showlegend\": false, \"template\": {\"data\": {\"bar\": [{\"error_x\": {\"color\": \"#2a3f5f\"}, \"error_y\": {\"color\": \"#2a3f5f\"}, \"marker\": {\"line\": {\"color\": \"#E5ECF6\", \"width\": 0.5}}, \"type\": \"bar\"}], \"barpolar\": [{\"marker\": {\"line\": {\"color\": \"#E5ECF6\", \"width\": 0.5}}, \"type\": \"barpolar\"}], \"carpet\": [{\"aaxis\": {\"endlinecolor\": \"#2a3f5f\", \"gridcolor\": \"white\", \"linecolor\": \"white\", \"minorgridcolor\": \"white\", \"startlinecolor\": \"#2a3f5f\"}, \"baxis\": {\"endlinecolor\": \"#2a3f5f\", \"gridcolor\": \"white\", \"linecolor\": \"white\", \"minorgridcolor\": \"white\", \"startlinecolor\": \"#2a3f5f\"}, \"type\": \"carpet\"}], \"choropleth\": [{\"colorbar\": {\"outlinewidth\": 0, \"ticks\": \"\"}, \"type\": \"choropleth\"}], \"contour\": [{\"colorbar\": {\"outlinewidth\": 0, \"ticks\": \"\"}, \"colorscale\": [[0.0, \"#0d0887\"], [0.1111111111111111, \"#46039f\"], [0.2222222222222222, \"#7201a8\"], [0.3333333333333333, \"#9c179e\"], [0.4444444444444444, \"#bd3786\"], [0.5555555555555556, \"#d8576b\"], [0.6666666666666666, \"#ed7953\"], [0.7777777777777778, \"#fb9f3a\"], [0.8888888888888888, \"#fdca26\"], [1.0, \"#f0f921\"]], \"type\": \"contour\"}], \"contourcarpet\": [{\"colorbar\": {\"outlinewidth\": 0, \"ticks\": \"\"}, \"type\": \"contourcarpet\"}], \"heatmap\": [{\"colorbar\": {\"outlinewidth\": 0, \"ticks\": \"\"}, \"colorscale\": [[0.0, \"#0d0887\"], [0.1111111111111111, \"#46039f\"], [0.2222222222222222, \"#7201a8\"], [0.3333333333333333, \"#9c179e\"], [0.4444444444444444, \"#bd3786\"], [0.5555555555555556, \"#d8576b\"], [0.6666666666666666, \"#ed7953\"], [0.7777777777777778, \"#fb9f3a\"], [0.8888888888888888, \"#fdca26\"], [1.0, \"#f0f921\"]], \"type\": \"heatmap\"}], \"heatmapgl\": [{\"colorbar\": {\"outlinewidth\": 0, \"ticks\": \"\"}, \"colorscale\": [[0.0, \"#0d0887\"], [0.1111111111111111, \"#46039f\"], [0.2222222222222222, \"#7201a8\"], [0.3333333333333333, \"#9c179e\"], [0.4444444444444444, \"#bd3786\"], [0.5555555555555556, \"#d8576b\"], [0.6666666666666666, \"#ed7953\"], [0.7777777777777778, \"#fb9f3a\"], [0.8888888888888888, \"#fdca26\"], [1.0, \"#f0f921\"]], \"type\": \"heatmapgl\"}], \"histogram\": [{\"marker\": {\"colorbar\": {\"outlinewidth\": 0, \"ticks\": \"\"}}, \"type\": \"histogram\"}], \"histogram2d\": [{\"colorbar\": {\"outlinewidth\": 0, \"ticks\": \"\"}, \"colorscale\": [[0.0, \"#0d0887\"], [0.1111111111111111, \"#46039f\"], [0.2222222222222222, \"#7201a8\"], [0.3333333333333333, \"#9c179e\"], [0.4444444444444444, \"#bd3786\"], [0.5555555555555556, \"#d8576b\"], [0.6666666666666666, \"#ed7953\"], [0.7777777777777778, \"#fb9f3a\"], [0.8888888888888888, \"#fdca26\"], [1.0, \"#f0f921\"]], \"type\": \"histogram2d\"}], \"histogram2dcontour\": [{\"colorbar\": {\"outlinewidth\": 0, \"ticks\": \"\"}, \"colorscale\": [[0.0, \"#0d0887\"], [0.1111111111111111, \"#46039f\"], [0.2222222222222222, \"#7201a8\"], [0.3333333333333333, \"#9c179e\"], [0.4444444444444444, \"#bd3786\"], [0.5555555555555556, \"#d8576b\"], [0.6666666666666666, \"#ed7953\"], [0.7777777777777778, \"#fb9f3a\"], [0.8888888888888888, \"#fdca26\"], [1.0, \"#f0f921\"]], \"type\": \"histogram2dcontour\"}], \"mesh3d\": [{\"colorbar\": {\"outlinewidth\": 0, \"ticks\": \"\"}, \"type\": \"mesh3d\"}], \"parcoords\": [{\"line\": {\"colorbar\": {\"outlinewidth\": 0, \"ticks\": \"\"}}, \"type\": \"parcoords\"}], \"pie\": [{\"automargin\": true, \"type\": \"pie\"}], \"scatter\": [{\"marker\": {\"colorbar\": {\"outlinewidth\": 0, \"ticks\": \"\"}}, \"type\": \"scatter\"}], \"scatter3d\": [{\"line\": {\"colorbar\": {\"outlinewidth\": 0, \"ticks\": \"\"}}, \"marker\": {\"colorbar\": {\"outlinewidth\": 0, \"ticks\": \"\"}}, \"type\": \"scatter3d\"}], \"scattercarpet\": [{\"marker\": {\"colorbar\": {\"outlinewidth\": 0, \"ticks\": \"\"}}, \"type\": \"scattercarpet\"}], \"scattergeo\": [{\"marker\": {\"colorbar\": {\"outlinewidth\": 0, \"ticks\": \"\"}}, \"type\": \"scattergeo\"}], \"scattergl\": [{\"marker\": {\"colorbar\": {\"outlinewidth\": 0, \"ticks\": \"\"}}, \"type\": \"scattergl\"}], \"scattermapbox\": [{\"marker\": {\"colorbar\": {\"outlinewidth\": 0, \"ticks\": \"\"}}, \"type\": \"scattermapbox\"}], \"scatterpolar\": [{\"marker\": {\"colorbar\": {\"outlinewidth\": 0, \"ticks\": \"\"}}, \"type\": \"scatterpolar\"}], \"scatterpolargl\": [{\"marker\": {\"colorbar\": {\"outlinewidth\": 0, \"ticks\": \"\"}}, \"type\": \"scatterpolargl\"}], \"scatterternary\": [{\"marker\": {\"colorbar\": {\"outlinewidth\": 0, \"ticks\": \"\"}}, \"type\": \"scatterternary\"}], \"surface\": [{\"colorbar\": {\"outlinewidth\": 0, \"ticks\": \"\"}, \"colorscale\": [[0.0, \"#0d0887\"], [0.1111111111111111, \"#46039f\"], [0.2222222222222222, \"#7201a8\"], [0.3333333333333333, \"#9c179e\"], [0.4444444444444444, \"#bd3786\"], [0.5555555555555556, \"#d8576b\"], [0.6666666666666666, \"#ed7953\"], [0.7777777777777778, \"#fb9f3a\"], [0.8888888888888888, \"#fdca26\"], [1.0, \"#f0f921\"]], \"type\": \"surface\"}], \"table\": [{\"cells\": {\"fill\": {\"color\": \"#EBF0F8\"}, \"line\": {\"color\": \"white\"}}, \"header\": {\"fill\": {\"color\": \"#C8D4E3\"}, \"line\": {\"color\": \"white\"}}, \"type\": \"table\"}]}, \"layout\": {\"annotationdefaults\": {\"arrowcolor\": \"#2a3f5f\", \"arrowhead\": 0, \"arrowwidth\": 1}, \"coloraxis\": {\"colorbar\": {\"outlinewidth\": 0, \"ticks\": \"\"}}, \"colorscale\": {\"diverging\": [[0, \"#8e0152\"], [0.1, \"#c51b7d\"], [0.2, \"#de77ae\"], [0.3, \"#f1b6da\"], [0.4, \"#fde0ef\"], [0.5, \"#f7f7f7\"], [0.6, \"#e6f5d0\"], [0.7, \"#b8e186\"], [0.8, \"#7fbc41\"], [0.9, \"#4d9221\"], [1, \"#276419\"]], \"sequential\": [[0.0, \"#0d0887\"], [0.1111111111111111, \"#46039f\"], [0.2222222222222222, \"#7201a8\"], [0.3333333333333333, \"#9c179e\"], [0.4444444444444444, \"#bd3786\"], [0.5555555555555556, \"#d8576b\"], [0.6666666666666666, \"#ed7953\"], [0.7777777777777778, \"#fb9f3a\"], [0.8888888888888888, \"#fdca26\"], [1.0, \"#f0f921\"]], \"sequentialminus\": [[0.0, \"#0d0887\"], [0.1111111111111111, \"#46039f\"], [0.2222222222222222, \"#7201a8\"], [0.3333333333333333, \"#9c179e\"], [0.4444444444444444, \"#bd3786\"], [0.5555555555555556, \"#d8576b\"], [0.6666666666666666, \"#ed7953\"], [0.7777777777777778, \"#fb9f3a\"], [0.8888888888888888, \"#fdca26\"], [1.0, \"#f0f921\"]]}, \"colorway\": [\"#636efa\", \"#EF553B\", \"#00cc96\", \"#ab63fa\", \"#FFA15A\", \"#19d3f3\", \"#FF6692\", \"#B6E880\", \"#FF97FF\", \"#FECB52\"], \"font\": {\"color\": \"#2a3f5f\"}, \"geo\": {\"bgcolor\": \"white\", \"lakecolor\": \"white\", \"landcolor\": \"#E5ECF6\", \"showlakes\": true, \"showland\": true, \"subunitcolor\": \"white\"}, \"hoverlabel\": {\"align\": \"left\"}, \"hovermode\": \"closest\", \"mapbox\": {\"style\": \"light\"}, \"paper_bgcolor\": \"white\", \"plot_bgcolor\": \"#E5ECF6\", \"polar\": {\"angularaxis\": {\"gridcolor\": \"white\", \"linecolor\": \"white\", \"ticks\": \"\"}, \"bgcolor\": \"#E5ECF6\", \"radialaxis\": {\"gridcolor\": \"white\", \"linecolor\": \"white\", \"ticks\": \"\"}}, \"scene\": {\"xaxis\": {\"backgroundcolor\": \"#E5ECF6\", \"gridcolor\": \"white\", \"gridwidth\": 2, \"linecolor\": \"white\", \"showbackground\": true, \"ticks\": \"\", \"zerolinecolor\": \"white\"}, \"yaxis\": {\"backgroundcolor\": \"#E5ECF6\", \"gridcolor\": \"white\", \"gridwidth\": 2, \"linecolor\": \"white\", \"showbackground\": true, \"ticks\": \"\", \"zerolinecolor\": \"white\"}, \"zaxis\": {\"backgroundcolor\": \"#E5ECF6\", \"gridcolor\": \"white\", \"gridwidth\": 2, \"linecolor\": \"white\", \"showbackground\": true, \"ticks\": \"\", \"zerolinecolor\": \"white\"}}, \"shapedefaults\": {\"line\": {\"color\": \"#2a3f5f\"}}, \"ternary\": {\"aaxis\": {\"gridcolor\": \"white\", \"linecolor\": \"white\", \"ticks\": \"\"}, \"baxis\": {\"gridcolor\": \"white\", \"linecolor\": \"white\", \"ticks\": \"\"}, \"bgcolor\": \"#E5ECF6\", \"caxis\": {\"gridcolor\": \"white\", \"linecolor\": \"white\", \"ticks\": \"\"}}, \"title\": {\"x\": 0.05}, \"xaxis\": {\"automargin\": true, \"gridcolor\": \"white\", \"linecolor\": \"white\", \"ticks\": \"\", \"title\": {\"standoff\": 15}, \"zerolinecolor\": \"white\", \"zerolinewidth\": 2}, \"yaxis\": {\"automargin\": true, \"gridcolor\": \"white\", \"linecolor\": \"white\", \"ticks\": \"\", \"title\": {\"standoff\": 15}, \"zerolinecolor\": \"white\", \"zerolinewidth\": 2}}}, \"title\": {\"font\": {\"color\": \"#4D5663\"}}, \"xaxis\": {\"anchor\": \"y\", \"domain\": [0.0, 0.2125], \"gridcolor\": \"#E1E5ED\", \"showgrid\": false, \"tickfont\": {\"color\": \"#4D5663\"}, \"title\": {\"font\": {\"color\": \"#4D5663\"}, \"text\": \"\"}, \"zerolinecolor\": \"#E1E5ED\"}, \"xaxis10\": {\"anchor\": \"y10\", \"domain\": [0.2625, 0.475], \"gridcolor\": \"#E1E5ED\", \"showgrid\": false, \"tickfont\": {\"color\": \"#4D5663\"}, \"title\": {\"font\": {\"color\": \"#4D5663\"}, \"text\": \"\"}, \"zerolinecolor\": \"#E1E5ED\"}, \"xaxis11\": {\"anchor\": \"y11\", \"domain\": [0.525, 0.7375], \"gridcolor\": \"#E1E5ED\", \"showgrid\": false, \"tickfont\": {\"color\": \"#4D5663\"}, \"title\": {\"font\": {\"color\": \"#4D5663\"}, \"text\": \"\"}, \"zerolinecolor\": \"#E1E5ED\"}, \"xaxis12\": {\"anchor\": \"y12\", \"domain\": [0.7875, 1.0], \"gridcolor\": \"#E1E5ED\", \"showgrid\": false, \"tickfont\": {\"color\": \"#4D5663\"}, \"title\": {\"font\": {\"color\": \"#4D5663\"}, \"text\": \"\"}, \"zerolinecolor\": \"#E1E5ED\"}, \"xaxis13\": {\"anchor\": \"y13\", \"domain\": [0.0, 0.2125], \"gridcolor\": \"#E1E5ED\", \"showgrid\": false, \"tickfont\": {\"color\": \"#4D5663\"}, \"title\": {\"font\": {\"color\": \"#4D5663\"}, \"text\": \"\"}, \"zerolinecolor\": \"#E1E5ED\"}, \"xaxis14\": {\"anchor\": \"y14\", \"domain\": [0.2625, 0.475], \"gridcolor\": \"#E1E5ED\", \"showgrid\": false, \"tickfont\": {\"color\": \"#4D5663\"}, \"title\": {\"font\": {\"color\": \"#4D5663\"}, \"text\": \"\"}, \"zerolinecolor\": \"#E1E5ED\"}, \"xaxis15\": {\"anchor\": \"y15\", \"domain\": [0.525, 0.7375], \"gridcolor\": \"#E1E5ED\", \"showgrid\": false, \"tickfont\": {\"color\": \"#4D5663\"}, \"title\": {\"font\": {\"color\": \"#4D5663\"}, \"text\": \"\"}, \"zerolinecolor\": \"#E1E5ED\"}, \"xaxis16\": {\"anchor\": \"y16\", \"domain\": [0.7875, 1.0], \"gridcolor\": \"#E1E5ED\", \"showgrid\": false, \"tickfont\": {\"color\": \"#4D5663\"}, \"title\": {\"font\": {\"color\": \"#4D5663\"}, \"text\": \"\"}, \"zerolinecolor\": \"#E1E5ED\"}, \"xaxis2\": {\"anchor\": \"y2\", \"domain\": [0.2625, 0.475], \"gridcolor\": \"#E1E5ED\", \"showgrid\": false, \"tickfont\": {\"color\": \"#4D5663\"}, \"title\": {\"font\": {\"color\": \"#4D5663\"}, \"text\": \"\"}, \"zerolinecolor\": \"#E1E5ED\"}, \"xaxis3\": {\"anchor\": \"y3\", \"domain\": [0.525, 0.7375], \"gridcolor\": \"#E1E5ED\", \"showgrid\": false, \"tickfont\": {\"color\": \"#4D5663\"}, \"title\": {\"font\": {\"color\": \"#4D5663\"}, \"text\": \"\"}, \"zerolinecolor\": \"#E1E5ED\"}, \"xaxis4\": {\"anchor\": \"y4\", \"domain\": [0.7875, 1.0], \"gridcolor\": \"#E1E5ED\", \"showgrid\": false, \"tickfont\": {\"color\": \"#4D5663\"}, \"title\": {\"font\": {\"color\": \"#4D5663\"}, \"text\": \"\"}, \"zerolinecolor\": \"#E1E5ED\"}, \"xaxis5\": {\"anchor\": \"y5\", \"domain\": [0.0, 0.2125], \"gridcolor\": \"#E1E5ED\", \"showgrid\": false, \"tickfont\": {\"color\": \"#4D5663\"}, \"title\": {\"font\": {\"color\": \"#4D5663\"}, \"text\": \"\"}, \"zerolinecolor\": \"#E1E5ED\"}, \"xaxis6\": {\"anchor\": \"y6\", \"domain\": [0.2625, 0.475], \"gridcolor\": \"#E1E5ED\", \"showgrid\": false, \"tickfont\": {\"color\": \"#4D5663\"}, \"title\": {\"font\": {\"color\": \"#4D5663\"}, \"text\": \"\"}, \"zerolinecolor\": \"#E1E5ED\"}, \"xaxis7\": {\"anchor\": \"y7\", \"domain\": [0.525, 0.7375], \"gridcolor\": \"#E1E5ED\", \"showgrid\": false, \"tickfont\": {\"color\": \"#4D5663\"}, \"title\": {\"font\": {\"color\": \"#4D5663\"}, \"text\": \"\"}, \"zerolinecolor\": \"#E1E5ED\"}, \"xaxis8\": {\"anchor\": \"y8\", \"domain\": [0.7875, 1.0], \"gridcolor\": \"#E1E5ED\", \"showgrid\": false, \"tickfont\": {\"color\": \"#4D5663\"}, \"title\": {\"font\": {\"color\": \"#4D5663\"}, \"text\": \"\"}, \"zerolinecolor\": \"#E1E5ED\"}, \"xaxis9\": {\"anchor\": \"y9\", \"domain\": [0.0, 0.2125], \"gridcolor\": \"#E1E5ED\", \"showgrid\": false, \"tickfont\": {\"color\": \"#4D5663\"}, \"title\": {\"font\": {\"color\": \"#4D5663\"}, \"text\": \"\"}, \"zerolinecolor\": \"#E1E5ED\"}, \"yaxis\": {\"anchor\": \"x\", \"domain\": [0.8025, 1.0], \"gridcolor\": \"#E1E5ED\", \"showgrid\": false, \"tickfont\": {\"color\": \"#4D5663\"}, \"title\": {\"font\": {\"color\": \"#4D5663\"}, \"text\": \"\"}, \"zerolinecolor\": \"#E1E5ED\"}, \"yaxis10\": {\"anchor\": \"x10\", \"domain\": [0.2675, 0.465], \"gridcolor\": \"#E1E5ED\", \"showgrid\": false, \"tickfont\": {\"color\": \"#4D5663\"}, \"title\": {\"font\": {\"color\": \"#4D5663\"}, \"text\": \"\"}, \"zerolinecolor\": \"#E1E5ED\"}, \"yaxis11\": {\"anchor\": \"x11\", \"domain\": [0.2675, 0.465], \"gridcolor\": \"#E1E5ED\", \"showgrid\": false, \"tickfont\": {\"color\": \"#4D5663\"}, \"title\": {\"font\": {\"color\": \"#4D5663\"}, \"text\": \"\"}, \"zerolinecolor\": \"#E1E5ED\"}, \"yaxis12\": {\"anchor\": \"x12\", \"domain\": [0.2675, 0.465], \"gridcolor\": \"#E1E5ED\", \"showgrid\": false, \"tickfont\": {\"color\": \"#4D5663\"}, \"title\": {\"font\": {\"color\": \"#4D5663\"}, \"text\": \"\"}, \"zerolinecolor\": \"#E1E5ED\"}, \"yaxis13\": {\"anchor\": \"x13\", \"domain\": [0.0, 0.1975], \"gridcolor\": \"#E1E5ED\", \"showgrid\": false, \"tickfont\": {\"color\": \"#4D5663\"}, \"title\": {\"font\": {\"color\": \"#4D5663\"}, \"text\": \"\"}, \"zerolinecolor\": \"#E1E5ED\"}, \"yaxis14\": {\"anchor\": \"x14\", \"domain\": [0.0, 0.1975], \"gridcolor\": \"#E1E5ED\", \"showgrid\": false, \"tickfont\": {\"color\": \"#4D5663\"}, \"title\": {\"font\": {\"color\": \"#4D5663\"}, \"text\": \"\"}, \"zerolinecolor\": \"#E1E5ED\"}, \"yaxis15\": {\"anchor\": \"x15\", \"domain\": [0.0, 0.1975], \"gridcolor\": \"#E1E5ED\", \"showgrid\": false, \"tickfont\": {\"color\": \"#4D5663\"}, \"title\": {\"font\": {\"color\": \"#4D5663\"}, \"text\": \"\"}, \"zerolinecolor\": \"#E1E5ED\"}, \"yaxis16\": {\"anchor\": \"x16\", \"domain\": [0.0, 0.1975], \"gridcolor\": \"#E1E5ED\", \"showgrid\": false, \"tickfont\": {\"color\": \"#4D5663\"}, \"title\": {\"font\": {\"color\": \"#4D5663\"}, \"text\": \"\"}, \"zerolinecolor\": \"#E1E5ED\"}, \"yaxis2\": {\"anchor\": \"x2\", \"domain\": [0.8025, 1.0], \"gridcolor\": \"#E1E5ED\", \"showgrid\": false, \"tickfont\": {\"color\": \"#4D5663\"}, \"title\": {\"font\": {\"color\": \"#4D5663\"}, \"text\": \"\"}, \"zerolinecolor\": \"#E1E5ED\"}, \"yaxis3\": {\"anchor\": \"x3\", \"domain\": [0.8025, 1.0], \"gridcolor\": \"#E1E5ED\", \"showgrid\": false, \"tickfont\": {\"color\": \"#4D5663\"}, \"title\": {\"font\": {\"color\": \"#4D5663\"}, \"text\": \"\"}, \"zerolinecolor\": \"#E1E5ED\"}, \"yaxis4\": {\"anchor\": \"x4\", \"domain\": [0.8025, 1.0], \"gridcolor\": \"#E1E5ED\", \"showgrid\": false, \"tickfont\": {\"color\": \"#4D5663\"}, \"title\": {\"font\": {\"color\": \"#4D5663\"}, \"text\": \"\"}, \"zerolinecolor\": \"#E1E5ED\"}, \"yaxis5\": {\"anchor\": \"x5\", \"domain\": [0.535, 0.7325], \"gridcolor\": \"#E1E5ED\", \"showgrid\": false, \"tickfont\": {\"color\": \"#4D5663\"}, \"title\": {\"font\": {\"color\": \"#4D5663\"}, \"text\": \"\"}, \"zerolinecolor\": \"#E1E5ED\"}, \"yaxis6\": {\"anchor\": \"x6\", \"domain\": [0.535, 0.7325], \"gridcolor\": \"#E1E5ED\", \"showgrid\": false, \"tickfont\": {\"color\": \"#4D5663\"}, \"title\": {\"font\": {\"color\": \"#4D5663\"}, \"text\": \"\"}, \"zerolinecolor\": \"#E1E5ED\"}, \"yaxis7\": {\"anchor\": \"x7\", \"domain\": [0.535, 0.7325], \"gridcolor\": \"#E1E5ED\", \"showgrid\": false, \"tickfont\": {\"color\": \"#4D5663\"}, \"title\": {\"font\": {\"color\": \"#4D5663\"}, \"text\": \"\"}, \"zerolinecolor\": \"#E1E5ED\"}, \"yaxis8\": {\"anchor\": \"x8\", \"domain\": [0.535, 0.7325], \"gridcolor\": \"#E1E5ED\", \"showgrid\": false, \"tickfont\": {\"color\": \"#4D5663\"}, \"title\": {\"font\": {\"color\": \"#4D5663\"}, \"text\": \"\"}, \"zerolinecolor\": \"#E1E5ED\"}, \"yaxis9\": {\"anchor\": \"x9\", \"domain\": [0.2675, 0.465], \"gridcolor\": \"#E1E5ED\", \"showgrid\": false, \"tickfont\": {\"color\": \"#4D5663\"}, \"title\": {\"font\": {\"color\": \"#4D5663\"}, \"text\": \"\"}, \"zerolinecolor\": \"#E1E5ED\"}},\n",
       "                        {\"showLink\": true, \"linkText\": \"Export to plot.ly\", \"plotlyServerURL\": \"https://plot.ly\", \"responsive\": true}\n",
       "                    ).then(function(){\n",
       "                            \n",
       "var gd = document.getElementById('4c5e5cc7-094f-44a5-ad07-095c817c77ea');\n",
       "var x = new MutationObserver(function (mutations, observer) {{\n",
       "        var display = window.getComputedStyle(gd).display;\n",
       "        if (!display || display === 'none') {{\n",
       "            console.log([gd, 'removed!']);\n",
       "            Plotly.purge(gd);\n",
       "            observer.disconnect();\n",
       "        }}\n",
       "}});\n",
       "\n",
       "// Listen for the removal of the full notebook cells\n",
       "var notebookContainer = gd.closest('#notebook-container');\n",
       "if (notebookContainer) {{\n",
       "    x.observe(notebookContainer, {childList: true});\n",
       "}}\n",
       "\n",
       "// Listen for the clearing of the current output cell\n",
       "var outputEl = gd.closest('.output');\n",
       "if (outputEl) {{\n",
       "    x.observe(outputEl, {childList: true});\n",
       "}}\n",
       "\n",
       "                        })\n",
       "                };\n",
       "                });\n",
       "            </script>\n",
       "        </div>"
      ]
     },
     "metadata": {},
     "output_type": "display_data"
    }
   ],
   "source": [
    "df.scatter_matrix()"
   ]
  },
  {
   "cell_type": "code",
   "execution_count": null,
   "metadata": {},
   "outputs": [],
   "source": []
  }
 ],
 "metadata": {
  "kernelspec": {
   "display_name": "Python 3",
   "language": "python",
   "name": "python3"
  },
  "language_info": {
   "codemirror_mode": {
    "name": "ipython",
    "version": 3
   },
   "file_extension": ".py",
   "mimetype": "text/x-python",
   "name": "python",
   "nbconvert_exporter": "python",
   "pygments_lexer": "ipython3",
   "version": "3.7.4"
  }
 },
 "nbformat": 4,
 "nbformat_minor": 2
}
