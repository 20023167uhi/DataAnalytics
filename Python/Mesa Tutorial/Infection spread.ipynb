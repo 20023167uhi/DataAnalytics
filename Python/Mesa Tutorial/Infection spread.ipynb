{
 "cells": [
  {
   "cell_type": "markdown",
   "metadata": {},
   "source": [
    "# Agent Models Creation"
   ]
  },
  {
   "cell_type": "code",
   "execution_count": 1,
   "metadata": {},
   "outputs": [],
   "source": [
    "import matplotlib.pyplot as plt\n",
    "\n",
    "from mesa import Agent, Model\n",
    "\n",
    "from mesa.batchrunner import BatchRunner\n",
    "from mesa.datacollection import DataCollector\n",
    "from mesa.time import RandomActivation\n",
    "from mesa.space import MultiGrid\n",
    "\n",
    "import numpy as np\n",
    "import random\n",
    "\n",
    "%matplotlib inline"
   ]
  },
  {
   "cell_type": "code",
   "execution_count": 2,
   "metadata": {},
   "outputs": [],
   "source": [
    "batch_run_bool = 0\n",
    "\n",
    "def average_age(model):\n",
    "    \"\"\"Calculate the average age of the population\"\"\"\n",
    "    agent_age = []\n",
    "    for agent in model.schedule.agents:\n",
    "        if agent.health > 0:\n",
    "            agent_age.append(agent.age)\n",
    "    N = model.num_agents\n",
    "    if len(agent_age) > 0:\n",
    "        B = sum(agent_age)/len(agent_age)\n",
    "        return B # (1 + (1/(N+1)) - 2*B)\n",
    "    else:\n",
    "        return 0\n",
    "\n",
    "# Health has 4 states: \n",
    "#     0 - Dead; \n",
    "#     1 - infected; \n",
    "#     2 - healthy (no anti-bodies); \n",
    "#     3 - healthy (anti-bodies)\n",
    "\n",
    "class InfectedAgent(Agent):\n",
    "    \"\"\"Initializing an agent with health state '2' and random age.\"\"\"\n",
    "    def __init__(self, unique_id, model):\n",
    "        super().__init__(unique_id, model)\n",
    "        self.health = 2\n",
    "        \n",
    "        # Age is a big role in survival, as people age their immune system weakens\n",
    "        # These are percentage values of survival probability.\n",
    "        self.age = random.randint(1, 86)\n",
    "        if self.age < 40:\n",
    "            self.survival = 99\n",
    "        elif self.age <= 60:\n",
    "            self.survival = 90\n",
    "        elif self.age > 60:\n",
    "            self.survival = 15\n",
    "        self.infect_day_count = 0\n",
    "\n",
    "    def move(self):\n",
    "        # 2 ways to get neighbors: \n",
    "        #     Moore - 8 surrounding cells; \n",
    "        #     Von Neumann - Only XY axis.\n",
    "        possible_steps = self.model.grid.get_neighborhood(\n",
    "            self.pos,\n",
    "            moore = True,\n",
    "            include_center = False,\n",
    "        )\n",
    "        new_position = self.random.choice(possible_steps)\n",
    "        self.model.grid.move_agent(self, new_position)\n",
    "            \n",
    "    def infect(self):\n",
    "        \"\"\"Spreading the infect to cellmates\"\"\"\n",
    "        cellmates = self.model.grid.get_cell_list_contents([self.pos])\n",
    "        if len(cellmates) > 1:\n",
    "            for cellmate in cellmates:\n",
    "                if self.health == 1 and cellmate.health == 2: \n",
    "                    cellmate.health = self.health\n",
    "                elif self.health == 2 and cellmate.health == 1:\n",
    "                    self.health = cellmate.health\n",
    "                    self.immunity()\n",
    "                elif self.health == 1 and cellmate.health == 1:\n",
    "                    self.immunity()\n",
    "    \n",
    "    def immunity(self):\n",
    "        if self.health == 1:            \n",
    "            # Random roll of fate whether one survives or not.\n",
    "            # Probability of survival helps\n",
    "            if self.survival < random.randint(1, 100):\n",
    "                self.health = 0\n",
    "                \n",
    "            # Survive for 14 days and you're considered 'immmune'.\n",
    "            self.infect_day_count += 1\n",
    "            if self.infect_day_count == 14:\n",
    "                self.health = 3        \n",
    "        \n",
    "    def step(self):\n",
    "        # Make the agent move in environment by 1 step.\n",
    "        if self.health != 0:\n",
    "            self.move()\n",
    "        # Spreading (1) or catching (2) the infection\n",
    "        if self.health == 1 or self.health == 2:\n",
    "            self.infect()\n",
    "\n",
    "class InfectionModel(Model):\n",
    "    \"\"\"Declaring the model environment with some number of agents.\"\"\"\n",
    "    def __init__(self, N, width, height):\n",
    "        self.num_agents = N\n",
    "        self.grid = MultiGrid(width, height, True)\n",
    "        self.schedule = RandomActivation(self)\n",
    "        self.running = True\n",
    "\n",
    "        # Create agents\n",
    "        for i in range(self.num_agents):\n",
    "            a = InfectedAgent(i, self)\n",
    "            self.schedule.add(a)\n",
    "\n",
    "            # Assign the agents to a random grid cell\n",
    "            x = self.random.randrange(self.grid.width)\n",
    "            y = self.random.randrange(self.grid.height)\n",
    "            self.grid.place_agent(a, (x, y))\n",
    "        \n",
    "        self.datacollector = DataCollector(\n",
    "            model_reporters={\"Average Age\": average_age},\n",
    "            agent_reporters={\"Health\": \"health\"},\n",
    "        )\n",
    "        pz = random.choice(list(self.schedule.agents))\n",
    "        pz.health = 1\n",
    "                \n",
    "    def step(self):\n",
    "        '''Advance the model by one step'''\n",
    "        self.datacollector.collect(self)\n",
    "        self.schedule.step()"
   ]
  },
  {
   "cell_type": "markdown",
   "metadata": {},
   "source": [
    "# Running basic models"
   ]
  },
  {
   "cell_type": "code",
   "execution_count": 3,
   "metadata": {},
   "outputs": [
    {
     "data": {
      "text/plain": [
       "(array([4., 0., 0., 0., 0., 0., 0., 0., 0., 6.]),\n",
       " array([0. , 0.3, 0.6, 0.9, 1.2, 1.5, 1.8, 2.1, 2.4, 2.7, 3. ]),\n",
       " <a list of 10 Patch objects>)"
      ]
     },
     "execution_count": 3,
     "metadata": {},
     "output_type": "execute_result"
    },
    {
     "data": {
      "image/png": "[encoded data removed]",
      "text/plain": [
       "<Figure size 432x288 with 1 Axes>"
      ]
     },
     "metadata": {
      "needs_background": "light"
     },
     "output_type": "display_data"
    }
   ],
   "source": [
    "import numpy as np\n",
    "\"\"\" Single run of the agents to show the process \"\"\"\n",
    "model = InfectionModel(10, 1, 1)\n",
    "for i in range(10):\n",
    "    model.step()\n",
    "\n",
    "agent_health = [a.health for a in model.schedule.agents]\n",
    "plt.hist(agent_health)"
   ]
  },
  {
   "cell_type": "code",
   "execution_count": 4,
   "metadata": {},
   "outputs": [
    {
     "data": {
      "text/plain": [
       "(array([521.,   3., 476.]), array([0, 1, 2, 3]), <a list of 3 Patch objects>)"
      ]
     },
     "execution_count": 4,
     "metadata": {},
     "output_type": "execute_result"
    },
    {
     "data": {
      "image/png": "[encoded data removed]",
      "text/plain": [
       "<Figure size 432x288 with 1 Axes>"
      ]
     },
     "metadata": {
      "needs_background": "light"
     },
     "output_type": "display_data"
    }
   ],
   "source": [
    "\"\"\"Cycling the agents through multiple iterations to show where the infection is going\"\"\"\n",
    "all_health = []\n",
    "# Running the model 100 times, each model executing 10 steps \n",
    "for j in range(100):\n",
    "    # Run the model\n",
    "#     print(f\"Model run number {j+1}\")\n",
    "    model = InfectionModel(10, 1, 1)\n",
    "    for i in range(10):\n",
    "        model.step()\n",
    "    \n",
    "    # Storing the results\n",
    "    for agent in model.schedule.agents:\n",
    "        all_health.append(agent.health)\n",
    "\n",
    "plt.hist(all_health, bins=range(max(all_health)+1))"
   ]
  },
  {
   "cell_type": "code",
   "execution_count": 5,
   "metadata": {},
   "outputs": [
    {
     "data": {
      "text/plain": [
       "<matplotlib.colorbar.Colorbar at 0x1f31c50fec8>"
      ]
     },
     "execution_count": 5,
     "metadata": {},
     "output_type": "execute_result"
    },
    {
     "data": {
      "image/png": "[encoded data removed]",
      "text/plain": [
       "<Figure size 432x288 with 2 Axes>"
      ]
     },
     "metadata": {
      "needs_background": "light"
     },
     "output_type": "display_data"
    }
   ],
   "source": [
    "\"\"\"Running a 2x2 instance of the matrix to show how neighbors are affected\"\"\"\n",
    "model = InfectionModel(50, 10, 10)\n",
    "for i in range(100):\n",
    "    model.step()\n",
    "\n",
    "agent_counts = np.zeros((model.grid.width, model.grid.height))\n",
    "for cell in model.grid.coord_iter():\n",
    "    cell_content, x, y = cell\n",
    "    agent_count = len(cell_content)\n",
    "    agent_counts[x][y] = agent_count\n",
    "plt.imshow(agent_counts, interpolation='nearest')\n",
    "plt.colorbar()"
   ]
  },
  {
   "cell_type": "code",
   "execution_count": 6,
   "metadata": {},
   "outputs": [
    {
     "name": "stdout",
     "output_type": "stream",
     "text": [
      "\n",
      "    Grabbing the Agent health data\n",
      "\n",
      "                  Health\n",
      "Step AgentID        \n",
      "0    0             2\n",
      "     1             2\n",
      "     2             2\n",
      "     3             2\n",
      "     4             2\n",
      "    \n"
     ]
    },
    {
     "data": {
      "image/png": "[encoded data removed]",
      "text/plain": [
       "<Figure size 432x288 with 1 Axes>"
      ]
     },
     "metadata": {
      "needs_background": "light"
     },
     "output_type": "display_data"
    },
    {
     "data": {
      "image/png": "[encoded data removed]",
      "text/plain": [
       "<Figure size 432x288 with 1 Axes>"
      ]
     },
     "metadata": {
      "needs_background": "light"
     },
     "output_type": "display_data"
    },
    {
     "data": {
      "text/plain": [
       "<matplotlib.axes._subplots.AxesSubplot at 0x1f31c74c448>"
      ]
     },
     "execution_count": 6,
     "metadata": {},
     "output_type": "execute_result"
    },
    {
     "data": {
      "image/png": "[encoded data removed]",
      "text/plain": [
       "<Figure size 432x288 with 1 Axes>"
      ]
     },
     "metadata": {
      "needs_background": "light"
     },
     "output_type": "display_data"
    }
   ],
   "source": [
    "\"\"\"Running Data Collection and the Gini function to show a plot of income disparity over steps\"\"\"\n",
    "model = InfectionModel(50, 10, 10)\n",
    "for i in range(100):\n",
    "    model.step()\n",
    "agent_health = model.datacollector.get_agent_vars_dataframe()\n",
    "print(f\"\"\"\n",
    "    Grabbing the Agent health data\n",
    "\n",
    "    {agent_health.head()}\n",
    "    \"\"\")\n",
    "gini = model.datacollector.get_model_vars_dataframe()\n",
    "gini.plot()\n",
    "plt.show()\n",
    "end_health = agent_health.xs(99, level=\"Step\")[\"Health\"]\n",
    "end_health.hist(bins=range(agent_health.Health.max()+1))\n",
    "plt.show()\n",
    "one_agent_health = agent_health.xs(14, level=\"AgentID\")\n",
    "one_agent_health.Health.plot()"
   ]
  },
  {
   "cell_type": "code",
   "execution_count": 7,
   "metadata": {},
   "outputs": [],
   "source": [
    "\"\"\"\n",
    "    Running app as a batch command. \n",
    "    This will plot a scatter chart of 5 points per column as per iterations for each gini result.\n",
    "\"\"\"\n",
    "fixed_params = {\n",
    "    \"width\": 10,\n",
    "    \"height\": 10,\n",
    "}\n",
    "variable_params = {\"N\": range(10, 500, 10)}\n",
    "\n",
    "batch_run = BatchRunner(\n",
    "    InfectionModel,\n",
    "    variable_params,\n",
    "    fixed_params,\n",
    "    iterations=5,\n",
    "    max_steps=50,\n",
    "    model_reporters={\"Average Age\": average_age},\n",
    ")\n",
    "if batch_run_bool: # Boolean at the top to prevent this from running\n",
    "    batch_run.run_all()\n",
    "    run_data = batch_run.get_model_vars_dataframe()\n",
    "    print(f\"\"\"The head of the data is \n",
    "\n",
    "        {run_data.head()}\n",
    "    \"\"\")\n",
    "    plt.scatter(run_data.N, run_data.Gini)"
   ]
  },
  {
   "cell_type": "markdown",
   "metadata": {},
   "source": [
    "# Running the view application included with Mesa library "
   ]
  },
  {
   "cell_type": "code",
   "execution_count": 8,
   "metadata": {},
   "outputs": [],
   "source": [
    "from mesa.visualization.modules import CanvasGrid, ChartModule\n",
    "from mesa.visualization.ModularVisualization import ModularServer, VisualizationElement"
   ]
  },
  {
   "cell_type": "code",
   "execution_count": 9,
   "metadata": {},
   "outputs": [],
   "source": [
    "def agent_portrayal(agent):\n",
    "#     portrayal = {\"Shape\": \"circle\",\n",
    "#                  \"Filled\": \"true\",\n",
    "#                  \"Layer\": 0,\n",
    "#                  \"Color\": \"red\",\n",
    "#                  \"r\": 0.5}\n",
    "#     return portrayal\n",
    "    portrayal = {\n",
    "        \"Shape\": \"circle\",\n",
    "        \"Filled\": \"true\",\n",
    "    }\n",
    "    if agent.health == 0:\n",
    "        portrayal[\"Color\"] = \"black\"\n",
    "        portrayal[\"Layer\"] = 3\n",
    "        portrayal[\"r\"] = 0.25\n",
    "        \n",
    "    elif agent.health == 1:\n",
    "        portrayal[\"Color\"] = \"red\"\n",
    "        portrayal[\"Layer\"] = 2\n",
    "        portrayal[\"r\"] = 0.5\n",
    "        \n",
    "    elif agent.health == 2:\n",
    "        portrayal[\"Color\"] = \"yellow\"\n",
    "        portrayal[\"Layer\"] = 1\n",
    "        portrayal[\"r\"] = 0.75\n",
    "        \n",
    "    elif agent.health == 3:\n",
    "        portrayal[\"Color\"] = \"green\"\n",
    "        portrayal[\"Layer\"] = 0\n",
    "        portrayal[\"r\"] = 1.0\n",
    "    return portrayal"
   ]
  },
  {
   "cell_type": "code",
   "execution_count": 10,
   "metadata": {},
   "outputs": [],
   "source": [
    "\"\"\"Creating a custom visualization\"\"\"\n",
    "class HistogramModuleHealth(VisualizationElement):\n",
    "    package_includes = [\"Chart.min.js\"]\n",
    "    local_includes = [\"HistogramModule.js\"]\n",
    "\n",
    "    def __init__(self, bins, canvas_height, canvas_width):\n",
    "        self.canvas_height = canvas_height\n",
    "        self.canvas_width = canvas_width\n",
    "        self.bins = bins\n",
    "        new_element = \"new HistogramModule({}, {}, {})\"\n",
    "        new_element = new_element.format(bins,\n",
    "                                         canvas_width,\n",
    "                                         canvas_height)\n",
    "        self.js_code = \"elements.push(\" + new_element + \");\"\n",
    "\n",
    "    def render(self, model):\n",
    "        health_vals = [agent.health for agent in model.schedule.agents]\n",
    "        hist = np.histogram(health_vals, bins=self.bins)[0]\n",
    "        return [int(x) for x in hist]\n",
    "    \n",
    "class HistogramModuleAge(VisualizationElement):\n",
    "    package_includes = [\"Chart.min.js\"]\n",
    "    local_includes = [\"HistogramModule.js\"]\n",
    "\n",
    "    def __init__(self, bins, canvas_height, canvas_width):\n",
    "        self.canvas_height = canvas_height\n",
    "        self.canvas_width = canvas_width\n",
    "        self.bins = bins\n",
    "        new_element = \"new HistogramModule({}, {}, {})\"\n",
    "        new_element = new_element.format(bins,\n",
    "                                         canvas_width,\n",
    "                                         canvas_height)\n",
    "        self.js_code = \"elements.push(\" + new_element + \");\"\n",
    "\n",
    "    def render(self, model):\n",
    "        age_vals = []\n",
    "        for agent in model.schedule.agents:\n",
    "            if agent.health > 0: \n",
    "                age_vals.append(agent.age)\n",
    "        hist = np.histogram(age_vals, bins=self.bins)[0]\n",
    "        return age_vals # [int(x) for x in hist]"
   ]
  },
  {
   "cell_type": "code",
   "execution_count": 11,
   "metadata": {
    "scrolled": true
   },
   "outputs": [
    {
     "name": "stdout",
     "output_type": "stream",
     "text": [
      "Interface starting at http://127.0.0.1:8521\n"
     ]
    },
    {
     "ename": "RuntimeError",
     "evalue": "This event loop is already running",
     "output_type": "error",
     "traceback": [
      "\u001b[1;31m---------------------------------------------------------------------------\u001b[0m",
      "\u001b[1;31mRuntimeError\u001b[0m                              Traceback (most recent call last)",
      "\u001b[1;32m<ipython-input-11-47cb84305f64>\u001b[0m in \u001b[0;36m<module>\u001b[1;34m\u001b[0m\n\u001b[0;32m     20\u001b[0m \u001b[1;33m\u001b[0m\u001b[0m\n\u001b[0;32m     21\u001b[0m \u001b[1;31m# server.port = 8521 # This is the default value\u001b[0m\u001b[1;33m\u001b[0m\u001b[1;33m\u001b[0m\u001b[1;33m\u001b[0m\u001b[0m\n\u001b[1;32m---> 22\u001b[1;33m \u001b[0mserver\u001b[0m\u001b[1;33m.\u001b[0m\u001b[0mlaunch\u001b[0m\u001b[1;33m(\u001b[0m\u001b[1;33m)\u001b[0m\u001b[1;33m\u001b[0m\u001b[1;33m\u001b[0m\u001b[0m\n\u001b[0m",
      "\u001b[1;32m~\\anaconda3\\lib\\site-packages\\mesa\\visualization\\ModularVisualization.py\u001b[0m in \u001b[0;36mlaunch\u001b[1;34m(self, port, open_browser)\u001b[0m\n\u001b[0;32m    335\u001b[0m             \u001b[0mwebbrowser\u001b[0m\u001b[1;33m.\u001b[0m\u001b[0mopen\u001b[0m\u001b[1;33m(\u001b[0m\u001b[0murl\u001b[0m\u001b[1;33m)\u001b[0m\u001b[1;33m\u001b[0m\u001b[1;33m\u001b[0m\u001b[0m\n\u001b[0;32m    336\u001b[0m         \u001b[0mtornado\u001b[0m\u001b[1;33m.\u001b[0m\u001b[0mautoreload\u001b[0m\u001b[1;33m.\u001b[0m\u001b[0mstart\u001b[0m\u001b[1;33m(\u001b[0m\u001b[1;33m)\u001b[0m\u001b[1;33m\u001b[0m\u001b[1;33m\u001b[0m\u001b[0m\n\u001b[1;32m--> 337\u001b[1;33m         \u001b[0mtornado\u001b[0m\u001b[1;33m.\u001b[0m\u001b[0mioloop\u001b[0m\u001b[1;33m.\u001b[0m\u001b[0mIOLoop\u001b[0m\u001b[1;33m.\u001b[0m\u001b[0mcurrent\u001b[0m\u001b[1;33m(\u001b[0m\u001b[1;33m)\u001b[0m\u001b[1;33m.\u001b[0m\u001b[0mstart\u001b[0m\u001b[1;33m(\u001b[0m\u001b[1;33m)\u001b[0m\u001b[1;33m\u001b[0m\u001b[1;33m\u001b[0m\u001b[0m\n\u001b[0m",
      "\u001b[1;32m~\\anaconda3\\lib\\site-packages\\tornado\\platform\\asyncio.py\u001b[0m in \u001b[0;36mstart\u001b[1;34m(self)\u001b[0m\n\u001b[0;32m    151\u001b[0m             \u001b[0mself\u001b[0m\u001b[1;33m.\u001b[0m\u001b[0m_setup_logging\u001b[0m\u001b[1;33m(\u001b[0m\u001b[1;33m)\u001b[0m\u001b[1;33m\u001b[0m\u001b[1;33m\u001b[0m\u001b[0m\n\u001b[0;32m    152\u001b[0m             \u001b[0masyncio\u001b[0m\u001b[1;33m.\u001b[0m\u001b[0mset_event_loop\u001b[0m\u001b[1;33m(\u001b[0m\u001b[0mself\u001b[0m\u001b[1;33m.\u001b[0m\u001b[0masyncio_loop\u001b[0m\u001b[1;33m)\u001b[0m\u001b[1;33m\u001b[0m\u001b[1;33m\u001b[0m\u001b[0m\n\u001b[1;32m--> 153\u001b[1;33m             \u001b[0mself\u001b[0m\u001b[1;33m.\u001b[0m\u001b[0masyncio_loop\u001b[0m\u001b[1;33m.\u001b[0m\u001b[0mrun_forever\u001b[0m\u001b[1;33m(\u001b[0m\u001b[1;33m)\u001b[0m\u001b[1;33m\u001b[0m\u001b[1;33m\u001b[0m\u001b[0m\n\u001b[0m\u001b[0;32m    154\u001b[0m         \u001b[1;32mfinally\u001b[0m\u001b[1;33m:\u001b[0m\u001b[1;33m\u001b[0m\u001b[1;33m\u001b[0m\u001b[0m\n\u001b[0;32m    155\u001b[0m             \u001b[0masyncio\u001b[0m\u001b[1;33m.\u001b[0m\u001b[0mset_event_loop\u001b[0m\u001b[1;33m(\u001b[0m\u001b[0mold_loop\u001b[0m\u001b[1;33m)\u001b[0m\u001b[1;33m\u001b[0m\u001b[1;33m\u001b[0m\u001b[0m\n",
      "\u001b[1;32m~\\anaconda3\\lib\\asyncio\\base_events.py\u001b[0m in \u001b[0;36mrun_forever\u001b[1;34m(self)\u001b[0m\n\u001b[0;32m    523\u001b[0m         \u001b[0mself\u001b[0m\u001b[1;33m.\u001b[0m\u001b[0m_check_closed\u001b[0m\u001b[1;33m(\u001b[0m\u001b[1;33m)\u001b[0m\u001b[1;33m\u001b[0m\u001b[1;33m\u001b[0m\u001b[0m\n\u001b[0;32m    524\u001b[0m         \u001b[1;32mif\u001b[0m \u001b[0mself\u001b[0m\u001b[1;33m.\u001b[0m\u001b[0mis_running\u001b[0m\u001b[1;33m(\u001b[0m\u001b[1;33m)\u001b[0m\u001b[1;33m:\u001b[0m\u001b[1;33m\u001b[0m\u001b[1;33m\u001b[0m\u001b[0m\n\u001b[1;32m--> 525\u001b[1;33m             \u001b[1;32mraise\u001b[0m \u001b[0mRuntimeError\u001b[0m\u001b[1;33m(\u001b[0m\u001b[1;34m'This event loop is already running'\u001b[0m\u001b[1;33m)\u001b[0m\u001b[1;33m\u001b[0m\u001b[1;33m\u001b[0m\u001b[0m\n\u001b[0m\u001b[0;32m    526\u001b[0m         \u001b[1;32mif\u001b[0m \u001b[0mevents\u001b[0m\u001b[1;33m.\u001b[0m\u001b[0m_get_running_loop\u001b[0m\u001b[1;33m(\u001b[0m\u001b[1;33m)\u001b[0m \u001b[1;32mis\u001b[0m \u001b[1;32mnot\u001b[0m \u001b[1;32mNone\u001b[0m\u001b[1;33m:\u001b[0m\u001b[1;33m\u001b[0m\u001b[1;33m\u001b[0m\u001b[0m\n\u001b[0;32m    527\u001b[0m             raise RuntimeError(\n",
      "\u001b[1;31mRuntimeError\u001b[0m: This event loop is already running"
     ]
    },
    {
     "name": "stdout",
     "output_type": "stream",
     "text": [
      "Socket opened!\n",
      "{\"type\":\"reset\"}\n",
      "{\"type\":\"get_step\",\"step\":1}\n",
      "{\"type\":\"get_step\",\"step\":2}\n",
      "{\"type\":\"get_step\",\"step\":3}\n",
      "{\"type\":\"get_step\",\"step\":4}\n",
      "{\"type\":\"get_step\",\"step\":5}\n",
      "{\"type\":\"get_step\",\"step\":6}\n",
      "{\"type\":\"get_step\",\"step\":7}\n",
      "{\"type\":\"get_step\",\"step\":8}\n",
      "{\"type\":\"get_step\",\"step\":9}\n",
      "{\"type\":\"get_step\",\"step\":10}\n",
      "{\"type\":\"get_step\",\"step\":11}\n",
      "{\"type\":\"get_step\",\"step\":12}\n",
      "{\"type\":\"get_step\",\"step\":13}\n",
      "{\"type\":\"get_step\",\"step\":14}\n",
      "{\"type\":\"get_step\",\"step\":15}\n",
      "{\"type\":\"get_step\",\"step\":16}\n",
      "{\"type\":\"get_step\",\"step\":17}\n",
      "{\"type\":\"get_step\",\"step\":18}\n",
      "{\"type\":\"get_step\",\"step\":19}\n",
      "{\"type\":\"get_step\",\"step\":20}\n",
      "{\"type\":\"get_step\",\"step\":21}\n",
      "{\"type\":\"get_step\",\"step\":22}\n",
      "{\"type\":\"get_step\",\"step\":23}\n",
      "{\"type\":\"get_step\",\"step\":24}\n",
      "{\"type\":\"get_step\",\"step\":25}\n",
      "{\"type\":\"get_step\",\"step\":26}\n",
      "{\"type\":\"get_step\",\"step\":27}\n",
      "{\"type\":\"get_step\",\"step\":28}\n",
      "{\"type\":\"get_step\",\"step\":29}\n",
      "{\"type\":\"get_step\",\"step\":30}\n",
      "{\"type\":\"get_step\",\"step\":31}\n",
      "{\"type\":\"get_step\",\"step\":32}\n",
      "{\"type\":\"get_step\",\"step\":33}\n",
      "{\"type\":\"get_step\",\"step\":34}\n",
      "{\"type\":\"get_step\",\"step\":35}\n",
      "{\"type\":\"get_step\",\"step\":36}\n",
      "{\"type\":\"get_step\",\"step\":37}\n",
      "{\"type\":\"get_step\",\"step\":38}\n",
      "{\"type\":\"get_step\",\"step\":39}\n",
      "{\"type\":\"get_step\",\"step\":40}\n",
      "{\"type\":\"get_step\",\"step\":41}\n",
      "{\"type\":\"get_step\",\"step\":42}\n",
      "{\"type\":\"get_step\",\"step\":43}\n",
      "{\"type\":\"get_step\",\"step\":44}\n",
      "{\"type\":\"get_step\",\"step\":45}\n",
      "{\"type\":\"get_step\",\"step\":46}\n",
      "{\"type\":\"get_step\",\"step\":47}\n",
      "{\"type\":\"get_step\",\"step\":48}\n",
      "{\"type\":\"get_step\",\"step\":49}\n"
     ]
    }
   ],
   "source": [
    "grid = CanvasGrid(agent_portrayal, 10, 10, 500, 500)\n",
    "\n",
    "# server = ModularServer(InfectionModel,\n",
    "#                        [grid],\n",
    "#                        \"Infection Model\",\n",
    "#                        {\"N\":100, \"width\":10, \"height\":10})\n",
    "\n",
    "chart = ChartModule([{\"Label\": \"Average Age\",\n",
    "                      \"Color\": \"Black\"}],\n",
    "                    data_collector_name='datacollector')\n",
    "\n",
    "histogram = HistogramModuleHealth(list(range(10)), 200, 500)\n",
    "\n",
    "histogramAge = HistogramModuleAge(list(range(10)), 200, 500)\n",
    "\n",
    "server = ModularServer(InfectionModel,\n",
    "                       [grid, chart, histogram, histogramAge],\n",
    "                       \"Infection Model\",\n",
    "                       {\"N\":100, \"width\":10, \"height\":10})\n",
    "\n",
    "# server.port = 8521 # This is the default value\n",
    "server.launch()"
   ]
  }
 ],
 "metadata": {
  "kernelspec": {
   "display_name": "Python 3",
   "language": "python",
   "name": "python3"
  },
  "language_info": {
   "codemirror_mode": {
    "name": "ipython",
    "version": 3
   },
   "file_extension": ".py",
   "mimetype": "text/x-python",
   "name": "python",
   "nbconvert_exporter": "python",
   "pygments_lexer": "ipython3",
   "version": "3.7.6"
  }
 },
 "nbformat": 4,
 "nbformat_minor": 4
}
