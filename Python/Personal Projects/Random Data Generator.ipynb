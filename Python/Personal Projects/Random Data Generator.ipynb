{
 "cells": [
  {
   "cell_type": "markdown",
   "metadata": {},
   "source": [
    "# A random data generator\n",
    "\n",
    "This is an attempt to create a random data generator which will be based on looking at a series of data, trying to fit a distribution curve to that data and then taking the parameters of the probability curve to create a random variate set, `.rvs`, from scipy's stats library.\n",
    "\n",
    "This document initially looks at creating one working system and then implements it into a function to use with a dataset of storms.\n",
    "\n",
    "Initially a `numpy.ndarray` is created using `scipy.stats.gamma.rvs` where the paramaters chosen are arbitrary values of `a = 2`, `loc = 1.5`, `scale = 2`, and `size = 10000` as per the example originally shown in `fitter`. The `fitter` funciton is then used to fit the data using `.fit` which gives a range of curves in order of their fitting error, and a plot that shows how effectivly the curves match the data."
   ]
  },
  {
   "cell_type": "code",
   "execution_count": 1,
   "metadata": {
    "collapsed": true
   },
   "outputs": [
    {
     "data": {
      "text/html": [
       "\n",
       "            <div style=\"float: left; border: 1px solid black; width:500px\">\n",
       "              <div id=\"6e4b2afb-59b4-4a27-8fa7-64e402ca57c9\" style=\"background-color:blue; width:0%\">&nbsp;</div>\n",
       "            </div>\n",
       "            <label id=\"a2ff7b94-d0bd-41f3-9b74-387a1c44a620\" style=\"padding-left: 10px;\" text = \"\"/>\n",
       "            "
      ],
      "text/plain": [
       "<IPython.core.display.HTML object>"
      ]
     },
     "metadata": {},
     "output_type": "display_data"
    },
    {
     "name": "stderr",
     "output_type": "stream",
     "text": [
      "WARNING:root:SKIPPED kstwo distribution (taking more than 30 seconds)\n",
      "WARNING:root:SKIPPED johnsonsu distribution (taking more than 30 seconds)\n",
      "WARNING:root:SKIPPED kappa4 distribution (taking more than 30 seconds)\n",
      "WARNING:root:SKIPPED ksone distribution (taking more than 30 seconds)\n",
      "WARNING:root:SKIPPED levy_stable distribution (taking more than 30 seconds)\n",
      "WARNING:root:SKIPPED loggamma distribution (taking more than 30 seconds)\n",
      "WARNING:root:SKIPPED ncf distribution (taking more than 30 seconds)\n",
      "WARNING:root:SKIPPED nct distribution (taking more than 30 seconds)\n",
      "WARNING:root:SKIPPED ncx2 distribution (taking more than 30 seconds)\n",
      "WARNING:root:SKIPPED rv_continuous distribution (taking more than 30 seconds)\n",
      "WARNING:root:SKIPPED rv_histogram distribution (taking more than 30 seconds)\n",
      "WARNING:root:SKIPPED norminvgauss distribution (taking more than 30 seconds)\n",
      "WARNING:root:SKIPPED powerlognorm distribution (taking more than 30 seconds)\n",
      "WARNING:root:SKIPPED powernorm distribution (taking more than 30 seconds)\n",
      "WARNING:root:SKIPPED rdist distribution (taking more than 30 seconds)\n",
      "WARNING:root:SKIPPED recipinvgauss distribution (taking more than 30 seconds)\n",
      "WARNING:root:SKIPPED triang distribution (taking more than 30 seconds)\n",
      "WARNING:root:SKIPPED tukeylambda distribution (taking more than 30 seconds)\n",
      "WARNING:root:SKIPPED vonmises distribution (taking more than 30 seconds)\n",
      "WARNING:root:SKIPPED vonmises_line distribution (taking more than 30 seconds)\n"
     ]
    },
    {
     "data": {
      "text/html": [
       "<div>\n",
       "<style scoped>\n",
       "    .dataframe tbody tr th:only-of-type {\n",
       "        vertical-align: middle;\n",
       "    }\n",
       "\n",
       "    .dataframe tbody tr th {\n",
       "        vertical-align: top;\n",
       "    }\n",
       "\n",
       "    .dataframe thead th {\n",
       "        text-align: right;\n",
       "    }\n",
       "</style>\n",
       "<table border=\"1\" class=\"dataframe\">\n",
       "  <thead>\n",
       "    <tr style=\"text-align: right;\">\n",
       "      <th></th>\n",
       "      <th>sumsquare_error</th>\n",
       "      <th>aic</th>\n",
       "      <th>bic</th>\n",
       "      <th>kl_div</th>\n",
       "    </tr>\n",
       "  </thead>\n",
       "  <tbody>\n",
       "    <tr>\n",
       "      <th>exponweib</th>\n",
       "      <td>0.003125</td>\n",
       "      <td>1000.930628</td>\n",
       "      <td>-149750.807736</td>\n",
       "      <td>inf</td>\n",
       "    </tr>\n",
       "    <tr>\n",
       "      <th>f</th>\n",
       "      <td>0.003130</td>\n",
       "      <td>997.672709</td>\n",
       "      <td>-149732.367131</td>\n",
       "      <td>inf</td>\n",
       "    </tr>\n",
       "    <tr>\n",
       "      <th>erlang</th>\n",
       "      <td>0.003133</td>\n",
       "      <td>999.917354</td>\n",
       "      <td>-149733.409856</td>\n",
       "      <td>inf</td>\n",
       "    </tr>\n",
       "    <tr>\n",
       "      <th>pearson3</th>\n",
       "      <td>0.003133</td>\n",
       "      <td>999.907520</td>\n",
       "      <td>-149733.370341</td>\n",
       "      <td>inf</td>\n",
       "    </tr>\n",
       "    <tr>\n",
       "      <th>chi2</th>\n",
       "      <td>0.003133</td>\n",
       "      <td>999.912620</td>\n",
       "      <td>-149733.237694</td>\n",
       "      <td>inf</td>\n",
       "    </tr>\n",
       "  </tbody>\n",
       "</table>\n",
       "</div>"
      ],
      "text/plain": [
       "           sumsquare_error          aic            bic  kl_div\n",
       "exponweib         0.003125  1000.930628 -149750.807736     inf\n",
       "f                 0.003130   997.672709 -149732.367131     inf\n",
       "erlang            0.003133   999.917354 -149733.409856     inf\n",
       "pearson3          0.003133   999.907520 -149733.370341     inf\n",
       "chi2              0.003133   999.912620 -149733.237694     inf"
      ]
     },
     "execution_count": 1,
     "metadata": {},
     "output_type": "execute_result"
    },
    {
     "data": {
      "image/png": "[encoded data removed]",
      "text/plain": [
       "<Figure size 432x288 with 1 Axes>"
      ]
     },
     "metadata": {
      "needs_background": "light"
     },
     "output_type": "display_data"
    }
   ],
   "source": [
    "import numpy as np\n",
    "import pandas as pd\n",
    "\n",
    "from scipy import stats\n",
    "from fitter import Fitter\n",
    "# Fit the data using the python fitter library\n",
    "# https://pypi.org/project/fitter/ \n",
    "\n",
    "import random\n",
    "import warnings\n",
    "warnings.filterwarnings('ignore')\n",
    "\n",
    "data = stats.gamma.rvs(2, loc=1.5, scale=2, size=10000)\n",
    "\n",
    "f = Fitter(data)\n",
    "f.fit()\n",
    "# may take some time since by default, all distributions are tried\n",
    "# but you call manually provide a smaller set of distributions"
   ]
  },
  {
   "cell_type": "code",
   "execution_count": 12,
   "metadata": {},
   "outputs": [
    {
     "data": {
      "text/html": [
       "<div>\n",
       "<style scoped>\n",
       "    .dataframe tbody tr th:only-of-type {\n",
       "        vertical-align: middle;\n",
       "    }\n",
       "\n",
       "    .dataframe tbody tr th {\n",
       "        vertical-align: top;\n",
       "    }\n",
       "\n",
       "    .dataframe thead th {\n",
       "        text-align: right;\n",
       "    }\n",
       "</style>\n",
       "<table border=\"1\" class=\"dataframe\">\n",
       "  <thead>\n",
       "    <tr style=\"text-align: right;\">\n",
       "      <th></th>\n",
       "      <th>sumsquare_error</th>\n",
       "      <th>aic</th>\n",
       "      <th>bic</th>\n",
       "      <th>kl_div</th>\n",
       "    </tr>\n",
       "  </thead>\n",
       "  <tbody>\n",
       "    <tr>\n",
       "      <th>exponweib</th>\n",
       "      <td>0.003125</td>\n",
       "      <td>1000.930628</td>\n",
       "      <td>-149750.807736</td>\n",
       "      <td>inf</td>\n",
       "    </tr>\n",
       "    <tr>\n",
       "      <th>f</th>\n",
       "      <td>0.003130</td>\n",
       "      <td>997.672709</td>\n",
       "      <td>-149732.367131</td>\n",
       "      <td>inf</td>\n",
       "    </tr>\n",
       "    <tr>\n",
       "      <th>erlang</th>\n",
       "      <td>0.003133</td>\n",
       "      <td>999.917354</td>\n",
       "      <td>-149733.409856</td>\n",
       "      <td>inf</td>\n",
       "    </tr>\n",
       "    <tr>\n",
       "      <th>pearson3</th>\n",
       "      <td>0.003133</td>\n",
       "      <td>999.907520</td>\n",
       "      <td>-149733.370341</td>\n",
       "      <td>inf</td>\n",
       "    </tr>\n",
       "    <tr>\n",
       "      <th>chi2</th>\n",
       "      <td>0.003133</td>\n",
       "      <td>999.912620</td>\n",
       "      <td>-149733.237694</td>\n",
       "      <td>inf</td>\n",
       "    </tr>\n",
       "  </tbody>\n",
       "</table>\n",
       "</div>"
      ],
      "text/plain": [
       "           sumsquare_error          aic            bic  kl_div\n",
       "exponweib         0.003125  1000.930628 -149750.807736     inf\n",
       "f                 0.003130   997.672709 -149732.367131     inf\n",
       "erlang            0.003133   999.917354 -149733.409856     inf\n",
       "pearson3          0.003133   999.907520 -149733.370341     inf\n",
       "chi2              0.003133   999.912620 -149733.237694     inf"
      ]
     },
     "execution_count": 12,
     "metadata": {},
     "output_type": "execute_result"
    },
    {
     "data": {
      "image/png": "[encoded data removed]",
      "text/plain": [
       "<Figure size 432x288 with 1 Axes>"
      ]
     },
     "metadata": {
      "needs_background": "light"
     },
     "output_type": "display_data"
    }
   ],
   "source": [
    "f.summary()"
   ]
  },
  {
   "cell_type": "markdown",
   "metadata": {},
   "source": [
    "Initially the first curve is taken as it is considered the first best fitting curve and a command is set up using the summary index, or `eval(\"stats\" + dist_df.index[0])` where `dist_df.index[0]` references the scipy curve, to create the random variable set. The parameters for the curve are obtained using the `.fitted_param` function which returns a dictionary whose keys match the summary index values.\n",
    "\n",
    "Lastly, the `data_len` is taken as the same length of data is what is sought, the length of data created `r_len` is set of `0` and the value `run_once` is set to `False`."
   ]
  },
  {
   "cell_type": "code",
   "execution_count": 2,
   "metadata": {},
   "outputs": [
    {
     "name": "stdout",
     "output_type": "stream",
     "text": [
      "The best fitting curve is exponweib\n"
     ]
    }
   ],
   "source": [
    "# Return the best fitting curve to the data\n",
    "dist_df = f.summary(Nbest=1, plot=False)\n",
    "\n",
    "# Create a command for fitting the distribution \n",
    "dist = eval(\"stats.\" + dist_df.index[0])\n",
    "\n",
    "# f.fitted_param gives the fitting characteristics of the different suggested curves.\n",
    "params = f.fitted_param[dist_df.index[0]]\n",
    "\n",
    "data_len = len(data)\n",
    "r_len = 0\n",
    "\n",
    "run_once = False\n",
    "\n",
    "print(f\"The best fitting curve is {dist_df.index[0]}\")"
   ]
  },
  {
   "cell_type": "markdown",
   "metadata": {},
   "source": [
    "In order to match the lengths fo data a while loop is set to run with the condition where the length of data does not match the length of new data.\n",
    "\n",
    "The distribution curves available in scipy can have inputs of 2, 3, or 4 values. A conditional `if` statment is set up to handle these cases and create the random variable set based on the curve. Being a random variable set without min/max conditions means the data created may have some odd values that don't fit within the parameters of the chosen data series. The data series created is then filtered down to have values that exist within the bounds of the original data's min/max values, but this drops values so the new dataset won't match the length of the old dataset. This keeps the while loop running and new data is gathered by calculating the difference between the current data length and the created data length, less the data outside the min/max. The second set of new values created are added to the first set of new values to make the new series the same length as the old series, to break the loop if the new series lies within the min/max bounds of the original data.   "
   ]
  },
  {
   "cell_type": "code",
   "execution_count": 3,
   "metadata": {},
   "outputs": [
    {
     "name": "stdout",
     "output_type": "stream",
     "text": [
      "Third condition 10000 - 0 = 10000\n",
      "Third condition 10000 - 9998 = 2\n",
      "0    3.750761\n",
      "1    2.276076\n",
      "dtype: float64\n"
     ]
    }
   ],
   "source": [
    "# Probability\n",
    "while data_len != r_len:\n",
    "    dist_len = data_len - r_len\n",
    "    if len(params) == 2:\n",
    "        print(\"First condition\")\n",
    "        a, b = params\n",
    "        r_tmp = pd.Series(dist.rvs(a, b, size = dist_len))\n",
    "\n",
    "    elif len(params) == 3: \n",
    "        print(\"Second condition\")\n",
    "        a, b, c = params\n",
    "        r_tmp = pd.Series(dist.rvs(a, b, c, size = dist_len))\n",
    "\n",
    "    elif len(params) == 4:\n",
    "        print(f\"Third condition {data_len} - {r_len} = {dist_len}\")\n",
    "        a, b, c, d = params\n",
    "        r_tmp = pd.Series(dist.rvs(a, b, c, d, size = dist_len))\n",
    "\n",
    "    else:\n",
    "        print(f\"Tom, you're gonna need to make a condition for {dist_df.index[0]}\")\n",
    "        r = pd.Series([np.nan]*dist_len)\n",
    "\n",
    "    if not run_once:\n",
    "        run_once = True\n",
    "        r = r_tmp\n",
    "    else:\n",
    "        print(r_tmp)\n",
    "        r = r.append(r_tmp, ignore_index = True)\n",
    "\n",
    "    r = r[(data.min() < r) & (r < data.max())]\n",
    "    r_len = len(r)"
   ]
  },
  {
   "cell_type": "markdown",
   "metadata": {},
   "source": [
    "To compare the two distributions the plots of the two datasets can be made to show they're roughtly the same but the slight difference in peaks shows that they're not exactly the same."
   ]
  },
  {
   "cell_type": "code",
   "execution_count": 4,
   "metadata": {},
   "outputs": [
    {
     "data": {
      "text/plain": [
       "Text(0.5, 1.0, 'Data Generated from exponweib')"
      ]
     },
     "execution_count": 4,
     "metadata": {},
     "output_type": "execute_result"
    },
    {
     "data": {
      "image/png": "[encoded data removed]",
      "text/plain": [
       "<Figure size 720x360 with 2 Axes>"
      ]
     },
     "metadata": {
      "needs_background": "light"
     },
     "output_type": "display_data"
    }
   ],
   "source": [
    "import matplotlib.pyplot as plt\n",
    "import seaborn as sns\n",
    "%matplotlib inline\n",
    "\n",
    "fig1 = plt.figure(figsize = (10, 5))\n",
    "gs = fig1.add_gridspec(1, 2)\n",
    "\n",
    "ax = fig1.add_subplot(gs[0,0])\n",
    "sns.distplot(data, bins=100).set_title(f\"Original gamma Data\")\n",
    "ax = fig1.add_subplot(gs[0,1])\n",
    "sns.distplot(r, bins=100).set_title(f\"Data Generated from {dist_df.index[0]}\")\n"
   ]
  },
  {
   "cell_type": "markdown",
   "metadata": {},
   "source": [
    "The process above is then set into a function to do the same process. \n",
    "\n",
    "Some of the issues found were that the method would loop looking for a suitable value so the `runs` variable was added to change the distribution curve and parameters if no suitable random variables can be found."
   ]
  },
  {
   "cell_type": "code",
   "execution_count": 5,
   "metadata": {},
   "outputs": [],
   "source": [
    "# From the testing above, create a function to do the same job\n",
    "def create_random_set(data):\n",
    "    data_len = len(data)\n",
    "    data_min = data.min()\n",
    "    data_max = data.max()\n",
    "    \n",
    "    # import and fit the dataset (series) that is to be randomised\n",
    "    f = Fitter(data)\n",
    "    f.fit()\n",
    "\n",
    "    # Return the best fitting curve to the data\n",
    "    dist_df = f.summary(plot=False)\n",
    "\n",
    "    r_len = 0\n",
    "    runs = 0\n",
    "    # Probability\n",
    "    while data_len != r_len:\n",
    "        dist_len = data_len - r_len\n",
    "        # f.fitted_param gives the fitting characteristics of the different suggested curves\n",
    "        params = f.fitted_param[dist_df.index[runs]]\n",
    "        dist = eval(\"stats.\" + dist_df.index[runs])\n",
    "\n",
    "        if len(params) == 2:\n",
    "            print(f\"First condition - {dist_df.index[runs]}\")\n",
    "            a, b = params\n",
    "            r_tmp = pd.Series(dist.rvs(a, b, size = dist_len))\n",
    "\n",
    "        elif len(params) == 3: \n",
    "            print(f\"Second condition - {dist_df.index[runs]}\")\n",
    "            a, b, c = params\n",
    "            r_tmp = pd.Series(dist.rvs(a, b, c, size = dist_len))\n",
    "\n",
    "        elif len(params) == 4:\n",
    "            print(f\"Third condition - {dist_df.index[runs]}\")\n",
    "            a, b, c, d = params\n",
    "            r_tmp = pd.Series(dist.rvs(a, b, c, d, size = dist_len))\n",
    "            \n",
    "        elif len(params) == 5:\n",
    "            print(f\"Third condition - {dist_df.index[runs]}\")\n",
    "            a, b, c, d, e = params\n",
    "            r_tmp = pd.Series(dist.rvs(a, b, c, d, e, size = dist_len))\n",
    "            \n",
    "        elif len(params) == 6:\n",
    "            print(f\"Third condition - {dist_df.index[runs]}\")\n",
    "            a, b, c, d, e, f = params\n",
    "            r_tmp = pd.Series(dist.rvs(a, b, c, d, e, f, size = dist_len))\n",
    "\n",
    "        else:\n",
    "            print(f\"Tom, you're gonna need to make a condition for {dist_df.index[runs]}\")\n",
    "            r = pd.Series([np.nan]*dist_len)\n",
    "\n",
    "        if r_len == 0:\n",
    "            r = r_tmp.astype(np.int64)\n",
    "        else:\n",
    "            print(r_tmp.astype(np.int64))\n",
    "            r = r.append(r_tmp.astype(np.int64), ignore_index = True)\n",
    "            runs = runs + 1\n",
    "\n",
    "        r = r[(data_min <= r) & (r <= data_max)]\n",
    "        r_len = len(r)\n",
    "\n",
    "    return r"
   ]
  },
  {
   "cell_type": "markdown",
   "metadata": {},
   "source": [
    "# Use in a dataset\n",
    "\n",
    "For testing purposes a dataset based on storm data was imported to a dataframe. In this data a series of storms are recorded with their `pressure`, `wind`, and `status` - either `Tropic Depression`, `Tropic Storm`, or `Hurricane`. The storm characteristics are seperated by their `name` and their `status` is defined by the `wind`. A more complex system could be created to define a relationship between `pressure`, `wind`, and `status` but this is merely an example of creating data and not an exercise in meteorolgy. \n",
    "\n",
    "Inhereted values might be important considerations to acknowledge when creating new data be it from financial or social media data that sets the base model.\n",
    "\n",
    "The list of storms that are available are shown below:"
   ]
  },
  {
   "cell_type": "code",
   "execution_count": 6,
   "metadata": {},
   "outputs": [
    {
     "data": {
      "text/plain": [
       "array(['Amy', 'Caroline', 'Doris', 'Belle', 'Gloria', 'Anita', 'Clara',\n",
       "       'Evelyn', 'Amelia', 'Bess', 'Cora', 'Juliet', 'Ana', 'Bob',\n",
       "       'Claudette', 'David', 'Frederic', 'Henri', 'Bonnie', 'Charley',\n",
       "       'Georges', 'Danielle', 'Hermine', 'Ivan', 'Jeanne', 'Karl',\n",
       "       'Emily', 'Floyd', 'Gert', 'Harvey', 'Katrina', 'Alberto', 'Beryl',\n",
       "       'Chris', 'Debby', 'Ernesto', 'Alicia', 'Barry', 'Chantal', 'Dean',\n",
       "       'Arthur', 'Cesar', 'Diana', 'Edouard', 'Gustav', 'Hortense',\n",
       "       'Isidore', 'Josephine', 'Klaus', 'Lili', 'Danny', 'Fabian',\n",
       "       'Isabel', 'Juan', 'Kate', 'Andrew', 'AL031987', 'AL061988',\n",
       "       'Gilbert', 'Isaac', 'Joan', 'Keith', 'Allison', 'Erin', 'Felix',\n",
       "       'Gabrielle', 'Hugo', 'Iris', 'Jerry', 'Karen', 'Marco', 'Nana',\n",
       "       'AL041991', 'Erika', 'AL101991', 'AL121991', 'AL021992',\n",
       "       'AL031992', 'AL081992', 'AL011993', 'AL101993', 'AL021994',\n",
       "       'AL051994', 'AL081994', 'AL091994', 'AL101994', 'Gordon',\n",
       "       'AL061995', 'Humberto', 'Luis', 'AL141995', 'Marilyn', 'Noel',\n",
       "       'Opal', 'Pablo', 'Roxanne', 'Sebastien', 'Tanya', 'Kyle', 'Bill',\n",
       "       'AL061997', 'Alex', 'Lisa', 'Mitch', 'Nicole', 'AL021999',\n",
       "       'AL071999', 'AL111999', 'AL121999', 'Lenny', 'AL012000',\n",
       "       'AL022000', 'AL042000', 'AL092000', 'Joyce', 'Leslie', 'Michael',\n",
       "       'Nadine', 'AL022001', 'AL092001', 'Lorenzo', 'Michelle', 'Olga',\n",
       "       'Cristobal', 'Fay', 'AL072002', 'Hanna', 'AL142002', 'AL022003',\n",
       "       'AL062003', 'AL072003', 'AL092003', 'AL142003', 'Larry', 'Mindy',\n",
       "       'Nicholas', 'Odette', 'Peter', 'Gaston', 'AL102004', 'Matthew',\n",
       "       'Otto', 'Franklin', 'Ten', 'Lee', 'Maria', 'Nate', 'Ophelia',\n",
       "       'Philippe', 'Rita', 'Nineteen', 'Stan', 'Tammy', 'Vince', 'Wilma',\n",
       "       'Beta', 'Gamma', 'Epsilon', 'Zeta', 'AL022006', 'Ingrid',\n",
       "       'Melissa', 'Fifteen', 'Ike', 'Omar', 'Sixteen', 'Paloma', 'One',\n",
       "       'Fred', 'Eight', 'Ida', 'Two', 'Colin', 'Five', 'Fiona', 'Igor',\n",
       "       'Julia', 'Paula', 'Richard', 'Shary', 'Tomas', 'Don', 'Katia',\n",
       "       'Al202011', 'Rina', 'Sean', 'Kirk', 'Oscar', 'Patty', 'Rafael',\n",
       "       'Sandy', 'Tony', 'Andrea', 'Dorian', 'Fernand', 'Gonzalo', 'Nine',\n",
       "       'Joaquin'], dtype=object)"
      ]
     },
     "execution_count": 6,
     "metadata": {},
     "output_type": "execute_result"
    }
   ],
   "source": [
    "storms = pd.read_csv('storms.csv')\n",
    "storms['name'].unique()"
   ]
  },
  {
   "cell_type": "markdown",
   "metadata": {},
   "source": [
    "And one is randomly selected for the test:"
   ]
  },
  {
   "cell_type": "code",
   "execution_count": 8,
   "metadata": {},
   "outputs": [
    {
     "data": {
      "text/html": [
       "<div>\n",
       "<style scoped>\n",
       "    .dataframe tbody tr th:only-of-type {\n",
       "        vertical-align: middle;\n",
       "    }\n",
       "\n",
       "    .dataframe tbody tr th {\n",
       "        vertical-align: top;\n",
       "    }\n",
       "\n",
       "    .dataframe thead th {\n",
       "        text-align: right;\n",
       "    }\n",
       "</style>\n",
       "<table border=\"1\" class=\"dataframe\">\n",
       "  <thead>\n",
       "    <tr style=\"text-align: right;\">\n",
       "      <th></th>\n",
       "      <th>name</th>\n",
       "      <th>year</th>\n",
       "      <th>month</th>\n",
       "      <th>day</th>\n",
       "      <th>hour</th>\n",
       "      <th>lat</th>\n",
       "      <th>long</th>\n",
       "      <th>status</th>\n",
       "      <th>category</th>\n",
       "      <th>wind</th>\n",
       "      <th>pressure</th>\n",
       "      <th>ts_diameter</th>\n",
       "      <th>hu_diameter</th>\n",
       "    </tr>\n",
       "  </thead>\n",
       "  <tbody>\n",
       "    <tr>\n",
       "      <th>4453</th>\n",
       "      <td>Alex</td>\n",
       "      <td>1998</td>\n",
       "      <td>7</td>\n",
       "      <td>27</td>\n",
       "      <td>12</td>\n",
       "      <td>11.3</td>\n",
       "      <td>-25.4</td>\n",
       "      <td>tropical depression</td>\n",
       "      <td>-1</td>\n",
       "      <td>25</td>\n",
       "      <td>1009</td>\n",
       "      <td>NaN</td>\n",
       "      <td>NaN</td>\n",
       "    </tr>\n",
       "    <tr>\n",
       "      <th>4454</th>\n",
       "      <td>Alex</td>\n",
       "      <td>1998</td>\n",
       "      <td>7</td>\n",
       "      <td>27</td>\n",
       "      <td>18</td>\n",
       "      <td>11.7</td>\n",
       "      <td>-27.2</td>\n",
       "      <td>tropical depression</td>\n",
       "      <td>-1</td>\n",
       "      <td>25</td>\n",
       "      <td>1009</td>\n",
       "      <td>NaN</td>\n",
       "      <td>NaN</td>\n",
       "    </tr>\n",
       "    <tr>\n",
       "      <th>4455</th>\n",
       "      <td>Alex</td>\n",
       "      <td>1998</td>\n",
       "      <td>7</td>\n",
       "      <td>28</td>\n",
       "      <td>0</td>\n",
       "      <td>12.2</td>\n",
       "      <td>-29.2</td>\n",
       "      <td>tropical depression</td>\n",
       "      <td>-1</td>\n",
       "      <td>25</td>\n",
       "      <td>1009</td>\n",
       "      <td>NaN</td>\n",
       "      <td>NaN</td>\n",
       "    </tr>\n",
       "    <tr>\n",
       "      <th>4456</th>\n",
       "      <td>Alex</td>\n",
       "      <td>1998</td>\n",
       "      <td>7</td>\n",
       "      <td>28</td>\n",
       "      <td>6</td>\n",
       "      <td>12.6</td>\n",
       "      <td>-31.3</td>\n",
       "      <td>tropical depression</td>\n",
       "      <td>-1</td>\n",
       "      <td>25</td>\n",
       "      <td>1008</td>\n",
       "      <td>NaN</td>\n",
       "      <td>NaN</td>\n",
       "    </tr>\n",
       "    <tr>\n",
       "      <th>4457</th>\n",
       "      <td>Alex</td>\n",
       "      <td>1998</td>\n",
       "      <td>7</td>\n",
       "      <td>28</td>\n",
       "      <td>12</td>\n",
       "      <td>12.9</td>\n",
       "      <td>-33.3</td>\n",
       "      <td>tropical depression</td>\n",
       "      <td>-1</td>\n",
       "      <td>30</td>\n",
       "      <td>1007</td>\n",
       "      <td>NaN</td>\n",
       "      <td>NaN</td>\n",
       "    </tr>\n",
       "    <tr>\n",
       "      <th>4458</th>\n",
       "      <td>Alex</td>\n",
       "      <td>1998</td>\n",
       "      <td>7</td>\n",
       "      <td>28</td>\n",
       "      <td>18</td>\n",
       "      <td>13.1</td>\n",
       "      <td>-35.1</td>\n",
       "      <td>tropical depression</td>\n",
       "      <td>-1</td>\n",
       "      <td>30</td>\n",
       "      <td>1006</td>\n",
       "      <td>NaN</td>\n",
       "      <td>NaN</td>\n",
       "    </tr>\n",
       "    <tr>\n",
       "      <th>4459</th>\n",
       "      <td>Alex</td>\n",
       "      <td>1998</td>\n",
       "      <td>7</td>\n",
       "      <td>29</td>\n",
       "      <td>0</td>\n",
       "      <td>13.3</td>\n",
       "      <td>-36.8</td>\n",
       "      <td>tropical storm</td>\n",
       "      <td>0</td>\n",
       "      <td>35</td>\n",
       "      <td>1005</td>\n",
       "      <td>NaN</td>\n",
       "      <td>NaN</td>\n",
       "    </tr>\n",
       "    <tr>\n",
       "      <th>4460</th>\n",
       "      <td>Alex</td>\n",
       "      <td>1998</td>\n",
       "      <td>7</td>\n",
       "      <td>29</td>\n",
       "      <td>6</td>\n",
       "      <td>13.5</td>\n",
       "      <td>-38.5</td>\n",
       "      <td>tropical storm</td>\n",
       "      <td>0</td>\n",
       "      <td>35</td>\n",
       "      <td>1005</td>\n",
       "      <td>NaN</td>\n",
       "      <td>NaN</td>\n",
       "    </tr>\n",
       "    <tr>\n",
       "      <th>4461</th>\n",
       "      <td>Alex</td>\n",
       "      <td>1998</td>\n",
       "      <td>7</td>\n",
       "      <td>29</td>\n",
       "      <td>12</td>\n",
       "      <td>13.7</td>\n",
       "      <td>-40.0</td>\n",
       "      <td>tropical storm</td>\n",
       "      <td>0</td>\n",
       "      <td>35</td>\n",
       "      <td>1005</td>\n",
       "      <td>NaN</td>\n",
       "      <td>NaN</td>\n",
       "    </tr>\n",
       "    <tr>\n",
       "      <th>4462</th>\n",
       "      <td>Alex</td>\n",
       "      <td>1998</td>\n",
       "      <td>7</td>\n",
       "      <td>29</td>\n",
       "      <td>18</td>\n",
       "      <td>13.9</td>\n",
       "      <td>-41.3</td>\n",
       "      <td>tropical storm</td>\n",
       "      <td>0</td>\n",
       "      <td>35</td>\n",
       "      <td>1005</td>\n",
       "      <td>NaN</td>\n",
       "      <td>NaN</td>\n",
       "    </tr>\n",
       "  </tbody>\n",
       "</table>\n",
       "</div>"
      ],
      "text/plain": [
       "      name  year  month  day  hour   lat  long               status  category  \\\n",
       "4453  Alex  1998      7   27    12  11.3 -25.4  tropical depression        -1   \n",
       "4454  Alex  1998      7   27    18  11.7 -27.2  tropical depression        -1   \n",
       "4455  Alex  1998      7   28     0  12.2 -29.2  tropical depression        -1   \n",
       "4456  Alex  1998      7   28     6  12.6 -31.3  tropical depression        -1   \n",
       "4457  Alex  1998      7   28    12  12.9 -33.3  tropical depression        -1   \n",
       "4458  Alex  1998      7   28    18  13.1 -35.1  tropical depression        -1   \n",
       "4459  Alex  1998      7   29     0  13.3 -36.8       tropical storm         0   \n",
       "4460  Alex  1998      7   29     6  13.5 -38.5       tropical storm         0   \n",
       "4461  Alex  1998      7   29    12  13.7 -40.0       tropical storm         0   \n",
       "4462  Alex  1998      7   29    18  13.9 -41.3       tropical storm         0   \n",
       "\n",
       "      wind  pressure  ts_diameter  hu_diameter  \n",
       "4453    25      1009          NaN          NaN  \n",
       "4454    25      1009          NaN          NaN  \n",
       "4455    25      1009          NaN          NaN  \n",
       "4456    25      1008          NaN          NaN  \n",
       "4457    30      1007          NaN          NaN  \n",
       "4458    30      1006          NaN          NaN  \n",
       "4459    35      1005          NaN          NaN  \n",
       "4460    35      1005          NaN          NaN  \n",
       "4461    35      1005          NaN          NaN  \n",
       "4462    35      1005          NaN          NaN  "
      ]
     },
     "execution_count": 8,
     "metadata": {},
     "output_type": "execute_result"
    }
   ],
   "source": [
    "storm_name = random.choice(storms['name'].unique())\n",
    "storm_selected = storms[storms.name == storm_name]\n",
    "while len(storm_selected) < 20:\n",
    "    storm_name = random.choice(storms['name'].unique())\n",
    "    storm_selected = storms[storms.name == storm_name]\n",
    "storm_selected.head(10)"
   ]
  },
  {
   "cell_type": "markdown",
   "metadata": {},
   "source": [
    "Since a storm is chosen by name and it is of `object` type, its column is superfluous to the current method and can be dropped from the set, while the other object columns are selected, particularly the `status` column.\n",
    "\n",
    "A dataframe with selected columns is created and an empty dataframe with the same columns. A unique list of object variables is created with respect to the `status` column."
   ]
  },
  {
   "cell_type": "code",
   "execution_count": 9,
   "metadata": {},
   "outputs": [],
   "source": [
    "targ_col = ['wind', 'pressure']\n",
    "col = 'status'\n",
    "storms2 = storm_selected[targ_col + [col]]\n",
    "new_storm = pd.DataFrame(columns = storms2.columns)\n",
    "feat_col = storms2[col].unique() "
   ]
  },
  {
   "cell_type": "markdown",
   "metadata": {},
   "source": [
    "The dataframe is filtered for each of the details in the `status` column, and each of the target columns is fed into the `create_random_set` function above as a series so the function can fit to each of the target columns."
   ]
  },
  {
   "cell_type": "code",
   "execution_count": 10,
   "metadata": {
    "collapsed": true
   },
   "outputs": [
    {
     "name": "stdout",
     "output_type": "stream",
     "text": [
      "tropical depression\n"
     ]
    },
    {
     "data": {
      "text/html": [
       "\n",
       "            <div style=\"float: left; border: 1px solid black; width:500px\">\n",
       "              <div id=\"9e3c50fd-6ef8-4487-af1e-907a887f60c2\" style=\"background-color:blue; width:0%\">&nbsp;</div>\n",
       "            </div>\n",
       "            <label id=\"1028982c-e074-4f6d-80cd-f6232d3c3b5c\" style=\"padding-left: 10px;\" text = \"\"/>\n",
       "            "
      ],
      "text/plain": [
       "<IPython.core.display.HTML object>"
      ]
     },
     "metadata": {},
     "output_type": "display_data"
    },
    {
     "name": "stderr",
     "output_type": "stream",
     "text": [
      "WARNING:root:SKIPPED kstwo distribution (taking more than 30 seconds)\n",
      "WARNING:root:SKIPPED rv_continuous distribution (taking more than 30 seconds)\n",
      "WARNING:root:SKIPPED rv_histogram distribution (taking more than 30 seconds)\n",
      "WARNING:root:SKIPPED kappa4 distribution (taking more than 30 seconds)\n",
      "WARNING:root:SKIPPED levy_stable distribution (taking more than 30 seconds)\n",
      "WARNING:root:SKIPPED recipinvgauss distribution (taking more than 30 seconds)\n",
      "WARNING:root:SKIPPED vonmises distribution (taking more than 30 seconds)\n",
      "WARNING:root:SKIPPED vonmises_line distribution (taking more than 30 seconds)\n"
     ]
    },
    {
     "name": "stdout",
     "output_type": "stream",
     "text": [
      "Second condition - exponpow\n",
      "Second condition - exponpow\n",
      "0    25\n",
      "dtype: int64\n"
     ]
    },
    {
     "data": {
      "text/html": [
       "\n",
       "            <div style=\"float: left; border: 1px solid black; width:500px\">\n",
       "              <div id=\"cd945449-b3f7-4177-bb1c-5a7ae807d187\" style=\"background-color:blue; width:0%\">&nbsp;</div>\n",
       "            </div>\n",
       "            <label id=\"fa9ef595-2a6b-438c-b8bc-040f77dd4830\" style=\"padding-left: 10px;\" text = \"\"/>\n",
       "            "
      ],
      "text/plain": [
       "<IPython.core.display.HTML object>"
      ]
     },
     "metadata": {},
     "output_type": "display_data"
    },
    {
     "name": "stderr",
     "output_type": "stream",
     "text": [
      "WARNING:root:SKIPPED geninvgauss distribution (taking more than 30 seconds)\n",
      "WARNING:root:SKIPPED kstwo distribution (taking more than 30 seconds)\n",
      "WARNING:root:SKIPPED genexpon distribution (taking more than 30 seconds)\n",
      "WARNING:root:SKIPPED rv_continuous distribution (taking more than 30 seconds)\n",
      "WARNING:root:SKIPPED rv_histogram distribution (taking more than 30 seconds)\n",
      "WARNING:root:SKIPPED kappa4 distribution (taking more than 30 seconds)\n",
      "WARNING:root:SKIPPED levy_stable distribution (taking more than 30 seconds)\n",
      "WARNING:root:SKIPPED ncx2 distribution (taking more than 30 seconds)\n",
      "WARNING:root:SKIPPED recipinvgauss distribution (taking more than 30 seconds)\n",
      "WARNING:root:SKIPPED vonmises distribution (taking more than 30 seconds)\n",
      "WARNING:root:SKIPPED vonmises_line distribution (taking more than 30 seconds)\n"
     ]
    },
    {
     "name": "stdout",
     "output_type": "stream",
     "text": [
      "Second condition - dgamma\n",
      "tropical storm\n"
     ]
    },
    {
     "data": {
      "text/html": [
       "\n",
       "            <div style=\"float: left; border: 1px solid black; width:500px\">\n",
       "              <div id=\"1ce9c0d3-76a0-4efd-8208-d5346db498a3\" style=\"background-color:blue; width:0%\">&nbsp;</div>\n",
       "            </div>\n",
       "            <label id=\"fa80a926-e36d-445c-b779-babb60806037\" style=\"padding-left: 10px;\" text = \"\"/>\n",
       "            "
      ],
      "text/plain": [
       "<IPython.core.display.HTML object>"
      ]
     },
     "metadata": {},
     "output_type": "display_data"
    },
    {
     "name": "stderr",
     "output_type": "stream",
     "text": [
      "WARNING:root:SKIPPED kstwo distribution (taking more than 30 seconds)\n",
      "WARNING:root:SKIPPED genexpon distribution (taking more than 30 seconds)\n",
      "WARNING:root:SKIPPED kappa4 distribution (taking more than 30 seconds)\n",
      "WARNING:root:SKIPPED kstwobign distribution (taking more than 30 seconds)\n",
      "WARNING:root:SKIPPED rv_continuous distribution (taking more than 30 seconds)\n",
      "WARNING:root:SKIPPED rv_histogram distribution (taking more than 30 seconds)\n",
      "WARNING:root:SKIPPED levy_stable distribution (taking more than 30 seconds)\n",
      "WARNING:root:SKIPPED ncx2 distribution (taking more than 30 seconds)\n",
      "WARNING:root:SKIPPED recipinvgauss distribution (taking more than 30 seconds)\n",
      "WARNING:root:SKIPPED vonmises distribution (taking more than 30 seconds)\n",
      "WARNING:root:SKIPPED vonmises_line distribution (taking more than 30 seconds)\n"
     ]
    },
    {
     "name": "stdout",
     "output_type": "stream",
     "text": [
      "Second condition - exponpow\n",
      "Second condition - exponpow\n",
      "0    35\n",
      "dtype: int64\n"
     ]
    },
    {
     "data": {
      "text/html": [
       "\n",
       "            <div style=\"float: left; border: 1px solid black; width:500px\">\n",
       "              <div id=\"022d67ee-31fe-4a3e-9d78-d022420f5ffa\" style=\"background-color:blue; width:0%\">&nbsp;</div>\n",
       "            </div>\n",
       "            <label id=\"a025b69d-1954-428b-8dcd-c69c202a93b3\" style=\"padding-left: 10px;\" text = \"\"/>\n",
       "            "
      ],
      "text/plain": [
       "<IPython.core.display.HTML object>"
      ]
     },
     "metadata": {},
     "output_type": "display_data"
    },
    {
     "name": "stderr",
     "output_type": "stream",
     "text": [
      "WARNING:root:SKIPPED geninvgauss distribution (taking more than 30 seconds)\n",
      "WARNING:root:SKIPPED burr distribution (taking more than 30 seconds)\n",
      "WARNING:root:SKIPPED crystalball distribution (taking more than 30 seconds)\n",
      "WARNING:root:SKIPPED kstwo distribution (taking more than 30 seconds)\n",
      "WARNING:root:SKIPPED genexpon distribution (taking more than 30 seconds)\n",
      "WARNING:root:SKIPPED johnsonsu distribution (taking more than 30 seconds)\n",
      "WARNING:root:SKIPPED kappa4 distribution (taking more than 30 seconds)\n",
      "WARNING:root:SKIPPED levy_stable distribution (taking more than 30 seconds)\n",
      "WARNING:root:SKIPPED rv_continuous distribution (taking more than 30 seconds)\n",
      "WARNING:root:SKIPPED rv_histogram distribution (taking more than 30 seconds)\n",
      "WARNING:root:SKIPPED ncx2 distribution (taking more than 30 seconds)\n",
      "WARNING:root:SKIPPED powerlognorm distribution (taking more than 30 seconds)\n",
      "WARNING:root:SKIPPED recipinvgauss distribution (taking more than 30 seconds)\n",
      "WARNING:root:SKIPPED vonmises distribution (taking more than 30 seconds)\n",
      "WARNING:root:SKIPPED vonmises_line distribution (taking more than 30 seconds)\n"
     ]
    },
    {
     "name": "stdout",
     "output_type": "stream",
     "text": [
      "Second condition - dgamma\n",
      "hurricane\n"
     ]
    },
    {
     "data": {
      "text/html": [
       "\n",
       "            <div style=\"float: left; border: 1px solid black; width:500px\">\n",
       "              <div id=\"e67f8b92-4ea0-4667-b8de-1b055b044d98\" style=\"background-color:blue; width:0%\">&nbsp;</div>\n",
       "            </div>\n",
       "            <label id=\"9daed6b1-112d-4b8c-84cf-757bd0a57dbd\" style=\"padding-left: 10px;\" text = \"\"/>\n",
       "            "
      ],
      "text/plain": [
       "<IPython.core.display.HTML object>"
      ]
     },
     "metadata": {},
     "output_type": "display_data"
    },
    {
     "name": "stderr",
     "output_type": "stream",
     "text": [
      "WARNING:root:SKIPPED burr distribution (taking more than 30 seconds)\n",
      "WARNING:root:SKIPPED kstwo distribution (taking more than 30 seconds)\n",
      "WARNING:root:SKIPPED genexpon distribution (taking more than 30 seconds)\n",
      "WARNING:root:SKIPPED johnsonsb distribution (taking more than 30 seconds)\n",
      "WARNING:root:SKIPPED johnsonsu distribution (taking more than 30 seconds)\n",
      "WARNING:root:SKIPPED kappa4 distribution (taking more than 30 seconds)\n",
      "WARNING:root:SKIPPED kstwobign distribution (taking more than 30 seconds)\n",
      "WARNING:root:SKIPPED rv_continuous distribution (taking more than 30 seconds)\n",
      "WARNING:root:SKIPPED rv_histogram distribution (taking more than 30 seconds)\n",
      "WARNING:root:SKIPPED levy_stable distribution (taking more than 30 seconds)\n",
      "WARNING:root:SKIPPED ncx2 distribution (taking more than 30 seconds)\n",
      "WARNING:root:SKIPPED powerlognorm distribution (taking more than 30 seconds)\n",
      "WARNING:root:SKIPPED recipinvgauss distribution (taking more than 30 seconds)\n",
      "WARNING:root:SKIPPED vonmises distribution (taking more than 30 seconds)\n",
      "WARNING:root:SKIPPED vonmises_line distribution (taking more than 30 seconds)\n"
     ]
    },
    {
     "name": "stdout",
     "output_type": "stream",
     "text": [
      "First condition - arcsine\n",
      "First condition - arcsine\n",
      "0    64\n",
      "dtype: int64\n",
      "Third condition - ncf\n",
      "0    98\n",
      "dtype: int64\n"
     ]
    },
    {
     "data": {
      "text/html": [
       "\n",
       "            <div style=\"float: left; border: 1px solid black; width:500px\">\n",
       "              <div id=\"402bd128-a761-4294-b845-ae446cc1a987\" style=\"background-color:blue; width:0%\">&nbsp;</div>\n",
       "            </div>\n",
       "            <label id=\"6111639e-6de6-4856-89f2-5f428f5b6099\" style=\"padding-left: 10px;\" text = \"\"/>\n",
       "            "
      ],
      "text/plain": [
       "<IPython.core.display.HTML object>"
      ]
     },
     "metadata": {},
     "output_type": "display_data"
    },
    {
     "name": "stderr",
     "output_type": "stream",
     "text": [
      "WARNING:root:SKIPPED geninvgauss distribution (taking more than 30 seconds)\n",
      "WARNING:root:SKIPPED burr distribution (taking more than 30 seconds)\n",
      "WARNING:root:SKIPPED crystalball distribution (taking more than 30 seconds)\n",
      "WARNING:root:SKIPPED kstwo distribution (taking more than 30 seconds)\n",
      "WARNING:root:SKIPPED genexpon distribution (taking more than 30 seconds)\n",
      "WARNING:root:SKIPPED gompertz distribution (taking more than 30 seconds)\n",
      "WARNING:root:SKIPPED johnsonsb distribution (taking more than 30 seconds)\n",
      "WARNING:root:SKIPPED johnsonsu distribution (taking more than 30 seconds)\n",
      "WARNING:root:SKIPPED kappa4 distribution (taking more than 30 seconds)\n",
      "WARNING:root:SKIPPED kstwobign distribution (taking more than 30 seconds)\n",
      "WARNING:root:SKIPPED levy_stable distribution (taking more than 30 seconds)\n",
      "WARNING:root:SKIPPED rv_continuous distribution (taking more than 30 seconds)\n",
      "WARNING:root:SKIPPED rv_histogram distribution (taking more than 30 seconds)\n",
      "WARNING:root:SKIPPED ncx2 distribution (taking more than 30 seconds)\n",
      "WARNING:root:SKIPPED powerlognorm distribution (taking more than 30 seconds)\n",
      "WARNING:root:SKIPPED powernorm distribution (taking more than 30 seconds)\n",
      "WARNING:root:SKIPPED recipinvgauss distribution (taking more than 30 seconds)\n",
      "WARNING:root:SKIPPED vonmises distribution (taking more than 30 seconds)\n",
      "WARNING:root:SKIPPED vonmises_line distribution (taking more than 30 seconds)\n"
     ]
    },
    {
     "name": "stdout",
     "output_type": "stream",
     "text": [
      "Second condition - dgamma\n"
     ]
    }
   ],
   "source": [
    "for feat in feat_col:\n",
    "    print(feat)\n",
    "    storms_tmp = storms2[storms2[col] == feat]\n",
    "    new_storm_tmp = pd.DataFrame(data = {\n",
    "        'name': [f'New {storm_name}']*len(storms_tmp),\n",
    "        col: [feat]*len(storms_tmp)\n",
    "    })\n",
    "    for targ in targ_col:\n",
    "        new_storm_tmp[targ] = create_random_set(storms_tmp[targ])\n",
    "    new_storm = new_storm.append(new_storm_tmp, ignore_index = True)\n",
    "        \n",
    "storms2['name'] = storm_name\n",
    "storms_joined = storms2.append(new_storm, ignore_index=True)"
   ]
  },
  {
   "cell_type": "markdown",
   "metadata": {},
   "source": [
    "To show the similarities between the two datasets, a scatter plot is graphed showing the original storm and the new storm differentiated by colour, and the storm status defined by marker type.  "
   ]
  },
  {
   "cell_type": "code",
   "execution_count": 11,
   "metadata": {},
   "outputs": [
    {
     "data": {
      "image/png": "[encoded data removed]",
      "text/plain": [
       "<Figure size 720x504 with 1 Axes>"
      ]
     },
     "metadata": {
      "needs_background": "light"
     },
     "output_type": "display_data"
    }
   ],
   "source": [
    "fig2 = plt.figure(figsize=(10,7))\n",
    "with sns.axes_style(\"darkgrid\"):\n",
    "    sns.scatterplot(data = storms_joined, x = \"wind\", y = \"pressure\", hue=\"name\", style=\"status\")"
   ]
  },
  {
   "cell_type": "code",
   "execution_count": null,
   "metadata": {},
   "outputs": [],
   "source": []
  }
 ],
 "metadata": {
  "kernelspec": {
   "display_name": "Python 3",
   "language": "python",
   "name": "python3"
  },
  "language_info": {
   "codemirror_mode": {
    "name": "ipython",
    "version": 3
   },
   "file_extension": ".py",
   "mimetype": "text/x-python",
   "name": "python",
   "nbconvert_exporter": "python",
   "pygments_lexer": "ipython3",
   "version": "3.8.5"
  }
 },
 "nbformat": 4,
 "nbformat_minor": 4
}
