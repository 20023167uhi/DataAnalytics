{
 "cells": [
  {
   "cell_type": "markdown",
   "metadata": {},
   "source": [
    "# A random data generator\n",
    "\n",
    "This is an attempt to create a random data generator which will be based on looking at a series of data, trying to fit a distribution curve to that data and then taking the parameters of the probability curve to create a random variate set, `.rvs`, from scipy's stats library.\n",
    "\n",
    "This document initially looks at creating one working system and then implements it into a function to use with a dataset of storms.\n",
    "\n",
    "Initially a `numpy.ndarray` is created using `scipy.stats.gamma.rvs` where the paramaters chosen are arbitrary values of `a = 2`, `loc = 1.5`, `scale = 2`, and `size = 10000` as per the example originally shown in `fitter`. The `fitter` funciton is then used to fit the data using `.fit` which gives a range of curves in order of their fitting error, and a plot that shows how effectivly the curves match the data."
   ]
  },
  {
   "cell_type": "code",
   "execution_count": 1,
   "metadata": {},
   "outputs": [
    {
     "data": {
      "text/html": [
       "\n",
       "            <div style=\"float: left; border: 1px solid black; width:500px\">\n",
       "              <div id=\"fc4b008f-545b-4a6b-b3b4-0646c1db8ddd\" style=\"background-color:blue; width:0%\">&nbsp;</div>\n",
       "            </div>\n",
       "            <label id=\"f808adc6-6bb8-4b0f-a6f1-63298b04d1c0\" style=\"padding-left: 10px;\" text = \"\"/>\n",
       "            "
      ],
      "text/plain": [
       "<IPython.core.display.HTML object>"
      ]
     },
     "metadata": {},
     "output_type": "display_data"
    },
    {
     "name": "stderr",
     "output_type": "stream",
     "text": [
      "WARNING:root:SKIPPED kstwo distribution (taking more than 30 seconds)\n",
      "WARNING:root:SKIPPED johnsonsb distribution (taking more than 30 seconds)\n",
      "WARNING:root:SKIPPED johnsonsu distribution (taking more than 30 seconds)\n",
      "WARNING:root:SKIPPED kappa4 distribution (taking more than 30 seconds)\n",
      "WARNING:root:SKIPPED ksone distribution (taking more than 30 seconds)\n",
      "WARNING:root:SKIPPED levy_stable distribution (taking more than 30 seconds)\n",
      "WARNING:root:SKIPPED loggamma distribution (taking more than 30 seconds)\n",
      "WARNING:root:SKIPPED ncf distribution (taking more than 30 seconds)\n",
      "WARNING:root:SKIPPED nct distribution (taking more than 30 seconds)\n",
      "WARNING:root:SKIPPED ncx2 distribution (taking more than 30 seconds)\n",
      "WARNING:root:SKIPPED norminvgauss distribution (taking more than 30 seconds)\n",
      "WARNING:root:SKIPPED rv_continuous distribution (taking more than 30 seconds)\n",
      "WARNING:root:SKIPPED rv_histogram distribution (taking more than 30 seconds)\n",
      "WARNING:root:SKIPPED powerlognorm distribution (taking more than 30 seconds)\n",
      "WARNING:root:SKIPPED powernorm distribution (taking more than 30 seconds)\n",
      "WARNING:root:SKIPPED rdist distribution (taking more than 30 seconds)\n",
      "WARNING:root:SKIPPED recipinvgauss distribution (taking more than 30 seconds)\n",
      "WARNING:root:SKIPPED triang distribution (taking more than 30 seconds)\n",
      "WARNING:root:SKIPPED tukeylambda distribution (taking more than 30 seconds)\n",
      "WARNING:root:SKIPPED vonmises distribution (taking more than 30 seconds)\n",
      "WARNING:root:SKIPPED vonmises_line distribution (taking more than 30 seconds)\n",
      "WARNING:root:SKIPPED weibull_max distribution (taking more than 30 seconds)\n"
     ]
    }
   ],
   "source": [
    "import numpy as np\n",
    "import pandas as pd\n",
    "\n",
    "from scipy import stats\n",
    "from fitter import Fitter\n",
    "# Fit the data using the python fitter library\n",
    "# https://pypi.org/project/fitter/ \n",
    "\n",
    "import random\n",
    "import warnings\n",
    "warnings.filterwarnings('ignore')\n",
    "\n",
    "data = stats.gamma.rvs(2, loc=1.5, scale=2, size=10000)\n",
    "\n",
    "f = Fitter(data)\n",
    "f.fit()\n",
    "# may take some time since by default, all distributions are tried\n",
    "# but you call manually provide a smaller set of distributions"
   ]
  },
  {
   "cell_type": "code",
   "execution_count": 2,
   "metadata": {},
   "outputs": [
    {
     "data": {
      "text/html": [
       "<div>\n",
       "<style scoped>\n",
       "    .dataframe tbody tr th:only-of-type {\n",
       "        vertical-align: middle;\n",
       "    }\n",
       "\n",
       "    .dataframe tbody tr th {\n",
       "        vertical-align: top;\n",
       "    }\n",
       "\n",
       "    .dataframe thead th {\n",
       "        text-align: right;\n",
       "    }\n",
       "</style>\n",
       "<table border=\"1\" class=\"dataframe\">\n",
       "  <thead>\n",
       "    <tr style=\"text-align: right;\">\n",
       "      <th></th>\n",
       "      <th>sumsquare_error</th>\n",
       "      <th>aic</th>\n",
       "      <th>bic</th>\n",
       "      <th>kl_div</th>\n",
       "    </tr>\n",
       "  </thead>\n",
       "  <tbody>\n",
       "    <tr>\n",
       "      <th>gengamma</th>\n",
       "      <td>0.000768</td>\n",
       "      <td>1352.981139</td>\n",
       "      <td>-163785.096358</td>\n",
       "      <td>inf</td>\n",
       "    </tr>\n",
       "    <tr>\n",
       "      <th>exponweib</th>\n",
       "      <td>0.000774</td>\n",
       "      <td>1349.724836</td>\n",
       "      <td>-163703.527820</td>\n",
       "      <td>inf</td>\n",
       "    </tr>\n",
       "    <tr>\n",
       "      <th>geninvgauss</th>\n",
       "      <td>0.000775</td>\n",
       "      <td>1375.763997</td>\n",
       "      <td>-163699.470772</td>\n",
       "      <td>inf</td>\n",
       "    </tr>\n",
       "    <tr>\n",
       "      <th>f</th>\n",
       "      <td>0.000776</td>\n",
       "      <td>1323.359378</td>\n",
       "      <td>-163684.639753</td>\n",
       "      <td>inf</td>\n",
       "    </tr>\n",
       "    <tr>\n",
       "      <th>erlang</th>\n",
       "      <td>0.000793</td>\n",
       "      <td>1380.541205</td>\n",
       "      <td>-163469.543747</td>\n",
       "      <td>inf</td>\n",
       "    </tr>\n",
       "  </tbody>\n",
       "</table>\n",
       "</div>"
      ],
      "text/plain": [
       "             sumsquare_error          aic            bic  kl_div\n",
       "gengamma            0.000768  1352.981139 -163785.096358     inf\n",
       "exponweib           0.000774  1349.724836 -163703.527820     inf\n",
       "geninvgauss         0.000775  1375.763997 -163699.470772     inf\n",
       "f                   0.000776  1323.359378 -163684.639753     inf\n",
       "erlang              0.000793  1380.541205 -163469.543747     inf"
      ]
     },
     "execution_count": 2,
     "metadata": {},
     "output_type": "execute_result"
    },
    {
     "data": {
      "image/png": "[encoded data removed]",
      "text/plain": [
       "<Figure size 432x288 with 1 Axes>"
      ]
     },
     "metadata": {
      "needs_background": "light"
     },
     "output_type": "display_data"
    }
   ],
   "source": [
    "f.summary()"
   ]
  },
  {
   "cell_type": "markdown",
   "metadata": {},
   "source": [
    "Initially the first curve is taken as it is considered the first best fitting curve and a command is set up using the summary index, or `eval(\"stats\" + dist_df.index[0])` where `dist_df.index[0]` references the scipy curve, to create the random variable set. The parameters for the curve are obtained using the `.fitted_param` function which returns a dictionary whose keys match the summary index values.\n",
    "\n",
    "Lastly, the `data_len` is taken as the same length of data is what is sought, the length of data created `r_len` is set of `0` and the value `run_once` is set to `False`."
   ]
  },
  {
   "cell_type": "code",
   "execution_count": 3,
   "metadata": {},
   "outputs": [
    {
     "name": "stdout",
     "output_type": "stream",
     "text": [
      "The best fitting curve is gengamma\n"
     ]
    }
   ],
   "source": [
    "# Return the best fitting curve to the data\n",
    "dist_df = f.summary(Nbest=1, plot=False)\n",
    "\n",
    "# Create a command for fitting the distribution \n",
    "dist = eval(\"stats.\" + dist_df.index[0])\n",
    "\n",
    "# f.fitted_param gives the fitting characteristics of the different suggested curves.\n",
    "params = f.fitted_param[dist_df.index[0]]\n",
    "\n",
    "data_len = len(data)\n",
    "r_len = 0\n",
    "\n",
    "run_once = False\n",
    "\n",
    "print(f\"The best fitting curve is {dist_df.index[0]}\")"
   ]
  },
  {
   "cell_type": "markdown",
   "metadata": {},
   "source": [
    "In order to match the lengths fo data a while loop is set to run with the condition where the length of data does not match the length of new data.\n",
    "\n",
    "The distribution curves available in scipy can have inputs of 2, 3, or 4 values. A conditional `if` statment is set up to handle these cases and create the random variable set based on the curve. Being a random variable set without min/max conditions means the data created may have some odd values that don't fit within the parameters of the chosen data series. The data series created is then filtered down to have values that exist within the bounds of the original data's min/max values, but this drops values so the new dataset won't match the length of the old dataset. This keeps the while loop running and new data is gathered by calculating the difference between the current data length and the created data length, less the data outside the min/max. The second set of new values created are added to the first set of new values to make the new series the same length as the old series, to break the loop if the new series lies within the min/max bounds of the original data.   "
   ]
  },
  {
   "cell_type": "code",
   "execution_count": 4,
   "metadata": {},
   "outputs": [
    {
     "name": "stdout",
     "output_type": "stream",
     "text": [
      "Third condition 10000 - 0 = 10000\n"
     ]
    }
   ],
   "source": [
    "# Probability\n",
    "while data_len != r_len:\n",
    "    dist_len = data_len - r_len\n",
    "    if len(params) == 2:\n",
    "        print(\"First condition\")\n",
    "        a, b = params\n",
    "        r_tmp = pd.Series(dist.rvs(a, b, size = dist_len))\n",
    "\n",
    "    elif len(params) == 3: \n",
    "        print(\"Second condition\")\n",
    "        a, b, c = params\n",
    "        r_tmp = pd.Series(dist.rvs(a, b, c, size = dist_len))\n",
    "\n",
    "    elif len(params) == 4:\n",
    "        print(f\"Third condition {data_len} - {r_len} = {dist_len}\")\n",
    "        a, b, c, d = params\n",
    "        r_tmp = pd.Series(dist.rvs(a, b, c, d, size = dist_len))\n",
    "\n",
    "    else:\n",
    "        print(f\"Tom, you're gonna need to make a condition for {dist_df.index[0]}\")\n",
    "        r = pd.Series([np.nan]*dist_len)\n",
    "\n",
    "    if not run_once:\n",
    "        run_once = True\n",
    "        r = r_tmp\n",
    "    else:\n",
    "        print(r_tmp)\n",
    "        r = r.append(r_tmp, ignore_index = True)\n",
    "\n",
    "    r = r[(data.min() < r) & (r < data.max())]\n",
    "    r_len = len(r)"
   ]
  },
  {
   "cell_type": "markdown",
   "metadata": {},
   "source": [
    "To compare the two distributions the plots of the two datasets can be made to show they're roughtly the same but the slight difference in peaks shows that they're not exactly the same."
   ]
  },
  {
   "cell_type": "code",
   "execution_count": 5,
   "metadata": {},
   "outputs": [
    {
     "data": {
      "text/plain": [
       "Text(0.5, 1.0, 'Data Generated from gengamma')"
      ]
     },
     "execution_count": 5,
     "metadata": {},
     "output_type": "execute_result"
    },
    {
     "data": {
      "image/png": "[encoded data removed]",
      "text/plain": [
       "<Figure size 720x360 with 2 Axes>"
      ]
     },
     "metadata": {
      "needs_background": "light"
     },
     "output_type": "display_data"
    }
   ],
   "source": [
    "import matplotlib.pyplot as plt\n",
    "import seaborn as sns\n",
    "%matplotlib inline\n",
    "\n",
    "fig1 = plt.figure(figsize = (10, 5))\n",
    "gs = fig1.add_gridspec(1, 2)\n",
    "\n",
    "# Plot the distributed data and a random variate set based on the the selected curve distribution and compare side by side.\n",
    "ax = fig1.add_subplot(gs[0,0])\n",
    "sns.distplot(data, bins=100).set_title(f\"Original gamma Data\")\n",
    "ax = fig1.add_subplot(gs[0,1])\n",
    "sns.distplot(r, bins=100).set_title(f\"Data Generated from {dist_df.index[0]}\")\n"
   ]
  },
  {
   "cell_type": "markdown",
   "metadata": {},
   "source": [
    "The process above is then set into a function to do the same process. \n",
    "\n",
    "Some of the issues found were that the method would loop looking for a suitable value so the `runs` variable was added to change the distribution curve and parameters if no suitable random variables can be found."
   ]
  },
  {
   "cell_type": "code",
   "execution_count": 6,
   "metadata": {},
   "outputs": [],
   "source": [
    "# From the testing above, create a function to do the same job\n",
    "def create_random_set(data):\n",
    "    data_len = len(data)\n",
    "    data_min = data.min()\n",
    "    data_max = data.max()\n",
    "    \n",
    "    # import and fit the dataset (series) that is to be randomised\n",
    "    f = Fitter(data)\n",
    "    f.fit()\n",
    "\n",
    "    # Return the best fitting curve to the data\n",
    "    dist_df = f.summary(plot=False)\n",
    "\n",
    "    r_len = 0\n",
    "    runs = 0\n",
    "    # Probability\n",
    "    while data_len != r_len:\n",
    "        dist_len = data_len - r_len\n",
    "        # f.fitted_param gives the fitting characteristics of the different suggested curves\n",
    "        params = f.fitted_param[dist_df.index[runs]]\n",
    "        dist = eval(\"stats.\" + dist_df.index[runs])\n",
    "\n",
    "        if len(params) == 2:\n",
    "            a, b = params\n",
    "            r_tmp = pd.Series(dist.rvs(a, b, size = dist_len))\n",
    "\n",
    "        elif len(params) == 3: \n",
    "            a, b, c = params\n",
    "            r_tmp = pd.Series(dist.rvs(a, b, c, size = dist_len))\n",
    "\n",
    "        elif len(params) == 4:\n",
    "            a, b, c, d = params\n",
    "            r_tmp = pd.Series(dist.rvs(a, b, c, d, size = dist_len))\n",
    "            \n",
    "        elif len(params) == 5:\n",
    "            a, b, c, d, e = params\n",
    "            r_tmp = pd.Series(dist.rvs(a, b, c, d, e, size = dist_len))\n",
    "            \n",
    "        elif len(params) == 6:\n",
    "            a, b, c, d, e, f = params\n",
    "            r_tmp = pd.Series(dist.rvs(a, b, c, d, e, f, size = dist_len))\n",
    "\n",
    "        else:\n",
    "            print(f\"Tom, you're gonna need to make a condition for {dist_df.index[runs]}\")\n",
    "            r = pd.Series([np.nan]*dist_len)\n",
    "\n",
    "        if r_len == 0:\n",
    "            r = r_tmp.astype(np.int64)\n",
    "        else:\n",
    "            r = r.append(r_tmp.astype(np.int64), ignore_index = True)\n",
    "            runs = runs + 1\n",
    "\n",
    "        r = r[(data_min <= r) & (r <= data_max)]\n",
    "        r_len = len(r)\n",
    "\n",
    "    return r"
   ]
  },
  {
   "cell_type": "markdown",
   "metadata": {},
   "source": [
    "# Use in a dataset\n",
    "\n",
    "For testing purposes a dataset based on storm data was imported to a dataframe. In this data a series of storms are recorded with their `pressure`, `wind`, and `status` - either `Tropic Depression`, `Tropic Storm`, or `Hurricane`. The storm characteristics are seperated by their `name` and their `status` is defined by the `wind`. A more complex system could be created to define a relationship between `pressure`, `wind`, and `status` but this is merely an example of creating data and not an exercise in meteorolgy. \n",
    "\n",
    "Inhereted values might be important considerations to acknowledge when creating new data be it from financial or social media data that sets the base model.\n",
    "\n",
    "The list of storms that are available are shown below:"
   ]
  },
  {
   "cell_type": "code",
   "execution_count": 7,
   "metadata": {},
   "outputs": [
    {
     "data": {
      "text/plain": [
       "array(['Amy', 'Caroline', 'Doris', 'Belle', 'Gloria', 'Anita', 'Clara',\n",
       "       'Evelyn', 'Amelia', 'Bess', 'Cora', 'Juliet', 'Ana', 'Bob',\n",
       "       'Claudette', 'David', 'Frederic', 'Henri', 'Bonnie', 'Charley',\n",
       "       'Georges', 'Danielle', 'Hermine', 'Ivan', 'Jeanne', 'Karl',\n",
       "       'Emily', 'Floyd', 'Gert', 'Harvey', 'Katrina', 'Alberto', 'Beryl',\n",
       "       'Chris', 'Debby', 'Ernesto', 'Alicia', 'Barry', 'Chantal', 'Dean',\n",
       "       'Arthur', 'Cesar', 'Diana', 'Edouard', 'Gustav', 'Hortense',\n",
       "       'Isidore', 'Josephine', 'Klaus', 'Lili', 'Danny', 'Fabian',\n",
       "       'Isabel', 'Juan', 'Kate', 'Andrew', 'AL031987', 'AL061988',\n",
       "       'Gilbert', 'Isaac', 'Joan', 'Keith', 'Allison', 'Erin', 'Felix',\n",
       "       'Gabrielle', 'Hugo', 'Iris', 'Jerry', 'Karen', 'Marco', 'Nana',\n",
       "       'AL041991', 'Erika', 'AL101991', 'AL121991', 'AL021992',\n",
       "       'AL031992', 'AL081992', 'AL011993', 'AL101993', 'AL021994',\n",
       "       'AL051994', 'AL081994', 'AL091994', 'AL101994', 'Gordon',\n",
       "       'AL061995', 'Humberto', 'Luis', 'AL141995', 'Marilyn', 'Noel',\n",
       "       'Opal', 'Pablo', 'Roxanne', 'Sebastien', 'Tanya', 'Kyle', 'Bill',\n",
       "       'AL061997', 'Alex', 'Lisa', 'Mitch', 'Nicole', 'AL021999',\n",
       "       'AL071999', 'AL111999', 'AL121999', 'Lenny', 'AL012000',\n",
       "       'AL022000', 'AL042000', 'AL092000', 'Joyce', 'Leslie', 'Michael',\n",
       "       'Nadine', 'AL022001', 'AL092001', 'Lorenzo', 'Michelle', 'Olga',\n",
       "       'Cristobal', 'Fay', 'AL072002', 'Hanna', 'AL142002', 'AL022003',\n",
       "       'AL062003', 'AL072003', 'AL092003', 'AL142003', 'Larry', 'Mindy',\n",
       "       'Nicholas', 'Odette', 'Peter', 'Gaston', 'AL102004', 'Matthew',\n",
       "       'Otto', 'Franklin', 'Ten', 'Lee', 'Maria', 'Nate', 'Ophelia',\n",
       "       'Philippe', 'Rita', 'Nineteen', 'Stan', 'Tammy', 'Vince', 'Wilma',\n",
       "       'Beta', 'Gamma', 'Epsilon', 'Zeta', 'AL022006', 'Ingrid',\n",
       "       'Melissa', 'Fifteen', 'Ike', 'Omar', 'Sixteen', 'Paloma', 'One',\n",
       "       'Fred', 'Eight', 'Ida', 'Two', 'Colin', 'Five', 'Fiona', 'Igor',\n",
       "       'Julia', 'Paula', 'Richard', 'Shary', 'Tomas', 'Don', 'Katia',\n",
       "       'Al202011', 'Rina', 'Sean', 'Kirk', 'Oscar', 'Patty', 'Rafael',\n",
       "       'Sandy', 'Tony', 'Andrea', 'Dorian', 'Fernand', 'Gonzalo', 'Nine',\n",
       "       'Joaquin'], dtype=object)"
      ]
     },
     "execution_count": 7,
     "metadata": {},
     "output_type": "execute_result"
    }
   ],
   "source": [
    "storms = pd.read_csv('storms.csv')\n",
    "storms['name'].unique()"
   ]
  },
  {
   "cell_type": "markdown",
   "metadata": {},
   "source": [
    "And one is randomly selected for the test:"
   ]
  },
  {
   "cell_type": "code",
   "execution_count": 8,
   "metadata": {},
   "outputs": [
    {
     "data": {
      "text/html": [
       "<div>\n",
       "<style scoped>\n",
       "    .dataframe tbody tr th:only-of-type {\n",
       "        vertical-align: middle;\n",
       "    }\n",
       "\n",
       "    .dataframe tbody tr th {\n",
       "        vertical-align: top;\n",
       "    }\n",
       "\n",
       "    .dataframe thead th {\n",
       "        text-align: right;\n",
       "    }\n",
       "</style>\n",
       "<table border=\"1\" class=\"dataframe\">\n",
       "  <thead>\n",
       "    <tr style=\"text-align: right;\">\n",
       "      <th></th>\n",
       "      <th>name</th>\n",
       "      <th>year</th>\n",
       "      <th>month</th>\n",
       "      <th>day</th>\n",
       "      <th>hour</th>\n",
       "      <th>lat</th>\n",
       "      <th>long</th>\n",
       "      <th>status</th>\n",
       "      <th>category</th>\n",
       "      <th>wind</th>\n",
       "      <th>pressure</th>\n",
       "      <th>ts_diameter</th>\n",
       "      <th>hu_diameter</th>\n",
       "    </tr>\n",
       "  </thead>\n",
       "  <tbody>\n",
       "    <tr>\n",
       "      <th>7963</th>\n",
       "      <td>Ike</td>\n",
       "      <td>2008</td>\n",
       "      <td>9</td>\n",
       "      <td>1</td>\n",
       "      <td>6</td>\n",
       "      <td>17.2</td>\n",
       "      <td>-37.0</td>\n",
       "      <td>tropical depression</td>\n",
       "      <td>-1</td>\n",
       "      <td>30</td>\n",
       "      <td>1006</td>\n",
       "      <td>0.0000</td>\n",
       "      <td>0.0</td>\n",
       "    </tr>\n",
       "    <tr>\n",
       "      <th>7964</th>\n",
       "      <td>Ike</td>\n",
       "      <td>2008</td>\n",
       "      <td>9</td>\n",
       "      <td>1</td>\n",
       "      <td>12</td>\n",
       "      <td>17.3</td>\n",
       "      <td>-38.4</td>\n",
       "      <td>tropical storm</td>\n",
       "      <td>0</td>\n",
       "      <td>35</td>\n",
       "      <td>1005</td>\n",
       "      <td>155.3553</td>\n",
       "      <td>0.0</td>\n",
       "    </tr>\n",
       "    <tr>\n",
       "      <th>7965</th>\n",
       "      <td>Ike</td>\n",
       "      <td>2008</td>\n",
       "      <td>9</td>\n",
       "      <td>1</td>\n",
       "      <td>18</td>\n",
       "      <td>17.5</td>\n",
       "      <td>-39.9</td>\n",
       "      <td>tropical storm</td>\n",
       "      <td>0</td>\n",
       "      <td>45</td>\n",
       "      <td>1003</td>\n",
       "      <td>212.8943</td>\n",
       "      <td>0.0</td>\n",
       "    </tr>\n",
       "    <tr>\n",
       "      <th>7966</th>\n",
       "      <td>Ike</td>\n",
       "      <td>2008</td>\n",
       "      <td>9</td>\n",
       "      <td>2</td>\n",
       "      <td>0</td>\n",
       "      <td>17.8</td>\n",
       "      <td>-41.3</td>\n",
       "      <td>tropical storm</td>\n",
       "      <td>0</td>\n",
       "      <td>45</td>\n",
       "      <td>1002</td>\n",
       "      <td>241.6638</td>\n",
       "      <td>0.0</td>\n",
       "    </tr>\n",
       "    <tr>\n",
       "      <th>7967</th>\n",
       "      <td>Ike</td>\n",
       "      <td>2008</td>\n",
       "      <td>9</td>\n",
       "      <td>2</td>\n",
       "      <td>6</td>\n",
       "      <td>18.2</td>\n",
       "      <td>-42.8</td>\n",
       "      <td>tropical storm</td>\n",
       "      <td>0</td>\n",
       "      <td>45</td>\n",
       "      <td>1000</td>\n",
       "      <td>276.1872</td>\n",
       "      <td>0.0</td>\n",
       "    </tr>\n",
       "    <tr>\n",
       "      <th>7968</th>\n",
       "      <td>Ike</td>\n",
       "      <td>2008</td>\n",
       "      <td>9</td>\n",
       "      <td>2</td>\n",
       "      <td>12</td>\n",
       "      <td>18.7</td>\n",
       "      <td>-44.3</td>\n",
       "      <td>tropical storm</td>\n",
       "      <td>0</td>\n",
       "      <td>50</td>\n",
       "      <td>999</td>\n",
       "      <td>276.1872</td>\n",
       "      <td>0.0</td>\n",
       "    </tr>\n",
       "    <tr>\n",
       "      <th>7969</th>\n",
       "      <td>Ike</td>\n",
       "      <td>2008</td>\n",
       "      <td>9</td>\n",
       "      <td>2</td>\n",
       "      <td>18</td>\n",
       "      <td>19.3</td>\n",
       "      <td>-45.8</td>\n",
       "      <td>tropical storm</td>\n",
       "      <td>0</td>\n",
       "      <td>55</td>\n",
       "      <td>996</td>\n",
       "      <td>276.1872</td>\n",
       "      <td>0.0</td>\n",
       "    </tr>\n",
       "    <tr>\n",
       "      <th>7970</th>\n",
       "      <td>Ike</td>\n",
       "      <td>2008</td>\n",
       "      <td>9</td>\n",
       "      <td>3</td>\n",
       "      <td>0</td>\n",
       "      <td>19.8</td>\n",
       "      <td>-47.3</td>\n",
       "      <td>tropical storm</td>\n",
       "      <td>0</td>\n",
       "      <td>55</td>\n",
       "      <td>994</td>\n",
       "      <td>270.4333</td>\n",
       "      <td>0.0</td>\n",
       "    </tr>\n",
       "    <tr>\n",
       "      <th>7971</th>\n",
       "      <td>Ike</td>\n",
       "      <td>2008</td>\n",
       "      <td>9</td>\n",
       "      <td>3</td>\n",
       "      <td>6</td>\n",
       "      <td>20.2</td>\n",
       "      <td>-48.8</td>\n",
       "      <td>tropical storm</td>\n",
       "      <td>0</td>\n",
       "      <td>55</td>\n",
       "      <td>992</td>\n",
       "      <td>264.6794</td>\n",
       "      <td>0.0</td>\n",
       "    </tr>\n",
       "    <tr>\n",
       "      <th>7972</th>\n",
       "      <td>Ike</td>\n",
       "      <td>2008</td>\n",
       "      <td>9</td>\n",
       "      <td>3</td>\n",
       "      <td>12</td>\n",
       "      <td>20.6</td>\n",
       "      <td>-50.3</td>\n",
       "      <td>tropical storm</td>\n",
       "      <td>0</td>\n",
       "      <td>60</td>\n",
       "      <td>989</td>\n",
       "      <td>258.9255</td>\n",
       "      <td>0.0</td>\n",
       "    </tr>\n",
       "  </tbody>\n",
       "</table>\n",
       "</div>"
      ],
      "text/plain": [
       "     name  year  month  day  hour   lat  long               status  category  \\\n",
       "7963  Ike  2008      9    1     6  17.2 -37.0  tropical depression        -1   \n",
       "7964  Ike  2008      9    1    12  17.3 -38.4       tropical storm         0   \n",
       "7965  Ike  2008      9    1    18  17.5 -39.9       tropical storm         0   \n",
       "7966  Ike  2008      9    2     0  17.8 -41.3       tropical storm         0   \n",
       "7967  Ike  2008      9    2     6  18.2 -42.8       tropical storm         0   \n",
       "7968  Ike  2008      9    2    12  18.7 -44.3       tropical storm         0   \n",
       "7969  Ike  2008      9    2    18  19.3 -45.8       tropical storm         0   \n",
       "7970  Ike  2008      9    3     0  19.8 -47.3       tropical storm         0   \n",
       "7971  Ike  2008      9    3     6  20.2 -48.8       tropical storm         0   \n",
       "7972  Ike  2008      9    3    12  20.6 -50.3       tropical storm         0   \n",
       "\n",
       "      wind  pressure  ts_diameter  hu_diameter  \n",
       "7963    30      1006       0.0000          0.0  \n",
       "7964    35      1005     155.3553          0.0  \n",
       "7965    45      1003     212.8943          0.0  \n",
       "7966    45      1002     241.6638          0.0  \n",
       "7967    45      1000     276.1872          0.0  \n",
       "7968    50       999     276.1872          0.0  \n",
       "7969    55       996     276.1872          0.0  \n",
       "7970    55       994     270.4333          0.0  \n",
       "7971    55       992     264.6794          0.0  \n",
       "7972    60       989     258.9255          0.0  "
      ]
     },
     "execution_count": 8,
     "metadata": {},
     "output_type": "execute_result"
    }
   ],
   "source": [
    "# Get a random storm from the list above that has more than 20 values for a good sample\n",
    "storm_name = random.choice(storms['name'].unique())\n",
    "storm_selected = storms[storms.name == storm_name]\n",
    "while len(storm_selected) < 20:\n",
    "    storm_name = random.choice(storms['name'].unique())\n",
    "    storm_selected = storms[storms.name == storm_name]\n",
    "storm_selected.head(10)"
   ]
  },
  {
   "cell_type": "markdown",
   "metadata": {},
   "source": [
    "Since a storm is chosen by name and it is of `object` type, its column is superfluous to the current method and can be dropped from the set, while the other object columns are selected, particularly the `status` column.\n",
    "\n",
    "A dataframe with selected columns is created and an empty dataframe with the same columns. A unique list of object variables is created with respect to the `status` column."
   ]
  },
  {
   "cell_type": "code",
   "execution_count": 9,
   "metadata": {},
   "outputs": [],
   "source": [
    "# Target columns for that are to be randomly generated\n",
    "targ_col = ['wind', 'pressure']\n",
    "# Basis column that has a parameter based on the target parameter.\n",
    "col = 'status'\n",
    "# Dataframe with just those columns\n",
    "storms2 = storm_selected[targ_col + [col]]\n",
    "# Blank dataframe with the columns that will be filled with the new storm values\n",
    "new_storm = pd.DataFrame(columns = storms2.columns)\n",
    "# The unique values of the status column\n",
    "feat_col = storms2[col].unique() "
   ]
  },
  {
   "cell_type": "markdown",
   "metadata": {},
   "source": [
    "The dataframe is filtered for each of the details in the `status` column, and each of the target columns is fed into the `create_random_set` function above as a series so the function can fit to each of the target columns."
   ]
  },
  {
   "cell_type": "code",
   "execution_count": 10,
   "metadata": {},
   "outputs": [
    {
     "data": {
      "text/html": [
       "\n",
       "            <div style=\"float: left; border: 1px solid black; width:500px\">\n",
       "              <div id=\"98683d45-3592-4d7a-9d1b-8d19f602237c\" style=\"background-color:blue; width:0%\">&nbsp;</div>\n",
       "            </div>\n",
       "            <label id=\"93159806-9692-4bb7-9804-20e242fc00a8\" style=\"padding-left: 10px;\" text = \"\"/>\n",
       "            "
      ],
      "text/plain": [
       "<IPython.core.display.HTML object>"
      ]
     },
     "metadata": {},
     "output_type": "display_data"
    },
    {
     "name": "stderr",
     "output_type": "stream",
     "text": [
      "WARNING:root:SKIPPED erlang distribution (taking more than 30 seconds)\n",
      "WARNING:root:SKIPPED geninvgauss distribution (taking more than 30 seconds)\n",
      "WARNING:root:SKIPPED kstwo distribution (taking more than 30 seconds)\n",
      "WARNING:root:SKIPPED rv_continuous distribution (taking more than 30 seconds)\n",
      "WARNING:root:SKIPPED rv_histogram distribution (taking more than 30 seconds)\n"
     ]
    },
    {
     "data": {
      "text/html": [
       "\n",
       "            <div style=\"float: left; border: 1px solid black; width:500px\">\n",
       "              <div id=\"6388625f-9a7c-48cd-b858-bfeb75dbbad2\" style=\"background-color:blue; width:0%\">&nbsp;</div>\n",
       "            </div>\n",
       "            <label id=\"ff24f5fb-7de6-4e5d-968b-0af45b76d576\" style=\"padding-left: 10px;\" text = \"\"/>\n",
       "            "
      ],
      "text/plain": [
       "<IPython.core.display.HTML object>"
      ]
     },
     "metadata": {},
     "output_type": "display_data"
    },
    {
     "name": "stderr",
     "output_type": "stream",
     "text": [
      "WARNING:root:SKIPPED erlang distribution (taking more than 30 seconds)\n",
      "WARNING:root:SKIPPED geninvgauss distribution (taking more than 30 seconds)\n",
      "WARNING:root:SKIPPED kstwo distribution (taking more than 30 seconds)\n",
      "WARNING:root:SKIPPED rv_continuous distribution (taking more than 30 seconds)\n",
      "WARNING:root:SKIPPED rv_histogram distribution (taking more than 30 seconds)\n",
      "WARNING:root:SKIPPED vonmises distribution (taking more than 30 seconds)\n"
     ]
    },
    {
     "data": {
      "text/html": [
       "\n",
       "            <div style=\"float: left; border: 1px solid black; width:500px\">\n",
       "              <div id=\"5b9dd933-5fa7-49de-a9be-101f0e53da3a\" style=\"background-color:blue; width:0%\">&nbsp;</div>\n",
       "            </div>\n",
       "            <label id=\"7d2c6a1c-0c35-450f-9e5e-73d9be1f254d\" style=\"padding-left: 10px;\" text = \"\"/>\n",
       "            "
      ],
      "text/plain": [
       "<IPython.core.display.HTML object>"
      ]
     },
     "metadata": {},
     "output_type": "display_data"
    },
    {
     "name": "stderr",
     "output_type": "stream",
     "text": [
      "WARNING:root:SKIPPED kstwo distribution (taking more than 30 seconds)\n",
      "WARNING:root:SKIPPED rv_continuous distribution (taking more than 30 seconds)\n",
      "WARNING:root:SKIPPED rv_histogram distribution (taking more than 30 seconds)\n",
      "WARNING:root:SKIPPED kappa4 distribution (taking more than 30 seconds)\n",
      "WARNING:root:SKIPPED recipinvgauss distribution (taking more than 30 seconds)\n",
      "WARNING:root:SKIPPED vonmises distribution (taking more than 30 seconds)\n"
     ]
    },
    {
     "data": {
      "text/html": [
       "\n",
       "            <div style=\"float: left; border: 1px solid black; width:500px\">\n",
       "              <div id=\"e43a97de-6f23-428d-a78d-1fe067c530b2\" style=\"background-color:blue; width:0%\">&nbsp;</div>\n",
       "            </div>\n",
       "            <label id=\"2275cebe-47a8-4601-beed-70918ce082f5\" style=\"padding-left: 10px;\" text = \"\"/>\n",
       "            "
      ],
      "text/plain": [
       "<IPython.core.display.HTML object>"
      ]
     },
     "metadata": {},
     "output_type": "display_data"
    },
    {
     "name": "stderr",
     "output_type": "stream",
     "text": [
      "WARNING:root:SKIPPED geninvgauss distribution (taking more than 30 seconds)\n",
      "WARNING:root:SKIPPED kstwo distribution (taking more than 30 seconds)\n",
      "WARNING:root:SKIPPED rv_continuous distribution (taking more than 30 seconds)\n",
      "WARNING:root:SKIPPED rv_histogram distribution (taking more than 30 seconds)\n",
      "WARNING:root:SKIPPED kappa4 distribution (taking more than 30 seconds)\n",
      "WARNING:root:SKIPPED levy_stable distribution (taking more than 30 seconds)\n",
      "WARNING:root:SKIPPED recipinvgauss distribution (taking more than 30 seconds)\n",
      "WARNING:root:SKIPPED vonmises distribution (taking more than 30 seconds)\n",
      "WARNING:root:SKIPPED vonmises_line distribution (taking more than 30 seconds)\n"
     ]
    },
    {
     "data": {
      "text/html": [
       "\n",
       "            <div style=\"float: left; border: 1px solid black; width:500px\">\n",
       "              <div id=\"18dfa303-7b95-43b1-80ff-2f220659eb2f\" style=\"background-color:blue; width:0%\">&nbsp;</div>\n",
       "            </div>\n",
       "            <label id=\"d517679e-dec5-4f00-bece-4d5641481d29\" style=\"padding-left: 10px;\" text = \"\"/>\n",
       "            "
      ],
      "text/plain": [
       "<IPython.core.display.HTML object>"
      ]
     },
     "metadata": {},
     "output_type": "display_data"
    },
    {
     "name": "stderr",
     "output_type": "stream",
     "text": [
      "WARNING:root:SKIPPED kstwo distribution (taking more than 30 seconds)\n",
      "WARNING:root:SKIPPED genexpon distribution (taking more than 30 seconds)\n",
      "WARNING:root:SKIPPED rv_continuous distribution (taking more than 30 seconds)\n",
      "WARNING:root:SKIPPED rv_histogram distribution (taking more than 30 seconds)\n",
      "WARNING:root:SKIPPED kappa4 distribution (taking more than 30 seconds)\n",
      "WARNING:root:SKIPPED levy_stable distribution (taking more than 30 seconds)\n",
      "WARNING:root:SKIPPED ncx2 distribution (taking more than 30 seconds)\n",
      "WARNING:root:SKIPPED recipinvgauss distribution (taking more than 30 seconds)\n",
      "WARNING:root:SKIPPED vonmises distribution (taking more than 30 seconds)\n",
      "WARNING:root:SKIPPED vonmises_line distribution (taking more than 30 seconds)\n"
     ]
    },
    {
     "data": {
      "text/html": [
       "\n",
       "            <div style=\"float: left; border: 1px solid black; width:500px\">\n",
       "              <div id=\"f16d7a80-6b4a-4d23-ac27-1b31e9fac74b\" style=\"background-color:blue; width:0%\">&nbsp;</div>\n",
       "            </div>\n",
       "            <label id=\"7b0a45ca-4610-4b3d-a55a-ec3774fe06e9\" style=\"padding-left: 10px;\" text = \"\"/>\n",
       "            "
      ],
      "text/plain": [
       "<IPython.core.display.HTML object>"
      ]
     },
     "metadata": {},
     "output_type": "display_data"
    },
    {
     "name": "stderr",
     "output_type": "stream",
     "text": [
      "WARNING:root:SKIPPED burr distribution (taking more than 30 seconds)\n",
      "WARNING:root:SKIPPED kstwo distribution (taking more than 30 seconds)\n",
      "WARNING:root:SKIPPED genexpon distribution (taking more than 30 seconds)\n",
      "WARNING:root:SKIPPED johnsonsu distribution (taking more than 30 seconds)\n",
      "WARNING:root:SKIPPED kappa4 distribution (taking more than 30 seconds)\n",
      "WARNING:root:SKIPPED rv_continuous distribution (taking more than 30 seconds)\n",
      "WARNING:root:SKIPPED rv_histogram distribution (taking more than 30 seconds)\n",
      "WARNING:root:SKIPPED levy_stable distribution (taking more than 30 seconds)\n",
      "WARNING:root:SKIPPED ncx2 distribution (taking more than 30 seconds)\n",
      "WARNING:root:SKIPPED recipinvgauss distribution (taking more than 30 seconds)\n",
      "WARNING:root:SKIPPED vonmises distribution (taking more than 30 seconds)\n",
      "WARNING:root:SKIPPED vonmises_line distribution (taking more than 30 seconds)\n"
     ]
    }
   ],
   "source": [
    "# For feature the status column is filtered. This will essentially 'groupby' the status and the target features  \n",
    "# will not be a 'date/time' set (Having the status still structured as the original storm, the storm may still \n",
    "# be identifieable to the original) \n",
    "\n",
    "for feat in feat_col:\n",
    "    # for each status value...\n",
    "    storms_tmp = storms2[storms2[col] == feat]\n",
    "    # create a dataframe same length as the the storm's 'status' value filled with the name and 'status' filled with the value\n",
    "    new_storm_tmp = pd.DataFrame(data = {\n",
    "        'name': [f'New {storm_name}']*len(storms_tmp),\n",
    "        col: [feat]*len(storms_tmp)\n",
    "    })\n",
    "    for targ in targ_col:\n",
    "        # For each of the target columns, run the function to generate a new dataset maybe better to use a '.map()' function.\n",
    "        new_storm_tmp[targ] = create_random_set(storms_tmp[targ])\n",
    "    # Append the generated data to the new dataset.\n",
    "    new_storm = new_storm.append(new_storm_tmp, ignore_index = True)\n",
    "\n",
    "# set the name value of storms2 and join the old and new datasets together for plotting \n",
    "storms2['name'] = storm_name\n",
    "storms_joined = storms2.append(new_storm, ignore_index=True)"
   ]
  },
  {
   "cell_type": "markdown",
   "metadata": {},
   "source": [
    "To show the similarities between the two datasets, a scatter plot is graphed showing the original storm and the new storm differentiated by colour, and the storm status defined by marker type.  "
   ]
  },
  {
   "cell_type": "code",
   "execution_count": 11,
   "metadata": {},
   "outputs": [
    {
     "data": {
      "image/png": "[encoded data removed]",
      "text/plain": [
       "<Figure size 720x504 with 1 Axes>"
      ]
     },
     "metadata": {
      "needs_background": "light"
     },
     "output_type": "display_data"
    }
   ],
   "source": [
    "#Plot the two datasets together as a scatter comparing by colour and marker type of name and status.\n",
    "fig2 = plt.figure(figsize=(10,7))\n",
    "with sns.axes_style(\"darkgrid\"):\n",
    "    sns.scatterplot(data = storms_joined, x = \"wind\", y = \"pressure\", hue=\"name\", style=\"status\")"
   ]
  },
  {
   "cell_type": "markdown",
   "metadata": {},
   "source": [
    "# Conclusions\n",
    "\n",
    "Generally this seems to be a good method for developing an independent series of random data based on another series. It does not factor in correllating circumstances like a neural network might. How machine learning might be used in this manner is that the base characteristics should be identified, like in banking data the money in, and the secondary characteristics modelled based on historical data and desinging a neural network to calculate each column based on fundamental characteristics.\n",
    "\n",
    "Some curves might not be suitable for the random data generation, like in the `tropic storm` generated data, the `pressure` dataset seems good but the corresponding `wind` distribution has poor variation. Similarly for the hurricane status there is a negative linear correlation between `pressure` and `wind` but in the new data there is low correlation.\n",
    "\n",
    "In weather data, other fundamental characteristics might be global location (the longitude and lattitude) and the date/time series which aren't directly a result of the wind and pressure but a cause. The status of the storm is a direct result of the wind and pressure so it's category is based on"
   ]
  },
  {
   "cell_type": "code",
   "execution_count": null,
   "metadata": {},
   "outputs": [],
   "source": []
  }
 ],
 "metadata": {
  "kernelspec": {
   "display_name": "Python 3",
   "language": "python",
   "name": "python3"
  },
  "language_info": {
   "codemirror_mode": {
    "name": "ipython",
    "version": 3
   },
   "file_extension": ".py",
   "mimetype": "text/x-python",
   "name": "python",
   "nbconvert_exporter": "python",
   "pygments_lexer": "ipython3",
   "version": "3.8.5"
  }
 },
 "nbformat": 4,
 "nbformat_minor": 4
}
