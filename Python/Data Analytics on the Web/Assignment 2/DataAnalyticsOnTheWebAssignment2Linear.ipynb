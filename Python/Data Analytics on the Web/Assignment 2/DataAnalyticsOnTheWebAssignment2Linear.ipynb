{
  "nbformat": 4,
  "nbformat_minor": 0,
  "metadata": {
    "colab": {
      "name": "DataAnalyticsOnTheWebAssignment2Linear.ipynb",
      "provenance": [],
      "collapsed_sections": []
    },
    "kernelspec": {
      "name": "python3",
      "display_name": "Python 3"
    }
  },
  "cells": [
    {
      "cell_type": "markdown",
      "metadata": {
        "id": "4w9sEQx-NFJv"
      },
      "source": [
        "In this tutorial we will train and test a linear regressor. This is something you have already done in part 3 of the course document. So, I will miss out all of the extra notes and just get to business."
      ]
    },
    {
      "cell_type": "code",
      "metadata": {
        "id": "2p-7cPGENClE",
        "colab": {
          "base_uri": "https://localhost:8080/"
        },
        "outputId": "930262cb-bd0a-4370-9ab7-88f1f224652d"
      },
      "source": [
        "# needed to create the data frame\n",
        "import pandas as pd\n",
        "\n",
        "# create data frame from csv file we hosted on our github\n",
        "# df = pd.read_csv('https://raw.githubusercontent.com/1122131uhi/dataAnalytics/master/tutorial2lineardata.csv', index_col=0, )\n",
        "df = pd.read_csv('https://raw.githubusercontent.com/20023167uhi/DataAnalytics/main/Python/Data%20Analytics%20on%20the%20Web/Assignment%201/Data/Tom_Blackwood-Linear-Weather_and_Collision_data_for_New_York_boroughs_2012-2020.csv', index_col=0, )\n",
        "df.info()"
      ],
      "execution_count": 24,
      "outputs": [
        {
          "output_type": "stream",
          "text": [
            "<class 'pandas.core.frame.DataFrame'>\n",
            "Index: 2556 entries, 2013-01-01 to 2019-12-31\n",
            "Data columns (total 5 columns):\n",
            " #   Column       Non-Null Count  Dtype  \n",
            "---  ------       --------------  -----  \n",
            " 0   weekday_num  2556 non-null   int64  \n",
            " 1   temp         2556 non-null   float64\n",
            " 2   slp          2555 non-null   float64\n",
            " 3   wdsp         2556 non-null   float64\n",
            " 4   collisions   2556 non-null   float64\n",
            "dtypes: float64(4), int64(1)\n",
            "memory usage: 119.8+ KB\n"
          ],
          "name": "stdout"
        }
      ]
    },
    {
      "cell_type": "code",
      "metadata": {
        "id": "DEw-Y4JWNkh1",
        "colab": {
          "base_uri": "https://localhost:8080/",
          "height": 266
        },
        "outputId": "4d7c4ecc-51ed-40b5-824c-a59e8b65aa2f"
      },
      "source": [
        "# df = df.drop('slp', axis=1).dropna(axis=0)\n",
        "df = df[df.slp.notna()]\n",
        "\n",
        "# make sure we have our data by printing it out\n",
        "# print(df[:6])\n",
        "# print(df) #all\n",
        "df.head(6)"
      ],
      "execution_count": 25,
      "outputs": [
        {
          "output_type": "execute_result",
          "data": {
            "text/html": [
              "<div>\n",
              "<style scoped>\n",
              "    .dataframe tbody tr th:only-of-type {\n",
              "        vertical-align: middle;\n",
              "    }\n",
              "\n",
              "    .dataframe tbody tr th {\n",
              "        vertical-align: top;\n",
              "    }\n",
              "\n",
              "    .dataframe thead th {\n",
              "        text-align: right;\n",
              "    }\n",
              "</style>\n",
              "<table border=\"1\" class=\"dataframe\">\n",
              "  <thead>\n",
              "    <tr style=\"text-align: right;\">\n",
              "      <th></th>\n",
              "      <th>weekday_num</th>\n",
              "      <th>temp</th>\n",
              "      <th>slp</th>\n",
              "      <th>wdsp</th>\n",
              "      <th>collisions</th>\n",
              "    </tr>\n",
              "    <tr>\n",
              "      <th>date</th>\n",
              "      <th></th>\n",
              "      <th></th>\n",
              "      <th></th>\n",
              "      <th></th>\n",
              "      <th></th>\n",
              "    </tr>\n",
              "  </thead>\n",
              "  <tbody>\n",
              "    <tr>\n",
              "      <th>2013-01-01</th>\n",
              "      <td>2</td>\n",
              "      <td>38.0</td>\n",
              "      <td>1008.8</td>\n",
              "      <td>15.0</td>\n",
              "      <td>0.097222</td>\n",
              "    </tr>\n",
              "    <tr>\n",
              "      <th>2013-01-02</th>\n",
              "      <td>3</td>\n",
              "      <td>27.5</td>\n",
              "      <td>1013.4</td>\n",
              "      <td>12.4</td>\n",
              "      <td>0.498747</td>\n",
              "    </tr>\n",
              "    <tr>\n",
              "      <th>2013-01-03</th>\n",
              "      <td>4</td>\n",
              "      <td>21.8</td>\n",
              "      <td>1018.1</td>\n",
              "      <td>9.8</td>\n",
              "      <td>0.527430</td>\n",
              "    </tr>\n",
              "    <tr>\n",
              "      <th>2013-01-04</th>\n",
              "      <td>5</td>\n",
              "      <td>32.2</td>\n",
              "      <td>1015.2</td>\n",
              "      <td>11.3</td>\n",
              "      <td>0.645503</td>\n",
              "    </tr>\n",
              "    <tr>\n",
              "      <th>2013-01-05</th>\n",
              "      <td>6</td>\n",
              "      <td>37.3</td>\n",
              "      <td>1017.3</td>\n",
              "      <td>13.2</td>\n",
              "      <td>0.095238</td>\n",
              "    </tr>\n",
              "    <tr>\n",
              "      <th>2013-01-06</th>\n",
              "      <td>0</td>\n",
              "      <td>35.7</td>\n",
              "      <td>1019.7</td>\n",
              "      <td>5.9</td>\n",
              "      <td>0.118056</td>\n",
              "    </tr>\n",
              "  </tbody>\n",
              "</table>\n",
              "</div>"
            ],
            "text/plain": [
              "            weekday_num  temp     slp  wdsp  collisions\n",
              "date                                                   \n",
              "2013-01-01            2  38.0  1008.8  15.0    0.097222\n",
              "2013-01-02            3  27.5  1013.4  12.4    0.498747\n",
              "2013-01-03            4  21.8  1018.1   9.8    0.527430\n",
              "2013-01-04            5  32.2  1015.2  11.3    0.645503\n",
              "2013-01-05            6  37.3  1017.3  13.2    0.095238\n",
              "2013-01-06            0  35.7  1019.7   5.9    0.118056"
            ]
          },
          "metadata": {
            "tags": []
          },
          "execution_count": 25
        }
      ]
    },
    {
      "cell_type": "code",
      "metadata": {
        "colab": {
          "base_uri": "https://localhost:8080/"
        },
        "id": "dpHA6AEUBrke",
        "outputId": "3a38b1c3-ec2b-4d3a-aad4-edb0206efa62"
      },
      "source": [
        "from sklearn.model_selection import train_test_split\r\n",
        "\r\n",
        "X = df.iloc[:, :-1]\r\n",
        "y = df.iloc[:,-1]\r\n",
        "\r\n",
        "X_train, X_test, y_train, y_test = train_test_split(X, y, test_size = 0.2, random_state = 101)\r\n",
        "\r\n",
        "X_train.info()\r\n",
        "X_test.info()\r\n",
        "\r\n",
        "print(f\"\"\" \r\n",
        "{y_train.head()}\r\n",
        "Length: {len(y_train)}\r\n",
        "\r\n",
        "{y_test.head()}\r\n",
        "Length: {len(y_test)}\r\n",
        "\"\"\")"
      ],
      "execution_count": 26,
      "outputs": [
        {
          "output_type": "stream",
          "text": [
            "<class 'pandas.core.frame.DataFrame'>\n",
            "Index: 2044 entries, 2017-10-30 to 2015-05-14\n",
            "Data columns (total 4 columns):\n",
            " #   Column       Non-Null Count  Dtype  \n",
            "---  ------       --------------  -----  \n",
            " 0   weekday_num  2044 non-null   int64  \n",
            " 1   temp         2044 non-null   float64\n",
            " 2   slp          2044 non-null   float64\n",
            " 3   wdsp         2044 non-null   float64\n",
            "dtypes: float64(3), int64(1)\n",
            "memory usage: 79.8+ KB\n",
            "<class 'pandas.core.frame.DataFrame'>\n",
            "Index: 511 entries, 2019-10-27 to 2013-08-17\n",
            "Data columns (total 4 columns):\n",
            " #   Column       Non-Null Count  Dtype  \n",
            "---  ------       --------------  -----  \n",
            " 0   weekday_num  511 non-null    int64  \n",
            " 1   temp         511 non-null    float64\n",
            " 2   slp          511 non-null    float64\n",
            " 3   wdsp         511 non-null    float64\n",
            "dtypes: float64(3), int64(1)\n",
            "memory usage: 20.0+ KB\n",
            " \n",
            "date\n",
            "2017-10-30    0.445346\n",
            "2015-06-30    0.508846\n",
            "2018-04-12    0.516092\n",
            "2015-07-12    0.209363\n",
            "2018-03-16    0.440729\n",
            "Name: collisions, dtype: float64\n",
            "Length: 2044\n",
            "\n",
            "date\n",
            "2019-10-27    0.185617\n",
            "2018-01-08    0.583673\n",
            "2018-10-28    0.188135\n",
            "2017-04-23    0.201825\n",
            "2018-11-22    0.046875\n",
            "Name: collisions, dtype: float64\n",
            "Length: 511\n",
            "\n"
          ],
          "name": "stdout"
        }
      ]
    },
    {
      "cell_type": "code",
      "metadata": {
        "colab": {
          "base_uri": "https://localhost:8080/",
          "height": 235
        },
        "id": "6H0eAT5EC4Vm",
        "outputId": "a9d21725-2171-4861-f59c-ef880639cbb6"
      },
      "source": [
        "X_train.head()"
      ],
      "execution_count": 27,
      "outputs": [
        {
          "output_type": "execute_result",
          "data": {
            "text/html": [
              "<div>\n",
              "<style scoped>\n",
              "    .dataframe tbody tr th:only-of-type {\n",
              "        vertical-align: middle;\n",
              "    }\n",
              "\n",
              "    .dataframe tbody tr th {\n",
              "        vertical-align: top;\n",
              "    }\n",
              "\n",
              "    .dataframe thead th {\n",
              "        text-align: right;\n",
              "    }\n",
              "</style>\n",
              "<table border=\"1\" class=\"dataframe\">\n",
              "  <thead>\n",
              "    <tr style=\"text-align: right;\">\n",
              "      <th></th>\n",
              "      <th>weekday_num</th>\n",
              "      <th>temp</th>\n",
              "      <th>slp</th>\n",
              "      <th>wdsp</th>\n",
              "    </tr>\n",
              "    <tr>\n",
              "      <th>date</th>\n",
              "      <th></th>\n",
              "      <th></th>\n",
              "      <th></th>\n",
              "      <th></th>\n",
              "    </tr>\n",
              "  </thead>\n",
              "  <tbody>\n",
              "    <tr>\n",
              "      <th>2017-10-30</th>\n",
              "      <td>1</td>\n",
              "      <td>60.4</td>\n",
              "      <td>997.1</td>\n",
              "      <td>27.3</td>\n",
              "    </tr>\n",
              "    <tr>\n",
              "      <th>2015-06-30</th>\n",
              "      <td>2</td>\n",
              "      <td>67.1</td>\n",
              "      <td>1015.7</td>\n",
              "      <td>7.1</td>\n",
              "    </tr>\n",
              "    <tr>\n",
              "      <th>2018-04-12</th>\n",
              "      <td>4</td>\n",
              "      <td>42.8</td>\n",
              "      <td>1019.4</td>\n",
              "      <td>9.8</td>\n",
              "    </tr>\n",
              "    <tr>\n",
              "      <th>2015-07-12</th>\n",
              "      <td>0</td>\n",
              "      <td>71.5</td>\n",
              "      <td>1016.1</td>\n",
              "      <td>9.3</td>\n",
              "    </tr>\n",
              "    <tr>\n",
              "      <th>2018-03-16</th>\n",
              "      <td>5</td>\n",
              "      <td>36.1</td>\n",
              "      <td>1000.1</td>\n",
              "      <td>13.5</td>\n",
              "    </tr>\n",
              "  </tbody>\n",
              "</table>\n",
              "</div>"
            ],
            "text/plain": [
              "            weekday_num  temp     slp  wdsp\n",
              "date                                       \n",
              "2017-10-30            1  60.4   997.1  27.3\n",
              "2015-06-30            2  67.1  1015.7   7.1\n",
              "2018-04-12            4  42.8  1019.4   9.8\n",
              "2015-07-12            0  71.5  1016.1   9.3\n",
              "2018-03-16            5  36.1  1000.1  13.5"
            ]
          },
          "metadata": {
            "tags": []
          },
          "execution_count": 27
        }
      ]
    },
    {
      "cell_type": "code",
      "metadata": {
        "colab": {
          "base_uri": "https://localhost:8080/",
          "height": 235
        },
        "id": "de9-ANVXDBw-",
        "outputId": "8a0259a6-e5f3-4c68-a799-c0369db3be0d"
      },
      "source": [
        "X_test.head()"
      ],
      "execution_count": 28,
      "outputs": [
        {
          "output_type": "execute_result",
          "data": {
            "text/html": [
              "<div>\n",
              "<style scoped>\n",
              "    .dataframe tbody tr th:only-of-type {\n",
              "        vertical-align: middle;\n",
              "    }\n",
              "\n",
              "    .dataframe tbody tr th {\n",
              "        vertical-align: top;\n",
              "    }\n",
              "\n",
              "    .dataframe thead th {\n",
              "        text-align: right;\n",
              "    }\n",
              "</style>\n",
              "<table border=\"1\" class=\"dataframe\">\n",
              "  <thead>\n",
              "    <tr style=\"text-align: right;\">\n",
              "      <th></th>\n",
              "      <th>weekday_num</th>\n",
              "      <th>temp</th>\n",
              "      <th>slp</th>\n",
              "      <th>wdsp</th>\n",
              "    </tr>\n",
              "    <tr>\n",
              "      <th>date</th>\n",
              "      <th></th>\n",
              "      <th></th>\n",
              "      <th></th>\n",
              "      <th></th>\n",
              "    </tr>\n",
              "  </thead>\n",
              "  <tbody>\n",
              "    <tr>\n",
              "      <th>2019-10-27</th>\n",
              "      <td>0</td>\n",
              "      <td>53.4</td>\n",
              "      <td>1022.7</td>\n",
              "      <td>14.3</td>\n",
              "    </tr>\n",
              "    <tr>\n",
              "      <th>2018-01-08</th>\n",
              "      <td>1</td>\n",
              "      <td>35.0</td>\n",
              "      <td>1023.6</td>\n",
              "      <td>18.3</td>\n",
              "    </tr>\n",
              "    <tr>\n",
              "      <th>2018-10-28</th>\n",
              "      <td>0</td>\n",
              "      <td>56.8</td>\n",
              "      <td>1007.4</td>\n",
              "      <td>13.4</td>\n",
              "    </tr>\n",
              "    <tr>\n",
              "      <th>2017-04-23</th>\n",
              "      <td>0</td>\n",
              "      <td>46.5</td>\n",
              "      <td>1017.3</td>\n",
              "      <td>10.5</td>\n",
              "    </tr>\n",
              "    <tr>\n",
              "      <th>2018-11-22</th>\n",
              "      <td>4</td>\n",
              "      <td>24.9</td>\n",
              "      <td>1022.1</td>\n",
              "      <td>19.2</td>\n",
              "    </tr>\n",
              "  </tbody>\n",
              "</table>\n",
              "</div>"
            ],
            "text/plain": [
              "            weekday_num  temp     slp  wdsp\n",
              "date                                       \n",
              "2019-10-27            0  53.4  1022.7  14.3\n",
              "2018-01-08            1  35.0  1023.6  18.3\n",
              "2018-10-28            0  56.8  1007.4  13.4\n",
              "2017-04-23            0  46.5  1017.3  10.5\n",
              "2018-11-22            4  24.9  1022.1  19.2"
            ]
          },
          "metadata": {
            "tags": []
          },
          "execution_count": 28
        }
      ]
    },
    {
      "cell_type": "code",
      "metadata": {
        "id": "U4FV9fPUOkvw",
        "colab": {
          "base_uri": "https://localhost:8080/"
        },
        "outputId": "a88eb269-0331-41e3-d1d7-0314f6da1ab4"
      },
      "source": [
        "# needed to help with speedy maths based calculations\n",
        "import numpy as np\n",
        "\n",
        "# iloc allows us to select by rows. Here, we are shuffling the data by rows determined at random.\n",
        "shuffle = df.iloc[np.random.permutation(len(df))]\n",
        "\n",
        "# we are selecting all rows of the columns outliined i.e. The 3rd (2 as indexes start from 0)\n",
        "predictors = shuffle.iloc[:,0:4]\n",
        "# Since it is the last column, we can also use\n",
        "# predictorTest = shuffle.iloc[:,-1]\n",
        "\n",
        "# print out the first 6 rows of predictors.\n",
        "print(predictors[:6])"
      ],
      "execution_count": 29,
      "outputs": [
        {
          "output_type": "stream",
          "text": [
            "            weekday_num  temp     slp  wdsp\n",
            "date                                       \n",
            "2013-10-31            4  54.8  1021.4   6.0\n",
            "2018-11-19            1  46.7  1021.0   5.0\n",
            "2018-08-10            5  76.9  1010.2   6.4\n",
            "2017-11-20            1  40.5  1010.3  15.4\n",
            "2017-10-29            0  60.4  1012.4  12.3\n",
            "2016-06-16            4  65.2  1009.1   6.6\n"
          ],
          "name": "stdout"
        }
      ]
    },
    {
      "cell_type": "code",
      "metadata": {
        "id": "v-gahQCyO6BJ",
        "colab": {
          "base_uri": "https://localhost:8080/",
          "height": 235
        },
        "outputId": "df5ce42a-a876-41b8-a589-75fd78a36e9f"
      },
      "source": [
        "# print out the shuffled data (first 5 rows)\n",
        "shuffle[:5]"
      ],
      "execution_count": 30,
      "outputs": [
        {
          "output_type": "execute_result",
          "data": {
            "text/html": [
              "<div>\n",
              "<style scoped>\n",
              "    .dataframe tbody tr th:only-of-type {\n",
              "        vertical-align: middle;\n",
              "    }\n",
              "\n",
              "    .dataframe tbody tr th {\n",
              "        vertical-align: top;\n",
              "    }\n",
              "\n",
              "    .dataframe thead th {\n",
              "        text-align: right;\n",
              "    }\n",
              "</style>\n",
              "<table border=\"1\" class=\"dataframe\">\n",
              "  <thead>\n",
              "    <tr style=\"text-align: right;\">\n",
              "      <th></th>\n",
              "      <th>weekday_num</th>\n",
              "      <th>temp</th>\n",
              "      <th>slp</th>\n",
              "      <th>wdsp</th>\n",
              "      <th>collisions</th>\n",
              "    </tr>\n",
              "    <tr>\n",
              "      <th>date</th>\n",
              "      <th></th>\n",
              "      <th></th>\n",
              "      <th></th>\n",
              "      <th></th>\n",
              "      <th></th>\n",
              "    </tr>\n",
              "  </thead>\n",
              "  <tbody>\n",
              "    <tr>\n",
              "      <th>2013-10-31</th>\n",
              "      <td>4</td>\n",
              "      <td>54.8</td>\n",
              "      <td>1021.4</td>\n",
              "      <td>6.0</td>\n",
              "      <td>0.590465</td>\n",
              "    </tr>\n",
              "    <tr>\n",
              "      <th>2018-11-19</th>\n",
              "      <td>1</td>\n",
              "      <td>46.7</td>\n",
              "      <td>1021.0</td>\n",
              "      <td>5.0</td>\n",
              "      <td>0.699092</td>\n",
              "    </tr>\n",
              "    <tr>\n",
              "      <th>2018-08-10</th>\n",
              "      <td>5</td>\n",
              "      <td>76.9</td>\n",
              "      <td>1010.2</td>\n",
              "      <td>6.4</td>\n",
              "      <td>0.532603</td>\n",
              "    </tr>\n",
              "    <tr>\n",
              "      <th>2017-11-20</th>\n",
              "      <td>1</td>\n",
              "      <td>40.5</td>\n",
              "      <td>1010.3</td>\n",
              "      <td>15.4</td>\n",
              "      <td>0.785674</td>\n",
              "    </tr>\n",
              "    <tr>\n",
              "      <th>2017-10-29</th>\n",
              "      <td>0</td>\n",
              "      <td>60.4</td>\n",
              "      <td>1012.4</td>\n",
              "      <td>12.3</td>\n",
              "      <td>0.394115</td>\n",
              "    </tr>\n",
              "  </tbody>\n",
              "</table>\n",
              "</div>"
            ],
            "text/plain": [
              "            weekday_num  temp     slp  wdsp  collisions\n",
              "date                                                   \n",
              "2013-10-31            4  54.8  1021.4   6.0    0.590465\n",
              "2018-11-19            1  46.7  1021.0   5.0    0.699092\n",
              "2018-08-10            5  76.9  1010.2   6.4    0.532603\n",
              "2017-11-20            1  40.5  1010.3  15.4    0.785674\n",
              "2017-10-29            0  60.4  1012.4  12.3    0.394115"
            ]
          },
          "metadata": {
            "tags": []
          },
          "execution_count": 30
        }
      ]
    },
    {
      "cell_type": "code",
      "metadata": {
        "id": "hceMJGRGPPbl"
      },
      "source": [
        "# # Select all rows for the 2nd column (i.e. 1)\n",
        "# targets = shuffle.iloc[:,4]\n",
        "\n",
        "# # print out the first 6 rows of the targets data.\n",
        "# print(targets[:6])"
      ],
      "execution_count": 31,
      "outputs": []
    },
    {
      "cell_type": "code",
      "metadata": {
        "id": "vTMxwMfGPdWJ"
      },
      "source": [
        "# A scale is not required here, but the constant will be useful in the assignment.\n",
        "SCALE_NUM_TRIPS = 1.0"
      ],
      "execution_count": 32,
      "outputs": []
    },
    {
      "cell_type": "code",
      "metadata": {
        "id": "xbgNNZYkPkCA"
      },
      "source": [
        "# # Split our data into a training set i.e. 80% of the length of the shuffle array\n",
        "# trainsize = int(len(shuffle['collisions'])*0.8)\n",
        "# # The test set size is 100% - 80% = 20% of the length of the shuffle array.\n",
        "# testsize = len(shuffle['collisions']) - trainsize\n",
        "\n",
        "# Define the number of input values (predictors)\n",
        "nppredictors = 3\n",
        "# Define the number of output values (targets)\n",
        "noutputs = 1"
      ],
      "execution_count": 33,
      "outputs": []
    },
    {
      "cell_type": "code",
      "metadata": {
        "id": "maFRZkDkQdpA",
        "colab": {
          "base_uri": "https://localhost:8080/"
        },
        "outputId": "68052364-6139-495a-aeb9-ab82a452a848"
      },
      "source": [
        "# import tensorflow\n",
        "%tensorflow_version 1.x\n",
        "import tensorflow as tf\n",
        "\n",
        "# check the version\n",
        "print(tf.__version__)\n",
        "\n",
        "# needed for high-level file management\n",
        "import shutil  \n",
        "\n",
        "# logging for tensorflow\n",
        "tf.compat.v1.logging.set_verbosity(tf.compat.v1.logging.INFO)\n",
        "\n",
        "# removes a saved model from the last training attempt.\n",
        "shutil.rmtree('/tmp/linear_regression_trained_model', ignore_errors=True)\n",
        "\n",
        "# This is the core of our linear regressor\n",
        "\n",
        "# You can see that we save the model, use the the Adam optimization algorithm, which is an extension \n",
        "# to stochastic gradient descent that has recently seen broader adoption for deep learning applications \n",
        "# in computer vision and natural language processing and infer real valued columns from input which interprets \n",
        "# all inputs as dense, fixed-length float values.\n",
        "\n",
        "# See the link for more information\n",
        "# https://www.tensorflow.org/versions/r1.15/api_docs/python/tf/contrib/learn/LinearRegressor\n",
        "estimator = tf.contrib.learn.SKCompat(\n",
        "    tf.contrib.learn.LinearRegressor(\n",
        "        model_dir='/tmp/linear_regression_trained_model', \n",
        "        optimizer=tf.train.AdamOptimizer(learning_rate=0.1), \n",
        "        enable_centered_bias=False, \n",
        "        # feature_columns=tf.contrib.learn.infer_real_valued_columns_from_input(predictors.values)\n",
        "        feature_columns=tf.contrib.learn.infer_real_valued_columns_from_input(X_train)\n",
        "      )\n",
        "  )\n",
        "\n",
        "# Prints a log to show model is starting to train\n",
        "print(\"starting to train\");\n",
        "\n",
        "# Train the model. Pass in predictor values and target values.\n",
        "# estimator.fit(predictors[:trainsize].values, targets[:trainsize].values.reshape(trainsize, noutputs)/SCALE_NUM_TRIPS, steps=10000)\n",
        "estimator.fit(X_train, y_train/SCALE_NUM_TRIPS, steps=10000)\n",
        "\n",
        "# Next, we can check our predictions based on our predictors.\n",
        "# preds = estimator.predict(x=predictors[trainsize:].values)\n",
        "preds = estimator.predict(x=X_test)\n",
        "\n",
        "# Apply the Scale value (not really needed here) to the outputs.\n",
        "predslistscale = preds['scores']*SCALE_NUM_TRIPS\n",
        "\n",
        "# pred = format(str(predslistscale)) # useful for checking outputs and printing.\n",
        "\n",
        "# Calculate RMSE i.e. how good the model works using the predictions and targets.\n",
        "# i.e. take the difference between the actual and the forecast then square the difference, \n",
        "# find the average of all the squares and then find the square root. \n",
        "# The RMSE essentially punishes larger errors i.e. it puts a heavier weight on larger errors.\n",
        "# rmse = np.sqrt(np.mean((targets[trainsize:].values - predslistscale)**2))\n",
        "rmse = np.sqrt(np.mean((y_test - predslistscale)**2))\n",
        "print('LinearRegression has RMSE of {0}'.format(rmse));\n",
        "\n",
        "\n",
        "# # Calculate the mean of the Number of Taxi Trips Values.\n",
        "# avg = np.mean(shuffle['collisions'][:trainsize])\n",
        "\n",
        "# # Calculate the RMSE using Number of Taxi Trips Values and the mean of all target values.\n",
        "# # The fit of a proposed regression model should therefore be better than the fit of the mean model.\n",
        "# # In this case, it doesn't seem to be the case but it will vary on every run.\n",
        "# rmse = np.sqrt(np.mean((shuffle['collisions'][trainsize:] - avg)**2))\n",
        "# print('Just using average = {0} has RMSE of {1}'.format(avg, rmse));"
      ],
      "execution_count": 34,
      "outputs": [
        {
          "output_type": "stream",
          "text": [
            "1.15.2\n",
            "WARNING:tensorflow:float64 is not supported by many models, consider casting to float32.\n",
            "INFO:tensorflow:Using default config.\n",
            "INFO:tensorflow:Using config: {'_task_type': None, '_task_id': 0, '_cluster_spec': <tensorflow.python.training.server_lib.ClusterSpec object at 0x7fa2b04e62e8>, '_master': '', '_num_ps_replicas': 0, '_num_worker_replicas': 0, '_environment': 'local', '_is_chief': True, '_evaluation_master': '', '_train_distribute': None, '_eval_distribute': None, '_experimental_max_worker_delay_secs': None, '_device_fn': None, '_tf_config': gpu_options {\n",
            "  per_process_gpu_memory_fraction: 1.0\n",
            "}\n",
            ", '_tf_random_seed': None, '_save_summary_steps': 100, '_save_checkpoints_secs': 600, '_log_step_count_steps': 100, '_protocol': None, '_session_config': None, '_save_checkpoints_steps': None, '_keep_checkpoint_max': 5, '_keep_checkpoint_every_n_hours': 10000, '_model_dir': '/tmp/linear_regression_trained_model', '_session_creation_timeout_secs': 7200}\n",
            "starting to train\n",
            "WARNING:tensorflow:float64 is not supported by many models, consider casting to float32.\n",
            "WARNING:tensorflow:float64 is not supported by many models, consider casting to float32.\n",
            "INFO:tensorflow:Create CheckpointSaverHook.\n",
            "INFO:tensorflow:Graph was finalized.\n",
            "INFO:tensorflow:Running local_init_op.\n",
            "INFO:tensorflow:Done running local_init_op.\n",
            "INFO:tensorflow:Saving checkpoints for 0 into /tmp/linear_regression_trained_model/model.ckpt.\n",
            "INFO:tensorflow:loss = 0.23960131, step = 1\n",
            "INFO:tensorflow:global_step/sec: 376.549\n",
            "INFO:tensorflow:loss = 0.33918944, step = 101 (0.270 sec)\n",
            "INFO:tensorflow:global_step/sec: 342.888\n",
            "INFO:tensorflow:loss = 0.050391547, step = 201 (0.289 sec)\n",
            "INFO:tensorflow:global_step/sec: 324.079\n",
            "INFO:tensorflow:loss = 0.046773598, step = 301 (0.308 sec)\n",
            "INFO:tensorflow:global_step/sec: 394.63\n",
            "INFO:tensorflow:loss = 0.04830407, step = 401 (0.253 sec)\n",
            "INFO:tensorflow:global_step/sec: 403.02\n",
            "INFO:tensorflow:loss = 0.047821403, step = 501 (0.248 sec)\n",
            "INFO:tensorflow:global_step/sec: 363.59\n",
            "INFO:tensorflow:loss = 0.0447378, step = 601 (0.275 sec)\n",
            "INFO:tensorflow:global_step/sec: 381.906\n",
            "INFO:tensorflow:loss = 0.0515527, step = 701 (0.263 sec)\n",
            "INFO:tensorflow:global_step/sec: 361.943\n",
            "INFO:tensorflow:loss = 0.05761868, step = 801 (0.275 sec)\n",
            "INFO:tensorflow:global_step/sec: 405.51\n",
            "INFO:tensorflow:loss = 0.100081205, step = 901 (0.250 sec)\n",
            "INFO:tensorflow:global_step/sec: 374.812\n",
            "INFO:tensorflow:loss = 0.04422626, step = 1001 (0.264 sec)\n",
            "INFO:tensorflow:global_step/sec: 334.259\n",
            "INFO:tensorflow:loss = 0.05437599, step = 1101 (0.300 sec)\n",
            "INFO:tensorflow:global_step/sec: 422.45\n",
            "INFO:tensorflow:loss = 0.123798944, step = 1201 (0.237 sec)\n",
            "INFO:tensorflow:global_step/sec: 398.165\n",
            "INFO:tensorflow:loss = 0.10364188, step = 1301 (0.249 sec)\n",
            "INFO:tensorflow:global_step/sec: 380.918\n",
            "INFO:tensorflow:loss = 0.06454007, step = 1401 (0.263 sec)\n",
            "INFO:tensorflow:global_step/sec: 364.259\n",
            "INFO:tensorflow:loss = 0.06766499, step = 1501 (0.274 sec)\n",
            "INFO:tensorflow:global_step/sec: 373.37\n",
            "INFO:tensorflow:loss = 0.061342195, step = 1601 (0.271 sec)\n",
            "INFO:tensorflow:global_step/sec: 380.619\n",
            "INFO:tensorflow:loss = 0.047387205, step = 1701 (0.260 sec)\n",
            "INFO:tensorflow:global_step/sec: 414.946\n",
            "INFO:tensorflow:loss = 0.20316999, step = 1801 (0.240 sec)\n",
            "INFO:tensorflow:global_step/sec: 348.856\n",
            "INFO:tensorflow:loss = 0.082384534, step = 1901 (0.286 sec)\n",
            "INFO:tensorflow:global_step/sec: 374.091\n",
            "INFO:tensorflow:loss = 3.306582, step = 2001 (0.268 sec)\n",
            "INFO:tensorflow:global_step/sec: 398.166\n",
            "INFO:tensorflow:loss = 5.889807, step = 2101 (0.251 sec)\n",
            "INFO:tensorflow:global_step/sec: 385.153\n",
            "INFO:tensorflow:loss = 5.682998, step = 2201 (0.259 sec)\n",
            "INFO:tensorflow:global_step/sec: 370.017\n",
            "INFO:tensorflow:loss = 0.5343822, step = 2301 (0.273 sec)\n",
            "INFO:tensorflow:global_step/sec: 388.478\n",
            "INFO:tensorflow:loss = 1.6767513, step = 2401 (0.258 sec)\n",
            "INFO:tensorflow:global_step/sec: 377.915\n",
            "INFO:tensorflow:loss = 0.2634306, step = 2501 (0.261 sec)\n",
            "INFO:tensorflow:global_step/sec: 372.994\n",
            "INFO:tensorflow:loss = 1.6014755, step = 2601 (0.269 sec)\n",
            "INFO:tensorflow:global_step/sec: 426.386\n",
            "INFO:tensorflow:loss = 0.43368888, step = 2701 (0.233 sec)\n",
            "INFO:tensorflow:global_step/sec: 382.351\n",
            "INFO:tensorflow:loss = 0.14682125, step = 2801 (0.262 sec)\n",
            "INFO:tensorflow:global_step/sec: 367.081\n",
            "INFO:tensorflow:loss = 1.242328, step = 2901 (0.272 sec)\n",
            "INFO:tensorflow:global_step/sec: 390.683\n",
            "INFO:tensorflow:loss = 0.34915483, step = 3001 (0.257 sec)\n",
            "INFO:tensorflow:global_step/sec: 387.253\n",
            "INFO:tensorflow:loss = 1.5709949, step = 3101 (0.259 sec)\n",
            "INFO:tensorflow:global_step/sec: 380.177\n",
            "INFO:tensorflow:loss = 3.0487614, step = 3201 (0.262 sec)\n",
            "INFO:tensorflow:global_step/sec: 396.782\n",
            "INFO:tensorflow:loss = 3.6888256, step = 3301 (0.252 sec)\n",
            "INFO:tensorflow:global_step/sec: 387.723\n",
            "INFO:tensorflow:loss = 1.1169304, step = 3401 (0.258 sec)\n",
            "INFO:tensorflow:global_step/sec: 406.186\n",
            "INFO:tensorflow:loss = 0.44732836, step = 3501 (0.246 sec)\n",
            "INFO:tensorflow:global_step/sec: 368.042\n",
            "INFO:tensorflow:loss = 13.977755, step = 3601 (0.273 sec)\n",
            "INFO:tensorflow:global_step/sec: 407.407\n",
            "INFO:tensorflow:loss = 9.412752, step = 3701 (0.244 sec)\n",
            "INFO:tensorflow:global_step/sec: 361.473\n",
            "INFO:tensorflow:loss = 25.023697, step = 3801 (0.279 sec)\n",
            "INFO:tensorflow:global_step/sec: 387.179\n",
            "INFO:tensorflow:loss = 0.65793145, step = 3901 (0.255 sec)\n",
            "INFO:tensorflow:global_step/sec: 425.891\n",
            "INFO:tensorflow:loss = 32.871742, step = 4001 (0.235 sec)\n",
            "INFO:tensorflow:global_step/sec: 369.659\n",
            "INFO:tensorflow:loss = 0.1330622, step = 4101 (0.271 sec)\n",
            "INFO:tensorflow:global_step/sec: 369.503\n",
            "INFO:tensorflow:loss = 1.3034917, step = 4201 (0.270 sec)\n",
            "INFO:tensorflow:global_step/sec: 406.353\n",
            "INFO:tensorflow:loss = 0.15252343, step = 4301 (0.247 sec)\n",
            "INFO:tensorflow:global_step/sec: 379.535\n",
            "INFO:tensorflow:loss = 0.8688339, step = 4401 (0.263 sec)\n",
            "INFO:tensorflow:global_step/sec: 387.078\n",
            "INFO:tensorflow:loss = 0.07703731, step = 4501 (0.260 sec)\n",
            "INFO:tensorflow:global_step/sec: 373.948\n",
            "INFO:tensorflow:loss = 1.3650148, step = 4601 (0.266 sec)\n",
            "INFO:tensorflow:global_step/sec: 367.036\n",
            "INFO:tensorflow:loss = 1.420177, step = 4701 (0.275 sec)\n",
            "INFO:tensorflow:global_step/sec: 375.465\n",
            "INFO:tensorflow:loss = 63.93161, step = 4801 (0.264 sec)\n",
            "INFO:tensorflow:global_step/sec: 388.1\n",
            "INFO:tensorflow:loss = 0.062961556, step = 4901 (0.258 sec)\n",
            "INFO:tensorflow:global_step/sec: 392.147\n",
            "INFO:tensorflow:loss = 0.11153855, step = 5001 (0.256 sec)\n",
            "INFO:tensorflow:global_step/sec: 392.115\n",
            "INFO:tensorflow:loss = 1.8561432, step = 5101 (0.254 sec)\n",
            "INFO:tensorflow:global_step/sec: 363.12\n",
            "INFO:tensorflow:loss = 0.31515115, step = 5201 (0.275 sec)\n",
            "INFO:tensorflow:global_step/sec: 361.599\n",
            "INFO:tensorflow:loss = 4.2602634, step = 5301 (0.277 sec)\n",
            "INFO:tensorflow:global_step/sec: 380.163\n",
            "INFO:tensorflow:loss = 20.918928, step = 5401 (0.263 sec)\n",
            "INFO:tensorflow:global_step/sec: 400.339\n",
            "INFO:tensorflow:loss = 3.306538, step = 5501 (0.252 sec)\n",
            "INFO:tensorflow:global_step/sec: 400.571\n",
            "INFO:tensorflow:loss = 15.735052, step = 5601 (0.247 sec)\n",
            "INFO:tensorflow:global_step/sec: 398.812\n",
            "INFO:tensorflow:loss = 7.57206, step = 5701 (0.251 sec)\n",
            "INFO:tensorflow:global_step/sec: 358.459\n",
            "INFO:tensorflow:loss = 1.0796678, step = 5801 (0.279 sec)\n",
            "INFO:tensorflow:global_step/sec: 346.181\n",
            "INFO:tensorflow:loss = 6.257121, step = 5901 (0.289 sec)\n",
            "INFO:tensorflow:global_step/sec: 397.965\n",
            "INFO:tensorflow:loss = 0.98090714, step = 6001 (0.251 sec)\n",
            "INFO:tensorflow:global_step/sec: 383.372\n",
            "INFO:tensorflow:loss = 3.9449344, step = 6101 (0.262 sec)\n",
            "INFO:tensorflow:global_step/sec: 368.214\n",
            "INFO:tensorflow:loss = 21.268589, step = 6201 (0.272 sec)\n",
            "INFO:tensorflow:global_step/sec: 385.407\n",
            "INFO:tensorflow:loss = 114.01264, step = 6301 (0.258 sec)\n",
            "INFO:tensorflow:global_step/sec: 382.761\n",
            "INFO:tensorflow:loss = 12.175068, step = 6401 (0.262 sec)\n",
            "INFO:tensorflow:global_step/sec: 373.178\n",
            "INFO:tensorflow:loss = 2.676029, step = 6501 (0.268 sec)\n",
            "INFO:tensorflow:global_step/sec: 382.316\n",
            "INFO:tensorflow:loss = 5.409355, step = 6601 (0.261 sec)\n",
            "INFO:tensorflow:global_step/sec: 403.931\n",
            "INFO:tensorflow:loss = 6.9511642, step = 6701 (0.249 sec)\n",
            "INFO:tensorflow:global_step/sec: 357.018\n",
            "INFO:tensorflow:loss = 12.34388, step = 6801 (0.281 sec)\n",
            "INFO:tensorflow:global_step/sec: 379.245\n",
            "INFO:tensorflow:loss = 0.55055356, step = 6901 (0.261 sec)\n",
            "INFO:tensorflow:global_step/sec: 379.037\n",
            "INFO:tensorflow:loss = 66.16057, step = 7001 (0.264 sec)\n",
            "INFO:tensorflow:global_step/sec: 390.369\n",
            "INFO:tensorflow:loss = 0.71782345, step = 7101 (0.258 sec)\n",
            "INFO:tensorflow:global_step/sec: 369.982\n",
            "INFO:tensorflow:loss = 2.7500854, step = 7201 (0.268 sec)\n",
            "INFO:tensorflow:global_step/sec: 358.852\n",
            "INFO:tensorflow:loss = 0.44756573, step = 7301 (0.280 sec)\n",
            "INFO:tensorflow:global_step/sec: 362.513\n",
            "INFO:tensorflow:loss = 6.816009, step = 7401 (0.275 sec)\n",
            "INFO:tensorflow:global_step/sec: 375.364\n",
            "INFO:tensorflow:loss = 5.8242207, step = 7501 (0.266 sec)\n",
            "INFO:tensorflow:global_step/sec: 400.092\n",
            "INFO:tensorflow:loss = 5.632169, step = 7601 (0.251 sec)\n",
            "INFO:tensorflow:global_step/sec: 380.424\n",
            "INFO:tensorflow:loss = 0.67642224, step = 7701 (0.262 sec)\n",
            "INFO:tensorflow:global_step/sec: 400.506\n",
            "INFO:tensorflow:loss = 11.189978, step = 7801 (0.250 sec)\n",
            "INFO:tensorflow:global_step/sec: 389.521\n",
            "INFO:tensorflow:loss = 1.6009072, step = 7901 (0.260 sec)\n",
            "INFO:tensorflow:global_step/sec: 387.603\n",
            "INFO:tensorflow:loss = 0.73603946, step = 8001 (0.255 sec)\n",
            "INFO:tensorflow:global_step/sec: 370.728\n",
            "INFO:tensorflow:loss = 0.12224127, step = 8101 (0.269 sec)\n",
            "INFO:tensorflow:global_step/sec: 411.915\n",
            "INFO:tensorflow:loss = 66.16815, step = 8201 (0.243 sec)\n",
            "INFO:tensorflow:global_step/sec: 392.266\n",
            "INFO:tensorflow:loss = 26.79469, step = 8301 (0.255 sec)\n",
            "INFO:tensorflow:global_step/sec: 383.634\n",
            "INFO:tensorflow:loss = 10.584419, step = 8401 (0.261 sec)\n",
            "INFO:tensorflow:global_step/sec: 371.919\n",
            "INFO:tensorflow:loss = 33.46453, step = 8501 (0.268 sec)\n",
            "INFO:tensorflow:global_step/sec: 380.988\n",
            "INFO:tensorflow:loss = 22.307554, step = 8601 (0.263 sec)\n",
            "INFO:tensorflow:global_step/sec: 392.677\n",
            "INFO:tensorflow:loss = 35.47282, step = 8701 (0.255 sec)\n",
            "INFO:tensorflow:global_step/sec: 376.532\n",
            "INFO:tensorflow:loss = 1.2877966, step = 8801 (0.266 sec)\n",
            "INFO:tensorflow:global_step/sec: 373.73\n",
            "INFO:tensorflow:loss = 73.8075, step = 8901 (0.267 sec)\n",
            "INFO:tensorflow:global_step/sec: 381.637\n",
            "INFO:tensorflow:loss = 4.9273953, step = 9001 (0.266 sec)\n",
            "INFO:tensorflow:global_step/sec: 351.356\n",
            "INFO:tensorflow:loss = 10.048256, step = 9101 (0.281 sec)\n",
            "INFO:tensorflow:global_step/sec: 365.851\n",
            "INFO:tensorflow:loss = 0.10371266, step = 9201 (0.274 sec)\n",
            "INFO:tensorflow:global_step/sec: 357.783\n",
            "INFO:tensorflow:loss = 3.9388938, step = 9301 (0.281 sec)\n",
            "INFO:tensorflow:global_step/sec: 394.678\n",
            "INFO:tensorflow:loss = 11.496601, step = 9401 (0.252 sec)\n",
            "INFO:tensorflow:global_step/sec: 362.732\n",
            "INFO:tensorflow:loss = 10.260716, step = 9501 (0.275 sec)\n",
            "INFO:tensorflow:global_step/sec: 388.452\n",
            "INFO:tensorflow:loss = 0.9843066, step = 9601 (0.257 sec)\n",
            "INFO:tensorflow:global_step/sec: 392.675\n",
            "INFO:tensorflow:loss = 1.0144632, step = 9701 (0.255 sec)\n",
            "INFO:tensorflow:global_step/sec: 389.647\n",
            "INFO:tensorflow:loss = 4.366884, step = 9801 (0.256 sec)\n",
            "INFO:tensorflow:global_step/sec: 385.609\n",
            "INFO:tensorflow:loss = 0.9007002, step = 9901 (0.260 sec)\n",
            "INFO:tensorflow:Saving checkpoints for 10000 into /tmp/linear_regression_trained_model/model.ckpt.\n",
            "INFO:tensorflow:Loss for final step: 0.07947135.\n",
            "WARNING:tensorflow:float64 is not supported by many models, consider casting to float32.\n",
            "INFO:tensorflow:Graph was finalized.\n",
            "INFO:tensorflow:Restoring parameters from /tmp/linear_regression_trained_model/model.ckpt-10000\n",
            "INFO:tensorflow:Running local_init_op.\n",
            "INFO:tensorflow:Done running local_init_op.\n",
            "LinearRegression has RMSE of 0.7316421878802095\n"
          ],
          "name": "stdout"
        }
      ]
    },
    {
      "cell_type": "code",
      "metadata": {
        "id": "SxSd6Z8ML2QM"
      },
      "source": [
        "import matplotlib.pyplot as plt\r\n",
        "import seaborn as sns\r\n",
        "%matplotlib inline\r\n",
        "\r\n",
        "preds2 = pd.DataFrame.from_dict(data=preds)"
      ],
      "execution_count": 35,
      "outputs": []
    },
    {
      "cell_type": "code",
      "metadata": {
        "colab": {
          "base_uri": "https://localhost:8080/",
          "height": 350
        },
        "id": "NnEKFkrGLMzR",
        "outputId": "d39fd3db-11b7-49fe-d146-6c85d2111048"
      },
      "source": [
        "sns.regplot(y_test,preds2)"
      ],
      "execution_count": 36,
      "outputs": [
        {
          "output_type": "stream",
          "text": [
            "/usr/local/lib/python3.6/dist-packages/seaborn/_decorators.py:43: FutureWarning: Pass the following variables as keyword args: x, y. From version 0.12, the only valid positional argument will be `data`, and passing other arguments without an explicit keyword will result in an error or misinterpretation.\n",
            "  FutureWarning\n"
          ],
          "name": "stderr"
        },
        {
          "output_type": "execute_result",
          "data": {
            "text/plain": [
              "<matplotlib.axes._subplots.AxesSubplot at 0x7fa2b225add8>"
            ]
          },
          "metadata": {
            "tags": []
          },
          "execution_count": 36
        },
        {
          "output_type": "display_data",
          "data": {
            "image/png": "[encoded data removed]",
            "text/plain": [
              "<Figure size 432x288 with 1 Axes>"
            ]
          },
          "metadata": {
            "tags": [],
            "needs_background": "light"
          }
        }
      ]
    },
    {
      "cell_type": "code",
      "metadata": {
        "colab": {
          "base_uri": "https://localhost:8080/",
          "height": 369
        },
        "id": "Af_RI3AW2sLD",
        "outputId": "066bba26-c39c-4472-9d8f-491017e4c42b"
      },
      "source": [
        "sns.displot(y_test.reset_index(drop=True) - preds2.scores, kind='kde');"
      ],
      "execution_count": 37,
      "outputs": [
        {
          "output_type": "display_data",
          "data": {
            "image/png": "[encoded data removed]",
            "text/plain": [
              "<Figure size 360x360 with 1 Axes>"
            ]
          },
          "metadata": {
            "tags": [],
            "needs_background": "light"
          }
        }
      ]
    },
    {
      "cell_type": "code",
      "metadata": {
        "colab": {
          "base_uri": "https://localhost:8080/"
        },
        "id": "mGwPc-TcLSP6",
        "outputId": "daa368cb-0b2a-4970-d340-8029261bcb05"
      },
      "source": [
        "from sklearn import metrics\r\n",
        "\r\n",
        "print('MAE:', metrics.mean_absolute_error(y_test, preds2))\r\n",
        "print('MSE:', metrics.mean_squared_error(y_test, preds2))\r\n",
        "print('RMSE:', np.sqrt(metrics.mean_squared_error(y_test, preds2)))"
      ],
      "execution_count": 38,
      "outputs": [
        {
          "output_type": "stream",
          "text": [
            "MAE: 0.6937660589361618\n",
            "MSE: 0.5353002910861401\n",
            "RMSE: 0.7316421878802097\n"
          ],
          "name": "stdout"
        }
      ]
    },
    {
      "cell_type": "code",
      "metadata": {
        "id": "S646OaU0R8UQ",
        "colab": {
          "base_uri": "https://localhost:8080/"
        },
        "outputId": "df01bbf9-ce52-469c-85a1-6ab7f24cd9b7"
      },
      "source": [
        "if 'slp' in df.columns:\n",
        "  input = pd.DataFrame.from_dict(data = {\n",
        "      'day' : [1,1,1],\n",
        "      'temp' : [61.8, 31.2, 77.0],\n",
        "      'slp' : [1023, 1002, 985],\n",
        "      'wdsp' : [5.0, 3.0, 8.0]\n",
        "    })\n",
        "else:\n",
        "  input = pd.DataFrame.from_dict(data = {\n",
        "      'day' : [1,1,1],\n",
        "      'temp' : [61.8, 31.2, 77.0],\n",
        "      'wdsp' : [5.0, 3.0, 8.0]\n",
        "    })\n",
        "\t\t\t\t\t\n",
        "\n",
        "estimator = tf.contrib.learn.SKCompat(\n",
        "    tf.contrib.learn.LinearRegressor(\n",
        "        model_dir='/tmp/linear_regression_trained_model', \n",
        "        enable_centered_bias=False, \n",
        "        feature_columns=tf.contrib.learn.infer_real_valued_columns_from_input(input.values)\n",
        "    )\n",
        "  )\n",
        "\n",
        "preds_test = estimator.predict(x=input.values)\n",
        "# Assume number of trips scale value is 600000 when at a maximum, based on the analysis from Tutorial 2\n",
        "predslistnorm = preds_test['scores']\n",
        "predslistscale = preds_test['scores']*600000\n",
        "prednorm = format(str(predslistnorm))\n",
        "preds_res = format(str(predslistscale))\n",
        "print(prednorm)\n",
        "print(preds_res)"
      ],
      "execution_count": 39,
      "outputs": [
        {
          "output_type": "stream",
          "text": [
            "WARNING:tensorflow:float64 is not supported by many models, consider casting to float32.\n",
            "INFO:tensorflow:Using default config.\n",
            "INFO:tensorflow:Using config: {'_task_type': None, '_task_id': 0, '_cluster_spec': <tensorflow.python.training.server_lib.ClusterSpec object at 0x7fa2b21a65c0>, '_master': '', '_num_ps_replicas': 0, '_num_worker_replicas': 0, '_environment': 'local', '_is_chief': True, '_evaluation_master': '', '_train_distribute': None, '_eval_distribute': None, '_experimental_max_worker_delay_secs': None, '_device_fn': None, '_tf_config': gpu_options {\n",
            "  per_process_gpu_memory_fraction: 1.0\n",
            "}\n",
            ", '_tf_random_seed': None, '_save_summary_steps': 100, '_save_checkpoints_secs': 600, '_log_step_count_steps': 100, '_protocol': None, '_session_config': None, '_save_checkpoints_steps': None, '_keep_checkpoint_max': 5, '_keep_checkpoint_every_n_hours': 10000, '_model_dir': '/tmp/linear_regression_trained_model', '_session_creation_timeout_secs': 7200}\n",
            "WARNING:tensorflow:float64 is not supported by many models, consider casting to float32.\n",
            "INFO:tensorflow:Graph was finalized.\n",
            "INFO:tensorflow:Restoring parameters from /tmp/linear_regression_trained_model/model.ckpt-10000\n",
            "INFO:tensorflow:Running local_init_op.\n",
            "INFO:tensorflow:Done running local_init_op.\n",
            "[1.1153883 1.0094155 1.1174734]\n",
            "[669232.96451569 605649.30438995 670484.01832581]\n"
          ],
          "name": "stdout"
        }
      ]
    },
    {
      "cell_type": "markdown",
      "metadata": {
        "id": "GsPQDn93UoDK"
      },
      "source": [
        "From test inputs we have used, the first element in the array here is similar to this actual data:\n",
        "\n",
        "\"165\",1,62.4,5.6,0.668458757342322\n",
        "\n",
        "We can see that the temperature is slightly higher in the test data (which means less trips, but slightly higher wind means more trips. So, the difference between (actual) 0.668 and (predicted) 0.576 (rounded to 3 significant figures) seems reasonable. \n",
        "\n",
        "Similarly with the second:\n",
        "\n",
        "\"389\",1,26.6,3.1,0.763954173062719, which has higher number of trips due to a lower temperature and also with a slightly higher wind speed.\n",
        "\n",
        "And with the third:\n",
        "\n",
        "\"571\",1,77.2,8.4,0.724652060408235\n",
        "\n",
        "The last prediction with the higher temperature seems to punish the values more. "
      ]
    },
    {
      "cell_type": "code",
      "metadata": {
        "id": "QqqseK8ZXoFD",
        "colab": {
          "base_uri": "https://localhost:8080/"
        },
        "outputId": "c5996f1d-7360-4ae0-cf0b-e998c889d7d0"
      },
      "source": [
        "if 'slp' in df.columns:\n",
        "  input = pd.DataFrame.from_dict(data = {\n",
        "      'day' : [6,6,6],\n",
        "      'temp' : [61.8, 31.2, 77.0],\n",
        "      'slp' : [1023, 1002, 985],\n",
        "      'wdsp' : [5.0, 3.0, 8.0]\n",
        "    })\n",
        "else:\n",
        "  input = pd.DataFrame.from_dict(data = {\n",
        "      'day' : [6,6,6],\n",
        "      'temp' : [61.8, 31.2, 77.0],\n",
        "      'wdsp' : [5.0, 3.0, 8.0]\n",
        "    })\n",
        "\t\t\t\t\t\n",
        "\t\t\t\t\t\n",
        "\n",
        "estimator = tf.contrib.learn.SKCompat(\n",
        "    tf.contrib.learn.LinearRegressor(\n",
        "        model_dir='/tmp/linear_regression_trained_model', \n",
        "        enable_centered_bias=False, \n",
        "        feature_columns=tf.contrib.learn.infer_real_valued_columns_from_input(input.values)\n",
        "    )\n",
        "  )\n",
        "\n",
        "preds_test = estimator.predict(x=input.values)\n",
        "# Assume number of trips scale value is 600000 when at a maximum, based on the analysis from Tutorial 2\n",
        "predslistnorm = preds_test['scores']\n",
        "predslistscale = preds_test['scores']*600000\n",
        "prednorm = format(str(predslistnorm))\n",
        "preds_res = format(str(predslistscale))\n",
        "print(prednorm)\n",
        "print(preds_res)"
      ],
      "execution_count": 40,
      "outputs": [
        {
          "output_type": "stream",
          "text": [
            "WARNING:tensorflow:float64 is not supported by many models, consider casting to float32.\n",
            "INFO:tensorflow:Using default config.\n",
            "INFO:tensorflow:Using config: {'_task_type': None, '_task_id': 0, '_cluster_spec': <tensorflow.python.training.server_lib.ClusterSpec object at 0x7fa2b0967ef0>, '_master': '', '_num_ps_replicas': 0, '_num_worker_replicas': 0, '_environment': 'local', '_is_chief': True, '_evaluation_master': '', '_train_distribute': None, '_eval_distribute': None, '_experimental_max_worker_delay_secs': None, '_device_fn': None, '_tf_config': gpu_options {\n",
            "  per_process_gpu_memory_fraction: 1.0\n",
            "}\n",
            ", '_tf_random_seed': None, '_save_summary_steps': 100, '_save_checkpoints_secs': 600, '_log_step_count_steps': 100, '_protocol': None, '_session_config': None, '_save_checkpoints_steps': None, '_keep_checkpoint_max': 5, '_keep_checkpoint_every_n_hours': 10000, '_model_dir': '/tmp/linear_regression_trained_model', '_session_creation_timeout_secs': 7200}\n",
            "WARNING:tensorflow:float64 is not supported by many models, consider casting to float32.\n",
            "INFO:tensorflow:Graph was finalized.\n",
            "INFO:tensorflow:Restoring parameters from /tmp/linear_regression_trained_model/model.ckpt-10000\n",
            "INFO:tensorflow:Running local_init_op.\n",
            "INFO:tensorflow:Done running local_init_op.\n",
            "[1.3304191 1.2244463 1.3325042]\n",
            "[798251.43814087 734667.77801514 799502.49195099]\n"
          ],
          "name": "stdout"
        }
      ]
    },
    {
      "cell_type": "markdown",
      "metadata": {
        "id": "UvHvR5o9Xus1"
      },
      "source": [
        "This test uses day 6 (Friday) instead of day 1 (Sunday) which shows higher number of trips. The other values were left the same."
      ]
    },
    {
      "cell_type": "markdown",
      "metadata": {
        "id": "jAXcF8Z7X4ra"
      },
      "source": [
        "Things to think about for the assignment. Make a validation set i.e. 5% of the data (or maybe more). This should be used for this type of testing. My values are simply made up.\n",
        "\n",
        "You should also remember to use different models with different data. In this case, I would maybe take each input valuable separately and make a regression model for each, then different variations i.e. any 2.\n",
        "\n",
        "Remember, you need to write up your results in the assignment. "
      ]
    }
  ]
}