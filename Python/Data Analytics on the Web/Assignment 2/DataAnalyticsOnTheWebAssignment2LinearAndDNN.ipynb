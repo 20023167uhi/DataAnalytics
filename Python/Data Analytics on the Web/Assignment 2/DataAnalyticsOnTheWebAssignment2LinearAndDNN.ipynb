{
  "nbformat": 4,
  "nbformat_minor": 0,
  "metadata": {
    "colab": {
      "name": "DataAnalyticsOnTheWebAssignment2LinearAndDNN.ipynb",
      "provenance": [],
      "collapsed_sections": []
    },
    "kernelspec": {
      "name": "python3",
      "display_name": "Python 3"
    }
  },
  "cells": [
    {
      "cell_type": "markdown",
      "metadata": {
        "id": "4w9sEQx-NFJv"
      },
      "source": [
        "# Machine Learning Assignment\r\n",
        "\r\n",
        "Machine learning is a method to create a computer model that can make predictions on data by matching historical data to historical results. A seperate set of historical predictors and targets can then be tested to see how accurate the the model results compare to the second set of targets. \r\n",
        "\r\n",
        "In this assignment these two sets of data will be called `_train` and `_test`. The `_train` data will be used to train the model for prediction and the `_test` data will be used to prove the accuracy of the model. The prediction data is `X` and the target is `y`.\r\n",
        "\r\n",
        "The two models looked at will be the Linear Model and the Deep Neural Network model. The linear model looks at the data and tries to fit a linear relationship between the data and results. The neural network will generate a series of nodes to create a function that will return the correct solution based on biasing the layers of nodes.\r\n",
        "\r\n",
        "## Linear Model\r\n",
        "\r\n",
        "The linear regression model is a model that looks at data and looks for a correlation between the predictors and the target and tried to best fit a line. \r\n",
        "\r\n",
        "A simple example might be in Scotland as summer progresses to winter the temperature begins to drop. The temperature will generally drop, it won't be exactly linear and some days might be warmer than others but over all a drop in temerature with the lead up to winter will happen. This will come across as a negative correlation, where as a positive correlation will be the temperature rising as winter progresses back to summer. The model created is similar to the math equation `y = mX + c`.\r\n",
        "\r\n",
        "From that simple model based on date and temperature one can make predictions and preperations like storing food or getting warmer insulation for winter.\r\n",
        "\r\n",
        "In this assignment instead of the temperature being the target, based on date, the number of collisions in New York is the target, and the predictions will be made based on the weekday `weekday_num`, temperature `temp`, sea level pressure `slp`, and wind speed `wdsp`.\r\n",
        "\r\n",
        "The data being used is based on the data that was cleaned in [assignment 1](https://github.com/20023167uhi/DataAnalytics/blob/main/Python/Data%20Analytics%20on%20the%20Web/Assignment%201/DataAnalyticsOnTheWebAssignment.ipynb). The data is imported from the git repository and checked with the `.info()` function and the `.head()` function just to make sure  it has imported correctly."
      ]
    },
    {
      "cell_type": "code",
      "metadata": {
        "id": "2p-7cPGENClE",
        "colab": {
          "base_uri": "https://localhost:8080/",
          "height": 266
        },
        "outputId": "204f8284-0f72-4850-cca3-59a1ac171499"
      },
      "source": [
        "# needed to create the data frame\n",
        "import pandas as pd\n",
        "\n",
        "# create data frame from csv file we hosted on our github\n",
        "df_linear = pd.read_csv('https://raw.githubusercontent.com/20023167uhi/DataAnalytics/main/Python/Data%20Analytics%20on%20the%20Web/Assignment%201/Data/Tom_Blackwood-Linear-Weather_and_Collision_data_for_New_York_boroughs_2012-2020.csv', index_col=0, )\n",
        "\n",
        "# Make sure we have our data by printing the head of it out\n",
        "df_linear.head(6)"
      ],
      "execution_count": 114,
      "outputs": [
        {
          "output_type": "execute_result",
          "data": {
            "text/html": [
              "<div>\n",
              "<style scoped>\n",
              "    .dataframe tbody tr th:only-of-type {\n",
              "        vertical-align: middle;\n",
              "    }\n",
              "\n",
              "    .dataframe tbody tr th {\n",
              "        vertical-align: top;\n",
              "    }\n",
              "\n",
              "    .dataframe thead th {\n",
              "        text-align: right;\n",
              "    }\n",
              "</style>\n",
              "<table border=\"1\" class=\"dataframe\">\n",
              "  <thead>\n",
              "    <tr style=\"text-align: right;\">\n",
              "      <th></th>\n",
              "      <th>weekday_num</th>\n",
              "      <th>temp</th>\n",
              "      <th>slp</th>\n",
              "      <th>wdsp</th>\n",
              "      <th>collisions</th>\n",
              "    </tr>\n",
              "    <tr>\n",
              "      <th>date</th>\n",
              "      <th></th>\n",
              "      <th></th>\n",
              "      <th></th>\n",
              "      <th></th>\n",
              "      <th></th>\n",
              "    </tr>\n",
              "  </thead>\n",
              "  <tbody>\n",
              "    <tr>\n",
              "      <th>2013-01-01</th>\n",
              "      <td>2</td>\n",
              "      <td>38.0</td>\n",
              "      <td>1008.8</td>\n",
              "      <td>15.0</td>\n",
              "      <td>0.097222</td>\n",
              "    </tr>\n",
              "    <tr>\n",
              "      <th>2013-01-02</th>\n",
              "      <td>3</td>\n",
              "      <td>27.5</td>\n",
              "      <td>1013.4</td>\n",
              "      <td>12.4</td>\n",
              "      <td>0.498747</td>\n",
              "    </tr>\n",
              "    <tr>\n",
              "      <th>2013-01-03</th>\n",
              "      <td>4</td>\n",
              "      <td>21.8</td>\n",
              "      <td>1018.1</td>\n",
              "      <td>9.8</td>\n",
              "      <td>0.527430</td>\n",
              "    </tr>\n",
              "    <tr>\n",
              "      <th>2013-01-04</th>\n",
              "      <td>5</td>\n",
              "      <td>32.2</td>\n",
              "      <td>1015.2</td>\n",
              "      <td>11.3</td>\n",
              "      <td>0.645503</td>\n",
              "    </tr>\n",
              "    <tr>\n",
              "      <th>2013-01-05</th>\n",
              "      <td>6</td>\n",
              "      <td>37.3</td>\n",
              "      <td>1017.3</td>\n",
              "      <td>13.2</td>\n",
              "      <td>0.095238</td>\n",
              "    </tr>\n",
              "    <tr>\n",
              "      <th>2013-01-06</th>\n",
              "      <td>0</td>\n",
              "      <td>35.7</td>\n",
              "      <td>1019.7</td>\n",
              "      <td>5.9</td>\n",
              "      <td>0.118056</td>\n",
              "    </tr>\n",
              "  </tbody>\n",
              "</table>\n",
              "</div>"
            ],
            "text/plain": [
              "            weekday_num  temp     slp  wdsp  collisions\n",
              "date                                                   \n",
              "2013-01-01            2  38.0  1008.8  15.0    0.097222\n",
              "2013-01-02            3  27.5  1013.4  12.4    0.498747\n",
              "2013-01-03            4  21.8  1018.1   9.8    0.527430\n",
              "2013-01-04            5  32.2  1015.2  11.3    0.645503\n",
              "2013-01-05            6  37.3  1017.3  13.2    0.095238\n",
              "2013-01-06            0  35.7  1019.7   5.9    0.118056"
            ]
          },
          "metadata": {
            "tags": []
          },
          "execution_count": 114
        }
      ]
    },
    {
      "cell_type": "code",
      "metadata": {
        "colab": {
          "base_uri": "https://localhost:8080/"
        },
        "id": "PMWN8zxXwjrr",
        "outputId": "06c79d2e-6d9a-48bd-afa5-ae5b12ff808c"
      },
      "source": [
        "df_linear.info()"
      ],
      "execution_count": 115,
      "outputs": [
        {
          "output_type": "stream",
          "text": [
            "<class 'pandas.core.frame.DataFrame'>\n",
            "Index: 2555 entries, 2013-01-01 to 2019-12-31\n",
            "Data columns (total 5 columns):\n",
            " #   Column       Non-Null Count  Dtype  \n",
            "---  ------       --------------  -----  \n",
            " 0   weekday_num  2555 non-null   int64  \n",
            " 1   temp         2555 non-null   float64\n",
            " 2   slp          2555 non-null   float64\n",
            " 3   wdsp         2555 non-null   float64\n",
            " 4   collisions   2555 non-null   float64\n",
            "dtypes: float64(4), int64(1)\n",
            "memory usage: 119.8+ KB\n"
          ],
          "name": "stdout"
        }
      ]
    },
    {
      "cell_type": "markdown",
      "metadata": {
        "id": "oRXsdvY40c86"
      },
      "source": [
        "Next to prepare the data for the machine learning, the dataset is split between the predictors `X` and targets `y` and split into model training `X_train` and `y_train` and model testing sets `X_test` and `y_test`.\r\n",
        "\r\n",
        "The library Science-Kit Learn, `sklearn` has a `model_selection` library where `train_test_split` can be imported to split the data between a training set and a testing set.\r\n",
        "\r\n",
        "What it does is randomly shuffle both datasets, keeping the predictors and target rows matched in the shuffle, and selects the test size based on the value inputted in `test_size`. The shuffled random state can be seeded using `random_state`."
      ]
    },
    {
      "cell_type": "code",
      "metadata": {
        "id": "dpHA6AEUBrke"
      },
      "source": [
        "# needed to help with speedy maths based calculations\r\n",
        "import numpy as np\r\n",
        "from sklearn.model_selection import train_test_split\r\n",
        "\r\n",
        "X = df_linear.iloc[:, :-1]\r\n",
        "y = df_linear.iloc[:,-1]\r\n",
        "\r\n",
        "X_train, X_test, y_train, y_test = train_test_split(X, y, test_size = 0.2, random_state = 101)"
      ],
      "execution_count": 116,
      "outputs": []
    },
    {
      "cell_type": "markdown",
      "metadata": {
        "id": "EegWCRWwHPKO"
      },
      "source": [
        "The predictor dataset for `_train` and `_test` looks like:"
      ]
    },
    {
      "cell_type": "code",
      "metadata": {
        "colab": {
          "base_uri": "https://localhost:8080/",
          "height": 422
        },
        "id": "6H0eAT5EC4Vm",
        "outputId": "3caf3982-953c-4f98-f964-5d1db248c6bc"
      },
      "source": [
        "X_train.info()\r\n",
        "X_train.head()"
      ],
      "execution_count": 117,
      "outputs": [
        {
          "output_type": "stream",
          "text": [
            "<class 'pandas.core.frame.DataFrame'>\n",
            "Index: 2044 entries, 2017-10-30 to 2015-05-14\n",
            "Data columns (total 4 columns):\n",
            " #   Column       Non-Null Count  Dtype  \n",
            "---  ------       --------------  -----  \n",
            " 0   weekday_num  2044 non-null   int64  \n",
            " 1   temp         2044 non-null   float64\n",
            " 2   slp          2044 non-null   float64\n",
            " 3   wdsp         2044 non-null   float64\n",
            "dtypes: float64(3), int64(1)\n",
            "memory usage: 79.8+ KB\n"
          ],
          "name": "stdout"
        },
        {
          "output_type": "execute_result",
          "data": {
            "text/html": [
              "<div>\n",
              "<style scoped>\n",
              "    .dataframe tbody tr th:only-of-type {\n",
              "        vertical-align: middle;\n",
              "    }\n",
              "\n",
              "    .dataframe tbody tr th {\n",
              "        vertical-align: top;\n",
              "    }\n",
              "\n",
              "    .dataframe thead th {\n",
              "        text-align: right;\n",
              "    }\n",
              "</style>\n",
              "<table border=\"1\" class=\"dataframe\">\n",
              "  <thead>\n",
              "    <tr style=\"text-align: right;\">\n",
              "      <th></th>\n",
              "      <th>weekday_num</th>\n",
              "      <th>temp</th>\n",
              "      <th>slp</th>\n",
              "      <th>wdsp</th>\n",
              "    </tr>\n",
              "    <tr>\n",
              "      <th>date</th>\n",
              "      <th></th>\n",
              "      <th></th>\n",
              "      <th></th>\n",
              "      <th></th>\n",
              "    </tr>\n",
              "  </thead>\n",
              "  <tbody>\n",
              "    <tr>\n",
              "      <th>2017-10-30</th>\n",
              "      <td>1</td>\n",
              "      <td>60.4</td>\n",
              "      <td>997.1</td>\n",
              "      <td>27.3</td>\n",
              "    </tr>\n",
              "    <tr>\n",
              "      <th>2015-06-30</th>\n",
              "      <td>2</td>\n",
              "      <td>67.1</td>\n",
              "      <td>1015.7</td>\n",
              "      <td>7.1</td>\n",
              "    </tr>\n",
              "    <tr>\n",
              "      <th>2018-04-12</th>\n",
              "      <td>4</td>\n",
              "      <td>42.8</td>\n",
              "      <td>1019.4</td>\n",
              "      <td>9.8</td>\n",
              "    </tr>\n",
              "    <tr>\n",
              "      <th>2015-07-12</th>\n",
              "      <td>0</td>\n",
              "      <td>71.5</td>\n",
              "      <td>1016.1</td>\n",
              "      <td>9.3</td>\n",
              "    </tr>\n",
              "    <tr>\n",
              "      <th>2018-03-16</th>\n",
              "      <td>5</td>\n",
              "      <td>36.1</td>\n",
              "      <td>1000.1</td>\n",
              "      <td>13.5</td>\n",
              "    </tr>\n",
              "  </tbody>\n",
              "</table>\n",
              "</div>"
            ],
            "text/plain": [
              "            weekday_num  temp     slp  wdsp\n",
              "date                                       \n",
              "2017-10-30            1  60.4   997.1  27.3\n",
              "2015-06-30            2  67.1  1015.7   7.1\n",
              "2018-04-12            4  42.8  1019.4   9.8\n",
              "2015-07-12            0  71.5  1016.1   9.3\n",
              "2018-03-16            5  36.1  1000.1  13.5"
            ]
          },
          "metadata": {
            "tags": []
          },
          "execution_count": 117
        }
      ]
    },
    {
      "cell_type": "code",
      "metadata": {
        "colab": {
          "base_uri": "https://localhost:8080/",
          "height": 422
        },
        "id": "de9-ANVXDBw-",
        "outputId": "78ca04ee-e776-4535-d324-00f0861c375d"
      },
      "source": [
        "X_test.info()\r\n",
        "X_test.head()"
      ],
      "execution_count": 118,
      "outputs": [
        {
          "output_type": "stream",
          "text": [
            "<class 'pandas.core.frame.DataFrame'>\n",
            "Index: 511 entries, 2019-10-27 to 2013-08-17\n",
            "Data columns (total 4 columns):\n",
            " #   Column       Non-Null Count  Dtype  \n",
            "---  ------       --------------  -----  \n",
            " 0   weekday_num  511 non-null    int64  \n",
            " 1   temp         511 non-null    float64\n",
            " 2   slp          511 non-null    float64\n",
            " 3   wdsp         511 non-null    float64\n",
            "dtypes: float64(3), int64(1)\n",
            "memory usage: 20.0+ KB\n"
          ],
          "name": "stdout"
        },
        {
          "output_type": "execute_result",
          "data": {
            "text/html": [
              "<div>\n",
              "<style scoped>\n",
              "    .dataframe tbody tr th:only-of-type {\n",
              "        vertical-align: middle;\n",
              "    }\n",
              "\n",
              "    .dataframe tbody tr th {\n",
              "        vertical-align: top;\n",
              "    }\n",
              "\n",
              "    .dataframe thead th {\n",
              "        text-align: right;\n",
              "    }\n",
              "</style>\n",
              "<table border=\"1\" class=\"dataframe\">\n",
              "  <thead>\n",
              "    <tr style=\"text-align: right;\">\n",
              "      <th></th>\n",
              "      <th>weekday_num</th>\n",
              "      <th>temp</th>\n",
              "      <th>slp</th>\n",
              "      <th>wdsp</th>\n",
              "    </tr>\n",
              "    <tr>\n",
              "      <th>date</th>\n",
              "      <th></th>\n",
              "      <th></th>\n",
              "      <th></th>\n",
              "      <th></th>\n",
              "    </tr>\n",
              "  </thead>\n",
              "  <tbody>\n",
              "    <tr>\n",
              "      <th>2019-10-27</th>\n",
              "      <td>0</td>\n",
              "      <td>53.4</td>\n",
              "      <td>1022.7</td>\n",
              "      <td>14.3</td>\n",
              "    </tr>\n",
              "    <tr>\n",
              "      <th>2018-01-08</th>\n",
              "      <td>1</td>\n",
              "      <td>35.0</td>\n",
              "      <td>1023.6</td>\n",
              "      <td>18.3</td>\n",
              "    </tr>\n",
              "    <tr>\n",
              "      <th>2018-10-28</th>\n",
              "      <td>0</td>\n",
              "      <td>56.8</td>\n",
              "      <td>1007.4</td>\n",
              "      <td>13.4</td>\n",
              "    </tr>\n",
              "    <tr>\n",
              "      <th>2017-04-23</th>\n",
              "      <td>0</td>\n",
              "      <td>46.5</td>\n",
              "      <td>1017.3</td>\n",
              "      <td>10.5</td>\n",
              "    </tr>\n",
              "    <tr>\n",
              "      <th>2018-11-22</th>\n",
              "      <td>4</td>\n",
              "      <td>24.9</td>\n",
              "      <td>1022.1</td>\n",
              "      <td>19.2</td>\n",
              "    </tr>\n",
              "  </tbody>\n",
              "</table>\n",
              "</div>"
            ],
            "text/plain": [
              "            weekday_num  temp     slp  wdsp\n",
              "date                                       \n",
              "2019-10-27            0  53.4  1022.7  14.3\n",
              "2018-01-08            1  35.0  1023.6  18.3\n",
              "2018-10-28            0  56.8  1007.4  13.4\n",
              "2017-04-23            0  46.5  1017.3  10.5\n",
              "2018-11-22            4  24.9  1022.1  19.2"
            ]
          },
          "metadata": {
            "tags": []
          },
          "execution_count": 118
        }
      ]
    },
    {
      "cell_type": "markdown",
      "metadata": {
        "id": "4A8XX9XwHuAo"
      },
      "source": [
        "And the target `_train` and `_test` datasets look like:"
      ]
    },
    {
      "cell_type": "code",
      "metadata": {
        "colab": {
          "base_uri": "https://localhost:8080/"
        },
        "id": "gW4xrW-AHHPY",
        "outputId": "001ccdec-606f-413f-a28b-bb35b463d937"
      },
      "source": [
        "\r\n",
        "print(f\"\"\"Train:\r\n",
        "{y_train.head()}\r\n",
        "\r\n",
        "Length: {len(y_train)}\"\"\")"
      ],
      "execution_count": 119,
      "outputs": [
        {
          "output_type": "stream",
          "text": [
            "Train:\n",
            "date\n",
            "2017-10-30    0.445346\n",
            "2015-06-30    0.508846\n",
            "2018-04-12    0.516092\n",
            "2015-07-12    0.209363\n",
            "2018-03-16    0.440729\n",
            "Name: collisions, dtype: float64\n",
            "\n",
            "Length: 2044\n"
          ],
          "name": "stdout"
        }
      ]
    },
    {
      "cell_type": "code",
      "metadata": {
        "colab": {
          "base_uri": "https://localhost:8080/"
        },
        "id": "zjTaZ3lxLOBB",
        "outputId": "eeb2ed20-28d2-47a8-ad4a-6ec750ebcbe4"
      },
      "source": [
        "\r\n",
        "print(f\"\"\"Test:\r\n",
        "{y_test.head()}\r\n",
        "\r\n",
        "Length: Length: {len(y_test)}\"\"\")"
      ],
      "execution_count": 120,
      "outputs": [
        {
          "output_type": "stream",
          "text": [
            "Test:\n",
            "date\n",
            "2019-10-27    0.185617\n",
            "2018-01-08    0.583673\n",
            "2018-10-28    0.188135\n",
            "2017-04-23    0.201825\n",
            "2018-11-22    0.046875\n",
            "Name: collisions, dtype: float64\n",
            "\n",
            "Length: Length: 511\n"
          ],
          "name": "stdout"
        }
      ]
    },
    {
      "cell_type": "code",
      "metadata": {
        "id": "xbgNNZYkPkCA"
      },
      "source": [
        "# A scale is not required here, but the constant will be useful in the assignment.\n",
        "SCALE_NUM_TRIPS = 1.0"
      ],
      "execution_count": 121,
      "outputs": []
    },
    {
      "cell_type": "markdown",
      "metadata": {
        "id": "q0G2SDqX3ViC"
      },
      "source": [
        "The data is now seperated and ready to be processed.\r\n",
        "\r\n",
        "The library being used to create the model is `TensorFlow`."
      ]
    },
    {
      "cell_type": "code",
      "metadata": {
        "colab": {
          "base_uri": "https://localhost:8080/"
        },
        "id": "flIYx_LVISQ9",
        "outputId": "13780bf0-382e-41bf-f585-d0630bdb9fe5"
      },
      "source": [
        "# import tensorflow\r\n",
        "%tensorflow_version 1.x\r\n",
        "import tensorflow as tf\r\n",
        "\r\n",
        "# check the version\r\n",
        "print(tf.__version__)\r\n",
        "\r\n",
        "# logging for tensorflow\r\n",
        "tf.compat.v1.logging.set_verbosity(tf.compat.v1.logging.INFO)"
      ],
      "execution_count": 122,
      "outputs": [
        {
          "output_type": "stream",
          "text": [
            "1.15.2\n"
          ],
          "name": "stdout"
        }
      ]
    },
    {
      "cell_type": "markdown",
      "metadata": {
        "id": "2Z18JXu7ISq-"
      },
      "source": [
        "The `shutil` library is imported to work with high-level file operations. It is used to remove and delete the temporary folder any previous linear regressor models run have been saved to."
      ]
    },
    {
      "cell_type": "code",
      "metadata": {
        "id": "maFRZkDkQdpA"
      },
      "source": [
        "# needed for high-level file management\n",
        "import shutil  \n",
        "\n",
        "# removes a saved model from the last training attempt.\n",
        "shutil.rmtree('/tmp/linear_regression_trained_model', ignore_errors=True)"
      ],
      "execution_count": 123,
      "outputs": []
    },
    {
      "cell_type": "markdown",
      "metadata": {
        "id": "OjPxqieoMBDf"
      },
      "source": [
        "The parameters of the TensorFlow model are set up before running the 'fitting' to create the model. The directory is set using `model_directory` to store the model in `/tmp/linear_regression_trained_model`. The optimizing algartithm is set to Adam which is developed from the stochastic gradient descent. This optimizer has been more broadly adapted for deep learning applications in computer vision and natural language processing. The model infers real values from the input columns and interprets them as dense fixed length floating values. "
      ]
    },
    {
      "cell_type": "code",
      "metadata": {
        "id": "gKmM_ITrJ3XZ"
      },
      "source": [
        "# See the link for more information\r\n",
        "# https://www.tensorflow.org/versions/r1.15/api_docs/python/tf/contrib/learn/LinearRegressor\r\n",
        "estimator_linear = tf.contrib.learn.SKCompat(\r\n",
        "    tf.contrib.learn.LinearRegressor(\r\n",
        "        model_dir='/tmp/linear_regression_trained_model', \r\n",
        "        optimizer=tf.train.AdamOptimizer(learning_rate=0.1), \r\n",
        "        enable_centered_bias=False, \r\n",
        "        feature_columns=tf.contrib.learn.infer_real_valued_columns_from_input(X_train)\r\n",
        "      )\r\n",
        "  )"
      ],
      "execution_count": null,
      "outputs": []
    },
    {
      "cell_type": "markdown",
      "metadata": {
        "id": "D1o2V7mPRzFO"
      },
      "source": [
        "The model is ready to be fitted with the training `_train` data. The `.fit()` command is used to do this, and train the model with a set number of `steps`, in this case `10,000`."
      ]
    },
    {
      "cell_type": "code",
      "metadata": {
        "id": "LD0DOQ3hJ-ER"
      },
      "source": [
        "# Prints a log to show model is starting to train\r\n",
        "print(\"starting to train\");\r\n",
        "\r\n",
        "# Train the model. Pass in predictor values and target values.\r\n",
        "estimator_linear.fit(X_train, y_train/SCALE_NUM_TRIPS, steps=10000)"
      ],
      "execution_count": null,
      "outputs": []
    },
    {
      "cell_type": "markdown",
      "metadata": {
        "id": "bohAtJH4SLgo"
      },
      "source": [
        "The predictor data is obtained from the fitted model using the `X_test` data in the `.predict()` function of the model just created. The prediciton data is then converted into a dataframe to look at the `score` of `preds_linear`."
      ]
    },
    {
      "cell_type": "code",
      "metadata": {
        "id": "dFdD_2ITSLCT"
      },
      "source": [
        "# Next, we can check our predictions based on our predictors.\r\n",
        "preds_linear = estimator_linear.predict(x=X_test)\r\n",
        "preds2_linear = pd.DataFrame.from_dict(data=preds_linear)"
      ],
      "execution_count": null,
      "outputs": []
    },
    {
      "cell_type": "markdown",
      "metadata": {
        "id": "1qofRbdEkc31"
      },
      "source": [
        "There are three metrics with which the accuracy can be calculated with, the *Mean Absolute Error*, *Mean Squared Error*, and the *Root Mean Squared Error*. These functions return an idea of how well the model has performed in predicting what the result should be. An average value close to 0 means the model is very accurate where as larger values imply the model is very inaccurate.\r\n",
        "\r\n",
        "The mean absolute error (*MAE*) is the absolute of the errors. It is calculated by it is the sum of the modulus of the target test value minus the predicted value, and then divided by the number of values.\r\n",
        "\\begin{equation} MAE = \\frac {1}{n} \\sum^{n}_{i=1} |y_i-\\hat{y}_i|  \\end{equation}\r\n",
        "\r\n",
        "The mean squared error (*MSE*) looks at the the sum of the target test value minus the predicted value squared, and divided by the number of values.\r\n",
        "\\begin{equation} MSE = \\frac {1}{n} \\sum^{n}_{i=1} (y_i-\\hat{y}_i)^2  \\end{equation}\r\n",
        "\r\n",
        "The root mean squared error (*RMSE*) is the same as the mean average error but the square root is taken after averaging the data. The purpose of this is to put a heavier penalty on errors made by the model.\r\n",
        "\\begin{equation} RMSE = \\sqrt {\\frac {1}{n} \\sum^{n}_{i=1} (y_i-\\hat{y}_i)^2}  \\end{equation}\r\n",
        "\r\n",
        "As can be seen if the predicted values are close to the actual values, the subtraction of one from the other will give a result close to zero.\r\n",
        "\r\n",
        "The calculated out mean absolute error, mean squared error, and root mean squared error are calculated using the `metrics` library in `sklearn` and the square root function from `numpy`, `np.sqrt`. The data used is the prediction data and the target `y_test` data."
      ]
    },
    {
      "cell_type": "code",
      "metadata": {
        "colab": {
          "base_uri": "https://localhost:8080/"
        },
        "id": "0lblW3B4keXz",
        "outputId": "d29fd31d-04ba-4149-baf7-7f7b3bd7fa2f"
      },
      "source": [
        "from sklearn import metrics\r\n",
        "\r\n",
        "print('MAE:', metrics.mean_absolute_error(y_test, preds2_linear))\r\n",
        "print('MSE:', metrics.mean_squared_error(y_test, preds2_linear))\r\n",
        "print('RMSE:', np.sqrt(metrics.mean_squared_error(y_test, preds2_linear)))"
      ],
      "execution_count": 127,
      "outputs": [
        {
          "output_type": "stream",
          "text": [
            "MAE: 0.6937660602192364\n",
            "MSE: 0.535300294800603\n",
            "RMSE: 0.731642190418652\n"
          ],
          "name": "stdout"
        }
      ]
    },
    {
      "cell_type": "code",
      "metadata": {
        "id": "SxSd6Z8ML2QM"
      },
      "source": [
        "import matplotlib.pyplot as plt\r\n",
        "import seaborn as sns\r\n",
        "%matplotlib inline"
      ],
      "execution_count": 128,
      "outputs": []
    },
    {
      "cell_type": "markdown",
      "metadata": {
        "id": "F_RatZsQSwbG"
      },
      "source": [
        "Plots can be used to visualize how accurate the models are. Using a regression plot the scores can be compared to the prediction data to see how they compare and how a best fitting line can be drawn with respect to the scattered data around it."
      ]
    },
    {
      "cell_type": "code",
      "metadata": {
        "colab": {
          "base_uri": "https://localhost:8080/",
          "height": 350
        },
        "id": "NnEKFkrGLMzR",
        "outputId": "891aef4a-03b8-4f60-838e-ab2f7d1e5496"
      },
      "source": [
        "sns.regplot(y_test, preds2_linear)"
      ],
      "execution_count": 129,
      "outputs": [
        {
          "output_type": "stream",
          "text": [
            "/usr/local/lib/python3.6/dist-packages/seaborn/_decorators.py:43: FutureWarning: Pass the following variables as keyword args: x, y. From version 0.12, the only valid positional argument will be `data`, and passing other arguments without an explicit keyword will result in an error or misinterpretation.\n",
            "  FutureWarning\n"
          ],
          "name": "stderr"
        },
        {
          "output_type": "execute_result",
          "data": {
            "text/plain": [
              "<matplotlib.axes._subplots.AxesSubplot at 0x7f9c78e0d390>"
            ]
          },
          "metadata": {
            "tags": []
          },
          "execution_count": 129
        },
        {
          "output_type": "display_data",
          "data": {
            "image/png": "[encoded data removed]",
            "text/plain": [
              "<Figure size 432x288 with 1 Axes>"
            ]
          },
          "metadata": {
            "tags": [],
            "needs_background": "light"
          }
        }
      ]
    },
    {
      "cell_type": "markdown",
      "metadata": {
        "id": "FoLsFGUHTL8t"
      },
      "source": [
        "And a distribution plot of the target test data minus the predicted data gives an idea of the accuracy of the model. A negative value imples the model tends to over compensate and predict more collisions than what were.\r\n",
        "\r\n",
        "Hence the linear regression model is not very accurate for this purpose."
      ]
    },
    {
      "cell_type": "code",
      "metadata": {
        "colab": {
          "base_uri": "https://localhost:8080/",
          "height": 369
        },
        "id": "Af_RI3AW2sLD",
        "outputId": "41641e49-ec76-4b9e-f8e7-86f996545894"
      },
      "source": [
        "sns.displot(y_test.reset_index(drop=True) - preds2_linear.scores, kind='kde');"
      ],
      "execution_count": 130,
      "outputs": [
        {
          "output_type": "display_data",
          "data": {
            "image/png": "[encoded data removed]",
            "text/plain": [
              "<Figure size 360x360 with 1 Axes>"
            ]
          },
          "metadata": {
            "tags": [],
            "needs_background": "light"
          }
        }
      ]
    },
    {
      "cell_type": "markdown",
      "metadata": {
        "id": "EwKknUwtkTnD"
      },
      "source": [
        "Next some random data can be made up for three Mondays (`weekday_num = 1`) and is entered into the linear model. "
      ]
    },
    {
      "cell_type": "code",
      "metadata": {
        "id": "S646OaU0R8UQ"
      },
      "source": [
        "input = pd.DataFrame.from_dict(data = {\n",
        "    'weekday_num' : [1,1,1],\n",
        "    'temp' : [61.8, 31.2, 77.0],\n",
        "    'slp' : [1023, 1002, 985],\n",
        "    'wdsp' : [5.0, 3.0, 8.0]\n",
        "  })\t\t\t\t\t\n",
        "\n",
        "estimator_linear = tf.contrib.learn.SKCompat(\n",
        "    tf.contrib.learn.LinearRegressor(\n",
        "        model_dir='/tmp/linear_regression_trained_model', \n",
        "        enable_centered_bias=False, \n",
        "        feature_columns=tf.contrib.learn.infer_real_valued_columns_from_input(input.values)\n",
        "    )\n",
        "  )\n",
        "\n",
        "preds_test_linear = estimator_linear.predict(x=input.values)"
      ],
      "execution_count": null,
      "outputs": []
    },
    {
      "cell_type": "markdown",
      "metadata": {
        "id": "ZNJEMO_z7zP6"
      },
      "source": [
        "The the maximum number of collisions in a worst case scenario for all boroughs tends is about 900. If the prediction data, which was previously normalized, is multiplied by this value then the linear model is found to over predict to have double as many collisions than the target."
      ]
    },
    {
      "cell_type": "code",
      "metadata": {
        "colab": {
          "base_uri": "https://localhost:8080/"
        },
        "id": "r9PVPkkumyLD",
        "outputId": "4c6b862e-cfa0-4b82-feea-5b40e58b952c"
      },
      "source": [
        "# The average number of collisions scale value is 800 when at a maximum, based on the analysis from Assignment 1\r\n",
        "predslistnorm_linear = preds_test_linear['scores']\r\n",
        "predslistscale_linear = preds_test_linear['scores']*900\r\n",
        "prednorm_linear = format(str(predslistnorm_linear))\r\n",
        "preds_res_linear = format(str(predslistscale_linear))\r\n",
        "print(prednorm_linear)\r\n",
        "print(preds_res_linear)"
      ],
      "execution_count": 132,
      "outputs": [
        {
          "output_type": "stream",
          "text": [
            "[1.1153882 1.0094155 1.1174734]\n",
            "[1003.84937  908.47394 1005.726  ]\n"
          ],
          "name": "stdout"
        }
      ]
    },
    {
      "cell_type": "markdown",
      "metadata": {
        "id": "GsPQDn93UoDK"
      },
      "source": [
        "From test inputs the first element in the array here is similar to this actual data:\n",
        "\n",
        "1003 collisions on a Monday where the temperature is approximately 61.8F, sea level pressure of 1023 millibars and a windspeed of 5 knots.\n",
        "\n",
        "Similarly with the second entry, approximately 908 collisions are predicted on a monday where there's a drop in sea level pressure to 1002 millibars, lower temperature of 31.2F and a windspeed of 3 knots.\n",
        "\n",
        "And with the third seems to have the same score as the first. 1005 collisions would be predicted on a Monday with a high temperature of 77F and a windspeed of 8 knots but a large drop in sea level pressure to 985 millibars doesn't seem to have an affect on the result. \n",
        "\n",
        "The day is changed to a Friday (`weekday_num = 5`) and the same values are run to see the affect of week day on the data."
      ]
    },
    {
      "cell_type": "code",
      "metadata": {
        "id": "QqqseK8ZXoFD"
      },
      "source": [
        "input_linear = pd.DataFrame.from_dict(data = {\n",
        "    'weekday_num' : [5,5,5],\n",
        "    'temp' : [61.8, 31.2, 77.0],\n",
        "    'slp' : [1023, 1002, 985],\n",
        "    'wdsp' : [5.0, 3.0, 8.0]\n",
        "  })\t\t\n",
        "\n",
        "estimator_linear = tf.contrib.learn.SKCompat(\n",
        "    tf.contrib.learn.LinearRegressor(\n",
        "        model_dir='/tmp/linear_regression_trained_model', \n",
        "        enable_centered_bias=False, \n",
        "        feature_columns=tf.contrib.learn.infer_real_valued_columns_from_input(input_linear.values)\n",
        "    )\n",
        "  )\n",
        "\n",
        "preds_test_linear = estimator_linear.predict(x=input_linear.values)"
      ],
      "execution_count": null,
      "outputs": []
    },
    {
      "cell_type": "code",
      "metadata": {
        "colab": {
          "base_uri": "https://localhost:8080/"
        },
        "id": "yOyIrVsupjxi",
        "outputId": "1e1d4f34-54f6-49b7-d706-e57426022572"
      },
      "source": [
        "predslistnorm_linear = preds_test_linear['scores']\r\n",
        "predslistscale_linear = preds_test_linear['scores']*900\r\n",
        "prednorm_linear = format(str(predslistnorm_linear))\r\n",
        "preds_res_linear = format(str(predslistscale_linear))\r\n",
        "print(prednorm_linear)\r\n",
        "print(preds_res_linear)"
      ],
      "execution_count": 134,
      "outputs": [
        {
          "output_type": "stream",
          "text": [
            "[1.2874129 1.1814401 1.2894981]\n",
            "[1158.6716 1063.2961 1160.5483]\n"
          ],
          "name": "stdout"
        }
      ]
    },
    {
      "cell_type": "markdown",
      "metadata": {
        "id": "UvHvR5o9Xus1"
      },
      "source": [
        "This test uses day 5 (Friday) instead of day 1 (Monday) which shows higher collisions where the other values were left the same. With respect to what can be seen in the plots by weekdays, in general there tends to be more collisions on a Friday than on a Monday.\r\n",
        "\r\n",
        "where the expected value was to be about the mean value of 450 to 570, the linear model predicted values are much closer to the max values, matching the offset shown in the distribution curve.\r\n",
        "\r\n",
        "In Assignment 1, sea level pressure was found to a negative correlation and setting the sea level pressure to a low value does reflect this as the collisions increased a little."
      ]
    },
    {
      "cell_type": "markdown",
      "metadata": {
        "id": "_0ed0CnSKbar"
      },
      "source": [
        "## Deep-learning Neural Networks (DNN)\r\n",
        "\r\n",
        "The method for processing for preparing and entering the data for the DNN is similar to the linear regression model above. The data will be imported from the git repository, checked to see if it's the correct dataset and that it's the right shape and ready to be processed.\r\n",
        "\r\n",
        "The data will be split into `_train` and `_test` sets again and the predictors will be set as `X` and the targets set as `y`.\r\n",
        "\r\n",
        "One difference between the DNN data and the linear regression data is before there was a column for `weekday_num` which hosted the week day number, where Sunday was 0 and Saturday was 6. Instead of that One Hot Encoding (OHE) was used to encode the months and the week days into a binary format.\r\n",
        "\r\n",
        "The issue with using an integer for the month is that every month is equal and using an integer would weight the data in the calculation. So December being month 12 will have more weight to it than every other month.\r\n"
      ]
    },
    {
      "cell_type": "code",
      "metadata": {
        "colab": {
          "base_uri": "https://localhost:8080/",
          "height": 266
        },
        "id": "CcH5qqUnKgFy",
        "outputId": "a56fb5e5-3c80-4987-ed10-301392ad6995"
      },
      "source": [
        "# create data frame from csv file we hosted on our github\r\n",
        "df_dnn = pd.read_csv('https://raw.githubusercontent.com/20023167uhi/DataAnalytics/main/Python/Data%20Analytics%20on%20the%20Web/Assignment%201/Data/Tom_Blackwood-OHE-Weather_and_Collision_data_for_New_York_boroughs_2012-2020.csv', index_col=0)\r\n",
        "df_dnn.head(6)"
      ],
      "execution_count": 98,
      "outputs": [
        {
          "output_type": "execute_result",
          "data": {
            "text/html": [
              "<div>\n",
              "<style scoped>\n",
              "    .dataframe tbody tr th:only-of-type {\n",
              "        vertical-align: middle;\n",
              "    }\n",
              "\n",
              "    .dataframe tbody tr th {\n",
              "        vertical-align: top;\n",
              "    }\n",
              "\n",
              "    .dataframe thead th {\n",
              "        text-align: right;\n",
              "    }\n",
              "</style>\n",
              "<table border=\"1\" class=\"dataframe\">\n",
              "  <thead>\n",
              "    <tr style=\"text-align: right;\">\n",
              "      <th></th>\n",
              "      <th>temp</th>\n",
              "      <th>slp</th>\n",
              "      <th>wdsp</th>\n",
              "      <th>April</th>\n",
              "      <th>August</th>\n",
              "      <th>December</th>\n",
              "      <th>February</th>\n",
              "      <th>January</th>\n",
              "      <th>July</th>\n",
              "      <th>June</th>\n",
              "      <th>March</th>\n",
              "      <th>May</th>\n",
              "      <th>November</th>\n",
              "      <th>October</th>\n",
              "      <th>September</th>\n",
              "      <th>Friday</th>\n",
              "      <th>Monday</th>\n",
              "      <th>Saturday</th>\n",
              "      <th>Sunday</th>\n",
              "      <th>Thursday</th>\n",
              "      <th>Tuesday</th>\n",
              "      <th>Wednesday</th>\n",
              "      <th>collisions</th>\n",
              "    </tr>\n",
              "    <tr>\n",
              "      <th>date</th>\n",
              "      <th></th>\n",
              "      <th></th>\n",
              "      <th></th>\n",
              "      <th></th>\n",
              "      <th></th>\n",
              "      <th></th>\n",
              "      <th></th>\n",
              "      <th></th>\n",
              "      <th></th>\n",
              "      <th></th>\n",
              "      <th></th>\n",
              "      <th></th>\n",
              "      <th></th>\n",
              "      <th></th>\n",
              "      <th></th>\n",
              "      <th></th>\n",
              "      <th></th>\n",
              "      <th></th>\n",
              "      <th></th>\n",
              "      <th></th>\n",
              "      <th></th>\n",
              "      <th></th>\n",
              "      <th></th>\n",
              "    </tr>\n",
              "  </thead>\n",
              "  <tbody>\n",
              "    <tr>\n",
              "      <th>2013-01-01</th>\n",
              "      <td>38.0</td>\n",
              "      <td>1008.8</td>\n",
              "      <td>15.0</td>\n",
              "      <td>0</td>\n",
              "      <td>0</td>\n",
              "      <td>0</td>\n",
              "      <td>0</td>\n",
              "      <td>1</td>\n",
              "      <td>0</td>\n",
              "      <td>0</td>\n",
              "      <td>0</td>\n",
              "      <td>0</td>\n",
              "      <td>0</td>\n",
              "      <td>0</td>\n",
              "      <td>0</td>\n",
              "      <td>0</td>\n",
              "      <td>0</td>\n",
              "      <td>0</td>\n",
              "      <td>0</td>\n",
              "      <td>0</td>\n",
              "      <td>1</td>\n",
              "      <td>0</td>\n",
              "      <td>0.097222</td>\n",
              "    </tr>\n",
              "    <tr>\n",
              "      <th>2013-01-02</th>\n",
              "      <td>27.5</td>\n",
              "      <td>1013.4</td>\n",
              "      <td>12.4</td>\n",
              "      <td>0</td>\n",
              "      <td>0</td>\n",
              "      <td>0</td>\n",
              "      <td>0</td>\n",
              "      <td>1</td>\n",
              "      <td>0</td>\n",
              "      <td>0</td>\n",
              "      <td>0</td>\n",
              "      <td>0</td>\n",
              "      <td>0</td>\n",
              "      <td>0</td>\n",
              "      <td>0</td>\n",
              "      <td>0</td>\n",
              "      <td>0</td>\n",
              "      <td>0</td>\n",
              "      <td>0</td>\n",
              "      <td>0</td>\n",
              "      <td>0</td>\n",
              "      <td>1</td>\n",
              "      <td>0.498747</td>\n",
              "    </tr>\n",
              "    <tr>\n",
              "      <th>2013-01-03</th>\n",
              "      <td>21.8</td>\n",
              "      <td>1018.1</td>\n",
              "      <td>9.8</td>\n",
              "      <td>0</td>\n",
              "      <td>0</td>\n",
              "      <td>0</td>\n",
              "      <td>0</td>\n",
              "      <td>1</td>\n",
              "      <td>0</td>\n",
              "      <td>0</td>\n",
              "      <td>0</td>\n",
              "      <td>0</td>\n",
              "      <td>0</td>\n",
              "      <td>0</td>\n",
              "      <td>0</td>\n",
              "      <td>0</td>\n",
              "      <td>0</td>\n",
              "      <td>0</td>\n",
              "      <td>0</td>\n",
              "      <td>1</td>\n",
              "      <td>0</td>\n",
              "      <td>0</td>\n",
              "      <td>0.527430</td>\n",
              "    </tr>\n",
              "    <tr>\n",
              "      <th>2013-01-04</th>\n",
              "      <td>32.2</td>\n",
              "      <td>1015.2</td>\n",
              "      <td>11.3</td>\n",
              "      <td>0</td>\n",
              "      <td>0</td>\n",
              "      <td>0</td>\n",
              "      <td>0</td>\n",
              "      <td>1</td>\n",
              "      <td>0</td>\n",
              "      <td>0</td>\n",
              "      <td>0</td>\n",
              "      <td>0</td>\n",
              "      <td>0</td>\n",
              "      <td>0</td>\n",
              "      <td>0</td>\n",
              "      <td>1</td>\n",
              "      <td>0</td>\n",
              "      <td>0</td>\n",
              "      <td>0</td>\n",
              "      <td>0</td>\n",
              "      <td>0</td>\n",
              "      <td>0</td>\n",
              "      <td>0.645503</td>\n",
              "    </tr>\n",
              "    <tr>\n",
              "      <th>2013-01-05</th>\n",
              "      <td>37.3</td>\n",
              "      <td>1017.3</td>\n",
              "      <td>13.2</td>\n",
              "      <td>0</td>\n",
              "      <td>0</td>\n",
              "      <td>0</td>\n",
              "      <td>0</td>\n",
              "      <td>1</td>\n",
              "      <td>0</td>\n",
              "      <td>0</td>\n",
              "      <td>0</td>\n",
              "      <td>0</td>\n",
              "      <td>0</td>\n",
              "      <td>0</td>\n",
              "      <td>0</td>\n",
              "      <td>0</td>\n",
              "      <td>0</td>\n",
              "      <td>1</td>\n",
              "      <td>0</td>\n",
              "      <td>0</td>\n",
              "      <td>0</td>\n",
              "      <td>0</td>\n",
              "      <td>0.095238</td>\n",
              "    </tr>\n",
              "    <tr>\n",
              "      <th>2013-01-06</th>\n",
              "      <td>35.7</td>\n",
              "      <td>1019.7</td>\n",
              "      <td>5.9</td>\n",
              "      <td>0</td>\n",
              "      <td>0</td>\n",
              "      <td>0</td>\n",
              "      <td>0</td>\n",
              "      <td>1</td>\n",
              "      <td>0</td>\n",
              "      <td>0</td>\n",
              "      <td>0</td>\n",
              "      <td>0</td>\n",
              "      <td>0</td>\n",
              "      <td>0</td>\n",
              "      <td>0</td>\n",
              "      <td>0</td>\n",
              "      <td>0</td>\n",
              "      <td>0</td>\n",
              "      <td>1</td>\n",
              "      <td>0</td>\n",
              "      <td>0</td>\n",
              "      <td>0</td>\n",
              "      <td>0.118056</td>\n",
              "    </tr>\n",
              "  </tbody>\n",
              "</table>\n",
              "</div>"
            ],
            "text/plain": [
              "            temp     slp  wdsp  April  ...  Thursday  Tuesday  Wednesday  collisions\n",
              "date                                   ...                                          \n",
              "2013-01-01  38.0  1008.8  15.0      0  ...         0        1          0    0.097222\n",
              "2013-01-02  27.5  1013.4  12.4      0  ...         0        0          1    0.498747\n",
              "2013-01-03  21.8  1018.1   9.8      0  ...         1        0          0    0.527430\n",
              "2013-01-04  32.2  1015.2  11.3      0  ...         0        0          0    0.645503\n",
              "2013-01-05  37.3  1017.3  13.2      0  ...         0        0          0    0.095238\n",
              "2013-01-06  35.7  1019.7   5.9      0  ...         0        0          0    0.118056\n",
              "\n",
              "[6 rows x 23 columns]"
            ]
          },
          "metadata": {
            "tags": []
          },
          "execution_count": 98
        }
      ]
    },
    {
      "cell_type": "code",
      "metadata": {
        "colab": {
          "base_uri": "https://localhost:8080/"
        },
        "id": "wlDRET11K-2i",
        "outputId": "d2924fcb-d7d3-4629-d259-42affc5ca2d5"
      },
      "source": [
        "# make sure we have our data by printing it out\r\n",
        "df_dnn.info()"
      ],
      "execution_count": 99,
      "outputs": [
        {
          "output_type": "stream",
          "text": [
            "<class 'pandas.core.frame.DataFrame'>\n",
            "Index: 2555 entries, 2013-01-01 to 2019-12-31\n",
            "Data columns (total 23 columns):\n",
            " #   Column      Non-Null Count  Dtype  \n",
            "---  ------      --------------  -----  \n",
            " 0   temp        2555 non-null   float64\n",
            " 1   slp         2555 non-null   float64\n",
            " 2   wdsp        2555 non-null   float64\n",
            " 3   April       2555 non-null   int64  \n",
            " 4   August      2555 non-null   int64  \n",
            " 5   December    2555 non-null   int64  \n",
            " 6   February    2555 non-null   int64  \n",
            " 7   January     2555 non-null   int64  \n",
            " 8   July        2555 non-null   int64  \n",
            " 9   June        2555 non-null   int64  \n",
            " 10  March       2555 non-null   int64  \n",
            " 11  May         2555 non-null   int64  \n",
            " 12  November    2555 non-null   int64  \n",
            " 13  October     2555 non-null   int64  \n",
            " 14  September   2555 non-null   int64  \n",
            " 15  Friday      2555 non-null   int64  \n",
            " 16  Monday      2555 non-null   int64  \n",
            " 17  Saturday    2555 non-null   int64  \n",
            " 18  Sunday      2555 non-null   int64  \n",
            " 19  Thursday    2555 non-null   int64  \n",
            " 20  Tuesday     2555 non-null   int64  \n",
            " 21  Wednesday   2555 non-null   int64  \n",
            " 22  collisions  2555 non-null   float64\n",
            "dtypes: float64(4), int64(19)\n",
            "memory usage: 479.1+ KB\n"
          ],
          "name": "stdout"
        }
      ]
    },
    {
      "cell_type": "markdown",
      "metadata": {
        "id": "KTdFklg0E6pp"
      },
      "source": [
        "The collison data column is set to the target `y` value, dropped from the predictor columns for the `X` component and then the data was split into `_train` and `_test` values."
      ]
    },
    {
      "cell_type": "code",
      "metadata": {
        "id": "u7r6wfk7LI3z"
      },
      "source": [
        "# The data is split between the target 'y' and the predictors 'X'\r\n",
        "y = df_dnn['collisions']\r\n",
        "X = df_dnn.drop('collisions', axis=1)\r\n",
        "\r\n",
        "# Training sets and testing sets are created by scrambling and the rows of the \r\n",
        "# predictors 'X' and targets 'y'. \r\n",
        "X_train, X_test, y_train, y_test = train_test_split(X, y, test_size = 0.2, random_state = 101)"
      ],
      "execution_count": 100,
      "outputs": []
    },
    {
      "cell_type": "code",
      "metadata": {
        "colab": {
          "base_uri": "https://localhost:8080/",
          "height": 728
        },
        "id": "f5vX5kBs3f-7",
        "outputId": "dcfa4293-0eab-4b82-aca0-09b15322dfde"
      },
      "source": [
        "X_train.info()\r\n",
        "X_train.head()"
      ],
      "execution_count": 101,
      "outputs": [
        {
          "output_type": "stream",
          "text": [
            "<class 'pandas.core.frame.DataFrame'>\n",
            "Index: 2044 entries, 2017-10-30 to 2015-05-14\n",
            "Data columns (total 22 columns):\n",
            " #   Column     Non-Null Count  Dtype  \n",
            "---  ------     --------------  -----  \n",
            " 0   temp       2044 non-null   float64\n",
            " 1   slp        2044 non-null   float64\n",
            " 2   wdsp       2044 non-null   float64\n",
            " 3   April      2044 non-null   int64  \n",
            " 4   August     2044 non-null   int64  \n",
            " 5   December   2044 non-null   int64  \n",
            " 6   February   2044 non-null   int64  \n",
            " 7   January    2044 non-null   int64  \n",
            " 8   July       2044 non-null   int64  \n",
            " 9   June       2044 non-null   int64  \n",
            " 10  March      2044 non-null   int64  \n",
            " 11  May        2044 non-null   int64  \n",
            " 12  November   2044 non-null   int64  \n",
            " 13  October    2044 non-null   int64  \n",
            " 14  September  2044 non-null   int64  \n",
            " 15  Friday     2044 non-null   int64  \n",
            " 16  Monday     2044 non-null   int64  \n",
            " 17  Saturday   2044 non-null   int64  \n",
            " 18  Sunday     2044 non-null   int64  \n",
            " 19  Thursday   2044 non-null   int64  \n",
            " 20  Tuesday    2044 non-null   int64  \n",
            " 21  Wednesday  2044 non-null   int64  \n",
            "dtypes: float64(3), int64(19)\n",
            "memory usage: 367.3+ KB\n"
          ],
          "name": "stdout"
        },
        {
          "output_type": "execute_result",
          "data": {
            "text/html": [
              "<div>\n",
              "<style scoped>\n",
              "    .dataframe tbody tr th:only-of-type {\n",
              "        vertical-align: middle;\n",
              "    }\n",
              "\n",
              "    .dataframe tbody tr th {\n",
              "        vertical-align: top;\n",
              "    }\n",
              "\n",
              "    .dataframe thead th {\n",
              "        text-align: right;\n",
              "    }\n",
              "</style>\n",
              "<table border=\"1\" class=\"dataframe\">\n",
              "  <thead>\n",
              "    <tr style=\"text-align: right;\">\n",
              "      <th></th>\n",
              "      <th>temp</th>\n",
              "      <th>slp</th>\n",
              "      <th>wdsp</th>\n",
              "      <th>April</th>\n",
              "      <th>August</th>\n",
              "      <th>December</th>\n",
              "      <th>February</th>\n",
              "      <th>January</th>\n",
              "      <th>July</th>\n",
              "      <th>June</th>\n",
              "      <th>March</th>\n",
              "      <th>May</th>\n",
              "      <th>November</th>\n",
              "      <th>October</th>\n",
              "      <th>September</th>\n",
              "      <th>Friday</th>\n",
              "      <th>Monday</th>\n",
              "      <th>Saturday</th>\n",
              "      <th>Sunday</th>\n",
              "      <th>Thursday</th>\n",
              "      <th>Tuesday</th>\n",
              "      <th>Wednesday</th>\n",
              "    </tr>\n",
              "    <tr>\n",
              "      <th>date</th>\n",
              "      <th></th>\n",
              "      <th></th>\n",
              "      <th></th>\n",
              "      <th></th>\n",
              "      <th></th>\n",
              "      <th></th>\n",
              "      <th></th>\n",
              "      <th></th>\n",
              "      <th></th>\n",
              "      <th></th>\n",
              "      <th></th>\n",
              "      <th></th>\n",
              "      <th></th>\n",
              "      <th></th>\n",
              "      <th></th>\n",
              "      <th></th>\n",
              "      <th></th>\n",
              "      <th></th>\n",
              "      <th></th>\n",
              "      <th></th>\n",
              "      <th></th>\n",
              "      <th></th>\n",
              "    </tr>\n",
              "  </thead>\n",
              "  <tbody>\n",
              "    <tr>\n",
              "      <th>2017-10-30</th>\n",
              "      <td>60.4</td>\n",
              "      <td>997.1</td>\n",
              "      <td>27.3</td>\n",
              "      <td>0</td>\n",
              "      <td>0</td>\n",
              "      <td>0</td>\n",
              "      <td>0</td>\n",
              "      <td>0</td>\n",
              "      <td>0</td>\n",
              "      <td>0</td>\n",
              "      <td>0</td>\n",
              "      <td>0</td>\n",
              "      <td>0</td>\n",
              "      <td>1</td>\n",
              "      <td>0</td>\n",
              "      <td>0</td>\n",
              "      <td>1</td>\n",
              "      <td>0</td>\n",
              "      <td>0</td>\n",
              "      <td>0</td>\n",
              "      <td>0</td>\n",
              "      <td>0</td>\n",
              "    </tr>\n",
              "    <tr>\n",
              "      <th>2015-06-30</th>\n",
              "      <td>67.1</td>\n",
              "      <td>1015.7</td>\n",
              "      <td>7.1</td>\n",
              "      <td>0</td>\n",
              "      <td>0</td>\n",
              "      <td>0</td>\n",
              "      <td>0</td>\n",
              "      <td>0</td>\n",
              "      <td>0</td>\n",
              "      <td>1</td>\n",
              "      <td>0</td>\n",
              "      <td>0</td>\n",
              "      <td>0</td>\n",
              "      <td>0</td>\n",
              "      <td>0</td>\n",
              "      <td>0</td>\n",
              "      <td>0</td>\n",
              "      <td>0</td>\n",
              "      <td>0</td>\n",
              "      <td>0</td>\n",
              "      <td>1</td>\n",
              "      <td>0</td>\n",
              "    </tr>\n",
              "    <tr>\n",
              "      <th>2018-04-12</th>\n",
              "      <td>42.8</td>\n",
              "      <td>1019.4</td>\n",
              "      <td>9.8</td>\n",
              "      <td>1</td>\n",
              "      <td>0</td>\n",
              "      <td>0</td>\n",
              "      <td>0</td>\n",
              "      <td>0</td>\n",
              "      <td>0</td>\n",
              "      <td>0</td>\n",
              "      <td>0</td>\n",
              "      <td>0</td>\n",
              "      <td>0</td>\n",
              "      <td>0</td>\n",
              "      <td>0</td>\n",
              "      <td>0</td>\n",
              "      <td>0</td>\n",
              "      <td>0</td>\n",
              "      <td>0</td>\n",
              "      <td>1</td>\n",
              "      <td>0</td>\n",
              "      <td>0</td>\n",
              "    </tr>\n",
              "    <tr>\n",
              "      <th>2015-07-12</th>\n",
              "      <td>71.5</td>\n",
              "      <td>1016.1</td>\n",
              "      <td>9.3</td>\n",
              "      <td>0</td>\n",
              "      <td>0</td>\n",
              "      <td>0</td>\n",
              "      <td>0</td>\n",
              "      <td>0</td>\n",
              "      <td>1</td>\n",
              "      <td>0</td>\n",
              "      <td>0</td>\n",
              "      <td>0</td>\n",
              "      <td>0</td>\n",
              "      <td>0</td>\n",
              "      <td>0</td>\n",
              "      <td>0</td>\n",
              "      <td>0</td>\n",
              "      <td>0</td>\n",
              "      <td>1</td>\n",
              "      <td>0</td>\n",
              "      <td>0</td>\n",
              "      <td>0</td>\n",
              "    </tr>\n",
              "    <tr>\n",
              "      <th>2018-03-16</th>\n",
              "      <td>36.1</td>\n",
              "      <td>1000.1</td>\n",
              "      <td>13.5</td>\n",
              "      <td>0</td>\n",
              "      <td>0</td>\n",
              "      <td>0</td>\n",
              "      <td>0</td>\n",
              "      <td>0</td>\n",
              "      <td>0</td>\n",
              "      <td>0</td>\n",
              "      <td>1</td>\n",
              "      <td>0</td>\n",
              "      <td>0</td>\n",
              "      <td>0</td>\n",
              "      <td>0</td>\n",
              "      <td>1</td>\n",
              "      <td>0</td>\n",
              "      <td>0</td>\n",
              "      <td>0</td>\n",
              "      <td>0</td>\n",
              "      <td>0</td>\n",
              "      <td>0</td>\n",
              "    </tr>\n",
              "  </tbody>\n",
              "</table>\n",
              "</div>"
            ],
            "text/plain": [
              "            temp     slp  wdsp  April  ...  Sunday  Thursday  Tuesday  Wednesday\n",
              "date                                   ...                                      \n",
              "2017-10-30  60.4   997.1  27.3      0  ...       0         0        0          0\n",
              "2015-06-30  67.1  1015.7   7.1      0  ...       0         0        1          0\n",
              "2018-04-12  42.8  1019.4   9.8      1  ...       0         1        0          0\n",
              "2015-07-12  71.5  1016.1   9.3      0  ...       1         0        0          0\n",
              "2018-03-16  36.1  1000.1  13.5      0  ...       0         0        0          0\n",
              "\n",
              "[5 rows x 22 columns]"
            ]
          },
          "metadata": {
            "tags": []
          },
          "execution_count": 101
        }
      ]
    },
    {
      "cell_type": "code",
      "metadata": {
        "colab": {
          "base_uri": "https://localhost:8080/",
          "height": 728
        },
        "id": "-KFh3m6V3f0p",
        "outputId": "0d3ba8f8-d7d8-4c78-b872-2ea4cfb44a54"
      },
      "source": [
        "X_test.info()\r\n",
        "X_test.head()"
      ],
      "execution_count": 102,
      "outputs": [
        {
          "output_type": "stream",
          "text": [
            "<class 'pandas.core.frame.DataFrame'>\n",
            "Index: 511 entries, 2019-10-27 to 2013-08-17\n",
            "Data columns (total 22 columns):\n",
            " #   Column     Non-Null Count  Dtype  \n",
            "---  ------     --------------  -----  \n",
            " 0   temp       511 non-null    float64\n",
            " 1   slp        511 non-null    float64\n",
            " 2   wdsp       511 non-null    float64\n",
            " 3   April      511 non-null    int64  \n",
            " 4   August     511 non-null    int64  \n",
            " 5   December   511 non-null    int64  \n",
            " 6   February   511 non-null    int64  \n",
            " 7   January    511 non-null    int64  \n",
            " 8   July       511 non-null    int64  \n",
            " 9   June       511 non-null    int64  \n",
            " 10  March      511 non-null    int64  \n",
            " 11  May        511 non-null    int64  \n",
            " 12  November   511 non-null    int64  \n",
            " 13  October    511 non-null    int64  \n",
            " 14  September  511 non-null    int64  \n",
            " 15  Friday     511 non-null    int64  \n",
            " 16  Monday     511 non-null    int64  \n",
            " 17  Saturday   511 non-null    int64  \n",
            " 18  Sunday     511 non-null    int64  \n",
            " 19  Thursday   511 non-null    int64  \n",
            " 20  Tuesday    511 non-null    int64  \n",
            " 21  Wednesday  511 non-null    int64  \n",
            "dtypes: float64(3), int64(19)\n",
            "memory usage: 91.8+ KB\n"
          ],
          "name": "stdout"
        },
        {
          "output_type": "execute_result",
          "data": {
            "text/html": [
              "<div>\n",
              "<style scoped>\n",
              "    .dataframe tbody tr th:only-of-type {\n",
              "        vertical-align: middle;\n",
              "    }\n",
              "\n",
              "    .dataframe tbody tr th {\n",
              "        vertical-align: top;\n",
              "    }\n",
              "\n",
              "    .dataframe thead th {\n",
              "        text-align: right;\n",
              "    }\n",
              "</style>\n",
              "<table border=\"1\" class=\"dataframe\">\n",
              "  <thead>\n",
              "    <tr style=\"text-align: right;\">\n",
              "      <th></th>\n",
              "      <th>temp</th>\n",
              "      <th>slp</th>\n",
              "      <th>wdsp</th>\n",
              "      <th>April</th>\n",
              "      <th>August</th>\n",
              "      <th>December</th>\n",
              "      <th>February</th>\n",
              "      <th>January</th>\n",
              "      <th>July</th>\n",
              "      <th>June</th>\n",
              "      <th>March</th>\n",
              "      <th>May</th>\n",
              "      <th>November</th>\n",
              "      <th>October</th>\n",
              "      <th>September</th>\n",
              "      <th>Friday</th>\n",
              "      <th>Monday</th>\n",
              "      <th>Saturday</th>\n",
              "      <th>Sunday</th>\n",
              "      <th>Thursday</th>\n",
              "      <th>Tuesday</th>\n",
              "      <th>Wednesday</th>\n",
              "    </tr>\n",
              "    <tr>\n",
              "      <th>date</th>\n",
              "      <th></th>\n",
              "      <th></th>\n",
              "      <th></th>\n",
              "      <th></th>\n",
              "      <th></th>\n",
              "      <th></th>\n",
              "      <th></th>\n",
              "      <th></th>\n",
              "      <th></th>\n",
              "      <th></th>\n",
              "      <th></th>\n",
              "      <th></th>\n",
              "      <th></th>\n",
              "      <th></th>\n",
              "      <th></th>\n",
              "      <th></th>\n",
              "      <th></th>\n",
              "      <th></th>\n",
              "      <th></th>\n",
              "      <th></th>\n",
              "      <th></th>\n",
              "      <th></th>\n",
              "    </tr>\n",
              "  </thead>\n",
              "  <tbody>\n",
              "    <tr>\n",
              "      <th>2019-10-27</th>\n",
              "      <td>53.4</td>\n",
              "      <td>1022.7</td>\n",
              "      <td>14.3</td>\n",
              "      <td>0</td>\n",
              "      <td>0</td>\n",
              "      <td>0</td>\n",
              "      <td>0</td>\n",
              "      <td>0</td>\n",
              "      <td>0</td>\n",
              "      <td>0</td>\n",
              "      <td>0</td>\n",
              "      <td>0</td>\n",
              "      <td>0</td>\n",
              "      <td>1</td>\n",
              "      <td>0</td>\n",
              "      <td>0</td>\n",
              "      <td>0</td>\n",
              "      <td>0</td>\n",
              "      <td>1</td>\n",
              "      <td>0</td>\n",
              "      <td>0</td>\n",
              "      <td>0</td>\n",
              "    </tr>\n",
              "    <tr>\n",
              "      <th>2018-01-08</th>\n",
              "      <td>35.0</td>\n",
              "      <td>1023.6</td>\n",
              "      <td>18.3</td>\n",
              "      <td>0</td>\n",
              "      <td>0</td>\n",
              "      <td>0</td>\n",
              "      <td>0</td>\n",
              "      <td>1</td>\n",
              "      <td>0</td>\n",
              "      <td>0</td>\n",
              "      <td>0</td>\n",
              "      <td>0</td>\n",
              "      <td>0</td>\n",
              "      <td>0</td>\n",
              "      <td>0</td>\n",
              "      <td>0</td>\n",
              "      <td>1</td>\n",
              "      <td>0</td>\n",
              "      <td>0</td>\n",
              "      <td>0</td>\n",
              "      <td>0</td>\n",
              "      <td>0</td>\n",
              "    </tr>\n",
              "    <tr>\n",
              "      <th>2018-10-28</th>\n",
              "      <td>56.8</td>\n",
              "      <td>1007.4</td>\n",
              "      <td>13.4</td>\n",
              "      <td>0</td>\n",
              "      <td>0</td>\n",
              "      <td>0</td>\n",
              "      <td>0</td>\n",
              "      <td>0</td>\n",
              "      <td>0</td>\n",
              "      <td>0</td>\n",
              "      <td>0</td>\n",
              "      <td>0</td>\n",
              "      <td>0</td>\n",
              "      <td>1</td>\n",
              "      <td>0</td>\n",
              "      <td>0</td>\n",
              "      <td>0</td>\n",
              "      <td>0</td>\n",
              "      <td>1</td>\n",
              "      <td>0</td>\n",
              "      <td>0</td>\n",
              "      <td>0</td>\n",
              "    </tr>\n",
              "    <tr>\n",
              "      <th>2017-04-23</th>\n",
              "      <td>46.5</td>\n",
              "      <td>1017.3</td>\n",
              "      <td>10.5</td>\n",
              "      <td>1</td>\n",
              "      <td>0</td>\n",
              "      <td>0</td>\n",
              "      <td>0</td>\n",
              "      <td>0</td>\n",
              "      <td>0</td>\n",
              "      <td>0</td>\n",
              "      <td>0</td>\n",
              "      <td>0</td>\n",
              "      <td>0</td>\n",
              "      <td>0</td>\n",
              "      <td>0</td>\n",
              "      <td>0</td>\n",
              "      <td>0</td>\n",
              "      <td>0</td>\n",
              "      <td>1</td>\n",
              "      <td>0</td>\n",
              "      <td>0</td>\n",
              "      <td>0</td>\n",
              "    </tr>\n",
              "    <tr>\n",
              "      <th>2018-11-22</th>\n",
              "      <td>24.9</td>\n",
              "      <td>1022.1</td>\n",
              "      <td>19.2</td>\n",
              "      <td>0</td>\n",
              "      <td>0</td>\n",
              "      <td>0</td>\n",
              "      <td>0</td>\n",
              "      <td>0</td>\n",
              "      <td>0</td>\n",
              "      <td>0</td>\n",
              "      <td>0</td>\n",
              "      <td>0</td>\n",
              "      <td>1</td>\n",
              "      <td>0</td>\n",
              "      <td>0</td>\n",
              "      <td>0</td>\n",
              "      <td>0</td>\n",
              "      <td>0</td>\n",
              "      <td>0</td>\n",
              "      <td>1</td>\n",
              "      <td>0</td>\n",
              "      <td>0</td>\n",
              "    </tr>\n",
              "  </tbody>\n",
              "</table>\n",
              "</div>"
            ],
            "text/plain": [
              "            temp     slp  wdsp  April  ...  Sunday  Thursday  Tuesday  Wednesday\n",
              "date                                   ...                                      \n",
              "2019-10-27  53.4  1022.7  14.3      0  ...       1         0        0          0\n",
              "2018-01-08  35.0  1023.6  18.3      0  ...       0         0        0          0\n",
              "2018-10-28  56.8  1007.4  13.4      0  ...       1         0        0          0\n",
              "2017-04-23  46.5  1017.3  10.5      1  ...       1         0        0          0\n",
              "2018-11-22  24.9  1022.1  19.2      0  ...       0         1        0          0\n",
              "\n",
              "[5 rows x 22 columns]"
            ]
          },
          "metadata": {
            "tags": []
          },
          "execution_count": 102
        }
      ]
    },
    {
      "cell_type": "code",
      "metadata": {
        "colab": {
          "base_uri": "https://localhost:8080/"
        },
        "id": "1GyjrbAe3u-H",
        "outputId": "6c94144d-554f-4028-d57e-19ec9d1a838a"
      },
      "source": [
        "print(f\"\"\"{y_train.head()}\r\n",
        "\r\n",
        "Length: {len(y_train)}\r\n",
        "\"\"\")"
      ],
      "execution_count": 103,
      "outputs": [
        {
          "output_type": "stream",
          "text": [
            "date\n",
            "2017-10-30    0.445346\n",
            "2015-06-30    0.508846\n",
            "2018-04-12    0.516092\n",
            "2015-07-12    0.209363\n",
            "2018-03-16    0.440729\n",
            "Name: collisions, dtype: float64\n",
            "\n",
            "Length: 2044\n",
            "\n"
          ],
          "name": "stdout"
        }
      ]
    },
    {
      "cell_type": "code",
      "metadata": {
        "colab": {
          "base_uri": "https://localhost:8080/"
        },
        "id": "xMxGlbnv3yX4",
        "outputId": "e599cf75-6929-4ff1-8e32-f1a6eabf5e66"
      },
      "source": [
        "print(f\"\"\"{y_test.head()}\r\n",
        "\r\n",
        "Length: {len(y_test)}\r\n",
        "\"\"\")"
      ],
      "execution_count": 104,
      "outputs": [
        {
          "output_type": "stream",
          "text": [
            "date\n",
            "2019-10-27    0.185617\n",
            "2018-01-08    0.583673\n",
            "2018-10-28    0.188135\n",
            "2017-04-23    0.201825\n",
            "2018-11-22    0.046875\n",
            "Name: collisions, dtype: float64\n",
            "\n",
            "Length: 511\n",
            "\n"
          ],
          "name": "stdout"
        }
      ]
    },
    {
      "cell_type": "code",
      "metadata": {
        "id": "6K5BcqCMLJ46"
      },
      "source": [
        "# A scale is not required here, but the constant will be useful in the assignment.\r\n",
        "SCALE_NUM_TRIPS = 1.0"
      ],
      "execution_count": 105,
      "outputs": []
    },
    {
      "cell_type": "markdown",
      "metadata": {
        "id": "EKHgc8dsHNh4"
      },
      "source": [
        "The DNN model is saved in a different directory from the linear model. "
      ]
    },
    {
      "cell_type": "code",
      "metadata": {
        "id": "93ITngGCHMgY"
      },
      "source": [
        "# removes a saved model from the last training attempt.\r\n",
        "shutil.rmtree('/tmp/DNN_house_regression_trained_model', ignore_errors=True)"
      ],
      "execution_count": 106,
      "outputs": []
    },
    {
      "cell_type": "markdown",
      "metadata": {
        "id": "hqkRjQ_lHnjv"
      },
      "source": [
        "The DNN model is then run in a similar manner to the linear regression models in the chosen directory. The Adam Optimizer is again used, centrered bias is set to `False`. The model framework is set up with the training data before being fitted with the training data."
      ]
    },
    {
      "cell_type": "code",
      "metadata": {
        "id": "P2kvOV4uLMsK"
      },
      "source": [
        "# logging for tensorflow\r\n",
        "tf.compat.v1.logging.set_verbosity(tf.compat.v1.logging.INFO)\r\n",
        "\r\n",
        "estimator_dnn = tf.contrib.learn.SKCompat(\r\n",
        "    tf.contrib.learn.DNNRegressor(\r\n",
        "        model_dir='/tmp/DNN_house_regression_trained_model', \r\n",
        "        hidden_units=[20,18,14], \r\n",
        "        optimizer=tf.train.AdamOptimizer(learning_rate=0.01), \r\n",
        "        enable_centered_bias=False, \r\n",
        "        feature_columns=tf.contrib.learn.infer_real_valued_columns_from_input(\r\n",
        "            X_train\r\n",
        "        )\r\n",
        "    )\r\n",
        ")\r\n",
        "\r\n",
        "# Prints a log to show model is starting to train\r\n",
        "print(\"starting to train\");\r\n",
        "\r\n",
        "# Train the model. Pass in predictor values and target values.\r\n",
        "estimator_dnn.fit(X_train, y_train/SCALE_NUM_TRIPS, steps=10000)\r\n",
        "\r\n",
        "# Next, we can check our predictions based on our predictors.\r\n",
        "preds_dnn = estimator_dnn.predict(x=X_test)"
      ],
      "execution_count": null,
      "outputs": []
    },
    {
      "cell_type": "code",
      "metadata": {
        "id": "DtKaYYCwLQ7E"
      },
      "source": [
        "preds2_dnn = pd.DataFrame.from_dict(data=preds_dnn)"
      ],
      "execution_count": 108,
      "outputs": []
    },
    {
      "cell_type": "markdown",
      "metadata": {
        "id": "qSLKF6ZdJfkq"
      },
      "source": [
        "The mean absolute error, mean squared error, and root mean squared error are calculated out as in the linear model."
      ]
    },
    {
      "cell_type": "code",
      "metadata": {
        "colab": {
          "base_uri": "https://localhost:8080/"
        },
        "id": "cjGYVJsl4VFH",
        "outputId": "89a7b655-7be8-4be2-d918-0db23bcfd9a0"
      },
      "source": [
        "print('MAE:', metrics.mean_absolute_error(y_test, preds2_dnn))\r\n",
        "print('MSE:', metrics.mean_squared_error(y_test, preds2_dnn))\r\n",
        "print('RMSE:', np.sqrt(metrics.mean_squared_error(y_test, preds2_dnn)))"
      ],
      "execution_count": 109,
      "outputs": [
        {
          "output_type": "stream",
          "text": [
            "MAE: 0.15060348233269316\n",
            "MSE: 0.03567062843850073\n",
            "RMSE: 0.18886669488954566\n"
          ],
          "name": "stdout"
        }
      ]
    },
    {
      "cell_type": "markdown",
      "metadata": {
        "id": "WBAz2m05Jwd3"
      },
      "source": [
        "The error rates of the Linear model and the DNN model are compared for accuracy in the table below. \r\n",
        "\r\n",
        "Calculation  | Linear Model Result | DNN Model\r\n",
        "--- | --- | ---\r\n",
        "Mean Absolute Error | 0.69 | 0.15\r\n",
        "Mean Squared Error | 0.54 | 0.04\r\n",
        "Root-Mean Squared Error | 0.73 | 0.18\r\n",
        "\r\n",
        "This table shows that the DNN model has a much smaller error than the linear model and so it is much more accurate in reaching a correct result.\r\n",
        "\r\n",
        "The regression model below shows a much stronger gradient and so a stronger relationship between the result `scores` and actual value of collisions. There is an offset to `scores` which further study and refinment of the data might make the model more accurate, like including the year in with the data. "
      ]
    },
    {
      "cell_type": "code",
      "metadata": {
        "colab": {
          "base_uri": "https://localhost:8080/",
          "height": 350
        },
        "id": "zjS5uzdvLVES",
        "outputId": "fe680690-e892-48ae-fdfe-bc615b0afdd4"
      },
      "source": [
        "sns.regplot(y_test,preds2_dnn.scores)"
      ],
      "execution_count": 110,
      "outputs": [
        {
          "output_type": "stream",
          "text": [
            "/usr/local/lib/python3.6/dist-packages/seaborn/_decorators.py:43: FutureWarning: Pass the following variables as keyword args: x, y. From version 0.12, the only valid positional argument will be `data`, and passing other arguments without an explicit keyword will result in an error or misinterpretation.\n",
            "  FutureWarning\n"
          ],
          "name": "stderr"
        },
        {
          "output_type": "execute_result",
          "data": {
            "text/plain": [
              "<matplotlib.axes._subplots.AxesSubplot at 0x7f9c78c0d1d0>"
            ]
          },
          "metadata": {
            "tags": []
          },
          "execution_count": 110
        },
        {
          "output_type": "display_data",
          "data": {
            "image/png": "[encoded data removed]",
            "text/plain": [
              "<Figure size 432x288 with 1 Axes>"
            ]
          },
          "metadata": {
            "tags": [],
            "needs_background": "light"
          }
        }
      ]
    },
    {
      "cell_type": "markdown",
      "metadata": {
        "id": "qOevXK35MbMh"
      },
      "source": [
        "The test collisions minus the predicted collisions gives a distribution of collisions and gives an idea of how accurate the model is at predicting. The azmith of the distribution sits roughtly above zero, and the distribution curve spans out to about +/- 0.6. \r\n",
        "\r\n",
        "The spread of the curve says the model is consistent with the collision dataset and by the peak of the curve being placed above zero means the model most frequently returns a value similar to the collision target."
      ]
    },
    {
      "cell_type": "code",
      "metadata": {
        "colab": {
          "base_uri": "https://localhost:8080/",
          "height": 386
        },
        "id": "LROqhdPvLVhz",
        "outputId": "866e9711-addf-405c-e4a0-2bc61e2e5473"
      },
      "source": [
        "sns.displot(y_test.reset_index(drop=True) - preds2_dnn.scores, kind='kde')"
      ],
      "execution_count": 111,
      "outputs": [
        {
          "output_type": "execute_result",
          "data": {
            "text/plain": [
              "<seaborn.axisgrid.FacetGrid at 0x7f9c78c1b438>"
            ]
          },
          "metadata": {
            "tags": []
          },
          "execution_count": 111
        },
        {
          "output_type": "display_data",
          "data": {
            "image/png": "[encoded data removed]",
            "text/plain": [
              "<Figure size 360x360 with 1 Axes>"
            ]
          },
          "metadata": {
            "tags": [],
            "needs_background": "light"
          }
        }
      ]
    },
    {
      "cell_type": "code",
      "metadata": {
        "id": "IBVMMymDLbM7"
      },
      "source": [
        "#\"Apr\",\"Aug\",\"Dec\",\"Feb\",\"Jan\",\"Jul\",\"Jun\",\"Mar\",\"May\",\"Nov\",\"Oct\",\"Sep\",\"Fri\",\"Mon\",\"Sat\",\"Sun\",\"Thu\",\"Tue\",\"Wed\",\"year\",\"temp\",\"wdsp\",\"NUM_TRIPS\"\r\n",
        "input_dnn = pd.DataFrame.from_dict(data = \r\n",
        "                {\r\n",
        "                    'temp' : [61.8, 31.2, 77.0],\r\n",
        "                    'slp' : [1023, 1002, 985],\r\n",
        "                    'wdsp' : [5.0, 3.0, 8.0],\r\n",
        "                    'April' : [0,0,0],\r\n",
        "                    'August' : [1,0,0],\r\n",
        "                    'December' : [0,1,0],\r\n",
        "                    'February' : [0,0,1],\r\n",
        "                    'Jananuary' : [0,0,0],\r\n",
        "                    'July' : [0,0,0],\r\n",
        "                    'June' : [0,0,0],\r\n",
        "                    'March' : [0,0,0],\r\n",
        "                    'May' : [0,0,0],\r\n",
        "                    'November' : [0,0,0],\r\n",
        "                    'October' : [0,0,0],\r\n",
        "                    'September' : [0,0,0],\r\n",
        "                    'Friday' : [0,0,0],\r\n",
        "                    'Monday' : [1,1,1],\r\n",
        "                    'Saturday' : [0,0,0],\r\n",
        "                    'Sunday' : [0,0,0],\r\n",
        "                    'Thursday' : [0,0,0],\r\n",
        "                    'Tuesday' : [0,0,0],\r\n",
        "                    'Wednesday' : [0,0,0],\r\n",
        "                })\r\n",
        "\r\n",
        "estimator_dnn = tf.contrib.learn.SKCompat(\r\n",
        "    tf.contrib.learn.DNNRegressor(\r\n",
        "        model_dir='/tmp/DNN_house_regression_trained_model', \r\n",
        "        hidden_units=[20,18,14], \r\n",
        "        enable_centered_bias=False, \r\n",
        "        feature_columns=tf.contrib.learn.infer_real_valued_columns_from_input(\r\n",
        "            input_dnn\r\n",
        "          )\r\n",
        "      )\r\n",
        "  )\r\n",
        "\r\n",
        "preds_dnn = estimator_dnn.predict(x=input_dnn)"
      ],
      "execution_count": null,
      "outputs": []
    },
    {
      "cell_type": "markdown",
      "metadata": {
        "id": "Pwe5LAdf7O5x"
      },
      "source": [
        "Using the value of about 900 collisions for the absolute worst case scenario possible, mentioned in assignment 1. The normalized values returns can be multiplied to give a prediction of the suspected number of collisions."
      ]
    },
    {
      "cell_type": "code",
      "metadata": {
        "colab": {
          "base_uri": "https://localhost:8080/"
        },
        "id": "s3juJfDu5EFg",
        "outputId": "a0017423-16b2-41bb-bfb5-a5db2715078f"
      },
      "source": [
        "predslistnorm_dnn = preds_dnn['scores']\r\n",
        "predslistcoll_dnn = preds_dnn['scores']*900\r\n",
        "prednorm_dnn = format(str(predslistnorm_dnn))\r\n",
        "predslistcoll_dnn = format(str(predslistcoll_dnn))\r\n",
        "print(prednorm_dnn)\r\n",
        "print(predslistcoll_dnn)"
      ],
      "execution_count": 113,
      "outputs": [
        {
          "output_type": "stream",
          "text": [
            "[0.4322171  0.42534405 0.47363153]\n",
            "[388.9954  382.80963 426.26837]\n"
          ],
          "name": "stdout"
        }
      ]
    },
    {
      "cell_type": "markdown",
      "metadata": {
        "id": "fNQffJaeLg6Z"
      },
      "source": [
        "For the , you can see below, we are in August, Monday. Where the temperature is 61.8F, sea level pressure of 1023 millibars, and a windspeed of 5 knots will predicts about 389 collisions. \r\n",
        "\r\n",
        "In on a Monday in December, with a temparture of 31.2F, sea level pressure of 1002 millibars, and windspeed of 3 knots 383 collisions, and on a Monday in February, where the temperature is 77F, sea level pressure is 985 millibars and windspeed of 8 knots will see 426 collisions. This may be a value in error but it is also unusual to see a temperature of 77F in February, the average temperature in New York in February being about 42F. \r\n",
        "\r\n",
        "The values returned fit reasonably well with the predicted values of somewhere around 450 to 570, if predicting a little lower than the mean value.\r\n",
        "\r\n",
        "## Conclusion\r\n",
        "\r\n",
        "The linear model is a very simple prediction method that looks for linear relationships between the data and the target and then tries to make a best fitting line to fit all the points. The large errors calculated, around 0.5 - 0.7, show how that the model does not perform well in fitting the data. The issue of its large margin of error is due to its inflexible to more complex data, for instance the oscillating seasonality of weather in annual data. \r\n",
        "\r\n",
        "The deep-learning neural network (DNN) creates a more accurate model. Instead of a linear relationship it creates a complex equation to calculate the result. For instance when the month is included with the data and the DNN recognizes seasonality and compensates the weight with the appropriate bias."
      ]
    }
  ]
}