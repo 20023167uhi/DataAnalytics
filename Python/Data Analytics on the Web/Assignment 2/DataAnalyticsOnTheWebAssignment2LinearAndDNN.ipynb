{
  "nbformat": 4,
  "nbformat_minor": 0,
  "metadata": {
    "colab": {
      "name": "Copy of DataAnalyticsOnTheWebAssignment2LinearAndDNN.ipynb",
      "provenance": [],
      "collapsed_sections": []
    },
    "kernelspec": {
      "name": "python3",
      "display_name": "Python 3"
    }
  },
  "cells": [
    {
      "cell_type": "markdown",
      "metadata": {
        "id": "4w9sEQx-NFJv"
      },
      "source": [
        "# Machine Learning Assignment\r\n",
        "\r\n",
        "Machine learning is a method to create a computer model that can make predictions on data by matching historical data to historical results. A seperate set of historical predictors and targets can then be tested to see how accurate the the model results compare to the second set of targets. \r\n",
        "\r\n",
        "In this assignment these two sets of data will be called `_train` and `_test`. The `_train` data will be used to train the model for prediction and the `_test` data will be used to prove the accuracy of the model. The prediction data is `X` and the target is `y`.\r\n",
        "\r\n",
        "The two models looked at will be the Linear Model and the Deep Neural Network model. The linear model looks at the data and tries to fit a linear relationship between the data and results. The neural network will generate a series of nodes to create a function that will return the correct solution based on biasing the layers of nodes.\r\n",
        "\r\n",
        "## Linear Model\r\n",
        "\r\n",
        "The linear regression model is a model that looks at data and looks for a correlation between the predictors and the target and tried to best fit a line. \r\n",
        "\r\n",
        "A simple example might be in Scotland as summer progresses to winter the temperature begins to drop. The temperature will generally drop, it won't be exactly linear and some days might be warmer than others but over all a drop in temerature with the lead up to winter will happen. This will come across as a negative correlation, where as a positive correlation will be the temperature rising as winter progresses back to summer. The model created is similar to the math equation `y = mX + c`.\r\n",
        "\r\n",
        "From that simple model based on date and temperature one can make predictions and preperations like storing food or getting warmer insulation for winter.\r\n",
        "\r\n",
        "In this assignment instead of the temperature being the target, based on date, the number of collisions in New York is the target, and the predictions will be made based on the weekday `weekday_num`, temperature `temp`, sea level pressure `slp`, and wind speed `wdsp`.\r\n",
        "\r\n",
        "The data being used is based on the data that was cleaned in [assignment 1](https://github.com/20023167uhi/DataAnalytics/blob/main/Python/Data%20Analytics%20on%20the%20Web/Assignment%201/DataAnalyticsOnTheWebAssignment.ipynb). The data is imported from the git repository and checked with the `.info()` function and the `.head()` function just to make sure  it has imported correctly."
      ]
    },
    {
      "cell_type": "code",
      "metadata": {
        "id": "2p-7cPGENClE",
        "colab": {
          "base_uri": "https://localhost:8080/",
          "height": 266
        },
        "outputId": "1cea57aa-fdbb-422f-da2f-9bcee8d6ce1d"
      },
      "source": [
        "# needed to create the data frame\n",
        "import pandas as pd\n",
        "\n",
        "# create data frame from csv file we hosted on our github\n",
        "df_linear = pd.read_csv('https://raw.githubusercontent.com/20023167uhi/DataAnalytics/main/Python/Data%20Analytics%20on%20the%20Web/Assignment%201/Data/Tom_Blackwood-Linear-Weather_and_Collision_data_for_New_York_boroughs_2012-2020.csv', index_col=0, )\n",
        "\n",
        "# Make sure we have our data by printing the head of it out\n",
        "df_linear.head(6)"
      ],
      "execution_count": null,
      "outputs": [
        {
          "output_type": "execute_result",
          "data": {
            "text/html": [
              "<div>\n",
              "<style scoped>\n",
              "    .dataframe tbody tr th:only-of-type {\n",
              "        vertical-align: middle;\n",
              "    }\n",
              "\n",
              "    .dataframe tbody tr th {\n",
              "        vertical-align: top;\n",
              "    }\n",
              "\n",
              "    .dataframe thead th {\n",
              "        text-align: right;\n",
              "    }\n",
              "</style>\n",
              "<table border=\"1\" class=\"dataframe\">\n",
              "  <thead>\n",
              "    <tr style=\"text-align: right;\">\n",
              "      <th></th>\n",
              "      <th>weekday_num</th>\n",
              "      <th>temp</th>\n",
              "      <th>slp</th>\n",
              "      <th>wdsp</th>\n",
              "      <th>collisions</th>\n",
              "    </tr>\n",
              "    <tr>\n",
              "      <th>date</th>\n",
              "      <th></th>\n",
              "      <th></th>\n",
              "      <th></th>\n",
              "      <th></th>\n",
              "      <th></th>\n",
              "    </tr>\n",
              "  </thead>\n",
              "  <tbody>\n",
              "    <tr>\n",
              "      <th>2013-01-01</th>\n",
              "      <td>2</td>\n",
              "      <td>38.0</td>\n",
              "      <td>1008.8</td>\n",
              "      <td>15.0</td>\n",
              "      <td>0.097222</td>\n",
              "    </tr>\n",
              "    <tr>\n",
              "      <th>2013-01-02</th>\n",
              "      <td>3</td>\n",
              "      <td>27.5</td>\n",
              "      <td>1013.4</td>\n",
              "      <td>12.4</td>\n",
              "      <td>0.498747</td>\n",
              "    </tr>\n",
              "    <tr>\n",
              "      <th>2013-01-03</th>\n",
              "      <td>4</td>\n",
              "      <td>21.8</td>\n",
              "      <td>1018.1</td>\n",
              "      <td>9.8</td>\n",
              "      <td>0.527430</td>\n",
              "    </tr>\n",
              "    <tr>\n",
              "      <th>2013-01-04</th>\n",
              "      <td>5</td>\n",
              "      <td>32.2</td>\n",
              "      <td>1015.2</td>\n",
              "      <td>11.3</td>\n",
              "      <td>0.645503</td>\n",
              "    </tr>\n",
              "    <tr>\n",
              "      <th>2013-01-05</th>\n",
              "      <td>6</td>\n",
              "      <td>37.3</td>\n",
              "      <td>1017.3</td>\n",
              "      <td>13.2</td>\n",
              "      <td>0.095238</td>\n",
              "    </tr>\n",
              "    <tr>\n",
              "      <th>2013-01-06</th>\n",
              "      <td>0</td>\n",
              "      <td>35.7</td>\n",
              "      <td>1019.7</td>\n",
              "      <td>5.9</td>\n",
              "      <td>0.118056</td>\n",
              "    </tr>\n",
              "  </tbody>\n",
              "</table>\n",
              "</div>"
            ],
            "text/plain": [
              "            weekday_num  temp     slp  wdsp  collisions\n",
              "date                                                   \n",
              "2013-01-01            2  38.0  1008.8  15.0    0.097222\n",
              "2013-01-02            3  27.5  1013.4  12.4    0.498747\n",
              "2013-01-03            4  21.8  1018.1   9.8    0.527430\n",
              "2013-01-04            5  32.2  1015.2  11.3    0.645503\n",
              "2013-01-05            6  37.3  1017.3  13.2    0.095238\n",
              "2013-01-06            0  35.7  1019.7   5.9    0.118056"
            ]
          },
          "metadata": {
            "tags": []
          },
          "execution_count": 1
        }
      ]
    },
    {
      "cell_type": "code",
      "metadata": {
        "colab": {
          "base_uri": "https://localhost:8080/"
        },
        "id": "PMWN8zxXwjrr",
        "outputId": "5acfcef0-e081-489d-a07f-0717f6f4452c"
      },
      "source": [
        "df_linear.info()"
      ],
      "execution_count": null,
      "outputs": [
        {
          "output_type": "stream",
          "text": [
            "<class 'pandas.core.frame.DataFrame'>\n",
            "Index: 2555 entries, 2013-01-01 to 2019-12-31\n",
            "Data columns (total 5 columns):\n",
            " #   Column       Non-Null Count  Dtype  \n",
            "---  ------       --------------  -----  \n",
            " 0   weekday_num  2555 non-null   int64  \n",
            " 1   temp         2555 non-null   float64\n",
            " 2   slp          2555 non-null   float64\n",
            " 3   wdsp         2555 non-null   float64\n",
            " 4   collisions   2555 non-null   float64\n",
            "dtypes: float64(4), int64(1)\n",
            "memory usage: 119.8+ KB\n"
          ],
          "name": "stdout"
        }
      ]
    },
    {
      "cell_type": "markdown",
      "metadata": {
        "id": "oRXsdvY40c86"
      },
      "source": [
        "Next to prepare the data for the machine learning, the dataset is split between the predictors `X` and targets `y` and split into model training `X_train` and `y_train` and model testing sets `X_test` and `y_test`.\r\n",
        "\r\n",
        "The library Science-Kit Learn, `sklearn` has a `model_selection` library where `train_test_split` can be imported to split the data between a training set and a testing set.\r\n",
        "\r\n",
        "What it does is randomly shuffle both datasets, keeping the predictors and target rows matched in the shuffle, and selects the test size based on the value inputted in `test_size`. The shuffled random state can be seeded using `random_state`."
      ]
    },
    {
      "cell_type": "code",
      "metadata": {
        "id": "dpHA6AEUBrke"
      },
      "source": [
        "# needed to help with speedy maths based calculations\r\n",
        "import numpy as np\r\n",
        "from sklearn.model_selection import train_test_split\r\n",
        "\r\n",
        "X = df_linear.iloc[:, :-1]\r\n",
        "y = df_linear.iloc[:,-1]\r\n",
        "\r\n",
        "X_train, X_test, y_train, y_test = train_test_split(X, y, test_size = 0.2, random_state = 101)"
      ],
      "execution_count": null,
      "outputs": []
    },
    {
      "cell_type": "markdown",
      "metadata": {
        "id": "EegWCRWwHPKO"
      },
      "source": [
        "The predictor dataset for `_train` and `_test` looks like:"
      ]
    },
    {
      "cell_type": "code",
      "metadata": {
        "colab": {
          "base_uri": "https://localhost:8080/",
          "height": 422
        },
        "id": "6H0eAT5EC4Vm",
        "outputId": "cd55987a-bc8e-495e-dac9-6c51f495e984"
      },
      "source": [
        "X_train.info()\r\n",
        "X_train.head()"
      ],
      "execution_count": null,
      "outputs": [
        {
          "output_type": "stream",
          "text": [
            "<class 'pandas.core.frame.DataFrame'>\n",
            "Index: 2044 entries, 2017-10-30 to 2015-05-14\n",
            "Data columns (total 4 columns):\n",
            " #   Column       Non-Null Count  Dtype  \n",
            "---  ------       --------------  -----  \n",
            " 0   weekday_num  2044 non-null   int64  \n",
            " 1   temp         2044 non-null   float64\n",
            " 2   slp          2044 non-null   float64\n",
            " 3   wdsp         2044 non-null   float64\n",
            "dtypes: float64(3), int64(1)\n",
            "memory usage: 79.8+ KB\n"
          ],
          "name": "stdout"
        },
        {
          "output_type": "execute_result",
          "data": {
            "text/html": [
              "<div>\n",
              "<style scoped>\n",
              "    .dataframe tbody tr th:only-of-type {\n",
              "        vertical-align: middle;\n",
              "    }\n",
              "\n",
              "    .dataframe tbody tr th {\n",
              "        vertical-align: top;\n",
              "    }\n",
              "\n",
              "    .dataframe thead th {\n",
              "        text-align: right;\n",
              "    }\n",
              "</style>\n",
              "<table border=\"1\" class=\"dataframe\">\n",
              "  <thead>\n",
              "    <tr style=\"text-align: right;\">\n",
              "      <th></th>\n",
              "      <th>weekday_num</th>\n",
              "      <th>temp</th>\n",
              "      <th>slp</th>\n",
              "      <th>wdsp</th>\n",
              "    </tr>\n",
              "    <tr>\n",
              "      <th>date</th>\n",
              "      <th></th>\n",
              "      <th></th>\n",
              "      <th></th>\n",
              "      <th></th>\n",
              "    </tr>\n",
              "  </thead>\n",
              "  <tbody>\n",
              "    <tr>\n",
              "      <th>2017-10-30</th>\n",
              "      <td>1</td>\n",
              "      <td>60.4</td>\n",
              "      <td>997.1</td>\n",
              "      <td>27.3</td>\n",
              "    </tr>\n",
              "    <tr>\n",
              "      <th>2015-06-30</th>\n",
              "      <td>2</td>\n",
              "      <td>67.1</td>\n",
              "      <td>1015.7</td>\n",
              "      <td>7.1</td>\n",
              "    </tr>\n",
              "    <tr>\n",
              "      <th>2018-04-12</th>\n",
              "      <td>4</td>\n",
              "      <td>42.8</td>\n",
              "      <td>1019.4</td>\n",
              "      <td>9.8</td>\n",
              "    </tr>\n",
              "    <tr>\n",
              "      <th>2015-07-12</th>\n",
              "      <td>0</td>\n",
              "      <td>71.5</td>\n",
              "      <td>1016.1</td>\n",
              "      <td>9.3</td>\n",
              "    </tr>\n",
              "    <tr>\n",
              "      <th>2018-03-16</th>\n",
              "      <td>5</td>\n",
              "      <td>36.1</td>\n",
              "      <td>1000.1</td>\n",
              "      <td>13.5</td>\n",
              "    </tr>\n",
              "  </tbody>\n",
              "</table>\n",
              "</div>"
            ],
            "text/plain": [
              "            weekday_num  temp     slp  wdsp\n",
              "date                                       \n",
              "2017-10-30            1  60.4   997.1  27.3\n",
              "2015-06-30            2  67.1  1015.7   7.1\n",
              "2018-04-12            4  42.8  1019.4   9.8\n",
              "2015-07-12            0  71.5  1016.1   9.3\n",
              "2018-03-16            5  36.1  1000.1  13.5"
            ]
          },
          "metadata": {
            "tags": []
          },
          "execution_count": 4
        }
      ]
    },
    {
      "cell_type": "code",
      "metadata": {
        "colab": {
          "base_uri": "https://localhost:8080/",
          "height": 422
        },
        "id": "de9-ANVXDBw-",
        "outputId": "d978446e-505d-4905-9f50-587046e5ecd7"
      },
      "source": [
        "X_test.info()\r\n",
        "X_test.head()"
      ],
      "execution_count": null,
      "outputs": [
        {
          "output_type": "stream",
          "text": [
            "<class 'pandas.core.frame.DataFrame'>\n",
            "Index: 511 entries, 2019-10-27 to 2013-08-17\n",
            "Data columns (total 4 columns):\n",
            " #   Column       Non-Null Count  Dtype  \n",
            "---  ------       --------------  -----  \n",
            " 0   weekday_num  511 non-null    int64  \n",
            " 1   temp         511 non-null    float64\n",
            " 2   slp          511 non-null    float64\n",
            " 3   wdsp         511 non-null    float64\n",
            "dtypes: float64(3), int64(1)\n",
            "memory usage: 20.0+ KB\n"
          ],
          "name": "stdout"
        },
        {
          "output_type": "execute_result",
          "data": {
            "text/html": [
              "<div>\n",
              "<style scoped>\n",
              "    .dataframe tbody tr th:only-of-type {\n",
              "        vertical-align: middle;\n",
              "    }\n",
              "\n",
              "    .dataframe tbody tr th {\n",
              "        vertical-align: top;\n",
              "    }\n",
              "\n",
              "    .dataframe thead th {\n",
              "        text-align: right;\n",
              "    }\n",
              "</style>\n",
              "<table border=\"1\" class=\"dataframe\">\n",
              "  <thead>\n",
              "    <tr style=\"text-align: right;\">\n",
              "      <th></th>\n",
              "      <th>weekday_num</th>\n",
              "      <th>temp</th>\n",
              "      <th>slp</th>\n",
              "      <th>wdsp</th>\n",
              "    </tr>\n",
              "    <tr>\n",
              "      <th>date</th>\n",
              "      <th></th>\n",
              "      <th></th>\n",
              "      <th></th>\n",
              "      <th></th>\n",
              "    </tr>\n",
              "  </thead>\n",
              "  <tbody>\n",
              "    <tr>\n",
              "      <th>2019-10-27</th>\n",
              "      <td>0</td>\n",
              "      <td>53.4</td>\n",
              "      <td>1022.7</td>\n",
              "      <td>14.3</td>\n",
              "    </tr>\n",
              "    <tr>\n",
              "      <th>2018-01-08</th>\n",
              "      <td>1</td>\n",
              "      <td>35.0</td>\n",
              "      <td>1023.6</td>\n",
              "      <td>18.3</td>\n",
              "    </tr>\n",
              "    <tr>\n",
              "      <th>2018-10-28</th>\n",
              "      <td>0</td>\n",
              "      <td>56.8</td>\n",
              "      <td>1007.4</td>\n",
              "      <td>13.4</td>\n",
              "    </tr>\n",
              "    <tr>\n",
              "      <th>2017-04-23</th>\n",
              "      <td>0</td>\n",
              "      <td>46.5</td>\n",
              "      <td>1017.3</td>\n",
              "      <td>10.5</td>\n",
              "    </tr>\n",
              "    <tr>\n",
              "      <th>2018-11-22</th>\n",
              "      <td>4</td>\n",
              "      <td>24.9</td>\n",
              "      <td>1022.1</td>\n",
              "      <td>19.2</td>\n",
              "    </tr>\n",
              "  </tbody>\n",
              "</table>\n",
              "</div>"
            ],
            "text/plain": [
              "            weekday_num  temp     slp  wdsp\n",
              "date                                       \n",
              "2019-10-27            0  53.4  1022.7  14.3\n",
              "2018-01-08            1  35.0  1023.6  18.3\n",
              "2018-10-28            0  56.8  1007.4  13.4\n",
              "2017-04-23            0  46.5  1017.3  10.5\n",
              "2018-11-22            4  24.9  1022.1  19.2"
            ]
          },
          "metadata": {
            "tags": []
          },
          "execution_count": 5
        }
      ]
    },
    {
      "cell_type": "markdown",
      "metadata": {
        "id": "4A8XX9XwHuAo"
      },
      "source": [
        "And the target `_train` and `_test` datasets look like:"
      ]
    },
    {
      "cell_type": "code",
      "metadata": {
        "colab": {
          "base_uri": "https://localhost:8080/"
        },
        "id": "gW4xrW-AHHPY",
        "outputId": "5e52a6cc-41f4-4203-c522-d2622d45e777"
      },
      "source": [
        "\r\n",
        "print(f\"\"\"Train:\r\n",
        "{y_train.head()}\r\n",
        "\r\n",
        "Length: {len(y_train)}\"\"\")"
      ],
      "execution_count": null,
      "outputs": [
        {
          "output_type": "stream",
          "text": [
            "Train:\n",
            "date\n",
            "2017-10-30    0.445346\n",
            "2015-06-30    0.508846\n",
            "2018-04-12    0.516092\n",
            "2015-07-12    0.209363\n",
            "2018-03-16    0.440729\n",
            "Name: collisions, dtype: float64\n",
            "\n",
            "Length: 2044\n"
          ],
          "name": "stdout"
        }
      ]
    },
    {
      "cell_type": "code",
      "metadata": {
        "colab": {
          "base_uri": "https://localhost:8080/"
        },
        "id": "zjTaZ3lxLOBB",
        "outputId": "8f11956c-eb41-4183-9794-e489dbbe08fb"
      },
      "source": [
        "\r\n",
        "print(f\"\"\"Test:\r\n",
        "{y_test.head()}\r\n",
        "\r\n",
        "Length: Length: {len(y_test)}\"\"\")"
      ],
      "execution_count": null,
      "outputs": [
        {
          "output_type": "stream",
          "text": [
            "Test:\n",
            "date\n",
            "2019-10-27    0.185617\n",
            "2018-01-08    0.583673\n",
            "2018-10-28    0.188135\n",
            "2017-04-23    0.201825\n",
            "2018-11-22    0.046875\n",
            "Name: collisions, dtype: float64\n",
            "\n",
            "Length: Length: 511\n"
          ],
          "name": "stdout"
        }
      ]
    },
    {
      "cell_type": "code",
      "metadata": {
        "id": "xbgNNZYkPkCA"
      },
      "source": [
        "# A scale is not required here, but the constant will be useful in the assignment.\n",
        "SCALE_NUM_TRIPS = 1.0"
      ],
      "execution_count": null,
      "outputs": []
    },
    {
      "cell_type": "markdown",
      "metadata": {
        "id": "q0G2SDqX3ViC"
      },
      "source": [
        "The data is now seperated and ready to be processed.\r\n",
        "\r\n",
        "The library being used to create the model is `TensorFlow`."
      ]
    },
    {
      "cell_type": "code",
      "metadata": {
        "colab": {
          "base_uri": "https://localhost:8080/"
        },
        "id": "flIYx_LVISQ9",
        "outputId": "198404fe-109d-401d-f2ea-47992aba34d5"
      },
      "source": [
        "# import tensorflow\r\n",
        "%tensorflow_version 1.x\r\n",
        "import tensorflow as tf\r\n",
        "\r\n",
        "# check the version\r\n",
        "print(tf.__version__)\r\n",
        "\r\n",
        "# logging for tensorflow\r\n",
        "tf.compat.v1.logging.set_verbosity(tf.compat.v1.logging.INFO)"
      ],
      "execution_count": null,
      "outputs": [
        {
          "output_type": "stream",
          "text": [
            "TensorFlow 1.x selected.\n",
            "1.15.2\n"
          ],
          "name": "stdout"
        }
      ]
    },
    {
      "cell_type": "markdown",
      "metadata": {
        "id": "2Z18JXu7ISq-"
      },
      "source": [
        "The `shutil` library is imported to work with high-level file operations. It is used to remove and delete the temporary folder any previous linear regressor models run have been saved to."
      ]
    },
    {
      "cell_type": "code",
      "metadata": {
        "id": "maFRZkDkQdpA"
      },
      "source": [
        "# needed for high-level file management\n",
        "import shutil  \n",
        "\n",
        "# removes a saved model from the last training attempt.\n",
        "shutil.rmtree('/tmp/linear_regression_trained_model', ignore_errors=True)"
      ],
      "execution_count": null,
      "outputs": []
    },
    {
      "cell_type": "markdown",
      "metadata": {
        "id": "OjPxqieoMBDf"
      },
      "source": [
        "The parameters of the TensorFlow model are set up before running the 'fitting' to create the model. The directory is set using `model_directory` to store the model in `/tmp/linear_regression_trained_model`. The optimizing algartithm is set to Adam which is developed from the stochastic gradient descent. This optimizer has been more broadly adapted for deep learning applications in computer vision and natural language processing. The model infers real values from the input columns and interprets them as dense fixed length floating values. "
      ]
    },
    {
      "cell_type": "code",
      "metadata": {
        "colab": {
          "base_uri": "https://localhost:8080/"
        },
        "id": "gKmM_ITrJ3XZ",
        "outputId": "e426608b-8988-4e6e-8a4e-b10fbc0c00a6"
      },
      "source": [
        "# See the link for more information\r\n",
        "# https://www.tensorflow.org/versions/r1.15/api_docs/python/tf/contrib/learn/LinearRegressor\r\n",
        "estimator_linear = tf.contrib.learn.SKCompat(\r\n",
        "    tf.contrib.learn.LinearRegressor(\r\n",
        "        model_dir='/tmp/linear_regression_trained_model', \r\n",
        "        optimizer=tf.train.AdamOptimizer(learning_rate=0.1), \r\n",
        "        enable_centered_bias=False, \r\n",
        "        feature_columns=tf.contrib.learn.infer_real_valued_columns_from_input(X_train)\r\n",
        "      )\r\n",
        "  )"
      ],
      "execution_count": null,
      "outputs": [
        {
          "output_type": "stream",
          "text": [
            "WARNING:tensorflow:\n",
            "The TensorFlow contrib module will not be included in TensorFlow 2.0.\n",
            "For more information, please see:\n",
            "  * https://github.com/tensorflow/community/blob/master/rfcs/20180907-contrib-sunset.md\n",
            "  * https://github.com/tensorflow/addons\n",
            "  * https://github.com/tensorflow/io (for I/O related ops)\n",
            "If you depend on functionality not listed there, please file an issue.\n",
            "\n",
            "WARNING:tensorflow:From <ipython-input-11-d5af0bc6a902>:8: infer_real_valued_columns_from_input (from tensorflow.contrib.learn.python.learn.estimators.estimator) is deprecated and will be removed in a future version.\n",
            "Instructions for updating:\n",
            "Please specify feature columns explicitly.\n",
            "WARNING:tensorflow:From /tensorflow-1.15.2/python3.6/tensorflow_core/contrib/learn/python/learn/estimators/estimator.py:143: setup_train_data_feeder (from tensorflow.contrib.learn.python.learn.learn_io.data_feeder) is deprecated and will be removed in a future version.\n",
            "Instructions for updating:\n",
            "Please use tensorflow/transform or tf.data.\n",
            "WARNING:tensorflow:From /tensorflow-1.15.2/python3.6/tensorflow_core/contrib/learn/python/learn/learn_io/data_feeder.py:100: extract_pandas_data (from tensorflow.contrib.learn.python.learn.learn_io.pandas_io) is deprecated and will be removed in a future version.\n",
            "Instructions for updating:\n",
            "Please access pandas data directly.\n",
            "WARNING:tensorflow:From /tensorflow-1.15.2/python3.6/tensorflow_core/contrib/learn/python/learn/learn_io/data_feeder.py:159: DataFeeder.__init__ (from tensorflow.contrib.learn.python.learn.learn_io.data_feeder) is deprecated and will be removed in a future version.\n",
            "Instructions for updating:\n",
            "Please use tensorflow/transform or tf.data.\n",
            "WARNING:tensorflow:From /tensorflow-1.15.2/python3.6/tensorflow_core/contrib/learn/python/learn/learn_io/data_feeder.py:340: check_array (from tensorflow.contrib.learn.python.learn.learn_io.data_feeder) is deprecated and will be removed in a future version.\n",
            "Instructions for updating:\n",
            "Please convert numpy dtypes explicitly.\n",
            "WARNING:tensorflow:float64 is not supported by many models, consider casting to float32.\n",
            "WARNING:tensorflow:From /tensorflow-1.15.2/python3.6/tensorflow_core/contrib/learn/python/learn/estimators/estimator.py:183: infer_real_valued_columns_from_input_fn (from tensorflow.contrib.learn.python.learn.estimators.estimator) is deprecated and will be removed in a future version.\n",
            "Instructions for updating:\n",
            "Please specify feature columns explicitly.\n",
            "WARNING:tensorflow:From /tensorflow-1.15.2/python3.6/tensorflow_core/contrib/learn/python/learn/estimators/linear.py:740: regression_head (from tensorflow.contrib.learn.python.learn.estimators.head) is deprecated and will be removed in a future version.\n",
            "Instructions for updating:\n",
            "Please switch to tf.contrib.estimator.*_head.\n",
            "WARNING:tensorflow:From /tensorflow-1.15.2/python3.6/tensorflow_core/contrib/learn/python/learn/estimators/estimator.py:1180: BaseEstimator.__init__ (from tensorflow.contrib.learn.python.learn.estimators.estimator) is deprecated and will be removed in a future version.\n",
            "Instructions for updating:\n",
            "Please replace uses of any Estimator from tf.contrib.learn with an Estimator from tf.estimator.*\n",
            "WARNING:tensorflow:From /tensorflow-1.15.2/python3.6/tensorflow_core/contrib/learn/python/learn/estimators/estimator.py:427: RunConfig.__init__ (from tensorflow.contrib.learn.python.learn.estimators.run_config) is deprecated and will be removed in a future version.\n",
            "Instructions for updating:\n",
            "When switching to tf.estimator.Estimator, use tf.estimator.RunConfig instead.\n",
            "INFO:tensorflow:Using default config.\n",
            "INFO:tensorflow:Using config: {'_task_type': None, '_task_id': 0, '_cluster_spec': <tensorflow.python.training.server_lib.ClusterSpec object at 0x7fa0e360a9e8>, '_master': '', '_num_ps_replicas': 0, '_num_worker_replicas': 0, '_environment': 'local', '_is_chief': True, '_evaluation_master': '', '_train_distribute': None, '_eval_distribute': None, '_experimental_max_worker_delay_secs': None, '_device_fn': None, '_tf_config': gpu_options {\n",
            "  per_process_gpu_memory_fraction: 1.0\n",
            "}\n",
            ", '_tf_random_seed': None, '_save_summary_steps': 100, '_save_checkpoints_secs': 600, '_log_step_count_steps': 100, '_protocol': None, '_session_config': None, '_save_checkpoints_steps': None, '_keep_checkpoint_max': 5, '_keep_checkpoint_every_n_hours': 10000, '_model_dir': '/tmp/linear_regression_trained_model', '_session_creation_timeout_secs': 7200}\n",
            "WARNING:tensorflow:From <ipython-input-11-d5af0bc6a902>:8: SKCompat.__init__ (from tensorflow.contrib.learn.python.learn.estimators.estimator) is deprecated and will be removed in a future version.\n",
            "Instructions for updating:\n",
            "Please switch to the Estimator interface.\n"
          ],
          "name": "stdout"
        }
      ]
    },
    {
      "cell_type": "markdown",
      "metadata": {
        "id": "D1o2V7mPRzFO"
      },
      "source": [
        "The model is ready to be fitted with the training `_train` data. The `.fit()` command is used to do this, and train the model with a set number of `steps`, in this case `10,000`."
      ]
    },
    {
      "cell_type": "code",
      "metadata": {
        "id": "LD0DOQ3hJ-ER",
        "colab": {
          "base_uri": "https://localhost:8080/"
        },
        "outputId": "2117eb60-c351-4941-eb69-f985e5d8fc0b"
      },
      "source": [
        "# Prints a log to show model is starting to train\r\n",
        "print(\"starting to train\");\r\n",
        "\r\n",
        "# Train the model. Pass in predictor values and target values.\r\n",
        "estimator_linear.fit(X_train, y_train/SCALE_NUM_TRIPS, steps=10000)"
      ],
      "execution_count": null,
      "outputs": [
        {
          "output_type": "stream",
          "text": [
            "starting to train\n",
            "WARNING:tensorflow:From /tensorflow-1.15.2/python3.6/tensorflow_core/contrib/learn/python/learn/learn_io/data_feeder.py:102: extract_pandas_labels (from tensorflow.contrib.learn.python.learn.learn_io.pandas_io) is deprecated and will be removed in a future version.\n",
            "Instructions for updating:\n",
            "Please access pandas data directly.\n",
            "WARNING:tensorflow:float64 is not supported by many models, consider casting to float32.\n",
            "WARNING:tensorflow:float64 is not supported by many models, consider casting to float32.\n",
            "WARNING:tensorflow:From /tensorflow-1.15.2/python3.6/tensorflow_core/python/training/training_util.py:236: Variable.initialized_value (from tensorflow.python.ops.variables) is deprecated and will be removed in a future version.\n",
            "Instructions for updating:\n",
            "Use Variable.read_value. Variables in 2.X are initialized automatically both in eager and graph (inside tf.defun) contexts.\n",
            "WARNING:tensorflow:From /tensorflow-1.15.2/python3.6/tensorflow_core/contrib/learn/python/learn/estimators/head.py:678: ModelFnOps.__new__ (from tensorflow.contrib.learn.python.learn.estimators.model_fn) is deprecated and will be removed in a future version.\n",
            "Instructions for updating:\n",
            "When switching to tf.estimator.Estimator, use tf.estimator.EstimatorSpec. You can use the `estimator_spec` method to create an equivalent one.\n",
            "INFO:tensorflow:Create CheckpointSaverHook.\n",
            "WARNING:tensorflow:From /tensorflow-1.15.2/python3.6/tensorflow_core/python/ops/array_ops.py:1475: where (from tensorflow.python.ops.array_ops) is deprecated and will be removed in a future version.\n",
            "Instructions for updating:\n",
            "Use tf.where in 2.0, which has the same broadcast rule as np.where\n",
            "INFO:tensorflow:Graph was finalized.\n",
            "INFO:tensorflow:Running local_init_op.\n",
            "INFO:tensorflow:Done running local_init_op.\n",
            "INFO:tensorflow:Saving checkpoints for 0 into /tmp/linear_regression_trained_model/model.ckpt.\n",
            "INFO:tensorflow:loss = 0.23960131, step = 1\n",
            "WARNING:tensorflow:It seems that global step (tf.train.get_global_step) has not been increased. Current value (could be stable): 51 vs previous value: 51. You could increase the global step by passing tf.train.get_global_step() to Optimizer.apply_gradients or Optimizer.minimize.\n",
            "INFO:tensorflow:global_step/sec: 373.26\n",
            "INFO:tensorflow:loss = 0.33918944, step = 101 (0.270 sec)\n",
            "WARNING:tensorflow:It seems that global step (tf.train.get_global_step) has not been increased. Current value (could be stable): 107 vs previous value: 107. You could increase the global step by passing tf.train.get_global_step() to Optimizer.apply_gradients or Optimizer.minimize.\n",
            "INFO:tensorflow:global_step/sec: 408.349\n",
            "INFO:tensorflow:loss = 0.050391547, step = 201 (0.245 sec)\n",
            "WARNING:tensorflow:It seems that global step (tf.train.get_global_step) has not been increased. Current value (could be stable): 266 vs previous value: 266. You could increase the global step by passing tf.train.get_global_step() to Optimizer.apply_gradients or Optimizer.minimize.\n",
            "INFO:tensorflow:global_step/sec: 406.834\n",
            "INFO:tensorflow:loss = 0.046773598, step = 301 (0.248 sec)\n",
            "INFO:tensorflow:global_step/sec: 405.071\n",
            "INFO:tensorflow:loss = 0.04830407, step = 401 (0.244 sec)\n",
            "INFO:tensorflow:global_step/sec: 408.288\n",
            "INFO:tensorflow:loss = 0.047821403, step = 501 (0.246 sec)\n",
            "INFO:tensorflow:global_step/sec: 393.296\n",
            "INFO:tensorflow:loss = 0.0447378, step = 601 (0.256 sec)\n",
            "INFO:tensorflow:global_step/sec: 397.396\n",
            "INFO:tensorflow:loss = 0.0515527, step = 701 (0.250 sec)\n",
            "INFO:tensorflow:global_step/sec: 394.208\n",
            "INFO:tensorflow:loss = 0.05761868, step = 801 (0.256 sec)\n",
            "INFO:tensorflow:global_step/sec: 409.304\n",
            "INFO:tensorflow:loss = 0.100081205, step = 901 (0.241 sec)\n",
            "INFO:tensorflow:global_step/sec: 401.368\n",
            "INFO:tensorflow:loss = 0.04422626, step = 1001 (0.251 sec)\n",
            "INFO:tensorflow:global_step/sec: 412.31\n",
            "INFO:tensorflow:loss = 0.05437599, step = 1101 (0.242 sec)\n",
            "INFO:tensorflow:global_step/sec: 408.156\n",
            "INFO:tensorflow:loss = 0.123798944, step = 1201 (0.244 sec)\n",
            "INFO:tensorflow:global_step/sec: 374.595\n",
            "INFO:tensorflow:loss = 0.10364188, step = 1301 (0.267 sec)\n",
            "INFO:tensorflow:global_step/sec: 406.205\n",
            "INFO:tensorflow:loss = 0.06454007, step = 1401 (0.246 sec)\n",
            "INFO:tensorflow:global_step/sec: 405.614\n",
            "INFO:tensorflow:loss = 0.06766499, step = 1501 (0.250 sec)\n",
            "INFO:tensorflow:global_step/sec: 414.884\n",
            "INFO:tensorflow:loss = 0.061342195, step = 1601 (0.242 sec)\n",
            "INFO:tensorflow:global_step/sec: 412.517\n",
            "INFO:tensorflow:loss = 0.047387205, step = 1701 (0.238 sec)\n",
            "INFO:tensorflow:global_step/sec: 382.907\n",
            "INFO:tensorflow:loss = 0.20316999, step = 1801 (0.261 sec)\n",
            "INFO:tensorflow:global_step/sec: 407.371\n",
            "INFO:tensorflow:loss = 0.082384534, step = 1901 (0.248 sec)\n",
            "INFO:tensorflow:global_step/sec: 372.181\n",
            "INFO:tensorflow:loss = 3.306582, step = 2001 (0.266 sec)\n",
            "INFO:tensorflow:global_step/sec: 431.473\n",
            "INFO:tensorflow:loss = 5.889807, step = 2101 (0.235 sec)\n",
            "INFO:tensorflow:global_step/sec: 415.482\n",
            "INFO:tensorflow:loss = 5.682998, step = 2201 (0.241 sec)\n",
            "INFO:tensorflow:global_step/sec: 401.78\n",
            "INFO:tensorflow:loss = 0.5343822, step = 2301 (0.247 sec)\n",
            "INFO:tensorflow:global_step/sec: 400.263\n",
            "INFO:tensorflow:loss = 1.6767513, step = 2401 (0.251 sec)\n",
            "INFO:tensorflow:global_step/sec: 358.076\n",
            "INFO:tensorflow:loss = 0.2634306, step = 2501 (0.277 sec)\n",
            "INFO:tensorflow:global_step/sec: 412.172\n",
            "INFO:tensorflow:loss = 1.6014755, step = 2601 (0.244 sec)\n",
            "INFO:tensorflow:global_step/sec: 414.604\n",
            "INFO:tensorflow:loss = 0.43368888, step = 2701 (0.244 sec)\n",
            "INFO:tensorflow:global_step/sec: 393.98\n",
            "INFO:tensorflow:loss = 0.14682125, step = 2801 (0.250 sec)\n",
            "INFO:tensorflow:global_step/sec: 411.773\n",
            "INFO:tensorflow:loss = 1.242328, step = 2901 (0.243 sec)\n",
            "INFO:tensorflow:global_step/sec: 392.534\n",
            "INFO:tensorflow:loss = 0.34915483, step = 3001 (0.257 sec)\n",
            "INFO:tensorflow:global_step/sec: 390.981\n",
            "INFO:tensorflow:loss = 1.5709949, step = 3101 (0.257 sec)\n",
            "INFO:tensorflow:global_step/sec: 416.336\n",
            "INFO:tensorflow:loss = 3.0487614, step = 3201 (0.237 sec)\n",
            "INFO:tensorflow:global_step/sec: 416.573\n",
            "INFO:tensorflow:loss = 3.6888256, step = 3301 (0.243 sec)\n",
            "INFO:tensorflow:global_step/sec: 430.896\n",
            "INFO:tensorflow:loss = 1.1169304, step = 3401 (0.230 sec)\n",
            "INFO:tensorflow:global_step/sec: 400.899\n",
            "INFO:tensorflow:loss = 0.44732836, step = 3501 (0.252 sec)\n",
            "INFO:tensorflow:global_step/sec: 397.734\n",
            "INFO:tensorflow:loss = 13.977755, step = 3601 (0.249 sec)\n",
            "INFO:tensorflow:global_step/sec: 416.713\n",
            "INFO:tensorflow:loss = 9.412752, step = 3701 (0.242 sec)\n",
            "INFO:tensorflow:global_step/sec: 396.727\n",
            "INFO:tensorflow:loss = 25.023697, step = 3801 (0.249 sec)\n",
            "INFO:tensorflow:global_step/sec: 416.551\n",
            "INFO:tensorflow:loss = 0.65793145, step = 3901 (0.241 sec)\n",
            "INFO:tensorflow:global_step/sec: 401.478\n",
            "INFO:tensorflow:loss = 32.871742, step = 4001 (0.251 sec)\n",
            "INFO:tensorflow:global_step/sec: 433.65\n",
            "INFO:tensorflow:loss = 0.1330622, step = 4101 (0.231 sec)\n",
            "INFO:tensorflow:global_step/sec: 429.312\n",
            "INFO:tensorflow:loss = 1.3034917, step = 4201 (0.234 sec)\n",
            "INFO:tensorflow:global_step/sec: 403.153\n",
            "INFO:tensorflow:loss = 0.15252343, step = 4301 (0.245 sec)\n",
            "INFO:tensorflow:global_step/sec: 413.582\n",
            "INFO:tensorflow:loss = 0.8688339, step = 4401 (0.242 sec)\n",
            "INFO:tensorflow:global_step/sec: 424.258\n",
            "INFO:tensorflow:loss = 0.07703731, step = 4501 (0.236 sec)\n",
            "INFO:tensorflow:global_step/sec: 400.893\n",
            "INFO:tensorflow:loss = 1.3650148, step = 4601 (0.251 sec)\n",
            "INFO:tensorflow:global_step/sec: 416.526\n",
            "INFO:tensorflow:loss = 1.420177, step = 4701 (0.237 sec)\n",
            "INFO:tensorflow:global_step/sec: 400.959\n",
            "INFO:tensorflow:loss = 63.93161, step = 4801 (0.250 sec)\n",
            "INFO:tensorflow:global_step/sec: 406.874\n",
            "INFO:tensorflow:loss = 0.062961556, step = 4901 (0.248 sec)\n",
            "INFO:tensorflow:global_step/sec: 411.011\n",
            "INFO:tensorflow:loss = 0.11153855, step = 5001 (0.240 sec)\n",
            "INFO:tensorflow:global_step/sec: 393.736\n",
            "INFO:tensorflow:loss = 1.8561432, step = 5101 (0.255 sec)\n",
            "INFO:tensorflow:global_step/sec: 383.623\n",
            "INFO:tensorflow:loss = 0.31515115, step = 5201 (0.262 sec)\n",
            "INFO:tensorflow:global_step/sec: 375.613\n",
            "INFO:tensorflow:loss = 4.2602634, step = 5301 (0.267 sec)\n",
            "INFO:tensorflow:global_step/sec: 426.014\n",
            "INFO:tensorflow:loss = 20.918928, step = 5401 (0.235 sec)\n",
            "INFO:tensorflow:global_step/sec: 411.716\n",
            "INFO:tensorflow:loss = 3.306538, step = 5501 (0.239 sec)\n",
            "INFO:tensorflow:global_step/sec: 411.402\n",
            "INFO:tensorflow:loss = 15.735052, step = 5601 (0.246 sec)\n",
            "INFO:tensorflow:global_step/sec: 390.758\n",
            "INFO:tensorflow:loss = 7.57206, step = 5701 (0.254 sec)\n",
            "INFO:tensorflow:global_step/sec: 418.075\n",
            "INFO:tensorflow:loss = 1.0796678, step = 5801 (0.242 sec)\n",
            "INFO:tensorflow:global_step/sec: 405.362\n",
            "INFO:tensorflow:loss = 6.257121, step = 5901 (0.246 sec)\n",
            "INFO:tensorflow:global_step/sec: 418.546\n",
            "INFO:tensorflow:loss = 0.98090714, step = 6001 (0.239 sec)\n",
            "INFO:tensorflow:global_step/sec: 421.711\n",
            "INFO:tensorflow:loss = 3.9449344, step = 6101 (0.234 sec)\n",
            "INFO:tensorflow:global_step/sec: 425.917\n",
            "INFO:tensorflow:loss = 21.268589, step = 6201 (0.238 sec)\n",
            "INFO:tensorflow:global_step/sec: 404.47\n",
            "INFO:tensorflow:loss = 114.01264, step = 6301 (0.245 sec)\n",
            "INFO:tensorflow:global_step/sec: 391.453\n",
            "INFO:tensorflow:loss = 12.175068, step = 6401 (0.255 sec)\n",
            "INFO:tensorflow:global_step/sec: 428.784\n",
            "INFO:tensorflow:loss = 2.676029, step = 6501 (0.236 sec)\n",
            "INFO:tensorflow:global_step/sec: 424.39\n",
            "INFO:tensorflow:loss = 5.409355, step = 6601 (0.233 sec)\n",
            "INFO:tensorflow:global_step/sec: 415.835\n",
            "INFO:tensorflow:loss = 6.9511642, step = 6701 (0.243 sec)\n",
            "INFO:tensorflow:global_step/sec: 390.142\n",
            "INFO:tensorflow:loss = 12.34388, step = 6801 (0.254 sec)\n",
            "WARNING:tensorflow:It seems that global step (tf.train.get_global_step) has not been increased. Current value (could be stable): 6850 vs previous value: 6850. You could increase the global step by passing tf.train.get_global_step() to Optimizer.apply_gradients or Optimizer.minimize.\n",
            "INFO:tensorflow:global_step/sec: 397.054\n",
            "INFO:tensorflow:loss = 0.55055356, step = 6901 (0.252 sec)\n",
            "INFO:tensorflow:global_step/sec: 426.365\n",
            "INFO:tensorflow:loss = 66.16057, step = 7001 (0.234 sec)\n",
            "INFO:tensorflow:global_step/sec: 431.961\n",
            "INFO:tensorflow:loss = 0.71782345, step = 7101 (0.231 sec)\n",
            "INFO:tensorflow:global_step/sec: 394.641\n",
            "INFO:tensorflow:loss = 2.7500854, step = 7201 (0.255 sec)\n",
            "INFO:tensorflow:global_step/sec: 410.181\n",
            "INFO:tensorflow:loss = 0.44756573, step = 7301 (0.242 sec)\n",
            "INFO:tensorflow:global_step/sec: 417.685\n",
            "INFO:tensorflow:loss = 6.816009, step = 7401 (0.240 sec)\n",
            "INFO:tensorflow:global_step/sec: 411.17\n",
            "INFO:tensorflow:loss = 5.8242207, step = 7501 (0.247 sec)\n",
            "INFO:tensorflow:global_step/sec: 414.102\n",
            "INFO:tensorflow:loss = 5.632169, step = 7601 (0.238 sec)\n",
            "INFO:tensorflow:global_step/sec: 412.632\n",
            "INFO:tensorflow:loss = 0.67642224, step = 7701 (0.242 sec)\n",
            "INFO:tensorflow:global_step/sec: 424.694\n",
            "INFO:tensorflow:loss = 11.189978, step = 7801 (0.235 sec)\n",
            "INFO:tensorflow:global_step/sec: 408.585\n",
            "INFO:tensorflow:loss = 1.6009072, step = 7901 (0.248 sec)\n",
            "INFO:tensorflow:global_step/sec: 384.235\n",
            "INFO:tensorflow:loss = 0.73603946, step = 8001 (0.257 sec)\n",
            "INFO:tensorflow:global_step/sec: 386.116\n",
            "INFO:tensorflow:loss = 0.12224127, step = 8101 (0.262 sec)\n",
            "INFO:tensorflow:global_step/sec: 434.799\n",
            "INFO:tensorflow:loss = 66.16815, step = 8201 (0.230 sec)\n",
            "INFO:tensorflow:global_step/sec: 428.451\n",
            "INFO:tensorflow:loss = 26.79469, step = 8301 (0.234 sec)\n",
            "INFO:tensorflow:global_step/sec: 400.692\n",
            "INFO:tensorflow:loss = 10.584419, step = 8401 (0.247 sec)\n",
            "WARNING:tensorflow:It seems that global step (tf.train.get_global_step) has not been increased. Current value (could be stable): 8498 vs previous value: 8498. You could increase the global step by passing tf.train.get_global_step() to Optimizer.apply_gradients or Optimizer.minimize.\n",
            "INFO:tensorflow:global_step/sec: 417.269\n",
            "INFO:tensorflow:loss = 33.46453, step = 8501 (0.241 sec)\n",
            "INFO:tensorflow:global_step/sec: 421.098\n",
            "INFO:tensorflow:loss = 22.307554, step = 8601 (0.238 sec)\n",
            "INFO:tensorflow:global_step/sec: 402.476\n",
            "INFO:tensorflow:loss = 35.47282, step = 8701 (0.245 sec)\n",
            "INFO:tensorflow:global_step/sec: 427.966\n",
            "INFO:tensorflow:loss = 1.2877966, step = 8801 (0.234 sec)\n",
            "INFO:tensorflow:global_step/sec: 402.539\n",
            "INFO:tensorflow:loss = 73.8075, step = 8901 (0.252 sec)\n",
            "INFO:tensorflow:global_step/sec: 420.296\n",
            "INFO:tensorflow:loss = 4.9273953, step = 9001 (0.238 sec)\n",
            "INFO:tensorflow:global_step/sec: 435.819\n",
            "INFO:tensorflow:loss = 10.048256, step = 9101 (0.227 sec)\n",
            "INFO:tensorflow:global_step/sec: 440.052\n",
            "INFO:tensorflow:loss = 0.10371266, step = 9201 (0.226 sec)\n",
            "INFO:tensorflow:global_step/sec: 397.815\n",
            "INFO:tensorflow:loss = 3.9388938, step = 9301 (0.253 sec)\n",
            "INFO:tensorflow:global_step/sec: 411.01\n",
            "INFO:tensorflow:loss = 11.496601, step = 9401 (0.244 sec)\n",
            "INFO:tensorflow:global_step/sec: 423.943\n",
            "INFO:tensorflow:loss = 10.260716, step = 9501 (0.235 sec)\n",
            "INFO:tensorflow:global_step/sec: 422.706\n",
            "INFO:tensorflow:loss = 0.9843066, step = 9601 (0.236 sec)\n",
            "INFO:tensorflow:global_step/sec: 391.083\n",
            "INFO:tensorflow:loss = 1.0144632, step = 9701 (0.255 sec)\n",
            "INFO:tensorflow:global_step/sec: 405.738\n",
            "INFO:tensorflow:loss = 4.366884, step = 9801 (0.250 sec)\n",
            "INFO:tensorflow:global_step/sec: 395.764\n",
            "INFO:tensorflow:loss = 0.9007002, step = 9901 (0.249 sec)\n",
            "INFO:tensorflow:Saving checkpoints for 10000 into /tmp/linear_regression_trained_model/model.ckpt.\n",
            "INFO:tensorflow:Loss for final step: 0.07947135.\n"
          ],
          "name": "stdout"
        },
        {
          "output_type": "execute_result",
          "data": {
            "text/plain": [
              "SKCompat()"
            ]
          },
          "metadata": {
            "tags": []
          },
          "execution_count": 12
        }
      ]
    },
    {
      "cell_type": "markdown",
      "metadata": {
        "id": "bohAtJH4SLgo"
      },
      "source": [
        "The predictor data is obtained from the fitted model using the `X_test` data in the `.predict()` function of the model just created. The prediciton data is then converted into a dataframe to look at the `score` of `preds_linear`."
      ]
    },
    {
      "cell_type": "code",
      "metadata": {
        "colab": {
          "base_uri": "https://localhost:8080/"
        },
        "id": "dFdD_2ITSLCT",
        "outputId": "5afb72af-51a6-44e7-b945-74cb53cb4e67"
      },
      "source": [
        "# Next, we can check our predictions based on our predictors.\r\n",
        "preds_linear = estimator_linear.predict(x=X_test)\r\n",
        "preds2_linear = pd.DataFrame.from_dict(data=preds_linear)"
      ],
      "execution_count": null,
      "outputs": [
        {
          "output_type": "stream",
          "text": [
            "WARNING:tensorflow:float64 is not supported by many models, consider casting to float32.\n",
            "INFO:tensorflow:Graph was finalized.\n",
            "INFO:tensorflow:Restoring parameters from /tmp/linear_regression_trained_model/model.ckpt-10000\n",
            "INFO:tensorflow:Running local_init_op.\n",
            "INFO:tensorflow:Done running local_init_op.\n"
          ],
          "name": "stdout"
        }
      ]
    },
    {
      "cell_type": "markdown",
      "metadata": {
        "id": "1qofRbdEkc31"
      },
      "source": [
        "There are three metrics with which the accuracy can be calculated with, the *Mean Absolute Error*, *Mean Squared Error*, and the *Root Mean Squared Error*. These functions return an idea of how well the model has performed in predicting what the result should be. An average value close to 0 means the model is very accurate where as larger values imply the model is very inaccurate.\r\n",
        "\r\n",
        "The mean absolute error (*MAE*) is the absolute of the errors. It is calculated by it is the sum of the modulus of the target test value minus the predicted value, and then divided by the number of values.\r\n",
        "\\begin{equation} MAE = \\frac {1}{n} \\sum^{n}_{i=1} |y_i-\\hat{y}_i|  \\end{equation}\r\n",
        "\r\n",
        "The mean squared error (*MSE*) looks at the the sum of the target test value minus the predicted value squared, and divided by the number of values.\r\n",
        "\\begin{equation} MSE = \\frac {1}{n} \\sum^{n}_{i=1} (y_i-\\hat{y}_i)^2  \\end{equation}\r\n",
        "\r\n",
        "The root mean squared error (*RMSE*) is the same as the mean average error but the square root is taken after averaging the data. The purpose of this is to put a heavier penalty on errors made by the model.\r\n",
        "\\begin{equation} RMSE = \\sqrt {\\frac {1}{n} \\sum^{n}_{i=1} (y_i-\\hat{y}_i)^2}  \\end{equation}\r\n",
        "\r\n",
        "As can be seen if the predicted values are close to the actual values, the subtraction of one from the other will give a result close to zero.\r\n",
        "\r\n",
        "The calculated out mean absolute error, mean squared error, and root mean squared error are calculated using the `metrics` library in `sklearn` and the square root function from `numpy`, `np.sqrt`. The data used is the prediction data and the target `y_test` data."
      ]
    },
    {
      "cell_type": "code",
      "metadata": {
        "colab": {
          "base_uri": "https://localhost:8080/"
        },
        "id": "0lblW3B4keXz",
        "outputId": "667d7922-6dc0-44e5-c5b2-9050a45fb3ae"
      },
      "source": [
        "from sklearn import metrics\r\n",
        "\r\n",
        "print('MAE:', metrics.mean_absolute_error(y_test, preds2_linear))\r\n",
        "print('MSE:', metrics.mean_squared_error(y_test, preds2_linear))\r\n",
        "print('RMSE:', np.sqrt(metrics.mean_squared_error(y_test, preds2_linear)))"
      ],
      "execution_count": null,
      "outputs": [
        {
          "output_type": "stream",
          "text": [
            "MAE: 0.6937660589361618\n",
            "MSE: 0.5353002910861401\n",
            "RMSE: 0.7316421878802097\n"
          ],
          "name": "stdout"
        }
      ]
    },
    {
      "cell_type": "code",
      "metadata": {
        "id": "SxSd6Z8ML2QM"
      },
      "source": [
        "import matplotlib.pyplot as plt\r\n",
        "import seaborn as sns\r\n",
        "%matplotlib inline"
      ],
      "execution_count": null,
      "outputs": []
    },
    {
      "cell_type": "markdown",
      "metadata": {
        "id": "F_RatZsQSwbG"
      },
      "source": [
        "Plots can be used to visualize how accurate the models are. Using a regression plot the scores can be compared to the prediction data to see how they compare and how a best fitting line can be drawn with respect to the scattered data around it."
      ]
    },
    {
      "cell_type": "code",
      "metadata": {
        "colab": {
          "base_uri": "https://localhost:8080/",
          "height": 350
        },
        "id": "NnEKFkrGLMzR",
        "outputId": "93ebd0e7-b33c-4e87-a956-032bfb8a66f7"
      },
      "source": [
        "sns.regplot(y_test, preds2_linear)"
      ],
      "execution_count": null,
      "outputs": [
        {
          "output_type": "stream",
          "text": [
            "/usr/local/lib/python3.6/dist-packages/seaborn/_decorators.py:43: FutureWarning: Pass the following variables as keyword args: x, y. From version 0.12, the only valid positional argument will be `data`, and passing other arguments without an explicit keyword will result in an error or misinterpretation.\n",
            "  FutureWarning\n"
          ],
          "name": "stderr"
        },
        {
          "output_type": "execute_result",
          "data": {
            "text/plain": [
              "<matplotlib.axes._subplots.AxesSubplot at 0x7fa0e2318080>"
            ]
          },
          "metadata": {
            "tags": []
          },
          "execution_count": 16
        },
        {
          "output_type": "display_data",
          "data": {
            "image/png": "[encoded data removed]",
            "text/plain": [
              "<Figure size 432x288 with 1 Axes>"
            ]
          },
          "metadata": {
            "tags": [],
            "needs_background": "light"
          }
        }
      ]
    },
    {
      "cell_type": "markdown",
      "metadata": {
        "id": "FoLsFGUHTL8t"
      },
      "source": [
        "And a distribution plot of the target test data minus the predicted data gives an idea of the accuracy of the model. A negative value imples the model tends to over compensate and predict more collisions than what were.\r\n",
        "\r\n",
        "Hence the linear regression model is not very accurate for this purpose."
      ]
    },
    {
      "cell_type": "code",
      "metadata": {
        "colab": {
          "base_uri": "https://localhost:8080/",
          "height": 369
        },
        "id": "Af_RI3AW2sLD",
        "outputId": "0ac7d6c0-bc08-4fb4-f18b-f808f8a89626"
      },
      "source": [
        "sns.displot(y_test.reset_index(drop=True) - preds2_linear.scores, kind='kde');"
      ],
      "execution_count": null,
      "outputs": [
        {
          "output_type": "display_data",
          "data": {
            "image/png": "[encoded data removed]",
            "text/plain": [
              "<Figure size 360x360 with 1 Axes>"
            ]
          },
          "metadata": {
            "tags": [],
            "needs_background": "light"
          }
        }
      ]
    },
    {
      "cell_type": "markdown",
      "metadata": {
        "id": "EwKknUwtkTnD"
      },
      "source": [
        "Next some random data can be made up to also fed into the model. Three Mondays (`weekday_num = 1`) can be fed into the linear model. "
      ]
    },
    {
      "cell_type": "code",
      "metadata": {
        "id": "S646OaU0R8UQ",
        "colab": {
          "base_uri": "https://localhost:8080/"
        },
        "outputId": "129b497b-59a4-433e-bd7d-5d654408ab52"
      },
      "source": [
        "input = pd.DataFrame.from_dict(data = {\n",
        "    'weekday_num' : [1,1,1],\n",
        "    'temp' : [61.8, 31.2, 77.0],\n",
        "    'slp' : [1023, 1002, 985],\n",
        "    'wdsp' : [5.0, 3.0, 8.0]\n",
        "  })\t\t\t\t\t\n",
        "\n",
        "estimator_linear = tf.contrib.learn.SKCompat(\n",
        "    tf.contrib.learn.LinearRegressor(\n",
        "        model_dir='/tmp/linear_regression_trained_model', \n",
        "        enable_centered_bias=False, \n",
        "        feature_columns=tf.contrib.learn.infer_real_valued_columns_from_input(input.values)\n",
        "    )\n",
        "  )\n",
        "\n",
        "preds_test_linear = estimator_linear.predict(x=input.values)"
      ],
      "execution_count": null,
      "outputs": [
        {
          "output_type": "stream",
          "text": [
            "WARNING:tensorflow:float64 is not supported by many models, consider casting to float32.\n",
            "INFO:tensorflow:Using default config.\n",
            "INFO:tensorflow:Using config: {'_task_type': None, '_task_id': 0, '_cluster_spec': <tensorflow.python.training.server_lib.ClusterSpec object at 0x7fa0da906358>, '_master': '', '_num_ps_replicas': 0, '_num_worker_replicas': 0, '_environment': 'local', '_is_chief': True, '_evaluation_master': '', '_train_distribute': None, '_eval_distribute': None, '_experimental_max_worker_delay_secs': None, '_device_fn': None, '_tf_config': gpu_options {\n",
            "  per_process_gpu_memory_fraction: 1.0\n",
            "}\n",
            ", '_tf_random_seed': None, '_save_summary_steps': 100, '_save_checkpoints_secs': 600, '_log_step_count_steps': 100, '_protocol': None, '_session_config': None, '_save_checkpoints_steps': None, '_keep_checkpoint_max': 5, '_keep_checkpoint_every_n_hours': 10000, '_model_dir': '/tmp/linear_regression_trained_model', '_session_creation_timeout_secs': 7200}\n",
            "WARNING:tensorflow:float64 is not supported by many models, consider casting to float32.\n",
            "INFO:tensorflow:Graph was finalized.\n",
            "INFO:tensorflow:Restoring parameters from /tmp/linear_regression_trained_model/model.ckpt-10000\n",
            "INFO:tensorflow:Running local_init_op.\n",
            "INFO:tensorflow:Done running local_init_op.\n"
          ],
          "name": "stdout"
        }
      ]
    },
    {
      "cell_type": "markdown",
      "metadata": {
        "id": "ZNJEMO_z7zP6"
      },
      "source": [
        "The the maximum number of collisions in a worst case scenario for all boroughs tends is about 700. If the prediction data, which was previously normalized, is multiplied by this value then the linear model is found to over predict to have one hand a half times as many collisions as what the target is."
      ]
    },
    {
      "cell_type": "code",
      "metadata": {
        "colab": {
          "base_uri": "https://localhost:8080/"
        },
        "id": "r9PVPkkumyLD",
        "outputId": "43ffd666-ec53-4a28-b124-cb1d2a9264c9"
      },
      "source": [
        "# The average number of collisions scale value is 700 when at a maximum, based on the analysis from Assignment 1\r\n",
        "predslistnorm_linear = preds_test_linear['scores']\r\n",
        "predslistscale_linear = preds_test_linear['scores']*700\r\n",
        "prednorm_linear = format(str(predslistnorm_linear))\r\n",
        "preds_res_linear = format(str(predslistscale_linear))\r\n",
        "print(prednorm_linear)\r\n",
        "print(preds_res_linear)"
      ],
      "execution_count": null,
      "outputs": [
        {
          "output_type": "stream",
          "text": [
            "[1.1153883 1.0094155 1.1174734]\n",
            "[780.7718 706.5909 782.2314]\n"
          ],
          "name": "stdout"
        }
      ]
    },
    {
      "cell_type": "markdown",
      "metadata": {
        "id": "GsPQDn93UoDK"
      },
      "source": [
        "From test inputs the first element in the array here is similar to this actual data:\n",
        "\n",
        "529 collisions on a Monday where the temperature is approximately 61.8F, sea level pressure of 1023 millibars and a windspeed of 5 knots.\n",
        "\n",
        "Similarly with the second entry, approximately 479 collisions are predicted on a monday where there's a drop in sea level pressure to 1002 millibars, lower temperature of 31.2F and a windspeed of 3 knots.\n",
        "\n",
        "And with the third seems to have the same score as the first. 530 collisions would be predicted on a Monday with a high temperature of 77F and a windspeed of 8 knots but a large drop in sea level pressure to 985 millibars doesn't seem to have an affect on the result. \n",
        "\n",
        "The day is changed to a Friday (`weekday_num = 5`) and the same values are run to see the affect of week day on the data."
      ]
    },
    {
      "cell_type": "code",
      "metadata": {
        "id": "QqqseK8ZXoFD",
        "colab": {
          "base_uri": "https://localhost:8080/"
        },
        "outputId": "b6b38292-a453-4a3f-ce7c-aa33ecd7c370"
      },
      "source": [
        "input_linear = pd.DataFrame.from_dict(data = {\n",
        "    'weekday_num' : [5,5,5],\n",
        "    'temp' : [61.8, 31.2, 77.0],\n",
        "    'slp' : [1023, 1002, 985],\n",
        "    'wdsp' : [5.0, 3.0, 8.0]\n",
        "  })\t\t\n",
        "\n",
        "estimator_linear = tf.contrib.learn.SKCompat(\n",
        "    tf.contrib.learn.LinearRegressor(\n",
        "        model_dir='/tmp/linear_regression_trained_model', \n",
        "        enable_centered_bias=False, \n",
        "        feature_columns=tf.contrib.learn.infer_real_valued_columns_from_input(input_linear.values)\n",
        "    )\n",
        "  )\n",
        "\n",
        "preds_test_linear = estimator_linear.predict(x=input_linear.values)"
      ],
      "execution_count": null,
      "outputs": [
        {
          "output_type": "stream",
          "text": [
            "WARNING:tensorflow:float64 is not supported by many models, consider casting to float32.\n",
            "INFO:tensorflow:Using default config.\n",
            "INFO:tensorflow:Using config: {'_task_type': None, '_task_id': 0, '_cluster_spec': <tensorflow.python.training.server_lib.ClusterSpec object at 0x7fa0da8d44a8>, '_master': '', '_num_ps_replicas': 0, '_num_worker_replicas': 0, '_environment': 'local', '_is_chief': True, '_evaluation_master': '', '_train_distribute': None, '_eval_distribute': None, '_experimental_max_worker_delay_secs': None, '_device_fn': None, '_tf_config': gpu_options {\n",
            "  per_process_gpu_memory_fraction: 1.0\n",
            "}\n",
            ", '_tf_random_seed': None, '_save_summary_steps': 100, '_save_checkpoints_secs': 600, '_log_step_count_steps': 100, '_protocol': None, '_session_config': None, '_save_checkpoints_steps': None, '_keep_checkpoint_max': 5, '_keep_checkpoint_every_n_hours': 10000, '_model_dir': '/tmp/linear_regression_trained_model', '_session_creation_timeout_secs': 7200}\n",
            "WARNING:tensorflow:float64 is not supported by many models, consider casting to float32.\n",
            "INFO:tensorflow:Graph was finalized.\n",
            "INFO:tensorflow:Restoring parameters from /tmp/linear_regression_trained_model/model.ckpt-10000\n",
            "INFO:tensorflow:Running local_init_op.\n",
            "INFO:tensorflow:Done running local_init_op.\n"
          ],
          "name": "stdout"
        }
      ]
    },
    {
      "cell_type": "code",
      "metadata": {
        "colab": {
          "base_uri": "https://localhost:8080/"
        },
        "id": "yOyIrVsupjxi",
        "outputId": "6d0d5797-bde8-443c-8dd4-92e55f41dab8"
      },
      "source": [
        "predslistnorm_linear = preds_test_linear['scores']\r\n",
        "predslistscale_linear = preds_test_linear['scores']*510\r\n",
        "prednorm_linear = format(str(predslistnorm_linear))\r\n",
        "preds_res_linear = format(str(predslistscale_linear))\r\n",
        "print(prednorm_linear)\r\n",
        "print(preds_res_linear)"
      ],
      "execution_count": null,
      "outputs": [
        {
          "output_type": "stream",
          "text": [
            "[1.2874129 1.1814401 1.289498 ]\n",
            "[656.58057 602.5345  657.644  ]\n"
          ],
          "name": "stdout"
        }
      ]
    },
    {
      "cell_type": "markdown",
      "metadata": {
        "id": "UvHvR5o9Xus1"
      },
      "source": [
        "This test uses day 5 (Friday) instead of day 1 (Monday) which shows higher collisions where the other values were left the same. With respect to what can be seen in the plots by weekdays, in general there tends to be more collisions on a Friday than on a Monday.\r\n",
        "\r\n",
        "In Assignment 1, sea level pressure was found to a negative correlation and setting the sea level pressure to a low value does reflect this as the collisions increased a little."
      ]
    },
    {
      "cell_type": "markdown",
      "metadata": {
        "id": "_0ed0CnSKbar"
      },
      "source": [
        "## Deep-learning Neural Networks (DNN)\r\n",
        "\r\n",
        "The method for processing for preparing and entering the data for the DNN is similar to the linear regression model above. The data will be imported from the git repository, checked to see if it's the correct dataset and that it's the right shape and ready to be processed.\r\n",
        "\r\n",
        "The data will be split into `_train` and `_test` sets again and the predictors will be set as `X` and the targets set as `y`.\r\n",
        "\r\n",
        "One difference between the DNN data and the linear regression data is before there was a column for `weekday_num` which hosted the week day number, where Sunday was 0 and Saturday was 6. Instead of that One Hot Encoding (OHE) was used to encode the months and the week days into a binary format.\r\n",
        "\r\n",
        "The issue with using an integer for the month is that every month is equal and using an integer would weight the data in the calculation. So December being month 12 will have more weight to it than every other month.\r\n"
      ]
    },
    {
      "cell_type": "code",
      "metadata": {
        "colab": {
          "base_uri": "https://localhost:8080/",
          "height": 266
        },
        "id": "CcH5qqUnKgFy",
        "outputId": "e91220d4-4329-414b-bdfe-7a1e98145c79"
      },
      "source": [
        "# create data frame from csv file we hosted on our github\r\n",
        "df_dnn = pd.read_csv('https://raw.githubusercontent.com/20023167uhi/DataAnalytics/main/Python/Data%20Analytics%20on%20the%20Web/Assignment%201/Data/Tom_Blackwood-OHE-Weather_and_Collision_data_for_New_York_boroughs_2012-2020.csv', index_col=0)\r\n",
        "df_dnn.head(6)"
      ],
      "execution_count": null,
      "outputs": [
        {
          "output_type": "execute_result",
          "data": {
            "text/html": [
              "<div>\n",
              "<style scoped>\n",
              "    .dataframe tbody tr th:only-of-type {\n",
              "        vertical-align: middle;\n",
              "    }\n",
              "\n",
              "    .dataframe tbody tr th {\n",
              "        vertical-align: top;\n",
              "    }\n",
              "\n",
              "    .dataframe thead th {\n",
              "        text-align: right;\n",
              "    }\n",
              "</style>\n",
              "<table border=\"1\" class=\"dataframe\">\n",
              "  <thead>\n",
              "    <tr style=\"text-align: right;\">\n",
              "      <th></th>\n",
              "      <th>temp</th>\n",
              "      <th>slp</th>\n",
              "      <th>wdsp</th>\n",
              "      <th>April</th>\n",
              "      <th>August</th>\n",
              "      <th>December</th>\n",
              "      <th>February</th>\n",
              "      <th>January</th>\n",
              "      <th>July</th>\n",
              "      <th>June</th>\n",
              "      <th>March</th>\n",
              "      <th>May</th>\n",
              "      <th>November</th>\n",
              "      <th>October</th>\n",
              "      <th>September</th>\n",
              "      <th>Friday</th>\n",
              "      <th>Monday</th>\n",
              "      <th>Saturday</th>\n",
              "      <th>Sunday</th>\n",
              "      <th>Thursday</th>\n",
              "      <th>Tuesday</th>\n",
              "      <th>Wednesday</th>\n",
              "      <th>collisions</th>\n",
              "    </tr>\n",
              "    <tr>\n",
              "      <th>date</th>\n",
              "      <th></th>\n",
              "      <th></th>\n",
              "      <th></th>\n",
              "      <th></th>\n",
              "      <th></th>\n",
              "      <th></th>\n",
              "      <th></th>\n",
              "      <th></th>\n",
              "      <th></th>\n",
              "      <th></th>\n",
              "      <th></th>\n",
              "      <th></th>\n",
              "      <th></th>\n",
              "      <th></th>\n",
              "      <th></th>\n",
              "      <th></th>\n",
              "      <th></th>\n",
              "      <th></th>\n",
              "      <th></th>\n",
              "      <th></th>\n",
              "      <th></th>\n",
              "      <th></th>\n",
              "      <th></th>\n",
              "    </tr>\n",
              "  </thead>\n",
              "  <tbody>\n",
              "    <tr>\n",
              "      <th>2013-01-01</th>\n",
              "      <td>38.0</td>\n",
              "      <td>1008.8</td>\n",
              "      <td>15.0</td>\n",
              "      <td>0</td>\n",
              "      <td>0</td>\n",
              "      <td>0</td>\n",
              "      <td>0</td>\n",
              "      <td>1</td>\n",
              "      <td>0</td>\n",
              "      <td>0</td>\n",
              "      <td>0</td>\n",
              "      <td>0</td>\n",
              "      <td>0</td>\n",
              "      <td>0</td>\n",
              "      <td>0</td>\n",
              "      <td>0</td>\n",
              "      <td>0</td>\n",
              "      <td>0</td>\n",
              "      <td>0</td>\n",
              "      <td>0</td>\n",
              "      <td>1</td>\n",
              "      <td>0</td>\n",
              "      <td>0.097222</td>\n",
              "    </tr>\n",
              "    <tr>\n",
              "      <th>2013-01-02</th>\n",
              "      <td>27.5</td>\n",
              "      <td>1013.4</td>\n",
              "      <td>12.4</td>\n",
              "      <td>0</td>\n",
              "      <td>0</td>\n",
              "      <td>0</td>\n",
              "      <td>0</td>\n",
              "      <td>1</td>\n",
              "      <td>0</td>\n",
              "      <td>0</td>\n",
              "      <td>0</td>\n",
              "      <td>0</td>\n",
              "      <td>0</td>\n",
              "      <td>0</td>\n",
              "      <td>0</td>\n",
              "      <td>0</td>\n",
              "      <td>0</td>\n",
              "      <td>0</td>\n",
              "      <td>0</td>\n",
              "      <td>0</td>\n",
              "      <td>0</td>\n",
              "      <td>1</td>\n",
              "      <td>0.498747</td>\n",
              "    </tr>\n",
              "    <tr>\n",
              "      <th>2013-01-03</th>\n",
              "      <td>21.8</td>\n",
              "      <td>1018.1</td>\n",
              "      <td>9.8</td>\n",
              "      <td>0</td>\n",
              "      <td>0</td>\n",
              "      <td>0</td>\n",
              "      <td>0</td>\n",
              "      <td>1</td>\n",
              "      <td>0</td>\n",
              "      <td>0</td>\n",
              "      <td>0</td>\n",
              "      <td>0</td>\n",
              "      <td>0</td>\n",
              "      <td>0</td>\n",
              "      <td>0</td>\n",
              "      <td>0</td>\n",
              "      <td>0</td>\n",
              "      <td>0</td>\n",
              "      <td>0</td>\n",
              "      <td>1</td>\n",
              "      <td>0</td>\n",
              "      <td>0</td>\n",
              "      <td>0.527430</td>\n",
              "    </tr>\n",
              "    <tr>\n",
              "      <th>2013-01-04</th>\n",
              "      <td>32.2</td>\n",
              "      <td>1015.2</td>\n",
              "      <td>11.3</td>\n",
              "      <td>0</td>\n",
              "      <td>0</td>\n",
              "      <td>0</td>\n",
              "      <td>0</td>\n",
              "      <td>1</td>\n",
              "      <td>0</td>\n",
              "      <td>0</td>\n",
              "      <td>0</td>\n",
              "      <td>0</td>\n",
              "      <td>0</td>\n",
              "      <td>0</td>\n",
              "      <td>0</td>\n",
              "      <td>1</td>\n",
              "      <td>0</td>\n",
              "      <td>0</td>\n",
              "      <td>0</td>\n",
              "      <td>0</td>\n",
              "      <td>0</td>\n",
              "      <td>0</td>\n",
              "      <td>0.645503</td>\n",
              "    </tr>\n",
              "    <tr>\n",
              "      <th>2013-01-05</th>\n",
              "      <td>37.3</td>\n",
              "      <td>1017.3</td>\n",
              "      <td>13.2</td>\n",
              "      <td>0</td>\n",
              "      <td>0</td>\n",
              "      <td>0</td>\n",
              "      <td>0</td>\n",
              "      <td>1</td>\n",
              "      <td>0</td>\n",
              "      <td>0</td>\n",
              "      <td>0</td>\n",
              "      <td>0</td>\n",
              "      <td>0</td>\n",
              "      <td>0</td>\n",
              "      <td>0</td>\n",
              "      <td>0</td>\n",
              "      <td>0</td>\n",
              "      <td>1</td>\n",
              "      <td>0</td>\n",
              "      <td>0</td>\n",
              "      <td>0</td>\n",
              "      <td>0</td>\n",
              "      <td>0.095238</td>\n",
              "    </tr>\n",
              "    <tr>\n",
              "      <th>2013-01-06</th>\n",
              "      <td>35.7</td>\n",
              "      <td>1019.7</td>\n",
              "      <td>5.9</td>\n",
              "      <td>0</td>\n",
              "      <td>0</td>\n",
              "      <td>0</td>\n",
              "      <td>0</td>\n",
              "      <td>1</td>\n",
              "      <td>0</td>\n",
              "      <td>0</td>\n",
              "      <td>0</td>\n",
              "      <td>0</td>\n",
              "      <td>0</td>\n",
              "      <td>0</td>\n",
              "      <td>0</td>\n",
              "      <td>0</td>\n",
              "      <td>0</td>\n",
              "      <td>0</td>\n",
              "      <td>1</td>\n",
              "      <td>0</td>\n",
              "      <td>0</td>\n",
              "      <td>0</td>\n",
              "      <td>0.118056</td>\n",
              "    </tr>\n",
              "  </tbody>\n",
              "</table>\n",
              "</div>"
            ],
            "text/plain": [
              "            temp     slp  wdsp  April  ...  Thursday  Tuesday  Wednesday  collisions\n",
              "date                                   ...                                          \n",
              "2013-01-01  38.0  1008.8  15.0      0  ...         0        1          0    0.097222\n",
              "2013-01-02  27.5  1013.4  12.4      0  ...         0        0          1    0.498747\n",
              "2013-01-03  21.8  1018.1   9.8      0  ...         1        0          0    0.527430\n",
              "2013-01-04  32.2  1015.2  11.3      0  ...         0        0          0    0.645503\n",
              "2013-01-05  37.3  1017.3  13.2      0  ...         0        0          0    0.095238\n",
              "2013-01-06  35.7  1019.7   5.9      0  ...         0        0          0    0.118056\n",
              "\n",
              "[6 rows x 23 columns]"
            ]
          },
          "metadata": {
            "tags": []
          },
          "execution_count": 22
        }
      ]
    },
    {
      "cell_type": "code",
      "metadata": {
        "colab": {
          "base_uri": "https://localhost:8080/"
        },
        "id": "wlDRET11K-2i",
        "outputId": "28885bfc-28e5-49a7-807f-93b8b378d2b3"
      },
      "source": [
        "# make sure we have our data by printing it out\r\n",
        "df_dnn.info()"
      ],
      "execution_count": null,
      "outputs": [
        {
          "output_type": "stream",
          "text": [
            "<class 'pandas.core.frame.DataFrame'>\n",
            "Index: 2555 entries, 2013-01-01 to 2019-12-31\n",
            "Data columns (total 23 columns):\n",
            " #   Column      Non-Null Count  Dtype  \n",
            "---  ------      --------------  -----  \n",
            " 0   temp        2555 non-null   float64\n",
            " 1   slp         2555 non-null   float64\n",
            " 2   wdsp        2555 non-null   float64\n",
            " 3   April       2555 non-null   int64  \n",
            " 4   August      2555 non-null   int64  \n",
            " 5   December    2555 non-null   int64  \n",
            " 6   February    2555 non-null   int64  \n",
            " 7   January     2555 non-null   int64  \n",
            " 8   July        2555 non-null   int64  \n",
            " 9   June        2555 non-null   int64  \n",
            " 10  March       2555 non-null   int64  \n",
            " 11  May         2555 non-null   int64  \n",
            " 12  November    2555 non-null   int64  \n",
            " 13  October     2555 non-null   int64  \n",
            " 14  September   2555 non-null   int64  \n",
            " 15  Friday      2555 non-null   int64  \n",
            " 16  Monday      2555 non-null   int64  \n",
            " 17  Saturday    2555 non-null   int64  \n",
            " 18  Sunday      2555 non-null   int64  \n",
            " 19  Thursday    2555 non-null   int64  \n",
            " 20  Tuesday     2555 non-null   int64  \n",
            " 21  Wednesday   2555 non-null   int64  \n",
            " 22  collisions  2555 non-null   float64\n",
            "dtypes: float64(4), int64(19)\n",
            "memory usage: 479.1+ KB\n"
          ],
          "name": "stdout"
        }
      ]
    },
    {
      "cell_type": "markdown",
      "metadata": {
        "id": "KTdFklg0E6pp"
      },
      "source": [
        "The collison data column is set to the target `y` value, dropped from the predictor columns for the `X` component and then the data was split into `_train` and `_test` values."
      ]
    },
    {
      "cell_type": "code",
      "metadata": {
        "id": "u7r6wfk7LI3z"
      },
      "source": [
        "# The data is split between the target 'y' and the predictors 'X'\r\n",
        "y = df_dnn['collisions']\r\n",
        "X = df_dnn.drop('collisions', axis=1)\r\n",
        "\r\n",
        "# Training sets and testing sets are created by scrambling and the rows of the \r\n",
        "# predictors 'X' and targets 'y'. \r\n",
        "X_train, X_test, y_train, y_test = train_test_split(X, y, test_size = 0.2, random_state = 101)"
      ],
      "execution_count": null,
      "outputs": []
    },
    {
      "cell_type": "code",
      "metadata": {
        "colab": {
          "base_uri": "https://localhost:8080/",
          "height": 728
        },
        "id": "f5vX5kBs3f-7",
        "outputId": "ee4ed829-022e-4f4b-8911-bffae8958811"
      },
      "source": [
        "X_train.info()\r\n",
        "X_train.head()"
      ],
      "execution_count": null,
      "outputs": [
        {
          "output_type": "stream",
          "text": [
            "<class 'pandas.core.frame.DataFrame'>\n",
            "Index: 2044 entries, 2017-10-30 to 2015-05-14\n",
            "Data columns (total 22 columns):\n",
            " #   Column     Non-Null Count  Dtype  \n",
            "---  ------     --------------  -----  \n",
            " 0   temp       2044 non-null   float64\n",
            " 1   slp        2044 non-null   float64\n",
            " 2   wdsp       2044 non-null   float64\n",
            " 3   April      2044 non-null   int64  \n",
            " 4   August     2044 non-null   int64  \n",
            " 5   December   2044 non-null   int64  \n",
            " 6   February   2044 non-null   int64  \n",
            " 7   January    2044 non-null   int64  \n",
            " 8   July       2044 non-null   int64  \n",
            " 9   June       2044 non-null   int64  \n",
            " 10  March      2044 non-null   int64  \n",
            " 11  May        2044 non-null   int64  \n",
            " 12  November   2044 non-null   int64  \n",
            " 13  October    2044 non-null   int64  \n",
            " 14  September  2044 non-null   int64  \n",
            " 15  Friday     2044 non-null   int64  \n",
            " 16  Monday     2044 non-null   int64  \n",
            " 17  Saturday   2044 non-null   int64  \n",
            " 18  Sunday     2044 non-null   int64  \n",
            " 19  Thursday   2044 non-null   int64  \n",
            " 20  Tuesday    2044 non-null   int64  \n",
            " 21  Wednesday  2044 non-null   int64  \n",
            "dtypes: float64(3), int64(19)\n",
            "memory usage: 367.3+ KB\n"
          ],
          "name": "stdout"
        },
        {
          "output_type": "execute_result",
          "data": {
            "text/html": [
              "<div>\n",
              "<style scoped>\n",
              "    .dataframe tbody tr th:only-of-type {\n",
              "        vertical-align: middle;\n",
              "    }\n",
              "\n",
              "    .dataframe tbody tr th {\n",
              "        vertical-align: top;\n",
              "    }\n",
              "\n",
              "    .dataframe thead th {\n",
              "        text-align: right;\n",
              "    }\n",
              "</style>\n",
              "<table border=\"1\" class=\"dataframe\">\n",
              "  <thead>\n",
              "    <tr style=\"text-align: right;\">\n",
              "      <th></th>\n",
              "      <th>temp</th>\n",
              "      <th>slp</th>\n",
              "      <th>wdsp</th>\n",
              "      <th>April</th>\n",
              "      <th>August</th>\n",
              "      <th>December</th>\n",
              "      <th>February</th>\n",
              "      <th>January</th>\n",
              "      <th>July</th>\n",
              "      <th>June</th>\n",
              "      <th>March</th>\n",
              "      <th>May</th>\n",
              "      <th>November</th>\n",
              "      <th>October</th>\n",
              "      <th>September</th>\n",
              "      <th>Friday</th>\n",
              "      <th>Monday</th>\n",
              "      <th>Saturday</th>\n",
              "      <th>Sunday</th>\n",
              "      <th>Thursday</th>\n",
              "      <th>Tuesday</th>\n",
              "      <th>Wednesday</th>\n",
              "    </tr>\n",
              "    <tr>\n",
              "      <th>date</th>\n",
              "      <th></th>\n",
              "      <th></th>\n",
              "      <th></th>\n",
              "      <th></th>\n",
              "      <th></th>\n",
              "      <th></th>\n",
              "      <th></th>\n",
              "      <th></th>\n",
              "      <th></th>\n",
              "      <th></th>\n",
              "      <th></th>\n",
              "      <th></th>\n",
              "      <th></th>\n",
              "      <th></th>\n",
              "      <th></th>\n",
              "      <th></th>\n",
              "      <th></th>\n",
              "      <th></th>\n",
              "      <th></th>\n",
              "      <th></th>\n",
              "      <th></th>\n",
              "      <th></th>\n",
              "    </tr>\n",
              "  </thead>\n",
              "  <tbody>\n",
              "    <tr>\n",
              "      <th>2017-10-30</th>\n",
              "      <td>60.4</td>\n",
              "      <td>997.1</td>\n",
              "      <td>27.3</td>\n",
              "      <td>0</td>\n",
              "      <td>0</td>\n",
              "      <td>0</td>\n",
              "      <td>0</td>\n",
              "      <td>0</td>\n",
              "      <td>0</td>\n",
              "      <td>0</td>\n",
              "      <td>0</td>\n",
              "      <td>0</td>\n",
              "      <td>0</td>\n",
              "      <td>1</td>\n",
              "      <td>0</td>\n",
              "      <td>0</td>\n",
              "      <td>1</td>\n",
              "      <td>0</td>\n",
              "      <td>0</td>\n",
              "      <td>0</td>\n",
              "      <td>0</td>\n",
              "      <td>0</td>\n",
              "    </tr>\n",
              "    <tr>\n",
              "      <th>2015-06-30</th>\n",
              "      <td>67.1</td>\n",
              "      <td>1015.7</td>\n",
              "      <td>7.1</td>\n",
              "      <td>0</td>\n",
              "      <td>0</td>\n",
              "      <td>0</td>\n",
              "      <td>0</td>\n",
              "      <td>0</td>\n",
              "      <td>0</td>\n",
              "      <td>1</td>\n",
              "      <td>0</td>\n",
              "      <td>0</td>\n",
              "      <td>0</td>\n",
              "      <td>0</td>\n",
              "      <td>0</td>\n",
              "      <td>0</td>\n",
              "      <td>0</td>\n",
              "      <td>0</td>\n",
              "      <td>0</td>\n",
              "      <td>0</td>\n",
              "      <td>1</td>\n",
              "      <td>0</td>\n",
              "    </tr>\n",
              "    <tr>\n",
              "      <th>2018-04-12</th>\n",
              "      <td>42.8</td>\n",
              "      <td>1019.4</td>\n",
              "      <td>9.8</td>\n",
              "      <td>1</td>\n",
              "      <td>0</td>\n",
              "      <td>0</td>\n",
              "      <td>0</td>\n",
              "      <td>0</td>\n",
              "      <td>0</td>\n",
              "      <td>0</td>\n",
              "      <td>0</td>\n",
              "      <td>0</td>\n",
              "      <td>0</td>\n",
              "      <td>0</td>\n",
              "      <td>0</td>\n",
              "      <td>0</td>\n",
              "      <td>0</td>\n",
              "      <td>0</td>\n",
              "      <td>0</td>\n",
              "      <td>1</td>\n",
              "      <td>0</td>\n",
              "      <td>0</td>\n",
              "    </tr>\n",
              "    <tr>\n",
              "      <th>2015-07-12</th>\n",
              "      <td>71.5</td>\n",
              "      <td>1016.1</td>\n",
              "      <td>9.3</td>\n",
              "      <td>0</td>\n",
              "      <td>0</td>\n",
              "      <td>0</td>\n",
              "      <td>0</td>\n",
              "      <td>0</td>\n",
              "      <td>1</td>\n",
              "      <td>0</td>\n",
              "      <td>0</td>\n",
              "      <td>0</td>\n",
              "      <td>0</td>\n",
              "      <td>0</td>\n",
              "      <td>0</td>\n",
              "      <td>0</td>\n",
              "      <td>0</td>\n",
              "      <td>0</td>\n",
              "      <td>1</td>\n",
              "      <td>0</td>\n",
              "      <td>0</td>\n",
              "      <td>0</td>\n",
              "    </tr>\n",
              "    <tr>\n",
              "      <th>2018-03-16</th>\n",
              "      <td>36.1</td>\n",
              "      <td>1000.1</td>\n",
              "      <td>13.5</td>\n",
              "      <td>0</td>\n",
              "      <td>0</td>\n",
              "      <td>0</td>\n",
              "      <td>0</td>\n",
              "      <td>0</td>\n",
              "      <td>0</td>\n",
              "      <td>0</td>\n",
              "      <td>1</td>\n",
              "      <td>0</td>\n",
              "      <td>0</td>\n",
              "      <td>0</td>\n",
              "      <td>0</td>\n",
              "      <td>1</td>\n",
              "      <td>0</td>\n",
              "      <td>0</td>\n",
              "      <td>0</td>\n",
              "      <td>0</td>\n",
              "      <td>0</td>\n",
              "      <td>0</td>\n",
              "    </tr>\n",
              "  </tbody>\n",
              "</table>\n",
              "</div>"
            ],
            "text/plain": [
              "            temp     slp  wdsp  April  ...  Sunday  Thursday  Tuesday  Wednesday\n",
              "date                                   ...                                      \n",
              "2017-10-30  60.4   997.1  27.3      0  ...       0         0        0          0\n",
              "2015-06-30  67.1  1015.7   7.1      0  ...       0         0        1          0\n",
              "2018-04-12  42.8  1019.4   9.8      1  ...       0         1        0          0\n",
              "2015-07-12  71.5  1016.1   9.3      0  ...       1         0        0          0\n",
              "2018-03-16  36.1  1000.1  13.5      0  ...       0         0        0          0\n",
              "\n",
              "[5 rows x 22 columns]"
            ]
          },
          "metadata": {
            "tags": []
          },
          "execution_count": 25
        }
      ]
    },
    {
      "cell_type": "code",
      "metadata": {
        "colab": {
          "base_uri": "https://localhost:8080/",
          "height": 728
        },
        "id": "-KFh3m6V3f0p",
        "outputId": "aea63854-1872-43a0-b49e-741c4ccf10bf"
      },
      "source": [
        "X_test.info()\r\n",
        "X_test.head()"
      ],
      "execution_count": null,
      "outputs": [
        {
          "output_type": "stream",
          "text": [
            "<class 'pandas.core.frame.DataFrame'>\n",
            "Index: 511 entries, 2019-10-27 to 2013-08-17\n",
            "Data columns (total 22 columns):\n",
            " #   Column     Non-Null Count  Dtype  \n",
            "---  ------     --------------  -----  \n",
            " 0   temp       511 non-null    float64\n",
            " 1   slp        511 non-null    float64\n",
            " 2   wdsp       511 non-null    float64\n",
            " 3   April      511 non-null    int64  \n",
            " 4   August     511 non-null    int64  \n",
            " 5   December   511 non-null    int64  \n",
            " 6   February   511 non-null    int64  \n",
            " 7   January    511 non-null    int64  \n",
            " 8   July       511 non-null    int64  \n",
            " 9   June       511 non-null    int64  \n",
            " 10  March      511 non-null    int64  \n",
            " 11  May        511 non-null    int64  \n",
            " 12  November   511 non-null    int64  \n",
            " 13  October    511 non-null    int64  \n",
            " 14  September  511 non-null    int64  \n",
            " 15  Friday     511 non-null    int64  \n",
            " 16  Monday     511 non-null    int64  \n",
            " 17  Saturday   511 non-null    int64  \n",
            " 18  Sunday     511 non-null    int64  \n",
            " 19  Thursday   511 non-null    int64  \n",
            " 20  Tuesday    511 non-null    int64  \n",
            " 21  Wednesday  511 non-null    int64  \n",
            "dtypes: float64(3), int64(19)\n",
            "memory usage: 91.8+ KB\n"
          ],
          "name": "stdout"
        },
        {
          "output_type": "execute_result",
          "data": {
            "text/html": [
              "<div>\n",
              "<style scoped>\n",
              "    .dataframe tbody tr th:only-of-type {\n",
              "        vertical-align: middle;\n",
              "    }\n",
              "\n",
              "    .dataframe tbody tr th {\n",
              "        vertical-align: top;\n",
              "    }\n",
              "\n",
              "    .dataframe thead th {\n",
              "        text-align: right;\n",
              "    }\n",
              "</style>\n",
              "<table border=\"1\" class=\"dataframe\">\n",
              "  <thead>\n",
              "    <tr style=\"text-align: right;\">\n",
              "      <th></th>\n",
              "      <th>temp</th>\n",
              "      <th>slp</th>\n",
              "      <th>wdsp</th>\n",
              "      <th>April</th>\n",
              "      <th>August</th>\n",
              "      <th>December</th>\n",
              "      <th>February</th>\n",
              "      <th>January</th>\n",
              "      <th>July</th>\n",
              "      <th>June</th>\n",
              "      <th>March</th>\n",
              "      <th>May</th>\n",
              "      <th>November</th>\n",
              "      <th>October</th>\n",
              "      <th>September</th>\n",
              "      <th>Friday</th>\n",
              "      <th>Monday</th>\n",
              "      <th>Saturday</th>\n",
              "      <th>Sunday</th>\n",
              "      <th>Thursday</th>\n",
              "      <th>Tuesday</th>\n",
              "      <th>Wednesday</th>\n",
              "    </tr>\n",
              "    <tr>\n",
              "      <th>date</th>\n",
              "      <th></th>\n",
              "      <th></th>\n",
              "      <th></th>\n",
              "      <th></th>\n",
              "      <th></th>\n",
              "      <th></th>\n",
              "      <th></th>\n",
              "      <th></th>\n",
              "      <th></th>\n",
              "      <th></th>\n",
              "      <th></th>\n",
              "      <th></th>\n",
              "      <th></th>\n",
              "      <th></th>\n",
              "      <th></th>\n",
              "      <th></th>\n",
              "      <th></th>\n",
              "      <th></th>\n",
              "      <th></th>\n",
              "      <th></th>\n",
              "      <th></th>\n",
              "      <th></th>\n",
              "    </tr>\n",
              "  </thead>\n",
              "  <tbody>\n",
              "    <tr>\n",
              "      <th>2019-10-27</th>\n",
              "      <td>53.4</td>\n",
              "      <td>1022.7</td>\n",
              "      <td>14.3</td>\n",
              "      <td>0</td>\n",
              "      <td>0</td>\n",
              "      <td>0</td>\n",
              "      <td>0</td>\n",
              "      <td>0</td>\n",
              "      <td>0</td>\n",
              "      <td>0</td>\n",
              "      <td>0</td>\n",
              "      <td>0</td>\n",
              "      <td>0</td>\n",
              "      <td>1</td>\n",
              "      <td>0</td>\n",
              "      <td>0</td>\n",
              "      <td>0</td>\n",
              "      <td>0</td>\n",
              "      <td>1</td>\n",
              "      <td>0</td>\n",
              "      <td>0</td>\n",
              "      <td>0</td>\n",
              "    </tr>\n",
              "    <tr>\n",
              "      <th>2018-01-08</th>\n",
              "      <td>35.0</td>\n",
              "      <td>1023.6</td>\n",
              "      <td>18.3</td>\n",
              "      <td>0</td>\n",
              "      <td>0</td>\n",
              "      <td>0</td>\n",
              "      <td>0</td>\n",
              "      <td>1</td>\n",
              "      <td>0</td>\n",
              "      <td>0</td>\n",
              "      <td>0</td>\n",
              "      <td>0</td>\n",
              "      <td>0</td>\n",
              "      <td>0</td>\n",
              "      <td>0</td>\n",
              "      <td>0</td>\n",
              "      <td>1</td>\n",
              "      <td>0</td>\n",
              "      <td>0</td>\n",
              "      <td>0</td>\n",
              "      <td>0</td>\n",
              "      <td>0</td>\n",
              "    </tr>\n",
              "    <tr>\n",
              "      <th>2018-10-28</th>\n",
              "      <td>56.8</td>\n",
              "      <td>1007.4</td>\n",
              "      <td>13.4</td>\n",
              "      <td>0</td>\n",
              "      <td>0</td>\n",
              "      <td>0</td>\n",
              "      <td>0</td>\n",
              "      <td>0</td>\n",
              "      <td>0</td>\n",
              "      <td>0</td>\n",
              "      <td>0</td>\n",
              "      <td>0</td>\n",
              "      <td>0</td>\n",
              "      <td>1</td>\n",
              "      <td>0</td>\n",
              "      <td>0</td>\n",
              "      <td>0</td>\n",
              "      <td>0</td>\n",
              "      <td>1</td>\n",
              "      <td>0</td>\n",
              "      <td>0</td>\n",
              "      <td>0</td>\n",
              "    </tr>\n",
              "    <tr>\n",
              "      <th>2017-04-23</th>\n",
              "      <td>46.5</td>\n",
              "      <td>1017.3</td>\n",
              "      <td>10.5</td>\n",
              "      <td>1</td>\n",
              "      <td>0</td>\n",
              "      <td>0</td>\n",
              "      <td>0</td>\n",
              "      <td>0</td>\n",
              "      <td>0</td>\n",
              "      <td>0</td>\n",
              "      <td>0</td>\n",
              "      <td>0</td>\n",
              "      <td>0</td>\n",
              "      <td>0</td>\n",
              "      <td>0</td>\n",
              "      <td>0</td>\n",
              "      <td>0</td>\n",
              "      <td>0</td>\n",
              "      <td>1</td>\n",
              "      <td>0</td>\n",
              "      <td>0</td>\n",
              "      <td>0</td>\n",
              "    </tr>\n",
              "    <tr>\n",
              "      <th>2018-11-22</th>\n",
              "      <td>24.9</td>\n",
              "      <td>1022.1</td>\n",
              "      <td>19.2</td>\n",
              "      <td>0</td>\n",
              "      <td>0</td>\n",
              "      <td>0</td>\n",
              "      <td>0</td>\n",
              "      <td>0</td>\n",
              "      <td>0</td>\n",
              "      <td>0</td>\n",
              "      <td>0</td>\n",
              "      <td>0</td>\n",
              "      <td>1</td>\n",
              "      <td>0</td>\n",
              "      <td>0</td>\n",
              "      <td>0</td>\n",
              "      <td>0</td>\n",
              "      <td>0</td>\n",
              "      <td>0</td>\n",
              "      <td>1</td>\n",
              "      <td>0</td>\n",
              "      <td>0</td>\n",
              "    </tr>\n",
              "  </tbody>\n",
              "</table>\n",
              "</div>"
            ],
            "text/plain": [
              "            temp     slp  wdsp  April  ...  Sunday  Thursday  Tuesday  Wednesday\n",
              "date                                   ...                                      \n",
              "2019-10-27  53.4  1022.7  14.3      0  ...       1         0        0          0\n",
              "2018-01-08  35.0  1023.6  18.3      0  ...       0         0        0          0\n",
              "2018-10-28  56.8  1007.4  13.4      0  ...       1         0        0          0\n",
              "2017-04-23  46.5  1017.3  10.5      1  ...       1         0        0          0\n",
              "2018-11-22  24.9  1022.1  19.2      0  ...       0         1        0          0\n",
              "\n",
              "[5 rows x 22 columns]"
            ]
          },
          "metadata": {
            "tags": []
          },
          "execution_count": 26
        }
      ]
    },
    {
      "cell_type": "code",
      "metadata": {
        "colab": {
          "base_uri": "https://localhost:8080/"
        },
        "id": "1GyjrbAe3u-H",
        "outputId": "ef498570-a756-43e3-b9ca-21c1c282203b"
      },
      "source": [
        "print(f\"\"\"{y_train.head()}\r\n",
        "\r\n",
        "Length: {len(y_train)}\r\n",
        "\"\"\")"
      ],
      "execution_count": null,
      "outputs": [
        {
          "output_type": "stream",
          "text": [
            "date\n",
            "2017-10-30    0.445346\n",
            "2015-06-30    0.508846\n",
            "2018-04-12    0.516092\n",
            "2015-07-12    0.209363\n",
            "2018-03-16    0.440729\n",
            "Name: collisions, dtype: float64\n",
            "\n",
            "Length: 2044\n",
            "\n"
          ],
          "name": "stdout"
        }
      ]
    },
    {
      "cell_type": "code",
      "metadata": {
        "colab": {
          "base_uri": "https://localhost:8080/"
        },
        "id": "xMxGlbnv3yX4",
        "outputId": "17081ccf-0239-4fab-c60c-79e7bc47c17b"
      },
      "source": [
        "print(f\"\"\"{y_test.head()}\r\n",
        "\r\n",
        "Length: {len(y_test)}\r\n",
        "\"\"\")"
      ],
      "execution_count": null,
      "outputs": [
        {
          "output_type": "stream",
          "text": [
            "date\n",
            "2019-10-27    0.185617\n",
            "2018-01-08    0.583673\n",
            "2018-10-28    0.188135\n",
            "2017-04-23    0.201825\n",
            "2018-11-22    0.046875\n",
            "Name: collisions, dtype: float64\n",
            "\n",
            "Length: 511\n",
            "\n"
          ],
          "name": "stdout"
        }
      ]
    },
    {
      "cell_type": "code",
      "metadata": {
        "id": "6K5BcqCMLJ46"
      },
      "source": [
        "# A scale is not required here, but the constant will be useful in the assignment.\r\n",
        "SCALE_NUM_TRIPS = 1.0"
      ],
      "execution_count": null,
      "outputs": []
    },
    {
      "cell_type": "markdown",
      "metadata": {
        "id": "EKHgc8dsHNh4"
      },
      "source": [
        "The DNN model is saved in a different directory from the linear model. "
      ]
    },
    {
      "cell_type": "code",
      "metadata": {
        "id": "93ITngGCHMgY"
      },
      "source": [
        "# removes a saved model from the last training attempt.\r\n",
        "shutil.rmtree('/tmp/DNN_house_regression_trained_model', ignore_errors=True)"
      ],
      "execution_count": null,
      "outputs": []
    },
    {
      "cell_type": "markdown",
      "metadata": {
        "id": "hqkRjQ_lHnjv"
      },
      "source": [
        "The DNN model is then run in a similar manner to the linear regression models in the chosen directory. The Adam Optimizer is again used, centrered bias is set to `False`. The model framework is set up with the training data before being fitted with the training data."
      ]
    },
    {
      "cell_type": "code",
      "metadata": {
        "colab": {
          "base_uri": "https://localhost:8080/"
        },
        "id": "P2kvOV4uLMsK",
        "outputId": "5d02ed93-03b3-4868-903e-ebfacf23821f"
      },
      "source": [
        "# logging for tensorflow\r\n",
        "tf.compat.v1.logging.set_verbosity(tf.compat.v1.logging.INFO)\r\n",
        "\r\n",
        "estimator_dnn = tf.contrib.learn.SKCompat(\r\n",
        "    tf.contrib.learn.DNNRegressor(\r\n",
        "        model_dir='/tmp/DNN_house_regression_trained_model', \r\n",
        "        hidden_units=[20,18,14], \r\n",
        "        optimizer=tf.train.AdamOptimizer(learning_rate=0.01), \r\n",
        "        enable_centered_bias=False, \r\n",
        "        feature_columns=tf.contrib.learn.infer_real_valued_columns_from_input(\r\n",
        "            X_train\r\n",
        "        )\r\n",
        "    )\r\n",
        ")\r\n",
        "\r\n",
        "# Prints a log to show model is starting to train\r\n",
        "print(\"starting to train\");\r\n",
        "\r\n",
        "# Train the model. Pass in predictor values and target values.\r\n",
        "estimator_dnn.fit(X_train, y_train/SCALE_NUM_TRIPS, steps=10000)\r\n",
        "\r\n",
        "# Next, we can check our predictions based on our predictors.\r\n",
        "preds_dnn = estimator_dnn.predict(x=X_test)"
      ],
      "execution_count": null,
      "outputs": [
        {
          "output_type": "stream",
          "text": [
            "WARNING:tensorflow:float64 is not supported by many models, consider casting to float32.\n",
            "INFO:tensorflow:Using default config.\n",
            "INFO:tensorflow:Using config: {'_task_type': None, '_task_id': 0, '_cluster_spec': <tensorflow.python.training.server_lib.ClusterSpec object at 0x7fa0d888f9e8>, '_master': '', '_num_ps_replicas': 0, '_num_worker_replicas': 0, '_environment': 'local', '_is_chief': True, '_evaluation_master': '', '_train_distribute': None, '_eval_distribute': None, '_experimental_max_worker_delay_secs': None, '_device_fn': None, '_tf_config': gpu_options {\n",
            "  per_process_gpu_memory_fraction: 1.0\n",
            "}\n",
            ", '_tf_random_seed': None, '_save_summary_steps': 100, '_save_checkpoints_secs': 600, '_log_step_count_steps': 100, '_protocol': None, '_session_config': None, '_save_checkpoints_steps': None, '_keep_checkpoint_max': 5, '_keep_checkpoint_every_n_hours': 10000, '_model_dir': '/tmp/DNN_house_regression_trained_model', '_session_creation_timeout_secs': 7200}\n",
            "starting to train\n",
            "WARNING:tensorflow:float64 is not supported by many models, consider casting to float32.\n",
            "WARNING:tensorflow:float64 is not supported by many models, consider casting to float32.\n",
            "WARNING:tensorflow:From /tensorflow-1.15.2/python3.6/tensorflow_core/contrib/layers/python/layers/layers.py:1866: Layer.apply (from tensorflow.python.keras.engine.base_layer) is deprecated and will be removed in a future version.\n",
            "Instructions for updating:\n",
            "Please use `layer.__call__` method instead.\n",
            "INFO:tensorflow:Create CheckpointSaverHook.\n",
            "INFO:tensorflow:Graph was finalized.\n",
            "INFO:tensorflow:Running local_init_op.\n",
            "INFO:tensorflow:Done running local_init_op.\n",
            "INFO:tensorflow:Saving checkpoints for 0 into /tmp/DNN_house_regression_trained_model/model.ckpt.\n",
            "INFO:tensorflow:loss = 42607.1, step = 1\n",
            "INFO:tensorflow:global_step/sec: 279.17\n",
            "INFO:tensorflow:loss = 0.65222806, step = 101 (0.362 sec)\n",
            "INFO:tensorflow:global_step/sec: 323.702\n",
            "INFO:tensorflow:loss = 0.16100599, step = 201 (0.310 sec)\n",
            "INFO:tensorflow:global_step/sec: 292.398\n",
            "INFO:tensorflow:loss = 0.1310606, step = 301 (0.340 sec)\n",
            "INFO:tensorflow:global_step/sec: 314.845\n",
            "INFO:tensorflow:loss = 0.06752324, step = 401 (0.318 sec)\n",
            "INFO:tensorflow:global_step/sec: 331.996\n",
            "INFO:tensorflow:loss = 0.041126996, step = 501 (0.304 sec)\n",
            "INFO:tensorflow:global_step/sec: 307.613\n",
            "INFO:tensorflow:loss = 0.04053433, step = 601 (0.329 sec)\n",
            "INFO:tensorflow:global_step/sec: 306.406\n",
            "INFO:tensorflow:loss = 0.05095186, step = 701 (0.318 sec)\n",
            "INFO:tensorflow:global_step/sec: 329.571\n",
            "INFO:tensorflow:loss = 0.05801044, step = 801 (0.307 sec)\n",
            "INFO:tensorflow:global_step/sec: 321.239\n",
            "INFO:tensorflow:loss = 0.055612244, step = 901 (0.312 sec)\n",
            "INFO:tensorflow:global_step/sec: 311.054\n",
            "INFO:tensorflow:loss = 0.02806265, step = 1001 (0.318 sec)\n",
            "INFO:tensorflow:global_step/sec: 325.726\n",
            "INFO:tensorflow:loss = 0.041093722, step = 1101 (0.310 sec)\n",
            "INFO:tensorflow:global_step/sec: 310.183\n",
            "INFO:tensorflow:loss = 0.055102695, step = 1201 (0.320 sec)\n",
            "INFO:tensorflow:global_step/sec: 311.324\n",
            "INFO:tensorflow:loss = 0.08024846, step = 1301 (0.327 sec)\n",
            "INFO:tensorflow:global_step/sec: 328.517\n",
            "INFO:tensorflow:loss = 0.04822473, step = 1401 (0.298 sec)\n",
            "INFO:tensorflow:global_step/sec: 324.067\n",
            "INFO:tensorflow:loss = 0.03681902, step = 1501 (0.308 sec)\n",
            "INFO:tensorflow:global_step/sec: 297.67\n",
            "INFO:tensorflow:loss = 0.051002085, step = 1601 (0.336 sec)\n",
            "INFO:tensorflow:global_step/sec: 309.594\n",
            "INFO:tensorflow:loss = 0.060483404, step = 1701 (0.324 sec)\n",
            "INFO:tensorflow:global_step/sec: 327.142\n",
            "INFO:tensorflow:loss = 0.0640101, step = 1801 (0.308 sec)\n",
            "INFO:tensorflow:global_step/sec: 314.763\n",
            "INFO:tensorflow:loss = 0.22291037, step = 1901 (0.317 sec)\n",
            "INFO:tensorflow:global_step/sec: 335.178\n",
            "INFO:tensorflow:loss = 0.030166302, step = 2001 (0.298 sec)\n",
            "INFO:tensorflow:global_step/sec: 296.415\n",
            "INFO:tensorflow:loss = 0.15561527, step = 2101 (0.335 sec)\n",
            "INFO:tensorflow:global_step/sec: 298.751\n",
            "INFO:tensorflow:loss = 0.22193329, step = 2201 (0.335 sec)\n",
            "INFO:tensorflow:global_step/sec: 328.135\n",
            "INFO:tensorflow:loss = 0.23963954, step = 2301 (0.307 sec)\n",
            "INFO:tensorflow:global_step/sec: 339.983\n",
            "INFO:tensorflow:loss = 0.06610912, step = 2401 (0.295 sec)\n",
            "INFO:tensorflow:global_step/sec: 319.225\n",
            "INFO:tensorflow:loss = 0.2476629, step = 2501 (0.310 sec)\n",
            "INFO:tensorflow:global_step/sec: 323.261\n",
            "INFO:tensorflow:loss = 0.08352816, step = 2601 (0.311 sec)\n",
            "INFO:tensorflow:global_step/sec: 315.678\n",
            "INFO:tensorflow:loss = 0.5109858, step = 2701 (0.318 sec)\n",
            "INFO:tensorflow:global_step/sec: 323.479\n",
            "INFO:tensorflow:loss = 0.07153767, step = 2801 (0.311 sec)\n",
            "INFO:tensorflow:global_step/sec: 324.617\n",
            "INFO:tensorflow:loss = 0.06655566, step = 2901 (0.306 sec)\n",
            "INFO:tensorflow:global_step/sec: 333.049\n",
            "INFO:tensorflow:loss = 0.21095887, step = 3001 (0.301 sec)\n",
            "INFO:tensorflow:global_step/sec: 292.904\n",
            "INFO:tensorflow:loss = 0.064701244, step = 3101 (0.343 sec)\n",
            "INFO:tensorflow:global_step/sec: 311.098\n",
            "INFO:tensorflow:loss = 0.19653475, step = 3201 (0.319 sec)\n",
            "INFO:tensorflow:global_step/sec: 332.034\n",
            "INFO:tensorflow:loss = 0.3652052, step = 3301 (0.302 sec)\n",
            "INFO:tensorflow:global_step/sec: 323.463\n",
            "INFO:tensorflow:loss = 0.32617438, step = 3401 (0.306 sec)\n",
            "INFO:tensorflow:global_step/sec: 301.927\n",
            "INFO:tensorflow:loss = 0.03841371, step = 3501 (0.331 sec)\n",
            "INFO:tensorflow:global_step/sec: 323.662\n",
            "INFO:tensorflow:loss = 0.070604004, step = 3601 (0.309 sec)\n",
            "INFO:tensorflow:global_step/sec: 326.091\n",
            "INFO:tensorflow:loss = 0.044020057, step = 3701 (0.310 sec)\n",
            "INFO:tensorflow:global_step/sec: 326.641\n",
            "INFO:tensorflow:loss = 0.09541358, step = 3801 (0.306 sec)\n",
            "INFO:tensorflow:global_step/sec: 290.305\n",
            "INFO:tensorflow:loss = 0.03352461, step = 3901 (0.342 sec)\n",
            "INFO:tensorflow:global_step/sec: 290.442\n",
            "INFO:tensorflow:loss = 0.11842283, step = 4001 (0.347 sec)\n",
            "INFO:tensorflow:global_step/sec: 312.936\n",
            "INFO:tensorflow:loss = 1.0877142, step = 4101 (0.317 sec)\n",
            "INFO:tensorflow:global_step/sec: 315.57\n",
            "INFO:tensorflow:loss = 0.17196694, step = 4201 (0.320 sec)\n",
            "INFO:tensorflow:global_step/sec: 323.347\n",
            "INFO:tensorflow:loss = 0.23912501, step = 4301 (0.314 sec)\n",
            "INFO:tensorflow:global_step/sec: 298.733\n",
            "INFO:tensorflow:loss = 0.041250326, step = 4401 (0.331 sec)\n",
            "INFO:tensorflow:global_step/sec: 313.536\n",
            "INFO:tensorflow:loss = 0.6158182, step = 4501 (0.319 sec)\n",
            "INFO:tensorflow:global_step/sec: 327.904\n",
            "INFO:tensorflow:loss = 0.07742097, step = 4601 (0.302 sec)\n",
            "INFO:tensorflow:global_step/sec: 335.451\n",
            "INFO:tensorflow:loss = 0.04471403, step = 4701 (0.302 sec)\n",
            "INFO:tensorflow:global_step/sec: 314.734\n",
            "INFO:tensorflow:loss = 0.12781096, step = 4801 (0.317 sec)\n",
            "INFO:tensorflow:global_step/sec: 310.514\n",
            "INFO:tensorflow:loss = 0.19622919, step = 4901 (0.322 sec)\n",
            "INFO:tensorflow:global_step/sec: 310.878\n",
            "INFO:tensorflow:loss = 0.33758563, step = 5001 (0.321 sec)\n",
            "INFO:tensorflow:global_step/sec: 318.295\n",
            "INFO:tensorflow:loss = 0.058415305, step = 5101 (0.312 sec)\n",
            "INFO:tensorflow:global_step/sec: 321.902\n",
            "INFO:tensorflow:loss = 0.03673019, step = 5201 (0.311 sec)\n",
            "INFO:tensorflow:global_step/sec: 316.914\n",
            "INFO:tensorflow:loss = 0.04865019, step = 5301 (0.316 sec)\n",
            "INFO:tensorflow:global_step/sec: 322.213\n",
            "INFO:tensorflow:loss = 0.033968426, step = 5401 (0.313 sec)\n",
            "INFO:tensorflow:global_step/sec: 320.43\n",
            "INFO:tensorflow:loss = 0.037933674, step = 5501 (0.311 sec)\n",
            "INFO:tensorflow:global_step/sec: 312.521\n",
            "INFO:tensorflow:loss = 0.082156, step = 5601 (0.322 sec)\n",
            "INFO:tensorflow:global_step/sec: 308.343\n",
            "INFO:tensorflow:loss = 0.035161827, step = 5701 (0.324 sec)\n",
            "INFO:tensorflow:global_step/sec: 326.018\n",
            "INFO:tensorflow:loss = 0.5791743, step = 5801 (0.308 sec)\n",
            "INFO:tensorflow:global_step/sec: 322.112\n",
            "INFO:tensorflow:loss = 0.2538267, step = 5901 (0.307 sec)\n",
            "INFO:tensorflow:global_step/sec: 317.343\n",
            "INFO:tensorflow:loss = 0.06969869, step = 6001 (0.315 sec)\n",
            "INFO:tensorflow:global_step/sec: 328.791\n",
            "INFO:tensorflow:loss = 0.036903966, step = 6101 (0.304 sec)\n",
            "INFO:tensorflow:global_step/sec: 337.088\n",
            "INFO:tensorflow:loss = 0.08378433, step = 6201 (0.297 sec)\n",
            "INFO:tensorflow:global_step/sec: 296.388\n",
            "INFO:tensorflow:loss = 0.04446563, step = 6301 (0.338 sec)\n",
            "INFO:tensorflow:global_step/sec: 305.768\n",
            "INFO:tensorflow:loss = 0.039717227, step = 6401 (0.330 sec)\n",
            "INFO:tensorflow:global_step/sec: 311.117\n",
            "INFO:tensorflow:loss = 0.05323727, step = 6501 (0.321 sec)\n",
            "INFO:tensorflow:global_step/sec: 328.423\n",
            "INFO:tensorflow:loss = 0.03583514, step = 6601 (0.301 sec)\n",
            "INFO:tensorflow:global_step/sec: 324.743\n",
            "INFO:tensorflow:loss = 0.104363754, step = 6701 (0.311 sec)\n",
            "INFO:tensorflow:global_step/sec: 328.239\n",
            "INFO:tensorflow:loss = 0.06356325, step = 6801 (0.302 sec)\n",
            "INFO:tensorflow:global_step/sec: 322.733\n",
            "INFO:tensorflow:loss = 0.031969797, step = 6901 (0.311 sec)\n",
            "INFO:tensorflow:global_step/sec: 313.016\n",
            "INFO:tensorflow:loss = 0.062841594, step = 7001 (0.321 sec)\n",
            "INFO:tensorflow:global_step/sec: 312.439\n",
            "INFO:tensorflow:loss = 0.031961232, step = 7101 (0.318 sec)\n",
            "INFO:tensorflow:global_step/sec: 328.048\n",
            "INFO:tensorflow:loss = 0.030955296, step = 7201 (0.305 sec)\n",
            "INFO:tensorflow:global_step/sec: 304.582\n",
            "INFO:tensorflow:loss = 0.044509023, step = 7301 (0.331 sec)\n",
            "INFO:tensorflow:global_step/sec: 314.828\n",
            "INFO:tensorflow:loss = 0.035510477, step = 7401 (0.318 sec)\n",
            "INFO:tensorflow:global_step/sec: 311.853\n",
            "INFO:tensorflow:loss = 0.069922596, step = 7501 (0.320 sec)\n",
            "INFO:tensorflow:global_step/sec: 320.361\n",
            "INFO:tensorflow:loss = 0.04869242, step = 7601 (0.313 sec)\n",
            "INFO:tensorflow:global_step/sec: 315.944\n",
            "INFO:tensorflow:loss = 0.029198421, step = 7701 (0.314 sec)\n",
            "INFO:tensorflow:global_step/sec: 323.703\n",
            "INFO:tensorflow:loss = 0.09049596, step = 7801 (0.311 sec)\n",
            "INFO:tensorflow:global_step/sec: 318.826\n",
            "INFO:tensorflow:loss = 0.054407697, step = 7901 (0.310 sec)\n",
            "INFO:tensorflow:global_step/sec: 316.466\n",
            "INFO:tensorflow:loss = 0.052710265, step = 8001 (0.316 sec)\n",
            "INFO:tensorflow:global_step/sec: 336.172\n",
            "INFO:tensorflow:loss = 0.045246087, step = 8101 (0.298 sec)\n",
            "INFO:tensorflow:global_step/sec: 315.53\n",
            "INFO:tensorflow:loss = 0.02531173, step = 8201 (0.317 sec)\n",
            "INFO:tensorflow:global_step/sec: 324.583\n",
            "INFO:tensorflow:loss = 0.04173002, step = 8301 (0.312 sec)\n",
            "INFO:tensorflow:global_step/sec: 308.642\n",
            "INFO:tensorflow:loss = 0.06332256, step = 8401 (0.320 sec)\n",
            "INFO:tensorflow:global_step/sec: 328.072\n",
            "INFO:tensorflow:loss = 0.05104978, step = 8501 (0.306 sec)\n",
            "INFO:tensorflow:global_step/sec: 310.228\n",
            "INFO:tensorflow:loss = 0.062079974, step = 8601 (0.324 sec)\n",
            "INFO:tensorflow:global_step/sec: 302.692\n",
            "INFO:tensorflow:loss = 0.10211718, step = 8701 (0.330 sec)\n",
            "INFO:tensorflow:global_step/sec: 287.116\n",
            "INFO:tensorflow:loss = 0.036276687, step = 8801 (0.347 sec)\n",
            "INFO:tensorflow:global_step/sec: 288.039\n",
            "INFO:tensorflow:loss = 0.05263479, step = 8901 (0.346 sec)\n",
            "INFO:tensorflow:global_step/sec: 335.9\n",
            "INFO:tensorflow:loss = 0.039519794, step = 9001 (0.297 sec)\n",
            "INFO:tensorflow:global_step/sec: 332.804\n",
            "INFO:tensorflow:loss = 0.040976197, step = 9101 (0.303 sec)\n",
            "INFO:tensorflow:global_step/sec: 294.631\n",
            "INFO:tensorflow:loss = 0.041902047, step = 9201 (0.340 sec)\n",
            "INFO:tensorflow:global_step/sec: 311.085\n",
            "INFO:tensorflow:loss = 0.044929106, step = 9301 (0.318 sec)\n",
            "INFO:tensorflow:global_step/sec: 328.348\n",
            "INFO:tensorflow:loss = 0.039655097, step = 9401 (0.307 sec)\n",
            "INFO:tensorflow:global_step/sec: 301.637\n",
            "INFO:tensorflow:loss = 0.039614975, step = 9501 (0.329 sec)\n",
            "INFO:tensorflow:global_step/sec: 324.576\n",
            "INFO:tensorflow:loss = 0.05097492, step = 9601 (0.308 sec)\n",
            "INFO:tensorflow:global_step/sec: 326.061\n",
            "INFO:tensorflow:loss = 0.03555553, step = 9701 (0.310 sec)\n",
            "INFO:tensorflow:global_step/sec: 293.322\n",
            "INFO:tensorflow:loss = 0.040503748, step = 9801 (0.338 sec)\n",
            "INFO:tensorflow:global_step/sec: 300.724\n",
            "INFO:tensorflow:loss = 0.054343008, step = 9901 (0.334 sec)\n",
            "INFO:tensorflow:Saving checkpoints for 10000 into /tmp/DNN_house_regression_trained_model/model.ckpt.\n",
            "INFO:tensorflow:Loss for final step: 0.042555682.\n",
            "WARNING:tensorflow:float64 is not supported by many models, consider casting to float32.\n",
            "INFO:tensorflow:Graph was finalized.\n",
            "INFO:tensorflow:Restoring parameters from /tmp/DNN_house_regression_trained_model/model.ckpt-10000\n",
            "INFO:tensorflow:Running local_init_op.\n",
            "INFO:tensorflow:Done running local_init_op.\n"
          ],
          "name": "stdout"
        }
      ]
    },
    {
      "cell_type": "code",
      "metadata": {
        "id": "DtKaYYCwLQ7E"
      },
      "source": [
        "preds2_dnn = pd.DataFrame.from_dict(data=preds_dnn)"
      ],
      "execution_count": null,
      "outputs": []
    },
    {
      "cell_type": "markdown",
      "metadata": {
        "id": "qSLKF6ZdJfkq"
      },
      "source": [
        "The mean absolute error, mean squared error, and root mean squared error are calculated out as in the linear model."
      ]
    },
    {
      "cell_type": "code",
      "metadata": {
        "colab": {
          "base_uri": "https://localhost:8080/"
        },
        "id": "cjGYVJsl4VFH",
        "outputId": "668f8b0f-0745-4e93-d42f-caebe5ce2791"
      },
      "source": [
        "print('MAE:', metrics.mean_absolute_error(y_test, preds2_dnn))\r\n",
        "print('MSE:', metrics.mean_squared_error(y_test, preds2_dnn))\r\n",
        "print('RMSE:', np.sqrt(metrics.mean_squared_error(y_test, preds2_dnn)))"
      ],
      "execution_count": null,
      "outputs": [
        {
          "output_type": "stream",
          "text": [
            "MAE: 0.17322841804571\n",
            "MSE: 0.050277245628453995\n",
            "RMSE: 0.2242258808176567\n"
          ],
          "name": "stdout"
        }
      ]
    },
    {
      "cell_type": "markdown",
      "metadata": {
        "id": "WBAz2m05Jwd3"
      },
      "source": [
        "The error rates of the Linear model and the DNN model are compared for accuracy in the table below. \r\n",
        "\r\n",
        "Calculation  | Linear Model Result | DNN Model\r\n",
        "--- | --- | ---\r\n",
        "Mean Absolute Error | 0.69 | 0.17\r\n",
        "Mean Squared Error | 0.54 | 0.05\r\n",
        "Root-Mean Squared Error | 0.73 | 0.22\r\n",
        "\r\n",
        "This table shows that the DNN model has a much smaller error than the linear model and so it is much more accurate in reaching a correct result.\r\n",
        "\r\n",
        "The regression model below shows a much stronger gradient and so a stronger relationship between the result `scores` and actual value of collisions. There is an offset to `scores` which further study and refinment of the data might make the model more accurate, like including the year in with the data. "
      ]
    },
    {
      "cell_type": "code",
      "metadata": {
        "colab": {
          "base_uri": "https://localhost:8080/",
          "height": 350
        },
        "id": "zjS5uzdvLVES",
        "outputId": "6bff2763-1328-49c0-d727-8c297b5ba823"
      },
      "source": [
        "sns.regplot(y_test,preds2_dnn.scores)"
      ],
      "execution_count": null,
      "outputs": [
        {
          "output_type": "stream",
          "text": [
            "/usr/local/lib/python3.6/dist-packages/seaborn/_decorators.py:43: FutureWarning: Pass the following variables as keyword args: x, y. From version 0.12, the only valid positional argument will be `data`, and passing other arguments without an explicit keyword will result in an error or misinterpretation.\n",
            "  FutureWarning\n"
          ],
          "name": "stderr"
        },
        {
          "output_type": "execute_result",
          "data": {
            "text/plain": [
              "<matplotlib.axes._subplots.AxesSubplot at 0x7fa0da88c128>"
            ]
          },
          "metadata": {
            "tags": []
          },
          "execution_count": 34
        },
        {
          "output_type": "display_data",
          "data": {
            "image/png": "[encoded data removed]",
            "text/plain": [
              "<Figure size 432x288 with 1 Axes>"
            ]
          },
          "metadata": {
            "tags": [],
            "needs_background": "light"
          }
        }
      ]
    },
    {
      "cell_type": "markdown",
      "metadata": {
        "id": "qOevXK35MbMh"
      },
      "source": [
        "The test collisions minus the predicted collisions gives a distribution of collisions and gives an idea of how accurate the model is at predicting. The azmith of the distribution sits roughtly above zero, and the distribution curve spans out to about +/- 0.6. \r\n",
        "\r\n",
        "The spread of the curve says the model is consistent with the collision dataset and by the peak of the curve being placed above zero means the model most frequently returns a value similar to the collision target."
      ]
    },
    {
      "cell_type": "code",
      "metadata": {
        "colab": {
          "base_uri": "https://localhost:8080/",
          "height": 386
        },
        "id": "LROqhdPvLVhz",
        "outputId": "7a32a2ea-5144-4bb6-b4be-a0abd99f1c17"
      },
      "source": [
        "sns.displot(y_test.reset_index(drop=True) - preds2_dnn.scores, kind='kde')"
      ],
      "execution_count": null,
      "outputs": [
        {
          "output_type": "execute_result",
          "data": {
            "text/plain": [
              "<seaborn.axisgrid.FacetGrid at 0x7fa0da6d8710>"
            ]
          },
          "metadata": {
            "tags": []
          },
          "execution_count": 35
        },
        {
          "output_type": "display_data",
          "data": {
            "image/png": "[encoded data removed]",
            "text/plain": [
              "<Figure size 360x360 with 1 Axes>"
            ]
          },
          "metadata": {
            "tags": [],
            "needs_background": "light"
          }
        }
      ]
    },
    {
      "cell_type": "code",
      "metadata": {
        "colab": {
          "base_uri": "https://localhost:8080/"
        },
        "id": "IBVMMymDLbM7",
        "outputId": "2cd2ce55-5a03-4c50-d140-b76cc8523d9a"
      },
      "source": [
        "#\"Apr\",\"Aug\",\"Dec\",\"Feb\",\"Jan\",\"Jul\",\"Jun\",\"Mar\",\"May\",\"Nov\",\"Oct\",\"Sep\",\"Fri\",\"Mon\",\"Sat\",\"Sun\",\"Thu\",\"Tue\",\"Wed\",\"year\",\"temp\",\"wdsp\",\"NUM_TRIPS\"\r\n",
        "input_dnn = pd.DataFrame.from_dict(data = \r\n",
        "                {\r\n",
        "                    'temp' : [61.8, 31.2, 77.0],\r\n",
        "                    'slp' : [1023, 1002, 985],\r\n",
        "                    'wdsp' : [5.0, 3.0, 8.0],\r\n",
        "                    'April' : [0,0,0],\r\n",
        "                    'August' : [1,0,0],\r\n",
        "                    'December' : [0,1,0],\r\n",
        "                    'February' : [0,0,1],\r\n",
        "                    'Jananuary' : [0,0,0],\r\n",
        "                    'July' : [0,0,0],\r\n",
        "                    'June' : [0,0,0],\r\n",
        "                    'March' : [0,0,0],\r\n",
        "                    'May' : [0,0,0],\r\n",
        "                    'November' : [0,0,0],\r\n",
        "                    'October' : [0,0,0],\r\n",
        "                    'September' : [0,0,0],\r\n",
        "                    'Friday' : [0,0,0],\r\n",
        "                    'Monday' : [1,1,1],\r\n",
        "                    'Saturday' : [0,0,0],\r\n",
        "                    'Sunday' : [0,0,0],\r\n",
        "                    'Thursday' : [0,0,0],\r\n",
        "                    'Tuesday' : [0,0,0],\r\n",
        "                    'Wednesday' : [0,0,0],\r\n",
        "                })\r\n",
        "\r\n",
        "estimator_dnn = tf.contrib.learn.SKCompat(\r\n",
        "    tf.contrib.learn.DNNRegressor(\r\n",
        "        model_dir='/tmp/DNN_house_regression_trained_model', \r\n",
        "        hidden_units=[20,18,14], \r\n",
        "        enable_centered_bias=False, \r\n",
        "        feature_columns=tf.contrib.learn.infer_real_valued_columns_from_input(\r\n",
        "            input_dnn\r\n",
        "          )\r\n",
        "      )\r\n",
        "  )\r\n",
        "\r\n",
        "preds_dnn = estimator_dnn.predict(x=input_dnn)"
      ],
      "execution_count": null,
      "outputs": [
        {
          "output_type": "stream",
          "text": [
            "WARNING:tensorflow:float64 is not supported by many models, consider casting to float32.\n",
            "INFO:tensorflow:Using default config.\n",
            "INFO:tensorflow:Using config: {'_task_type': None, '_task_id': 0, '_cluster_spec': <tensorflow.python.training.server_lib.ClusterSpec object at 0x7fa0da659208>, '_master': '', '_num_ps_replicas': 0, '_num_worker_replicas': 0, '_environment': 'local', '_is_chief': True, '_evaluation_master': '', '_train_distribute': None, '_eval_distribute': None, '_experimental_max_worker_delay_secs': None, '_device_fn': None, '_tf_config': gpu_options {\n",
            "  per_process_gpu_memory_fraction: 1.0\n",
            "}\n",
            ", '_tf_random_seed': None, '_save_summary_steps': 100, '_save_checkpoints_secs': 600, '_log_step_count_steps': 100, '_protocol': None, '_session_config': None, '_save_checkpoints_steps': None, '_keep_checkpoint_max': 5, '_keep_checkpoint_every_n_hours': 10000, '_model_dir': '/tmp/DNN_house_regression_trained_model', '_session_creation_timeout_secs': 7200}\n",
            "WARNING:tensorflow:float64 is not supported by many models, consider casting to float32.\n",
            "INFO:tensorflow:Graph was finalized.\n",
            "INFO:tensorflow:Restoring parameters from /tmp/DNN_house_regression_trained_model/model.ckpt-10000\n",
            "INFO:tensorflow:Running local_init_op.\n",
            "INFO:tensorflow:Done running local_init_op.\n"
          ],
          "name": "stdout"
        }
      ]
    },
    {
      "cell_type": "markdown",
      "metadata": {
        "id": "Pwe5LAdf7O5x"
      },
      "source": [
        "Using the value of about 700 collisions to be the absolute worst case scenario possible, the normalized values returns can be multiplied to give a prediction of the suspected number of collisions."
      ]
    },
    {
      "cell_type": "code",
      "metadata": {
        "colab": {
          "base_uri": "https://localhost:8080/"
        },
        "id": "s3juJfDu5EFg",
        "outputId": "9b88523f-f3e6-4e77-c9cf-509dd7f38ac8"
      },
      "source": [
        "predslistnorm_dnn = preds_dnn['scores']\r\n",
        "predslistcoll_dnn = preds_dnn['scores']*700\r\n",
        "prednorm_dnn = format(str(predslistnorm_dnn))\r\n",
        "predslistcoll_dnn = format(str(predslistcoll_dnn))\r\n",
        "print(prednorm_dnn)\r\n",
        "print(predslistcoll_dnn)"
      ],
      "execution_count": null,
      "outputs": [
        {
          "output_type": "stream",
          "text": [
            "[0.5391964 0.5415305 1.1730119]\n",
            "[377.43747 379.07135 821.10834]\n"
          ],
          "name": "stdout"
        }
      ]
    },
    {
      "cell_type": "markdown",
      "metadata": {
        "id": "fNQffJaeLg6Z"
      },
      "source": [
        "For the , you can see below, we are in August, Monday. Where the temperature is 61.8F, sea level pressure of 1023 millibars, and a windspeed of 5 knots will predicts about 377 collisions. \r\n",
        "\r\n",
        "In on a Monday in December, with a temparture of 31.2F, sea level pressure of 1002 millibars, and windspeed of 3 knots 379 collisions, and on a Monday in February, where the temperature is 77F, sea level pressure is 985 millibars and windspeed of 8 knots will see 821 collisions. This may be a value in error but it is also unusual to see a temperature of 77F in February, the average temperature in New York in February being about 42F. \r\n",
        "\r\n",
        "## Conclusion\r\n",
        "\r\n",
        "The linear model is a very simple prediction method that looks for linear relationships between the data and the target and then tries to make a best fitting line to fit all the points. The large errors calculated, around 0.5 - 0.7, show how that the model does not perform well in fitting the data. The issue of its large margin of error is due to its inflexible to more complex data, for instance the oscillating seasonality of weather in annual data. \r\n",
        "\r\n",
        "The deep-learning neural network (DNN) creates a more accurate model. Instead of a linear relationship it creates a complex equation to calculate the result. For instance when the month is included with the data and the DNN recognizes seasonality and compensates the weight with the appropriate bias."
      ]
    }
  ]
}